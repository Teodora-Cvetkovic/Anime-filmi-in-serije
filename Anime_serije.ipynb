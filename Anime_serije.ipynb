{
 "cells": [
  {
   "cell_type": "markdown",
   "metadata": {},
   "source": [
    "# Anime serije\n",
    "*Projektna naloga pri predmetu **Programiranje 1** na Fakulteti za matematiko in fiziko*"
   ]
  },
  {
   "cell_type": "markdown",
   "metadata": {},
   "source": [
    "## Priprava podatkov"
   ]
  },
  {
   "cell_type": "markdown",
   "metadata": {},
   "source": [
    "V tej datoteki bom analizirala podatke zbrane v mapi *obdelani-podatki*. Na začetku moram vnesti knjižnico *pandas* in tabele."
   ]
  },
  {
   "cell_type": "code",
   "execution_count": 1,
   "metadata": {},
   "outputs": [],
   "source": [
    "import pandas as pd\n",
    "\n",
    "pd.options.display.max_rows = 50\n",
    "\n",
    "%matplotlib inline\n",
    "\n",
    "animeji = pd.read_csv('C:/Users/teodo/OneDrive/Desktop/T/Programiranje/Anime-filmi-in-serije/obdelani-podatki/animeji.csv')\n",
    "osebe = pd.read_csv('C:/Users/teodo/OneDrive/Desktop/T/Programiranje/Anime-filmi-in-serije/obdelani-podatki/osebe.csv')\n",
    "vloge = pd.read_csv('C:/Users/teodo/OneDrive/Desktop/T/Programiranje/Anime-filmi-in-serije/obdelani-podatki/vloge.csv')\n",
    "zanri = pd.read_csv('C:/Users/teodo/OneDrive/Desktop/T/Programiranje/Anime-filmi-in-serije/obdelani-podatki/zanri.csv')\n",
    "studii = pd.read_csv('C:/Users/teodo/OneDrive/Desktop/T/Programiranje/Anime-filmi-in-serije/obdelani-podatki/studiji.csv')\n",
    "studii_a = pd.read_csv('C:/Users/teodo/OneDrive/Desktop/T/Programiranje/Anime-filmi-in-serije/obdelani-podatki/studiji_po_animejih.csv')"
   ]
  },
  {
   "cell_type": "markdown",
   "metadata": {},
   "source": [
    "Poglejmo si tabele."
   ]
  },
  {
   "cell_type": "code",
   "execution_count": 2,
   "metadata": {},
   "outputs": [
    {
     "data": {
      "text/html": [
       "<div>\n",
       "<style scoped>\n",
       "    .dataframe tbody tr th:only-of-type {\n",
       "        vertical-align: middle;\n",
       "    }\n",
       "\n",
       "    .dataframe tbody tr th {\n",
       "        vertical-align: top;\n",
       "    }\n",
       "\n",
       "    .dataframe thead th {\n",
       "        text-align: right;\n",
       "    }\n",
       "</style>\n",
       "<table border=\"1\" class=\"dataframe\">\n",
       "  <thead>\n",
       "    <tr style=\"text-align: right;\">\n",
       "      <th></th>\n",
       "      <th>id</th>\n",
       "      <th>naslov</th>\n",
       "      <th>sezona</th>\n",
       "      <th>zacetek</th>\n",
       "      <th>konec</th>\n",
       "      <th>vir</th>\n",
       "      <th>epizode</th>\n",
       "      <th>dolzina</th>\n",
       "      <th>stevilo_clenov</th>\n",
       "      <th>najljubsi</th>\n",
       "      <th>ocena</th>\n",
       "      <th>opis</th>\n",
       "      <th>oznaka</th>\n",
       "    </tr>\n",
       "  </thead>\n",
       "  <tbody>\n",
       "    <tr>\n",
       "      <th>0</th>\n",
       "      <td>1535</td>\n",
       "      <td>Death Note</td>\n",
       "      <td>Fall 2006</td>\n",
       "      <td>2006.0</td>\n",
       "      <td>2007.0</td>\n",
       "      <td>Manga</td>\n",
       "      <td>37.0</td>\n",
       "      <td>23.0</td>\n",
       "      <td>2410185</td>\n",
       "      <td>136425</td>\n",
       "      <td>8.63</td>\n",
       "      <td>A shinigami, as a god of death, can kill any p...</td>\n",
       "      <td>R</td>\n",
       "    </tr>\n",
       "    <tr>\n",
       "      <th>1</th>\n",
       "      <td>16498</td>\n",
       "      <td>Shingeki no Kyojin</td>\n",
       "      <td>Spring 2013</td>\n",
       "      <td>2013.0</td>\n",
       "      <td>2013.0</td>\n",
       "      <td>Manga</td>\n",
       "      <td>25.0</td>\n",
       "      <td>24.0</td>\n",
       "      <td>2316411</td>\n",
       "      <td>113878</td>\n",
       "      <td>8.46</td>\n",
       "      <td>Centuries ago, mankind was slaughtered to near...</td>\n",
       "      <td>R</td>\n",
       "    </tr>\n",
       "    <tr>\n",
       "      <th>2</th>\n",
       "      <td>5114</td>\n",
       "      <td>Fullmetal Alchemist: Brotherhood</td>\n",
       "      <td>Spring 2009</td>\n",
       "      <td>2009.0</td>\n",
       "      <td>2010.0</td>\n",
       "      <td>Manga</td>\n",
       "      <td>64.0</td>\n",
       "      <td>24.0</td>\n",
       "      <td>2090273</td>\n",
       "      <td>172608</td>\n",
       "      <td>9.21</td>\n",
       "      <td>&amp;quot;In order for something to be obtained, s...</td>\n",
       "      <td>R</td>\n",
       "    </tr>\n",
       "    <tr>\n",
       "      <th>3</th>\n",
       "      <td>11757</td>\n",
       "      <td>Sword Art Online</td>\n",
       "      <td>Summer 2012</td>\n",
       "      <td>2012.0</td>\n",
       "      <td>2012.0</td>\n",
       "      <td>Light novel</td>\n",
       "      <td>25.0</td>\n",
       "      <td>23.0</td>\n",
       "      <td>2088233</td>\n",
       "      <td>64536</td>\n",
       "      <td>7.28</td>\n",
       "      <td>In the year 2022, virtual reality has progress...</td>\n",
       "      <td>PG-13</td>\n",
       "    </tr>\n",
       "    <tr>\n",
       "      <th>4</th>\n",
       "      <td>30276</td>\n",
       "      <td>One Punch Man</td>\n",
       "      <td>Fall 2015</td>\n",
       "      <td>2015.0</td>\n",
       "      <td>2015.0</td>\n",
       "      <td>Web manga</td>\n",
       "      <td>12.0</td>\n",
       "      <td>24.0</td>\n",
       "      <td>1979366</td>\n",
       "      <td>52089</td>\n",
       "      <td>8.59</td>\n",
       "      <td>The seemingly ordinary and unimpressive Saitam...</td>\n",
       "      <td>R</td>\n",
       "    </tr>\n",
       "    <tr>\n",
       "      <th>...</th>\n",
       "      <td>...</td>\n",
       "      <td>...</td>\n",
       "      <td>...</td>\n",
       "      <td>...</td>\n",
       "      <td>...</td>\n",
       "      <td>...</td>\n",
       "      <td>...</td>\n",
       "      <td>...</td>\n",
       "      <td>...</td>\n",
       "      <td>...</td>\n",
       "      <td>...</td>\n",
       "      <td>...</td>\n",
       "      <td>...</td>\n",
       "    </tr>\n",
       "    <tr>\n",
       "      <th>4242</th>\n",
       "      <td>42263</td>\n",
       "      <td>Konglong Baobei Zhi Longshen Yongshi 2</td>\n",
       "      <td>NaN</td>\n",
       "      <td>2011.0</td>\n",
       "      <td>NaN</td>\n",
       "      <td>Original</td>\n",
       "      <td>52.0</td>\n",
       "      <td>15.0</td>\n",
       "      <td>37</td>\n",
       "      <td>0</td>\n",
       "      <td>NaN</td>\n",
       "      <td>NaN</td>\n",
       "      <td>PG</td>\n",
       "    </tr>\n",
       "    <tr>\n",
       "      <th>4243</th>\n",
       "      <td>42765</td>\n",
       "      <td>Ji Jia Shou Shen</td>\n",
       "      <td>NaN</td>\n",
       "      <td>2010.0</td>\n",
       "      <td>2010.0</td>\n",
       "      <td>Original</td>\n",
       "      <td>26.0</td>\n",
       "      <td>23.0</td>\n",
       "      <td>32</td>\n",
       "      <td>0</td>\n",
       "      <td>NaN</td>\n",
       "      <td>NaN</td>\n",
       "      <td>PG</td>\n",
       "    </tr>\n",
       "    <tr>\n",
       "      <th>4244</th>\n",
       "      <td>42766</td>\n",
       "      <td>Ji Jia Shou Shen 2nd Season</td>\n",
       "      <td>NaN</td>\n",
       "      <td>2011.0</td>\n",
       "      <td>NaN</td>\n",
       "      <td>Original</td>\n",
       "      <td>26.0</td>\n",
       "      <td>23.0</td>\n",
       "      <td>29</td>\n",
       "      <td>0</td>\n",
       "      <td>NaN</td>\n",
       "      <td>NaN</td>\n",
       "      <td>PG</td>\n",
       "    </tr>\n",
       "    <tr>\n",
       "      <th>4245</th>\n",
       "      <td>42852</td>\n",
       "      <td>Little Village People</td>\n",
       "      <td>NaN</td>\n",
       "      <td>2008.0</td>\n",
       "      <td>2008.0</td>\n",
       "      <td>Original</td>\n",
       "      <td>15.0</td>\n",
       "      <td>6.0</td>\n",
       "      <td>22</td>\n",
       "      <td>0</td>\n",
       "      <td>NaN</td>\n",
       "      <td>Set in Penguin Village Hills, one of the most ...</td>\n",
       "      <td>PG-13</td>\n",
       "    </tr>\n",
       "    <tr>\n",
       "      <th>4246</th>\n",
       "      <td>45596</td>\n",
       "      <td>Kindan Joshi</td>\n",
       "      <td>Winter 2021</td>\n",
       "      <td>2020.0</td>\n",
       "      <td>2021.0</td>\n",
       "      <td>Original</td>\n",
       "      <td>5.0</td>\n",
       "      <td>5.0</td>\n",
       "      <td>9</td>\n",
       "      <td>0</td>\n",
       "      <td>NaN</td>\n",
       "      <td>NaN</td>\n",
       "      <td>PG-13</td>\n",
       "    </tr>\n",
       "  </tbody>\n",
       "</table>\n",
       "<p>4247 rows × 13 columns</p>\n",
       "</div>"
      ],
      "text/plain": [
       "         id                                  naslov       sezona  zacetek  \\\n",
       "0      1535                              Death Note    Fall 2006   2006.0   \n",
       "1     16498                      Shingeki no Kyojin  Spring 2013   2013.0   \n",
       "2      5114        Fullmetal Alchemist: Brotherhood  Spring 2009   2009.0   \n",
       "3     11757                        Sword Art Online  Summer 2012   2012.0   \n",
       "4     30276                           One Punch Man    Fall 2015   2015.0   \n",
       "...     ...                                     ...          ...      ...   \n",
       "4242  42263  Konglong Baobei Zhi Longshen Yongshi 2          NaN   2011.0   \n",
       "4243  42765                        Ji Jia Shou Shen          NaN   2010.0   \n",
       "4244  42766             Ji Jia Shou Shen 2nd Season          NaN   2011.0   \n",
       "4245  42852                   Little Village People          NaN   2008.0   \n",
       "4246  45596                            Kindan Joshi  Winter 2021   2020.0   \n",
       "\n",
       "       konec          vir  epizode  dolzina  stevilo_clenov  najljubsi  ocena  \\\n",
       "0     2007.0        Manga     37.0     23.0         2410185     136425   8.63   \n",
       "1     2013.0        Manga     25.0     24.0         2316411     113878   8.46   \n",
       "2     2010.0        Manga     64.0     24.0         2090273     172608   9.21   \n",
       "3     2012.0  Light novel     25.0     23.0         2088233      64536   7.28   \n",
       "4     2015.0    Web manga     12.0     24.0         1979366      52089   8.59   \n",
       "...      ...          ...      ...      ...             ...        ...    ...   \n",
       "4242     NaN     Original     52.0     15.0              37          0    NaN   \n",
       "4243  2010.0     Original     26.0     23.0              32          0    NaN   \n",
       "4244     NaN     Original     26.0     23.0              29          0    NaN   \n",
       "4245  2008.0     Original     15.0      6.0              22          0    NaN   \n",
       "4246  2021.0     Original      5.0      5.0               9          0    NaN   \n",
       "\n",
       "                                                   opis oznaka  \n",
       "0     A shinigami, as a god of death, can kill any p...      R  \n",
       "1     Centuries ago, mankind was slaughtered to near...      R  \n",
       "2     &quot;In order for something to be obtained, s...      R  \n",
       "3     In the year 2022, virtual reality has progress...  PG-13  \n",
       "4     The seemingly ordinary and unimpressive Saitam...      R  \n",
       "...                                                 ...    ...  \n",
       "4242                                                NaN     PG  \n",
       "4243                                                NaN     PG  \n",
       "4244                                                NaN     PG  \n",
       "4245  Set in Penguin Village Hills, one of the most ...  PG-13  \n",
       "4246                                                NaN  PG-13  \n",
       "\n",
       "[4247 rows x 13 columns]"
      ]
     },
     "execution_count": 2,
     "metadata": {},
     "output_type": "execute_result"
    }
   ],
   "source": [
    "animeji"
   ]
  },
  {
   "cell_type": "code",
   "execution_count": 3,
   "metadata": {},
   "outputs": [
    {
     "data": {
      "text/html": [
       "<div>\n",
       "<style scoped>\n",
       "    .dataframe tbody tr th:only-of-type {\n",
       "        vertical-align: middle;\n",
       "    }\n",
       "\n",
       "    .dataframe tbody tr th {\n",
       "        vertical-align: top;\n",
       "    }\n",
       "\n",
       "    .dataframe thead th {\n",
       "        text-align: right;\n",
       "    }\n",
       "</style>\n",
       "<table border=\"1\" class=\"dataframe\">\n",
       "  <thead>\n",
       "    <tr style=\"text-align: right;\">\n",
       "      <th></th>\n",
       "      <th>id</th>\n",
       "      <th>ime</th>\n",
       "    </tr>\n",
       "  </thead>\n",
       "  <tbody>\n",
       "    <tr>\n",
       "      <th>0</th>\n",
       "      <td>67</td>\n",
       "      <td>Yamaguchi, Kappei</td>\n",
       "    </tr>\n",
       "    <tr>\n",
       "      <th>1</th>\n",
       "      <td>65</td>\n",
       "      <td>Miyano, Mamoru</td>\n",
       "    </tr>\n",
       "    <tr>\n",
       "      <th>2</th>\n",
       "      <td>292</td>\n",
       "      <td>Nakamura, Shidou</td>\n",
       "    </tr>\n",
       "    <tr>\n",
       "      <th>3</th>\n",
       "      <td>4</td>\n",
       "      <td>Hirano, Aya</td>\n",
       "    </tr>\n",
       "    <tr>\n",
       "      <th>4</th>\n",
       "      <td>181</td>\n",
       "      <td>Hidaka, Noriko</td>\n",
       "    </tr>\n",
       "    <tr>\n",
       "      <th>...</th>\n",
       "      <td>...</td>\n",
       "      <td>...</td>\n",
       "    </tr>\n",
       "    <tr>\n",
       "      <th>6071</th>\n",
       "      <td>42212</td>\n",
       "      <td>Michiru</td>\n",
       "    </tr>\n",
       "    <tr>\n",
       "      <th>6072</th>\n",
       "      <td>52250</td>\n",
       "      <td>Sakai, Shintarou</td>\n",
       "    </tr>\n",
       "    <tr>\n",
       "      <th>6073</th>\n",
       "      <td>39701</td>\n",
       "      <td>Kohara, Riko</td>\n",
       "    </tr>\n",
       "    <tr>\n",
       "      <th>6074</th>\n",
       "      <td>8545</td>\n",
       "      <td>Kuri, Yoji</td>\n",
       "    </tr>\n",
       "    <tr>\n",
       "      <th>6075</th>\n",
       "      <td>51364</td>\n",
       "      <td>Mori, Aya</td>\n",
       "    </tr>\n",
       "  </tbody>\n",
       "</table>\n",
       "<p>6076 rows × 2 columns</p>\n",
       "</div>"
      ],
      "text/plain": [
       "         id                ime\n",
       "0        67  Yamaguchi, Kappei\n",
       "1        65     Miyano, Mamoru\n",
       "2       292   Nakamura, Shidou\n",
       "3         4        Hirano, Aya\n",
       "4       181     Hidaka, Noriko\n",
       "...     ...                ...\n",
       "6071  42212            Michiru\n",
       "6072  52250   Sakai, Shintarou\n",
       "6073  39701       Kohara, Riko\n",
       "6074   8545         Kuri, Yoji\n",
       "6075  51364          Mori, Aya\n",
       "\n",
       "[6076 rows x 2 columns]"
      ]
     },
     "execution_count": 3,
     "metadata": {},
     "output_type": "execute_result"
    }
   ],
   "source": [
    "osebe"
   ]
  },
  {
   "cell_type": "code",
   "execution_count": 4,
   "metadata": {},
   "outputs": [
    {
     "data": {
      "text/html": [
       "<div>\n",
       "<style scoped>\n",
       "    .dataframe tbody tr th:only-of-type {\n",
       "        vertical-align: middle;\n",
       "    }\n",
       "\n",
       "    .dataframe tbody tr th {\n",
       "        vertical-align: top;\n",
       "    }\n",
       "\n",
       "    .dataframe thead th {\n",
       "        text-align: right;\n",
       "    }\n",
       "</style>\n",
       "<table border=\"1\" class=\"dataframe\">\n",
       "  <thead>\n",
       "    <tr style=\"text-align: right;\">\n",
       "      <th></th>\n",
       "      <th>anime</th>\n",
       "      <th>oseba</th>\n",
       "      <th>vloga</th>\n",
       "    </tr>\n",
       "  </thead>\n",
       "  <tbody>\n",
       "    <tr>\n",
       "      <th>0</th>\n",
       "      <td>1535</td>\n",
       "      <td>67</td>\n",
       "      <td>Main</td>\n",
       "    </tr>\n",
       "    <tr>\n",
       "      <th>1</th>\n",
       "      <td>1535</td>\n",
       "      <td>65</td>\n",
       "      <td>Main</td>\n",
       "    </tr>\n",
       "    <tr>\n",
       "      <th>2</th>\n",
       "      <td>1535</td>\n",
       "      <td>292</td>\n",
       "      <td>Main</td>\n",
       "    </tr>\n",
       "    <tr>\n",
       "      <th>3</th>\n",
       "      <td>1535</td>\n",
       "      <td>4</td>\n",
       "      <td>Supporting</td>\n",
       "    </tr>\n",
       "    <tr>\n",
       "      <th>4</th>\n",
       "      <td>1535</td>\n",
       "      <td>181</td>\n",
       "      <td>Supporting</td>\n",
       "    </tr>\n",
       "    <tr>\n",
       "      <th>...</th>\n",
       "      <td>...</td>\n",
       "      <td>...</td>\n",
       "      <td>...</td>\n",
       "    </tr>\n",
       "    <tr>\n",
       "      <th>41399</th>\n",
       "      <td>39664</td>\n",
       "      <td>39701</td>\n",
       "      <td>Theme Song Performance</td>\n",
       "    </tr>\n",
       "    <tr>\n",
       "      <th>41400</th>\n",
       "      <td>40299</td>\n",
       "      <td>8545</td>\n",
       "      <td>Original Creator</td>\n",
       "    </tr>\n",
       "    <tr>\n",
       "      <th>41401</th>\n",
       "      <td>41776</td>\n",
       "      <td>51364</td>\n",
       "      <td>Color Design</td>\n",
       "    </tr>\n",
       "    <tr>\n",
       "      <th>41402</th>\n",
       "      <td>41777</td>\n",
       "      <td>51364</td>\n",
       "      <td>Color Design</td>\n",
       "    </tr>\n",
       "    <tr>\n",
       "      <th>41403</th>\n",
       "      <td>41778</td>\n",
       "      <td>51364</td>\n",
       "      <td>Color Design</td>\n",
       "    </tr>\n",
       "  </tbody>\n",
       "</table>\n",
       "<p>41404 rows × 3 columns</p>\n",
       "</div>"
      ],
      "text/plain": [
       "       anime  oseba                   vloga\n",
       "0       1535     67                    Main\n",
       "1       1535     65                    Main\n",
       "2       1535    292                    Main\n",
       "3       1535      4              Supporting\n",
       "4       1535    181              Supporting\n",
       "...      ...    ...                     ...\n",
       "41399  39664  39701  Theme Song Performance\n",
       "41400  40299   8545        Original Creator\n",
       "41401  41776  51364            Color Design\n",
       "41402  41777  51364            Color Design\n",
       "41403  41778  51364            Color Design\n",
       "\n",
       "[41404 rows x 3 columns]"
      ]
     },
     "execution_count": 4,
     "metadata": {},
     "output_type": "execute_result"
    }
   ],
   "source": [
    "vloge"
   ]
  },
  {
   "cell_type": "code",
   "execution_count": 5,
   "metadata": {},
   "outputs": [
    {
     "data": {
      "text/html": [
       "<div>\n",
       "<style scoped>\n",
       "    .dataframe tbody tr th:only-of-type {\n",
       "        vertical-align: middle;\n",
       "    }\n",
       "\n",
       "    .dataframe tbody tr th {\n",
       "        vertical-align: top;\n",
       "    }\n",
       "\n",
       "    .dataframe thead th {\n",
       "        text-align: right;\n",
       "    }\n",
       "</style>\n",
       "<table border=\"1\" class=\"dataframe\">\n",
       "  <thead>\n",
       "    <tr style=\"text-align: right;\">\n",
       "      <th></th>\n",
       "      <th>anime</th>\n",
       "      <th>zanr</th>\n",
       "    </tr>\n",
       "  </thead>\n",
       "  <tbody>\n",
       "    <tr>\n",
       "      <th>0</th>\n",
       "      <td>1535</td>\n",
       "      <td>Mystery</td>\n",
       "    </tr>\n",
       "    <tr>\n",
       "      <th>1</th>\n",
       "      <td>1535</td>\n",
       "      <td>Police</td>\n",
       "    </tr>\n",
       "    <tr>\n",
       "      <th>2</th>\n",
       "      <td>1535</td>\n",
       "      <td>Psychological</td>\n",
       "    </tr>\n",
       "    <tr>\n",
       "      <th>3</th>\n",
       "      <td>1535</td>\n",
       "      <td>Supernatural</td>\n",
       "    </tr>\n",
       "    <tr>\n",
       "      <th>4</th>\n",
       "      <td>1535</td>\n",
       "      <td>Thriller</td>\n",
       "    </tr>\n",
       "    <tr>\n",
       "      <th>...</th>\n",
       "      <td>...</td>\n",
       "      <td>...</td>\n",
       "    </tr>\n",
       "    <tr>\n",
       "      <th>14660</th>\n",
       "      <td>42766</td>\n",
       "      <td>Action</td>\n",
       "    </tr>\n",
       "    <tr>\n",
       "      <th>14661</th>\n",
       "      <td>42766</td>\n",
       "      <td>Adventure</td>\n",
       "    </tr>\n",
       "    <tr>\n",
       "      <th>14662</th>\n",
       "      <td>42852</td>\n",
       "      <td>Parody</td>\n",
       "    </tr>\n",
       "    <tr>\n",
       "      <th>14663</th>\n",
       "      <td>45596</td>\n",
       "      <td>Comedy</td>\n",
       "    </tr>\n",
       "    <tr>\n",
       "      <th>14664</th>\n",
       "      <td>45596</td>\n",
       "      <td>Romance</td>\n",
       "    </tr>\n",
       "  </tbody>\n",
       "</table>\n",
       "<p>14665 rows × 2 columns</p>\n",
       "</div>"
      ],
      "text/plain": [
       "       anime           zanr\n",
       "0       1535        Mystery\n",
       "1       1535         Police\n",
       "2       1535  Psychological\n",
       "3       1535   Supernatural\n",
       "4       1535       Thriller\n",
       "...      ...            ...\n",
       "14660  42766         Action\n",
       "14661  42766      Adventure\n",
       "14662  42852         Parody\n",
       "14663  45596         Comedy\n",
       "14664  45596        Romance\n",
       "\n",
       "[14665 rows x 2 columns]"
      ]
     },
     "execution_count": 5,
     "metadata": {},
     "output_type": "execute_result"
    }
   ],
   "source": [
    "zanri"
   ]
  },
  {
   "cell_type": "code",
   "execution_count": 6,
   "metadata": {},
   "outputs": [
    {
     "data": {
      "text/html": [
       "<div>\n",
       "<style scoped>\n",
       "    .dataframe tbody tr th:only-of-type {\n",
       "        vertical-align: middle;\n",
       "    }\n",
       "\n",
       "    .dataframe tbody tr th {\n",
       "        vertical-align: top;\n",
       "    }\n",
       "\n",
       "    .dataframe thead th {\n",
       "        text-align: right;\n",
       "    }\n",
       "</style>\n",
       "<table border=\"1\" class=\"dataframe\">\n",
       "  <thead>\n",
       "    <tr style=\"text-align: right;\">\n",
       "      <th></th>\n",
       "      <th>id_studija</th>\n",
       "      <th>studio</th>\n",
       "    </tr>\n",
       "  </thead>\n",
       "  <tbody>\n",
       "    <tr>\n",
       "      <th>0</th>\n",
       "      <td>11</td>\n",
       "      <td>Madhouse</td>\n",
       "    </tr>\n",
       "    <tr>\n",
       "      <th>1</th>\n",
       "      <td>858</td>\n",
       "      <td>Wit Studio</td>\n",
       "    </tr>\n",
       "    <tr>\n",
       "      <th>2</th>\n",
       "      <td>4</td>\n",
       "      <td>Bones</td>\n",
       "    </tr>\n",
       "    <tr>\n",
       "      <th>3</th>\n",
       "      <td>56</td>\n",
       "      <td>A-1 Pictures</td>\n",
       "    </tr>\n",
       "    <tr>\n",
       "      <th>4</th>\n",
       "      <td>1</td>\n",
       "      <td>Studio Pierrot</td>\n",
       "    </tr>\n",
       "    <tr>\n",
       "      <th>...</th>\n",
       "      <td>...</td>\n",
       "      <td>...</td>\n",
       "    </tr>\n",
       "    <tr>\n",
       "      <th>311</th>\n",
       "      <td>2158</td>\n",
       "      <td>Durufix</td>\n",
       "    </tr>\n",
       "    <tr>\n",
       "      <th>312</th>\n",
       "      <td>1838</td>\n",
       "      <td>33 Collective</td>\n",
       "    </tr>\n",
       "    <tr>\n",
       "      <th>313</th>\n",
       "      <td>370</td>\n",
       "      <td>Iyasakadou Film</td>\n",
       "    </tr>\n",
       "    <tr>\n",
       "      <th>314</th>\n",
       "      <td>2046</td>\n",
       "      <td>Dazzling Star</td>\n",
       "    </tr>\n",
       "    <tr>\n",
       "      <th>315</th>\n",
       "      <td>1939</td>\n",
       "      <td>Alpha Animation</td>\n",
       "    </tr>\n",
       "  </tbody>\n",
       "</table>\n",
       "<p>316 rows × 2 columns</p>\n",
       "</div>"
      ],
      "text/plain": [
       "     id_studija           studio\n",
       "0            11         Madhouse\n",
       "1           858       Wit Studio\n",
       "2             4            Bones\n",
       "3            56     A-1 Pictures\n",
       "4             1   Studio Pierrot\n",
       "..          ...              ...\n",
       "311        2158          Durufix\n",
       "312        1838    33 Collective\n",
       "313         370  Iyasakadou Film\n",
       "314        2046    Dazzling Star\n",
       "315        1939  Alpha Animation\n",
       "\n",
       "[316 rows x 2 columns]"
      ]
     },
     "execution_count": 6,
     "metadata": {},
     "output_type": "execute_result"
    }
   ],
   "source": [
    "studii"
   ]
  },
  {
   "cell_type": "code",
   "execution_count": 7,
   "metadata": {},
   "outputs": [
    {
     "data": {
      "text/html": [
       "<div>\n",
       "<style scoped>\n",
       "    .dataframe tbody tr th:only-of-type {\n",
       "        vertical-align: middle;\n",
       "    }\n",
       "\n",
       "    .dataframe tbody tr th {\n",
       "        vertical-align: top;\n",
       "    }\n",
       "\n",
       "    .dataframe thead th {\n",
       "        text-align: right;\n",
       "    }\n",
       "</style>\n",
       "<table border=\"1\" class=\"dataframe\">\n",
       "  <thead>\n",
       "    <tr style=\"text-align: right;\">\n",
       "      <th></th>\n",
       "      <th>anime</th>\n",
       "      <th>studio</th>\n",
       "    </tr>\n",
       "  </thead>\n",
       "  <tbody>\n",
       "    <tr>\n",
       "      <th>0</th>\n",
       "      <td>1535</td>\n",
       "      <td>11</td>\n",
       "    </tr>\n",
       "    <tr>\n",
       "      <th>1</th>\n",
       "      <td>16498</td>\n",
       "      <td>858</td>\n",
       "    </tr>\n",
       "    <tr>\n",
       "      <th>2</th>\n",
       "      <td>5114</td>\n",
       "      <td>4</td>\n",
       "    </tr>\n",
       "    <tr>\n",
       "      <th>3</th>\n",
       "      <td>11757</td>\n",
       "      <td>56</td>\n",
       "    </tr>\n",
       "    <tr>\n",
       "      <th>4</th>\n",
       "      <td>30276</td>\n",
       "      <td>11</td>\n",
       "    </tr>\n",
       "    <tr>\n",
       "      <th>...</th>\n",
       "      <td>...</td>\n",
       "      <td>...</td>\n",
       "    </tr>\n",
       "    <tr>\n",
       "      <th>3502</th>\n",
       "      <td>42144</td>\n",
       "      <td>2046</td>\n",
       "    </tr>\n",
       "    <tr>\n",
       "      <th>3503</th>\n",
       "      <td>42979</td>\n",
       "      <td>1939</td>\n",
       "    </tr>\n",
       "    <tr>\n",
       "      <th>3504</th>\n",
       "      <td>33431</td>\n",
       "      <td>1292</td>\n",
       "    </tr>\n",
       "    <tr>\n",
       "      <th>3505</th>\n",
       "      <td>42765</td>\n",
       "      <td>2140</td>\n",
       "    </tr>\n",
       "    <tr>\n",
       "      <th>3506</th>\n",
       "      <td>42766</td>\n",
       "      <td>2140</td>\n",
       "    </tr>\n",
       "  </tbody>\n",
       "</table>\n",
       "<p>3507 rows × 2 columns</p>\n",
       "</div>"
      ],
      "text/plain": [
       "      anime  studio\n",
       "0      1535      11\n",
       "1     16498     858\n",
       "2      5114       4\n",
       "3     11757      56\n",
       "4     30276      11\n",
       "...     ...     ...\n",
       "3502  42144    2046\n",
       "3503  42979    1939\n",
       "3504  33431    1292\n",
       "3505  42765    2140\n",
       "3506  42766    2140\n",
       "\n",
       "[3507 rows x 2 columns]"
      ]
     },
     "execution_count": 7,
     "metadata": {},
     "output_type": "execute_result"
    }
   ],
   "source": [
    "studii_a"
   ]
  },
  {
   "cell_type": "markdown",
   "metadata": {},
   "source": [
    "V tabeli *animeji* animeji so razvrščeni po številu členov, tj. uporabnikov spletne strani *MyAnimeList*, kateri so tisti anime pogledali. Torej je najbolj popularen anime *Death Note* z 2,410,185 členov, in je najmanj popularen anime *Kindan Joshi* z samo 9 členov. Stolpec *najljubsi* nam pove, kolikor je uporabnikov spletne strani označilo anime kot najljubši. Stolpec *dolzina* nam pove, koliko dolgo traja ena epizoda animeja v minutah.<br>\n",
    "V tabeli *vloge* so predstavljeni ljudje, ki so delali na animeju. Če v stolpcu *vloge* piše **Main** ali **Supporting**, pomeni, da so posodili glasove junakom animeja.<br>\n",
    "Tabela *studii_a* povezuje animeje in studie. V studiu delajo animatorji, proizvajalci, direktorji; studio najame igralce, kateri bodo posodili glasove jonakom animeja, ipn. Informacija o studiu, kateri dela anime, je zelo pomembna za popularnost animeja, ker gledalci skoraj vedno vejo, kaj lahko pričakujejo, ali bo animacija v redu, ali bo zgodba zanimiva, ipn. Tabela *studii_a* ima manj vrstic kot tabela *animeji*, ker za nekatere animeje informacija o studiu ne obstaja."
   ]
  },
  {
   "cell_type": "markdown",
   "metadata": {},
   "source": [
    "Poglejmo si zdaj 50 in 10 najbolj popularnih animejev."
   ]
  },
  {
   "cell_type": "code",
   "execution_count": 8,
   "metadata": {},
   "outputs": [
    {
     "data": {
      "text/html": [
       "<div>\n",
       "<style scoped>\n",
       "    .dataframe tbody tr th:only-of-type {\n",
       "        vertical-align: middle;\n",
       "    }\n",
       "\n",
       "    .dataframe tbody tr th {\n",
       "        vertical-align: top;\n",
       "    }\n",
       "\n",
       "    .dataframe thead th {\n",
       "        text-align: right;\n",
       "    }\n",
       "</style>\n",
       "<table border=\"1\" class=\"dataframe\">\n",
       "  <thead>\n",
       "    <tr style=\"text-align: right;\">\n",
       "      <th></th>\n",
       "      <th>id</th>\n",
       "      <th>naslov</th>\n",
       "      <th>sezona</th>\n",
       "      <th>zacetek</th>\n",
       "      <th>konec</th>\n",
       "      <th>vir</th>\n",
       "      <th>epizode</th>\n",
       "      <th>dolzina</th>\n",
       "      <th>stevilo_clenov</th>\n",
       "      <th>najljubsi</th>\n",
       "      <th>ocena</th>\n",
       "      <th>opis</th>\n",
       "      <th>oznaka</th>\n",
       "    </tr>\n",
       "  </thead>\n",
       "  <tbody>\n",
       "    <tr>\n",
       "      <th>0</th>\n",
       "      <td>1535</td>\n",
       "      <td>Death Note</td>\n",
       "      <td>Fall 2006</td>\n",
       "      <td>2006.0</td>\n",
       "      <td>2007.0</td>\n",
       "      <td>Manga</td>\n",
       "      <td>37.0</td>\n",
       "      <td>23.0</td>\n",
       "      <td>2410185</td>\n",
       "      <td>136425</td>\n",
       "      <td>8.63</td>\n",
       "      <td>A shinigami, as a god of death, can kill any p...</td>\n",
       "      <td>R</td>\n",
       "    </tr>\n",
       "    <tr>\n",
       "      <th>1</th>\n",
       "      <td>16498</td>\n",
       "      <td>Shingeki no Kyojin</td>\n",
       "      <td>Spring 2013</td>\n",
       "      <td>2013.0</td>\n",
       "      <td>2013.0</td>\n",
       "      <td>Manga</td>\n",
       "      <td>25.0</td>\n",
       "      <td>24.0</td>\n",
       "      <td>2316411</td>\n",
       "      <td>113878</td>\n",
       "      <td>8.46</td>\n",
       "      <td>Centuries ago, mankind was slaughtered to near...</td>\n",
       "      <td>R</td>\n",
       "    </tr>\n",
       "    <tr>\n",
       "      <th>2</th>\n",
       "      <td>5114</td>\n",
       "      <td>Fullmetal Alchemist: Brotherhood</td>\n",
       "      <td>Spring 2009</td>\n",
       "      <td>2009.0</td>\n",
       "      <td>2010.0</td>\n",
       "      <td>Manga</td>\n",
       "      <td>64.0</td>\n",
       "      <td>24.0</td>\n",
       "      <td>2090273</td>\n",
       "      <td>172608</td>\n",
       "      <td>9.21</td>\n",
       "      <td>&amp;quot;In order for something to be obtained, s...</td>\n",
       "      <td>R</td>\n",
       "    </tr>\n",
       "    <tr>\n",
       "      <th>3</th>\n",
       "      <td>11757</td>\n",
       "      <td>Sword Art Online</td>\n",
       "      <td>Summer 2012</td>\n",
       "      <td>2012.0</td>\n",
       "      <td>2012.0</td>\n",
       "      <td>Light novel</td>\n",
       "      <td>25.0</td>\n",
       "      <td>23.0</td>\n",
       "      <td>2088233</td>\n",
       "      <td>64536</td>\n",
       "      <td>7.28</td>\n",
       "      <td>In the year 2022, virtual reality has progress...</td>\n",
       "      <td>PG-13</td>\n",
       "    </tr>\n",
       "    <tr>\n",
       "      <th>4</th>\n",
       "      <td>30276</td>\n",
       "      <td>One Punch Man</td>\n",
       "      <td>Fall 2015</td>\n",
       "      <td>2015.0</td>\n",
       "      <td>2015.0</td>\n",
       "      <td>Web manga</td>\n",
       "      <td>12.0</td>\n",
       "      <td>24.0</td>\n",
       "      <td>1979366</td>\n",
       "      <td>52089</td>\n",
       "      <td>8.59</td>\n",
       "      <td>The seemingly ordinary and unimpressive Saitam...</td>\n",
       "      <td>R</td>\n",
       "    </tr>\n",
       "    <tr>\n",
       "      <th>5</th>\n",
       "      <td>22319</td>\n",
       "      <td>Tokyo Ghoul</td>\n",
       "      <td>Summer 2014</td>\n",
       "      <td>2014.0</td>\n",
       "      <td>2014.0</td>\n",
       "      <td>Manga</td>\n",
       "      <td>12.0</td>\n",
       "      <td>24.0</td>\n",
       "      <td>1765304</td>\n",
       "      <td>42682</td>\n",
       "      <td>7.81</td>\n",
       "      <td>Tokyo has become a cruel and merciless city—a ...</td>\n",
       "      <td>R</td>\n",
       "    </tr>\n",
       "    <tr>\n",
       "      <th>6</th>\n",
       "      <td>31964</td>\n",
       "      <td>Boku no Hero Academia</td>\n",
       "      <td>Spring 2016</td>\n",
       "      <td>2016.0</td>\n",
       "      <td>2016.0</td>\n",
       "      <td>Manga</td>\n",
       "      <td>13.0</td>\n",
       "      <td>24.0</td>\n",
       "      <td>1761362</td>\n",
       "      <td>46516</td>\n",
       "      <td>8.14</td>\n",
       "      <td>The appearance of &amp;quot;quirks,&amp;quot; newly di...</td>\n",
       "      <td>PG-13</td>\n",
       "    </tr>\n",
       "    <tr>\n",
       "      <th>7</th>\n",
       "      <td>20</td>\n",
       "      <td>Naruto</td>\n",
       "      <td>Fall 2002</td>\n",
       "      <td>2002.0</td>\n",
       "      <td>2007.0</td>\n",
       "      <td>Manga</td>\n",
       "      <td>220.0</td>\n",
       "      <td>23.0</td>\n",
       "      <td>1699431</td>\n",
       "      <td>61345</td>\n",
       "      <td>7.90</td>\n",
       "      <td>Moments prior to Naruto Uzumaki&amp;#039;s birth, ...</td>\n",
       "      <td>PG-13</td>\n",
       "    </tr>\n",
       "    <tr>\n",
       "      <th>8</th>\n",
       "      <td>9253</td>\n",
       "      <td>Steins;Gate</td>\n",
       "      <td>Spring 2011</td>\n",
       "      <td>2011.0</td>\n",
       "      <td>2011.0</td>\n",
       "      <td>Visual novel</td>\n",
       "      <td>24.0</td>\n",
       "      <td>24.0</td>\n",
       "      <td>1681837</td>\n",
       "      <td>143451</td>\n",
       "      <td>9.12</td>\n",
       "      <td>The self-proclaimed mad scientist Rintarou Oka...</td>\n",
       "      <td>PG-13</td>\n",
       "    </tr>\n",
       "    <tr>\n",
       "      <th>9</th>\n",
       "      <td>11061</td>\n",
       "      <td>Hunter x Hunter (2011)</td>\n",
       "      <td>Fall 2011</td>\n",
       "      <td>2011.0</td>\n",
       "      <td>2014.0</td>\n",
       "      <td>Manga</td>\n",
       "      <td>148.0</td>\n",
       "      <td>23.0</td>\n",
       "      <td>1529228</td>\n",
       "      <td>136870</td>\n",
       "      <td>9.11</td>\n",
       "      <td>Hunter x Hunter is set in a world where Hunter...</td>\n",
       "      <td>PG-13</td>\n",
       "    </tr>\n",
       "    <tr>\n",
       "      <th>10</th>\n",
       "      <td>6547</td>\n",
       "      <td>Angel Beats!</td>\n",
       "      <td>Spring 2010</td>\n",
       "      <td>2010.0</td>\n",
       "      <td>2010.0</td>\n",
       "      <td>Original</td>\n",
       "      <td>13.0</td>\n",
       "      <td>24.0</td>\n",
       "      <td>1515002</td>\n",
       "      <td>45459</td>\n",
       "      <td>8.17</td>\n",
       "      <td>Otonashi awakens only to learn he is dead. A r...</td>\n",
       "      <td>PG-13</td>\n",
       "    </tr>\n",
       "    <tr>\n",
       "      <th>11</th>\n",
       "      <td>1575</td>\n",
       "      <td>Code Geass: Hangyaku no Lelouch</td>\n",
       "      <td>Fall 2006</td>\n",
       "      <td>2006.0</td>\n",
       "      <td>2007.0</td>\n",
       "      <td>Original</td>\n",
       "      <td>25.0</td>\n",
       "      <td>24.0</td>\n",
       "      <td>1505432</td>\n",
       "      <td>87564</td>\n",
       "      <td>8.72</td>\n",
       "      <td>In the year 2010, the Holy Empire of Britannia...</td>\n",
       "      <td>R</td>\n",
       "    </tr>\n",
       "    <tr>\n",
       "      <th>12</th>\n",
       "      <td>33486</td>\n",
       "      <td>Boku no Hero Academia 2nd Season</td>\n",
       "      <td>Spring 2017</td>\n",
       "      <td>2017.0</td>\n",
       "      <td>2017.0</td>\n",
       "      <td>Manga</td>\n",
       "      <td>25.0</td>\n",
       "      <td>23.0</td>\n",
       "      <td>1486707</td>\n",
       "      <td>18343</td>\n",
       "      <td>8.37</td>\n",
       "      <td>At UA Academy, not even a violent attack can d...</td>\n",
       "      <td>PG-13</td>\n",
       "    </tr>\n",
       "    <tr>\n",
       "      <th>13</th>\n",
       "      <td>4224</td>\n",
       "      <td>Toradora!</td>\n",
       "      <td>Fall 2008</td>\n",
       "      <td>2008.0</td>\n",
       "      <td>2009.0</td>\n",
       "      <td>Light novel</td>\n",
       "      <td>25.0</td>\n",
       "      <td>24.0</td>\n",
       "      <td>1465022</td>\n",
       "      <td>48873</td>\n",
       "      <td>8.26</td>\n",
       "      <td>Ryuuji Takasu is a gentle high school student ...</td>\n",
       "      <td>PG-13</td>\n",
       "    </tr>\n",
       "    <tr>\n",
       "      <th>14</th>\n",
       "      <td>10620</td>\n",
       "      <td>Mirai Nikki</td>\n",
       "      <td>Fall 2011</td>\n",
       "      <td>2011.0</td>\n",
       "      <td>2012.0</td>\n",
       "      <td>Manga</td>\n",
       "      <td>26.0</td>\n",
       "      <td>23.0</td>\n",
       "      <td>1459894</td>\n",
       "      <td>28871</td>\n",
       "      <td>7.57</td>\n",
       "      <td>Lonely high school student, Yukiteru Amano, sp...</td>\n",
       "      <td>R+</td>\n",
       "    </tr>\n",
       "    <tr>\n",
       "      <th>15</th>\n",
       "      <td>20507</td>\n",
       "      <td>Noragami</td>\n",
       "      <td>Winter 2014</td>\n",
       "      <td>2014.0</td>\n",
       "      <td>2014.0</td>\n",
       "      <td>Manga</td>\n",
       "      <td>12.0</td>\n",
       "      <td>24.0</td>\n",
       "      <td>1446525</td>\n",
       "      <td>28009</td>\n",
       "      <td>8.02</td>\n",
       "      <td>In times of need, if you look in the right pla...</td>\n",
       "      <td>PG-13</td>\n",
       "    </tr>\n",
       "    <tr>\n",
       "      <th>16</th>\n",
       "      <td>1735</td>\n",
       "      <td>Naruto: Shippuuden</td>\n",
       "      <td>Winter 2007</td>\n",
       "      <td>2007.0</td>\n",
       "      <td>2017.0</td>\n",
       "      <td>Manga</td>\n",
       "      <td>500.0</td>\n",
       "      <td>23.0</td>\n",
       "      <td>1419619</td>\n",
       "      <td>77701</td>\n",
       "      <td>8.16</td>\n",
       "      <td>It has been two and a half years since Naruto ...</td>\n",
       "      <td>PG-13</td>\n",
       "    </tr>\n",
       "    <tr>\n",
       "      <th>17</th>\n",
       "      <td>25777</td>\n",
       "      <td>Shingeki no Kyojin Season 2</td>\n",
       "      <td>Spring 2017</td>\n",
       "      <td>2017.0</td>\n",
       "      <td>2017.0</td>\n",
       "      <td>Manga</td>\n",
       "      <td>12.0</td>\n",
       "      <td>24.0</td>\n",
       "      <td>1414760</td>\n",
       "      <td>15382</td>\n",
       "      <td>8.42</td>\n",
       "      <td>For centuries, humanity has been hunted by gia...</td>\n",
       "      <td>R</td>\n",
       "    </tr>\n",
       "    <tr>\n",
       "      <th>18</th>\n",
       "      <td>31240</td>\n",
       "      <td>Re:Zero kara Hajimeru Isekai Seikatsu</td>\n",
       "      <td>Spring 2016</td>\n",
       "      <td>2016.0</td>\n",
       "      <td>2016.0</td>\n",
       "      <td>Light novel</td>\n",
       "      <td>25.0</td>\n",
       "      <td>25.0</td>\n",
       "      <td>1387049</td>\n",
       "      <td>49581</td>\n",
       "      <td>8.30</td>\n",
       "      <td>When Subaru Natsuki leaves the convenience sto...</td>\n",
       "      <td>R</td>\n",
       "    </tr>\n",
       "    <tr>\n",
       "      <th>19</th>\n",
       "      <td>21881</td>\n",
       "      <td>Sword Art Online II</td>\n",
       "      <td>Summer 2014</td>\n",
       "      <td>2014.0</td>\n",
       "      <td>2014.0</td>\n",
       "      <td>Light novel</td>\n",
       "      <td>24.0</td>\n",
       "      <td>23.0</td>\n",
       "      <td>1355398</td>\n",
       "      <td>10099</td>\n",
       "      <td>6.83</td>\n",
       "      <td>A year after escaping Sword Art Online, Kazuto...</td>\n",
       "      <td>PG-13</td>\n",
       "    </tr>\n",
       "    <tr>\n",
       "      <th>20</th>\n",
       "      <td>9919</td>\n",
       "      <td>Ao no Exorcist</td>\n",
       "      <td>Spring 2011</td>\n",
       "      <td>2011.0</td>\n",
       "      <td>2011.0</td>\n",
       "      <td>Manga</td>\n",
       "      <td>25.0</td>\n",
       "      <td>24.0</td>\n",
       "      <td>1342611</td>\n",
       "      <td>16397</td>\n",
       "      <td>7.61</td>\n",
       "      <td>Humans and demons are two sides of the same co...</td>\n",
       "      <td>PG-13</td>\n",
       "    </tr>\n",
       "    <tr>\n",
       "      <th>21</th>\n",
       "      <td>23273</td>\n",
       "      <td>Shigatsu wa Kimi no Uso</td>\n",
       "      <td>Fall 2014</td>\n",
       "      <td>2014.0</td>\n",
       "      <td>2015.0</td>\n",
       "      <td>Manga</td>\n",
       "      <td>22.0</td>\n",
       "      <td>22.0</td>\n",
       "      <td>1342403</td>\n",
       "      <td>66565</td>\n",
       "      <td>8.76</td>\n",
       "      <td>Music accompanies the path of the human metron...</td>\n",
       "      <td>PG-13</td>\n",
       "    </tr>\n",
       "    <tr>\n",
       "      <th>22</th>\n",
       "      <td>22199</td>\n",
       "      <td>Akame ga Kill!</td>\n",
       "      <td>Summer 2014</td>\n",
       "      <td>2014.0</td>\n",
       "      <td>2014.0</td>\n",
       "      <td>Manga</td>\n",
       "      <td>24.0</td>\n",
       "      <td>23.0</td>\n",
       "      <td>1320022</td>\n",
       "      <td>22227</td>\n",
       "      <td>7.56</td>\n",
       "      <td>Night Raid is the covert assassination branch ...</td>\n",
       "      <td>R</td>\n",
       "    </tr>\n",
       "    <tr>\n",
       "      <th>23</th>\n",
       "      <td>31043</td>\n",
       "      <td>Boku dake ga Inai Machi</td>\n",
       "      <td>Winter 2016</td>\n",
       "      <td>2016.0</td>\n",
       "      <td>2016.0</td>\n",
       "      <td>Manga</td>\n",
       "      <td>12.0</td>\n",
       "      <td>23.0</td>\n",
       "      <td>1270904</td>\n",
       "      <td>35144</td>\n",
       "      <td>8.39</td>\n",
       "      <td>When tragedy is about to strike, Satoru Fujinu...</td>\n",
       "      <td>R</td>\n",
       "    </tr>\n",
       "    <tr>\n",
       "      <th>24</th>\n",
       "      <td>6702</td>\n",
       "      <td>Fairy Tail</td>\n",
       "      <td>Fall 2009</td>\n",
       "      <td>2009.0</td>\n",
       "      <td>2013.0</td>\n",
       "      <td>Manga</td>\n",
       "      <td>175.0</td>\n",
       "      <td>24.0</td>\n",
       "      <td>1254179</td>\n",
       "      <td>45760</td>\n",
       "      <td>7.71</td>\n",
       "      <td>In the mystical land of Fiore, magic exists as...</td>\n",
       "      <td>PG-13</td>\n",
       "    </tr>\n",
       "    <tr>\n",
       "      <th>25</th>\n",
       "      <td>38000</td>\n",
       "      <td>Kimetsu no Yaiba</td>\n",
       "      <td>Spring 2019</td>\n",
       "      <td>2019.0</td>\n",
       "      <td>2019.0</td>\n",
       "      <td>Manga</td>\n",
       "      <td>26.0</td>\n",
       "      <td>23.0</td>\n",
       "      <td>1235666</td>\n",
       "      <td>44349</td>\n",
       "      <td>8.65</td>\n",
       "      <td>Ever since the death of his father, the burden...</td>\n",
       "      <td>R</td>\n",
       "    </tr>\n",
       "    <tr>\n",
       "      <th>26</th>\n",
       "      <td>269</td>\n",
       "      <td>Bleach</td>\n",
       "      <td>Fall 2004</td>\n",
       "      <td>2004.0</td>\n",
       "      <td>2012.0</td>\n",
       "      <td>Manga</td>\n",
       "      <td>366.0</td>\n",
       "      <td>24.0</td>\n",
       "      <td>1222959</td>\n",
       "      <td>52420</td>\n",
       "      <td>7.80</td>\n",
       "      <td>Ichigo Kurosaki is an ordinary high schooler—u...</td>\n",
       "      <td>PG-13</td>\n",
       "    </tr>\n",
       "    <tr>\n",
       "      <th>27</th>\n",
       "      <td>36456</td>\n",
       "      <td>Boku no Hero Academia 3rd Season</td>\n",
       "      <td>Spring 2018</td>\n",
       "      <td>2018.0</td>\n",
       "      <td>2018.0</td>\n",
       "      <td>Manga</td>\n",
       "      <td>25.0</td>\n",
       "      <td>23.0</td>\n",
       "      <td>1220562</td>\n",
       "      <td>13090</td>\n",
       "      <td>8.30</td>\n",
       "      <td>As summer arrives for the students at UA Acade...</td>\n",
       "      <td>PG-13</td>\n",
       "    </tr>\n",
       "    <tr>\n",
       "      <th>28</th>\n",
       "      <td>2904</td>\n",
       "      <td>Code Geass: Hangyaku no Lelouch R2</td>\n",
       "      <td>Spring 2008</td>\n",
       "      <td>2008.0</td>\n",
       "      <td>2008.0</td>\n",
       "      <td>Original</td>\n",
       "      <td>25.0</td>\n",
       "      <td>24.0</td>\n",
       "      <td>1206854</td>\n",
       "      <td>62031</td>\n",
       "      <td>8.91</td>\n",
       "      <td>One year has passed since the Black Rebellion,...</td>\n",
       "      <td>R</td>\n",
       "    </tr>\n",
       "    <tr>\n",
       "      <th>29</th>\n",
       "      <td>30831</td>\n",
       "      <td>Kono Subarashii Sekai ni Shukufuku wo!</td>\n",
       "      <td>Winter 2016</td>\n",
       "      <td>2016.0</td>\n",
       "      <td>2016.0</td>\n",
       "      <td>Light novel</td>\n",
       "      <td>10.0</td>\n",
       "      <td>23.0</td>\n",
       "      <td>1198907</td>\n",
       "      <td>32985</td>\n",
       "      <td>8.16</td>\n",
       "      <td>After dying a laughable and pathetic death on ...</td>\n",
       "      <td>PG-13</td>\n",
       "    </tr>\n",
       "    <tr>\n",
       "      <th>30</th>\n",
       "      <td>1</td>\n",
       "      <td>Cowboy Bebop</td>\n",
       "      <td>Spring 1998</td>\n",
       "      <td>1998.0</td>\n",
       "      <td>1999.0</td>\n",
       "      <td>Original</td>\n",
       "      <td>26.0</td>\n",
       "      <td>24.0</td>\n",
       "      <td>1176190</td>\n",
       "      <td>59162</td>\n",
       "      <td>8.79</td>\n",
       "      <td>In the year 2071, humanity has colonized sever...</td>\n",
       "      <td>R</td>\n",
       "    </tr>\n",
       "    <tr>\n",
       "      <th>31</th>\n",
       "      <td>22535</td>\n",
       "      <td>Kiseijuu: Sei no Kakuritsu</td>\n",
       "      <td>Fall 2014</td>\n",
       "      <td>2014.0</td>\n",
       "      <td>2015.0</td>\n",
       "      <td>Manga</td>\n",
       "      <td>24.0</td>\n",
       "      <td>23.0</td>\n",
       "      <td>1172868</td>\n",
       "      <td>25229</td>\n",
       "      <td>8.41</td>\n",
       "      <td>All of a sudden, they arrived: parasitic alien...</td>\n",
       "      <td>R</td>\n",
       "    </tr>\n",
       "    <tr>\n",
       "      <th>32</th>\n",
       "      <td>3588</td>\n",
       "      <td>Soul Eater</td>\n",
       "      <td>Spring 2008</td>\n",
       "      <td>2008.0</td>\n",
       "      <td>2009.0</td>\n",
       "      <td>Manga</td>\n",
       "      <td>51.0</td>\n",
       "      <td>24.0</td>\n",
       "      <td>1168461</td>\n",
       "      <td>23130</td>\n",
       "      <td>7.89</td>\n",
       "      <td>Death City is home to the famous Death Weapon ...</td>\n",
       "      <td>PG-13</td>\n",
       "    </tr>\n",
       "    <tr>\n",
       "      <th>33</th>\n",
       "      <td>2001</td>\n",
       "      <td>Tengen Toppa Gurren Lagann</td>\n",
       "      <td>Spring 2007</td>\n",
       "      <td>2007.0</td>\n",
       "      <td>2007.0</td>\n",
       "      <td>Original</td>\n",
       "      <td>27.0</td>\n",
       "      <td>24.0</td>\n",
       "      <td>1168282</td>\n",
       "      <td>66348</td>\n",
       "      <td>8.67</td>\n",
       "      <td>Simon and Kamina were born and raised in a dee...</td>\n",
       "      <td>PG-13</td>\n",
       "    </tr>\n",
       "    <tr>\n",
       "      <th>34</th>\n",
       "      <td>13601</td>\n",
       "      <td>Psycho-Pass</td>\n",
       "      <td>Fall 2012</td>\n",
       "      <td>2012.0</td>\n",
       "      <td>2013.0</td>\n",
       "      <td>Original</td>\n",
       "      <td>22.0</td>\n",
       "      <td>23.0</td>\n",
       "      <td>1162866</td>\n",
       "      <td>33763</td>\n",
       "      <td>8.39</td>\n",
       "      <td>Justice, and the enforcement of it, has change...</td>\n",
       "      <td>R</td>\n",
       "    </tr>\n",
       "    <tr>\n",
       "      <th>35</th>\n",
       "      <td>11111</td>\n",
       "      <td>Another</td>\n",
       "      <td>Winter 2012</td>\n",
       "      <td>2012.0</td>\n",
       "      <td>2012.0</td>\n",
       "      <td>Light novel</td>\n",
       "      <td>12.0</td>\n",
       "      <td>24.0</td>\n",
       "      <td>1159794</td>\n",
       "      <td>15079</td>\n",
       "      <td>7.57</td>\n",
       "      <td>In 1972, a popular student in Yomiyama North M...</td>\n",
       "      <td>R</td>\n",
       "    </tr>\n",
       "    <tr>\n",
       "      <th>36</th>\n",
       "      <td>24833</td>\n",
       "      <td>Ansatsu Kyoushitsu</td>\n",
       "      <td>Winter 2015</td>\n",
       "      <td>2015.0</td>\n",
       "      <td>2015.0</td>\n",
       "      <td>Manga</td>\n",
       "      <td>22.0</td>\n",
       "      <td>23.0</td>\n",
       "      <td>1159105</td>\n",
       "      <td>20397</td>\n",
       "      <td>8.13</td>\n",
       "      <td>When a mysterious creature chops the moon down...</td>\n",
       "      <td>PG-13</td>\n",
       "    </tr>\n",
       "    <tr>\n",
       "      <th>37</th>\n",
       "      <td>27899</td>\n",
       "      <td>Tokyo Ghoul √A</td>\n",
       "      <td>Winter 2015</td>\n",
       "      <td>2015.0</td>\n",
       "      <td>2015.0</td>\n",
       "      <td>Manga</td>\n",
       "      <td>12.0</td>\n",
       "      <td>24.0</td>\n",
       "      <td>1156651</td>\n",
       "      <td>10574</td>\n",
       "      <td>7.09</td>\n",
       "      <td>Ken Kaneki has finally come to accept the mons...</td>\n",
       "      <td>R</td>\n",
       "    </tr>\n",
       "    <tr>\n",
       "      <th>38</th>\n",
       "      <td>32182</td>\n",
       "      <td>Mob Psycho 100</td>\n",
       "      <td>Summer 2016</td>\n",
       "      <td>2016.0</td>\n",
       "      <td>2016.0</td>\n",
       "      <td>Web manga</td>\n",
       "      <td>12.0</td>\n",
       "      <td>24.0</td>\n",
       "      <td>1156412</td>\n",
       "      <td>25598</td>\n",
       "      <td>8.49</td>\n",
       "      <td>Eighth-grader Shigeo &amp;quot;Mob&amp;quot; Kageyama ...</td>\n",
       "      <td>PG-13</td>\n",
       "    </tr>\n",
       "    <tr>\n",
       "      <th>39</th>\n",
       "      <td>226</td>\n",
       "      <td>Elfen Lied</td>\n",
       "      <td>Summer 2004</td>\n",
       "      <td>2004.0</td>\n",
       "      <td>2004.0</td>\n",
       "      <td>Manga</td>\n",
       "      <td>13.0</td>\n",
       "      <td>25.0</td>\n",
       "      <td>1147146</td>\n",
       "      <td>23454</td>\n",
       "      <td>7.58</td>\n",
       "      <td>Lucy is a special breed of human referred to a...</td>\n",
       "      <td>R+</td>\n",
       "    </tr>\n",
       "    <tr>\n",
       "      <th>40</th>\n",
       "      <td>28223</td>\n",
       "      <td>Death Parade</td>\n",
       "      <td>Winter 2015</td>\n",
       "      <td>2015.0</td>\n",
       "      <td>2015.0</td>\n",
       "      <td>Original</td>\n",
       "      <td>12.0</td>\n",
       "      <td>23.0</td>\n",
       "      <td>1134490</td>\n",
       "      <td>21064</td>\n",
       "      <td>8.21</td>\n",
       "      <td>After death, there is no heaven or hell, only ...</td>\n",
       "      <td>R</td>\n",
       "    </tr>\n",
       "    <tr>\n",
       "      <th>41</th>\n",
       "      <td>121</td>\n",
       "      <td>Fullmetal Alchemist</td>\n",
       "      <td>Fall 2003</td>\n",
       "      <td>2003.0</td>\n",
       "      <td>2004.0</td>\n",
       "      <td>Manga</td>\n",
       "      <td>51.0</td>\n",
       "      <td>24.0</td>\n",
       "      <td>1109876</td>\n",
       "      <td>26052</td>\n",
       "      <td>8.18</td>\n",
       "      <td>Edward Elric, a young, brilliant alchemist, ha...</td>\n",
       "      <td>PG-13</td>\n",
       "    </tr>\n",
       "    <tr>\n",
       "      <th>42</th>\n",
       "      <td>9989</td>\n",
       "      <td>Ano Hi Mita Hana no Namae wo Bokutachi wa Mada...</td>\n",
       "      <td>Spring 2011</td>\n",
       "      <td>2011.0</td>\n",
       "      <td>2011.0</td>\n",
       "      <td>Original</td>\n",
       "      <td>11.0</td>\n",
       "      <td>22.0</td>\n",
       "      <td>1092553</td>\n",
       "      <td>29464</td>\n",
       "      <td>8.44</td>\n",
       "      <td>Jinta Yadomi is peacefully living as a recluse...</td>\n",
       "      <td>PG-13</td>\n",
       "    </tr>\n",
       "    <tr>\n",
       "      <th>43</th>\n",
       "      <td>30</td>\n",
       "      <td>Neon Genesis Evangelion</td>\n",
       "      <td>Fall 1995</td>\n",
       "      <td>1995.0</td>\n",
       "      <td>1996.0</td>\n",
       "      <td>Original</td>\n",
       "      <td>26.0</td>\n",
       "      <td>24.0</td>\n",
       "      <td>1079668</td>\n",
       "      <td>66826</td>\n",
       "      <td>8.31</td>\n",
       "      <td>In the year 2015, the world stands on the brin...</td>\n",
       "      <td>PG-13</td>\n",
       "    </tr>\n",
       "    <tr>\n",
       "      <th>44</th>\n",
       "      <td>20583</td>\n",
       "      <td>Haikyuu!!</td>\n",
       "      <td>Spring 2014</td>\n",
       "      <td>2014.0</td>\n",
       "      <td>2014.0</td>\n",
       "      <td>Manga</td>\n",
       "      <td>25.0</td>\n",
       "      <td>24.0</td>\n",
       "      <td>1072073</td>\n",
       "      <td>50537</td>\n",
       "      <td>8.56</td>\n",
       "      <td>Inspired after watching a volleyball ace nickn...</td>\n",
       "      <td>PG-13</td>\n",
       "    </tr>\n",
       "    <tr>\n",
       "      <th>45</th>\n",
       "      <td>6746</td>\n",
       "      <td>Durarara!!</td>\n",
       "      <td>Winter 2010</td>\n",
       "      <td>2010.0</td>\n",
       "      <td>2010.0</td>\n",
       "      <td>Light novel</td>\n",
       "      <td>24.0</td>\n",
       "      <td>24.0</td>\n",
       "      <td>1067100</td>\n",
       "      <td>29306</td>\n",
       "      <td>8.19</td>\n",
       "      <td>In Tokyo&amp;#039;s downtown district of Ikebukuro...</td>\n",
       "      <td>R</td>\n",
       "    </tr>\n",
       "    <tr>\n",
       "      <th>46</th>\n",
       "      <td>2167</td>\n",
       "      <td>Clannad</td>\n",
       "      <td>Fall 2007</td>\n",
       "      <td>2007.0</td>\n",
       "      <td>2008.0</td>\n",
       "      <td>Visual novel</td>\n",
       "      <td>23.0</td>\n",
       "      <td>24.0</td>\n",
       "      <td>1051129</td>\n",
       "      <td>26847</td>\n",
       "      <td>8.08</td>\n",
       "      <td>Tomoya Okazaki is a delinquent who finds life ...</td>\n",
       "      <td>PG-13</td>\n",
       "    </tr>\n",
       "    <tr>\n",
       "      <th>47</th>\n",
       "      <td>35760</td>\n",
       "      <td>Shingeki no Kyojin Season 3</td>\n",
       "      <td>Summer 2018</td>\n",
       "      <td>2018.0</td>\n",
       "      <td>2018.0</td>\n",
       "      <td>Manga</td>\n",
       "      <td>12.0</td>\n",
       "      <td>23.0</td>\n",
       "      <td>1044111</td>\n",
       "      <td>11926</td>\n",
       "      <td>8.56</td>\n",
       "      <td>Still threatened by the &amp;quot;Titans&amp;quot; tha...</td>\n",
       "      <td>R</td>\n",
       "    </tr>\n",
       "    <tr>\n",
       "      <th>48</th>\n",
       "      <td>10087</td>\n",
       "      <td>Fate/Zero</td>\n",
       "      <td>Fall 2011</td>\n",
       "      <td>2011.0</td>\n",
       "      <td>2011.0</td>\n",
       "      <td>Light novel</td>\n",
       "      <td>13.0</td>\n",
       "      <td>28.0</td>\n",
       "      <td>1037570</td>\n",
       "      <td>29280</td>\n",
       "      <td>8.35</td>\n",
       "      <td>With the promise of granting any wish, the omn...</td>\n",
       "      <td>R</td>\n",
       "    </tr>\n",
       "    <tr>\n",
       "      <th>49</th>\n",
       "      <td>28121</td>\n",
       "      <td>Dungeon ni Deai wo Motomeru no wa Machigatteir...</td>\n",
       "      <td>Spring 2015</td>\n",
       "      <td>2015.0</td>\n",
       "      <td>2015.0</td>\n",
       "      <td>Light novel</td>\n",
       "      <td>13.0</td>\n",
       "      <td>24.0</td>\n",
       "      <td>1020776</td>\n",
       "      <td>9947</td>\n",
       "      <td>7.66</td>\n",
       "      <td>Life in the bustling city of Orario is never d...</td>\n",
       "      <td>PG-13</td>\n",
       "    </tr>\n",
       "  </tbody>\n",
       "</table>\n",
       "</div>"
      ],
      "text/plain": [
       "       id                                             naslov       sezona  \\\n",
       "0    1535                                         Death Note    Fall 2006   \n",
       "1   16498                                 Shingeki no Kyojin  Spring 2013   \n",
       "2    5114                   Fullmetal Alchemist: Brotherhood  Spring 2009   \n",
       "3   11757                                   Sword Art Online  Summer 2012   \n",
       "4   30276                                      One Punch Man    Fall 2015   \n",
       "5   22319                                        Tokyo Ghoul  Summer 2014   \n",
       "6   31964                              Boku no Hero Academia  Spring 2016   \n",
       "7      20                                             Naruto    Fall 2002   \n",
       "8    9253                                        Steins;Gate  Spring 2011   \n",
       "9   11061                             Hunter x Hunter (2011)    Fall 2011   \n",
       "10   6547                                       Angel Beats!  Spring 2010   \n",
       "11   1575                    Code Geass: Hangyaku no Lelouch    Fall 2006   \n",
       "12  33486                   Boku no Hero Academia 2nd Season  Spring 2017   \n",
       "13   4224                                          Toradora!    Fall 2008   \n",
       "14  10620                                        Mirai Nikki    Fall 2011   \n",
       "15  20507                                           Noragami  Winter 2014   \n",
       "16   1735                                 Naruto: Shippuuden  Winter 2007   \n",
       "17  25777                        Shingeki no Kyojin Season 2  Spring 2017   \n",
       "18  31240              Re:Zero kara Hajimeru Isekai Seikatsu  Spring 2016   \n",
       "19  21881                                Sword Art Online II  Summer 2014   \n",
       "20   9919                                     Ao no Exorcist  Spring 2011   \n",
       "21  23273                            Shigatsu wa Kimi no Uso    Fall 2014   \n",
       "22  22199                                     Akame ga Kill!  Summer 2014   \n",
       "23  31043                            Boku dake ga Inai Machi  Winter 2016   \n",
       "24   6702                                         Fairy Tail    Fall 2009   \n",
       "25  38000                                   Kimetsu no Yaiba  Spring 2019   \n",
       "26    269                                             Bleach    Fall 2004   \n",
       "27  36456                   Boku no Hero Academia 3rd Season  Spring 2018   \n",
       "28   2904                 Code Geass: Hangyaku no Lelouch R2  Spring 2008   \n",
       "29  30831             Kono Subarashii Sekai ni Shukufuku wo!  Winter 2016   \n",
       "30      1                                       Cowboy Bebop  Spring 1998   \n",
       "31  22535                         Kiseijuu: Sei no Kakuritsu    Fall 2014   \n",
       "32   3588                                         Soul Eater  Spring 2008   \n",
       "33   2001                         Tengen Toppa Gurren Lagann  Spring 2007   \n",
       "34  13601                                        Psycho-Pass    Fall 2012   \n",
       "35  11111                                            Another  Winter 2012   \n",
       "36  24833                                 Ansatsu Kyoushitsu  Winter 2015   \n",
       "37  27899                                     Tokyo Ghoul √A  Winter 2015   \n",
       "38  32182                                     Mob Psycho 100  Summer 2016   \n",
       "39    226                                         Elfen Lied  Summer 2004   \n",
       "40  28223                                       Death Parade  Winter 2015   \n",
       "41    121                                Fullmetal Alchemist    Fall 2003   \n",
       "42   9989  Ano Hi Mita Hana no Namae wo Bokutachi wa Mada...  Spring 2011   \n",
       "43     30                            Neon Genesis Evangelion    Fall 1995   \n",
       "44  20583                                          Haikyuu!!  Spring 2014   \n",
       "45   6746                                         Durarara!!  Winter 2010   \n",
       "46   2167                                            Clannad    Fall 2007   \n",
       "47  35760                        Shingeki no Kyojin Season 3  Summer 2018   \n",
       "48  10087                                          Fate/Zero    Fall 2011   \n",
       "49  28121  Dungeon ni Deai wo Motomeru no wa Machigatteir...  Spring 2015   \n",
       "\n",
       "    zacetek   konec           vir  epizode  dolzina  stevilo_clenov  \\\n",
       "0    2006.0  2007.0         Manga     37.0     23.0         2410185   \n",
       "1    2013.0  2013.0         Manga     25.0     24.0         2316411   \n",
       "2    2009.0  2010.0         Manga     64.0     24.0         2090273   \n",
       "3    2012.0  2012.0   Light novel     25.0     23.0         2088233   \n",
       "4    2015.0  2015.0     Web manga     12.0     24.0         1979366   \n",
       "5    2014.0  2014.0         Manga     12.0     24.0         1765304   \n",
       "6    2016.0  2016.0         Manga     13.0     24.0         1761362   \n",
       "7    2002.0  2007.0         Manga    220.0     23.0         1699431   \n",
       "8    2011.0  2011.0  Visual novel     24.0     24.0         1681837   \n",
       "9    2011.0  2014.0         Manga    148.0     23.0         1529228   \n",
       "10   2010.0  2010.0      Original     13.0     24.0         1515002   \n",
       "11   2006.0  2007.0      Original     25.0     24.0         1505432   \n",
       "12   2017.0  2017.0         Manga     25.0     23.0         1486707   \n",
       "13   2008.0  2009.0   Light novel     25.0     24.0         1465022   \n",
       "14   2011.0  2012.0         Manga     26.0     23.0         1459894   \n",
       "15   2014.0  2014.0         Manga     12.0     24.0         1446525   \n",
       "16   2007.0  2017.0         Manga    500.0     23.0         1419619   \n",
       "17   2017.0  2017.0         Manga     12.0     24.0         1414760   \n",
       "18   2016.0  2016.0   Light novel     25.0     25.0         1387049   \n",
       "19   2014.0  2014.0   Light novel     24.0     23.0         1355398   \n",
       "20   2011.0  2011.0         Manga     25.0     24.0         1342611   \n",
       "21   2014.0  2015.0         Manga     22.0     22.0         1342403   \n",
       "22   2014.0  2014.0         Manga     24.0     23.0         1320022   \n",
       "23   2016.0  2016.0         Manga     12.0     23.0         1270904   \n",
       "24   2009.0  2013.0         Manga    175.0     24.0         1254179   \n",
       "25   2019.0  2019.0         Manga     26.0     23.0         1235666   \n",
       "26   2004.0  2012.0         Manga    366.0     24.0         1222959   \n",
       "27   2018.0  2018.0         Manga     25.0     23.0         1220562   \n",
       "28   2008.0  2008.0      Original     25.0     24.0         1206854   \n",
       "29   2016.0  2016.0   Light novel     10.0     23.0         1198907   \n",
       "30   1998.0  1999.0      Original     26.0     24.0         1176190   \n",
       "31   2014.0  2015.0         Manga     24.0     23.0         1172868   \n",
       "32   2008.0  2009.0         Manga     51.0     24.0         1168461   \n",
       "33   2007.0  2007.0      Original     27.0     24.0         1168282   \n",
       "34   2012.0  2013.0      Original     22.0     23.0         1162866   \n",
       "35   2012.0  2012.0   Light novel     12.0     24.0         1159794   \n",
       "36   2015.0  2015.0         Manga     22.0     23.0         1159105   \n",
       "37   2015.0  2015.0         Manga     12.0     24.0         1156651   \n",
       "38   2016.0  2016.0     Web manga     12.0     24.0         1156412   \n",
       "39   2004.0  2004.0         Manga     13.0     25.0         1147146   \n",
       "40   2015.0  2015.0      Original     12.0     23.0         1134490   \n",
       "41   2003.0  2004.0         Manga     51.0     24.0         1109876   \n",
       "42   2011.0  2011.0      Original     11.0     22.0         1092553   \n",
       "43   1995.0  1996.0      Original     26.0     24.0         1079668   \n",
       "44   2014.0  2014.0         Manga     25.0     24.0         1072073   \n",
       "45   2010.0  2010.0   Light novel     24.0     24.0         1067100   \n",
       "46   2007.0  2008.0  Visual novel     23.0     24.0         1051129   \n",
       "47   2018.0  2018.0         Manga     12.0     23.0         1044111   \n",
       "48   2011.0  2011.0   Light novel     13.0     28.0         1037570   \n",
       "49   2015.0  2015.0   Light novel     13.0     24.0         1020776   \n",
       "\n",
       "    najljubsi  ocena                                               opis oznaka  \n",
       "0      136425   8.63  A shinigami, as a god of death, can kill any p...      R  \n",
       "1      113878   8.46  Centuries ago, mankind was slaughtered to near...      R  \n",
       "2      172608   9.21  &quot;In order for something to be obtained, s...      R  \n",
       "3       64536   7.28  In the year 2022, virtual reality has progress...  PG-13  \n",
       "4       52089   8.59  The seemingly ordinary and unimpressive Saitam...      R  \n",
       "5       42682   7.81  Tokyo has become a cruel and merciless city—a ...      R  \n",
       "6       46516   8.14  The appearance of &quot;quirks,&quot; newly di...  PG-13  \n",
       "7       61345   7.90  Moments prior to Naruto Uzumaki&#039;s birth, ...  PG-13  \n",
       "8      143451   9.12  The self-proclaimed mad scientist Rintarou Oka...  PG-13  \n",
       "9      136870   9.11  Hunter x Hunter is set in a world where Hunter...  PG-13  \n",
       "10      45459   8.17  Otonashi awakens only to learn he is dead. A r...  PG-13  \n",
       "11      87564   8.72  In the year 2010, the Holy Empire of Britannia...      R  \n",
       "12      18343   8.37  At UA Academy, not even a violent attack can d...  PG-13  \n",
       "13      48873   8.26  Ryuuji Takasu is a gentle high school student ...  PG-13  \n",
       "14      28871   7.57  Lonely high school student, Yukiteru Amano, sp...     R+  \n",
       "15      28009   8.02  In times of need, if you look in the right pla...  PG-13  \n",
       "16      77701   8.16  It has been two and a half years since Naruto ...  PG-13  \n",
       "17      15382   8.42  For centuries, humanity has been hunted by gia...      R  \n",
       "18      49581   8.30  When Subaru Natsuki leaves the convenience sto...      R  \n",
       "19      10099   6.83  A year after escaping Sword Art Online, Kazuto...  PG-13  \n",
       "20      16397   7.61  Humans and demons are two sides of the same co...  PG-13  \n",
       "21      66565   8.76  Music accompanies the path of the human metron...  PG-13  \n",
       "22      22227   7.56  Night Raid is the covert assassination branch ...      R  \n",
       "23      35144   8.39  When tragedy is about to strike, Satoru Fujinu...      R  \n",
       "24      45760   7.71  In the mystical land of Fiore, magic exists as...  PG-13  \n",
       "25      44349   8.65  Ever since the death of his father, the burden...      R  \n",
       "26      52420   7.80  Ichigo Kurosaki is an ordinary high schooler—u...  PG-13  \n",
       "27      13090   8.30  As summer arrives for the students at UA Acade...  PG-13  \n",
       "28      62031   8.91  One year has passed since the Black Rebellion,...      R  \n",
       "29      32985   8.16  After dying a laughable and pathetic death on ...  PG-13  \n",
       "30      59162   8.79  In the year 2071, humanity has colonized sever...      R  \n",
       "31      25229   8.41  All of a sudden, they arrived: parasitic alien...      R  \n",
       "32      23130   7.89  Death City is home to the famous Death Weapon ...  PG-13  \n",
       "33      66348   8.67  Simon and Kamina were born and raised in a dee...  PG-13  \n",
       "34      33763   8.39  Justice, and the enforcement of it, has change...      R  \n",
       "35      15079   7.57  In 1972, a popular student in Yomiyama North M...      R  \n",
       "36      20397   8.13  When a mysterious creature chops the moon down...  PG-13  \n",
       "37      10574   7.09  Ken Kaneki has finally come to accept the mons...      R  \n",
       "38      25598   8.49  Eighth-grader Shigeo &quot;Mob&quot; Kageyama ...  PG-13  \n",
       "39      23454   7.58  Lucy is a special breed of human referred to a...     R+  \n",
       "40      21064   8.21  After death, there is no heaven or hell, only ...      R  \n",
       "41      26052   8.18  Edward Elric, a young, brilliant alchemist, ha...  PG-13  \n",
       "42      29464   8.44  Jinta Yadomi is peacefully living as a recluse...  PG-13  \n",
       "43      66826   8.31  In the year 2015, the world stands on the brin...  PG-13  \n",
       "44      50537   8.56  Inspired after watching a volleyball ace nickn...  PG-13  \n",
       "45      29306   8.19  In Tokyo&#039;s downtown district of Ikebukuro...      R  \n",
       "46      26847   8.08  Tomoya Okazaki is a delinquent who finds life ...  PG-13  \n",
       "47      11926   8.56  Still threatened by the &quot;Titans&quot; tha...      R  \n",
       "48      29280   8.35  With the promise of granting any wish, the omn...      R  \n",
       "49       9947   7.66  Life in the bustling city of Orario is never d...  PG-13  "
      ]
     },
     "execution_count": 8,
     "metadata": {},
     "output_type": "execute_result"
    }
   ],
   "source": [
    "popularni = animeji.head(50)\n",
    "popularni"
   ]
  },
  {
   "cell_type": "code",
   "execution_count": 9,
   "metadata": {},
   "outputs": [
    {
     "data": {
      "text/html": [
       "<div>\n",
       "<style scoped>\n",
       "    .dataframe tbody tr th:only-of-type {\n",
       "        vertical-align: middle;\n",
       "    }\n",
       "\n",
       "    .dataframe tbody tr th {\n",
       "        vertical-align: top;\n",
       "    }\n",
       "\n",
       "    .dataframe thead th {\n",
       "        text-align: right;\n",
       "    }\n",
       "</style>\n",
       "<table border=\"1\" class=\"dataframe\">\n",
       "  <thead>\n",
       "    <tr style=\"text-align: right;\">\n",
       "      <th></th>\n",
       "      <th>id</th>\n",
       "      <th>naslov</th>\n",
       "      <th>sezona</th>\n",
       "      <th>zacetek</th>\n",
       "      <th>konec</th>\n",
       "      <th>vir</th>\n",
       "      <th>epizode</th>\n",
       "      <th>dolzina</th>\n",
       "      <th>stevilo_clenov</th>\n",
       "      <th>najljubsi</th>\n",
       "      <th>ocena</th>\n",
       "      <th>opis</th>\n",
       "      <th>oznaka</th>\n",
       "    </tr>\n",
       "  </thead>\n",
       "  <tbody>\n",
       "    <tr>\n",
       "      <th>0</th>\n",
       "      <td>1535</td>\n",
       "      <td>Death Note</td>\n",
       "      <td>Fall 2006</td>\n",
       "      <td>2006.0</td>\n",
       "      <td>2007.0</td>\n",
       "      <td>Manga</td>\n",
       "      <td>37.0</td>\n",
       "      <td>23.0</td>\n",
       "      <td>2410185</td>\n",
       "      <td>136425</td>\n",
       "      <td>8.63</td>\n",
       "      <td>A shinigami, as a god of death, can kill any p...</td>\n",
       "      <td>R</td>\n",
       "    </tr>\n",
       "    <tr>\n",
       "      <th>1</th>\n",
       "      <td>16498</td>\n",
       "      <td>Shingeki no Kyojin</td>\n",
       "      <td>Spring 2013</td>\n",
       "      <td>2013.0</td>\n",
       "      <td>2013.0</td>\n",
       "      <td>Manga</td>\n",
       "      <td>25.0</td>\n",
       "      <td>24.0</td>\n",
       "      <td>2316411</td>\n",
       "      <td>113878</td>\n",
       "      <td>8.46</td>\n",
       "      <td>Centuries ago, mankind was slaughtered to near...</td>\n",
       "      <td>R</td>\n",
       "    </tr>\n",
       "    <tr>\n",
       "      <th>2</th>\n",
       "      <td>5114</td>\n",
       "      <td>Fullmetal Alchemist: Brotherhood</td>\n",
       "      <td>Spring 2009</td>\n",
       "      <td>2009.0</td>\n",
       "      <td>2010.0</td>\n",
       "      <td>Manga</td>\n",
       "      <td>64.0</td>\n",
       "      <td>24.0</td>\n",
       "      <td>2090273</td>\n",
       "      <td>172608</td>\n",
       "      <td>9.21</td>\n",
       "      <td>&amp;quot;In order for something to be obtained, s...</td>\n",
       "      <td>R</td>\n",
       "    </tr>\n",
       "    <tr>\n",
       "      <th>3</th>\n",
       "      <td>11757</td>\n",
       "      <td>Sword Art Online</td>\n",
       "      <td>Summer 2012</td>\n",
       "      <td>2012.0</td>\n",
       "      <td>2012.0</td>\n",
       "      <td>Light novel</td>\n",
       "      <td>25.0</td>\n",
       "      <td>23.0</td>\n",
       "      <td>2088233</td>\n",
       "      <td>64536</td>\n",
       "      <td>7.28</td>\n",
       "      <td>In the year 2022, virtual reality has progress...</td>\n",
       "      <td>PG-13</td>\n",
       "    </tr>\n",
       "    <tr>\n",
       "      <th>4</th>\n",
       "      <td>30276</td>\n",
       "      <td>One Punch Man</td>\n",
       "      <td>Fall 2015</td>\n",
       "      <td>2015.0</td>\n",
       "      <td>2015.0</td>\n",
       "      <td>Web manga</td>\n",
       "      <td>12.0</td>\n",
       "      <td>24.0</td>\n",
       "      <td>1979366</td>\n",
       "      <td>52089</td>\n",
       "      <td>8.59</td>\n",
       "      <td>The seemingly ordinary and unimpressive Saitam...</td>\n",
       "      <td>R</td>\n",
       "    </tr>\n",
       "    <tr>\n",
       "      <th>5</th>\n",
       "      <td>22319</td>\n",
       "      <td>Tokyo Ghoul</td>\n",
       "      <td>Summer 2014</td>\n",
       "      <td>2014.0</td>\n",
       "      <td>2014.0</td>\n",
       "      <td>Manga</td>\n",
       "      <td>12.0</td>\n",
       "      <td>24.0</td>\n",
       "      <td>1765304</td>\n",
       "      <td>42682</td>\n",
       "      <td>7.81</td>\n",
       "      <td>Tokyo has become a cruel and merciless city—a ...</td>\n",
       "      <td>R</td>\n",
       "    </tr>\n",
       "    <tr>\n",
       "      <th>6</th>\n",
       "      <td>31964</td>\n",
       "      <td>Boku no Hero Academia</td>\n",
       "      <td>Spring 2016</td>\n",
       "      <td>2016.0</td>\n",
       "      <td>2016.0</td>\n",
       "      <td>Manga</td>\n",
       "      <td>13.0</td>\n",
       "      <td>24.0</td>\n",
       "      <td>1761362</td>\n",
       "      <td>46516</td>\n",
       "      <td>8.14</td>\n",
       "      <td>The appearance of &amp;quot;quirks,&amp;quot; newly di...</td>\n",
       "      <td>PG-13</td>\n",
       "    </tr>\n",
       "    <tr>\n",
       "      <th>7</th>\n",
       "      <td>20</td>\n",
       "      <td>Naruto</td>\n",
       "      <td>Fall 2002</td>\n",
       "      <td>2002.0</td>\n",
       "      <td>2007.0</td>\n",
       "      <td>Manga</td>\n",
       "      <td>220.0</td>\n",
       "      <td>23.0</td>\n",
       "      <td>1699431</td>\n",
       "      <td>61345</td>\n",
       "      <td>7.90</td>\n",
       "      <td>Moments prior to Naruto Uzumaki&amp;#039;s birth, ...</td>\n",
       "      <td>PG-13</td>\n",
       "    </tr>\n",
       "    <tr>\n",
       "      <th>8</th>\n",
       "      <td>9253</td>\n",
       "      <td>Steins;Gate</td>\n",
       "      <td>Spring 2011</td>\n",
       "      <td>2011.0</td>\n",
       "      <td>2011.0</td>\n",
       "      <td>Visual novel</td>\n",
       "      <td>24.0</td>\n",
       "      <td>24.0</td>\n",
       "      <td>1681837</td>\n",
       "      <td>143451</td>\n",
       "      <td>9.12</td>\n",
       "      <td>The self-proclaimed mad scientist Rintarou Oka...</td>\n",
       "      <td>PG-13</td>\n",
       "    </tr>\n",
       "    <tr>\n",
       "      <th>9</th>\n",
       "      <td>11061</td>\n",
       "      <td>Hunter x Hunter (2011)</td>\n",
       "      <td>Fall 2011</td>\n",
       "      <td>2011.0</td>\n",
       "      <td>2014.0</td>\n",
       "      <td>Manga</td>\n",
       "      <td>148.0</td>\n",
       "      <td>23.0</td>\n",
       "      <td>1529228</td>\n",
       "      <td>136870</td>\n",
       "      <td>9.11</td>\n",
       "      <td>Hunter x Hunter is set in a world where Hunter...</td>\n",
       "      <td>PG-13</td>\n",
       "    </tr>\n",
       "  </tbody>\n",
       "</table>\n",
       "</div>"
      ],
      "text/plain": [
       "      id                            naslov       sezona  zacetek   konec  \\\n",
       "0   1535                        Death Note    Fall 2006   2006.0  2007.0   \n",
       "1  16498                Shingeki no Kyojin  Spring 2013   2013.0  2013.0   \n",
       "2   5114  Fullmetal Alchemist: Brotherhood  Spring 2009   2009.0  2010.0   \n",
       "3  11757                  Sword Art Online  Summer 2012   2012.0  2012.0   \n",
       "4  30276                     One Punch Man    Fall 2015   2015.0  2015.0   \n",
       "5  22319                       Tokyo Ghoul  Summer 2014   2014.0  2014.0   \n",
       "6  31964             Boku no Hero Academia  Spring 2016   2016.0  2016.0   \n",
       "7     20                            Naruto    Fall 2002   2002.0  2007.0   \n",
       "8   9253                       Steins;Gate  Spring 2011   2011.0  2011.0   \n",
       "9  11061            Hunter x Hunter (2011)    Fall 2011   2011.0  2014.0   \n",
       "\n",
       "            vir  epizode  dolzina  stevilo_clenov  najljubsi  ocena  \\\n",
       "0         Manga     37.0     23.0         2410185     136425   8.63   \n",
       "1         Manga     25.0     24.0         2316411     113878   8.46   \n",
       "2         Manga     64.0     24.0         2090273     172608   9.21   \n",
       "3   Light novel     25.0     23.0         2088233      64536   7.28   \n",
       "4     Web manga     12.0     24.0         1979366      52089   8.59   \n",
       "5         Manga     12.0     24.0         1765304      42682   7.81   \n",
       "6         Manga     13.0     24.0         1761362      46516   8.14   \n",
       "7         Manga    220.0     23.0         1699431      61345   7.90   \n",
       "8  Visual novel     24.0     24.0         1681837     143451   9.12   \n",
       "9         Manga    148.0     23.0         1529228     136870   9.11   \n",
       "\n",
       "                                                opis oznaka  \n",
       "0  A shinigami, as a god of death, can kill any p...      R  \n",
       "1  Centuries ago, mankind was slaughtered to near...      R  \n",
       "2  &quot;In order for something to be obtained, s...      R  \n",
       "3  In the year 2022, virtual reality has progress...  PG-13  \n",
       "4  The seemingly ordinary and unimpressive Saitam...      R  \n",
       "5  Tokyo has become a cruel and merciless city—a ...      R  \n",
       "6  The appearance of &quot;quirks,&quot; newly di...  PG-13  \n",
       "7  Moments prior to Naruto Uzumaki&#039;s birth, ...  PG-13  \n",
       "8  The self-proclaimed mad scientist Rintarou Oka...  PG-13  \n",
       "9  Hunter x Hunter is set in a world where Hunter...  PG-13  "
      ]
     },
     "execution_count": 9,
     "metadata": {},
     "output_type": "execute_result"
    }
   ],
   "source": [
    "najbolj_popularni = animeji.head(10)\n",
    "najbolj_popularni"
   ]
  },
  {
   "cell_type": "markdown",
   "metadata": {},
   "source": [
    "***"
   ]
  },
  {
   "cell_type": "markdown",
   "metadata": {},
   "source": [
    "## Najboljši animeji"
   ]
  },
  {
   "cell_type": "markdown",
   "metadata": {},
   "source": [
    "Poglejmo zdaj 10 animejih z najvišjo oceno."
   ]
  },
  {
   "cell_type": "code",
   "execution_count": 10,
   "metadata": {},
   "outputs": [
    {
     "data": {
      "text/html": [
       "<div>\n",
       "<style scoped>\n",
       "    .dataframe tbody tr th:only-of-type {\n",
       "        vertical-align: middle;\n",
       "    }\n",
       "\n",
       "    .dataframe tbody tr th {\n",
       "        vertical-align: top;\n",
       "    }\n",
       "\n",
       "    .dataframe thead th {\n",
       "        text-align: right;\n",
       "    }\n",
       "</style>\n",
       "<table border=\"1\" class=\"dataframe\">\n",
       "  <thead>\n",
       "    <tr style=\"text-align: right;\">\n",
       "      <th></th>\n",
       "      <th>id</th>\n",
       "      <th>naslov</th>\n",
       "      <th>sezona</th>\n",
       "      <th>zacetek</th>\n",
       "      <th>konec</th>\n",
       "      <th>vir</th>\n",
       "      <th>epizode</th>\n",
       "      <th>dolzina</th>\n",
       "      <th>stevilo_clenov</th>\n",
       "      <th>najljubsi</th>\n",
       "      <th>ocena</th>\n",
       "      <th>opis</th>\n",
       "      <th>oznaka</th>\n",
       "    </tr>\n",
       "  </thead>\n",
       "  <tbody>\n",
       "    <tr>\n",
       "      <th>2</th>\n",
       "      <td>5114</td>\n",
       "      <td>Fullmetal Alchemist: Brotherhood</td>\n",
       "      <td>Spring 2009</td>\n",
       "      <td>2009.0</td>\n",
       "      <td>2010.0</td>\n",
       "      <td>Manga</td>\n",
       "      <td>64.0</td>\n",
       "      <td>24.0</td>\n",
       "      <td>2090273</td>\n",
       "      <td>172608</td>\n",
       "      <td>9.21</td>\n",
       "      <td>&amp;quot;In order for something to be obtained, s...</td>\n",
       "      <td>R</td>\n",
       "    </tr>\n",
       "    <tr>\n",
       "      <th>8</th>\n",
       "      <td>9253</td>\n",
       "      <td>Steins;Gate</td>\n",
       "      <td>Spring 2011</td>\n",
       "      <td>2011.0</td>\n",
       "      <td>2011.0</td>\n",
       "      <td>Visual novel</td>\n",
       "      <td>24.0</td>\n",
       "      <td>24.0</td>\n",
       "      <td>1681837</td>\n",
       "      <td>143451</td>\n",
       "      <td>9.12</td>\n",
       "      <td>The self-proclaimed mad scientist Rintarou Oka...</td>\n",
       "      <td>PG-13</td>\n",
       "    </tr>\n",
       "    <tr>\n",
       "      <th>9</th>\n",
       "      <td>11061</td>\n",
       "      <td>Hunter x Hunter (2011)</td>\n",
       "      <td>Fall 2011</td>\n",
       "      <td>2011.0</td>\n",
       "      <td>2014.0</td>\n",
       "      <td>Manga</td>\n",
       "      <td>148.0</td>\n",
       "      <td>23.0</td>\n",
       "      <td>1529228</td>\n",
       "      <td>136870</td>\n",
       "      <td>9.11</td>\n",
       "      <td>Hunter x Hunter is set in a world where Hunter...</td>\n",
       "      <td>PG-13</td>\n",
       "    </tr>\n",
       "    <tr>\n",
       "      <th>260</th>\n",
       "      <td>28977</td>\n",
       "      <td>Gintama°</td>\n",
       "      <td>Spring 2015</td>\n",
       "      <td>2015.0</td>\n",
       "      <td>2016.0</td>\n",
       "      <td>Manga</td>\n",
       "      <td>51.0</td>\n",
       "      <td>24.0</td>\n",
       "      <td>378593</td>\n",
       "      <td>11017</td>\n",
       "      <td>9.11</td>\n",
       "      <td>Gintoki, Shinpachi, and Kagura return as the f...</td>\n",
       "      <td>PG-13</td>\n",
       "    </tr>\n",
       "    <tr>\n",
       "      <th>64</th>\n",
       "      <td>38524</td>\n",
       "      <td>Shingeki no Kyojin Season 3 Part 2</td>\n",
       "      <td>Spring 2019</td>\n",
       "      <td>2019.0</td>\n",
       "      <td>2019.0</td>\n",
       "      <td>Manga</td>\n",
       "      <td>10.0</td>\n",
       "      <td>23.0</td>\n",
       "      <td>899833</td>\n",
       "      <td>33903</td>\n",
       "      <td>9.09</td>\n",
       "      <td>Seeking to restore humanity’s diminishing hope...</td>\n",
       "      <td>R</td>\n",
       "    </tr>\n",
       "    <tr>\n",
       "      <th>284</th>\n",
       "      <td>9969</td>\n",
       "      <td>Gintama</td>\n",
       "      <td>Spring 2006</td>\n",
       "      <td>2011.0</td>\n",
       "      <td>2012.0</td>\n",
       "      <td>Manga</td>\n",
       "      <td>51.0</td>\n",
       "      <td>24.0</td>\n",
       "      <td>346754</td>\n",
       "      <td>46547</td>\n",
       "      <td>9.08</td>\n",
       "      <td>After a one-year hiatus, Shinpachi Shimura ret...</td>\n",
       "      <td>PG-13</td>\n",
       "    </tr>\n",
       "    <tr>\n",
       "      <th>472</th>\n",
       "      <td>15417</td>\n",
       "      <td>Gintama&amp;#039;: Enchousen</td>\n",
       "      <td>Fall 2012</td>\n",
       "      <td>2012.0</td>\n",
       "      <td>2013.0</td>\n",
       "      <td>Manga</td>\n",
       "      <td>13.0</td>\n",
       "      <td>24.0</td>\n",
       "      <td>210755</td>\n",
       "      <td>2421</td>\n",
       "      <td>9.04</td>\n",
       "      <td>While Gintoki Sakata was away, the Yorozuya fo...</td>\n",
       "      <td>PG-13</td>\n",
       "    </tr>\n",
       "    <tr>\n",
       "      <th>411</th>\n",
       "      <td>35180</td>\n",
       "      <td>3-gatsu no Lion 2nd Season</td>\n",
       "      <td>Fall 2017</td>\n",
       "      <td>2017.0</td>\n",
       "      <td>2018.0</td>\n",
       "      <td>Manga</td>\n",
       "      <td>22.0</td>\n",
       "      <td>25.0</td>\n",
       "      <td>247547</td>\n",
       "      <td>10410</td>\n",
       "      <td>9.01</td>\n",
       "      <td>Now in his second year of high school, Rei Kir...</td>\n",
       "      <td>PG-13</td>\n",
       "    </tr>\n",
       "    <tr>\n",
       "      <th>519</th>\n",
       "      <td>34096</td>\n",
       "      <td>Gintama</td>\n",
       "      <td>Spring 2006</td>\n",
       "      <td>2017.0</td>\n",
       "      <td>2017.0</td>\n",
       "      <td>Manga</td>\n",
       "      <td>12.0</td>\n",
       "      <td>24.0</td>\n",
       "      <td>188999</td>\n",
       "      <td>46547</td>\n",
       "      <td>8.98</td>\n",
       "      <td>After joining the resistance against the bakuf...</td>\n",
       "      <td>PG-13</td>\n",
       "    </tr>\n",
       "    <tr>\n",
       "      <th>100</th>\n",
       "      <td>918</td>\n",
       "      <td>Gintama</td>\n",
       "      <td>Spring 2006</td>\n",
       "      <td>2006.0</td>\n",
       "      <td>2010.0</td>\n",
       "      <td>Manga</td>\n",
       "      <td>201.0</td>\n",
       "      <td>24.0</td>\n",
       "      <td>718045</td>\n",
       "      <td>46547</td>\n",
       "      <td>8.97</td>\n",
       "      <td>The Amanto, aliens from outer space, have inva...</td>\n",
       "      <td>PG-13</td>\n",
       "    </tr>\n",
       "  </tbody>\n",
       "</table>\n",
       "</div>"
      ],
      "text/plain": [
       "        id                              naslov       sezona  zacetek   konec  \\\n",
       "2     5114    Fullmetal Alchemist: Brotherhood  Spring 2009   2009.0  2010.0   \n",
       "8     9253                         Steins;Gate  Spring 2011   2011.0  2011.0   \n",
       "9    11061              Hunter x Hunter (2011)    Fall 2011   2011.0  2014.0   \n",
       "260  28977                            Gintama°  Spring 2015   2015.0  2016.0   \n",
       "64   38524  Shingeki no Kyojin Season 3 Part 2  Spring 2019   2019.0  2019.0   \n",
       "284   9969                             Gintama  Spring 2006   2011.0  2012.0   \n",
       "472  15417            Gintama&#039;: Enchousen    Fall 2012   2012.0  2013.0   \n",
       "411  35180          3-gatsu no Lion 2nd Season    Fall 2017   2017.0  2018.0   \n",
       "519  34096                             Gintama  Spring 2006   2017.0  2017.0   \n",
       "100    918                             Gintama  Spring 2006   2006.0  2010.0   \n",
       "\n",
       "              vir  epizode  dolzina  stevilo_clenov  najljubsi  ocena  \\\n",
       "2           Manga     64.0     24.0         2090273     172608   9.21   \n",
       "8    Visual novel     24.0     24.0         1681837     143451   9.12   \n",
       "9           Manga    148.0     23.0         1529228     136870   9.11   \n",
       "260         Manga     51.0     24.0          378593      11017   9.11   \n",
       "64          Manga     10.0     23.0          899833      33903   9.09   \n",
       "284         Manga     51.0     24.0          346754      46547   9.08   \n",
       "472         Manga     13.0     24.0          210755       2421   9.04   \n",
       "411         Manga     22.0     25.0          247547      10410   9.01   \n",
       "519         Manga     12.0     24.0          188999      46547   8.98   \n",
       "100         Manga    201.0     24.0          718045      46547   8.97   \n",
       "\n",
       "                                                  opis oznaka  \n",
       "2    &quot;In order for something to be obtained, s...      R  \n",
       "8    The self-proclaimed mad scientist Rintarou Oka...  PG-13  \n",
       "9    Hunter x Hunter is set in a world where Hunter...  PG-13  \n",
       "260  Gintoki, Shinpachi, and Kagura return as the f...  PG-13  \n",
       "64   Seeking to restore humanity’s diminishing hope...      R  \n",
       "284  After a one-year hiatus, Shinpachi Shimura ret...  PG-13  \n",
       "472  While Gintoki Sakata was away, the Yorozuya fo...  PG-13  \n",
       "411  Now in his second year of high school, Rei Kir...  PG-13  \n",
       "519  After joining the resistance against the bakuf...  PG-13  \n",
       "100  The Amanto, aliens from outer space, have inva...  PG-13  "
      ]
     },
     "execution_count": 10,
     "metadata": {},
     "output_type": "execute_result"
    }
   ],
   "source": [
    "animeji.sort_values(\"ocena\", ascending=False).head(10)"
   ]
  },
  {
   "cell_type": "markdown",
   "metadata": {},
   "source": [
    "Kar je presenetljivo, vidimo da, najbolj popularen anime nima dovolj veliko oceno, da bi bil med 10 animejih z najvišjo oceno. Poleg tega, vidimo da le 3 od 10 najbolj popularnih animejev ima dovolj visoko oceno, da bi bil na listi 10 animejih z najvišjo oceno."
   ]
  },
  {
   "cell_type": "markdown",
   "metadata": {},
   "source": [
    "Za nas dobri animeji bodo tisti, ki imajo oceno večjo kot 8 in število členov večje kot 500,000. Poglejmo si tiste animeje."
   ]
  },
  {
   "cell_type": "code",
   "execution_count": 11,
   "metadata": {},
   "outputs": [
    {
     "data": {
      "text/html": [
       "<div>\n",
       "<style scoped>\n",
       "    .dataframe tbody tr th:only-of-type {\n",
       "        vertical-align: middle;\n",
       "    }\n",
       "\n",
       "    .dataframe tbody tr th {\n",
       "        vertical-align: top;\n",
       "    }\n",
       "\n",
       "    .dataframe thead th {\n",
       "        text-align: right;\n",
       "    }\n",
       "</style>\n",
       "<table border=\"1\" class=\"dataframe\">\n",
       "  <thead>\n",
       "    <tr style=\"text-align: right;\">\n",
       "      <th></th>\n",
       "      <th>id</th>\n",
       "      <th>naslov</th>\n",
       "      <th>sezona</th>\n",
       "      <th>zacetek</th>\n",
       "      <th>konec</th>\n",
       "      <th>vir</th>\n",
       "      <th>epizode</th>\n",
       "      <th>dolzina</th>\n",
       "      <th>stevilo_clenov</th>\n",
       "      <th>najljubsi</th>\n",
       "      <th>ocena</th>\n",
       "      <th>opis</th>\n",
       "      <th>oznaka</th>\n",
       "    </tr>\n",
       "  </thead>\n",
       "  <tbody>\n",
       "    <tr>\n",
       "      <th>2</th>\n",
       "      <td>5114</td>\n",
       "      <td>Fullmetal Alchemist: Brotherhood</td>\n",
       "      <td>Spring 2009</td>\n",
       "      <td>2009.0</td>\n",
       "      <td>2010.0</td>\n",
       "      <td>Manga</td>\n",
       "      <td>64.0</td>\n",
       "      <td>24.0</td>\n",
       "      <td>2090273</td>\n",
       "      <td>172608</td>\n",
       "      <td>9.21</td>\n",
       "      <td>&amp;quot;In order for something to be obtained, s...</td>\n",
       "      <td>R</td>\n",
       "    </tr>\n",
       "    <tr>\n",
       "      <th>8</th>\n",
       "      <td>9253</td>\n",
       "      <td>Steins;Gate</td>\n",
       "      <td>Spring 2011</td>\n",
       "      <td>2011.0</td>\n",
       "      <td>2011.0</td>\n",
       "      <td>Visual novel</td>\n",
       "      <td>24.0</td>\n",
       "      <td>24.0</td>\n",
       "      <td>1681837</td>\n",
       "      <td>143451</td>\n",
       "      <td>9.12</td>\n",
       "      <td>The self-proclaimed mad scientist Rintarou Oka...</td>\n",
       "      <td>PG-13</td>\n",
       "    </tr>\n",
       "    <tr>\n",
       "      <th>9</th>\n",
       "      <td>11061</td>\n",
       "      <td>Hunter x Hunter (2011)</td>\n",
       "      <td>Fall 2011</td>\n",
       "      <td>2011.0</td>\n",
       "      <td>2014.0</td>\n",
       "      <td>Manga</td>\n",
       "      <td>148.0</td>\n",
       "      <td>23.0</td>\n",
       "      <td>1529228</td>\n",
       "      <td>136870</td>\n",
       "      <td>9.11</td>\n",
       "      <td>Hunter x Hunter is set in a world where Hunter...</td>\n",
       "      <td>PG-13</td>\n",
       "    </tr>\n",
       "    <tr>\n",
       "      <th>64</th>\n",
       "      <td>38524</td>\n",
       "      <td>Shingeki no Kyojin Season 3 Part 2</td>\n",
       "      <td>Spring 2019</td>\n",
       "      <td>2019.0</td>\n",
       "      <td>2019.0</td>\n",
       "      <td>Manga</td>\n",
       "      <td>10.0</td>\n",
       "      <td>23.0</td>\n",
       "      <td>899833</td>\n",
       "      <td>33903</td>\n",
       "      <td>9.09</td>\n",
       "      <td>Seeking to restore humanity’s diminishing hope...</td>\n",
       "      <td>R</td>\n",
       "    </tr>\n",
       "    <tr>\n",
       "      <th>100</th>\n",
       "      <td>918</td>\n",
       "      <td>Gintama</td>\n",
       "      <td>Spring 2006</td>\n",
       "      <td>2006.0</td>\n",
       "      <td>2010.0</td>\n",
       "      <td>Manga</td>\n",
       "      <td>201.0</td>\n",
       "      <td>24.0</td>\n",
       "      <td>718045</td>\n",
       "      <td>46547</td>\n",
       "      <td>8.97</td>\n",
       "      <td>The Amanto, aliens from outer space, have inva...</td>\n",
       "      <td>PG-13</td>\n",
       "    </tr>\n",
       "    <tr>\n",
       "      <th>...</th>\n",
       "      <td>...</td>\n",
       "      <td>...</td>\n",
       "      <td>...</td>\n",
       "      <td>...</td>\n",
       "      <td>...</td>\n",
       "      <td>...</td>\n",
       "      <td>...</td>\n",
       "      <td>...</td>\n",
       "      <td>...</td>\n",
       "      <td>...</td>\n",
       "      <td>...</td>\n",
       "      <td>...</td>\n",
       "      <td>...</td>\n",
       "    </tr>\n",
       "    <tr>\n",
       "      <th>147</th>\n",
       "      <td>32615</td>\n",
       "      <td>Youjo Senki</td>\n",
       "      <td>Winter 2017</td>\n",
       "      <td>2017.0</td>\n",
       "      <td>2017.0</td>\n",
       "      <td>Light novel</td>\n",
       "      <td>12.0</td>\n",
       "      <td>24.0</td>\n",
       "      <td>568776</td>\n",
       "      <td>8167</td>\n",
       "      <td>8.02</td>\n",
       "      <td>Tanya Degurechaff is a young soldier infamous ...</td>\n",
       "      <td>R</td>\n",
       "    </tr>\n",
       "    <tr>\n",
       "      <th>15</th>\n",
       "      <td>20507</td>\n",
       "      <td>Noragami</td>\n",
       "      <td>Winter 2014</td>\n",
       "      <td>2014.0</td>\n",
       "      <td>2014.0</td>\n",
       "      <td>Manga</td>\n",
       "      <td>12.0</td>\n",
       "      <td>24.0</td>\n",
       "      <td>1446525</td>\n",
       "      <td>28009</td>\n",
       "      <td>8.02</td>\n",
       "      <td>In times of need, if you look in the right pla...</td>\n",
       "      <td>PG-13</td>\n",
       "    </tr>\n",
       "    <tr>\n",
       "      <th>103</th>\n",
       "      <td>223</td>\n",
       "      <td>Dragon Ball</td>\n",
       "      <td>Winter 1986</td>\n",
       "      <td>1986.0</td>\n",
       "      <td>1989.0</td>\n",
       "      <td>Manga</td>\n",
       "      <td>153.0</td>\n",
       "      <td>24.0</td>\n",
       "      <td>695117</td>\n",
       "      <td>12790</td>\n",
       "      <td>8.01</td>\n",
       "      <td>Gokuu Son is a young boy who lives in the wood...</td>\n",
       "      <td>PG-13</td>\n",
       "    </tr>\n",
       "    <tr>\n",
       "      <th>78</th>\n",
       "      <td>35790</td>\n",
       "      <td>Tate no Yuusha no Nariagari</td>\n",
       "      <td>Winter 2019</td>\n",
       "      <td>2019.0</td>\n",
       "      <td>2019.0</td>\n",
       "      <td>Light novel</td>\n",
       "      <td>25.0</td>\n",
       "      <td>24.0</td>\n",
       "      <td>826906</td>\n",
       "      <td>17052</td>\n",
       "      <td>8.01</td>\n",
       "      <td>The Four Cardinal Heroes are a group of ordina...</td>\n",
       "      <td>PG-13</td>\n",
       "    </tr>\n",
       "    <tr>\n",
       "      <th>75</th>\n",
       "      <td>17265</td>\n",
       "      <td>Log Horizon</td>\n",
       "      <td>Fall 2013</td>\n",
       "      <td>2013.0</td>\n",
       "      <td>2014.0</td>\n",
       "      <td>Light novel</td>\n",
       "      <td>25.0</td>\n",
       "      <td>25.0</td>\n",
       "      <td>833398</td>\n",
       "      <td>9835</td>\n",
       "      <td>8.01</td>\n",
       "      <td>In the blink of an eye, thirty thousand bewild...</td>\n",
       "      <td>PG-13</td>\n",
       "    </tr>\n",
       "  </tbody>\n",
       "</table>\n",
       "<p>103 rows × 13 columns</p>\n",
       "</div>"
      ],
      "text/plain": [
       "        id                              naslov       sezona  zacetek   konec  \\\n",
       "2     5114    Fullmetal Alchemist: Brotherhood  Spring 2009   2009.0  2010.0   \n",
       "8     9253                         Steins;Gate  Spring 2011   2011.0  2011.0   \n",
       "9    11061              Hunter x Hunter (2011)    Fall 2011   2011.0  2014.0   \n",
       "64   38524  Shingeki no Kyojin Season 3 Part 2  Spring 2019   2019.0  2019.0   \n",
       "100    918                             Gintama  Spring 2006   2006.0  2010.0   \n",
       "..     ...                                 ...          ...      ...     ...   \n",
       "147  32615                         Youjo Senki  Winter 2017   2017.0  2017.0   \n",
       "15   20507                            Noragami  Winter 2014   2014.0  2014.0   \n",
       "103    223                         Dragon Ball  Winter 1986   1986.0  1989.0   \n",
       "78   35790         Tate no Yuusha no Nariagari  Winter 2019   2019.0  2019.0   \n",
       "75   17265                         Log Horizon    Fall 2013   2013.0  2014.0   \n",
       "\n",
       "              vir  epizode  dolzina  stevilo_clenov  najljubsi  ocena  \\\n",
       "2           Manga     64.0     24.0         2090273     172608   9.21   \n",
       "8    Visual novel     24.0     24.0         1681837     143451   9.12   \n",
       "9           Manga    148.0     23.0         1529228     136870   9.11   \n",
       "64          Manga     10.0     23.0          899833      33903   9.09   \n",
       "100         Manga    201.0     24.0          718045      46547   8.97   \n",
       "..            ...      ...      ...             ...        ...    ...   \n",
       "147   Light novel     12.0     24.0          568776       8167   8.02   \n",
       "15          Manga     12.0     24.0         1446525      28009   8.02   \n",
       "103         Manga    153.0     24.0          695117      12790   8.01   \n",
       "78    Light novel     25.0     24.0          826906      17052   8.01   \n",
       "75    Light novel     25.0     25.0          833398       9835   8.01   \n",
       "\n",
       "                                                  opis oznaka  \n",
       "2    &quot;In order for something to be obtained, s...      R  \n",
       "8    The self-proclaimed mad scientist Rintarou Oka...  PG-13  \n",
       "9    Hunter x Hunter is set in a world where Hunter...  PG-13  \n",
       "64   Seeking to restore humanity’s diminishing hope...      R  \n",
       "100  The Amanto, aliens from outer space, have inva...  PG-13  \n",
       "..                                                 ...    ...  \n",
       "147  Tanya Degurechaff is a young soldier infamous ...      R  \n",
       "15   In times of need, if you look in the right pla...  PG-13  \n",
       "103  Gokuu Son is a young boy who lives in the wood...  PG-13  \n",
       "78   The Four Cardinal Heroes are a group of ordina...  PG-13  \n",
       "75   In the blink of an eye, thirty thousand bewild...  PG-13  \n",
       "\n",
       "[103 rows x 13 columns]"
      ]
     },
     "execution_count": 11,
     "metadata": {},
     "output_type": "execute_result"
    }
   ],
   "source": [
    "dobra_ocena = animeji['ocena'] > 8\n",
    "veliko_clenov = animeji['stevilo_clenov'] > 500000\n",
    "\n",
    "dobri_animeji = animeji[dobra_ocena & veliko_clenov]\n",
    "dobri_animeji.sort_values('ocena', ascending=False)"
   ]
  },
  {
   "cell_type": "code",
   "execution_count": 12,
   "metadata": {},
   "outputs": [
    {
     "data": {
      "text/plain": [
       "<AxesSubplot:xlabel='stevilo_clenov', ylabel='ocena'>"
      ]
     },
     "execution_count": 12,
     "metadata": {},
     "output_type": "execute_result"
    },
    {
     "data": {
      "image/png": "[encoded data removed]",
      "text/plain": [
       "<Figure size 432x288 with 1 Axes>"
      ]
     },
     "metadata": {
      "needs_background": "light"
     },
     "output_type": "display_data"
    }
   ],
   "source": [
    "dobri_animeji.plot.scatter(x=\"stevilo_clenov\", y=\"ocena\")"
   ]
  },
  {
   "cell_type": "markdown",
   "metadata": {},
   "source": [
    "Opazimo, da le en anime z več kot 2,000,000 členov ima oceno višjo kot 9. Zato bomo naredili našo oceno. Na spletni strani MyAnimeList uporabnik ocenjuje animeje ocenam od 1 do 10. Če je anime na seznamu najljubših animejev poljubnega uporabnika, zagotovo je upotabnik animeju dal vsaj oceno 9. Zato naša ocena bo **(Os * U / (U + Au) * 19 * N / 2 / (N + An)) / 10**, kjer je:\n",
    "* **Os** ocena na spletni strani\n",
    "* **N** število členov, ki so tisti anime označili kot najljubši\n",
    "* **U** ukupno število členov\n",
    "* **Au** povprečno število členov\n",
    "* **An** povprečno število členov, ki imajo titste animeje označene kot najljubši"
   ]
  },
  {
   "cell_type": "code",
   "execution_count": 13,
   "metadata": {},
   "outputs": [
    {
     "data": {
      "text/html": [
       "<div>\n",
       "<style scoped>\n",
       "    .dataframe tbody tr th:only-of-type {\n",
       "        vertical-align: middle;\n",
       "    }\n",
       "\n",
       "    .dataframe tbody tr th {\n",
       "        vertical-align: top;\n",
       "    }\n",
       "\n",
       "    .dataframe thead th {\n",
       "        text-align: right;\n",
       "    }\n",
       "</style>\n",
       "<table border=\"1\" class=\"dataframe\">\n",
       "  <thead>\n",
       "    <tr style=\"text-align: right;\">\n",
       "      <th></th>\n",
       "      <th>id</th>\n",
       "      <th>naslov</th>\n",
       "      <th>sezona</th>\n",
       "      <th>zacetek</th>\n",
       "      <th>konec</th>\n",
       "      <th>vir</th>\n",
       "      <th>epizode</th>\n",
       "      <th>dolzina</th>\n",
       "      <th>stevilo_clenov</th>\n",
       "      <th>najljubsi</th>\n",
       "      <th>ocena</th>\n",
       "      <th>opis</th>\n",
       "      <th>oznaka</th>\n",
       "      <th>nova ocena</th>\n",
       "    </tr>\n",
       "  </thead>\n",
       "  <tbody>\n",
       "    <tr>\n",
       "      <th>2</th>\n",
       "      <td>5114</td>\n",
       "      <td>Fullmetal Alchemist: Brotherhood</td>\n",
       "      <td>Spring 2009</td>\n",
       "      <td>2009.0</td>\n",
       "      <td>2010.0</td>\n",
       "      <td>Manga</td>\n",
       "      <td>64.0</td>\n",
       "      <td>24.0</td>\n",
       "      <td>2090273</td>\n",
       "      <td>172608</td>\n",
       "      <td>9.21</td>\n",
       "      <td>&amp;quot;In order for something to be obtained, s...</td>\n",
       "      <td>R</td>\n",
       "      <td>9.56</td>\n",
       "    </tr>\n",
       "    <tr>\n",
       "      <th>8</th>\n",
       "      <td>9253</td>\n",
       "      <td>Steins;Gate</td>\n",
       "      <td>Spring 2011</td>\n",
       "      <td>2011.0</td>\n",
       "      <td>2011.0</td>\n",
       "      <td>Visual novel</td>\n",
       "      <td>24.0</td>\n",
       "      <td>24.0</td>\n",
       "      <td>1681837</td>\n",
       "      <td>143451</td>\n",
       "      <td>9.12</td>\n",
       "      <td>The self-proclaimed mad scientist Rintarou Oka...</td>\n",
       "      <td>PG-13</td>\n",
       "      <td>9.45</td>\n",
       "    </tr>\n",
       "    <tr>\n",
       "      <th>9</th>\n",
       "      <td>11061</td>\n",
       "      <td>Hunter x Hunter (2011)</td>\n",
       "      <td>Fall 2011</td>\n",
       "      <td>2011.0</td>\n",
       "      <td>2014.0</td>\n",
       "      <td>Manga</td>\n",
       "      <td>148.0</td>\n",
       "      <td>23.0</td>\n",
       "      <td>1529228</td>\n",
       "      <td>136870</td>\n",
       "      <td>9.11</td>\n",
       "      <td>Hunter x Hunter is set in a world where Hunter...</td>\n",
       "      <td>PG-13</td>\n",
       "      <td>9.43</td>\n",
       "    </tr>\n",
       "    <tr>\n",
       "      <th>68</th>\n",
       "      <td>4181</td>\n",
       "      <td>Clannad: After Story</td>\n",
       "      <td>Fall 2008</td>\n",
       "      <td>2008.0</td>\n",
       "      <td>2009.0</td>\n",
       "      <td>Visual novel</td>\n",
       "      <td>24.0</td>\n",
       "      <td>24.0</td>\n",
       "      <td>875877</td>\n",
       "      <td>60567</td>\n",
       "      <td>8.96</td>\n",
       "      <td>Clannad: After Story, the sequel to the critic...</td>\n",
       "      <td>PG-13</td>\n",
       "      <td>9.13</td>\n",
       "    </tr>\n",
       "    <tr>\n",
       "      <th>64</th>\n",
       "      <td>38524</td>\n",
       "      <td>Shingeki no Kyojin Season 3 Part 2</td>\n",
       "      <td>Spring 2019</td>\n",
       "      <td>2019.0</td>\n",
       "      <td>2019.0</td>\n",
       "      <td>Manga</td>\n",
       "      <td>10.0</td>\n",
       "      <td>23.0</td>\n",
       "      <td>899833</td>\n",
       "      <td>33903</td>\n",
       "      <td>9.09</td>\n",
       "      <td>Seeking to restore humanity’s diminishing hope...</td>\n",
       "      <td>R</td>\n",
       "      <td>9.12</td>\n",
       "    </tr>\n",
       "    <tr>\n",
       "      <th>...</th>\n",
       "      <td>...</td>\n",
       "      <td>...</td>\n",
       "      <td>...</td>\n",
       "      <td>...</td>\n",
       "      <td>...</td>\n",
       "      <td>...</td>\n",
       "      <td>...</td>\n",
       "      <td>...</td>\n",
       "      <td>...</td>\n",
       "      <td>...</td>\n",
       "      <td>...</td>\n",
       "      <td>...</td>\n",
       "      <td>...</td>\n",
       "      <td>...</td>\n",
       "    </tr>\n",
       "    <tr>\n",
       "      <th>4242</th>\n",
       "      <td>42263</td>\n",
       "      <td>Konglong Baobei Zhi Longshen Yongshi 2</td>\n",
       "      <td>NaN</td>\n",
       "      <td>2011.0</td>\n",
       "      <td>NaN</td>\n",
       "      <td>Original</td>\n",
       "      <td>52.0</td>\n",
       "      <td>15.0</td>\n",
       "      <td>37</td>\n",
       "      <td>0</td>\n",
       "      <td>NaN</td>\n",
       "      <td>NaN</td>\n",
       "      <td>PG</td>\n",
       "      <td>NaN</td>\n",
       "    </tr>\n",
       "    <tr>\n",
       "      <th>4243</th>\n",
       "      <td>42765</td>\n",
       "      <td>Ji Jia Shou Shen</td>\n",
       "      <td>NaN</td>\n",
       "      <td>2010.0</td>\n",
       "      <td>2010.0</td>\n",
       "      <td>Original</td>\n",
       "      <td>26.0</td>\n",
       "      <td>23.0</td>\n",
       "      <td>32</td>\n",
       "      <td>0</td>\n",
       "      <td>NaN</td>\n",
       "      <td>NaN</td>\n",
       "      <td>PG</td>\n",
       "      <td>NaN</td>\n",
       "    </tr>\n",
       "    <tr>\n",
       "      <th>4244</th>\n",
       "      <td>42766</td>\n",
       "      <td>Ji Jia Shou Shen 2nd Season</td>\n",
       "      <td>NaN</td>\n",
       "      <td>2011.0</td>\n",
       "      <td>NaN</td>\n",
       "      <td>Original</td>\n",
       "      <td>26.0</td>\n",
       "      <td>23.0</td>\n",
       "      <td>29</td>\n",
       "      <td>0</td>\n",
       "      <td>NaN</td>\n",
       "      <td>NaN</td>\n",
       "      <td>PG</td>\n",
       "      <td>NaN</td>\n",
       "    </tr>\n",
       "    <tr>\n",
       "      <th>4245</th>\n",
       "      <td>42852</td>\n",
       "      <td>Little Village People</td>\n",
       "      <td>NaN</td>\n",
       "      <td>2008.0</td>\n",
       "      <td>2008.0</td>\n",
       "      <td>Original</td>\n",
       "      <td>15.0</td>\n",
       "      <td>6.0</td>\n",
       "      <td>22</td>\n",
       "      <td>0</td>\n",
       "      <td>NaN</td>\n",
       "      <td>Set in Penguin Village Hills, one of the most ...</td>\n",
       "      <td>PG-13</td>\n",
       "      <td>NaN</td>\n",
       "    </tr>\n",
       "    <tr>\n",
       "      <th>4246</th>\n",
       "      <td>45596</td>\n",
       "      <td>Kindan Joshi</td>\n",
       "      <td>Winter 2021</td>\n",
       "      <td>2020.0</td>\n",
       "      <td>2021.0</td>\n",
       "      <td>Original</td>\n",
       "      <td>5.0</td>\n",
       "      <td>5.0</td>\n",
       "      <td>9</td>\n",
       "      <td>0</td>\n",
       "      <td>NaN</td>\n",
       "      <td>NaN</td>\n",
       "      <td>PG-13</td>\n",
       "      <td>NaN</td>\n",
       "    </tr>\n",
       "  </tbody>\n",
       "</table>\n",
       "<p>4247 rows × 14 columns</p>\n",
       "</div>"
      ],
      "text/plain": [
       "         id                                  naslov       sezona  zacetek  \\\n",
       "2      5114        Fullmetal Alchemist: Brotherhood  Spring 2009   2009.0   \n",
       "8      9253                             Steins;Gate  Spring 2011   2011.0   \n",
       "9     11061                  Hunter x Hunter (2011)    Fall 2011   2011.0   \n",
       "68     4181                    Clannad: After Story    Fall 2008   2008.0   \n",
       "64    38524      Shingeki no Kyojin Season 3 Part 2  Spring 2019   2019.0   \n",
       "...     ...                                     ...          ...      ...   \n",
       "4242  42263  Konglong Baobei Zhi Longshen Yongshi 2          NaN   2011.0   \n",
       "4243  42765                        Ji Jia Shou Shen          NaN   2010.0   \n",
       "4244  42766             Ji Jia Shou Shen 2nd Season          NaN   2011.0   \n",
       "4245  42852                   Little Village People          NaN   2008.0   \n",
       "4246  45596                            Kindan Joshi  Winter 2021   2020.0   \n",
       "\n",
       "       konec           vir  epizode  dolzina  stevilo_clenov  najljubsi  \\\n",
       "2     2010.0         Manga     64.0     24.0         2090273     172608   \n",
       "8     2011.0  Visual novel     24.0     24.0         1681837     143451   \n",
       "9     2014.0         Manga    148.0     23.0         1529228     136870   \n",
       "68    2009.0  Visual novel     24.0     24.0          875877      60567   \n",
       "64    2019.0         Manga     10.0     23.0          899833      33903   \n",
       "...      ...           ...      ...      ...             ...        ...   \n",
       "4242     NaN      Original     52.0     15.0              37          0   \n",
       "4243  2010.0      Original     26.0     23.0              32          0   \n",
       "4244     NaN      Original     26.0     23.0              29          0   \n",
       "4245  2008.0      Original     15.0      6.0              22          0   \n",
       "4246  2021.0      Original      5.0      5.0               9          0   \n",
       "\n",
       "      ocena                                               opis oznaka  \\\n",
       "2      9.21  &quot;In order for something to be obtained, s...      R   \n",
       "8      9.12  The self-proclaimed mad scientist Rintarou Oka...  PG-13   \n",
       "9      9.11  Hunter x Hunter is set in a world where Hunter...  PG-13   \n",
       "68     8.96  Clannad: After Story, the sequel to the critic...  PG-13   \n",
       "64     9.09  Seeking to restore humanity’s diminishing hope...      R   \n",
       "...     ...                                                ...    ...   \n",
       "4242    NaN                                                NaN     PG   \n",
       "4243    NaN                                                NaN     PG   \n",
       "4244    NaN                                                NaN     PG   \n",
       "4245    NaN  Set in Penguin Village Hills, one of the most ...  PG-13   \n",
       "4246    NaN                                                NaN  PG-13   \n",
       "\n",
       "      nova ocena  \n",
       "2           9.56  \n",
       "8           9.45  \n",
       "9           9.43  \n",
       "68          9.13  \n",
       "64          9.12  \n",
       "...          ...  \n",
       "4242         NaN  \n",
       "4243         NaN  \n",
       "4244         NaN  \n",
       "4245         NaN  \n",
       "4246         NaN  \n",
       "\n",
       "[4247 rows x 14 columns]"
      ]
     },
     "execution_count": 13,
     "metadata": {},
     "output_type": "execute_result"
    }
   ],
   "source": [
    "def nova_ocena(animeji):\n",
    "    os = animeji['ocena']\n",
    "    n = animeji['najljubsi']\n",
    "    u = animeji['stevilo_clenov']\n",
    "    au = (animeji['stevilo_clenov']).mean()\n",
    "    an = (animeji['najljubsi']).mean()\n",
    "    ocena = (os * (u / (u + au) + 19 * n / 2 / (n + an))) / 10\n",
    "    return round(ocena, 2)\n",
    "    \n",
    "animeji['nova ocena'] = nova_ocena(animeji)\n",
    "animeji.sort_values('nova ocena', ascending=False)"
   ]
  },
  {
   "cell_type": "markdown",
   "metadata": {},
   "source": [
    "Zdaj poglejmo animeje, ki imajo novo oceno večjo kot 6 in število členov večje kot 500,000."
   ]
  },
  {
   "cell_type": "code",
   "execution_count": 14,
   "metadata": {},
   "outputs": [
    {
     "data": {
      "text/html": [
       "<div>\n",
       "<style scoped>\n",
       "    .dataframe tbody tr th:only-of-type {\n",
       "        vertical-align: middle;\n",
       "    }\n",
       "\n",
       "    .dataframe tbody tr th {\n",
       "        vertical-align: top;\n",
       "    }\n",
       "\n",
       "    .dataframe thead th {\n",
       "        text-align: right;\n",
       "    }\n",
       "</style>\n",
       "<table border=\"1\" class=\"dataframe\">\n",
       "  <thead>\n",
       "    <tr style=\"text-align: right;\">\n",
       "      <th></th>\n",
       "      <th>id</th>\n",
       "      <th>naslov</th>\n",
       "      <th>sezona</th>\n",
       "      <th>zacetek</th>\n",
       "      <th>konec</th>\n",
       "      <th>vir</th>\n",
       "      <th>epizode</th>\n",
       "      <th>dolzina</th>\n",
       "      <th>stevilo_clenov</th>\n",
       "      <th>najljubsi</th>\n",
       "      <th>ocena</th>\n",
       "      <th>opis</th>\n",
       "      <th>oznaka</th>\n",
       "      <th>nova ocena</th>\n",
       "    </tr>\n",
       "  </thead>\n",
       "  <tbody>\n",
       "    <tr>\n",
       "      <th>0</th>\n",
       "      <td>1535</td>\n",
       "      <td>Death Note</td>\n",
       "      <td>Fall 2006</td>\n",
       "      <td>2006.0</td>\n",
       "      <td>2007.0</td>\n",
       "      <td>Manga</td>\n",
       "      <td>37.0</td>\n",
       "      <td>23.0</td>\n",
       "      <td>2410185</td>\n",
       "      <td>136425</td>\n",
       "      <td>8.63</td>\n",
       "      <td>A shinigami, as a god of death, can kill any p...</td>\n",
       "      <td>R</td>\n",
       "      <td>8.95</td>\n",
       "    </tr>\n",
       "    <tr>\n",
       "      <th>1</th>\n",
       "      <td>16498</td>\n",
       "      <td>Shingeki no Kyojin</td>\n",
       "      <td>Spring 2013</td>\n",
       "      <td>2013.0</td>\n",
       "      <td>2013.0</td>\n",
       "      <td>Manga</td>\n",
       "      <td>25.0</td>\n",
       "      <td>24.0</td>\n",
       "      <td>2316411</td>\n",
       "      <td>113878</td>\n",
       "      <td>8.46</td>\n",
       "      <td>Centuries ago, mankind was slaughtered to near...</td>\n",
       "      <td>R</td>\n",
       "      <td>8.75</td>\n",
       "    </tr>\n",
       "    <tr>\n",
       "      <th>2</th>\n",
       "      <td>5114</td>\n",
       "      <td>Fullmetal Alchemist: Brotherhood</td>\n",
       "      <td>Spring 2009</td>\n",
       "      <td>2009.0</td>\n",
       "      <td>2010.0</td>\n",
       "      <td>Manga</td>\n",
       "      <td>64.0</td>\n",
       "      <td>24.0</td>\n",
       "      <td>2090273</td>\n",
       "      <td>172608</td>\n",
       "      <td>9.21</td>\n",
       "      <td>&amp;quot;In order for something to be obtained, s...</td>\n",
       "      <td>R</td>\n",
       "      <td>9.56</td>\n",
       "    </tr>\n",
       "    <tr>\n",
       "      <th>3</th>\n",
       "      <td>11757</td>\n",
       "      <td>Sword Art Online</td>\n",
       "      <td>Summer 2012</td>\n",
       "      <td>2012.0</td>\n",
       "      <td>2012.0</td>\n",
       "      <td>Light novel</td>\n",
       "      <td>25.0</td>\n",
       "      <td>23.0</td>\n",
       "      <td>2088233</td>\n",
       "      <td>64536</td>\n",
       "      <td>7.28</td>\n",
       "      <td>In the year 2022, virtual reality has progress...</td>\n",
       "      <td>PG-13</td>\n",
       "      <td>7.47</td>\n",
       "    </tr>\n",
       "    <tr>\n",
       "      <th>4</th>\n",
       "      <td>30276</td>\n",
       "      <td>One Punch Man</td>\n",
       "      <td>Fall 2015</td>\n",
       "      <td>2015.0</td>\n",
       "      <td>2015.0</td>\n",
       "      <td>Web manga</td>\n",
       "      <td>12.0</td>\n",
       "      <td>24.0</td>\n",
       "      <td>1979366</td>\n",
       "      <td>52089</td>\n",
       "      <td>8.59</td>\n",
       "      <td>The seemingly ordinary and unimpressive Saitam...</td>\n",
       "      <td>R</td>\n",
       "      <td>8.77</td>\n",
       "    </tr>\n",
       "    <tr>\n",
       "      <th>...</th>\n",
       "      <td>...</td>\n",
       "      <td>...</td>\n",
       "      <td>...</td>\n",
       "      <td>...</td>\n",
       "      <td>...</td>\n",
       "      <td>...</td>\n",
       "      <td>...</td>\n",
       "      <td>...</td>\n",
       "      <td>...</td>\n",
       "      <td>...</td>\n",
       "      <td>...</td>\n",
       "      <td>...</td>\n",
       "      <td>...</td>\n",
       "      <td>...</td>\n",
       "    </tr>\n",
       "    <tr>\n",
       "      <th>168</th>\n",
       "      <td>1887</td>\n",
       "      <td>Lucky☆Star</td>\n",
       "      <td>Spring 2007</td>\n",
       "      <td>2007.0</td>\n",
       "      <td>2007.0</td>\n",
       "      <td>4-koma manga</td>\n",
       "      <td>24.0</td>\n",
       "      <td>24.0</td>\n",
       "      <td>516745</td>\n",
       "      <td>13867</td>\n",
       "      <td>7.77</td>\n",
       "      <td>Lucky☆Star follows the daily lives of four cut...</td>\n",
       "      <td>PG-13</td>\n",
       "      <td>7.36</td>\n",
       "    </tr>\n",
       "    <tr>\n",
       "      <th>169</th>\n",
       "      <td>6347</td>\n",
       "      <td>Baka to Test to Shoukanjuu</td>\n",
       "      <td>Winter 2010</td>\n",
       "      <td>2010.0</td>\n",
       "      <td>2010.0</td>\n",
       "      <td>Light novel</td>\n",
       "      <td>13.0</td>\n",
       "      <td>24.0</td>\n",
       "      <td>514735</td>\n",
       "      <td>5665</td>\n",
       "      <td>7.61</td>\n",
       "      <td>Fumizuki Academy isn&amp;#039;t a typical Japanese...</td>\n",
       "      <td>PG-13</td>\n",
       "      <td>6.42</td>\n",
       "    </tr>\n",
       "    <tr>\n",
       "      <th>174</th>\n",
       "      <td>37675</td>\n",
       "      <td>Overlord III</td>\n",
       "      <td>Summer 2018</td>\n",
       "      <td>2018.0</td>\n",
       "      <td>2018.0</td>\n",
       "      <td>Light novel</td>\n",
       "      <td>13.0</td>\n",
       "      <td>23.0</td>\n",
       "      <td>509637</td>\n",
       "      <td>3838</td>\n",
       "      <td>7.97</td>\n",
       "      <td>Following the horrific assault on the Re-Estiz...</td>\n",
       "      <td>R</td>\n",
       "      <td>6.20</td>\n",
       "    </tr>\n",
       "    <tr>\n",
       "      <th>175</th>\n",
       "      <td>32729</td>\n",
       "      <td>Orange</td>\n",
       "      <td>Summer 2016</td>\n",
       "      <td>2016.0</td>\n",
       "      <td>2016.0</td>\n",
       "      <td>Manga</td>\n",
       "      <td>13.0</td>\n",
       "      <td>24.0</td>\n",
       "      <td>505579</td>\n",
       "      <td>4582</td>\n",
       "      <td>7.62</td>\n",
       "      <td>Naho Takamiya&amp;#039;s first day of her sophomor...</td>\n",
       "      <td>PG-13</td>\n",
       "      <td>6.17</td>\n",
       "    </tr>\n",
       "    <tr>\n",
       "      <th>177</th>\n",
       "      <td>30694</td>\n",
       "      <td>Dragon Ball Super</td>\n",
       "      <td>Summer 2015</td>\n",
       "      <td>2015.0</td>\n",
       "      <td>2018.0</td>\n",
       "      <td>Manga</td>\n",
       "      <td>131.0</td>\n",
       "      <td>23.0</td>\n",
       "      <td>502550</td>\n",
       "      <td>7935</td>\n",
       "      <td>7.44</td>\n",
       "      <td>Seven years after the events of Dragon Ball Z,...</td>\n",
       "      <td>PG-13</td>\n",
       "      <td>6.62</td>\n",
       "    </tr>\n",
       "  </tbody>\n",
       "</table>\n",
       "<p>165 rows × 14 columns</p>\n",
       "</div>"
      ],
      "text/plain": [
       "        id                            naslov       sezona  zacetek   konec  \\\n",
       "0     1535                        Death Note    Fall 2006   2006.0  2007.0   \n",
       "1    16498                Shingeki no Kyojin  Spring 2013   2013.0  2013.0   \n",
       "2     5114  Fullmetal Alchemist: Brotherhood  Spring 2009   2009.0  2010.0   \n",
       "3    11757                  Sword Art Online  Summer 2012   2012.0  2012.0   \n",
       "4    30276                     One Punch Man    Fall 2015   2015.0  2015.0   \n",
       "..     ...                               ...          ...      ...     ...   \n",
       "168   1887                        Lucky☆Star  Spring 2007   2007.0  2007.0   \n",
       "169   6347        Baka to Test to Shoukanjuu  Winter 2010   2010.0  2010.0   \n",
       "174  37675                      Overlord III  Summer 2018   2018.0  2018.0   \n",
       "175  32729                            Orange  Summer 2016   2016.0  2016.0   \n",
       "177  30694                 Dragon Ball Super  Summer 2015   2015.0  2018.0   \n",
       "\n",
       "              vir  epizode  dolzina  stevilo_clenov  najljubsi  ocena  \\\n",
       "0           Manga     37.0     23.0         2410185     136425   8.63   \n",
       "1           Manga     25.0     24.0         2316411     113878   8.46   \n",
       "2           Manga     64.0     24.0         2090273     172608   9.21   \n",
       "3     Light novel     25.0     23.0         2088233      64536   7.28   \n",
       "4       Web manga     12.0     24.0         1979366      52089   8.59   \n",
       "..            ...      ...      ...             ...        ...    ...   \n",
       "168  4-koma manga     24.0     24.0          516745      13867   7.77   \n",
       "169   Light novel     13.0     24.0          514735       5665   7.61   \n",
       "174   Light novel     13.0     23.0          509637       3838   7.97   \n",
       "175         Manga     13.0     24.0          505579       4582   7.62   \n",
       "177         Manga    131.0     23.0          502550       7935   7.44   \n",
       "\n",
       "                                                  opis oznaka  nova ocena  \n",
       "0    A shinigami, as a god of death, can kill any p...      R        8.95  \n",
       "1    Centuries ago, mankind was slaughtered to near...      R        8.75  \n",
       "2    &quot;In order for something to be obtained, s...      R        9.56  \n",
       "3    In the year 2022, virtual reality has progress...  PG-13        7.47  \n",
       "4    The seemingly ordinary and unimpressive Saitam...      R        8.77  \n",
       "..                                                 ...    ...         ...  \n",
       "168  Lucky☆Star follows the daily lives of four cut...  PG-13        7.36  \n",
       "169  Fumizuki Academy isn&#039;t a typical Japanese...  PG-13        6.42  \n",
       "174  Following the horrific assault on the Re-Estiz...      R        6.20  \n",
       "175  Naho Takamiya&#039;s first day of her sophomor...  PG-13        6.17  \n",
       "177  Seven years after the events of Dragon Ball Z,...  PG-13        6.62  \n",
       "\n",
       "[165 rows x 14 columns]"
      ]
     },
     "execution_count": 14,
     "metadata": {},
     "output_type": "execute_result"
    }
   ],
   "source": [
    "dn_ocena = animeji['nova ocena'] > 6\n",
    "v_cleni = animeji['stevilo_clenov'] > 500000\n",
    "\n",
    "novi_dobri_animeji = animeji[dn_ocena & v_cleni]\n",
    "novi_dobri_animeji"
   ]
  },
  {
   "cell_type": "code",
   "execution_count": 15,
   "metadata": {},
   "outputs": [
    {
     "data": {
      "text/plain": [
       "<AxesSubplot:xlabel='stevilo_clenov', ylabel='nova ocena'>"
      ]
     },
     "execution_count": 15,
     "metadata": {},
     "output_type": "execute_result"
    },
    {
     "data": {
      "image/png": "[encoded data removed]",
      "text/plain": [
       "<Figure size 432x288 with 1 Axes>"
      ]
     },
     "metadata": {
      "needs_background": "light"
     },
     "output_type": "display_data"
    }
   ],
   "source": [
    "novi_dobri_animeji.plot.scatter(x=\"stevilo_clenov\", y=\"nova ocena\")"
   ]
  },
  {
   "cell_type": "markdown",
   "metadata": {},
   "source": [
    "Zdaj imamo malo boljšo oceno. Poglejmo bolj popularne animeje z visoko novo oceno."
   ]
  },
  {
   "cell_type": "code",
   "execution_count": 16,
   "metadata": {},
   "outputs": [
    {
     "data": {
      "text/html": [
       "<div>\n",
       "<style scoped>\n",
       "    .dataframe tbody tr th:only-of-type {\n",
       "        vertical-align: middle;\n",
       "    }\n",
       "\n",
       "    .dataframe tbody tr th {\n",
       "        vertical-align: top;\n",
       "    }\n",
       "\n",
       "    .dataframe thead th {\n",
       "        text-align: right;\n",
       "    }\n",
       "</style>\n",
       "<table border=\"1\" class=\"dataframe\">\n",
       "  <thead>\n",
       "    <tr style=\"text-align: right;\">\n",
       "      <th></th>\n",
       "      <th>id</th>\n",
       "      <th>naslov</th>\n",
       "      <th>sezona</th>\n",
       "      <th>zacetek</th>\n",
       "      <th>konec</th>\n",
       "      <th>vir</th>\n",
       "      <th>epizode</th>\n",
       "      <th>dolzina</th>\n",
       "      <th>stevilo_clenov</th>\n",
       "      <th>najljubsi</th>\n",
       "      <th>ocena</th>\n",
       "      <th>opis</th>\n",
       "      <th>oznaka</th>\n",
       "      <th>nova ocena</th>\n",
       "    </tr>\n",
       "  </thead>\n",
       "  <tbody>\n",
       "    <tr>\n",
       "      <th>0</th>\n",
       "      <td>5114</td>\n",
       "      <td>Fullmetal Alchemist: Brotherhood</td>\n",
       "      <td>Spring 2009</td>\n",
       "      <td>2009.0</td>\n",
       "      <td>2010.0</td>\n",
       "      <td>Manga</td>\n",
       "      <td>64.0</td>\n",
       "      <td>24.0</td>\n",
       "      <td>2090273</td>\n",
       "      <td>172608</td>\n",
       "      <td>9.21</td>\n",
       "      <td>&amp;quot;In order for something to be obtained, s...</td>\n",
       "      <td>R</td>\n",
       "      <td>9.56</td>\n",
       "    </tr>\n",
       "    <tr>\n",
       "      <th>1</th>\n",
       "      <td>9253</td>\n",
       "      <td>Steins;Gate</td>\n",
       "      <td>Spring 2011</td>\n",
       "      <td>2011.0</td>\n",
       "      <td>2011.0</td>\n",
       "      <td>Visual novel</td>\n",
       "      <td>24.0</td>\n",
       "      <td>24.0</td>\n",
       "      <td>1681837</td>\n",
       "      <td>143451</td>\n",
       "      <td>9.12</td>\n",
       "      <td>The self-proclaimed mad scientist Rintarou Oka...</td>\n",
       "      <td>PG-13</td>\n",
       "      <td>9.45</td>\n",
       "    </tr>\n",
       "    <tr>\n",
       "      <th>2</th>\n",
       "      <td>11061</td>\n",
       "      <td>Hunter x Hunter (2011)</td>\n",
       "      <td>Fall 2011</td>\n",
       "      <td>2011.0</td>\n",
       "      <td>2014.0</td>\n",
       "      <td>Manga</td>\n",
       "      <td>148.0</td>\n",
       "      <td>23.0</td>\n",
       "      <td>1529228</td>\n",
       "      <td>136870</td>\n",
       "      <td>9.11</td>\n",
       "      <td>Hunter x Hunter is set in a world where Hunter...</td>\n",
       "      <td>PG-13</td>\n",
       "      <td>9.43</td>\n",
       "    </tr>\n",
       "    <tr>\n",
       "      <th>3</th>\n",
       "      <td>4181</td>\n",
       "      <td>Clannad: After Story</td>\n",
       "      <td>Fall 2008</td>\n",
       "      <td>2008.0</td>\n",
       "      <td>2009.0</td>\n",
       "      <td>Visual novel</td>\n",
       "      <td>24.0</td>\n",
       "      <td>24.0</td>\n",
       "      <td>875877</td>\n",
       "      <td>60567</td>\n",
       "      <td>8.96</td>\n",
       "      <td>Clannad: After Story, the sequel to the critic...</td>\n",
       "      <td>PG-13</td>\n",
       "      <td>9.13</td>\n",
       "    </tr>\n",
       "    <tr>\n",
       "      <th>4</th>\n",
       "      <td>38524</td>\n",
       "      <td>Shingeki no Kyojin Season 3 Part 2</td>\n",
       "      <td>Spring 2019</td>\n",
       "      <td>2019.0</td>\n",
       "      <td>2019.0</td>\n",
       "      <td>Manga</td>\n",
       "      <td>10.0</td>\n",
       "      <td>23.0</td>\n",
       "      <td>899833</td>\n",
       "      <td>33903</td>\n",
       "      <td>9.09</td>\n",
       "      <td>Seeking to restore humanity’s diminishing hope...</td>\n",
       "      <td>R</td>\n",
       "      <td>9.12</td>\n",
       "    </tr>\n",
       "    <tr>\n",
       "      <th>...</th>\n",
       "      <td>...</td>\n",
       "      <td>...</td>\n",
       "      <td>...</td>\n",
       "      <td>...</td>\n",
       "      <td>...</td>\n",
       "      <td>...</td>\n",
       "      <td>...</td>\n",
       "      <td>...</td>\n",
       "      <td>...</td>\n",
       "      <td>...</td>\n",
       "      <td>...</td>\n",
       "      <td>...</td>\n",
       "      <td>...</td>\n",
       "      <td>...</td>\n",
       "    </tr>\n",
       "    <tr>\n",
       "      <th>77</th>\n",
       "      <td>38408</td>\n",
       "      <td>Boku no Hero Academia 4th Season</td>\n",
       "      <td>Fall 2019</td>\n",
       "      <td>2019.0</td>\n",
       "      <td>2020.0</td>\n",
       "      <td>Manga</td>\n",
       "      <td>25.0</td>\n",
       "      <td>24.0</td>\n",
       "      <td>834980</td>\n",
       "      <td>7391</td>\n",
       "      <td>8.10</td>\n",
       "      <td>After successfully passing his Provisional Her...</td>\n",
       "      <td>PG-13</td>\n",
       "      <td>7.18</td>\n",
       "    </tr>\n",
       "    <tr>\n",
       "      <th>78</th>\n",
       "      <td>15809</td>\n",
       "      <td>Hataraku Maou-sama!</td>\n",
       "      <td>Spring 2013</td>\n",
       "      <td>2013.0</td>\n",
       "      <td>2013.0</td>\n",
       "      <td>Light novel</td>\n",
       "      <td>13.0</td>\n",
       "      <td>24.0</td>\n",
       "      <td>1007403</td>\n",
       "      <td>9263</td>\n",
       "      <td>7.84</td>\n",
       "      <td>Striking fear into the hearts of mortals, the ...</td>\n",
       "      <td>PG-13</td>\n",
       "      <td>7.17</td>\n",
       "    </tr>\n",
       "    <tr>\n",
       "      <th>79</th>\n",
       "      <td>28121</td>\n",
       "      <td>Dungeon ni Deai wo Motomeru no wa Machigatteir...</td>\n",
       "      <td>Spring 2015</td>\n",
       "      <td>2015.0</td>\n",
       "      <td>2015.0</td>\n",
       "      <td>Light novel</td>\n",
       "      <td>13.0</td>\n",
       "      <td>24.0</td>\n",
       "      <td>1020776</td>\n",
       "      <td>9947</td>\n",
       "      <td>7.66</td>\n",
       "      <td>Life in the bustling city of Orario is never d...</td>\n",
       "      <td>PG-13</td>\n",
       "      <td>7.07</td>\n",
       "    </tr>\n",
       "    <tr>\n",
       "      <th>80</th>\n",
       "      <td>26243</td>\n",
       "      <td>Owari no Seraph</td>\n",
       "      <td>Spring 2015</td>\n",
       "      <td>2015.0</td>\n",
       "      <td>2015.0</td>\n",
       "      <td>Manga</td>\n",
       "      <td>12.0</td>\n",
       "      <td>23.0</td>\n",
       "      <td>834380</td>\n",
       "      <td>10128</td>\n",
       "      <td>7.50</td>\n",
       "      <td>With the appearance of a mysterious virus that...</td>\n",
       "      <td>R</td>\n",
       "      <td>6.92</td>\n",
       "    </tr>\n",
       "    <tr>\n",
       "      <th>81</th>\n",
       "      <td>27899</td>\n",
       "      <td>Tokyo Ghoul √A</td>\n",
       "      <td>Winter 2015</td>\n",
       "      <td>2015.0</td>\n",
       "      <td>2015.0</td>\n",
       "      <td>Manga</td>\n",
       "      <td>12.0</td>\n",
       "      <td>24.0</td>\n",
       "      <td>1156651</td>\n",
       "      <td>10574</td>\n",
       "      <td>7.09</td>\n",
       "      <td>Ken Kaneki has finally come to accept the mons...</td>\n",
       "      <td>R</td>\n",
       "      <td>6.59</td>\n",
       "    </tr>\n",
       "  </tbody>\n",
       "</table>\n",
       "<p>82 rows × 14 columns</p>\n",
       "</div>"
      ],
      "text/plain": [
       "       id                                             naslov       sezona  \\\n",
       "0    5114                   Fullmetal Alchemist: Brotherhood  Spring 2009   \n",
       "1    9253                                        Steins;Gate  Spring 2011   \n",
       "2   11061                             Hunter x Hunter (2011)    Fall 2011   \n",
       "3    4181                               Clannad: After Story    Fall 2008   \n",
       "4   38524                 Shingeki no Kyojin Season 3 Part 2  Spring 2019   \n",
       "..    ...                                                ...          ...   \n",
       "77  38408                   Boku no Hero Academia 4th Season    Fall 2019   \n",
       "78  15809                                Hataraku Maou-sama!  Spring 2013   \n",
       "79  28121  Dungeon ni Deai wo Motomeru no wa Machigatteir...  Spring 2015   \n",
       "80  26243                                    Owari no Seraph  Spring 2015   \n",
       "81  27899                                     Tokyo Ghoul √A  Winter 2015   \n",
       "\n",
       "    zacetek   konec           vir  epizode  dolzina  stevilo_clenov  \\\n",
       "0    2009.0  2010.0         Manga     64.0     24.0         2090273   \n",
       "1    2011.0  2011.0  Visual novel     24.0     24.0         1681837   \n",
       "2    2011.0  2014.0         Manga    148.0     23.0         1529228   \n",
       "3    2008.0  2009.0  Visual novel     24.0     24.0          875877   \n",
       "4    2019.0  2019.0         Manga     10.0     23.0          899833   \n",
       "..      ...     ...           ...      ...      ...             ...   \n",
       "77   2019.0  2020.0         Manga     25.0     24.0          834980   \n",
       "78   2013.0  2013.0   Light novel     13.0     24.0         1007403   \n",
       "79   2015.0  2015.0   Light novel     13.0     24.0         1020776   \n",
       "80   2015.0  2015.0         Manga     12.0     23.0          834380   \n",
       "81   2015.0  2015.0         Manga     12.0     24.0         1156651   \n",
       "\n",
       "    najljubsi  ocena                                               opis  \\\n",
       "0      172608   9.21  &quot;In order for something to be obtained, s...   \n",
       "1      143451   9.12  The self-proclaimed mad scientist Rintarou Oka...   \n",
       "2      136870   9.11  Hunter x Hunter is set in a world where Hunter...   \n",
       "3       60567   8.96  Clannad: After Story, the sequel to the critic...   \n",
       "4       33903   9.09  Seeking to restore humanity’s diminishing hope...   \n",
       "..        ...    ...                                                ...   \n",
       "77       7391   8.10  After successfully passing his Provisional Her...   \n",
       "78       9263   7.84  Striking fear into the hearts of mortals, the ...   \n",
       "79       9947   7.66  Life in the bustling city of Orario is never d...   \n",
       "80      10128   7.50  With the appearance of a mysterious virus that...   \n",
       "81      10574   7.09  Ken Kaneki has finally come to accept the mons...   \n",
       "\n",
       "   oznaka  nova ocena  \n",
       "0       R        9.56  \n",
       "1   PG-13        9.45  \n",
       "2   PG-13        9.43  \n",
       "3   PG-13        9.13  \n",
       "4       R        9.12  \n",
       "..    ...         ...  \n",
       "77  PG-13        7.18  \n",
       "78  PG-13        7.17  \n",
       "79  PG-13        7.07  \n",
       "80      R        6.92  \n",
       "81      R        6.59  \n",
       "\n",
       "[82 rows x 14 columns]"
      ]
     },
     "execution_count": 16,
     "metadata": {},
     "output_type": "execute_result"
    }
   ],
   "source": [
    "najboljsa_ocena = animeji['nova ocena'] > 6.5\n",
    "najvec_clenov = animeji['stevilo_clenov'] > 800000\n",
    "\n",
    "najboljsi_animeji = animeji[najboljsa_ocena & najvec_clenov].sort_values('nova ocena', ascending=False)\n",
    "najboljsi_animeji.reset_index(drop=True, inplace=True)\n",
    "najboljsi_animeji"
   ]
  },
  {
   "cell_type": "markdown",
   "metadata": {},
   "source": [
    "Zdaj imamo naše najboljše animeje. Vidimo da se prva tri animeja niso spremenila, ampak je vse ostalo drugače. Našo analizo bomo delali z novimi ocenami.<br>\n",
    "Zaključili smo torej, da je najboljši anime vseh časov *Fullmetal Alchemist: Brotherhood*, potem *Steins;Gate*, in na tretjem mestu je *Hunter x Hunter*.\n",
    "***"
   ]
  },
  {
   "cell_type": "markdown",
   "metadata": {},
   "source": [
    "## Viri"
   ]
  },
  {
   "cell_type": "markdown",
   "metadata": {},
   "source": [
    "Poglejmo si zdaj kako sta popularnost in ocena animeja odvisna od vira animeja. Poglejmo si najprej katere vire imamo."
   ]
  },
  {
   "cell_type": "code",
   "execution_count": 17,
   "metadata": {},
   "outputs": [
    {
     "data": {
      "text/plain": [
       "array(['Manga', 'Light novel', 'Web manga', 'Visual novel', 'Original',\n",
       "       'Novel', '4-koma manga', 'Game', 'Music', 'Other', 'Card game',\n",
       "       'Book', 'Picture book', 'Unknown', 'Digital manga', 'Radio'],\n",
       "      dtype=object)"
      ]
     },
     "execution_count": 17,
     "metadata": {},
     "output_type": "execute_result"
    }
   ],
   "source": [
    "seznam_virov = animeji.vir.unique()\n",
    "seznam_virov"
   ]
  },
  {
   "cell_type": "markdown",
   "metadata": {},
   "source": [
    "Poglejmo si animeje po virih z njihovim ocenam."
   ]
  },
  {
   "cell_type": "code",
   "execution_count": 18,
   "metadata": {},
   "outputs": [
    {
     "data": {
      "text/html": [
       "<div>\n",
       "<style scoped>\n",
       "    .dataframe tbody tr th:only-of-type {\n",
       "        vertical-align: middle;\n",
       "    }\n",
       "\n",
       "    .dataframe tbody tr th {\n",
       "        vertical-align: top;\n",
       "    }\n",
       "\n",
       "    .dataframe thead th {\n",
       "        text-align: right;\n",
       "    }\n",
       "</style>\n",
       "<table border=\"1\" class=\"dataframe\">\n",
       "  <thead>\n",
       "    <tr style=\"text-align: right;\">\n",
       "      <th></th>\n",
       "      <th>naslov</th>\n",
       "      <th>vir</th>\n",
       "      <th>stevilo_clenov</th>\n",
       "      <th>nova ocena</th>\n",
       "    </tr>\n",
       "  </thead>\n",
       "  <tbody>\n",
       "    <tr>\n",
       "      <th>687</th>\n",
       "      <td>Hitoribocchi no Marumaru Seikatsu</td>\n",
       "      <td>4-koma manga</td>\n",
       "      <td>136372</td>\n",
       "      <td>3.21</td>\n",
       "    </tr>\n",
       "    <tr>\n",
       "      <th>918</th>\n",
       "      <td>Danchigai</td>\n",
       "      <td>4-koma manga</td>\n",
       "      <td>86720</td>\n",
       "      <td>0.77</td>\n",
       "    </tr>\n",
       "    <tr>\n",
       "      <th>2841</th>\n",
       "      <td>Mini Van</td>\n",
       "      <td>4-koma manga</td>\n",
       "      <td>1615</td>\n",
       "      <td>0.03</td>\n",
       "    </tr>\n",
       "    <tr>\n",
       "      <th>2236</th>\n",
       "      <td>High Score</td>\n",
       "      <td>4-koma manga</td>\n",
       "      <td>6973</td>\n",
       "      <td>0.07</td>\n",
       "    </tr>\n",
       "    <tr>\n",
       "      <th>117</th>\n",
       "      <td>Gekkan Shoujo Nozaki-kun</td>\n",
       "      <td>4-koma manga</td>\n",
       "      <td>645191</td>\n",
       "      <td>7.28</td>\n",
       "    </tr>\n",
       "    <tr>\n",
       "      <th>...</th>\n",
       "      <td>...</td>\n",
       "      <td>...</td>\n",
       "      <td>...</td>\n",
       "      <td>...</td>\n",
       "    </tr>\n",
       "    <tr>\n",
       "      <th>3449</th>\n",
       "      <td>Neko Neko Nihonshi 2nd Season</td>\n",
       "      <td>Web manga</td>\n",
       "      <td>453</td>\n",
       "      <td>NaN</td>\n",
       "    </tr>\n",
       "    <tr>\n",
       "      <th>84</th>\n",
       "      <td>Made in Abyss</td>\n",
       "      <td>Web manga</td>\n",
       "      <td>807987</td>\n",
       "      <td>8.72</td>\n",
       "    </tr>\n",
       "    <tr>\n",
       "      <th>2445</th>\n",
       "      <td>Wooser no Sono Higurashi: Mugen-hen</td>\n",
       "      <td>Web manga</td>\n",
       "      <td>4130</td>\n",
       "      <td>0.05</td>\n",
       "    </tr>\n",
       "    <tr>\n",
       "      <th>715</th>\n",
       "      <td>Doukyonin wa Hiza, Tokidoki, Atama no Ue.</td>\n",
       "      <td>Web manga</td>\n",
       "      <td>122556</td>\n",
       "      <td>3.22</td>\n",
       "    </tr>\n",
       "    <tr>\n",
       "      <th>3985</th>\n",
       "      <td>Neko Neko Nihonshi 4th Season</td>\n",
       "      <td>Web manga</td>\n",
       "      <td>174</td>\n",
       "      <td>NaN</td>\n",
       "    </tr>\n",
       "  </tbody>\n",
       "</table>\n",
       "<p>4247 rows × 4 columns</p>\n",
       "</div>"
      ],
      "text/plain": [
       "                                         naslov           vir  stevilo_clenov  \\\n",
       "687           Hitoribocchi no Marumaru Seikatsu  4-koma manga          136372   \n",
       "918                                   Danchigai  4-koma manga           86720   \n",
       "2841                                   Mini Van  4-koma manga            1615   \n",
       "2236                                 High Score  4-koma manga            6973   \n",
       "117                    Gekkan Shoujo Nozaki-kun  4-koma manga          645191   \n",
       "...                                         ...           ...             ...   \n",
       "3449              Neko Neko Nihonshi 2nd Season     Web manga             453   \n",
       "84                                Made in Abyss     Web manga          807987   \n",
       "2445        Wooser no Sono Higurashi: Mugen-hen     Web manga            4130   \n",
       "715   Doukyonin wa Hiza, Tokidoki, Atama no Ue.     Web manga          122556   \n",
       "3985              Neko Neko Nihonshi 4th Season     Web manga             174   \n",
       "\n",
       "      nova ocena  \n",
       "687         3.21  \n",
       "918         0.77  \n",
       "2841        0.03  \n",
       "2236        0.07  \n",
       "117         7.28  \n",
       "...          ...  \n",
       "3449         NaN  \n",
       "84          8.72  \n",
       "2445        0.05  \n",
       "715         3.22  \n",
       "3985         NaN  \n",
       "\n",
       "[4247 rows x 4 columns]"
      ]
     },
     "execution_count": 18,
     "metadata": {},
     "output_type": "execute_result"
    }
   ],
   "source": [
    "animeji_in_viri = animeji[['naslov', 'vir', 'stevilo_clenov', 'nova ocena']]\n",
    "animeji_in_viri.sort_values('vir')"
   ]
  },
  {
   "cell_type": "code",
   "execution_count": 19,
   "metadata": {},
   "outputs": [],
   "source": [
    "animeji_in_viri = {}\n",
    "\n",
    "for vir in seznam_virov:\n",
    "    animeji_in_viri[vir] = animeji[animeji.vir == vir]"
   ]
  },
  {
   "cell_type": "code",
   "execution_count": 20,
   "metadata": {},
   "outputs": [
    {
     "data": {
      "text/plain": [
       "'Manga'"
      ]
     },
     "metadata": {},
     "output_type": "display_data"
    },
    {
     "data": {
      "text/html": [
       "<div>\n",
       "<style scoped>\n",
       "    .dataframe tbody tr th:only-of-type {\n",
       "        vertical-align: middle;\n",
       "    }\n",
       "\n",
       "    .dataframe tbody tr th {\n",
       "        vertical-align: top;\n",
       "    }\n",
       "\n",
       "    .dataframe thead th {\n",
       "        text-align: right;\n",
       "    }\n",
       "</style>\n",
       "<table border=\"1\" class=\"dataframe\">\n",
       "  <thead>\n",
       "    <tr style=\"text-align: right;\">\n",
       "      <th></th>\n",
       "      <th>naslov</th>\n",
       "      <th>stevilo_clenov</th>\n",
       "      <th>najljubsi</th>\n",
       "      <th>nova ocena</th>\n",
       "    </tr>\n",
       "  </thead>\n",
       "  <tbody>\n",
       "    <tr>\n",
       "      <th>2</th>\n",
       "      <td>Fullmetal Alchemist: Brotherhood</td>\n",
       "      <td>2090273</td>\n",
       "      <td>172608</td>\n",
       "      <td>9.56</td>\n",
       "    </tr>\n",
       "    <tr>\n",
       "      <th>9</th>\n",
       "      <td>Hunter x Hunter (2011)</td>\n",
       "      <td>1529228</td>\n",
       "      <td>136870</td>\n",
       "      <td>9.43</td>\n",
       "    </tr>\n",
       "    <tr>\n",
       "      <th>64</th>\n",
       "      <td>Shingeki no Kyojin Season 3 Part 2</td>\n",
       "      <td>899833</td>\n",
       "      <td>33903</td>\n",
       "      <td>9.12</td>\n",
       "    </tr>\n",
       "    <tr>\n",
       "      <th>284</th>\n",
       "      <td>Gintama</td>\n",
       "      <td>346754</td>\n",
       "      <td>46547</td>\n",
       "      <td>9.10</td>\n",
       "    </tr>\n",
       "    <tr>\n",
       "      <th>100</th>\n",
       "      <td>Gintama</td>\n",
       "      <td>718045</td>\n",
       "      <td>46547</td>\n",
       "      <td>9.07</td>\n",
       "    </tr>\n",
       "  </tbody>\n",
       "</table>\n",
       "</div>"
      ],
      "text/plain": [
       "                                 naslov  stevilo_clenov  najljubsi  nova ocena\n",
       "2      Fullmetal Alchemist: Brotherhood         2090273     172608        9.56\n",
       "9                Hunter x Hunter (2011)         1529228     136870        9.43\n",
       "64   Shingeki no Kyojin Season 3 Part 2          899833      33903        9.12\n",
       "284                             Gintama          346754      46547        9.10\n",
       "100                             Gintama          718045      46547        9.07"
      ]
     },
     "metadata": {},
     "output_type": "display_data"
    },
    {
     "data": {
      "text/plain": [
       "'Light novel'"
      ]
     },
     "metadata": {},
     "output_type": "display_data"
    },
    {
     "data": {
      "text/html": [
       "<div>\n",
       "<style scoped>\n",
       "    .dataframe tbody tr th:only-of-type {\n",
       "        vertical-align: middle;\n",
       "    }\n",
       "\n",
       "    .dataframe tbody tr th {\n",
       "        vertical-align: top;\n",
       "    }\n",
       "\n",
       "    .dataframe thead th {\n",
       "        text-align: right;\n",
       "    }\n",
       "</style>\n",
       "<table border=\"1\" class=\"dataframe\">\n",
       "  <thead>\n",
       "    <tr style=\"text-align: right;\">\n",
       "      <th></th>\n",
       "      <th>naslov</th>\n",
       "      <th>stevilo_clenov</th>\n",
       "      <th>najljubsi</th>\n",
       "      <th>nova ocena</th>\n",
       "    </tr>\n",
       "  </thead>\n",
       "  <tbody>\n",
       "    <tr>\n",
       "      <th>56</th>\n",
       "      <td>Violet Evergarden</td>\n",
       "      <td>953473</td>\n",
       "      <td>31177</td>\n",
       "      <td>8.63</td>\n",
       "    </tr>\n",
       "    <tr>\n",
       "      <th>183</th>\n",
       "      <td>Monogatari Series: Second Season</td>\n",
       "      <td>487205</td>\n",
       "      <td>18846</td>\n",
       "      <td>8.50</td>\n",
       "    </tr>\n",
       "    <tr>\n",
       "      <th>18</th>\n",
       "      <td>Re:Zero kara Hajimeru Isekai Seikatsu</td>\n",
       "      <td>1387049</td>\n",
       "      <td>49581</td>\n",
       "      <td>8.45</td>\n",
       "    </tr>\n",
       "    <tr>\n",
       "      <th>50</th>\n",
       "      <td>Bakemonogatari</td>\n",
       "      <td>1018288</td>\n",
       "      <td>39813</td>\n",
       "      <td>8.44</td>\n",
       "    </tr>\n",
       "    <tr>\n",
       "      <th>13</th>\n",
       "      <td>Toradora!</td>\n",
       "      <td>1465022</td>\n",
       "      <td>48873</td>\n",
       "      <td>8.40</td>\n",
       "    </tr>\n",
       "  </tbody>\n",
       "</table>\n",
       "</div>"
      ],
      "text/plain": [
       "                                    naslov  stevilo_clenov  najljubsi  \\\n",
       "56                       Violet Evergarden          953473      31177   \n",
       "183       Monogatari Series: Second Season          487205      18846   \n",
       "18   Re:Zero kara Hajimeru Isekai Seikatsu         1387049      49581   \n",
       "50                          Bakemonogatari         1018288      39813   \n",
       "13                               Toradora!         1465022      48873   \n",
       "\n",
       "     nova ocena  \n",
       "56         8.63  \n",
       "183        8.50  \n",
       "18         8.45  \n",
       "50         8.44  \n",
       "13         8.40  "
      ]
     },
     "metadata": {},
     "output_type": "display_data"
    },
    {
     "data": {
      "text/plain": [
       "'Web manga'"
      ]
     },
     "metadata": {},
     "output_type": "display_data"
    },
    {
     "data": {
      "text/html": [
       "<div>\n",
       "<style scoped>\n",
       "    .dataframe tbody tr th:only-of-type {\n",
       "        vertical-align: middle;\n",
       "    }\n",
       "\n",
       "    .dataframe tbody tr th {\n",
       "        vertical-align: top;\n",
       "    }\n",
       "\n",
       "    .dataframe thead th {\n",
       "        text-align: right;\n",
       "    }\n",
       "</style>\n",
       "<table border=\"1\" class=\"dataframe\">\n",
       "  <thead>\n",
       "    <tr style=\"text-align: right;\">\n",
       "      <th></th>\n",
       "      <th>naslov</th>\n",
       "      <th>stevilo_clenov</th>\n",
       "      <th>najljubsi</th>\n",
       "      <th>nova ocena</th>\n",
       "    </tr>\n",
       "  </thead>\n",
       "  <tbody>\n",
       "    <tr>\n",
       "      <th>4</th>\n",
       "      <td>One Punch Man</td>\n",
       "      <td>1979366</td>\n",
       "      <td>52089</td>\n",
       "      <td>8.77</td>\n",
       "    </tr>\n",
       "    <tr>\n",
       "      <th>84</th>\n",
       "      <td>Made in Abyss</td>\n",
       "      <td>807987</td>\n",
       "      <td>28846</td>\n",
       "      <td>8.72</td>\n",
       "    </tr>\n",
       "    <tr>\n",
       "      <th>91</th>\n",
       "      <td>Mob Psycho 100 II</td>\n",
       "      <td>756137</td>\n",
       "      <td>18869</td>\n",
       "      <td>8.61</td>\n",
       "    </tr>\n",
       "    <tr>\n",
       "      <th>38</th>\n",
       "      <td>Mob Psycho 100</td>\n",
       "      <td>1156412</td>\n",
       "      <td>25598</td>\n",
       "      <td>8.43</td>\n",
       "    </tr>\n",
       "    <tr>\n",
       "      <th>184</th>\n",
       "      <td>Barakamon</td>\n",
       "      <td>486642</td>\n",
       "      <td>10479</td>\n",
       "      <td>7.75</td>\n",
       "    </tr>\n",
       "  </tbody>\n",
       "</table>\n",
       "</div>"
      ],
      "text/plain": [
       "                naslov  stevilo_clenov  najljubsi  nova ocena\n",
       "4        One Punch Man         1979366      52089        8.77\n",
       "84       Made in Abyss          807987      28846        8.72\n",
       "91   Mob Psycho 100 II          756137      18869        8.61\n",
       "38      Mob Psycho 100         1156412      25598        8.43\n",
       "184          Barakamon          486642      10479        7.75"
      ]
     },
     "metadata": {},
     "output_type": "display_data"
    },
    {
     "data": {
      "text/plain": [
       "'Visual novel'"
      ]
     },
     "metadata": {},
     "output_type": "display_data"
    },
    {
     "data": {
      "text/html": [
       "<div>\n",
       "<style scoped>\n",
       "    .dataframe tbody tr th:only-of-type {\n",
       "        vertical-align: middle;\n",
       "    }\n",
       "\n",
       "    .dataframe tbody tr th {\n",
       "        vertical-align: top;\n",
       "    }\n",
       "\n",
       "    .dataframe thead th {\n",
       "        text-align: right;\n",
       "    }\n",
       "</style>\n",
       "<table border=\"1\" class=\"dataframe\">\n",
       "  <thead>\n",
       "    <tr style=\"text-align: right;\">\n",
       "      <th></th>\n",
       "      <th>naslov</th>\n",
       "      <th>stevilo_clenov</th>\n",
       "      <th>najljubsi</th>\n",
       "      <th>nova ocena</th>\n",
       "    </tr>\n",
       "  </thead>\n",
       "  <tbody>\n",
       "    <tr>\n",
       "      <th>8</th>\n",
       "      <td>Steins;Gate</td>\n",
       "      <td>1681837</td>\n",
       "      <td>143451</td>\n",
       "      <td>9.45</td>\n",
       "    </tr>\n",
       "    <tr>\n",
       "      <th>68</th>\n",
       "      <td>Clannad: After Story</td>\n",
       "      <td>875877</td>\n",
       "      <td>60567</td>\n",
       "      <td>9.13</td>\n",
       "    </tr>\n",
       "    <tr>\n",
       "      <th>46</th>\n",
       "      <td>Clannad</td>\n",
       "      <td>1051129</td>\n",
       "      <td>26847</td>\n",
       "      <td>8.04</td>\n",
       "    </tr>\n",
       "    <tr>\n",
       "      <th>124</th>\n",
       "      <td>Higurashi no Naku Koro ni</td>\n",
       "      <td>620052</td>\n",
       "      <td>19009</td>\n",
       "      <td>7.74</td>\n",
       "    </tr>\n",
       "    <tr>\n",
       "      <th>102</th>\n",
       "      <td>Fate/stay night: Unlimited Blade Works</td>\n",
       "      <td>699713</td>\n",
       "      <td>12151</td>\n",
       "      <td>7.73</td>\n",
       "    </tr>\n",
       "  </tbody>\n",
       "</table>\n",
       "</div>"
      ],
      "text/plain": [
       "                                     naslov  stevilo_clenov  najljubsi  \\\n",
       "8                               Steins;Gate         1681837     143451   \n",
       "68                     Clannad: After Story          875877      60567   \n",
       "46                                  Clannad         1051129      26847   \n",
       "124               Higurashi no Naku Koro ni          620052      19009   \n",
       "102  Fate/stay night: Unlimited Blade Works          699713      12151   \n",
       "\n",
       "     nova ocena  \n",
       "8          9.45  \n",
       "68         9.13  \n",
       "46         8.04  \n",
       "124        7.74  \n",
       "102        7.73  "
      ]
     },
     "metadata": {},
     "output_type": "display_data"
    },
    {
     "data": {
      "text/plain": [
       "'Original'"
      ]
     },
     "metadata": {},
     "output_type": "display_data"
    },
    {
     "data": {
      "text/html": [
       "<div>\n",
       "<style scoped>\n",
       "    .dataframe tbody tr th:only-of-type {\n",
       "        vertical-align: middle;\n",
       "    }\n",
       "\n",
       "    .dataframe tbody tr th {\n",
       "        vertical-align: top;\n",
       "    }\n",
       "\n",
       "    .dataframe thead th {\n",
       "        text-align: right;\n",
       "    }\n",
       "</style>\n",
       "<table border=\"1\" class=\"dataframe\">\n",
       "  <thead>\n",
       "    <tr style=\"text-align: right;\">\n",
       "      <th></th>\n",
       "      <th>naslov</th>\n",
       "      <th>stevilo_clenov</th>\n",
       "      <th>najljubsi</th>\n",
       "      <th>nova ocena</th>\n",
       "    </tr>\n",
       "  </thead>\n",
       "  <tbody>\n",
       "    <tr>\n",
       "      <th>28</th>\n",
       "      <td>Code Geass: Hangyaku no Lelouch R2</td>\n",
       "      <td>1206854</td>\n",
       "      <td>62031</td>\n",
       "      <td>9.11</td>\n",
       "    </tr>\n",
       "    <tr>\n",
       "      <th>11</th>\n",
       "      <td>Code Geass: Hangyaku no Lelouch</td>\n",
       "      <td>1505432</td>\n",
       "      <td>87564</td>\n",
       "      <td>8.98</td>\n",
       "    </tr>\n",
       "    <tr>\n",
       "      <th>30</th>\n",
       "      <td>Cowboy Bebop</td>\n",
       "      <td>1176190</td>\n",
       "      <td>59162</td>\n",
       "      <td>8.97</td>\n",
       "    </tr>\n",
       "    <tr>\n",
       "      <th>33</th>\n",
       "      <td>Tengen Toppa Gurren Lagann</td>\n",
       "      <td>1168282</td>\n",
       "      <td>66348</td>\n",
       "      <td>8.87</td>\n",
       "    </tr>\n",
       "    <tr>\n",
       "      <th>43</th>\n",
       "      <td>Neon Genesis Evangelion</td>\n",
       "      <td>1079668</td>\n",
       "      <td>66826</td>\n",
       "      <td>8.50</td>\n",
       "    </tr>\n",
       "  </tbody>\n",
       "</table>\n",
       "</div>"
      ],
      "text/plain": [
       "                                naslov  stevilo_clenov  najljubsi  nova ocena\n",
       "28  Code Geass: Hangyaku no Lelouch R2         1206854      62031        9.11\n",
       "11     Code Geass: Hangyaku no Lelouch         1505432      87564        8.98\n",
       "30                        Cowboy Bebop         1176190      59162        8.97\n",
       "33          Tengen Toppa Gurren Lagann         1168282      66348        8.87\n",
       "43             Neon Genesis Evangelion         1079668      66826        8.50"
      ]
     },
     "metadata": {},
     "output_type": "display_data"
    },
    {
     "data": {
      "text/plain": [
       "'Novel'"
      ]
     },
     "metadata": {},
     "output_type": "display_data"
    },
    {
     "data": {
      "text/html": [
       "<div>\n",
       "<style scoped>\n",
       "    .dataframe tbody tr th:only-of-type {\n",
       "        vertical-align: middle;\n",
       "    }\n",
       "\n",
       "    .dataframe tbody tr th {\n",
       "        vertical-align: top;\n",
       "    }\n",
       "\n",
       "    .dataframe thead th {\n",
       "        text-align: right;\n",
       "    }\n",
       "</style>\n",
       "<table border=\"1\" class=\"dataframe\">\n",
       "  <thead>\n",
       "    <tr style=\"text-align: right;\">\n",
       "      <th></th>\n",
       "      <th>naslov</th>\n",
       "      <th>stevilo_clenov</th>\n",
       "      <th>najljubsi</th>\n",
       "      <th>nova ocena</th>\n",
       "    </tr>\n",
       "  </thead>\n",
       "  <tbody>\n",
       "    <tr>\n",
       "      <th>132</th>\n",
       "      <td>Shinsekai yori</td>\n",
       "      <td>599541</td>\n",
       "      <td>20219</td>\n",
       "      <td>8.15</td>\n",
       "    </tr>\n",
       "    <tr>\n",
       "      <th>160</th>\n",
       "      <td>NHK ni Youkoso!</td>\n",
       "      <td>532282</td>\n",
       "      <td>20817</td>\n",
       "      <td>8.12</td>\n",
       "    </tr>\n",
       "    <tr>\n",
       "      <th>344</th>\n",
       "      <td>Yojouhan Shinwa Taikei</td>\n",
       "      <td>294119</td>\n",
       "      <td>13887</td>\n",
       "      <td>8.08</td>\n",
       "    </tr>\n",
       "    <tr>\n",
       "      <th>67</th>\n",
       "      <td>Hyouka</td>\n",
       "      <td>883372</td>\n",
       "      <td>20114</td>\n",
       "      <td>7.97</td>\n",
       "    </tr>\n",
       "    <tr>\n",
       "      <th>316</th>\n",
       "      <td>Hibike! Euphonium</td>\n",
       "      <td>316398</td>\n",
       "      <td>5308</td>\n",
       "      <td>6.63</td>\n",
       "    </tr>\n",
       "  </tbody>\n",
       "</table>\n",
       "</div>"
      ],
      "text/plain": [
       "                     naslov  stevilo_clenov  najljubsi  nova ocena\n",
       "132          Shinsekai yori          599541      20219        8.15\n",
       "160         NHK ni Youkoso!          532282      20817        8.12\n",
       "344  Yojouhan Shinwa Taikei          294119      13887        8.08\n",
       "67                   Hyouka          883372      20114        7.97\n",
       "316       Hibike! Euphonium          316398       5308        6.63"
      ]
     },
     "metadata": {},
     "output_type": "display_data"
    },
    {
     "data": {
      "text/plain": [
       "'4-koma manga'"
      ]
     },
     "metadata": {},
     "output_type": "display_data"
    },
    {
     "data": {
      "text/html": [
       "<div>\n",
       "<style scoped>\n",
       "    .dataframe tbody tr th:only-of-type {\n",
       "        vertical-align: middle;\n",
       "    }\n",
       "\n",
       "    .dataframe tbody tr th {\n",
       "        vertical-align: top;\n",
       "    }\n",
       "\n",
       "    .dataframe thead th {\n",
       "        text-align: right;\n",
       "    }\n",
       "</style>\n",
       "<table border=\"1\" class=\"dataframe\">\n",
       "  <thead>\n",
       "    <tr style=\"text-align: right;\">\n",
       "      <th></th>\n",
       "      <th>naslov</th>\n",
       "      <th>stevilo_clenov</th>\n",
       "      <th>najljubsi</th>\n",
       "      <th>nova ocena</th>\n",
       "    </tr>\n",
       "  </thead>\n",
       "  <tbody>\n",
       "    <tr>\n",
       "      <th>187</th>\n",
       "      <td>K-On!</td>\n",
       "      <td>483269</td>\n",
       "      <td>18770</td>\n",
       "      <td>7.90</td>\n",
       "    </tr>\n",
       "    <tr>\n",
       "      <th>92</th>\n",
       "      <td>K-On!</td>\n",
       "      <td>741057</td>\n",
       "      <td>18770</td>\n",
       "      <td>7.62</td>\n",
       "    </tr>\n",
       "    <tr>\n",
       "      <th>168</th>\n",
       "      <td>Lucky☆Star</td>\n",
       "      <td>516745</td>\n",
       "      <td>13867</td>\n",
       "      <td>7.36</td>\n",
       "    </tr>\n",
       "    <tr>\n",
       "      <th>117</th>\n",
       "      <td>Gekkan Shoujo Nozaki-kun</td>\n",
       "      <td>645191</td>\n",
       "      <td>9364</td>\n",
       "      <td>7.28</td>\n",
       "    </tr>\n",
       "    <tr>\n",
       "      <th>395</th>\n",
       "      <td>Azumanga Daioh</td>\n",
       "      <td>257595</td>\n",
       "      <td>5100</td>\n",
       "      <td>6.52</td>\n",
       "    </tr>\n",
       "  </tbody>\n",
       "</table>\n",
       "</div>"
      ],
      "text/plain": [
       "                       naslov  stevilo_clenov  najljubsi  nova ocena\n",
       "187                     K-On!          483269      18770        7.90\n",
       "92                      K-On!          741057      18770        7.62\n",
       "168                Lucky☆Star          516745      13867        7.36\n",
       "117  Gekkan Shoujo Nozaki-kun          645191       9364        7.28\n",
       "395            Azumanga Daioh          257595       5100        6.52"
      ]
     },
     "metadata": {},
     "output_type": "display_data"
    },
    {
     "data": {
      "text/plain": [
       "'Game'"
      ]
     },
     "metadata": {},
     "output_type": "display_data"
    },
    {
     "data": {
      "text/html": [
       "<div>\n",
       "<style scoped>\n",
       "    .dataframe tbody tr th:only-of-type {\n",
       "        vertical-align: middle;\n",
       "    }\n",
       "\n",
       "    .dataframe tbody tr th {\n",
       "        vertical-align: top;\n",
       "    }\n",
       "\n",
       "    .dataframe thead th {\n",
       "        text-align: right;\n",
       "    }\n",
       "</style>\n",
       "<table border=\"1\" class=\"dataframe\">\n",
       "  <thead>\n",
       "    <tr style=\"text-align: right;\">\n",
       "      <th></th>\n",
       "      <th>naslov</th>\n",
       "      <th>stevilo_clenov</th>\n",
       "      <th>najljubsi</th>\n",
       "      <th>nova ocena</th>\n",
       "    </tr>\n",
       "  </thead>\n",
       "  <tbody>\n",
       "    <tr>\n",
       "      <th>114</th>\n",
       "      <td>Danganronpa: Kibou no Gakuen to Zetsubou no Ko...</td>\n",
       "      <td>654600</td>\n",
       "      <td>7860</td>\n",
       "      <td>6.51</td>\n",
       "    </tr>\n",
       "    <tr>\n",
       "      <th>218</th>\n",
       "      <td>Pokemon</td>\n",
       "      <td>440749</td>\n",
       "      <td>4831</td>\n",
       "      <td>6.00</td>\n",
       "    </tr>\n",
       "    <tr>\n",
       "      <th>285</th>\n",
       "      <td>Satsuriku no Tenshi</td>\n",
       "      <td>345319</td>\n",
       "      <td>4111</td>\n",
       "      <td>5.38</td>\n",
       "    </tr>\n",
       "    <tr>\n",
       "      <th>469</th>\n",
       "      <td>Danganronpa 3: The End of Kibougamine Gakuen -...</td>\n",
       "      <td>213592</td>\n",
       "      <td>2630</td>\n",
       "      <td>5.16</td>\n",
       "    </tr>\n",
       "    <tr>\n",
       "      <th>629</th>\n",
       "      <td>Gungrave</td>\n",
       "      <td>150778</td>\n",
       "      <td>2261</td>\n",
       "      <td>5.08</td>\n",
       "    </tr>\n",
       "  </tbody>\n",
       "</table>\n",
       "</div>"
      ],
      "text/plain": [
       "                                                naslov  stevilo_clenov  \\\n",
       "114  Danganronpa: Kibou no Gakuen to Zetsubou no Ko...          654600   \n",
       "218                                            Pokemon          440749   \n",
       "285                                Satsuriku no Tenshi          345319   \n",
       "469  Danganronpa 3: The End of Kibougamine Gakuen -...          213592   \n",
       "629                                           Gungrave          150778   \n",
       "\n",
       "     najljubsi  nova ocena  \n",
       "114       7860        6.51  \n",
       "218       4831        6.00  \n",
       "285       4111        5.38  \n",
       "469       2630        5.16  \n",
       "629       2261        5.08  "
      ]
     },
     "metadata": {},
     "output_type": "display_data"
    },
    {
     "data": {
      "text/plain": [
       "'Music'"
      ]
     },
     "metadata": {},
     "output_type": "display_data"
    },
    {
     "data": {
      "text/html": [
       "<div>\n",
       "<style scoped>\n",
       "    .dataframe tbody tr th:only-of-type {\n",
       "        vertical-align: middle;\n",
       "    }\n",
       "\n",
       "    .dataframe tbody tr th {\n",
       "        vertical-align: top;\n",
       "    }\n",
       "\n",
       "    .dataframe thead th {\n",
       "        text-align: right;\n",
       "    }\n",
       "</style>\n",
       "<table border=\"1\" class=\"dataframe\">\n",
       "  <thead>\n",
       "    <tr style=\"text-align: right;\">\n",
       "      <th></th>\n",
       "      <th>naslov</th>\n",
       "      <th>stevilo_clenov</th>\n",
       "      <th>najljubsi</th>\n",
       "      <th>nova ocena</th>\n",
       "    </tr>\n",
       "  </thead>\n",
       "  <tbody>\n",
       "    <tr>\n",
       "      <th>271</th>\n",
       "      <td>Mekakucity Actors</td>\n",
       "      <td>364434</td>\n",
       "      <td>3693</td>\n",
       "      <td>5.43</td>\n",
       "    </tr>\n",
       "    <tr>\n",
       "      <th>1355</th>\n",
       "      <td>B-Project: Kodou*Ambitious</td>\n",
       "      <td>36603</td>\n",
       "      <td>202</td>\n",
       "      <td>0.98</td>\n",
       "    </tr>\n",
       "    <tr>\n",
       "      <th>1654</th>\n",
       "      <td>Tsukiuta. The Animation</td>\n",
       "      <td>21692</td>\n",
       "      <td>202</td>\n",
       "      <td>0.96</td>\n",
       "    </tr>\n",
       "    <tr>\n",
       "      <th>1919</th>\n",
       "      <td>Tsukipro The Animation</td>\n",
       "      <td>12751</td>\n",
       "      <td>102</td>\n",
       "      <td>0.51</td>\n",
       "    </tr>\n",
       "    <tr>\n",
       "      <th>1899</th>\n",
       "      <td>Marginal#4: Kiss kara Tsukuru Big Bang</td>\n",
       "      <td>13418</td>\n",
       "      <td>89</td>\n",
       "      <td>0.47</td>\n",
       "    </tr>\n",
       "  </tbody>\n",
       "</table>\n",
       "</div>"
      ],
      "text/plain": [
       "                                      naslov  stevilo_clenov  najljubsi  \\\n",
       "271                        Mekakucity Actors          364434       3693   \n",
       "1355              B-Project: Kodou*Ambitious           36603        202   \n",
       "1654                 Tsukiuta. The Animation           21692        202   \n",
       "1919                  Tsukipro The Animation           12751        102   \n",
       "1899  Marginal#4: Kiss kara Tsukuru Big Bang           13418         89   \n",
       "\n",
       "      nova ocena  \n",
       "271         5.43  \n",
       "1355        0.98  \n",
       "1654        0.96  \n",
       "1919        0.51  \n",
       "1899        0.47  "
      ]
     },
     "metadata": {},
     "output_type": "display_data"
    },
    {
     "data": {
      "text/plain": [
       "'Other'"
      ]
     },
     "metadata": {},
     "output_type": "display_data"
    },
    {
     "data": {
      "text/html": [
       "<div>\n",
       "<style scoped>\n",
       "    .dataframe tbody tr th:only-of-type {\n",
       "        vertical-align: middle;\n",
       "    }\n",
       "\n",
       "    .dataframe tbody tr th {\n",
       "        vertical-align: top;\n",
       "    }\n",
       "\n",
       "    .dataframe thead th {\n",
       "        text-align: right;\n",
       "    }\n",
       "</style>\n",
       "<table border=\"1\" class=\"dataframe\">\n",
       "  <thead>\n",
       "    <tr style=\"text-align: right;\">\n",
       "      <th></th>\n",
       "      <th>naslov</th>\n",
       "      <th>stevilo_clenov</th>\n",
       "      <th>najljubsi</th>\n",
       "      <th>nova ocena</th>\n",
       "    </tr>\n",
       "  </thead>\n",
       "  <tbody>\n",
       "    <tr>\n",
       "      <th>480</th>\n",
       "      <td>Haibane Renmei</td>\n",
       "      <td>204440</td>\n",
       "      <td>5736</td>\n",
       "      <td>6.64</td>\n",
       "    </tr>\n",
       "    <tr>\n",
       "      <th>286</th>\n",
       "      <td>Love Live! School Idol Project</td>\n",
       "      <td>342639</td>\n",
       "      <td>7933</td>\n",
       "      <td>6.59</td>\n",
       "    </tr>\n",
       "    <tr>\n",
       "      <th>318</th>\n",
       "      <td>Digimon Adventure</td>\n",
       "      <td>314547</td>\n",
       "      <td>4798</td>\n",
       "      <td>6.32</td>\n",
       "    </tr>\n",
       "    <tr>\n",
       "      <th>491</th>\n",
       "      <td>Love Live! School Idol Project 2nd Season</td>\n",
       "      <td>198445</td>\n",
       "      <td>2890</td>\n",
       "      <td>5.52</td>\n",
       "    </tr>\n",
       "    <tr>\n",
       "      <th>693</th>\n",
       "      <td>Love Live! Sunshine!!</td>\n",
       "      <td>135629</td>\n",
       "      <td>2803</td>\n",
       "      <td>5.12</td>\n",
       "    </tr>\n",
       "  </tbody>\n",
       "</table>\n",
       "</div>"
      ],
      "text/plain": [
       "                                        naslov  stevilo_clenov  najljubsi  \\\n",
       "480                             Haibane Renmei          204440       5736   \n",
       "286             Love Live! School Idol Project          342639       7933   \n",
       "318                          Digimon Adventure          314547       4798   \n",
       "491  Love Live! School Idol Project 2nd Season          198445       2890   \n",
       "693                      Love Live! Sunshine!!          135629       2803   \n",
       "\n",
       "     nova ocena  \n",
       "480        6.64  \n",
       "286        6.59  \n",
       "318        6.32  \n",
       "491        5.52  \n",
       "693        5.12  "
      ]
     },
     "metadata": {},
     "output_type": "display_data"
    },
    {
     "data": {
      "text/plain": [
       "'Card game'"
      ]
     },
     "metadata": {},
     "output_type": "display_data"
    },
    {
     "data": {
      "text/html": [
       "<div>\n",
       "<style scoped>\n",
       "    .dataframe tbody tr th:only-of-type {\n",
       "        vertical-align: middle;\n",
       "    }\n",
       "\n",
       "    .dataframe tbody tr th {\n",
       "        vertical-align: top;\n",
       "    }\n",
       "\n",
       "    .dataframe thead th {\n",
       "        text-align: right;\n",
       "    }\n",
       "</style>\n",
       "<table border=\"1\" class=\"dataframe\">\n",
       "  <thead>\n",
       "    <tr style=\"text-align: right;\">\n",
       "      <th></th>\n",
       "      <th>naslov</th>\n",
       "      <th>stevilo_clenov</th>\n",
       "      <th>najljubsi</th>\n",
       "      <th>nova ocena</th>\n",
       "    </tr>\n",
       "  </thead>\n",
       "  <tbody>\n",
       "    <tr>\n",
       "      <th>307</th>\n",
       "      <td>Shingeki no Bahamut: Genesis</td>\n",
       "      <td>321493</td>\n",
       "      <td>1523</td>\n",
       "      <td>4.37</td>\n",
       "    </tr>\n",
       "    <tr>\n",
       "      <th>538</th>\n",
       "      <td>Shingeki no Bahamut: Virgin Soul</td>\n",
       "      <td>182787</td>\n",
       "      <td>848</td>\n",
       "      <td>3.15</td>\n",
       "    </tr>\n",
       "    <tr>\n",
       "      <th>1048</th>\n",
       "      <td>Selector Spread WIXOSS</td>\n",
       "      <td>67366</td>\n",
       "      <td>237</td>\n",
       "      <td>1.33</td>\n",
       "    </tr>\n",
       "    <tr>\n",
       "      <th>908</th>\n",
       "      <td>Manaria Friends</td>\n",
       "      <td>87950</td>\n",
       "      <td>215</td>\n",
       "      <td>1.16</td>\n",
       "    </tr>\n",
       "    <tr>\n",
       "      <th>1440</th>\n",
       "      <td>Yu☆Gi☆Oh! VRAINS</td>\n",
       "      <td>30974</td>\n",
       "      <td>222</td>\n",
       "      <td>1.03</td>\n",
       "    </tr>\n",
       "  </tbody>\n",
       "</table>\n",
       "</div>"
      ],
      "text/plain": [
       "                                naslov  stevilo_clenov  najljubsi  nova ocena\n",
       "307       Shingeki no Bahamut: Genesis          321493       1523        4.37\n",
       "538   Shingeki no Bahamut: Virgin Soul          182787        848        3.15\n",
       "1048            Selector Spread WIXOSS           67366        237        1.33\n",
       "908                    Manaria Friends           87950        215        1.16\n",
       "1440                  Yu☆Gi☆Oh! VRAINS           30974        222        1.03"
      ]
     },
     "metadata": {},
     "output_type": "display_data"
    },
    {
     "data": {
      "text/plain": [
       "'Book'"
      ]
     },
     "metadata": {},
     "output_type": "display_data"
    },
    {
     "data": {
      "text/html": [
       "<div>\n",
       "<style scoped>\n",
       "    .dataframe tbody tr th:only-of-type {\n",
       "        vertical-align: middle;\n",
       "    }\n",
       "\n",
       "    .dataframe tbody tr th {\n",
       "        vertical-align: top;\n",
       "    }\n",
       "\n",
       "    .dataframe thead th {\n",
       "        text-align: right;\n",
       "    }\n",
       "</style>\n",
       "<table border=\"1\" class=\"dataframe\">\n",
       "  <thead>\n",
       "    <tr style=\"text-align: right;\">\n",
       "      <th></th>\n",
       "      <th>naslov</th>\n",
       "      <th>stevilo_clenov</th>\n",
       "      <th>najljubsi</th>\n",
       "      <th>nova ocena</th>\n",
       "    </tr>\n",
       "  </thead>\n",
       "  <tbody>\n",
       "    <tr>\n",
       "      <th>623</th>\n",
       "      <td>Romeo x Juliet</td>\n",
       "      <td>151255</td>\n",
       "      <td>1239</td>\n",
       "      <td>3.87</td>\n",
       "    </tr>\n",
       "    <tr>\n",
       "      <th>1774</th>\n",
       "      <td>Tanoshii Muumin Ikka</td>\n",
       "      <td>17396</td>\n",
       "      <td>442</td>\n",
       "      <td>1.96</td>\n",
       "    </tr>\n",
       "    <tr>\n",
       "      <th>1572</th>\n",
       "      <td>Alps no Shoujo Heidi</td>\n",
       "      <td>24917</td>\n",
       "      <td>177</td>\n",
       "      <td>0.93</td>\n",
       "    </tr>\n",
       "    <tr>\n",
       "      <th>1650</th>\n",
       "      <td>Deltora Quest</td>\n",
       "      <td>21734</td>\n",
       "      <td>136</td>\n",
       "      <td>0.73</td>\n",
       "    </tr>\n",
       "    <tr>\n",
       "      <th>1590</th>\n",
       "      <td>Sanzoku no Musume Ronja</td>\n",
       "      <td>24277</td>\n",
       "      <td>62</td>\n",
       "      <td>0.44</td>\n",
       "    </tr>\n",
       "  </tbody>\n",
       "</table>\n",
       "</div>"
      ],
      "text/plain": [
       "                       naslov  stevilo_clenov  najljubsi  nova ocena\n",
       "623            Romeo x Juliet          151255       1239        3.87\n",
       "1774     Tanoshii Muumin Ikka           17396        442        1.96\n",
       "1572     Alps no Shoujo Heidi           24917        177        0.93\n",
       "1650            Deltora Quest           21734        136        0.73\n",
       "1590  Sanzoku no Musume Ronja           24277         62        0.44"
      ]
     },
     "metadata": {},
     "output_type": "display_data"
    },
    {
     "data": {
      "text/plain": [
       "'Picture book'"
      ]
     },
     "metadata": {},
     "output_type": "display_data"
    },
    {
     "data": {
      "text/html": [
       "<div>\n",
       "<style scoped>\n",
       "    .dataframe tbody tr th:only-of-type {\n",
       "        vertical-align: middle;\n",
       "    }\n",
       "\n",
       "    .dataframe tbody tr th {\n",
       "        vertical-align: top;\n",
       "    }\n",
       "\n",
       "    .dataframe thead th {\n",
       "        text-align: right;\n",
       "    }\n",
       "</style>\n",
       "<table border=\"1\" class=\"dataframe\">\n",
       "  <thead>\n",
       "    <tr style=\"text-align: right;\">\n",
       "      <th></th>\n",
       "      <th>naslov</th>\n",
       "      <th>stevilo_clenov</th>\n",
       "      <th>najljubsi</th>\n",
       "      <th>nova ocena</th>\n",
       "    </tr>\n",
       "  </thead>\n",
       "  <tbody>\n",
       "    <tr>\n",
       "      <th>1204</th>\n",
       "      <td>Honobono Log</td>\n",
       "      <td>51155</td>\n",
       "      <td>245</td>\n",
       "      <td>1.30</td>\n",
       "    </tr>\n",
       "    <tr>\n",
       "      <th>1896</th>\n",
       "      <td>Kaidan Restaurant</td>\n",
       "      <td>13552</td>\n",
       "      <td>46</td>\n",
       "      <td>0.32</td>\n",
       "    </tr>\n",
       "    <tr>\n",
       "      <th>2721</th>\n",
       "      <td>Barbapapa</td>\n",
       "      <td>2100</td>\n",
       "      <td>6</td>\n",
       "      <td>0.04</td>\n",
       "    </tr>\n",
       "    <tr>\n",
       "      <th>3059</th>\n",
       "      <td>Uchuusen Sagittarius</td>\n",
       "      <td>943</td>\n",
       "      <td>7</td>\n",
       "      <td>0.04</td>\n",
       "    </tr>\n",
       "    <tr>\n",
       "      <th>3050</th>\n",
       "      <td>Hare Tokidoki Buta (TV)</td>\n",
       "      <td>967</td>\n",
       "      <td>5</td>\n",
       "      <td>0.03</td>\n",
       "    </tr>\n",
       "  </tbody>\n",
       "</table>\n",
       "</div>"
      ],
      "text/plain": [
       "                       naslov  stevilo_clenov  najljubsi  nova ocena\n",
       "1204             Honobono Log           51155        245        1.30\n",
       "1896        Kaidan Restaurant           13552         46        0.32\n",
       "2721                Barbapapa            2100          6        0.04\n",
       "3059     Uchuusen Sagittarius             943          7        0.04\n",
       "3050  Hare Tokidoki Buta (TV)             967          5        0.03"
      ]
     },
     "metadata": {},
     "output_type": "display_data"
    },
    {
     "data": {
      "text/plain": [
       "'Unknown'"
      ]
     },
     "metadata": {},
     "output_type": "display_data"
    },
    {
     "data": {
      "text/html": [
       "<div>\n",
       "<style scoped>\n",
       "    .dataframe tbody tr th:only-of-type {\n",
       "        vertical-align: middle;\n",
       "    }\n",
       "\n",
       "    .dataframe tbody tr th {\n",
       "        vertical-align: top;\n",
       "    }\n",
       "\n",
       "    .dataframe thead th {\n",
       "        text-align: right;\n",
       "    }\n",
       "</style>\n",
       "<table border=\"1\" class=\"dataframe\">\n",
       "  <thead>\n",
       "    <tr style=\"text-align: right;\">\n",
       "      <th></th>\n",
       "      <th>naslov</th>\n",
       "      <th>stevilo_clenov</th>\n",
       "      <th>najljubsi</th>\n",
       "      <th>nova ocena</th>\n",
       "    </tr>\n",
       "  </thead>\n",
       "  <tbody>\n",
       "    <tr>\n",
       "      <th>1309</th>\n",
       "      <td>Zoids</td>\n",
       "      <td>40711</td>\n",
       "      <td>270</td>\n",
       "      <td>1.35</td>\n",
       "    </tr>\n",
       "    <tr>\n",
       "      <th>1601</th>\n",
       "      <td>Zoids Shinseiki/Zero</td>\n",
       "      <td>23679</td>\n",
       "      <td>145</td>\n",
       "      <td>0.80</td>\n",
       "    </tr>\n",
       "    <tr>\n",
       "      <th>1466</th>\n",
       "      <td>Bakugan Battle Brawlers: Mechtanium Surge</td>\n",
       "      <td>29740</td>\n",
       "      <td>148</td>\n",
       "      <td>0.71</td>\n",
       "    </tr>\n",
       "    <tr>\n",
       "      <th>2145</th>\n",
       "      <td>Onegai My Melody</td>\n",
       "      <td>8171</td>\n",
       "      <td>89</td>\n",
       "      <td>0.46</td>\n",
       "    </tr>\n",
       "    <tr>\n",
       "      <th>1983</th>\n",
       "      <td>Shadow Skill: Eigi</td>\n",
       "      <td>11415</td>\n",
       "      <td>74</td>\n",
       "      <td>0.42</td>\n",
       "    </tr>\n",
       "  </tbody>\n",
       "</table>\n",
       "</div>"
      ],
      "text/plain": [
       "                                         naslov  stevilo_clenov  najljubsi  \\\n",
       "1309                                      Zoids           40711        270   \n",
       "1601                       Zoids Shinseiki/Zero           23679        145   \n",
       "1466  Bakugan Battle Brawlers: Mechtanium Surge           29740        148   \n",
       "2145                           Onegai My Melody            8171         89   \n",
       "1983                         Shadow Skill: Eigi           11415         74   \n",
       "\n",
       "      nova ocena  \n",
       "1309        1.35  \n",
       "1601        0.80  \n",
       "1466        0.71  \n",
       "2145        0.46  \n",
       "1983        0.42  "
      ]
     },
     "metadata": {},
     "output_type": "display_data"
    },
    {
     "data": {
      "text/plain": [
       "'Digital manga'"
      ]
     },
     "metadata": {},
     "output_type": "display_data"
    },
    {
     "data": {
      "text/html": [
       "<div>\n",
       "<style scoped>\n",
       "    .dataframe tbody tr th:only-of-type {\n",
       "        vertical-align: middle;\n",
       "    }\n",
       "\n",
       "    .dataframe tbody tr th {\n",
       "        vertical-align: top;\n",
       "    }\n",
       "\n",
       "    .dataframe thead th {\n",
       "        text-align: right;\n",
       "    }\n",
       "</style>\n",
       "<table border=\"1\" class=\"dataframe\">\n",
       "  <thead>\n",
       "    <tr style=\"text-align: right;\">\n",
       "      <th></th>\n",
       "      <th>naslov</th>\n",
       "      <th>stevilo_clenov</th>\n",
       "      <th>najljubsi</th>\n",
       "      <th>nova ocena</th>\n",
       "    </tr>\n",
       "  </thead>\n",
       "  <tbody>\n",
       "    <tr>\n",
       "      <th>1625</th>\n",
       "      <td>Ame-iro Cocoa</td>\n",
       "      <td>22782</td>\n",
       "      <td>8</td>\n",
       "      <td>0.13</td>\n",
       "    </tr>\n",
       "    <tr>\n",
       "      <th>2218</th>\n",
       "      <td>Ame-iro Cocoa: Side G</td>\n",
       "      <td>7175</td>\n",
       "      <td>12</td>\n",
       "      <td>0.08</td>\n",
       "    </tr>\n",
       "    <tr>\n",
       "      <th>2087</th>\n",
       "      <td>Ame-iro Cocoa: Rainy Color e Youkoso!</td>\n",
       "      <td>9213</td>\n",
       "      <td>4</td>\n",
       "      <td>0.06</td>\n",
       "    </tr>\n",
       "    <tr>\n",
       "      <th>2330</th>\n",
       "      <td>Ame-iro Cocoa in Hawaii</td>\n",
       "      <td>5450</td>\n",
       "      <td>6</td>\n",
       "      <td>0.05</td>\n",
       "    </tr>\n",
       "    <tr>\n",
       "      <th>2429</th>\n",
       "      <td>Ame-iro Cocoa Series: Ame-con!!</td>\n",
       "      <td>4299</td>\n",
       "      <td>3</td>\n",
       "      <td>0.03</td>\n",
       "    </tr>\n",
       "  </tbody>\n",
       "</table>\n",
       "</div>"
      ],
      "text/plain": [
       "                                     naslov  stevilo_clenov  najljubsi  \\\n",
       "1625                          Ame-iro Cocoa           22782          8   \n",
       "2218                  Ame-iro Cocoa: Side G            7175         12   \n",
       "2087  Ame-iro Cocoa: Rainy Color e Youkoso!            9213          4   \n",
       "2330                Ame-iro Cocoa in Hawaii            5450          6   \n",
       "2429        Ame-iro Cocoa Series: Ame-con!!            4299          3   \n",
       "\n",
       "      nova ocena  \n",
       "1625        0.13  \n",
       "2218        0.08  \n",
       "2087        0.06  \n",
       "2330        0.05  \n",
       "2429        0.03  "
      ]
     },
     "metadata": {},
     "output_type": "display_data"
    },
    {
     "data": {
      "text/plain": [
       "'Radio'"
      ]
     },
     "metadata": {},
     "output_type": "display_data"
    },
    {
     "data": {
      "text/html": [
       "<div>\n",
       "<style scoped>\n",
       "    .dataframe tbody tr th:only-of-type {\n",
       "        vertical-align: middle;\n",
       "    }\n",
       "\n",
       "    .dataframe tbody tr th {\n",
       "        vertical-align: top;\n",
       "    }\n",
       "\n",
       "    .dataframe thead th {\n",
       "        text-align: right;\n",
       "    }\n",
       "</style>\n",
       "<table border=\"1\" class=\"dataframe\">\n",
       "  <thead>\n",
       "    <tr style=\"text-align: right;\">\n",
       "      <th></th>\n",
       "      <th>naslov</th>\n",
       "      <th>stevilo_clenov</th>\n",
       "      <th>najljubsi</th>\n",
       "      <th>nova ocena</th>\n",
       "    </tr>\n",
       "  </thead>\n",
       "  <tbody>\n",
       "    <tr>\n",
       "      <th>2423</th>\n",
       "      <td>Trouble Chocolate</td>\n",
       "      <td>4337</td>\n",
       "      <td>21</td>\n",
       "      <td>0.12</td>\n",
       "    </tr>\n",
       "    <tr>\n",
       "      <th>2408</th>\n",
       "      <td>Chance Triangle Session</td>\n",
       "      <td>4500</td>\n",
       "      <td>14</td>\n",
       "      <td>0.09</td>\n",
       "    </tr>\n",
       "    <tr>\n",
       "      <th>2416</th>\n",
       "      <td>Suzakinishi The Animation</td>\n",
       "      <td>4389</td>\n",
       "      <td>2</td>\n",
       "      <td>0.03</td>\n",
       "    </tr>\n",
       "    <tr>\n",
       "      <th>3483</th>\n",
       "      <td>Kinyoru, Abe Reiji: Heikinteki na Salaryman no...</td>\n",
       "      <td>422</td>\n",
       "      <td>1</td>\n",
       "      <td>NaN</td>\n",
       "    </tr>\n",
       "    <tr>\n",
       "      <th>3909</th>\n",
       "      <td>Yanbou Ninbou Tonbou</td>\n",
       "      <td>202</td>\n",
       "      <td>0</td>\n",
       "      <td>NaN</td>\n",
       "    </tr>\n",
       "  </tbody>\n",
       "</table>\n",
       "</div>"
      ],
      "text/plain": [
       "                                                 naslov  stevilo_clenov  \\\n",
       "2423                                  Trouble Chocolate            4337   \n",
       "2408                            Chance Triangle Session            4500   \n",
       "2416                          Suzakinishi The Animation            4389   \n",
       "3483  Kinyoru, Abe Reiji: Heikinteki na Salaryman no...             422   \n",
       "3909                               Yanbou Ninbou Tonbou             202   \n",
       "\n",
       "      najljubsi  nova ocena  \n",
       "2423         21        0.12  \n",
       "2408         14        0.09  \n",
       "2416          2        0.03  \n",
       "3483          1         NaN  \n",
       "3909          0         NaN  "
      ]
     },
     "metadata": {},
     "output_type": "display_data"
    }
   ],
   "source": [
    "for vir in animeji_in_viri:\n",
    "    display(vir)\n",
    "    display(animeji_in_viri[vir][['naslov', 'stevilo_clenov', 'najljubsi', 'nova ocena']].sort_values('nova ocena', ascending=False).head(5))"
   ]
  },
  {
   "cell_type": "markdown",
   "metadata": {},
   "source": [
    "Poglejmo koliko je animejev nastalo od katerega vira."
   ]
  },
  {
   "cell_type": "code",
   "execution_count": 21,
   "metadata": {},
   "outputs": [
    {
     "data": {
      "text/plain": [
       "<AxesSubplot:xlabel='vir'>"
      ]
     },
     "execution_count": 21,
     "metadata": {},
     "output_type": "execute_result"
    },
    {
     "data": {
      "image/png": "[encoded data removed]",
      "text/plain": [
       "<Figure size 432x288 with 1 Axes>"
      ]
     },
     "metadata": {
      "needs_background": "light"
     },
     "output_type": "display_data"
    }
   ],
   "source": [
    "animeji.groupby('vir').size().sort_values().plot.bar()"
   ]
  },
  {
   "cell_type": "markdown",
   "metadata": {},
   "source": [
    "Kar vidimo, ni presenetljivo. Manga je za naimeje kot knjiga za filme, najpogostejši vir. Zanimivo je, da ljudje, ki so naredili mango, pogosto delajo kot animatorji, derektorji, producenti za anime, ki je nastal iz tiste mange. Tudi ni presenetljivo, da je veliko animejev nastalo brez vira. Ljudje pogosto imajo odlične ideje. Kar presenećuje, je veliko animejev, za katere ne znamo vir."
   ]
  },
  {
   "cell_type": "markdown",
   "metadata": {},
   "source": [
    "Poskusimo zdaj pogledati ocene animejev za vsak vir, potem pa povprečno oceno po viru."
   ]
  },
  {
   "cell_type": "code",
   "execution_count": 22,
   "metadata": {},
   "outputs": [
    {
     "data": {
      "text/plain": [
       "'Manga'"
      ]
     },
     "metadata": {},
     "output_type": "display_data"
    },
    {
     "data": {
      "text/plain": [
       "2.31"
      ]
     },
     "metadata": {},
     "output_type": "display_data"
    },
    {
     "data": {
      "text/html": [
       "<div>\n",
       "<style scoped>\n",
       "    .dataframe tbody tr th:only-of-type {\n",
       "        vertical-align: middle;\n",
       "    }\n",
       "\n",
       "    .dataframe tbody tr th {\n",
       "        vertical-align: top;\n",
       "    }\n",
       "\n",
       "    .dataframe thead th {\n",
       "        text-align: right;\n",
       "    }\n",
       "</style>\n",
       "<table border=\"1\" class=\"dataframe\">\n",
       "  <thead>\n",
       "    <tr style=\"text-align: right;\">\n",
       "      <th></th>\n",
       "      <th>naslov</th>\n",
       "      <th>nova ocena</th>\n",
       "    </tr>\n",
       "  </thead>\n",
       "  <tbody>\n",
       "    <tr>\n",
       "      <th>2</th>\n",
       "      <td>Fullmetal Alchemist: Brotherhood</td>\n",
       "      <td>9.56</td>\n",
       "    </tr>\n",
       "  </tbody>\n",
       "</table>\n",
       "</div>"
      ],
      "text/plain": [
       "                             naslov  nova ocena\n",
       "2  Fullmetal Alchemist: Brotherhood        9.56"
      ]
     },
     "metadata": {},
     "output_type": "display_data"
    },
    {
     "data": {
      "text/plain": [
       "'Light novel'"
      ]
     },
     "metadata": {},
     "output_type": "display_data"
    },
    {
     "data": {
      "text/plain": [
       "3.44"
      ]
     },
     "metadata": {},
     "output_type": "display_data"
    },
    {
     "data": {
      "text/html": [
       "<div>\n",
       "<style scoped>\n",
       "    .dataframe tbody tr th:only-of-type {\n",
       "        vertical-align: middle;\n",
       "    }\n",
       "\n",
       "    .dataframe tbody tr th {\n",
       "        vertical-align: top;\n",
       "    }\n",
       "\n",
       "    .dataframe thead th {\n",
       "        text-align: right;\n",
       "    }\n",
       "</style>\n",
       "<table border=\"1\" class=\"dataframe\">\n",
       "  <thead>\n",
       "    <tr style=\"text-align: right;\">\n",
       "      <th></th>\n",
       "      <th>naslov</th>\n",
       "      <th>nova ocena</th>\n",
       "    </tr>\n",
       "  </thead>\n",
       "  <tbody>\n",
       "    <tr>\n",
       "      <th>56</th>\n",
       "      <td>Violet Evergarden</td>\n",
       "      <td>8.63</td>\n",
       "    </tr>\n",
       "  </tbody>\n",
       "</table>\n",
       "</div>"
      ],
      "text/plain": [
       "               naslov  nova ocena\n",
       "56  Violet Evergarden        8.63"
      ]
     },
     "metadata": {},
     "output_type": "display_data"
    },
    {
     "data": {
      "text/plain": [
       "'Web manga'"
      ]
     },
     "metadata": {},
     "output_type": "display_data"
    },
    {
     "data": {
      "text/plain": [
       "2.11"
      ]
     },
     "metadata": {},
     "output_type": "display_data"
    },
    {
     "data": {
      "text/html": [
       "<div>\n",
       "<style scoped>\n",
       "    .dataframe tbody tr th:only-of-type {\n",
       "        vertical-align: middle;\n",
       "    }\n",
       "\n",
       "    .dataframe tbody tr th {\n",
       "        vertical-align: top;\n",
       "    }\n",
       "\n",
       "    .dataframe thead th {\n",
       "        text-align: right;\n",
       "    }\n",
       "</style>\n",
       "<table border=\"1\" class=\"dataframe\">\n",
       "  <thead>\n",
       "    <tr style=\"text-align: right;\">\n",
       "      <th></th>\n",
       "      <th>naslov</th>\n",
       "      <th>nova ocena</th>\n",
       "    </tr>\n",
       "  </thead>\n",
       "  <tbody>\n",
       "    <tr>\n",
       "      <th>4</th>\n",
       "      <td>One Punch Man</td>\n",
       "      <td>8.77</td>\n",
       "    </tr>\n",
       "  </tbody>\n",
       "</table>\n",
       "</div>"
      ],
      "text/plain": [
       "          naslov  nova ocena\n",
       "4  One Punch Man        8.77"
      ]
     },
     "metadata": {},
     "output_type": "display_data"
    },
    {
     "data": {
      "text/plain": [
       "'Visual novel'"
      ]
     },
     "metadata": {},
     "output_type": "display_data"
    },
    {
     "data": {
      "text/plain": [
       "2.0"
      ]
     },
     "metadata": {},
     "output_type": "display_data"
    },
    {
     "data": {
      "text/html": [
       "<div>\n",
       "<style scoped>\n",
       "    .dataframe tbody tr th:only-of-type {\n",
       "        vertical-align: middle;\n",
       "    }\n",
       "\n",
       "    .dataframe tbody tr th {\n",
       "        vertical-align: top;\n",
       "    }\n",
       "\n",
       "    .dataframe thead th {\n",
       "        text-align: right;\n",
       "    }\n",
       "</style>\n",
       "<table border=\"1\" class=\"dataframe\">\n",
       "  <thead>\n",
       "    <tr style=\"text-align: right;\">\n",
       "      <th></th>\n",
       "      <th>naslov</th>\n",
       "      <th>nova ocena</th>\n",
       "    </tr>\n",
       "  </thead>\n",
       "  <tbody>\n",
       "    <tr>\n",
       "      <th>8</th>\n",
       "      <td>Steins;Gate</td>\n",
       "      <td>9.45</td>\n",
       "    </tr>\n",
       "  </tbody>\n",
       "</table>\n",
       "</div>"
      ],
      "text/plain": [
       "        naslov  nova ocena\n",
       "8  Steins;Gate        9.45"
      ]
     },
     "metadata": {},
     "output_type": "display_data"
    },
    {
     "data": {
      "text/plain": [
       "'Original'"
      ]
     },
     "metadata": {},
     "output_type": "display_data"
    },
    {
     "data": {
      "text/plain": [
       "1.13"
      ]
     },
     "metadata": {},
     "output_type": "display_data"
    },
    {
     "data": {
      "text/html": [
       "<div>\n",
       "<style scoped>\n",
       "    .dataframe tbody tr th:only-of-type {\n",
       "        vertical-align: middle;\n",
       "    }\n",
       "\n",
       "    .dataframe tbody tr th {\n",
       "        vertical-align: top;\n",
       "    }\n",
       "\n",
       "    .dataframe thead th {\n",
       "        text-align: right;\n",
       "    }\n",
       "</style>\n",
       "<table border=\"1\" class=\"dataframe\">\n",
       "  <thead>\n",
       "    <tr style=\"text-align: right;\">\n",
       "      <th></th>\n",
       "      <th>naslov</th>\n",
       "      <th>nova ocena</th>\n",
       "    </tr>\n",
       "  </thead>\n",
       "  <tbody>\n",
       "    <tr>\n",
       "      <th>28</th>\n",
       "      <td>Code Geass: Hangyaku no Lelouch R2</td>\n",
       "      <td>9.11</td>\n",
       "    </tr>\n",
       "  </tbody>\n",
       "</table>\n",
       "</div>"
      ],
      "text/plain": [
       "                                naslov  nova ocena\n",
       "28  Code Geass: Hangyaku no Lelouch R2        9.11"
      ]
     },
     "metadata": {},
     "output_type": "display_data"
    },
    {
     "data": {
      "text/plain": [
       "'Novel'"
      ]
     },
     "metadata": {},
     "output_type": "display_data"
    },
    {
     "data": {
      "text/plain": [
       "1.24"
      ]
     },
     "metadata": {},
     "output_type": "display_data"
    },
    {
     "data": {
      "text/html": [
       "<div>\n",
       "<style scoped>\n",
       "    .dataframe tbody tr th:only-of-type {\n",
       "        vertical-align: middle;\n",
       "    }\n",
       "\n",
       "    .dataframe tbody tr th {\n",
       "        vertical-align: top;\n",
       "    }\n",
       "\n",
       "    .dataframe thead th {\n",
       "        text-align: right;\n",
       "    }\n",
       "</style>\n",
       "<table border=\"1\" class=\"dataframe\">\n",
       "  <thead>\n",
       "    <tr style=\"text-align: right;\">\n",
       "      <th></th>\n",
       "      <th>naslov</th>\n",
       "      <th>nova ocena</th>\n",
       "    </tr>\n",
       "  </thead>\n",
       "  <tbody>\n",
       "    <tr>\n",
       "      <th>132</th>\n",
       "      <td>Shinsekai yori</td>\n",
       "      <td>8.15</td>\n",
       "    </tr>\n",
       "  </tbody>\n",
       "</table>\n",
       "</div>"
      ],
      "text/plain": [
       "             naslov  nova ocena\n",
       "132  Shinsekai yori        8.15"
      ]
     },
     "metadata": {},
     "output_type": "display_data"
    },
    {
     "data": {
      "text/plain": [
       "'4-koma manga'"
      ]
     },
     "metadata": {},
     "output_type": "display_data"
    },
    {
     "data": {
      "text/plain": [
       "1.53"
      ]
     },
     "metadata": {},
     "output_type": "display_data"
    },
    {
     "data": {
      "text/html": [
       "<div>\n",
       "<style scoped>\n",
       "    .dataframe tbody tr th:only-of-type {\n",
       "        vertical-align: middle;\n",
       "    }\n",
       "\n",
       "    .dataframe tbody tr th {\n",
       "        vertical-align: top;\n",
       "    }\n",
       "\n",
       "    .dataframe thead th {\n",
       "        text-align: right;\n",
       "    }\n",
       "</style>\n",
       "<table border=\"1\" class=\"dataframe\">\n",
       "  <thead>\n",
       "    <tr style=\"text-align: right;\">\n",
       "      <th></th>\n",
       "      <th>naslov</th>\n",
       "      <th>nova ocena</th>\n",
       "    </tr>\n",
       "  </thead>\n",
       "  <tbody>\n",
       "    <tr>\n",
       "      <th>187</th>\n",
       "      <td>K-On!</td>\n",
       "      <td>7.9</td>\n",
       "    </tr>\n",
       "  </tbody>\n",
       "</table>\n",
       "</div>"
      ],
      "text/plain": [
       "    naslov  nova ocena\n",
       "187  K-On!         7.9"
      ]
     },
     "metadata": {},
     "output_type": "display_data"
    },
    {
     "data": {
      "text/plain": [
       "'Game'"
      ]
     },
     "metadata": {},
     "output_type": "display_data"
    },
    {
     "data": {
      "text/plain": [
       "0.8"
      ]
     },
     "metadata": {},
     "output_type": "display_data"
    },
    {
     "data": {
      "text/html": [
       "<div>\n",
       "<style scoped>\n",
       "    .dataframe tbody tr th:only-of-type {\n",
       "        vertical-align: middle;\n",
       "    }\n",
       "\n",
       "    .dataframe tbody tr th {\n",
       "        vertical-align: top;\n",
       "    }\n",
       "\n",
       "    .dataframe thead th {\n",
       "        text-align: right;\n",
       "    }\n",
       "</style>\n",
       "<table border=\"1\" class=\"dataframe\">\n",
       "  <thead>\n",
       "    <tr style=\"text-align: right;\">\n",
       "      <th></th>\n",
       "      <th>naslov</th>\n",
       "      <th>nova ocena</th>\n",
       "    </tr>\n",
       "  </thead>\n",
       "  <tbody>\n",
       "    <tr>\n",
       "      <th>114</th>\n",
       "      <td>Danganronpa: Kibou no Gakuen to Zetsubou no Ko...</td>\n",
       "      <td>6.51</td>\n",
       "    </tr>\n",
       "  </tbody>\n",
       "</table>\n",
       "</div>"
      ],
      "text/plain": [
       "                                                naslov  nova ocena\n",
       "114  Danganronpa: Kibou no Gakuen to Zetsubou no Ko...        6.51"
      ]
     },
     "metadata": {},
     "output_type": "display_data"
    },
    {
     "data": {
      "text/plain": [
       "'Music'"
      ]
     },
     "metadata": {},
     "output_type": "display_data"
    },
    {
     "data": {
      "text/plain": [
       "0.72"
      ]
     },
     "metadata": {},
     "output_type": "display_data"
    },
    {
     "data": {
      "text/html": [
       "<div>\n",
       "<style scoped>\n",
       "    .dataframe tbody tr th:only-of-type {\n",
       "        vertical-align: middle;\n",
       "    }\n",
       "\n",
       "    .dataframe tbody tr th {\n",
       "        vertical-align: top;\n",
       "    }\n",
       "\n",
       "    .dataframe thead th {\n",
       "        text-align: right;\n",
       "    }\n",
       "</style>\n",
       "<table border=\"1\" class=\"dataframe\">\n",
       "  <thead>\n",
       "    <tr style=\"text-align: right;\">\n",
       "      <th></th>\n",
       "      <th>naslov</th>\n",
       "      <th>nova ocena</th>\n",
       "    </tr>\n",
       "  </thead>\n",
       "  <tbody>\n",
       "    <tr>\n",
       "      <th>271</th>\n",
       "      <td>Mekakucity Actors</td>\n",
       "      <td>5.43</td>\n",
       "    </tr>\n",
       "  </tbody>\n",
       "</table>\n",
       "</div>"
      ],
      "text/plain": [
       "                naslov  nova ocena\n",
       "271  Mekakucity Actors        5.43"
      ]
     },
     "metadata": {},
     "output_type": "display_data"
    },
    {
     "data": {
      "text/plain": [
       "'Other'"
      ]
     },
     "metadata": {},
     "output_type": "display_data"
    },
    {
     "data": {
      "text/plain": [
       "0.82"
      ]
     },
     "metadata": {},
     "output_type": "display_data"
    },
    {
     "data": {
      "text/html": [
       "<div>\n",
       "<style scoped>\n",
       "    .dataframe tbody tr th:only-of-type {\n",
       "        vertical-align: middle;\n",
       "    }\n",
       "\n",
       "    .dataframe tbody tr th {\n",
       "        vertical-align: top;\n",
       "    }\n",
       "\n",
       "    .dataframe thead th {\n",
       "        text-align: right;\n",
       "    }\n",
       "</style>\n",
       "<table border=\"1\" class=\"dataframe\">\n",
       "  <thead>\n",
       "    <tr style=\"text-align: right;\">\n",
       "      <th></th>\n",
       "      <th>naslov</th>\n",
       "      <th>nova ocena</th>\n",
       "    </tr>\n",
       "  </thead>\n",
       "  <tbody>\n",
       "    <tr>\n",
       "      <th>480</th>\n",
       "      <td>Haibane Renmei</td>\n",
       "      <td>6.64</td>\n",
       "    </tr>\n",
       "  </tbody>\n",
       "</table>\n",
       "</div>"
      ],
      "text/plain": [
       "             naslov  nova ocena\n",
       "480  Haibane Renmei        6.64"
      ]
     },
     "metadata": {},
     "output_type": "display_data"
    },
    {
     "data": {
      "text/plain": [
       "'Card game'"
      ]
     },
     "metadata": {},
     "output_type": "display_data"
    },
    {
     "data": {
      "text/plain": [
       "0.49"
      ]
     },
     "metadata": {},
     "output_type": "display_data"
    },
    {
     "data": {
      "text/html": [
       "<div>\n",
       "<style scoped>\n",
       "    .dataframe tbody tr th:only-of-type {\n",
       "        vertical-align: middle;\n",
       "    }\n",
       "\n",
       "    .dataframe tbody tr th {\n",
       "        vertical-align: top;\n",
       "    }\n",
       "\n",
       "    .dataframe thead th {\n",
       "        text-align: right;\n",
       "    }\n",
       "</style>\n",
       "<table border=\"1\" class=\"dataframe\">\n",
       "  <thead>\n",
       "    <tr style=\"text-align: right;\">\n",
       "      <th></th>\n",
       "      <th>naslov</th>\n",
       "      <th>nova ocena</th>\n",
       "    </tr>\n",
       "  </thead>\n",
       "  <tbody>\n",
       "    <tr>\n",
       "      <th>307</th>\n",
       "      <td>Shingeki no Bahamut: Genesis</td>\n",
       "      <td>4.37</td>\n",
       "    </tr>\n",
       "  </tbody>\n",
       "</table>\n",
       "</div>"
      ],
      "text/plain": [
       "                           naslov  nova ocena\n",
       "307  Shingeki no Bahamut: Genesis        4.37"
      ]
     },
     "metadata": {},
     "output_type": "display_data"
    },
    {
     "data": {
      "text/plain": [
       "'Book'"
      ]
     },
     "metadata": {},
     "output_type": "display_data"
    },
    {
     "data": {
      "text/plain": [
       "0.32"
      ]
     },
     "metadata": {},
     "output_type": "display_data"
    },
    {
     "data": {
      "text/html": [
       "<div>\n",
       "<style scoped>\n",
       "    .dataframe tbody tr th:only-of-type {\n",
       "        vertical-align: middle;\n",
       "    }\n",
       "\n",
       "    .dataframe tbody tr th {\n",
       "        vertical-align: top;\n",
       "    }\n",
       "\n",
       "    .dataframe thead th {\n",
       "        text-align: right;\n",
       "    }\n",
       "</style>\n",
       "<table border=\"1\" class=\"dataframe\">\n",
       "  <thead>\n",
       "    <tr style=\"text-align: right;\">\n",
       "      <th></th>\n",
       "      <th>naslov</th>\n",
       "      <th>nova ocena</th>\n",
       "    </tr>\n",
       "  </thead>\n",
       "  <tbody>\n",
       "    <tr>\n",
       "      <th>623</th>\n",
       "      <td>Romeo x Juliet</td>\n",
       "      <td>3.87</td>\n",
       "    </tr>\n",
       "  </tbody>\n",
       "</table>\n",
       "</div>"
      ],
      "text/plain": [
       "             naslov  nova ocena\n",
       "623  Romeo x Juliet        3.87"
      ]
     },
     "metadata": {},
     "output_type": "display_data"
    },
    {
     "data": {
      "text/plain": [
       "'Picture book'"
      ]
     },
     "metadata": {},
     "output_type": "display_data"
    },
    {
     "data": {
      "text/plain": [
       "0.14"
      ]
     },
     "metadata": {},
     "output_type": "display_data"
    },
    {
     "data": {
      "text/html": [
       "<div>\n",
       "<style scoped>\n",
       "    .dataframe tbody tr th:only-of-type {\n",
       "        vertical-align: middle;\n",
       "    }\n",
       "\n",
       "    .dataframe tbody tr th {\n",
       "        vertical-align: top;\n",
       "    }\n",
       "\n",
       "    .dataframe thead th {\n",
       "        text-align: right;\n",
       "    }\n",
       "</style>\n",
       "<table border=\"1\" class=\"dataframe\">\n",
       "  <thead>\n",
       "    <tr style=\"text-align: right;\">\n",
       "      <th></th>\n",
       "      <th>naslov</th>\n",
       "      <th>nova ocena</th>\n",
       "    </tr>\n",
       "  </thead>\n",
       "  <tbody>\n",
       "    <tr>\n",
       "      <th>1204</th>\n",
       "      <td>Honobono Log</td>\n",
       "      <td>1.3</td>\n",
       "    </tr>\n",
       "  </tbody>\n",
       "</table>\n",
       "</div>"
      ],
      "text/plain": [
       "            naslov  nova ocena\n",
       "1204  Honobono Log         1.3"
      ]
     },
     "metadata": {},
     "output_type": "display_data"
    },
    {
     "data": {
      "text/plain": [
       "'Unknown'"
      ]
     },
     "metadata": {},
     "output_type": "display_data"
    },
    {
     "data": {
      "text/plain": [
       "0.06"
      ]
     },
     "metadata": {},
     "output_type": "display_data"
    },
    {
     "data": {
      "text/html": [
       "<div>\n",
       "<style scoped>\n",
       "    .dataframe tbody tr th:only-of-type {\n",
       "        vertical-align: middle;\n",
       "    }\n",
       "\n",
       "    .dataframe tbody tr th {\n",
       "        vertical-align: top;\n",
       "    }\n",
       "\n",
       "    .dataframe thead th {\n",
       "        text-align: right;\n",
       "    }\n",
       "</style>\n",
       "<table border=\"1\" class=\"dataframe\">\n",
       "  <thead>\n",
       "    <tr style=\"text-align: right;\">\n",
       "      <th></th>\n",
       "      <th>naslov</th>\n",
       "      <th>nova ocena</th>\n",
       "    </tr>\n",
       "  </thead>\n",
       "  <tbody>\n",
       "    <tr>\n",
       "      <th>1309</th>\n",
       "      <td>Zoids</td>\n",
       "      <td>1.35</td>\n",
       "    </tr>\n",
       "  </tbody>\n",
       "</table>\n",
       "</div>"
      ],
      "text/plain": [
       "     naslov  nova ocena\n",
       "1309  Zoids        1.35"
      ]
     },
     "metadata": {},
     "output_type": "display_data"
    },
    {
     "data": {
      "text/plain": [
       "'Digital manga'"
      ]
     },
     "metadata": {},
     "output_type": "display_data"
    },
    {
     "data": {
      "text/plain": [
       "0.07"
      ]
     },
     "metadata": {},
     "output_type": "display_data"
    },
    {
     "data": {
      "text/html": [
       "<div>\n",
       "<style scoped>\n",
       "    .dataframe tbody tr th:only-of-type {\n",
       "        vertical-align: middle;\n",
       "    }\n",
       "\n",
       "    .dataframe tbody tr th {\n",
       "        vertical-align: top;\n",
       "    }\n",
       "\n",
       "    .dataframe thead th {\n",
       "        text-align: right;\n",
       "    }\n",
       "</style>\n",
       "<table border=\"1\" class=\"dataframe\">\n",
       "  <thead>\n",
       "    <tr style=\"text-align: right;\">\n",
       "      <th></th>\n",
       "      <th>naslov</th>\n",
       "      <th>nova ocena</th>\n",
       "    </tr>\n",
       "  </thead>\n",
       "  <tbody>\n",
       "    <tr>\n",
       "      <th>1625</th>\n",
       "      <td>Ame-iro Cocoa</td>\n",
       "      <td>0.13</td>\n",
       "    </tr>\n",
       "  </tbody>\n",
       "</table>\n",
       "</div>"
      ],
      "text/plain": [
       "             naslov  nova ocena\n",
       "1625  Ame-iro Cocoa        0.13"
      ]
     },
     "metadata": {},
     "output_type": "display_data"
    },
    {
     "data": {
      "text/plain": [
       "'Radio'"
      ]
     },
     "metadata": {},
     "output_type": "display_data"
    },
    {
     "data": {
      "text/plain": [
       "0.08"
      ]
     },
     "metadata": {},
     "output_type": "display_data"
    },
    {
     "data": {
      "text/html": [
       "<div>\n",
       "<style scoped>\n",
       "    .dataframe tbody tr th:only-of-type {\n",
       "        vertical-align: middle;\n",
       "    }\n",
       "\n",
       "    .dataframe tbody tr th {\n",
       "        vertical-align: top;\n",
       "    }\n",
       "\n",
       "    .dataframe thead th {\n",
       "        text-align: right;\n",
       "    }\n",
       "</style>\n",
       "<table border=\"1\" class=\"dataframe\">\n",
       "  <thead>\n",
       "    <tr style=\"text-align: right;\">\n",
       "      <th></th>\n",
       "      <th>naslov</th>\n",
       "      <th>nova ocena</th>\n",
       "    </tr>\n",
       "  </thead>\n",
       "  <tbody>\n",
       "    <tr>\n",
       "      <th>2423</th>\n",
       "      <td>Trouble Chocolate</td>\n",
       "      <td>0.12</td>\n",
       "    </tr>\n",
       "  </tbody>\n",
       "</table>\n",
       "</div>"
      ],
      "text/plain": [
       "                 naslov  nova ocena\n",
       "2423  Trouble Chocolate        0.12"
      ]
     },
     "metadata": {},
     "output_type": "display_data"
    }
   ],
   "source": [
    "for vir in animeji_in_viri:\n",
    "    display(vir)\n",
    "    display(round(animeji_in_viri[vir].loc[:, 'nova ocena'].mean(), 2))\n",
    "    display(animeji_in_viri[vir][['naslov', 'nova ocena']].sort_values('nova ocena', ascending=False).head(1))"
   ]
  },
  {
   "cell_type": "markdown",
   "metadata": {},
   "source": [
    "Zdaj vidimo kateri anime v vsakemu viru ima največjo oceno, njegovo oceno in povprečno oceno animejev s tem virom. Vidimo, da največjo oceno ima vir *Light novel*, kar je kot krajša zgodba, lahko pa kot roman in pogosto vsebuje slike. Naslednjo največjo oceno ima vir *Manga*. Na prejšnjem dijagramu smo videli, da je *Light novel* le četrti najbolj popularen vir za delanje animeja, in da je *Manga* prvi. Zato bi bralca, ki ni v svetu animejev, to presenetilo. Ampak to se lahko zgodi, ker se preveč animejev dela iz mange, kar pomeni, da lahko ima veliko slabih animejev. Nekjer animacija ni najboljša, nekjer zgodba iz mange ni lepo predstavljena v animeju, ipn."
   ]
  },
  {
   "cell_type": "markdown",
   "metadata": {},
   "source": [
    "Prej smo videli iz katerega vira največ nastajejo animeji. Poglejmo zdaj, kateri anime je najbolj polularen v svojemu viru. Enako, poglejmo, kateri vir ima največ gledalcev."
   ]
  },
  {
   "cell_type": "code",
   "execution_count": 23,
   "metadata": {},
   "outputs": [
    {
     "data": {
      "text/plain": [
       "'Manga'"
      ]
     },
     "metadata": {},
     "output_type": "display_data"
    },
    {
     "data": {
      "text/plain": [
       "142518.0"
      ]
     },
     "metadata": {},
     "output_type": "display_data"
    },
    {
     "data": {
      "text/html": [
       "<div>\n",
       "<style scoped>\n",
       "    .dataframe tbody tr th:only-of-type {\n",
       "        vertical-align: middle;\n",
       "    }\n",
       "\n",
       "    .dataframe tbody tr th {\n",
       "        vertical-align: top;\n",
       "    }\n",
       "\n",
       "    .dataframe thead th {\n",
       "        text-align: right;\n",
       "    }\n",
       "</style>\n",
       "<table border=\"1\" class=\"dataframe\">\n",
       "  <thead>\n",
       "    <tr style=\"text-align: right;\">\n",
       "      <th></th>\n",
       "      <th>naslov</th>\n",
       "      <th>stevilo_clenov</th>\n",
       "    </tr>\n",
       "  </thead>\n",
       "  <tbody>\n",
       "    <tr>\n",
       "      <th>0</th>\n",
       "      <td>Death Note</td>\n",
       "      <td>2410185</td>\n",
       "    </tr>\n",
       "  </tbody>\n",
       "</table>\n",
       "</div>"
      ],
      "text/plain": [
       "       naslov  stevilo_clenov\n",
       "0  Death Note         2410185"
      ]
     },
     "metadata": {},
     "output_type": "display_data"
    },
    {
     "data": {
      "text/plain": [
       "'Light novel'"
      ]
     },
     "metadata": {},
     "output_type": "display_data"
    },
    {
     "data": {
      "text/plain": [
       "290075.0"
      ]
     },
     "metadata": {},
     "output_type": "display_data"
    },
    {
     "data": {
      "text/html": [
       "<div>\n",
       "<style scoped>\n",
       "    .dataframe tbody tr th:only-of-type {\n",
       "        vertical-align: middle;\n",
       "    }\n",
       "\n",
       "    .dataframe tbody tr th {\n",
       "        vertical-align: top;\n",
       "    }\n",
       "\n",
       "    .dataframe thead th {\n",
       "        text-align: right;\n",
       "    }\n",
       "</style>\n",
       "<table border=\"1\" class=\"dataframe\">\n",
       "  <thead>\n",
       "    <tr style=\"text-align: right;\">\n",
       "      <th></th>\n",
       "      <th>naslov</th>\n",
       "      <th>stevilo_clenov</th>\n",
       "    </tr>\n",
       "  </thead>\n",
       "  <tbody>\n",
       "    <tr>\n",
       "      <th>3</th>\n",
       "      <td>Sword Art Online</td>\n",
       "      <td>2088233</td>\n",
       "    </tr>\n",
       "  </tbody>\n",
       "</table>\n",
       "</div>"
      ],
      "text/plain": [
       "             naslov  stevilo_clenov\n",
       "3  Sword Art Online         2088233"
      ]
     },
     "metadata": {},
     "output_type": "display_data"
    },
    {
     "data": {
      "text/plain": [
       "'Web manga'"
      ]
     },
     "metadata": {},
     "output_type": "display_data"
    },
    {
     "data": {
      "text/plain": [
       "162827.0"
      ]
     },
     "metadata": {},
     "output_type": "display_data"
    },
    {
     "data": {
      "text/html": [
       "<div>\n",
       "<style scoped>\n",
       "    .dataframe tbody tr th:only-of-type {\n",
       "        vertical-align: middle;\n",
       "    }\n",
       "\n",
       "    .dataframe tbody tr th {\n",
       "        vertical-align: top;\n",
       "    }\n",
       "\n",
       "    .dataframe thead th {\n",
       "        text-align: right;\n",
       "    }\n",
       "</style>\n",
       "<table border=\"1\" class=\"dataframe\">\n",
       "  <thead>\n",
       "    <tr style=\"text-align: right;\">\n",
       "      <th></th>\n",
       "      <th>naslov</th>\n",
       "      <th>stevilo_clenov</th>\n",
       "    </tr>\n",
       "  </thead>\n",
       "  <tbody>\n",
       "    <tr>\n",
       "      <th>4</th>\n",
       "      <td>One Punch Man</td>\n",
       "      <td>1979366</td>\n",
       "    </tr>\n",
       "  </tbody>\n",
       "</table>\n",
       "</div>"
      ],
      "text/plain": [
       "          naslov  stevilo_clenov\n",
       "4  One Punch Man         1979366"
      ]
     },
     "metadata": {},
     "output_type": "display_data"
    },
    {
     "data": {
      "text/plain": [
       "'Visual novel'"
      ]
     },
     "metadata": {},
     "output_type": "display_data"
    },
    {
     "data": {
      "text/plain": [
       "137803.0"
      ]
     },
     "metadata": {},
     "output_type": "display_data"
    },
    {
     "data": {
      "text/html": [
       "<div>\n",
       "<style scoped>\n",
       "    .dataframe tbody tr th:only-of-type {\n",
       "        vertical-align: middle;\n",
       "    }\n",
       "\n",
       "    .dataframe tbody tr th {\n",
       "        vertical-align: top;\n",
       "    }\n",
       "\n",
       "    .dataframe thead th {\n",
       "        text-align: right;\n",
       "    }\n",
       "</style>\n",
       "<table border=\"1\" class=\"dataframe\">\n",
       "  <thead>\n",
       "    <tr style=\"text-align: right;\">\n",
       "      <th></th>\n",
       "      <th>naslov</th>\n",
       "      <th>stevilo_clenov</th>\n",
       "    </tr>\n",
       "  </thead>\n",
       "  <tbody>\n",
       "    <tr>\n",
       "      <th>8</th>\n",
       "      <td>Steins;Gate</td>\n",
       "      <td>1681837</td>\n",
       "    </tr>\n",
       "  </tbody>\n",
       "</table>\n",
       "</div>"
      ],
      "text/plain": [
       "        naslov  stevilo_clenov\n",
       "8  Steins;Gate         1681837"
      ]
     },
     "metadata": {},
     "output_type": "display_data"
    },
    {
     "data": {
      "text/plain": [
       "'Original'"
      ]
     },
     "metadata": {},
     "output_type": "display_data"
    },
    {
     "data": {
      "text/plain": [
       "48679.0"
      ]
     },
     "metadata": {},
     "output_type": "display_data"
    },
    {
     "data": {
      "text/html": [
       "<div>\n",
       "<style scoped>\n",
       "    .dataframe tbody tr th:only-of-type {\n",
       "        vertical-align: middle;\n",
       "    }\n",
       "\n",
       "    .dataframe tbody tr th {\n",
       "        vertical-align: top;\n",
       "    }\n",
       "\n",
       "    .dataframe thead th {\n",
       "        text-align: right;\n",
       "    }\n",
       "</style>\n",
       "<table border=\"1\" class=\"dataframe\">\n",
       "  <thead>\n",
       "    <tr style=\"text-align: right;\">\n",
       "      <th></th>\n",
       "      <th>naslov</th>\n",
       "      <th>stevilo_clenov</th>\n",
       "    </tr>\n",
       "  </thead>\n",
       "  <tbody>\n",
       "    <tr>\n",
       "      <th>10</th>\n",
       "      <td>Angel Beats!</td>\n",
       "      <td>1515002</td>\n",
       "    </tr>\n",
       "  </tbody>\n",
       "</table>\n",
       "</div>"
      ],
      "text/plain": [
       "          naslov  stevilo_clenov\n",
       "10  Angel Beats!         1515002"
      ]
     },
     "metadata": {},
     "output_type": "display_data"
    },
    {
     "data": {
      "text/plain": [
       "'Novel'"
      ]
     },
     "metadata": {},
     "output_type": "display_data"
    },
    {
     "data": {
      "text/plain": [
       "56002.0"
      ]
     },
     "metadata": {},
     "output_type": "display_data"
    },
    {
     "data": {
      "text/html": [
       "<div>\n",
       "<style scoped>\n",
       "    .dataframe tbody tr th:only-of-type {\n",
       "        vertical-align: middle;\n",
       "    }\n",
       "\n",
       "    .dataframe tbody tr th {\n",
       "        vertical-align: top;\n",
       "    }\n",
       "\n",
       "    .dataframe thead th {\n",
       "        text-align: right;\n",
       "    }\n",
       "</style>\n",
       "<table border=\"1\" class=\"dataframe\">\n",
       "  <thead>\n",
       "    <tr style=\"text-align: right;\">\n",
       "      <th></th>\n",
       "      <th>naslov</th>\n",
       "      <th>stevilo_clenov</th>\n",
       "    </tr>\n",
       "  </thead>\n",
       "  <tbody>\n",
       "    <tr>\n",
       "      <th>67</th>\n",
       "      <td>Hyouka</td>\n",
       "      <td>883372</td>\n",
       "    </tr>\n",
       "  </tbody>\n",
       "</table>\n",
       "</div>"
      ],
      "text/plain": [
       "    naslov  stevilo_clenov\n",
       "67  Hyouka          883372"
      ]
     },
     "metadata": {},
     "output_type": "display_data"
    },
    {
     "data": {
      "text/plain": [
       "'4-koma manga'"
      ]
     },
     "metadata": {},
     "output_type": "display_data"
    },
    {
     "data": {
      "text/plain": [
       "85248.0"
      ]
     },
     "metadata": {},
     "output_type": "display_data"
    },
    {
     "data": {
      "text/html": [
       "<div>\n",
       "<style scoped>\n",
       "    .dataframe tbody tr th:only-of-type {\n",
       "        vertical-align: middle;\n",
       "    }\n",
       "\n",
       "    .dataframe tbody tr th {\n",
       "        vertical-align: top;\n",
       "    }\n",
       "\n",
       "    .dataframe thead th {\n",
       "        text-align: right;\n",
       "    }\n",
       "</style>\n",
       "<table border=\"1\" class=\"dataframe\">\n",
       "  <thead>\n",
       "    <tr style=\"text-align: right;\">\n",
       "      <th></th>\n",
       "      <th>naslov</th>\n",
       "      <th>stevilo_clenov</th>\n",
       "    </tr>\n",
       "  </thead>\n",
       "  <tbody>\n",
       "    <tr>\n",
       "      <th>92</th>\n",
       "      <td>K-On!</td>\n",
       "      <td>741057</td>\n",
       "    </tr>\n",
       "  </tbody>\n",
       "</table>\n",
       "</div>"
      ],
      "text/plain": [
       "   naslov  stevilo_clenov\n",
       "92  K-On!          741057"
      ]
     },
     "metadata": {},
     "output_type": "display_data"
    },
    {
     "data": {
      "text/plain": [
       "'Game'"
      ]
     },
     "metadata": {},
     "output_type": "display_data"
    },
    {
     "data": {
      "text/plain": [
       "40311.0"
      ]
     },
     "metadata": {},
     "output_type": "display_data"
    },
    {
     "data": {
      "text/html": [
       "<div>\n",
       "<style scoped>\n",
       "    .dataframe tbody tr th:only-of-type {\n",
       "        vertical-align: middle;\n",
       "    }\n",
       "\n",
       "    .dataframe tbody tr th {\n",
       "        vertical-align: top;\n",
       "    }\n",
       "\n",
       "    .dataframe thead th {\n",
       "        text-align: right;\n",
       "    }\n",
       "</style>\n",
       "<table border=\"1\" class=\"dataframe\">\n",
       "  <thead>\n",
       "    <tr style=\"text-align: right;\">\n",
       "      <th></th>\n",
       "      <th>naslov</th>\n",
       "      <th>stevilo_clenov</th>\n",
       "    </tr>\n",
       "  </thead>\n",
       "  <tbody>\n",
       "    <tr>\n",
       "      <th>114</th>\n",
       "      <td>Danganronpa: Kibou no Gakuen to Zetsubou no Ko...</td>\n",
       "      <td>654600</td>\n",
       "    </tr>\n",
       "  </tbody>\n",
       "</table>\n",
       "</div>"
      ],
      "text/plain": [
       "                                                naslov  stevilo_clenov\n",
       "114  Danganronpa: Kibou no Gakuen to Zetsubou no Ko...          654600"
      ]
     },
     "metadata": {},
     "output_type": "display_data"
    },
    {
     "data": {
      "text/plain": [
       "'Music'"
      ]
     },
     "metadata": {},
     "output_type": "display_data"
    },
    {
     "data": {
      "text/plain": [
       "34458.0"
      ]
     },
     "metadata": {},
     "output_type": "display_data"
    },
    {
     "data": {
      "text/html": [
       "<div>\n",
       "<style scoped>\n",
       "    .dataframe tbody tr th:only-of-type {\n",
       "        vertical-align: middle;\n",
       "    }\n",
       "\n",
       "    .dataframe tbody tr th {\n",
       "        vertical-align: top;\n",
       "    }\n",
       "\n",
       "    .dataframe thead th {\n",
       "        text-align: right;\n",
       "    }\n",
       "</style>\n",
       "<table border=\"1\" class=\"dataframe\">\n",
       "  <thead>\n",
       "    <tr style=\"text-align: right;\">\n",
       "      <th></th>\n",
       "      <th>naslov</th>\n",
       "      <th>stevilo_clenov</th>\n",
       "    </tr>\n",
       "  </thead>\n",
       "  <tbody>\n",
       "    <tr>\n",
       "      <th>271</th>\n",
       "      <td>Mekakucity Actors</td>\n",
       "      <td>364434</td>\n",
       "    </tr>\n",
       "  </tbody>\n",
       "</table>\n",
       "</div>"
      ],
      "text/plain": [
       "                naslov  stevilo_clenov\n",
       "271  Mekakucity Actors          364434"
      ]
     },
     "metadata": {},
     "output_type": "display_data"
    },
    {
     "data": {
      "text/plain": [
       "'Other'"
      ]
     },
     "metadata": {},
     "output_type": "display_data"
    },
    {
     "data": {
      "text/plain": [
       "21827.0"
      ]
     },
     "metadata": {},
     "output_type": "display_data"
    },
    {
     "data": {
      "text/html": [
       "<div>\n",
       "<style scoped>\n",
       "    .dataframe tbody tr th:only-of-type {\n",
       "        vertical-align: middle;\n",
       "    }\n",
       "\n",
       "    .dataframe tbody tr th {\n",
       "        vertical-align: top;\n",
       "    }\n",
       "\n",
       "    .dataframe thead th {\n",
       "        text-align: right;\n",
       "    }\n",
       "</style>\n",
       "<table border=\"1\" class=\"dataframe\">\n",
       "  <thead>\n",
       "    <tr style=\"text-align: right;\">\n",
       "      <th></th>\n",
       "      <th>naslov</th>\n",
       "      <th>stevilo_clenov</th>\n",
       "    </tr>\n",
       "  </thead>\n",
       "  <tbody>\n",
       "    <tr>\n",
       "      <th>286</th>\n",
       "      <td>Love Live! School Idol Project</td>\n",
       "      <td>342639</td>\n",
       "    </tr>\n",
       "  </tbody>\n",
       "</table>\n",
       "</div>"
      ],
      "text/plain": [
       "                             naslov  stevilo_clenov\n",
       "286  Love Live! School Idol Project          342639"
      ]
     },
     "metadata": {},
     "output_type": "display_data"
    },
    {
     "data": {
      "text/plain": [
       "'Card game'"
      ]
     },
     "metadata": {},
     "output_type": "display_data"
    },
    {
     "data": {
      "text/plain": [
       "32194.0"
      ]
     },
     "metadata": {},
     "output_type": "display_data"
    },
    {
     "data": {
      "text/html": [
       "<div>\n",
       "<style scoped>\n",
       "    .dataframe tbody tr th:only-of-type {\n",
       "        vertical-align: middle;\n",
       "    }\n",
       "\n",
       "    .dataframe tbody tr th {\n",
       "        vertical-align: top;\n",
       "    }\n",
       "\n",
       "    .dataframe thead th {\n",
       "        text-align: right;\n",
       "    }\n",
       "</style>\n",
       "<table border=\"1\" class=\"dataframe\">\n",
       "  <thead>\n",
       "    <tr style=\"text-align: right;\">\n",
       "      <th></th>\n",
       "      <th>naslov</th>\n",
       "      <th>stevilo_clenov</th>\n",
       "    </tr>\n",
       "  </thead>\n",
       "  <tbody>\n",
       "    <tr>\n",
       "      <th>307</th>\n",
       "      <td>Shingeki no Bahamut: Genesis</td>\n",
       "      <td>321493</td>\n",
       "    </tr>\n",
       "  </tbody>\n",
       "</table>\n",
       "</div>"
      ],
      "text/plain": [
       "                           naslov  stevilo_clenov\n",
       "307  Shingeki no Bahamut: Genesis          321493"
      ]
     },
     "metadata": {},
     "output_type": "display_data"
    },
    {
     "data": {
      "text/plain": [
       "'Book'"
      ]
     },
     "metadata": {},
     "output_type": "display_data"
    },
    {
     "data": {
      "text/plain": [
       "9530.0"
      ]
     },
     "metadata": {},
     "output_type": "display_data"
    },
    {
     "data": {
      "text/html": [
       "<div>\n",
       "<style scoped>\n",
       "    .dataframe tbody tr th:only-of-type {\n",
       "        vertical-align: middle;\n",
       "    }\n",
       "\n",
       "    .dataframe tbody tr th {\n",
       "        vertical-align: top;\n",
       "    }\n",
       "\n",
       "    .dataframe thead th {\n",
       "        text-align: right;\n",
       "    }\n",
       "</style>\n",
       "<table border=\"1\" class=\"dataframe\">\n",
       "  <thead>\n",
       "    <tr style=\"text-align: right;\">\n",
       "      <th></th>\n",
       "      <th>naslov</th>\n",
       "      <th>stevilo_clenov</th>\n",
       "    </tr>\n",
       "  </thead>\n",
       "  <tbody>\n",
       "    <tr>\n",
       "      <th>623</th>\n",
       "      <td>Romeo x Juliet</td>\n",
       "      <td>151255</td>\n",
       "    </tr>\n",
       "  </tbody>\n",
       "</table>\n",
       "</div>"
      ],
      "text/plain": [
       "             naslov  stevilo_clenov\n",
       "623  Romeo x Juliet          151255"
      ]
     },
     "metadata": {},
     "output_type": "display_data"
    },
    {
     "data": {
      "text/plain": [
       "'Picture book'"
      ]
     },
     "metadata": {},
     "output_type": "display_data"
    },
    {
     "data": {
      "text/plain": [
       "1499.0"
      ]
     },
     "metadata": {},
     "output_type": "display_data"
    },
    {
     "data": {
      "text/html": [
       "<div>\n",
       "<style scoped>\n",
       "    .dataframe tbody tr th:only-of-type {\n",
       "        vertical-align: middle;\n",
       "    }\n",
       "\n",
       "    .dataframe tbody tr th {\n",
       "        vertical-align: top;\n",
       "    }\n",
       "\n",
       "    .dataframe thead th {\n",
       "        text-align: right;\n",
       "    }\n",
       "</style>\n",
       "<table border=\"1\" class=\"dataframe\">\n",
       "  <thead>\n",
       "    <tr style=\"text-align: right;\">\n",
       "      <th></th>\n",
       "      <th>naslov</th>\n",
       "      <th>stevilo_clenov</th>\n",
       "    </tr>\n",
       "  </thead>\n",
       "  <tbody>\n",
       "    <tr>\n",
       "      <th>1204</th>\n",
       "      <td>Honobono Log</td>\n",
       "      <td>51155</td>\n",
       "    </tr>\n",
       "  </tbody>\n",
       "</table>\n",
       "</div>"
      ],
      "text/plain": [
       "            naslov  stevilo_clenov\n",
       "1204  Honobono Log           51155"
      ]
     },
     "metadata": {},
     "output_type": "display_data"
    },
    {
     "data": {
      "text/plain": [
       "'Unknown'"
      ]
     },
     "metadata": {},
     "output_type": "display_data"
    },
    {
     "data": {
      "text/plain": [
       "1230.0"
      ]
     },
     "metadata": {},
     "output_type": "display_data"
    },
    {
     "data": {
      "text/html": [
       "<div>\n",
       "<style scoped>\n",
       "    .dataframe tbody tr th:only-of-type {\n",
       "        vertical-align: middle;\n",
       "    }\n",
       "\n",
       "    .dataframe tbody tr th {\n",
       "        vertical-align: top;\n",
       "    }\n",
       "\n",
       "    .dataframe thead th {\n",
       "        text-align: right;\n",
       "    }\n",
       "</style>\n",
       "<table border=\"1\" class=\"dataframe\">\n",
       "  <thead>\n",
       "    <tr style=\"text-align: right;\">\n",
       "      <th></th>\n",
       "      <th>naslov</th>\n",
       "      <th>stevilo_clenov</th>\n",
       "    </tr>\n",
       "  </thead>\n",
       "  <tbody>\n",
       "    <tr>\n",
       "      <th>1309</th>\n",
       "      <td>Zoids</td>\n",
       "      <td>40711</td>\n",
       "    </tr>\n",
       "  </tbody>\n",
       "</table>\n",
       "</div>"
      ],
      "text/plain": [
       "     naslov  stevilo_clenov\n",
       "1309  Zoids           40711"
      ]
     },
     "metadata": {},
     "output_type": "display_data"
    },
    {
     "data": {
      "text/plain": [
       "'Digital manga'"
      ]
     },
     "metadata": {},
     "output_type": "display_data"
    },
    {
     "data": {
      "text/plain": [
       "9784.0"
      ]
     },
     "metadata": {},
     "output_type": "display_data"
    },
    {
     "data": {
      "text/html": [
       "<div>\n",
       "<style scoped>\n",
       "    .dataframe tbody tr th:only-of-type {\n",
       "        vertical-align: middle;\n",
       "    }\n",
       "\n",
       "    .dataframe tbody tr th {\n",
       "        vertical-align: top;\n",
       "    }\n",
       "\n",
       "    .dataframe thead th {\n",
       "        text-align: right;\n",
       "    }\n",
       "</style>\n",
       "<table border=\"1\" class=\"dataframe\">\n",
       "  <thead>\n",
       "    <tr style=\"text-align: right;\">\n",
       "      <th></th>\n",
       "      <th>naslov</th>\n",
       "      <th>stevilo_clenov</th>\n",
       "    </tr>\n",
       "  </thead>\n",
       "  <tbody>\n",
       "    <tr>\n",
       "      <th>1625</th>\n",
       "      <td>Ame-iro Cocoa</td>\n",
       "      <td>22782</td>\n",
       "    </tr>\n",
       "  </tbody>\n",
       "</table>\n",
       "</div>"
      ],
      "text/plain": [
       "             naslov  stevilo_clenov\n",
       "1625  Ame-iro Cocoa           22782"
      ]
     },
     "metadata": {},
     "output_type": "display_data"
    },
    {
     "data": {
      "text/plain": [
       "'Radio'"
      ]
     },
     "metadata": {},
     "output_type": "display_data"
    },
    {
     "data": {
      "text/plain": [
       "2770.0"
      ]
     },
     "metadata": {},
     "output_type": "display_data"
    },
    {
     "data": {
      "text/html": [
       "<div>\n",
       "<style scoped>\n",
       "    .dataframe tbody tr th:only-of-type {\n",
       "        vertical-align: middle;\n",
       "    }\n",
       "\n",
       "    .dataframe tbody tr th {\n",
       "        vertical-align: top;\n",
       "    }\n",
       "\n",
       "    .dataframe thead th {\n",
       "        text-align: right;\n",
       "    }\n",
       "</style>\n",
       "<table border=\"1\" class=\"dataframe\">\n",
       "  <thead>\n",
       "    <tr style=\"text-align: right;\">\n",
       "      <th></th>\n",
       "      <th>naslov</th>\n",
       "      <th>stevilo_clenov</th>\n",
       "    </tr>\n",
       "  </thead>\n",
       "  <tbody>\n",
       "    <tr>\n",
       "      <th>2408</th>\n",
       "      <td>Chance Triangle Session</td>\n",
       "      <td>4500</td>\n",
       "    </tr>\n",
       "  </tbody>\n",
       "</table>\n",
       "</div>"
      ],
      "text/plain": [
       "                       naslov  stevilo_clenov\n",
       "2408  Chance Triangle Session            4500"
      ]
     },
     "metadata": {},
     "output_type": "display_data"
    }
   ],
   "source": [
    "for vir in animeji_in_viri:\n",
    "    display(vir)\n",
    "    display(round(animeji_in_viri[vir].loc[:, 'stevilo_clenov'].mean(), 0))\n",
    "    display(animeji_in_viri[vir][['naslov', 'stevilo_clenov']].sort_values('stevilo_clenov', ascending=False).head(1))"
   ]
  },
  {
   "cell_type": "markdown",
   "metadata": {},
   "source": [
    "Poglejmo še, kako je z najljubšim animejima."
   ]
  },
  {
   "cell_type": "code",
   "execution_count": 24,
   "metadata": {},
   "outputs": [
    {
     "data": {
      "text/plain": [
       "'Manga'"
      ]
     },
     "metadata": {},
     "output_type": "display_data"
    },
    {
     "data": {
      "text/plain": [
       "2715.0"
      ]
     },
     "metadata": {},
     "output_type": "display_data"
    },
    {
     "data": {
      "text/html": [
       "<div>\n",
       "<style scoped>\n",
       "    .dataframe tbody tr th:only-of-type {\n",
       "        vertical-align: middle;\n",
       "    }\n",
       "\n",
       "    .dataframe tbody tr th {\n",
       "        vertical-align: top;\n",
       "    }\n",
       "\n",
       "    .dataframe thead th {\n",
       "        text-align: right;\n",
       "    }\n",
       "</style>\n",
       "<table border=\"1\" class=\"dataframe\">\n",
       "  <thead>\n",
       "    <tr style=\"text-align: right;\">\n",
       "      <th></th>\n",
       "      <th>naslov</th>\n",
       "      <th>najljubsi</th>\n",
       "    </tr>\n",
       "  </thead>\n",
       "  <tbody>\n",
       "    <tr>\n",
       "      <th>2</th>\n",
       "      <td>Fullmetal Alchemist: Brotherhood</td>\n",
       "      <td>172608</td>\n",
       "    </tr>\n",
       "  </tbody>\n",
       "</table>\n",
       "</div>"
      ],
      "text/plain": [
       "                             naslov  najljubsi\n",
       "2  Fullmetal Alchemist: Brotherhood     172608"
      ]
     },
     "metadata": {},
     "output_type": "display_data"
    },
    {
     "data": {
      "text/plain": [
       "'Light novel'"
      ]
     },
     "metadata": {},
     "output_type": "display_data"
    },
    {
     "data": {
      "text/plain": [
       "3976.0"
      ]
     },
     "metadata": {},
     "output_type": "display_data"
    },
    {
     "data": {
      "text/html": [
       "<div>\n",
       "<style scoped>\n",
       "    .dataframe tbody tr th:only-of-type {\n",
       "        vertical-align: middle;\n",
       "    }\n",
       "\n",
       "    .dataframe tbody tr th {\n",
       "        vertical-align: top;\n",
       "    }\n",
       "\n",
       "    .dataframe thead th {\n",
       "        text-align: right;\n",
       "    }\n",
       "</style>\n",
       "<table border=\"1\" class=\"dataframe\">\n",
       "  <thead>\n",
       "    <tr style=\"text-align: right;\">\n",
       "      <th></th>\n",
       "      <th>naslov</th>\n",
       "      <th>najljubsi</th>\n",
       "    </tr>\n",
       "  </thead>\n",
       "  <tbody>\n",
       "    <tr>\n",
       "      <th>3</th>\n",
       "      <td>Sword Art Online</td>\n",
       "      <td>64536</td>\n",
       "    </tr>\n",
       "  </tbody>\n",
       "</table>\n",
       "</div>"
      ],
      "text/plain": [
       "             naslov  najljubsi\n",
       "3  Sword Art Online      64536"
      ]
     },
     "metadata": {},
     "output_type": "display_data"
    },
    {
     "data": {
      "text/plain": [
       "'Web manga'"
      ]
     },
     "metadata": {},
     "output_type": "display_data"
    },
    {
     "data": {
      "text/plain": [
       "2576.0"
      ]
     },
     "metadata": {},
     "output_type": "display_data"
    },
    {
     "data": {
      "text/html": [
       "<div>\n",
       "<style scoped>\n",
       "    .dataframe tbody tr th:only-of-type {\n",
       "        vertical-align: middle;\n",
       "    }\n",
       "\n",
       "    .dataframe tbody tr th {\n",
       "        vertical-align: top;\n",
       "    }\n",
       "\n",
       "    .dataframe thead th {\n",
       "        text-align: right;\n",
       "    }\n",
       "</style>\n",
       "<table border=\"1\" class=\"dataframe\">\n",
       "  <thead>\n",
       "    <tr style=\"text-align: right;\">\n",
       "      <th></th>\n",
       "      <th>naslov</th>\n",
       "      <th>najljubsi</th>\n",
       "    </tr>\n",
       "  </thead>\n",
       "  <tbody>\n",
       "    <tr>\n",
       "      <th>4</th>\n",
       "      <td>One Punch Man</td>\n",
       "      <td>52089</td>\n",
       "    </tr>\n",
       "  </tbody>\n",
       "</table>\n",
       "</div>"
      ],
      "text/plain": [
       "          naslov  najljubsi\n",
       "4  One Punch Man      52089"
      ]
     },
     "metadata": {},
     "output_type": "display_data"
    },
    {
     "data": {
      "text/plain": [
       "'Visual novel'"
      ]
     },
     "metadata": {},
     "output_type": "display_data"
    },
    {
     "data": {
      "text/plain": [
       "2929.0"
      ]
     },
     "metadata": {},
     "output_type": "display_data"
    },
    {
     "data": {
      "text/html": [
       "<div>\n",
       "<style scoped>\n",
       "    .dataframe tbody tr th:only-of-type {\n",
       "        vertical-align: middle;\n",
       "    }\n",
       "\n",
       "    .dataframe tbody tr th {\n",
       "        vertical-align: top;\n",
       "    }\n",
       "\n",
       "    .dataframe thead th {\n",
       "        text-align: right;\n",
       "    }\n",
       "</style>\n",
       "<table border=\"1\" class=\"dataframe\">\n",
       "  <thead>\n",
       "    <tr style=\"text-align: right;\">\n",
       "      <th></th>\n",
       "      <th>naslov</th>\n",
       "      <th>najljubsi</th>\n",
       "    </tr>\n",
       "  </thead>\n",
       "  <tbody>\n",
       "    <tr>\n",
       "      <th>8</th>\n",
       "      <td>Steins;Gate</td>\n",
       "      <td>143451</td>\n",
       "    </tr>\n",
       "  </tbody>\n",
       "</table>\n",
       "</div>"
      ],
      "text/plain": [
       "        naslov  najljubsi\n",
       "8  Steins;Gate     143451"
      ]
     },
     "metadata": {},
     "output_type": "display_data"
    },
    {
     "data": {
      "text/plain": [
       "'Original'"
      ]
     },
     "metadata": {},
     "output_type": "display_data"
    },
    {
     "data": {
      "text/plain": [
       "887.0"
      ]
     },
     "metadata": {},
     "output_type": "display_data"
    },
    {
     "data": {
      "text/html": [
       "<div>\n",
       "<style scoped>\n",
       "    .dataframe tbody tr th:only-of-type {\n",
       "        vertical-align: middle;\n",
       "    }\n",
       "\n",
       "    .dataframe tbody tr th {\n",
       "        vertical-align: top;\n",
       "    }\n",
       "\n",
       "    .dataframe thead th {\n",
       "        text-align: right;\n",
       "    }\n",
       "</style>\n",
       "<table border=\"1\" class=\"dataframe\">\n",
       "  <thead>\n",
       "    <tr style=\"text-align: right;\">\n",
       "      <th></th>\n",
       "      <th>naslov</th>\n",
       "      <th>najljubsi</th>\n",
       "    </tr>\n",
       "  </thead>\n",
       "  <tbody>\n",
       "    <tr>\n",
       "      <th>11</th>\n",
       "      <td>Code Geass: Hangyaku no Lelouch</td>\n",
       "      <td>87564</td>\n",
       "    </tr>\n",
       "  </tbody>\n",
       "</table>\n",
       "</div>"
      ],
      "text/plain": [
       "                             naslov  najljubsi\n",
       "11  Code Geass: Hangyaku no Lelouch      87564"
      ]
     },
     "metadata": {},
     "output_type": "display_data"
    },
    {
     "data": {
      "text/plain": [
       "'Novel'"
      ]
     },
     "metadata": {},
     "output_type": "display_data"
    },
    {
     "data": {
      "text/plain": [
       "927.0"
      ]
     },
     "metadata": {},
     "output_type": "display_data"
    },
    {
     "data": {
      "text/html": [
       "<div>\n",
       "<style scoped>\n",
       "    .dataframe tbody tr th:only-of-type {\n",
       "        vertical-align: middle;\n",
       "    }\n",
       "\n",
       "    .dataframe tbody tr th {\n",
       "        vertical-align: top;\n",
       "    }\n",
       "\n",
       "    .dataframe thead th {\n",
       "        text-align: right;\n",
       "    }\n",
       "</style>\n",
       "<table border=\"1\" class=\"dataframe\">\n",
       "  <thead>\n",
       "    <tr style=\"text-align: right;\">\n",
       "      <th></th>\n",
       "      <th>naslov</th>\n",
       "      <th>najljubsi</th>\n",
       "    </tr>\n",
       "  </thead>\n",
       "  <tbody>\n",
       "    <tr>\n",
       "      <th>160</th>\n",
       "      <td>NHK ni Youkoso!</td>\n",
       "      <td>20817</td>\n",
       "    </tr>\n",
       "  </tbody>\n",
       "</table>\n",
       "</div>"
      ],
      "text/plain": [
       "              naslov  najljubsi\n",
       "160  NHK ni Youkoso!      20817"
      ]
     },
     "metadata": {},
     "output_type": "display_data"
    },
    {
     "data": {
      "text/plain": [
       "'4-koma manga'"
      ]
     },
     "metadata": {},
     "output_type": "display_data"
    },
    {
     "data": {
      "text/plain": [
       "880.0"
      ]
     },
     "metadata": {},
     "output_type": "display_data"
    },
    {
     "data": {
      "text/html": [
       "<div>\n",
       "<style scoped>\n",
       "    .dataframe tbody tr th:only-of-type {\n",
       "        vertical-align: middle;\n",
       "    }\n",
       "\n",
       "    .dataframe tbody tr th {\n",
       "        vertical-align: top;\n",
       "    }\n",
       "\n",
       "    .dataframe thead th {\n",
       "        text-align: right;\n",
       "    }\n",
       "</style>\n",
       "<table border=\"1\" class=\"dataframe\">\n",
       "  <thead>\n",
       "    <tr style=\"text-align: right;\">\n",
       "      <th></th>\n",
       "      <th>naslov</th>\n",
       "      <th>najljubsi</th>\n",
       "    </tr>\n",
       "  </thead>\n",
       "  <tbody>\n",
       "    <tr>\n",
       "      <th>92</th>\n",
       "      <td>K-On!</td>\n",
       "      <td>18770</td>\n",
       "    </tr>\n",
       "  </tbody>\n",
       "</table>\n",
       "</div>"
      ],
      "text/plain": [
       "   naslov  najljubsi\n",
       "92  K-On!      18770"
      ]
     },
     "metadata": {},
     "output_type": "display_data"
    },
    {
     "data": {
      "text/plain": [
       "'Game'"
      ]
     },
     "metadata": {},
     "output_type": "display_data"
    },
    {
     "data": {
      "text/plain": [
       "237.0"
      ]
     },
     "metadata": {},
     "output_type": "display_data"
    },
    {
     "data": {
      "text/html": [
       "<div>\n",
       "<style scoped>\n",
       "    .dataframe tbody tr th:only-of-type {\n",
       "        vertical-align: middle;\n",
       "    }\n",
       "\n",
       "    .dataframe tbody tr th {\n",
       "        vertical-align: top;\n",
       "    }\n",
       "\n",
       "    .dataframe thead th {\n",
       "        text-align: right;\n",
       "    }\n",
       "</style>\n",
       "<table border=\"1\" class=\"dataframe\">\n",
       "  <thead>\n",
       "    <tr style=\"text-align: right;\">\n",
       "      <th></th>\n",
       "      <th>naslov</th>\n",
       "      <th>najljubsi</th>\n",
       "    </tr>\n",
       "  </thead>\n",
       "  <tbody>\n",
       "    <tr>\n",
       "      <th>114</th>\n",
       "      <td>Danganronpa: Kibou no Gakuen to Zetsubou no Ko...</td>\n",
       "      <td>7860</td>\n",
       "    </tr>\n",
       "  </tbody>\n",
       "</table>\n",
       "</div>"
      ],
      "text/plain": [
       "                                                naslov  najljubsi\n",
       "114  Danganronpa: Kibou no Gakuen to Zetsubou no Ko...       7860"
      ]
     },
     "metadata": {},
     "output_type": "display_data"
    },
    {
     "data": {
      "text/plain": [
       "'Music'"
      ]
     },
     "metadata": {},
     "output_type": "display_data"
    },
    {
     "data": {
      "text/plain": [
       "320.0"
      ]
     },
     "metadata": {},
     "output_type": "display_data"
    },
    {
     "data": {
      "text/html": [
       "<div>\n",
       "<style scoped>\n",
       "    .dataframe tbody tr th:only-of-type {\n",
       "        vertical-align: middle;\n",
       "    }\n",
       "\n",
       "    .dataframe tbody tr th {\n",
       "        vertical-align: top;\n",
       "    }\n",
       "\n",
       "    .dataframe thead th {\n",
       "        text-align: right;\n",
       "    }\n",
       "</style>\n",
       "<table border=\"1\" class=\"dataframe\">\n",
       "  <thead>\n",
       "    <tr style=\"text-align: right;\">\n",
       "      <th></th>\n",
       "      <th>naslov</th>\n",
       "      <th>najljubsi</th>\n",
       "    </tr>\n",
       "  </thead>\n",
       "  <tbody>\n",
       "    <tr>\n",
       "      <th>271</th>\n",
       "      <td>Mekakucity Actors</td>\n",
       "      <td>3693</td>\n",
       "    </tr>\n",
       "  </tbody>\n",
       "</table>\n",
       "</div>"
      ],
      "text/plain": [
       "                naslov  najljubsi\n",
       "271  Mekakucity Actors       3693"
      ]
     },
     "metadata": {},
     "output_type": "display_data"
    },
    {
     "data": {
      "text/plain": [
       "'Other'"
      ]
     },
     "metadata": {},
     "output_type": "display_data"
    },
    {
     "data": {
      "text/plain": [
       "251.0"
      ]
     },
     "metadata": {},
     "output_type": "display_data"
    },
    {
     "data": {
      "text/html": [
       "<div>\n",
       "<style scoped>\n",
       "    .dataframe tbody tr th:only-of-type {\n",
       "        vertical-align: middle;\n",
       "    }\n",
       "\n",
       "    .dataframe tbody tr th {\n",
       "        vertical-align: top;\n",
       "    }\n",
       "\n",
       "    .dataframe thead th {\n",
       "        text-align: right;\n",
       "    }\n",
       "</style>\n",
       "<table border=\"1\" class=\"dataframe\">\n",
       "  <thead>\n",
       "    <tr style=\"text-align: right;\">\n",
       "      <th></th>\n",
       "      <th>naslov</th>\n",
       "      <th>najljubsi</th>\n",
       "    </tr>\n",
       "  </thead>\n",
       "  <tbody>\n",
       "    <tr>\n",
       "      <th>286</th>\n",
       "      <td>Love Live! School Idol Project</td>\n",
       "      <td>7933</td>\n",
       "    </tr>\n",
       "  </tbody>\n",
       "</table>\n",
       "</div>"
      ],
      "text/plain": [
       "                             naslov  najljubsi\n",
       "286  Love Live! School Idol Project       7933"
      ]
     },
     "metadata": {},
     "output_type": "display_data"
    },
    {
     "data": {
      "text/plain": [
       "'Card game'"
      ]
     },
     "metadata": {},
     "output_type": "display_data"
    },
    {
     "data": {
      "text/plain": [
       "117.0"
      ]
     },
     "metadata": {},
     "output_type": "display_data"
    },
    {
     "data": {
      "text/html": [
       "<div>\n",
       "<style scoped>\n",
       "    .dataframe tbody tr th:only-of-type {\n",
       "        vertical-align: middle;\n",
       "    }\n",
       "\n",
       "    .dataframe tbody tr th {\n",
       "        vertical-align: top;\n",
       "    }\n",
       "\n",
       "    .dataframe thead th {\n",
       "        text-align: right;\n",
       "    }\n",
       "</style>\n",
       "<table border=\"1\" class=\"dataframe\">\n",
       "  <thead>\n",
       "    <tr style=\"text-align: right;\">\n",
       "      <th></th>\n",
       "      <th>naslov</th>\n",
       "      <th>najljubsi</th>\n",
       "    </tr>\n",
       "  </thead>\n",
       "  <tbody>\n",
       "    <tr>\n",
       "      <th>307</th>\n",
       "      <td>Shingeki no Bahamut: Genesis</td>\n",
       "      <td>1523</td>\n",
       "    </tr>\n",
       "  </tbody>\n",
       "</table>\n",
       "</div>"
      ],
      "text/plain": [
       "                           naslov  najljubsi\n",
       "307  Shingeki no Bahamut: Genesis       1523"
      ]
     },
     "metadata": {},
     "output_type": "display_data"
    },
    {
     "data": {
      "text/plain": [
       "'Book'"
      ]
     },
     "metadata": {},
     "output_type": "display_data"
    },
    {
     "data": {
      "text/plain": [
       "68.0"
      ]
     },
     "metadata": {},
     "output_type": "display_data"
    },
    {
     "data": {
      "text/html": [
       "<div>\n",
       "<style scoped>\n",
       "    .dataframe tbody tr th:only-of-type {\n",
       "        vertical-align: middle;\n",
       "    }\n",
       "\n",
       "    .dataframe tbody tr th {\n",
       "        vertical-align: top;\n",
       "    }\n",
       "\n",
       "    .dataframe thead th {\n",
       "        text-align: right;\n",
       "    }\n",
       "</style>\n",
       "<table border=\"1\" class=\"dataframe\">\n",
       "  <thead>\n",
       "    <tr style=\"text-align: right;\">\n",
       "      <th></th>\n",
       "      <th>naslov</th>\n",
       "      <th>najljubsi</th>\n",
       "    </tr>\n",
       "  </thead>\n",
       "  <tbody>\n",
       "    <tr>\n",
       "      <th>623</th>\n",
       "      <td>Romeo x Juliet</td>\n",
       "      <td>1239</td>\n",
       "    </tr>\n",
       "  </tbody>\n",
       "</table>\n",
       "</div>"
      ],
      "text/plain": [
       "             naslov  najljubsi\n",
       "623  Romeo x Juliet       1239"
      ]
     },
     "metadata": {},
     "output_type": "display_data"
    },
    {
     "data": {
      "text/plain": [
       "'Picture book'"
      ]
     },
     "metadata": {},
     "output_type": "display_data"
    },
    {
     "data": {
      "text/plain": [
       "6.0"
      ]
     },
     "metadata": {},
     "output_type": "display_data"
    },
    {
     "data": {
      "text/html": [
       "<div>\n",
       "<style scoped>\n",
       "    .dataframe tbody tr th:only-of-type {\n",
       "        vertical-align: middle;\n",
       "    }\n",
       "\n",
       "    .dataframe tbody tr th {\n",
       "        vertical-align: top;\n",
       "    }\n",
       "\n",
       "    .dataframe thead th {\n",
       "        text-align: right;\n",
       "    }\n",
       "</style>\n",
       "<table border=\"1\" class=\"dataframe\">\n",
       "  <thead>\n",
       "    <tr style=\"text-align: right;\">\n",
       "      <th></th>\n",
       "      <th>naslov</th>\n",
       "      <th>najljubsi</th>\n",
       "    </tr>\n",
       "  </thead>\n",
       "  <tbody>\n",
       "    <tr>\n",
       "      <th>1204</th>\n",
       "      <td>Honobono Log</td>\n",
       "      <td>245</td>\n",
       "    </tr>\n",
       "  </tbody>\n",
       "</table>\n",
       "</div>"
      ],
      "text/plain": [
       "            naslov  najljubsi\n",
       "1204  Honobono Log        245"
      ]
     },
     "metadata": {},
     "output_type": "display_data"
    },
    {
     "data": {
      "text/plain": [
       "'Unknown'"
      ]
     },
     "metadata": {},
     "output_type": "display_data"
    },
    {
     "data": {
      "text/plain": [
       "4.0"
      ]
     },
     "metadata": {},
     "output_type": "display_data"
    },
    {
     "data": {
      "text/html": [
       "<div>\n",
       "<style scoped>\n",
       "    .dataframe tbody tr th:only-of-type {\n",
       "        vertical-align: middle;\n",
       "    }\n",
       "\n",
       "    .dataframe tbody tr th {\n",
       "        vertical-align: top;\n",
       "    }\n",
       "\n",
       "    .dataframe thead th {\n",
       "        text-align: right;\n",
       "    }\n",
       "</style>\n",
       "<table border=\"1\" class=\"dataframe\">\n",
       "  <thead>\n",
       "    <tr style=\"text-align: right;\">\n",
       "      <th></th>\n",
       "      <th>naslov</th>\n",
       "      <th>najljubsi</th>\n",
       "    </tr>\n",
       "  </thead>\n",
       "  <tbody>\n",
       "    <tr>\n",
       "      <th>1309</th>\n",
       "      <td>Zoids</td>\n",
       "      <td>270</td>\n",
       "    </tr>\n",
       "  </tbody>\n",
       "</table>\n",
       "</div>"
      ],
      "text/plain": [
       "     naslov  najljubsi\n",
       "1309  Zoids        270"
      ]
     },
     "metadata": {},
     "output_type": "display_data"
    },
    {
     "data": {
      "text/plain": [
       "'Digital manga'"
      ]
     },
     "metadata": {},
     "output_type": "display_data"
    },
    {
     "data": {
      "text/plain": [
       "7.0"
      ]
     },
     "metadata": {},
     "output_type": "display_data"
    },
    {
     "data": {
      "text/html": [
       "<div>\n",
       "<style scoped>\n",
       "    .dataframe tbody tr th:only-of-type {\n",
       "        vertical-align: middle;\n",
       "    }\n",
       "\n",
       "    .dataframe tbody tr th {\n",
       "        vertical-align: top;\n",
       "    }\n",
       "\n",
       "    .dataframe thead th {\n",
       "        text-align: right;\n",
       "    }\n",
       "</style>\n",
       "<table border=\"1\" class=\"dataframe\">\n",
       "  <thead>\n",
       "    <tr style=\"text-align: right;\">\n",
       "      <th></th>\n",
       "      <th>naslov</th>\n",
       "      <th>najljubsi</th>\n",
       "    </tr>\n",
       "  </thead>\n",
       "  <tbody>\n",
       "    <tr>\n",
       "      <th>2218</th>\n",
       "      <td>Ame-iro Cocoa: Side G</td>\n",
       "      <td>12</td>\n",
       "    </tr>\n",
       "  </tbody>\n",
       "</table>\n",
       "</div>"
      ],
      "text/plain": [
       "                     naslov  najljubsi\n",
       "2218  Ame-iro Cocoa: Side G         12"
      ]
     },
     "metadata": {},
     "output_type": "display_data"
    },
    {
     "data": {
      "text/plain": [
       "'Radio'"
      ]
     },
     "metadata": {},
     "output_type": "display_data"
    },
    {
     "data": {
      "text/plain": [
       "8.0"
      ]
     },
     "metadata": {},
     "output_type": "display_data"
    },
    {
     "data": {
      "text/html": [
       "<div>\n",
       "<style scoped>\n",
       "    .dataframe tbody tr th:only-of-type {\n",
       "        vertical-align: middle;\n",
       "    }\n",
       "\n",
       "    .dataframe tbody tr th {\n",
       "        vertical-align: top;\n",
       "    }\n",
       "\n",
       "    .dataframe thead th {\n",
       "        text-align: right;\n",
       "    }\n",
       "</style>\n",
       "<table border=\"1\" class=\"dataframe\">\n",
       "  <thead>\n",
       "    <tr style=\"text-align: right;\">\n",
       "      <th></th>\n",
       "      <th>naslov</th>\n",
       "      <th>najljubsi</th>\n",
       "    </tr>\n",
       "  </thead>\n",
       "  <tbody>\n",
       "    <tr>\n",
       "      <th>2423</th>\n",
       "      <td>Trouble Chocolate</td>\n",
       "      <td>21</td>\n",
       "    </tr>\n",
       "  </tbody>\n",
       "</table>\n",
       "</div>"
      ],
      "text/plain": [
       "                 naslov  najljubsi\n",
       "2423  Trouble Chocolate         21"
      ]
     },
     "metadata": {},
     "output_type": "display_data"
    }
   ],
   "source": [
    "for vir in animeji_in_viri:\n",
    "    display(vir)\n",
    "    display(round(animeji_in_viri[vir].loc[:, 'najljubsi'].mean(), 0))\n",
    "    display(animeji_in_viri[vir][['naslov', 'najljubsi']].sort_values('najljubsi', ascending=False).head(1))"
   ]
  },
  {
   "cell_type": "markdown",
   "metadata": {},
   "source": [
    "Kaj je z našimi dobri in najboljši animeji?"
   ]
  },
  {
   "cell_type": "code",
   "execution_count": 25,
   "metadata": {},
   "outputs": [
    {
     "data": {
      "text/plain": [
       "<AxesSubplot:xlabel='vir'>"
      ]
     },
     "execution_count": 25,
     "metadata": {},
     "output_type": "execute_result"
    },
    {
     "data": {
      "image/png": "[encoded data removed]",
      "text/plain": [
       "<Figure size 432x288 with 1 Axes>"
      ]
     },
     "metadata": {
      "needs_background": "light"
     },
     "output_type": "display_data"
    }
   ],
   "source": [
    "novi_dobri_animeji.groupby('vir').size().plot.bar()"
   ]
  },
  {
   "cell_type": "code",
   "execution_count": 26,
   "metadata": {},
   "outputs": [
    {
     "data": {
      "text/plain": [
       "<AxesSubplot:xlabel='vir'>"
      ]
     },
     "execution_count": 26,
     "metadata": {},
     "output_type": "execute_result"
    },
    {
     "data": {
      "image/png": "[encoded data removed]",
      "text/plain": [
       "<Figure size 432x288 with 1 Axes>"
      ]
     },
     "metadata": {
      "needs_background": "light"
     },
     "output_type": "display_data"
    }
   ],
   "source": [
    "najboljsi_animeji.groupby('vir').size().plot.bar()"
   ]
  },
  {
   "cell_type": "markdown",
   "metadata": {},
   "source": [
    "Kaj smo opazili?\n",
    "1. Največ animejev je izdelano iz mang\n",
    "2. Ljudje so pogosto zelo kreativni, potem pa je *Original* drugi najbolj popularen vir\n",
    "3. Tri od pet najboljših animejev je izdelano iz mange, druga dva pa iz vira *Visual Novel*\n",
    "4. Vir z največjo povprečno oceno je *Light Novel* (3.44), kjer je najboljši anime *Violer Evergarden* (8.63); naslednji pa je *Manga* (2.31), kjer je najboljši anime *Fullmetal Alchemist: Brotherhood* (9.56)\n",
    "5. Vir z največ gledalcev je *Light Novel* (več kot 290 tisoč), kjer je najbolj popularen anime *Sword Art Online* (več kot 2 miliona členov); naslednj pa je vir *Web Manga* (več kot 160 tisoč), kjer je najbolj popularen anime *One Punch Man* (več kot 1.9 milionov členov)\n",
    "6. \"Najljubši vir\" je *Light Novel* (3,976), kjer je \"najljubši anime\" *Sword Art Online* (172,608); naslednji \"najljubši vir\" je *Visual Novel* (2,929), kjer je \"najljubši anime\" *Steins;Gate* (143,451)\n",
    "7. Največje število dobrih animejev je izdelano iz mange in najmanjše iz igrice\n",
    "8. Največje število najboljših animejev je izdelano iz mange in najmanjše iz romana\n",
    "***"
   ]
  },
  {
   "cell_type": "markdown",
   "metadata": {},
   "source": [
    "## Čas"
   ]
  },
  {
   "cell_type": "markdown",
   "metadata": {},
   "source": [
    "Želimo pogledati, kako sta odvisni ocena in popularnost animeja od leta izida in končanja, sezone, števila epizod in dolžine animeja. Poglejmo si najprej, koliko je animeja po letu izida. Ker so nekateri animeji zelo stari, najprej poglejmo animeje iz prejšnjega stoletja."
   ]
  },
  {
   "cell_type": "markdown",
   "metadata": {},
   "source": [
    "### Začetek izida"
   ]
  },
  {
   "cell_type": "code",
   "execution_count": 27,
   "metadata": {},
   "outputs": [
    {
     "data": {
      "text/plain": [
       "<AxesSubplot:xlabel='zacetek'>"
      ]
     },
     "execution_count": 27,
     "metadata": {},
     "output_type": "execute_result"
    },
    {
     "data": {
      "image/png": "[encoded data removed]",
      "text/plain": [
       "<Figure size 432x288 with 1 Axes>"
      ]
     },
     "metadata": {
      "needs_background": "light"
     },
     "output_type": "display_data"
    }
   ],
   "source": [
    "animeji.groupby('zacetek').size().plot()"
   ]
  },
  {
   "cell_type": "markdown",
   "metadata": {},
   "source": [
    "Vidimo, da je največ animejev izišlo okoli leta 2016. Poglejmo, kolikor je animejev izišlo po stoletjih."
   ]
  },
  {
   "cell_type": "code",
   "execution_count": 28,
   "metadata": {},
   "outputs": [
    {
     "data": {
      "text/html": [
       "<div>\n",
       "<style scoped>\n",
       "    .dataframe tbody tr th:only-of-type {\n",
       "        vertical-align: middle;\n",
       "    }\n",
       "\n",
       "    .dataframe tbody tr th {\n",
       "        vertical-align: top;\n",
       "    }\n",
       "\n",
       "    .dataframe thead th {\n",
       "        text-align: right;\n",
       "    }\n",
       "</style>\n",
       "<table border=\"1\" class=\"dataframe\">\n",
       "  <thead>\n",
       "    <tr style=\"text-align: right;\">\n",
       "      <th></th>\n",
       "      <th>id</th>\n",
       "      <th>naslov</th>\n",
       "      <th>sezona</th>\n",
       "      <th>zacetek</th>\n",
       "      <th>konec</th>\n",
       "      <th>vir</th>\n",
       "      <th>epizode</th>\n",
       "      <th>dolzina</th>\n",
       "      <th>stevilo_clenov</th>\n",
       "      <th>najljubsi</th>\n",
       "      <th>ocena</th>\n",
       "      <th>opis</th>\n",
       "      <th>oznaka</th>\n",
       "      <th>nova ocena</th>\n",
       "    </tr>\n",
       "  </thead>\n",
       "  <tbody>\n",
       "    <tr>\n",
       "      <th>30</th>\n",
       "      <td>1</td>\n",
       "      <td>Cowboy Bebop</td>\n",
       "      <td>Spring 1998</td>\n",
       "      <td>1998.0</td>\n",
       "      <td>1999.0</td>\n",
       "      <td>Original</td>\n",
       "      <td>26.0</td>\n",
       "      <td>24.0</td>\n",
       "      <td>1176190</td>\n",
       "      <td>59162</td>\n",
       "      <td>8.79</td>\n",
       "      <td>In the year 2071, humanity has colonized sever...</td>\n",
       "      <td>R</td>\n",
       "      <td>8.97</td>\n",
       "    </tr>\n",
       "    <tr>\n",
       "      <th>43</th>\n",
       "      <td>30</td>\n",
       "      <td>Neon Genesis Evangelion</td>\n",
       "      <td>Fall 1995</td>\n",
       "      <td>1995.0</td>\n",
       "      <td>1996.0</td>\n",
       "      <td>Original</td>\n",
       "      <td>26.0</td>\n",
       "      <td>24.0</td>\n",
       "      <td>1079668</td>\n",
       "      <td>66826</td>\n",
       "      <td>8.31</td>\n",
       "      <td>In the year 2015, the world stands on the brin...</td>\n",
       "      <td>PG-13</td>\n",
       "      <td>8.50</td>\n",
       "    </tr>\n",
       "    <tr>\n",
       "      <th>71</th>\n",
       "      <td>813</td>\n",
       "      <td>Dragon Ball Z</td>\n",
       "      <td>Spring 1989</td>\n",
       "      <td>1989.0</td>\n",
       "      <td>1996.0</td>\n",
       "      <td>Manga</td>\n",
       "      <td>291.0</td>\n",
       "      <td>24.0</td>\n",
       "      <td>841343</td>\n",
       "      <td>30659</td>\n",
       "      <td>8.17</td>\n",
       "      <td>Five years after winning the World Martial Art...</td>\n",
       "      <td>PG-13</td>\n",
       "      <td>8.16</td>\n",
       "    </tr>\n",
       "    <tr>\n",
       "      <th>103</th>\n",
       "      <td>223</td>\n",
       "      <td>Dragon Ball</td>\n",
       "      <td>Winter 1986</td>\n",
       "      <td>1986.0</td>\n",
       "      <td>1989.0</td>\n",
       "      <td>Manga</td>\n",
       "      <td>153.0</td>\n",
       "      <td>24.0</td>\n",
       "      <td>695117</td>\n",
       "      <td>12790</td>\n",
       "      <td>8.01</td>\n",
       "      <td>Gokuu Son is a young boy who lives in the wood...</td>\n",
       "      <td>PG-13</td>\n",
       "      <td>7.56</td>\n",
       "    </tr>\n",
       "    <tr>\n",
       "      <th>149</th>\n",
       "      <td>245</td>\n",
       "      <td>Great Teacher Onizuka</td>\n",
       "      <td>Summer 1999</td>\n",
       "      <td>1999.0</td>\n",
       "      <td>2000.0</td>\n",
       "      <td>Manga</td>\n",
       "      <td>43.0</td>\n",
       "      <td>25.0</td>\n",
       "      <td>560177</td>\n",
       "      <td>20117</td>\n",
       "      <td>8.70</td>\n",
       "      <td>Twenty-two-year-old Eikichi Onizuka—ex-biker g...</td>\n",
       "      <td>R</td>\n",
       "      <td>8.47</td>\n",
       "    </tr>\n",
       "    <tr>\n",
       "      <th>...</th>\n",
       "      <td>...</td>\n",
       "      <td>...</td>\n",
       "      <td>...</td>\n",
       "      <td>...</td>\n",
       "      <td>...</td>\n",
       "      <td>...</td>\n",
       "      <td>...</td>\n",
       "      <td>...</td>\n",
       "      <td>...</td>\n",
       "      <td>...</td>\n",
       "      <td>...</td>\n",
       "      <td>...</td>\n",
       "      <td>...</td>\n",
       "      <td>...</td>\n",
       "    </tr>\n",
       "    <tr>\n",
       "      <th>4166</th>\n",
       "      <td>39450</td>\n",
       "      <td>Zen-chan Two-chan</td>\n",
       "      <td>Fall 1969</td>\n",
       "      <td>1969.0</td>\n",
       "      <td>1970.0</td>\n",
       "      <td>Original</td>\n",
       "      <td>78.0</td>\n",
       "      <td>2.0</td>\n",
       "      <td>91</td>\n",
       "      <td>0</td>\n",
       "      <td>NaN</td>\n",
       "      <td>A daily educational TV anime broadcasted on NT...</td>\n",
       "      <td>G</td>\n",
       "      <td>NaN</td>\n",
       "    </tr>\n",
       "    <tr>\n",
       "      <th>4179</th>\n",
       "      <td>37686</td>\n",
       "      <td>Pugpug</td>\n",
       "      <td>Spring 1998</td>\n",
       "      <td>1998.0</td>\n",
       "      <td>1998.0</td>\n",
       "      <td>Original</td>\n",
       "      <td>4.0</td>\n",
       "      <td>5.0</td>\n",
       "      <td>80</td>\n",
       "      <td>0</td>\n",
       "      <td>NaN</td>\n",
       "      <td>NaN</td>\n",
       "      <td>G</td>\n",
       "      <td>NaN</td>\n",
       "    </tr>\n",
       "    <tr>\n",
       "      <th>4184</th>\n",
       "      <td>38094</td>\n",
       "      <td>Kkaemo-ui Moheom</td>\n",
       "      <td>NaN</td>\n",
       "      <td>1998.0</td>\n",
       "      <td>1998.0</td>\n",
       "      <td>Original</td>\n",
       "      <td>84.0</td>\n",
       "      <td>4.0</td>\n",
       "      <td>75</td>\n",
       "      <td>0</td>\n",
       "      <td>NaN</td>\n",
       "      <td>An &amp;quot;edutainment&amp;quot; Korean children&amp;#03...</td>\n",
       "      <td>G</td>\n",
       "      <td>NaN</td>\n",
       "    </tr>\n",
       "    <tr>\n",
       "      <th>4198</th>\n",
       "      <td>39634</td>\n",
       "      <td>Boy General</td>\n",
       "      <td>NaN</td>\n",
       "      <td>1982.0</td>\n",
       "      <td>1997.0</td>\n",
       "      <td>Unknown</td>\n",
       "      <td>50.0</td>\n",
       "      <td>20.0</td>\n",
       "      <td>65</td>\n",
       "      <td>0</td>\n",
       "      <td>NaN</td>\n",
       "      <td>NaN</td>\n",
       "      <td>G</td>\n",
       "      <td>NaN</td>\n",
       "    </tr>\n",
       "    <tr>\n",
       "      <th>4238</th>\n",
       "      <td>41494</td>\n",
       "      <td>Feng Shen Bang Chuanqi</td>\n",
       "      <td>NaN</td>\n",
       "      <td>1999.0</td>\n",
       "      <td>2000.0</td>\n",
       "      <td>Novel</td>\n",
       "      <td>100.0</td>\n",
       "      <td>11.0</td>\n",
       "      <td>42</td>\n",
       "      <td>0</td>\n",
       "      <td>NaN</td>\n",
       "      <td>NaN</td>\n",
       "      <td>-</td>\n",
       "      <td>NaN</td>\n",
       "    </tr>\n",
       "  </tbody>\n",
       "</table>\n",
       "<p>1108 rows × 14 columns</p>\n",
       "</div>"
      ],
      "text/plain": [
       "         id                   naslov       sezona  zacetek   konec       vir  \\\n",
       "30        1             Cowboy Bebop  Spring 1998   1998.0  1999.0  Original   \n",
       "43       30  Neon Genesis Evangelion    Fall 1995   1995.0  1996.0  Original   \n",
       "71      813            Dragon Ball Z  Spring 1989   1989.0  1996.0     Manga   \n",
       "103     223              Dragon Ball  Winter 1986   1986.0  1989.0     Manga   \n",
       "149     245    Great Teacher Onizuka  Summer 1999   1999.0  2000.0     Manga   \n",
       "...     ...                      ...          ...      ...     ...       ...   \n",
       "4166  39450        Zen-chan Two-chan    Fall 1969   1969.0  1970.0  Original   \n",
       "4179  37686                   Pugpug  Spring 1998   1998.0  1998.0  Original   \n",
       "4184  38094         Kkaemo-ui Moheom          NaN   1998.0  1998.0  Original   \n",
       "4198  39634              Boy General          NaN   1982.0  1997.0   Unknown   \n",
       "4238  41494   Feng Shen Bang Chuanqi          NaN   1999.0  2000.0     Novel   \n",
       "\n",
       "      epizode  dolzina  stevilo_clenov  najljubsi  ocena  \\\n",
       "30       26.0     24.0         1176190      59162   8.79   \n",
       "43       26.0     24.0         1079668      66826   8.31   \n",
       "71      291.0     24.0          841343      30659   8.17   \n",
       "103     153.0     24.0          695117      12790   8.01   \n",
       "149      43.0     25.0          560177      20117   8.70   \n",
       "...       ...      ...             ...        ...    ...   \n",
       "4166     78.0      2.0              91          0    NaN   \n",
       "4179      4.0      5.0              80          0    NaN   \n",
       "4184     84.0      4.0              75          0    NaN   \n",
       "4198     50.0     20.0              65          0    NaN   \n",
       "4238    100.0     11.0              42          0    NaN   \n",
       "\n",
       "                                                   opis oznaka  nova ocena  \n",
       "30    In the year 2071, humanity has colonized sever...      R        8.97  \n",
       "43    In the year 2015, the world stands on the brin...  PG-13        8.50  \n",
       "71    Five years after winning the World Martial Art...  PG-13        8.16  \n",
       "103   Gokuu Son is a young boy who lives in the wood...  PG-13        7.56  \n",
       "149   Twenty-two-year-old Eikichi Onizuka—ex-biker g...      R        8.47  \n",
       "...                                                 ...    ...         ...  \n",
       "4166  A daily educational TV anime broadcasted on NT...      G         NaN  \n",
       "4179                                                NaN      G         NaN  \n",
       "4184  An &quot;edutainment&quot; Korean children&#03...      G         NaN  \n",
       "4198                                                NaN      G         NaN  \n",
       "4238                                                NaN      -         NaN  \n",
       "\n",
       "[1108 rows x 14 columns]"
      ]
     },
     "execution_count": 28,
     "metadata": {},
     "output_type": "execute_result"
    }
   ],
   "source": [
    "stari_animeji = animeji[animeji['zacetek'] <= 2000]\n",
    "stari_animeji"
   ]
  },
  {
   "cell_type": "code",
   "execution_count": 29,
   "metadata": {},
   "outputs": [
    {
     "data": {
      "text/plain": [
       "zacetek\n",
       "1961.0     1\n",
       "1962.0     1\n",
       "1963.0     5\n",
       "1964.0     3\n",
       "1965.0    13\n",
       "1966.0    11\n",
       "1967.0    14\n",
       "1968.0    14\n",
       "1969.0    16\n",
       "1970.0    16\n",
       "1971.0    16\n",
       "1972.0    16\n",
       "1973.0    17\n",
       "1974.0    22\n",
       "1975.0    21\n",
       "1976.0    26\n",
       "1977.0    30\n",
       "1978.0    22\n",
       "1979.0    26\n",
       "1980.0    29\n",
       "1981.0    28\n",
       "1982.0    31\n",
       "1983.0    37\n",
       "1984.0    37\n",
       "1985.0    20\n",
       "1986.0    28\n",
       "1987.0    29\n",
       "1988.0    36\n",
       "1989.0    38\n",
       "1990.0    27\n",
       "1991.0    37\n",
       "1992.0    43\n",
       "1993.0    22\n",
       "1994.0    38\n",
       "1995.0    37\n",
       "1996.0    38\n",
       "1997.0    50\n",
       "1998.0    76\n",
       "1999.0    84\n",
       "2000.0    53\n",
       "dtype: int64"
      ]
     },
     "execution_count": 29,
     "metadata": {},
     "output_type": "execute_result"
    }
   ],
   "source": [
    "stari_animeji.groupby('zacetek').size()"
   ]
  },
  {
   "cell_type": "markdown",
   "metadata": {},
   "source": [
    "Poglejmo, kolikor je največ  animeja izišlo v enem letu v 20. stoletju."
   ]
  },
  {
   "cell_type": "code",
   "execution_count": 30,
   "metadata": {},
   "outputs": [
    {
     "data": {
      "text/plain": [
       "84"
      ]
     },
     "execution_count": 30,
     "metadata": {},
     "output_type": "execute_result"
    }
   ],
   "source": [
    "stari_animeji.groupby('zacetek').size().max()"
   ]
  },
  {
   "cell_type": "code",
   "execution_count": 31,
   "metadata": {},
   "outputs": [
    {
     "data": {
      "text/html": [
       "<div>\n",
       "<style scoped>\n",
       "    .dataframe tbody tr th:only-of-type {\n",
       "        vertical-align: middle;\n",
       "    }\n",
       "\n",
       "    .dataframe tbody tr th {\n",
       "        vertical-align: top;\n",
       "    }\n",
       "\n",
       "    .dataframe thead th {\n",
       "        text-align: right;\n",
       "    }\n",
       "</style>\n",
       "<table border=\"1\" class=\"dataframe\">\n",
       "  <thead>\n",
       "    <tr style=\"text-align: right;\">\n",
       "      <th></th>\n",
       "      <th>id</th>\n",
       "      <th>naslov</th>\n",
       "      <th>sezona</th>\n",
       "      <th>zacetek</th>\n",
       "      <th>konec</th>\n",
       "      <th>vir</th>\n",
       "      <th>epizode</th>\n",
       "      <th>dolzina</th>\n",
       "      <th>stevilo_clenov</th>\n",
       "      <th>najljubsi</th>\n",
       "      <th>ocena</th>\n",
       "      <th>opis</th>\n",
       "      <th>oznaka</th>\n",
       "      <th>nova ocena</th>\n",
       "    </tr>\n",
       "  </thead>\n",
       "  <tbody>\n",
       "    <tr>\n",
       "      <th>0</th>\n",
       "      <td>1535</td>\n",
       "      <td>Death Note</td>\n",
       "      <td>Fall 2006</td>\n",
       "      <td>2006.0</td>\n",
       "      <td>2007.0</td>\n",
       "      <td>Manga</td>\n",
       "      <td>37.0</td>\n",
       "      <td>23.0</td>\n",
       "      <td>2410185</td>\n",
       "      <td>136425</td>\n",
       "      <td>8.63</td>\n",
       "      <td>A shinigami, as a god of death, can kill any p...</td>\n",
       "      <td>R</td>\n",
       "      <td>8.95</td>\n",
       "    </tr>\n",
       "    <tr>\n",
       "      <th>1</th>\n",
       "      <td>16498</td>\n",
       "      <td>Shingeki no Kyojin</td>\n",
       "      <td>Spring 2013</td>\n",
       "      <td>2013.0</td>\n",
       "      <td>2013.0</td>\n",
       "      <td>Manga</td>\n",
       "      <td>25.0</td>\n",
       "      <td>24.0</td>\n",
       "      <td>2316411</td>\n",
       "      <td>113878</td>\n",
       "      <td>8.46</td>\n",
       "      <td>Centuries ago, mankind was slaughtered to near...</td>\n",
       "      <td>R</td>\n",
       "      <td>8.75</td>\n",
       "    </tr>\n",
       "    <tr>\n",
       "      <th>2</th>\n",
       "      <td>5114</td>\n",
       "      <td>Fullmetal Alchemist: Brotherhood</td>\n",
       "      <td>Spring 2009</td>\n",
       "      <td>2009.0</td>\n",
       "      <td>2010.0</td>\n",
       "      <td>Manga</td>\n",
       "      <td>64.0</td>\n",
       "      <td>24.0</td>\n",
       "      <td>2090273</td>\n",
       "      <td>172608</td>\n",
       "      <td>9.21</td>\n",
       "      <td>&amp;quot;In order for something to be obtained, s...</td>\n",
       "      <td>R</td>\n",
       "      <td>9.56</td>\n",
       "    </tr>\n",
       "    <tr>\n",
       "      <th>3</th>\n",
       "      <td>11757</td>\n",
       "      <td>Sword Art Online</td>\n",
       "      <td>Summer 2012</td>\n",
       "      <td>2012.0</td>\n",
       "      <td>2012.0</td>\n",
       "      <td>Light novel</td>\n",
       "      <td>25.0</td>\n",
       "      <td>23.0</td>\n",
       "      <td>2088233</td>\n",
       "      <td>64536</td>\n",
       "      <td>7.28</td>\n",
       "      <td>In the year 2022, virtual reality has progress...</td>\n",
       "      <td>PG-13</td>\n",
       "      <td>7.47</td>\n",
       "    </tr>\n",
       "    <tr>\n",
       "      <th>4</th>\n",
       "      <td>30276</td>\n",
       "      <td>One Punch Man</td>\n",
       "      <td>Fall 2015</td>\n",
       "      <td>2015.0</td>\n",
       "      <td>2015.0</td>\n",
       "      <td>Web manga</td>\n",
       "      <td>12.0</td>\n",
       "      <td>24.0</td>\n",
       "      <td>1979366</td>\n",
       "      <td>52089</td>\n",
       "      <td>8.59</td>\n",
       "      <td>The seemingly ordinary and unimpressive Saitam...</td>\n",
       "      <td>R</td>\n",
       "      <td>8.77</td>\n",
       "    </tr>\n",
       "    <tr>\n",
       "      <th>...</th>\n",
       "      <td>...</td>\n",
       "      <td>...</td>\n",
       "      <td>...</td>\n",
       "      <td>...</td>\n",
       "      <td>...</td>\n",
       "      <td>...</td>\n",
       "      <td>...</td>\n",
       "      <td>...</td>\n",
       "      <td>...</td>\n",
       "      <td>...</td>\n",
       "      <td>...</td>\n",
       "      <td>...</td>\n",
       "      <td>...</td>\n",
       "      <td>...</td>\n",
       "    </tr>\n",
       "    <tr>\n",
       "      <th>4242</th>\n",
       "      <td>42263</td>\n",
       "      <td>Konglong Baobei Zhi Longshen Yongshi 2</td>\n",
       "      <td>NaN</td>\n",
       "      <td>2011.0</td>\n",
       "      <td>NaN</td>\n",
       "      <td>Original</td>\n",
       "      <td>52.0</td>\n",
       "      <td>15.0</td>\n",
       "      <td>37</td>\n",
       "      <td>0</td>\n",
       "      <td>NaN</td>\n",
       "      <td>NaN</td>\n",
       "      <td>PG</td>\n",
       "      <td>NaN</td>\n",
       "    </tr>\n",
       "    <tr>\n",
       "      <th>4243</th>\n",
       "      <td>42765</td>\n",
       "      <td>Ji Jia Shou Shen</td>\n",
       "      <td>NaN</td>\n",
       "      <td>2010.0</td>\n",
       "      <td>2010.0</td>\n",
       "      <td>Original</td>\n",
       "      <td>26.0</td>\n",
       "      <td>23.0</td>\n",
       "      <td>32</td>\n",
       "      <td>0</td>\n",
       "      <td>NaN</td>\n",
       "      <td>NaN</td>\n",
       "      <td>PG</td>\n",
       "      <td>NaN</td>\n",
       "    </tr>\n",
       "    <tr>\n",
       "      <th>4244</th>\n",
       "      <td>42766</td>\n",
       "      <td>Ji Jia Shou Shen 2nd Season</td>\n",
       "      <td>NaN</td>\n",
       "      <td>2011.0</td>\n",
       "      <td>NaN</td>\n",
       "      <td>Original</td>\n",
       "      <td>26.0</td>\n",
       "      <td>23.0</td>\n",
       "      <td>29</td>\n",
       "      <td>0</td>\n",
       "      <td>NaN</td>\n",
       "      <td>NaN</td>\n",
       "      <td>PG</td>\n",
       "      <td>NaN</td>\n",
       "    </tr>\n",
       "    <tr>\n",
       "      <th>4245</th>\n",
       "      <td>42852</td>\n",
       "      <td>Little Village People</td>\n",
       "      <td>NaN</td>\n",
       "      <td>2008.0</td>\n",
       "      <td>2008.0</td>\n",
       "      <td>Original</td>\n",
       "      <td>15.0</td>\n",
       "      <td>6.0</td>\n",
       "      <td>22</td>\n",
       "      <td>0</td>\n",
       "      <td>NaN</td>\n",
       "      <td>Set in Penguin Village Hills, one of the most ...</td>\n",
       "      <td>PG-13</td>\n",
       "      <td>NaN</td>\n",
       "    </tr>\n",
       "    <tr>\n",
       "      <th>4246</th>\n",
       "      <td>45596</td>\n",
       "      <td>Kindan Joshi</td>\n",
       "      <td>Winter 2021</td>\n",
       "      <td>2020.0</td>\n",
       "      <td>2021.0</td>\n",
       "      <td>Original</td>\n",
       "      <td>5.0</td>\n",
       "      <td>5.0</td>\n",
       "      <td>9</td>\n",
       "      <td>0</td>\n",
       "      <td>NaN</td>\n",
       "      <td>NaN</td>\n",
       "      <td>PG-13</td>\n",
       "      <td>NaN</td>\n",
       "    </tr>\n",
       "  </tbody>\n",
       "</table>\n",
       "<p>3134 rows × 14 columns</p>\n",
       "</div>"
      ],
      "text/plain": [
       "         id                                  naslov       sezona  zacetek  \\\n",
       "0      1535                              Death Note    Fall 2006   2006.0   \n",
       "1     16498                      Shingeki no Kyojin  Spring 2013   2013.0   \n",
       "2      5114        Fullmetal Alchemist: Brotherhood  Spring 2009   2009.0   \n",
       "3     11757                        Sword Art Online  Summer 2012   2012.0   \n",
       "4     30276                           One Punch Man    Fall 2015   2015.0   \n",
       "...     ...                                     ...          ...      ...   \n",
       "4242  42263  Konglong Baobei Zhi Longshen Yongshi 2          NaN   2011.0   \n",
       "4243  42765                        Ji Jia Shou Shen          NaN   2010.0   \n",
       "4244  42766             Ji Jia Shou Shen 2nd Season          NaN   2011.0   \n",
       "4245  42852                   Little Village People          NaN   2008.0   \n",
       "4246  45596                            Kindan Joshi  Winter 2021   2020.0   \n",
       "\n",
       "       konec          vir  epizode  dolzina  stevilo_clenov  najljubsi  ocena  \\\n",
       "0     2007.0        Manga     37.0     23.0         2410185     136425   8.63   \n",
       "1     2013.0        Manga     25.0     24.0         2316411     113878   8.46   \n",
       "2     2010.0        Manga     64.0     24.0         2090273     172608   9.21   \n",
       "3     2012.0  Light novel     25.0     23.0         2088233      64536   7.28   \n",
       "4     2015.0    Web manga     12.0     24.0         1979366      52089   8.59   \n",
       "...      ...          ...      ...      ...             ...        ...    ...   \n",
       "4242     NaN     Original     52.0     15.0              37          0    NaN   \n",
       "4243  2010.0     Original     26.0     23.0              32          0    NaN   \n",
       "4244     NaN     Original     26.0     23.0              29          0    NaN   \n",
       "4245  2008.0     Original     15.0      6.0              22          0    NaN   \n",
       "4246  2021.0     Original      5.0      5.0               9          0    NaN   \n",
       "\n",
       "                                                   opis oznaka  nova ocena  \n",
       "0     A shinigami, as a god of death, can kill any p...      R        8.95  \n",
       "1     Centuries ago, mankind was slaughtered to near...      R        8.75  \n",
       "2     &quot;In order for something to be obtained, s...      R        9.56  \n",
       "3     In the year 2022, virtual reality has progress...  PG-13        7.47  \n",
       "4     The seemingly ordinary and unimpressive Saitam...      R        8.77  \n",
       "...                                                 ...    ...         ...  \n",
       "4242                                                NaN     PG         NaN  \n",
       "4243                                                NaN     PG         NaN  \n",
       "4244                                                NaN     PG         NaN  \n",
       "4245  Set in Penguin Village Hills, one of the most ...  PG-13         NaN  \n",
       "4246                                                NaN  PG-13         NaN  \n",
       "\n",
       "[3134 rows x 14 columns]"
      ]
     },
     "execution_count": 31,
     "metadata": {},
     "output_type": "execute_result"
    }
   ],
   "source": [
    "novi_animeji = animeji[animeji['zacetek'] > 2000]\n",
    "novi_animeji"
   ]
  },
  {
   "cell_type": "code",
   "execution_count": 32,
   "metadata": {},
   "outputs": [
    {
     "data": {
      "text/plain": [
       "zacetek\n",
       "2001.0     88\n",
       "2002.0     83\n",
       "2003.0     97\n",
       "2004.0    111\n",
       "2005.0    120\n",
       "2006.0    169\n",
       "2007.0    160\n",
       "2008.0    143\n",
       "2009.0    138\n",
       "2010.0    110\n",
       "2011.0    141\n",
       "2012.0    160\n",
       "2013.0    179\n",
       "2014.0    208\n",
       "2015.0    208\n",
       "2016.0    248\n",
       "2017.0    231\n",
       "2018.0    233\n",
       "2019.0    182\n",
       "2020.0    125\n",
       "dtype: int64"
      ]
     },
     "execution_count": 32,
     "metadata": {},
     "output_type": "execute_result"
    }
   ],
   "source": [
    "novi_animeji.groupby('zacetek').size()"
   ]
  },
  {
   "cell_type": "code",
   "execution_count": 33,
   "metadata": {},
   "outputs": [
    {
     "data": {
      "text/plain": [
       "248"
      ]
     },
     "execution_count": 33,
     "metadata": {},
     "output_type": "execute_result"
    }
   ],
   "source": [
    "novi_animeji.groupby('zacetek').size().max()"
   ]
  },
  {
   "cell_type": "markdown",
   "metadata": {},
   "source": [
    "Ker je takšen pregled zelo nepregleden, bomo združili animeje iz istega desetletja."
   ]
  },
  {
   "cell_type": "code",
   "execution_count": 34,
   "metadata": {},
   "outputs": [],
   "source": [
    "def najdi_desetletje(leto):\n",
    "    return (leto // 10) * 10"
   ]
  },
  {
   "cell_type": "code",
   "execution_count": 35,
   "metadata": {},
   "outputs": [
    {
     "data": {
      "text/html": [
       "<div>\n",
       "<style scoped>\n",
       "    .dataframe tbody tr th:only-of-type {\n",
       "        vertical-align: middle;\n",
       "    }\n",
       "\n",
       "    .dataframe tbody tr th {\n",
       "        vertical-align: top;\n",
       "    }\n",
       "\n",
       "    .dataframe thead th {\n",
       "        text-align: right;\n",
       "    }\n",
       "</style>\n",
       "<table border=\"1\" class=\"dataframe\">\n",
       "  <thead>\n",
       "    <tr style=\"text-align: right;\">\n",
       "      <th></th>\n",
       "      <th>id</th>\n",
       "      <th>naslov</th>\n",
       "      <th>sezona</th>\n",
       "      <th>zacetek</th>\n",
       "      <th>konec</th>\n",
       "      <th>vir</th>\n",
       "      <th>epizode</th>\n",
       "      <th>dolzina</th>\n",
       "      <th>stevilo_clenov</th>\n",
       "      <th>najljubsi</th>\n",
       "      <th>ocena</th>\n",
       "      <th>opis</th>\n",
       "      <th>oznaka</th>\n",
       "      <th>nova ocena</th>\n",
       "      <th>desetletje začetka</th>\n",
       "    </tr>\n",
       "  </thead>\n",
       "  <tbody>\n",
       "    <tr>\n",
       "      <th>0</th>\n",
       "      <td>1535</td>\n",
       "      <td>Death Note</td>\n",
       "      <td>Fall 2006</td>\n",
       "      <td>2006.0</td>\n",
       "      <td>2007.0</td>\n",
       "      <td>Manga</td>\n",
       "      <td>37.0</td>\n",
       "      <td>23.0</td>\n",
       "      <td>2410185</td>\n",
       "      <td>136425</td>\n",
       "      <td>8.63</td>\n",
       "      <td>A shinigami, as a god of death, can kill any p...</td>\n",
       "      <td>R</td>\n",
       "      <td>8.95</td>\n",
       "      <td>2000.0</td>\n",
       "    </tr>\n",
       "    <tr>\n",
       "      <th>1</th>\n",
       "      <td>16498</td>\n",
       "      <td>Shingeki no Kyojin</td>\n",
       "      <td>Spring 2013</td>\n",
       "      <td>2013.0</td>\n",
       "      <td>2013.0</td>\n",
       "      <td>Manga</td>\n",
       "      <td>25.0</td>\n",
       "      <td>24.0</td>\n",
       "      <td>2316411</td>\n",
       "      <td>113878</td>\n",
       "      <td>8.46</td>\n",
       "      <td>Centuries ago, mankind was slaughtered to near...</td>\n",
       "      <td>R</td>\n",
       "      <td>8.75</td>\n",
       "      <td>2010.0</td>\n",
       "    </tr>\n",
       "    <tr>\n",
       "      <th>2</th>\n",
       "      <td>5114</td>\n",
       "      <td>Fullmetal Alchemist: Brotherhood</td>\n",
       "      <td>Spring 2009</td>\n",
       "      <td>2009.0</td>\n",
       "      <td>2010.0</td>\n",
       "      <td>Manga</td>\n",
       "      <td>64.0</td>\n",
       "      <td>24.0</td>\n",
       "      <td>2090273</td>\n",
       "      <td>172608</td>\n",
       "      <td>9.21</td>\n",
       "      <td>&amp;quot;In order for something to be obtained, s...</td>\n",
       "      <td>R</td>\n",
       "      <td>9.56</td>\n",
       "      <td>2000.0</td>\n",
       "    </tr>\n",
       "    <tr>\n",
       "      <th>3</th>\n",
       "      <td>11757</td>\n",
       "      <td>Sword Art Online</td>\n",
       "      <td>Summer 2012</td>\n",
       "      <td>2012.0</td>\n",
       "      <td>2012.0</td>\n",
       "      <td>Light novel</td>\n",
       "      <td>25.0</td>\n",
       "      <td>23.0</td>\n",
       "      <td>2088233</td>\n",
       "      <td>64536</td>\n",
       "      <td>7.28</td>\n",
       "      <td>In the year 2022, virtual reality has progress...</td>\n",
       "      <td>PG-13</td>\n",
       "      <td>7.47</td>\n",
       "      <td>2010.0</td>\n",
       "    </tr>\n",
       "    <tr>\n",
       "      <th>4</th>\n",
       "      <td>30276</td>\n",
       "      <td>One Punch Man</td>\n",
       "      <td>Fall 2015</td>\n",
       "      <td>2015.0</td>\n",
       "      <td>2015.0</td>\n",
       "      <td>Web manga</td>\n",
       "      <td>12.0</td>\n",
       "      <td>24.0</td>\n",
       "      <td>1979366</td>\n",
       "      <td>52089</td>\n",
       "      <td>8.59</td>\n",
       "      <td>The seemingly ordinary and unimpressive Saitam...</td>\n",
       "      <td>R</td>\n",
       "      <td>8.77</td>\n",
       "      <td>2010.0</td>\n",
       "    </tr>\n",
       "    <tr>\n",
       "      <th>...</th>\n",
       "      <td>...</td>\n",
       "      <td>...</td>\n",
       "      <td>...</td>\n",
       "      <td>...</td>\n",
       "      <td>...</td>\n",
       "      <td>...</td>\n",
       "      <td>...</td>\n",
       "      <td>...</td>\n",
       "      <td>...</td>\n",
       "      <td>...</td>\n",
       "      <td>...</td>\n",
       "      <td>...</td>\n",
       "      <td>...</td>\n",
       "      <td>...</td>\n",
       "      <td>...</td>\n",
       "    </tr>\n",
       "    <tr>\n",
       "      <th>4242</th>\n",
       "      <td>42263</td>\n",
       "      <td>Konglong Baobei Zhi Longshen Yongshi 2</td>\n",
       "      <td>NaN</td>\n",
       "      <td>2011.0</td>\n",
       "      <td>NaN</td>\n",
       "      <td>Original</td>\n",
       "      <td>52.0</td>\n",
       "      <td>15.0</td>\n",
       "      <td>37</td>\n",
       "      <td>0</td>\n",
       "      <td>NaN</td>\n",
       "      <td>NaN</td>\n",
       "      <td>PG</td>\n",
       "      <td>NaN</td>\n",
       "      <td>2010.0</td>\n",
       "    </tr>\n",
       "    <tr>\n",
       "      <th>4243</th>\n",
       "      <td>42765</td>\n",
       "      <td>Ji Jia Shou Shen</td>\n",
       "      <td>NaN</td>\n",
       "      <td>2010.0</td>\n",
       "      <td>2010.0</td>\n",
       "      <td>Original</td>\n",
       "      <td>26.0</td>\n",
       "      <td>23.0</td>\n",
       "      <td>32</td>\n",
       "      <td>0</td>\n",
       "      <td>NaN</td>\n",
       "      <td>NaN</td>\n",
       "      <td>PG</td>\n",
       "      <td>NaN</td>\n",
       "      <td>2010.0</td>\n",
       "    </tr>\n",
       "    <tr>\n",
       "      <th>4244</th>\n",
       "      <td>42766</td>\n",
       "      <td>Ji Jia Shou Shen 2nd Season</td>\n",
       "      <td>NaN</td>\n",
       "      <td>2011.0</td>\n",
       "      <td>NaN</td>\n",
       "      <td>Original</td>\n",
       "      <td>26.0</td>\n",
       "      <td>23.0</td>\n",
       "      <td>29</td>\n",
       "      <td>0</td>\n",
       "      <td>NaN</td>\n",
       "      <td>NaN</td>\n",
       "      <td>PG</td>\n",
       "      <td>NaN</td>\n",
       "      <td>2010.0</td>\n",
       "    </tr>\n",
       "    <tr>\n",
       "      <th>4245</th>\n",
       "      <td>42852</td>\n",
       "      <td>Little Village People</td>\n",
       "      <td>NaN</td>\n",
       "      <td>2008.0</td>\n",
       "      <td>2008.0</td>\n",
       "      <td>Original</td>\n",
       "      <td>15.0</td>\n",
       "      <td>6.0</td>\n",
       "      <td>22</td>\n",
       "      <td>0</td>\n",
       "      <td>NaN</td>\n",
       "      <td>Set in Penguin Village Hills, one of the most ...</td>\n",
       "      <td>PG-13</td>\n",
       "      <td>NaN</td>\n",
       "      <td>2000.0</td>\n",
       "    </tr>\n",
       "    <tr>\n",
       "      <th>4246</th>\n",
       "      <td>45596</td>\n",
       "      <td>Kindan Joshi</td>\n",
       "      <td>Winter 2021</td>\n",
       "      <td>2020.0</td>\n",
       "      <td>2021.0</td>\n",
       "      <td>Original</td>\n",
       "      <td>5.0</td>\n",
       "      <td>5.0</td>\n",
       "      <td>9</td>\n",
       "      <td>0</td>\n",
       "      <td>NaN</td>\n",
       "      <td>NaN</td>\n",
       "      <td>PG-13</td>\n",
       "      <td>NaN</td>\n",
       "      <td>2020.0</td>\n",
       "    </tr>\n",
       "  </tbody>\n",
       "</table>\n",
       "<p>4247 rows × 15 columns</p>\n",
       "</div>"
      ],
      "text/plain": [
       "         id                                  naslov       sezona  zacetek  \\\n",
       "0      1535                              Death Note    Fall 2006   2006.0   \n",
       "1     16498                      Shingeki no Kyojin  Spring 2013   2013.0   \n",
       "2      5114        Fullmetal Alchemist: Brotherhood  Spring 2009   2009.0   \n",
       "3     11757                        Sword Art Online  Summer 2012   2012.0   \n",
       "4     30276                           One Punch Man    Fall 2015   2015.0   \n",
       "...     ...                                     ...          ...      ...   \n",
       "4242  42263  Konglong Baobei Zhi Longshen Yongshi 2          NaN   2011.0   \n",
       "4243  42765                        Ji Jia Shou Shen          NaN   2010.0   \n",
       "4244  42766             Ji Jia Shou Shen 2nd Season          NaN   2011.0   \n",
       "4245  42852                   Little Village People          NaN   2008.0   \n",
       "4246  45596                            Kindan Joshi  Winter 2021   2020.0   \n",
       "\n",
       "       konec          vir  epizode  dolzina  stevilo_clenov  najljubsi  ocena  \\\n",
       "0     2007.0        Manga     37.0     23.0         2410185     136425   8.63   \n",
       "1     2013.0        Manga     25.0     24.0         2316411     113878   8.46   \n",
       "2     2010.0        Manga     64.0     24.0         2090273     172608   9.21   \n",
       "3     2012.0  Light novel     25.0     23.0         2088233      64536   7.28   \n",
       "4     2015.0    Web manga     12.0     24.0         1979366      52089   8.59   \n",
       "...      ...          ...      ...      ...             ...        ...    ...   \n",
       "4242     NaN     Original     52.0     15.0              37          0    NaN   \n",
       "4243  2010.0     Original     26.0     23.0              32          0    NaN   \n",
       "4244     NaN     Original     26.0     23.0              29          0    NaN   \n",
       "4245  2008.0     Original     15.0      6.0              22          0    NaN   \n",
       "4246  2021.0     Original      5.0      5.0               9          0    NaN   \n",
       "\n",
       "                                                   opis oznaka  nova ocena  \\\n",
       "0     A shinigami, as a god of death, can kill any p...      R        8.95   \n",
       "1     Centuries ago, mankind was slaughtered to near...      R        8.75   \n",
       "2     &quot;In order for something to be obtained, s...      R        9.56   \n",
       "3     In the year 2022, virtual reality has progress...  PG-13        7.47   \n",
       "4     The seemingly ordinary and unimpressive Saitam...      R        8.77   \n",
       "...                                                 ...    ...         ...   \n",
       "4242                                                NaN     PG         NaN   \n",
       "4243                                                NaN     PG         NaN   \n",
       "4244                                                NaN     PG         NaN   \n",
       "4245  Set in Penguin Village Hills, one of the most ...  PG-13         NaN   \n",
       "4246                                                NaN  PG-13         NaN   \n",
       "\n",
       "      desetletje začetka  \n",
       "0                 2000.0  \n",
       "1                 2010.0  \n",
       "2                 2000.0  \n",
       "3                 2010.0  \n",
       "4                 2010.0  \n",
       "...                  ...  \n",
       "4242              2010.0  \n",
       "4243              2010.0  \n",
       "4244              2010.0  \n",
       "4245              2000.0  \n",
       "4246              2020.0  \n",
       "\n",
       "[4247 rows x 15 columns]"
      ]
     },
     "execution_count": 35,
     "metadata": {},
     "output_type": "execute_result"
    }
   ],
   "source": [
    "animeji['desetletje začetka'] = najdi_desetletje(animeji['zacetek'])\n",
    "animeji"
   ]
  },
  {
   "cell_type": "code",
   "execution_count": 36,
   "metadata": {},
   "outputs": [
    {
     "data": {
      "text/plain": [
       "<AxesSubplot:xlabel='desetletje začetka'>"
      ]
     },
     "execution_count": 36,
     "metadata": {},
     "output_type": "execute_result"
    },
    {
     "data": {
      "image/png": "[encoded data removed]",
      "text/plain": [
       "<Figure size 432x288 with 1 Axes>"
      ]
     },
     "metadata": {
      "needs_background": "light"
     },
     "output_type": "display_data"
    }
   ],
   "source": [
    "animeji.groupby('desetletje začetka').size().plot.bar()"
   ]
  },
  {
   "cell_type": "markdown",
   "metadata": {},
   "source": [
    "Na diagramu opazimo, da je najvišje animejev narejeno v 2010 desetletju, najmanj pa v 1960, manj kot v 2020. Torej, manjše je animejev narejeno v celem desetletju od leta 1960 do leta 1969, kot v letu 2020. Tisto pa ni zelo presenetljivo, ker govorimo o 1960-ima, ko ni obstajala tehnologija, katera obstaja danes in katera dovoli hitrejšo proizvodnjo animejev. Zato pričakujemo, da bo v naslednjem desetletju več animejev, kot v 2010-ima."
   ]
  },
  {
   "cell_type": "markdown",
   "metadata": {},
   "source": [
    "Lahko zdaj pogledamo, kdaj so izišli najbolj popularni animeji."
   ]
  },
  {
   "cell_type": "code",
   "execution_count": 37,
   "metadata": {},
   "outputs": [
    {
     "data": {
      "text/plain": [
       "<AxesSubplot:xlabel='zacetek'>"
      ]
     },
     "execution_count": 37,
     "metadata": {},
     "output_type": "execute_result"
    },
    {
     "data": {
      "image/png": "[encoded data removed]",
      "text/plain": [
       "<Figure size 432x288 with 1 Axes>"
      ]
     },
     "metadata": {
      "needs_background": "light"
     },
     "output_type": "display_data"
    }
   ],
   "source": [
    "popularni.groupby('zacetek').size().plot.bar()"
   ]
  },
  {
   "cell_type": "markdown",
   "metadata": {},
   "source": [
    "Vidimo, da je največ izmed 50 najbolj popularnih animejih izišlo v letu 2014, potem pa v letu 2011, najmanj pa v letih 1995, 1998, 2002, 2003, 2013, 2019. Kaj pa je z 10 najbolj popularnih animejih?"
   ]
  },
  {
   "cell_type": "code",
   "execution_count": 38,
   "metadata": {},
   "outputs": [
    {
     "data": {
      "text/plain": [
       "<AxesSubplot:xlabel='zacetek'>"
      ]
     },
     "execution_count": 38,
     "metadata": {},
     "output_type": "execute_result"
    },
    {
     "data": {
      "image/png": "[encoded data removed]",
      "text/plain": [
       "<Figure size 432x288 with 1 Axes>"
      ]
     },
     "metadata": {
      "needs_background": "light"
     },
     "output_type": "display_data"
    }
   ],
   "source": [
    "najbolj_popularni.groupby('zacetek').size().plot.bar()"
   ]
  },
  {
   "cell_type": "markdown",
   "metadata": {},
   "source": [
    "Torej, vsi izmed 10 najbolj popularnih animejev so iz 21. stoletja. Tisto ni presenetljivo, ker ljudje imajo radi lepo animacijo in uporabo tehnologije v proizvodnji animejev.<br>\n",
    "Vidimo, da vsako leto na grafu ima en najbolj popularen anime, razen enega. Poglejmo si, katera sta animeja izišla leta 2011."
   ]
  },
  {
   "cell_type": "code",
   "execution_count": 39,
   "metadata": {},
   "outputs": [
    {
     "data": {
      "text/html": [
       "<div>\n",
       "<style scoped>\n",
       "    .dataframe tbody tr th:only-of-type {\n",
       "        vertical-align: middle;\n",
       "    }\n",
       "\n",
       "    .dataframe tbody tr th {\n",
       "        vertical-align: top;\n",
       "    }\n",
       "\n",
       "    .dataframe thead th {\n",
       "        text-align: right;\n",
       "    }\n",
       "</style>\n",
       "<table border=\"1\" class=\"dataframe\">\n",
       "  <thead>\n",
       "    <tr style=\"text-align: right;\">\n",
       "      <th></th>\n",
       "      <th>id</th>\n",
       "      <th>naslov</th>\n",
       "      <th>sezona</th>\n",
       "      <th>zacetek</th>\n",
       "      <th>konec</th>\n",
       "      <th>vir</th>\n",
       "      <th>epizode</th>\n",
       "      <th>dolzina</th>\n",
       "      <th>stevilo_clenov</th>\n",
       "      <th>najljubsi</th>\n",
       "      <th>ocena</th>\n",
       "      <th>opis</th>\n",
       "      <th>oznaka</th>\n",
       "    </tr>\n",
       "  </thead>\n",
       "  <tbody>\n",
       "    <tr>\n",
       "      <th>8</th>\n",
       "      <td>9253</td>\n",
       "      <td>Steins;Gate</td>\n",
       "      <td>Spring 2011</td>\n",
       "      <td>2011.0</td>\n",
       "      <td>2011.0</td>\n",
       "      <td>Visual novel</td>\n",
       "      <td>24.0</td>\n",
       "      <td>24.0</td>\n",
       "      <td>1681837</td>\n",
       "      <td>143451</td>\n",
       "      <td>9.12</td>\n",
       "      <td>The self-proclaimed mad scientist Rintarou Oka...</td>\n",
       "      <td>PG-13</td>\n",
       "    </tr>\n",
       "    <tr>\n",
       "      <th>9</th>\n",
       "      <td>11061</td>\n",
       "      <td>Hunter x Hunter (2011)</td>\n",
       "      <td>Fall 2011</td>\n",
       "      <td>2011.0</td>\n",
       "      <td>2014.0</td>\n",
       "      <td>Manga</td>\n",
       "      <td>148.0</td>\n",
       "      <td>23.0</td>\n",
       "      <td>1529228</td>\n",
       "      <td>136870</td>\n",
       "      <td>9.11</td>\n",
       "      <td>Hunter x Hunter is set in a world where Hunter...</td>\n",
       "      <td>PG-13</td>\n",
       "    </tr>\n",
       "  </tbody>\n",
       "</table>\n",
       "</div>"
      ],
      "text/plain": [
       "      id                  naslov       sezona  zacetek   konec           vir  \\\n",
       "8   9253             Steins;Gate  Spring 2011   2011.0  2011.0  Visual novel   \n",
       "9  11061  Hunter x Hunter (2011)    Fall 2011   2011.0  2014.0         Manga   \n",
       "\n",
       "   epizode  dolzina  stevilo_clenov  najljubsi  ocena  \\\n",
       "8     24.0     24.0         1681837     143451   9.12   \n",
       "9    148.0     23.0         1529228     136870   9.11   \n",
       "\n",
       "                                                opis oznaka  \n",
       "8  The self-proclaimed mad scientist Rintarou Oka...  PG-13  \n",
       "9  Hunter x Hunter is set in a world where Hunter...  PG-13  "
      ]
     },
     "execution_count": 39,
     "metadata": {},
     "output_type": "execute_result"
    }
   ],
   "source": [
    "najbolj_popularni[najbolj_popularni['zacetek'] == 2011]"
   ]
  },
  {
   "cell_type": "markdown",
   "metadata": {},
   "source": [
    "Poglejmo si zdaj najbolj popularne animeje po letu."
   ]
  },
  {
   "cell_type": "code",
   "execution_count": 40,
   "metadata": {},
   "outputs": [
    {
     "data": {
      "text/plain": [
       "array([1961., 1962., 1963., 1964., 1965., 1966., 1967., 1968., 1969.,\n",
       "       1970., 1971., 1972., 1973., 1974., 1975., 1976., 1977., 1978.,\n",
       "       1979., 1980., 1981., 1982., 1983., 1984., 1985., 1986., 1987.,\n",
       "       1988., 1989., 1990., 1991., 1992., 1993., 1994., 1995., 1996.,\n",
       "       1997., 1998., 1999., 2000., 2001., 2002., 2003., 2004., 2005.,\n",
       "       2006., 2007., 2008., 2009., 2010., 2011., 2012., 2013., 2014.,\n",
       "       2015., 2016., 2017., 2018., 2019., 2020.,   nan])"
      ]
     },
     "execution_count": 40,
     "metadata": {},
     "output_type": "execute_result"
    }
   ],
   "source": [
    "leta = animeji.zacetek.unique()\n",
    "leta.sort()\n",
    "leta"
   ]
  },
  {
   "cell_type": "code",
   "execution_count": 41,
   "metadata": {},
   "outputs": [
    {
     "data": {
      "text/plain": [
       "array([1960., 1970., 1980., 1990., 2000., 2010., 2020.,   nan])"
      ]
     },
     "execution_count": 41,
     "metadata": {},
     "output_type": "execute_result"
    }
   ],
   "source": [
    "desetletja_zacetka = animeji['desetletje začetka'].unique()\n",
    "desetletja_zacetka.sort()\n",
    "desetletja_zacetka"
   ]
  },
  {
   "cell_type": "code",
   "execution_count": 42,
   "metadata": {},
   "outputs": [],
   "source": [
    "animeji_in_leta = {}\n",
    "\n",
    "for leto in leta:\n",
    "    animeji_in_leta[leto] = animeji[animeji.zacetek == leto]\n",
    "    \n",
    "animeji_dz = {}\n",
    "\n",
    "for desetletje in desetletja_zacetka:\n",
    "    animeji_dz[desetletje] = animeji[animeji['desetletje začetka'] == desetletje]"
   ]
  },
  {
   "cell_type": "code",
   "execution_count": 43,
   "metadata": {},
   "outputs": [
    {
     "data": {
      "text/plain": [
       "1961.0"
      ]
     },
     "metadata": {},
     "output_type": "display_data"
    },
    {
     "data": {
      "text/html": [
       "<div>\n",
       "<style scoped>\n",
       "    .dataframe tbody tr th:only-of-type {\n",
       "        vertical-align: middle;\n",
       "    }\n",
       "\n",
       "    .dataframe tbody tr th {\n",
       "        vertical-align: top;\n",
       "    }\n",
       "\n",
       "    .dataframe thead th {\n",
       "        text-align: right;\n",
       "    }\n",
       "</style>\n",
       "<table border=\"1\" class=\"dataframe\">\n",
       "  <thead>\n",
       "    <tr style=\"text-align: right;\">\n",
       "      <th></th>\n",
       "      <th>naslov</th>\n",
       "      <th>stevilo_clenov</th>\n",
       "      <th>nova ocena</th>\n",
       "    </tr>\n",
       "  </thead>\n",
       "  <tbody>\n",
       "    <tr>\n",
       "      <th>3406</th>\n",
       "      <td>Instant History</td>\n",
       "      <td>485</td>\n",
       "      <td>NaN</td>\n",
       "    </tr>\n",
       "  </tbody>\n",
       "</table>\n",
       "</div>"
      ],
      "text/plain": [
       "               naslov  stevilo_clenov  nova ocena\n",
       "3406  Instant History             485         NaN"
      ]
     },
     "metadata": {},
     "output_type": "display_data"
    },
    {
     "data": {
      "text/plain": [
       "1962.0"
      ]
     },
     "metadata": {},
     "output_type": "display_data"
    },
    {
     "data": {
      "text/html": [
       "<div>\n",
       "<style scoped>\n",
       "    .dataframe tbody tr th:only-of-type {\n",
       "        vertical-align: middle;\n",
       "    }\n",
       "\n",
       "    .dataframe tbody tr th {\n",
       "        vertical-align: top;\n",
       "    }\n",
       "\n",
       "    .dataframe thead th {\n",
       "        text-align: right;\n",
       "    }\n",
       "</style>\n",
       "<table border=\"1\" class=\"dataframe\">\n",
       "  <thead>\n",
       "    <tr style=\"text-align: right;\">\n",
       "      <th></th>\n",
       "      <th>naslov</th>\n",
       "      <th>stevilo_clenov</th>\n",
       "      <th>nova ocena</th>\n",
       "    </tr>\n",
       "  </thead>\n",
       "  <tbody>\n",
       "    <tr>\n",
       "      <th>3494</th>\n",
       "      <td>Otogi Manga Calendar</td>\n",
       "      <td>413</td>\n",
       "      <td>NaN</td>\n",
       "    </tr>\n",
       "  </tbody>\n",
       "</table>\n",
       "</div>"
      ],
      "text/plain": [
       "                    naslov  stevilo_clenov  nova ocena\n",
       "3494  Otogi Manga Calendar             413         NaN"
      ]
     },
     "metadata": {},
     "output_type": "display_data"
    },
    {
     "data": {
      "text/plain": [
       "1963.0"
      ]
     },
     "metadata": {},
     "output_type": "display_data"
    },
    {
     "data": {
      "text/html": [
       "<div>\n",
       "<style scoped>\n",
       "    .dataframe tbody tr th:only-of-type {\n",
       "        vertical-align: middle;\n",
       "    }\n",
       "\n",
       "    .dataframe tbody tr th {\n",
       "        vertical-align: top;\n",
       "    }\n",
       "\n",
       "    .dataframe thead th {\n",
       "        text-align: right;\n",
       "    }\n",
       "</style>\n",
       "<table border=\"1\" class=\"dataframe\">\n",
       "  <thead>\n",
       "    <tr style=\"text-align: right;\">\n",
       "      <th></th>\n",
       "      <th>naslov</th>\n",
       "      <th>stevilo_clenov</th>\n",
       "      <th>nova ocena</th>\n",
       "    </tr>\n",
       "  </thead>\n",
       "  <tbody>\n",
       "    <tr>\n",
       "      <th>2098</th>\n",
       "      <td>Tetsuwan Atom</td>\n",
       "      <td>9075</td>\n",
       "      <td>0.25</td>\n",
       "    </tr>\n",
       "    <tr>\n",
       "      <th>2682</th>\n",
       "      <td>Tetsujin 28-gou</td>\n",
       "      <td>2341</td>\n",
       "      <td>0.05</td>\n",
       "    </tr>\n",
       "    <tr>\n",
       "      <th>2952</th>\n",
       "      <td>Eightman</td>\n",
       "      <td>1257</td>\n",
       "      <td>0.02</td>\n",
       "    </tr>\n",
       "  </tbody>\n",
       "</table>\n",
       "</div>"
      ],
      "text/plain": [
       "               naslov  stevilo_clenov  nova ocena\n",
       "2098    Tetsuwan Atom            9075        0.25\n",
       "2682  Tetsujin 28-gou            2341        0.05\n",
       "2952         Eightman            1257        0.02"
      ]
     },
     "metadata": {},
     "output_type": "display_data"
    },
    {
     "data": {
      "text/plain": [
       "1964.0"
      ]
     },
     "metadata": {},
     "output_type": "display_data"
    },
    {
     "data": {
      "text/html": [
       "<div>\n",
       "<style scoped>\n",
       "    .dataframe tbody tr th:only-of-type {\n",
       "        vertical-align: middle;\n",
       "    }\n",
       "\n",
       "    .dataframe tbody tr th {\n",
       "        vertical-align: top;\n",
       "    }\n",
       "\n",
       "    .dataframe thead th {\n",
       "        text-align: right;\n",
       "    }\n",
       "</style>\n",
       "<table border=\"1\" class=\"dataframe\">\n",
       "  <thead>\n",
       "    <tr style=\"text-align: right;\">\n",
       "      <th></th>\n",
       "      <th>naslov</th>\n",
       "      <th>stevilo_clenov</th>\n",
       "      <th>nova ocena</th>\n",
       "    </tr>\n",
       "  </thead>\n",
       "  <tbody>\n",
       "    <tr>\n",
       "      <th>3193</th>\n",
       "      <td>Big X</td>\n",
       "      <td>711</td>\n",
       "      <td>NaN</td>\n",
       "    </tr>\n",
       "    <tr>\n",
       "      <th>3261</th>\n",
       "      <td>Shounen Ninja Kaze no Fujimaru</td>\n",
       "      <td>630</td>\n",
       "      <td>NaN</td>\n",
       "    </tr>\n",
       "    <tr>\n",
       "      <th>3307</th>\n",
       "      <td>0-sen Hayato</td>\n",
       "      <td>574</td>\n",
       "      <td>NaN</td>\n",
       "    </tr>\n",
       "  </tbody>\n",
       "</table>\n",
       "</div>"
      ],
      "text/plain": [
       "                              naslov  stevilo_clenov  nova ocena\n",
       "3193                           Big X             711         NaN\n",
       "3261  Shounen Ninja Kaze no Fujimaru             630         NaN\n",
       "3307                    0-sen Hayato             574         NaN"
      ]
     },
     "metadata": {},
     "output_type": "display_data"
    },
    {
     "data": {
      "text/plain": [
       "1965.0"
      ]
     },
     "metadata": {},
     "output_type": "display_data"
    },
    {
     "data": {
      "text/html": [
       "<div>\n",
       "<style scoped>\n",
       "    .dataframe tbody tr th:only-of-type {\n",
       "        vertical-align: middle;\n",
       "    }\n",
       "\n",
       "    .dataframe tbody tr th {\n",
       "        vertical-align: top;\n",
       "    }\n",
       "\n",
       "    .dataframe thead th {\n",
       "        text-align: right;\n",
       "    }\n",
       "</style>\n",
       "<table border=\"1\" class=\"dataframe\">\n",
       "  <thead>\n",
       "    <tr style=\"text-align: right;\">\n",
       "      <th></th>\n",
       "      <th>naslov</th>\n",
       "      <th>stevilo_clenov</th>\n",
       "      <th>nova ocena</th>\n",
       "    </tr>\n",
       "  </thead>\n",
       "  <tbody>\n",
       "    <tr>\n",
       "      <th>2305</th>\n",
       "      <td>Jungle Taitei</td>\n",
       "      <td>5878</td>\n",
       "      <td>0.10</td>\n",
       "    </tr>\n",
       "    <tr>\n",
       "      <th>3236</th>\n",
       "      <td>Wonder 3</td>\n",
       "      <td>653</td>\n",
       "      <td>NaN</td>\n",
       "    </tr>\n",
       "    <tr>\n",
       "      <th>3311</th>\n",
       "      <td>Yuusei Shounen Papii</td>\n",
       "      <td>564</td>\n",
       "      <td>0.01</td>\n",
       "    </tr>\n",
       "  </tbody>\n",
       "</table>\n",
       "</div>"
      ],
      "text/plain": [
       "                    naslov  stevilo_clenov  nova ocena\n",
       "2305         Jungle Taitei            5878        0.10\n",
       "3236              Wonder 3             653         NaN\n",
       "3311  Yuusei Shounen Papii             564        0.01"
      ]
     },
     "metadata": {},
     "output_type": "display_data"
    },
    {
     "data": {
      "text/plain": [
       "1966.0"
      ]
     },
     "metadata": {},
     "output_type": "display_data"
    },
    {
     "data": {
      "text/html": [
       "<div>\n",
       "<style scoped>\n",
       "    .dataframe tbody tr th:only-of-type {\n",
       "        vertical-align: middle;\n",
       "    }\n",
       "\n",
       "    .dataframe tbody tr th {\n",
       "        vertical-align: top;\n",
       "    }\n",
       "\n",
       "    .dataframe thead th {\n",
       "        text-align: right;\n",
       "    }\n",
       "</style>\n",
       "<table border=\"1\" class=\"dataframe\">\n",
       "  <thead>\n",
       "    <tr style=\"text-align: right;\">\n",
       "      <th></th>\n",
       "      <th>naslov</th>\n",
       "      <th>stevilo_clenov</th>\n",
       "      <th>nova ocena</th>\n",
       "    </tr>\n",
       "  </thead>\n",
       "  <tbody>\n",
       "    <tr>\n",
       "      <th>2600</th>\n",
       "      <td>Mahoutsukai Sally</td>\n",
       "      <td>2852</td>\n",
       "      <td>0.05</td>\n",
       "    </tr>\n",
       "    <tr>\n",
       "      <th>2608</th>\n",
       "      <td>Osomatsu-kun</td>\n",
       "      <td>2770</td>\n",
       "      <td>0.10</td>\n",
       "    </tr>\n",
       "    <tr>\n",
       "      <th>2757</th>\n",
       "      <td>Jungle Taitei: Susume Leo!</td>\n",
       "      <td>1951</td>\n",
       "      <td>0.05</td>\n",
       "    </tr>\n",
       "  </tbody>\n",
       "</table>\n",
       "</div>"
      ],
      "text/plain": [
       "                          naslov  stevilo_clenov  nova ocena\n",
       "2600           Mahoutsukai Sally            2852        0.05\n",
       "2608                Osomatsu-kun            2770        0.10\n",
       "2757  Jungle Taitei: Susume Leo!            1951        0.05"
      ]
     },
     "metadata": {},
     "output_type": "display_data"
    },
    {
     "data": {
      "text/plain": [
       "1967.0"
      ]
     },
     "metadata": {},
     "output_type": "display_data"
    },
    {
     "data": {
      "text/html": [
       "<div>\n",
       "<style scoped>\n",
       "    .dataframe tbody tr th:only-of-type {\n",
       "        vertical-align: middle;\n",
       "    }\n",
       "\n",
       "    .dataframe tbody tr th {\n",
       "        vertical-align: top;\n",
       "    }\n",
       "\n",
       "    .dataframe thead th {\n",
       "        text-align: right;\n",
       "    }\n",
       "</style>\n",
       "<table border=\"1\" class=\"dataframe\">\n",
       "  <thead>\n",
       "    <tr style=\"text-align: right;\">\n",
       "      <th></th>\n",
       "      <th>naslov</th>\n",
       "      <th>stevilo_clenov</th>\n",
       "      <th>nova ocena</th>\n",
       "    </tr>\n",
       "  </thead>\n",
       "  <tbody>\n",
       "    <tr>\n",
       "      <th>1994</th>\n",
       "      <td>Mach GoGoGo</td>\n",
       "      <td>11164</td>\n",
       "      <td>0.48</td>\n",
       "    </tr>\n",
       "    <tr>\n",
       "      <th>2532</th>\n",
       "      <td>Ribbon no Kishi</td>\n",
       "      <td>3418</td>\n",
       "      <td>0.08</td>\n",
       "    </tr>\n",
       "    <tr>\n",
       "      <th>2725</th>\n",
       "      <td>Perman</td>\n",
       "      <td>2093</td>\n",
       "      <td>0.08</td>\n",
       "    </tr>\n",
       "  </tbody>\n",
       "</table>\n",
       "</div>"
      ],
      "text/plain": [
       "               naslov  stevilo_clenov  nova ocena\n",
       "1994      Mach GoGoGo           11164        0.48\n",
       "2532  Ribbon no Kishi            3418        0.08\n",
       "2725           Perman            2093        0.08"
      ]
     },
     "metadata": {},
     "output_type": "display_data"
    },
    {
     "data": {
      "text/plain": [
       "1968.0"
      ]
     },
     "metadata": {},
     "output_type": "display_data"
    },
    {
     "data": {
      "text/html": [
       "<div>\n",
       "<style scoped>\n",
       "    .dataframe tbody tr th:only-of-type {\n",
       "        vertical-align: middle;\n",
       "    }\n",
       "\n",
       "    .dataframe tbody tr th {\n",
       "        vertical-align: top;\n",
       "    }\n",
       "\n",
       "    .dataframe thead th {\n",
       "        text-align: right;\n",
       "    }\n",
       "</style>\n",
       "<table border=\"1\" class=\"dataframe\">\n",
       "  <thead>\n",
       "    <tr style=\"text-align: right;\">\n",
       "      <th></th>\n",
       "      <th>naslov</th>\n",
       "      <th>stevilo_clenov</th>\n",
       "      <th>nova ocena</th>\n",
       "    </tr>\n",
       "  </thead>\n",
       "  <tbody>\n",
       "    <tr>\n",
       "      <th>2350</th>\n",
       "      <td>Cyborg 009 (TV)</td>\n",
       "      <td>5177</td>\n",
       "      <td>0.12</td>\n",
       "    </tr>\n",
       "    <tr>\n",
       "      <th>2560</th>\n",
       "      <td>Gegege no Kitarou (1968)</td>\n",
       "      <td>3195</td>\n",
       "      <td>0.11</td>\n",
       "    </tr>\n",
       "    <tr>\n",
       "      <th>2796</th>\n",
       "      <td>Kyojin no Hoshi</td>\n",
       "      <td>1803</td>\n",
       "      <td>0.04</td>\n",
       "    </tr>\n",
       "  </tbody>\n",
       "</table>\n",
       "</div>"
      ],
      "text/plain": [
       "                        naslov  stevilo_clenov  nova ocena\n",
       "2350           Cyborg 009 (TV)            5177        0.12\n",
       "2560  Gegege no Kitarou (1968)            3195        0.11\n",
       "2796           Kyojin no Hoshi            1803        0.04"
      ]
     },
     "metadata": {},
     "output_type": "display_data"
    },
    {
     "data": {
      "text/plain": [
       "1969.0"
      ]
     },
     "metadata": {},
     "output_type": "display_data"
    },
    {
     "data": {
      "text/html": [
       "<div>\n",
       "<style scoped>\n",
       "    .dataframe tbody tr th:only-of-type {\n",
       "        vertical-align: middle;\n",
       "    }\n",
       "\n",
       "    .dataframe tbody tr th {\n",
       "        vertical-align: top;\n",
       "    }\n",
       "\n",
       "    .dataframe thead th {\n",
       "        text-align: right;\n",
       "    }\n",
       "</style>\n",
       "<table border=\"1\" class=\"dataframe\">\n",
       "  <thead>\n",
       "    <tr style=\"text-align: right;\">\n",
       "      <th></th>\n",
       "      <th>naslov</th>\n",
       "      <th>stevilo_clenov</th>\n",
       "      <th>nova ocena</th>\n",
       "    </tr>\n",
       "  </thead>\n",
       "  <tbody>\n",
       "    <tr>\n",
       "      <th>1997</th>\n",
       "      <td>Dororo to Hyakkimaru</td>\n",
       "      <td>11090</td>\n",
       "      <td>0.39</td>\n",
       "    </tr>\n",
       "    <tr>\n",
       "      <th>2177</th>\n",
       "      <td>Tiger Mask</td>\n",
       "      <td>7678</td>\n",
       "      <td>0.33</td>\n",
       "    </tr>\n",
       "    <tr>\n",
       "      <th>2251</th>\n",
       "      <td>Attack No.1</td>\n",
       "      <td>6720</td>\n",
       "      <td>0.17</td>\n",
       "    </tr>\n",
       "  </tbody>\n",
       "</table>\n",
       "</div>"
      ],
      "text/plain": [
       "                    naslov  stevilo_clenov  nova ocena\n",
       "1997  Dororo to Hyakkimaru           11090        0.39\n",
       "2177            Tiger Mask            7678        0.33\n",
       "2251           Attack No.1            6720        0.17"
      ]
     },
     "metadata": {},
     "output_type": "display_data"
    },
    {
     "data": {
      "text/plain": [
       "1970.0"
      ]
     },
     "metadata": {},
     "output_type": "display_data"
    },
    {
     "data": {
      "text/html": [
       "<div>\n",
       "<style scoped>\n",
       "    .dataframe tbody tr th:only-of-type {\n",
       "        vertical-align: middle;\n",
       "    }\n",
       "\n",
       "    .dataframe tbody tr th {\n",
       "        vertical-align: top;\n",
       "    }\n",
       "\n",
       "    .dataframe thead th {\n",
       "        text-align: right;\n",
       "    }\n",
       "</style>\n",
       "<table border=\"1\" class=\"dataframe\">\n",
       "  <thead>\n",
       "    <tr style=\"text-align: right;\">\n",
       "      <th></th>\n",
       "      <th>naslov</th>\n",
       "      <th>stevilo_clenov</th>\n",
       "      <th>nova ocena</th>\n",
       "    </tr>\n",
       "  </thead>\n",
       "  <tbody>\n",
       "    <tr>\n",
       "      <th>1152</th>\n",
       "      <td>Ashita no Joe</td>\n",
       "      <td>55322</td>\n",
       "      <td>4.22</td>\n",
       "    </tr>\n",
       "    <tr>\n",
       "      <th>2703</th>\n",
       "      <td>Konchuu Monogatari Minashigo Hutch</td>\n",
       "      <td>2207</td>\n",
       "      <td>0.04</td>\n",
       "    </tr>\n",
       "    <tr>\n",
       "      <th>2843</th>\n",
       "      <td>Akakichi no Eleven</td>\n",
       "      <td>1611</td>\n",
       "      <td>0.04</td>\n",
       "    </tr>\n",
       "  </tbody>\n",
       "</table>\n",
       "</div>"
      ],
      "text/plain": [
       "                                  naslov  stevilo_clenov  nova ocena\n",
       "1152                       Ashita no Joe           55322        4.22\n",
       "2703  Konchuu Monogatari Minashigo Hutch            2207        0.04\n",
       "2843                  Akakichi no Eleven            1611        0.04"
      ]
     },
     "metadata": {},
     "output_type": "display_data"
    },
    {
     "data": {
      "text/plain": [
       "1971.0"
      ]
     },
     "metadata": {},
     "output_type": "display_data"
    },
    {
     "data": {
      "text/html": [
       "<div>\n",
       "<style scoped>\n",
       "    .dataframe tbody tr th:only-of-type {\n",
       "        vertical-align: middle;\n",
       "    }\n",
       "\n",
       "    .dataframe tbody tr th {\n",
       "        vertical-align: top;\n",
       "    }\n",
       "\n",
       "    .dataframe thead th {\n",
       "        text-align: right;\n",
       "    }\n",
       "</style>\n",
       "<table border=\"1\" class=\"dataframe\">\n",
       "  <thead>\n",
       "    <tr style=\"text-align: right;\">\n",
       "      <th></th>\n",
       "      <th>naslov</th>\n",
       "      <th>stevilo_clenov</th>\n",
       "      <th>nova ocena</th>\n",
       "    </tr>\n",
       "  </thead>\n",
       "  <tbody>\n",
       "    <tr>\n",
       "      <th>1015</th>\n",
       "      <td>Lupin III</td>\n",
       "      <td>71989</td>\n",
       "      <td>2.93</td>\n",
       "    </tr>\n",
       "    <tr>\n",
       "      <th>2820</th>\n",
       "      <td>Gegege no Kitarou (1971)</td>\n",
       "      <td>1699</td>\n",
       "      <td>0.03</td>\n",
       "    </tr>\n",
       "    <tr>\n",
       "      <th>2838</th>\n",
       "      <td>Genshi Shounen Ryuu</td>\n",
       "      <td>1635</td>\n",
       "      <td>0.04</td>\n",
       "    </tr>\n",
       "  </tbody>\n",
       "</table>\n",
       "</div>"
      ],
      "text/plain": [
       "                        naslov  stevilo_clenov  nova ocena\n",
       "1015                 Lupin III           71989        2.93\n",
       "2820  Gegege no Kitarou (1971)            1699        0.03\n",
       "2838       Genshi Shounen Ryuu            1635        0.04"
      ]
     },
     "metadata": {},
     "output_type": "display_data"
    },
    {
     "data": {
      "text/plain": [
       "1972.0"
      ]
     },
     "metadata": {},
     "output_type": "display_data"
    },
    {
     "data": {
      "text/html": [
       "<div>\n",
       "<style scoped>\n",
       "    .dataframe tbody tr th:only-of-type {\n",
       "        vertical-align: middle;\n",
       "    }\n",
       "\n",
       "    .dataframe tbody tr th {\n",
       "        vertical-align: top;\n",
       "    }\n",
       "\n",
       "    .dataframe thead th {\n",
       "        text-align: right;\n",
       "    }\n",
       "</style>\n",
       "<table border=\"1\" class=\"dataframe\">\n",
       "  <thead>\n",
       "    <tr style=\"text-align: right;\">\n",
       "      <th></th>\n",
       "      <th>naslov</th>\n",
       "      <th>stevilo_clenov</th>\n",
       "      <th>nova ocena</th>\n",
       "    </tr>\n",
       "  </thead>\n",
       "  <tbody>\n",
       "    <tr>\n",
       "      <th>1693</th>\n",
       "      <td>Devilman</td>\n",
       "      <td>20227</td>\n",
       "      <td>0.47</td>\n",
       "    </tr>\n",
       "    <tr>\n",
       "      <th>1931</th>\n",
       "      <td>Mazinger Z</td>\n",
       "      <td>12526</td>\n",
       "      <td>0.54</td>\n",
       "    </tr>\n",
       "    <tr>\n",
       "      <th>2153</th>\n",
       "      <td>Kagaku Ninja-tai Gatchaman</td>\n",
       "      <td>7969</td>\n",
       "      <td>0.31</td>\n",
       "    </tr>\n",
       "  </tbody>\n",
       "</table>\n",
       "</div>"
      ],
      "text/plain": [
       "                          naslov  stevilo_clenov  nova ocena\n",
       "1693                    Devilman           20227        0.47\n",
       "1931                  Mazinger Z           12526        0.54\n",
       "2153  Kagaku Ninja-tai Gatchaman            7969        0.31"
      ]
     },
     "metadata": {},
     "output_type": "display_data"
    },
    {
     "data": {
      "text/plain": [
       "1973.0"
      ]
     },
     "metadata": {},
     "output_type": "display_data"
    },
    {
     "data": {
      "text/html": [
       "<div>\n",
       "<style scoped>\n",
       "    .dataframe tbody tr th:only-of-type {\n",
       "        vertical-align: middle;\n",
       "    }\n",
       "\n",
       "    .dataframe tbody tr th {\n",
       "        vertical-align: top;\n",
       "    }\n",
       "\n",
       "    .dataframe thead th {\n",
       "        text-align: right;\n",
       "    }\n",
       "</style>\n",
       "<table border=\"1\" class=\"dataframe\">\n",
       "  <thead>\n",
       "    <tr style=\"text-align: right;\">\n",
       "      <th></th>\n",
       "      <th>naslov</th>\n",
       "      <th>stevilo_clenov</th>\n",
       "      <th>nova ocena</th>\n",
       "    </tr>\n",
       "  </thead>\n",
       "  <tbody>\n",
       "    <tr>\n",
       "      <th>1832</th>\n",
       "      <td>Doraemon</td>\n",
       "      <td>15487</td>\n",
       "      <td>0.82</td>\n",
       "    </tr>\n",
       "    <tr>\n",
       "      <th>1918</th>\n",
       "      <td>Cutey Honey</td>\n",
       "      <td>12854</td>\n",
       "      <td>0.26</td>\n",
       "    </tr>\n",
       "    <tr>\n",
       "      <th>2111</th>\n",
       "      <td>Ace wo Nerae!</td>\n",
       "      <td>8775</td>\n",
       "      <td>0.30</td>\n",
       "    </tr>\n",
       "  </tbody>\n",
       "</table>\n",
       "</div>"
      ],
      "text/plain": [
       "             naslov  stevilo_clenov  nova ocena\n",
       "1832       Doraemon           15487        0.82\n",
       "1918    Cutey Honey           12854        0.26\n",
       "2111  Ace wo Nerae!            8775        0.30"
      ]
     },
     "metadata": {},
     "output_type": "display_data"
    },
    {
     "data": {
      "text/plain": [
       "1974.0"
      ]
     },
     "metadata": {},
     "output_type": "display_data"
    },
    {
     "data": {
      "text/html": [
       "<div>\n",
       "<style scoped>\n",
       "    .dataframe tbody tr th:only-of-type {\n",
       "        vertical-align: middle;\n",
       "    }\n",
       "\n",
       "    .dataframe tbody tr th {\n",
       "        vertical-align: top;\n",
       "    }\n",
       "\n",
       "    .dataframe thead th {\n",
       "        text-align: right;\n",
       "    }\n",
       "</style>\n",
       "<table border=\"1\" class=\"dataframe\">\n",
       "  <thead>\n",
       "    <tr style=\"text-align: right;\">\n",
       "      <th></th>\n",
       "      <th>naslov</th>\n",
       "      <th>stevilo_clenov</th>\n",
       "      <th>nova ocena</th>\n",
       "    </tr>\n",
       "  </thead>\n",
       "  <tbody>\n",
       "    <tr>\n",
       "      <th>1572</th>\n",
       "      <td>Alps no Shoujo Heidi</td>\n",
       "      <td>24917</td>\n",
       "      <td>0.93</td>\n",
       "    </tr>\n",
       "    <tr>\n",
       "      <th>1673</th>\n",
       "      <td>Uchuu Senkan Yamato</td>\n",
       "      <td>20848</td>\n",
       "      <td>0.91</td>\n",
       "    </tr>\n",
       "    <tr>\n",
       "      <th>2312</th>\n",
       "      <td>Getter Robo</td>\n",
       "      <td>5672</td>\n",
       "      <td>0.14</td>\n",
       "    </tr>\n",
       "  </tbody>\n",
       "</table>\n",
       "</div>"
      ],
      "text/plain": [
       "                    naslov  stevilo_clenov  nova ocena\n",
       "1572  Alps no Shoujo Heidi           24917        0.93\n",
       "1673   Uchuu Senkan Yamato           20848        0.91\n",
       "2312           Getter Robo            5672        0.14"
      ]
     },
     "metadata": {},
     "output_type": "display_data"
    },
    {
     "data": {
      "text/plain": [
       "1975.0"
      ]
     },
     "metadata": {},
     "output_type": "display_data"
    },
    {
     "data": {
      "text/html": [
       "<div>\n",
       "<style scoped>\n",
       "    .dataframe tbody tr th:only-of-type {\n",
       "        vertical-align: middle;\n",
       "    }\n",
       "\n",
       "    .dataframe tbody tr th {\n",
       "        vertical-align: top;\n",
       "    }\n",
       "\n",
       "    .dataframe thead th {\n",
       "        text-align: right;\n",
       "    }\n",
       "</style>\n",
       "<table border=\"1\" class=\"dataframe\">\n",
       "  <thead>\n",
       "    <tr style=\"text-align: right;\">\n",
       "      <th></th>\n",
       "      <th>naslov</th>\n",
       "      <th>stevilo_clenov</th>\n",
       "      <th>nova ocena</th>\n",
       "    </tr>\n",
       "  </thead>\n",
       "  <tbody>\n",
       "    <tr>\n",
       "      <th>2136</th>\n",
       "      <td>UFO Robo Grendizer</td>\n",
       "      <td>8332</td>\n",
       "      <td>0.58</td>\n",
       "    </tr>\n",
       "    <tr>\n",
       "      <th>2235</th>\n",
       "      <td>Mitsubachi Maya no Bouken</td>\n",
       "      <td>6996</td>\n",
       "      <td>0.12</td>\n",
       "    </tr>\n",
       "    <tr>\n",
       "      <th>2351</th>\n",
       "      <td>Arabian Nights: Sindbad no Bouken (TV)</td>\n",
       "      <td>5161</td>\n",
       "      <td>0.14</td>\n",
       "    </tr>\n",
       "  </tbody>\n",
       "</table>\n",
       "</div>"
      ],
      "text/plain": [
       "                                      naslov  stevilo_clenov  nova ocena\n",
       "2136                      UFO Robo Grendizer            8332        0.58\n",
       "2235               Mitsubachi Maya no Bouken            6996        0.12\n",
       "2351  Arabian Nights: Sindbad no Bouken (TV)            5161        0.14"
      ]
     },
     "metadata": {},
     "output_type": "display_data"
    },
    {
     "data": {
      "text/plain": [
       "1976.0"
      ]
     },
     "metadata": {},
     "output_type": "display_data"
    },
    {
     "data": {
      "text/html": [
       "<div>\n",
       "<style scoped>\n",
       "    .dataframe tbody tr th:only-of-type {\n",
       "        vertical-align: middle;\n",
       "    }\n",
       "\n",
       "    .dataframe tbody tr th {\n",
       "        vertical-align: top;\n",
       "    }\n",
       "\n",
       "    .dataframe thead th {\n",
       "        text-align: right;\n",
       "    }\n",
       "</style>\n",
       "<table border=\"1\" class=\"dataframe\">\n",
       "  <thead>\n",
       "    <tr style=\"text-align: right;\">\n",
       "      <th></th>\n",
       "      <th>naslov</th>\n",
       "      <th>stevilo_clenov</th>\n",
       "      <th>nova ocena</th>\n",
       "    </tr>\n",
       "  </thead>\n",
       "  <tbody>\n",
       "    <tr>\n",
       "      <th>1667</th>\n",
       "      <td>Candy Candy</td>\n",
       "      <td>21166</td>\n",
       "      <td>1.51</td>\n",
       "    </tr>\n",
       "    <tr>\n",
       "      <th>2192</th>\n",
       "      <td>Haha wo Tazunete Sanzenri</td>\n",
       "      <td>7527</td>\n",
       "      <td>0.21</td>\n",
       "    </tr>\n",
       "    <tr>\n",
       "      <th>2644</th>\n",
       "      <td>Chou Denji Robo Combattler V</td>\n",
       "      <td>2520</td>\n",
       "      <td>0.07</td>\n",
       "    </tr>\n",
       "  </tbody>\n",
       "</table>\n",
       "</div>"
      ],
      "text/plain": [
       "                            naslov  stevilo_clenov  nova ocena\n",
       "1667                   Candy Candy           21166        1.51\n",
       "2192     Haha wo Tazunete Sanzenri            7527        0.21\n",
       "2644  Chou Denji Robo Combattler V            2520        0.07"
      ]
     },
     "metadata": {},
     "output_type": "display_data"
    },
    {
     "data": {
      "text/plain": [
       "1977.0"
      ]
     },
     "metadata": {},
     "output_type": "display_data"
    },
    {
     "data": {
      "text/html": [
       "<div>\n",
       "<style scoped>\n",
       "    .dataframe tbody tr th:only-of-type {\n",
       "        vertical-align: middle;\n",
       "    }\n",
       "\n",
       "    .dataframe tbody tr th {\n",
       "        vertical-align: top;\n",
       "    }\n",
       "\n",
       "    .dataframe thead th {\n",
       "        text-align: right;\n",
       "    }\n",
       "</style>\n",
       "<table border=\"1\" class=\"dataframe\">\n",
       "  <thead>\n",
       "    <tr style=\"text-align: right;\">\n",
       "      <th></th>\n",
       "      <th>naslov</th>\n",
       "      <th>stevilo_clenov</th>\n",
       "      <th>nova ocena</th>\n",
       "    </tr>\n",
       "  </thead>\n",
       "  <tbody>\n",
       "    <tr>\n",
       "      <th>1603</th>\n",
       "      <td>Lupin III: Part II</td>\n",
       "      <td>23548</td>\n",
       "      <td>1.16</td>\n",
       "    </tr>\n",
       "    <tr>\n",
       "      <th>2040</th>\n",
       "      <td>Ie Naki Ko</td>\n",
       "      <td>10167</td>\n",
       "      <td>0.84</td>\n",
       "    </tr>\n",
       "    <tr>\n",
       "      <th>2328</th>\n",
       "      <td>Chou Denji Machine Voltes V</td>\n",
       "      <td>5516</td>\n",
       "      <td>0.36</td>\n",
       "    </tr>\n",
       "  </tbody>\n",
       "</table>\n",
       "</div>"
      ],
      "text/plain": [
       "                           naslov  stevilo_clenov  nova ocena\n",
       "1603           Lupin III: Part II           23548        1.16\n",
       "2040                   Ie Naki Ko           10167        0.84\n",
       "2328  Chou Denji Machine Voltes V            5516        0.36"
      ]
     },
     "metadata": {},
     "output_type": "display_data"
    },
    {
     "data": {
      "text/plain": [
       "1978.0"
      ]
     },
     "metadata": {},
     "output_type": "display_data"
    },
    {
     "data": {
      "text/html": [
       "<div>\n",
       "<style scoped>\n",
       "    .dataframe tbody tr th:only-of-type {\n",
       "        vertical-align: middle;\n",
       "    }\n",
       "\n",
       "    .dataframe tbody tr th {\n",
       "        vertical-align: top;\n",
       "    }\n",
       "\n",
       "    .dataframe thead th {\n",
       "        text-align: right;\n",
       "    }\n",
       "</style>\n",
       "<table border=\"1\" class=\"dataframe\">\n",
       "  <thead>\n",
       "    <tr style=\"text-align: right;\">\n",
       "      <th></th>\n",
       "      <th>naslov</th>\n",
       "      <th>stevilo_clenov</th>\n",
       "      <th>nova ocena</th>\n",
       "    </tr>\n",
       "  </thead>\n",
       "  <tbody>\n",
       "    <tr>\n",
       "      <th>1383</th>\n",
       "      <td>Mirai Shounen Conan</td>\n",
       "      <td>34802</td>\n",
       "      <td>2.01</td>\n",
       "    </tr>\n",
       "    <tr>\n",
       "      <th>1505</th>\n",
       "      <td>Uchuu Kaizoku Captain Herlock</td>\n",
       "      <td>27892</td>\n",
       "      <td>1.44</td>\n",
       "    </tr>\n",
       "    <tr>\n",
       "      <th>1571</th>\n",
       "      <td>Ginga Tetsudou 999</td>\n",
       "      <td>24945</td>\n",
       "      <td>1.65</td>\n",
       "    </tr>\n",
       "  </tbody>\n",
       "</table>\n",
       "</div>"
      ],
      "text/plain": [
       "                             naslov  stevilo_clenov  nova ocena\n",
       "1383            Mirai Shounen Conan           34802        2.01\n",
       "1505  Uchuu Kaizoku Captain Herlock           27892        1.44\n",
       "1571             Ginga Tetsudou 999           24945        1.65"
      ]
     },
     "metadata": {},
     "output_type": "display_data"
    },
    {
     "data": {
      "text/plain": [
       "1979.0"
      ]
     },
     "metadata": {},
     "output_type": "display_data"
    },
    {
     "data": {
      "text/html": [
       "<div>\n",
       "<style scoped>\n",
       "    .dataframe tbody tr th:only-of-type {\n",
       "        vertical-align: middle;\n",
       "    }\n",
       "\n",
       "    .dataframe tbody tr th {\n",
       "        vertical-align: top;\n",
       "    }\n",
       "\n",
       "    .dataframe thead th {\n",
       "        text-align: right;\n",
       "    }\n",
       "</style>\n",
       "<table border=\"1\" class=\"dataframe\">\n",
       "  <thead>\n",
       "    <tr style=\"text-align: right;\">\n",
       "      <th></th>\n",
       "      <th>naslov</th>\n",
       "      <th>stevilo_clenov</th>\n",
       "      <th>nova ocena</th>\n",
       "    </tr>\n",
       "  </thead>\n",
       "  <tbody>\n",
       "    <tr>\n",
       "      <th>856</th>\n",
       "      <td>Mobile Suit Gundam</td>\n",
       "      <td>94229</td>\n",
       "      <td>4.48</td>\n",
       "    </tr>\n",
       "    <tr>\n",
       "      <th>1056</th>\n",
       "      <td>Versailles no Bara</td>\n",
       "      <td>66299</td>\n",
       "      <td>5.26</td>\n",
       "    </tr>\n",
       "    <tr>\n",
       "      <th>1370</th>\n",
       "      <td>Doraemon (1979)</td>\n",
       "      <td>35879</td>\n",
       "      <td>1.73</td>\n",
       "    </tr>\n",
       "  </tbody>\n",
       "</table>\n",
       "</div>"
      ],
      "text/plain": [
       "                  naslov  stevilo_clenov  nova ocena\n",
       "856   Mobile Suit Gundam           94229        4.48\n",
       "1056  Versailles no Bara           66299        5.26\n",
       "1370     Doraemon (1979)           35879        1.73"
      ]
     },
     "metadata": {},
     "output_type": "display_data"
    },
    {
     "data": {
      "text/plain": [
       "1980.0"
      ]
     },
     "metadata": {},
     "output_type": "display_data"
    },
    {
     "data": {
      "text/html": [
       "<div>\n",
       "<style scoped>\n",
       "    .dataframe tbody tr th:only-of-type {\n",
       "        vertical-align: middle;\n",
       "    }\n",
       "\n",
       "    .dataframe tbody tr th {\n",
       "        vertical-align: top;\n",
       "    }\n",
       "\n",
       "    .dataframe thead th {\n",
       "        text-align: right;\n",
       "    }\n",
       "</style>\n",
       "<table border=\"1\" class=\"dataframe\">\n",
       "  <thead>\n",
       "    <tr style=\"text-align: right;\">\n",
       "      <th></th>\n",
       "      <th>naslov</th>\n",
       "      <th>stevilo_clenov</th>\n",
       "      <th>nova ocena</th>\n",
       "    </tr>\n",
       "  </thead>\n",
       "  <tbody>\n",
       "    <tr>\n",
       "      <th>1488</th>\n",
       "      <td>Ashita no Joe 2</td>\n",
       "      <td>28624</td>\n",
       "      <td>4.39</td>\n",
       "    </tr>\n",
       "    <tr>\n",
       "      <th>1982</th>\n",
       "      <td>Densetsu Kyojin Ideon</td>\n",
       "      <td>11450</td>\n",
       "      <td>0.41</td>\n",
       "    </tr>\n",
       "    <tr>\n",
       "      <th>2049</th>\n",
       "      <td>Tetsuwan Atom (1980)</td>\n",
       "      <td>9989</td>\n",
       "      <td>0.45</td>\n",
       "    </tr>\n",
       "  </tbody>\n",
       "</table>\n",
       "</div>"
      ],
      "text/plain": [
       "                     naslov  stevilo_clenov  nova ocena\n",
       "1488        Ashita no Joe 2           28624        4.39\n",
       "1982  Densetsu Kyojin Ideon           11450        0.41\n",
       "2049   Tetsuwan Atom (1980)            9989        0.45"
      ]
     },
     "metadata": {},
     "output_type": "display_data"
    },
    {
     "data": {
      "text/plain": [
       "1981.0"
      ]
     },
     "metadata": {},
     "output_type": "display_data"
    },
    {
     "data": {
      "text/html": [
       "<div>\n",
       "<style scoped>\n",
       "    .dataframe tbody tr th:only-of-type {\n",
       "        vertical-align: middle;\n",
       "    }\n",
       "\n",
       "    .dataframe tbody tr th {\n",
       "        vertical-align: top;\n",
       "    }\n",
       "\n",
       "    .dataframe thead th {\n",
       "        text-align: right;\n",
       "    }\n",
       "</style>\n",
       "<table border=\"1\" class=\"dataframe\">\n",
       "  <thead>\n",
       "    <tr style=\"text-align: right;\">\n",
       "      <th></th>\n",
       "      <th>naslov</th>\n",
       "      <th>stevilo_clenov</th>\n",
       "      <th>nova ocena</th>\n",
       "    </tr>\n",
       "  </thead>\n",
       "  <tbody>\n",
       "    <tr>\n",
       "      <th>1148</th>\n",
       "      <td>Urusei Yatsura</td>\n",
       "      <td>55758</td>\n",
       "      <td>2.98</td>\n",
       "    </tr>\n",
       "    <tr>\n",
       "      <th>1999</th>\n",
       "      <td>Dr. Slump: Arale-chan</td>\n",
       "      <td>10933</td>\n",
       "      <td>0.31</td>\n",
       "    </tr>\n",
       "    <tr>\n",
       "      <th>2059</th>\n",
       "      <td>Hyakujuu-Ou GoLion</td>\n",
       "      <td>9778</td>\n",
       "      <td>0.31</td>\n",
       "    </tr>\n",
       "  </tbody>\n",
       "</table>\n",
       "</div>"
      ],
      "text/plain": [
       "                     naslov  stevilo_clenov  nova ocena\n",
       "1148         Urusei Yatsura           55758        2.98\n",
       "1999  Dr. Slump: Arale-chan           10933        0.31\n",
       "2059     Hyakujuu-Ou GoLion            9778        0.31"
      ]
     },
     "metadata": {},
     "output_type": "display_data"
    },
    {
     "data": {
      "text/plain": [
       "1982.0"
      ]
     },
     "metadata": {},
     "output_type": "display_data"
    },
    {
     "data": {
      "text/html": [
       "<div>\n",
       "<style scoped>\n",
       "    .dataframe tbody tr th:only-of-type {\n",
       "        vertical-align: middle;\n",
       "    }\n",
       "\n",
       "    .dataframe tbody tr th {\n",
       "        vertical-align: top;\n",
       "    }\n",
       "\n",
       "    .dataframe thead th {\n",
       "        text-align: right;\n",
       "    }\n",
       "</style>\n",
       "<table border=\"1\" class=\"dataframe\">\n",
       "  <thead>\n",
       "    <tr style=\"text-align: right;\">\n",
       "      <th></th>\n",
       "      <th>naslov</th>\n",
       "      <th>stevilo_clenov</th>\n",
       "      <th>nova ocena</th>\n",
       "    </tr>\n",
       "  </thead>\n",
       "  <tbody>\n",
       "    <tr>\n",
       "      <th>950</th>\n",
       "      <td>Macross</td>\n",
       "      <td>81079</td>\n",
       "      <td>4.34</td>\n",
       "    </tr>\n",
       "    <tr>\n",
       "      <th>1828</th>\n",
       "      <td>Space Cobra</td>\n",
       "      <td>15581</td>\n",
       "      <td>1.02</td>\n",
       "    </tr>\n",
       "    <tr>\n",
       "      <th>2074</th>\n",
       "      <td>Taiyou no Ko Esteban</td>\n",
       "      <td>9520</td>\n",
       "      <td>0.46</td>\n",
       "    </tr>\n",
       "  </tbody>\n",
       "</table>\n",
       "</div>"
      ],
      "text/plain": [
       "                    naslov  stevilo_clenov  nova ocena\n",
       "950                Macross           81079        4.34\n",
       "1828           Space Cobra           15581        1.02\n",
       "2074  Taiyou no Ko Esteban            9520        0.46"
      ]
     },
     "metadata": {},
     "output_type": "display_data"
    },
    {
     "data": {
      "text/plain": [
       "1983.0"
      ]
     },
     "metadata": {},
     "output_type": "display_data"
    },
    {
     "data": {
      "text/html": [
       "<div>\n",
       "<style scoped>\n",
       "    .dataframe tbody tr th:only-of-type {\n",
       "        vertical-align: middle;\n",
       "    }\n",
       "\n",
       "    .dataframe tbody tr th {\n",
       "        vertical-align: top;\n",
       "    }\n",
       "\n",
       "    .dataframe thead th {\n",
       "        text-align: right;\n",
       "    }\n",
       "</style>\n",
       "<table border=\"1\" class=\"dataframe\">\n",
       "  <thead>\n",
       "    <tr style=\"text-align: right;\">\n",
       "      <th></th>\n",
       "      <th>naslov</th>\n",
       "      <th>stevilo_clenov</th>\n",
       "      <th>nova ocena</th>\n",
       "    </tr>\n",
       "  </thead>\n",
       "  <tbody>\n",
       "    <tr>\n",
       "      <th>1082</th>\n",
       "      <td>Captain Tsubasa</td>\n",
       "      <td>63667</td>\n",
       "      <td>1.92</td>\n",
       "    </tr>\n",
       "    <tr>\n",
       "      <th>1760</th>\n",
       "      <td>Soukou Kihei Votoms</td>\n",
       "      <td>17762</td>\n",
       "      <td>1.52</td>\n",
       "    </tr>\n",
       "    <tr>\n",
       "      <th>1878</th>\n",
       "      <td>Cat&amp;#039;s Eye</td>\n",
       "      <td>14074</td>\n",
       "      <td>0.38</td>\n",
       "    </tr>\n",
       "  </tbody>\n",
       "</table>\n",
       "</div>"
      ],
      "text/plain": [
       "                   naslov  stevilo_clenov  nova ocena\n",
       "1082      Captain Tsubasa           63667        1.92\n",
       "1760  Soukou Kihei Votoms           17762        1.52\n",
       "1878       Cat&#039;s Eye           14074        0.38"
      ]
     },
     "metadata": {},
     "output_type": "display_data"
    },
    {
     "data": {
      "text/plain": [
       "1984.0"
      ]
     },
     "metadata": {},
     "output_type": "display_data"
    },
    {
     "data": {
      "text/html": [
       "<div>\n",
       "<style scoped>\n",
       "    .dataframe tbody tr th:only-of-type {\n",
       "        vertical-align: middle;\n",
       "    }\n",
       "\n",
       "    .dataframe tbody tr th {\n",
       "        vertical-align: top;\n",
       "    }\n",
       "\n",
       "    .dataframe thead th {\n",
       "        text-align: right;\n",
       "    }\n",
       "</style>\n",
       "<table border=\"1\" class=\"dataframe\">\n",
       "  <thead>\n",
       "    <tr style=\"text-align: right;\">\n",
       "      <th></th>\n",
       "      <th>naslov</th>\n",
       "      <th>stevilo_clenov</th>\n",
       "      <th>nova ocena</th>\n",
       "    </tr>\n",
       "  </thead>\n",
       "  <tbody>\n",
       "    <tr>\n",
       "      <th>846</th>\n",
       "      <td>Hokuto no Ken</td>\n",
       "      <td>95276</td>\n",
       "      <td>4.82</td>\n",
       "    </tr>\n",
       "    <tr>\n",
       "      <th>1864</th>\n",
       "      <td>Lupin III: Part III</td>\n",
       "      <td>14395</td>\n",
       "      <td>0.19</td>\n",
       "    </tr>\n",
       "    <tr>\n",
       "      <th>2134</th>\n",
       "      <td>Meitantei Holmes</td>\n",
       "      <td>8342</td>\n",
       "      <td>0.32</td>\n",
       "    </tr>\n",
       "  </tbody>\n",
       "</table>\n",
       "</div>"
      ],
      "text/plain": [
       "                   naslov  stevilo_clenov  nova ocena\n",
       "846         Hokuto no Ken           95276        4.82\n",
       "1864  Lupin III: Part III           14395        0.19\n",
       "2134     Meitantei Holmes            8342        0.32"
      ]
     },
     "metadata": {},
     "output_type": "display_data"
    },
    {
     "data": {
      "text/plain": [
       "1985.0"
      ]
     },
     "metadata": {},
     "output_type": "display_data"
    },
    {
     "data": {
      "text/html": [
       "<div>\n",
       "<style scoped>\n",
       "    .dataframe tbody tr th:only-of-type {\n",
       "        vertical-align: middle;\n",
       "    }\n",
       "\n",
       "    .dataframe tbody tr th {\n",
       "        vertical-align: top;\n",
       "    }\n",
       "\n",
       "    .dataframe thead th {\n",
       "        text-align: right;\n",
       "    }\n",
       "</style>\n",
       "<table border=\"1\" class=\"dataframe\">\n",
       "  <thead>\n",
       "    <tr style=\"text-align: right;\">\n",
       "      <th></th>\n",
       "      <th>naslov</th>\n",
       "      <th>stevilo_clenov</th>\n",
       "      <th>nova ocena</th>\n",
       "    </tr>\n",
       "  </thead>\n",
       "  <tbody>\n",
       "    <tr>\n",
       "      <th>1187</th>\n",
       "      <td>Mobile Suit Zeta Gundam</td>\n",
       "      <td>52349</td>\n",
       "      <td>4.37</td>\n",
       "    </tr>\n",
       "    <tr>\n",
       "      <th>1538</th>\n",
       "      <td>Touch</td>\n",
       "      <td>26403</td>\n",
       "      <td>2.09</td>\n",
       "    </tr>\n",
       "    <tr>\n",
       "      <th>1670</th>\n",
       "      <td>Dirty Pair</td>\n",
       "      <td>21122</td>\n",
       "      <td>0.80</td>\n",
       "    </tr>\n",
       "  </tbody>\n",
       "</table>\n",
       "</div>"
      ],
      "text/plain": [
       "                       naslov  stevilo_clenov  nova ocena\n",
       "1187  Mobile Suit Zeta Gundam           52349        4.37\n",
       "1538                    Touch           26403        2.09\n",
       "1670               Dirty Pair           21122        0.80"
      ]
     },
     "metadata": {},
     "output_type": "display_data"
    },
    {
     "data": {
      "text/plain": [
       "1986.0"
      ]
     },
     "metadata": {},
     "output_type": "display_data"
    },
    {
     "data": {
      "text/html": [
       "<div>\n",
       "<style scoped>\n",
       "    .dataframe tbody tr th:only-of-type {\n",
       "        vertical-align: middle;\n",
       "    }\n",
       "\n",
       "    .dataframe tbody tr th {\n",
       "        vertical-align: top;\n",
       "    }\n",
       "\n",
       "    .dataframe thead th {\n",
       "        text-align: right;\n",
       "    }\n",
       "</style>\n",
       "<table border=\"1\" class=\"dataframe\">\n",
       "  <thead>\n",
       "    <tr style=\"text-align: right;\">\n",
       "      <th></th>\n",
       "      <th>naslov</th>\n",
       "      <th>stevilo_clenov</th>\n",
       "      <th>nova ocena</th>\n",
       "    </tr>\n",
       "  </thead>\n",
       "  <tbody>\n",
       "    <tr>\n",
       "      <th>103</th>\n",
       "      <td>Dragon Ball</td>\n",
       "      <td>695117</td>\n",
       "      <td>7.56</td>\n",
       "    </tr>\n",
       "    <tr>\n",
       "      <th>669</th>\n",
       "      <td>Saint Seiya</td>\n",
       "      <td>140150</td>\n",
       "      <td>6.00</td>\n",
       "    </tr>\n",
       "    <tr>\n",
       "      <th>1224</th>\n",
       "      <td>Maison Ikkoku</td>\n",
       "      <td>49223</td>\n",
       "      <td>3.96</td>\n",
       "    </tr>\n",
       "  </tbody>\n",
       "</table>\n",
       "</div>"
      ],
      "text/plain": [
       "             naslov  stevilo_clenov  nova ocena\n",
       "103     Dragon Ball          695117        7.56\n",
       "669     Saint Seiya          140150        6.00\n",
       "1224  Maison Ikkoku           49223        3.96"
      ]
     },
     "metadata": {},
     "output_type": "display_data"
    },
    {
     "data": {
      "text/plain": [
       "1987.0"
      ]
     },
     "metadata": {},
     "output_type": "display_data"
    },
    {
     "data": {
      "text/html": [
       "<div>\n",
       "<style scoped>\n",
       "    .dataframe tbody tr th:only-of-type {\n",
       "        vertical-align: middle;\n",
       "    }\n",
       "\n",
       "    .dataframe tbody tr th {\n",
       "        vertical-align: top;\n",
       "    }\n",
       "\n",
       "    .dataframe thead th {\n",
       "        text-align: right;\n",
       "    }\n",
       "</style>\n",
       "<table border=\"1\" class=\"dataframe\">\n",
       "  <thead>\n",
       "    <tr style=\"text-align: right;\">\n",
       "      <th></th>\n",
       "      <th>naslov</th>\n",
       "      <th>stevilo_clenov</th>\n",
       "      <th>nova ocena</th>\n",
       "    </tr>\n",
       "  </thead>\n",
       "  <tbody>\n",
       "    <tr>\n",
       "      <th>1213</th>\n",
       "      <td>City Hunter</td>\n",
       "      <td>50411</td>\n",
       "      <td>2.79</td>\n",
       "    </tr>\n",
       "    <tr>\n",
       "      <th>1399</th>\n",
       "      <td>Kimagure Orange☆Road</td>\n",
       "      <td>33539</td>\n",
       "      <td>2.01</td>\n",
       "    </tr>\n",
       "    <tr>\n",
       "      <th>1616</th>\n",
       "      <td>Hokuto no Ken 2</td>\n",
       "      <td>23013</td>\n",
       "      <td>0.71</td>\n",
       "    </tr>\n",
       "  </tbody>\n",
       "</table>\n",
       "</div>"
      ],
      "text/plain": [
       "                    naslov  stevilo_clenov  nova ocena\n",
       "1213           City Hunter           50411        2.79\n",
       "1399  Kimagure Orange☆Road           33539        2.01\n",
       "1616       Hokuto no Ken 2           23013        0.71"
      ]
     },
     "metadata": {},
     "output_type": "display_data"
    },
    {
     "data": {
      "text/plain": [
       "1988.0"
      ]
     },
     "metadata": {},
     "output_type": "display_data"
    },
    {
     "data": {
      "text/html": [
       "<div>\n",
       "<style scoped>\n",
       "    .dataframe tbody tr th:only-of-type {\n",
       "        vertical-align: middle;\n",
       "    }\n",
       "\n",
       "    .dataframe tbody tr th {\n",
       "        vertical-align: top;\n",
       "    }\n",
       "\n",
       "    .dataframe thead th {\n",
       "        text-align: right;\n",
       "    }\n",
       "</style>\n",
       "<table border=\"1\" class=\"dataframe\">\n",
       "  <thead>\n",
       "    <tr style=\"text-align: right;\">\n",
       "      <th></th>\n",
       "      <th>naslov</th>\n",
       "      <th>stevilo_clenov</th>\n",
       "      <th>nova ocena</th>\n",
       "    </tr>\n",
       "  </thead>\n",
       "  <tbody>\n",
       "    <tr>\n",
       "      <th>1752</th>\n",
       "      <td>City Hunter 2</td>\n",
       "      <td>17980</td>\n",
       "      <td>0.68</td>\n",
       "    </tr>\n",
       "    <tr>\n",
       "      <th>1838</th>\n",
       "      <td>Yoroiden Samurai Troopers</td>\n",
       "      <td>15338</td>\n",
       "      <td>0.80</td>\n",
       "    </tr>\n",
       "    <tr>\n",
       "      <th>2060</th>\n",
       "      <td>Sakigake!! Otokojuku</td>\n",
       "      <td>9770</td>\n",
       "      <td>0.44</td>\n",
       "    </tr>\n",
       "  </tbody>\n",
       "</table>\n",
       "</div>"
      ],
      "text/plain": [
       "                         naslov  stevilo_clenov  nova ocena\n",
       "1752              City Hunter 2           17980        0.68\n",
       "1838  Yoroiden Samurai Troopers           15338        0.80\n",
       "2060       Sakigake!! Otokojuku            9770        0.44"
      ]
     },
     "metadata": {},
     "output_type": "display_data"
    },
    {
     "data": {
      "text/plain": [
       "1989.0"
      ]
     },
     "metadata": {},
     "output_type": "display_data"
    },
    {
     "data": {
      "text/html": [
       "<div>\n",
       "<style scoped>\n",
       "    .dataframe tbody tr th:only-of-type {\n",
       "        vertical-align: middle;\n",
       "    }\n",
       "\n",
       "    .dataframe tbody tr th {\n",
       "        vertical-align: top;\n",
       "    }\n",
       "\n",
       "    .dataframe thead th {\n",
       "        text-align: right;\n",
       "    }\n",
       "</style>\n",
       "<table border=\"1\" class=\"dataframe\">\n",
       "  <thead>\n",
       "    <tr style=\"text-align: right;\">\n",
       "      <th></th>\n",
       "      <th>naslov</th>\n",
       "      <th>stevilo_clenov</th>\n",
       "      <th>nova ocena</th>\n",
       "    </tr>\n",
       "  </thead>\n",
       "  <tbody>\n",
       "    <tr>\n",
       "      <th>71</th>\n",
       "      <td>Dragon Ball Z</td>\n",
       "      <td>841343</td>\n",
       "      <td>8.16</td>\n",
       "    </tr>\n",
       "    <tr>\n",
       "      <th>524</th>\n",
       "      <td>Ranma ½</td>\n",
       "      <td>187896</td>\n",
       "      <td>5.80</td>\n",
       "    </tr>\n",
       "    <tr>\n",
       "      <th>1498</th>\n",
       "      <td>Kidou Keisatsu Patlabor: On Television</td>\n",
       "      <td>28081</td>\n",
       "      <td>1.63</td>\n",
       "    </tr>\n",
       "  </tbody>\n",
       "</table>\n",
       "</div>"
      ],
      "text/plain": [
       "                                      naslov  stevilo_clenov  nova ocena\n",
       "71                             Dragon Ball Z          841343        8.16\n",
       "524                                  Ranma ½          187896        5.80\n",
       "1498  Kidou Keisatsu Patlabor: On Television           28081        1.63"
      ]
     },
     "metadata": {},
     "output_type": "display_data"
    },
    {
     "data": {
      "text/plain": [
       "1990.0"
      ]
     },
     "metadata": {},
     "output_type": "display_data"
    },
    {
     "data": {
      "text/html": [
       "<div>\n",
       "<style scoped>\n",
       "    .dataframe tbody tr th:only-of-type {\n",
       "        vertical-align: middle;\n",
       "    }\n",
       "\n",
       "    .dataframe tbody tr th {\n",
       "        vertical-align: top;\n",
       "    }\n",
       "\n",
       "    .dataframe thead th {\n",
       "        text-align: right;\n",
       "    }\n",
       "</style>\n",
       "<table border=\"1\" class=\"dataframe\">\n",
       "  <thead>\n",
       "    <tr style=\"text-align: right;\">\n",
       "      <th></th>\n",
       "      <th>naslov</th>\n",
       "      <th>stevilo_clenov</th>\n",
       "      <th>nova ocena</th>\n",
       "    </tr>\n",
       "  </thead>\n",
       "  <tbody>\n",
       "    <tr>\n",
       "      <th>1236</th>\n",
       "      <td>Fushigi no Umi no Nadia</td>\n",
       "      <td>48414</td>\n",
       "      <td>1.88</td>\n",
       "    </tr>\n",
       "    <tr>\n",
       "      <th>1774</th>\n",
       "      <td>Tanoshii Muumin Ikka</td>\n",
       "      <td>17396</td>\n",
       "      <td>1.96</td>\n",
       "    </tr>\n",
       "    <tr>\n",
       "      <th>1980</th>\n",
       "      <td>Watashi no Ashinaga Ojisan</td>\n",
       "      <td>11452</td>\n",
       "      <td>0.64</td>\n",
       "    </tr>\n",
       "  </tbody>\n",
       "</table>\n",
       "</div>"
      ],
      "text/plain": [
       "                          naslov  stevilo_clenov  nova ocena\n",
       "1236     Fushigi no Umi no Nadia           48414        1.88\n",
       "1774        Tanoshii Muumin Ikka           17396        1.96\n",
       "1980  Watashi no Ashinaga Ojisan           11452        0.64"
      ]
     },
     "metadata": {},
     "output_type": "display_data"
    },
    {
     "data": {
      "text/plain": [
       "1991.0"
      ]
     },
     "metadata": {},
     "output_type": "display_data"
    },
    {
     "data": {
      "text/html": [
       "<div>\n",
       "<style scoped>\n",
       "    .dataframe tbody tr th:only-of-type {\n",
       "        vertical-align: middle;\n",
       "    }\n",
       "\n",
       "    .dataframe tbody tr th {\n",
       "        vertical-align: top;\n",
       "    }\n",
       "\n",
       "    .dataframe thead th {\n",
       "        text-align: right;\n",
       "    }\n",
       "</style>\n",
       "<table border=\"1\" class=\"dataframe\">\n",
       "  <thead>\n",
       "    <tr style=\"text-align: right;\">\n",
       "      <th></th>\n",
       "      <th>naslov</th>\n",
       "      <th>stevilo_clenov</th>\n",
       "      <th>nova ocena</th>\n",
       "    </tr>\n",
       "  </thead>\n",
       "  <tbody>\n",
       "    <tr>\n",
       "      <th>1754</th>\n",
       "      <td>Dragon Quest: Dai no Daibouken (TV)</td>\n",
       "      <td>17961</td>\n",
       "      <td>0.63</td>\n",
       "    </tr>\n",
       "    <tr>\n",
       "      <th>1877</th>\n",
       "      <td>City Hunter &amp;#039;91</td>\n",
       "      <td>14082</td>\n",
       "      <td>0.29</td>\n",
       "    </tr>\n",
       "    <tr>\n",
       "      <th>2309</th>\n",
       "      <td>Trapp Ikka Monogatari</td>\n",
       "      <td>5779</td>\n",
       "      <td>0.15</td>\n",
       "    </tr>\n",
       "  </tbody>\n",
       "</table>\n",
       "</div>"
      ],
      "text/plain": [
       "                                   naslov  stevilo_clenov  nova ocena\n",
       "1754  Dragon Quest: Dai no Daibouken (TV)           17961        0.63\n",
       "1877                 City Hunter &#039;91           14082        0.29\n",
       "2309                Trapp Ikka Monogatari            5779        0.15"
      ]
     },
     "metadata": {},
     "output_type": "display_data"
    },
    {
     "data": {
      "text/plain": [
       "1992.0"
      ]
     },
     "metadata": {},
     "output_type": "display_data"
    },
    {
     "data": {
      "text/html": [
       "<div>\n",
       "<style scoped>\n",
       "    .dataframe tbody tr th:only-of-type {\n",
       "        vertical-align: middle;\n",
       "    }\n",
       "\n",
       "    .dataframe tbody tr th {\n",
       "        vertical-align: top;\n",
       "    }\n",
       "\n",
       "    .dataframe thead th {\n",
       "        text-align: right;\n",
       "    }\n",
       "</style>\n",
       "<table border=\"1\" class=\"dataframe\">\n",
       "  <thead>\n",
       "    <tr style=\"text-align: right;\">\n",
       "      <th></th>\n",
       "      <th>naslov</th>\n",
       "      <th>stevilo_clenov</th>\n",
       "      <th>nova ocena</th>\n",
       "    </tr>\n",
       "  </thead>\n",
       "  <tbody>\n",
       "    <tr>\n",
       "      <th>209</th>\n",
       "      <td>Yuu☆Yuu☆Hakusho</td>\n",
       "      <td>450090</td>\n",
       "      <td>8.12</td>\n",
       "    </tr>\n",
       "    <tr>\n",
       "      <th>381</th>\n",
       "      <td>Bishoujo Senshi Sailor Moon</td>\n",
       "      <td>264266</td>\n",
       "      <td>6.87</td>\n",
       "    </tr>\n",
       "    <tr>\n",
       "      <th>1906</th>\n",
       "      <td>Uchuu no Kishi Tekkaman Blade</td>\n",
       "      <td>13134</td>\n",
       "      <td>0.83</td>\n",
       "    </tr>\n",
       "  </tbody>\n",
       "</table>\n",
       "</div>"
      ],
      "text/plain": [
       "                             naslov  stevilo_clenov  nova ocena\n",
       "209                 Yuu☆Yuu☆Hakusho          450090        8.12\n",
       "381     Bishoujo Senshi Sailor Moon          264266        6.87\n",
       "1906  Uchuu no Kishi Tekkaman Blade           13134        0.83"
      ]
     },
     "metadata": {},
     "output_type": "display_data"
    },
    {
     "data": {
      "text/plain": [
       "1993.0"
      ]
     },
     "metadata": {},
     "output_type": "display_data"
    },
    {
     "data": {
      "text/html": [
       "<div>\n",
       "<style scoped>\n",
       "    .dataframe tbody tr th:only-of-type {\n",
       "        vertical-align: middle;\n",
       "    }\n",
       "\n",
       "    .dataframe tbody tr th {\n",
       "        vertical-align: top;\n",
       "    }\n",
       "\n",
       "    .dataframe thead th {\n",
       "        text-align: right;\n",
       "    }\n",
       "</style>\n",
       "<table border=\"1\" class=\"dataframe\">\n",
       "  <thead>\n",
       "    <tr style=\"text-align: right;\">\n",
       "      <th></th>\n",
       "      <th>naslov</th>\n",
       "      <th>stevilo_clenov</th>\n",
       "      <th>nova ocena</th>\n",
       "    </tr>\n",
       "  </thead>\n",
       "  <tbody>\n",
       "    <tr>\n",
       "      <th>511</th>\n",
       "      <td>Slam Dunk</td>\n",
       "      <td>190723</td>\n",
       "      <td>6.95</td>\n",
       "    </tr>\n",
       "    <tr>\n",
       "      <th>740</th>\n",
       "      <td>Bishoujo Senshi Sailor Moon R</td>\n",
       "      <td>117017</td>\n",
       "      <td>3.13</td>\n",
       "    </tr>\n",
       "    <tr>\n",
       "      <th>1350</th>\n",
       "      <td>Musekinin Kanchou Tylor</td>\n",
       "      <td>37345</td>\n",
       "      <td>2.06</td>\n",
       "    </tr>\n",
       "  </tbody>\n",
       "</table>\n",
       "</div>"
      ],
      "text/plain": [
       "                             naslov  stevilo_clenov  nova ocena\n",
       "511                       Slam Dunk          190723        6.95\n",
       "740   Bishoujo Senshi Sailor Moon R          117017        3.13\n",
       "1350        Musekinin Kanchou Tylor           37345        2.06"
      ]
     },
     "metadata": {},
     "output_type": "display_data"
    },
    {
     "data": {
      "text/plain": [
       "1994.0"
      ]
     },
     "metadata": {},
     "output_type": "display_data"
    },
    {
     "data": {
      "text/html": [
       "<div>\n",
       "<style scoped>\n",
       "    .dataframe tbody tr th:only-of-type {\n",
       "        vertical-align: middle;\n",
       "    }\n",
       "\n",
       "    .dataframe tbody tr th {\n",
       "        vertical-align: top;\n",
       "    }\n",
       "\n",
       "    .dataframe thead th {\n",
       "        text-align: right;\n",
       "    }\n",
       "</style>\n",
       "<table border=\"1\" class=\"dataframe\">\n",
       "  <thead>\n",
       "    <tr style=\"text-align: right;\">\n",
       "      <th></th>\n",
       "      <th>naslov</th>\n",
       "      <th>stevilo_clenov</th>\n",
       "      <th>nova ocena</th>\n",
       "    </tr>\n",
       "  </thead>\n",
       "  <tbody>\n",
       "    <tr>\n",
       "      <th>768</th>\n",
       "      <td>Bishoujo Senshi Sailor Moon S</td>\n",
       "      <td>108519</td>\n",
       "      <td>4.11</td>\n",
       "    </tr>\n",
       "    <tr>\n",
       "      <th>1160</th>\n",
       "      <td>Mobile Fighter G Gundam</td>\n",
       "      <td>54387</td>\n",
       "      <td>3.03</td>\n",
       "    </tr>\n",
       "    <tr>\n",
       "      <th>1186</th>\n",
       "      <td>Magic Knight Rayearth</td>\n",
       "      <td>52386</td>\n",
       "      <td>2.18</td>\n",
       "    </tr>\n",
       "  </tbody>\n",
       "</table>\n",
       "</div>"
      ],
      "text/plain": [
       "                             naslov  stevilo_clenov  nova ocena\n",
       "768   Bishoujo Senshi Sailor Moon S          108519        4.11\n",
       "1160        Mobile Fighter G Gundam           54387        3.03\n",
       "1186          Magic Knight Rayearth           52386        2.18"
      ]
     },
     "metadata": {},
     "output_type": "display_data"
    },
    {
     "data": {
      "text/plain": [
       "1995.0"
      ]
     },
     "metadata": {},
     "output_type": "display_data"
    },
    {
     "data": {
      "text/html": [
       "<div>\n",
       "<style scoped>\n",
       "    .dataframe tbody tr th:only-of-type {\n",
       "        vertical-align: middle;\n",
       "    }\n",
       "\n",
       "    .dataframe tbody tr th {\n",
       "        vertical-align: top;\n",
       "    }\n",
       "\n",
       "    .dataframe thead th {\n",
       "        text-align: right;\n",
       "    }\n",
       "</style>\n",
       "<table border=\"1\" class=\"dataframe\">\n",
       "  <thead>\n",
       "    <tr style=\"text-align: right;\">\n",
       "      <th></th>\n",
       "      <th>naslov</th>\n",
       "      <th>stevilo_clenov</th>\n",
       "      <th>nova ocena</th>\n",
       "    </tr>\n",
       "  </thead>\n",
       "  <tbody>\n",
       "    <tr>\n",
       "      <th>43</th>\n",
       "      <td>Neon Genesis Evangelion</td>\n",
       "      <td>1079668</td>\n",
       "      <td>8.50</td>\n",
       "    </tr>\n",
       "    <tr>\n",
       "      <th>748</th>\n",
       "      <td>Slayers</td>\n",
       "      <td>114762</td>\n",
       "      <td>4.68</td>\n",
       "    </tr>\n",
       "    <tr>\n",
       "      <th>852</th>\n",
       "      <td>Fushigi Yuugi</td>\n",
       "      <td>94761</td>\n",
       "      <td>4.84</td>\n",
       "    </tr>\n",
       "  </tbody>\n",
       "</table>\n",
       "</div>"
      ],
      "text/plain": [
       "                      naslov  stevilo_clenov  nova ocena\n",
       "43   Neon Genesis Evangelion         1079668        8.50\n",
       "748                  Slayers          114762        4.68\n",
       "852            Fushigi Yuugi           94761        4.84"
      ]
     },
     "metadata": {},
     "output_type": "display_data"
    },
    {
     "data": {
      "text/plain": [
       "1996.0"
      ]
     },
     "metadata": {},
     "output_type": "display_data"
    },
    {
     "data": {
      "text/html": [
       "<div>\n",
       "<style scoped>\n",
       "    .dataframe tbody tr th:only-of-type {\n",
       "        vertical-align: middle;\n",
       "    }\n",
       "\n",
       "    .dataframe tbody tr th {\n",
       "        vertical-align: top;\n",
       "    }\n",
       "\n",
       "    .dataframe thead th {\n",
       "        text-align: right;\n",
       "    }\n",
       "</style>\n",
       "<table border=\"1\" class=\"dataframe\">\n",
       "  <thead>\n",
       "    <tr style=\"text-align: right;\">\n",
       "      <th></th>\n",
       "      <th>naslov</th>\n",
       "      <th>stevilo_clenov</th>\n",
       "      <th>nova ocena</th>\n",
       "    </tr>\n",
       "  </thead>\n",
       "  <tbody>\n",
       "    <tr>\n",
       "      <th>207</th>\n",
       "      <td>Dragon Ball GT</td>\n",
       "      <td>451652</td>\n",
       "      <td>3.96</td>\n",
       "    </tr>\n",
       "    <tr>\n",
       "      <th>263</th>\n",
       "      <td>Rurouni Kenshin: Meiji Kenkaku Romantan</td>\n",
       "      <td>375015</td>\n",
       "      <td>7.68</td>\n",
       "    </tr>\n",
       "    <tr>\n",
       "      <th>701</th>\n",
       "      <td>Tenkuu no Escaflowne</td>\n",
       "      <td>125153</td>\n",
       "      <td>4.78</td>\n",
       "    </tr>\n",
       "  </tbody>\n",
       "</table>\n",
       "</div>"
      ],
      "text/plain": [
       "                                      naslov  stevilo_clenov  nova ocena\n",
       "207                           Dragon Ball GT          451652        3.96\n",
       "263  Rurouni Kenshin: Meiji Kenkaku Romantan          375015        7.68\n",
       "701                     Tenkuu no Escaflowne          125153        4.78"
      ]
     },
     "metadata": {},
     "output_type": "display_data"
    },
    {
     "data": {
      "text/plain": [
       "1997.0"
      ]
     },
     "metadata": {},
     "output_type": "display_data"
    },
    {
     "data": {
      "text/html": [
       "<div>\n",
       "<style scoped>\n",
       "    .dataframe tbody tr th:only-of-type {\n",
       "        vertical-align: middle;\n",
       "    }\n",
       "\n",
       "    .dataframe tbody tr th {\n",
       "        vertical-align: top;\n",
       "    }\n",
       "\n",
       "    .dataframe thead th {\n",
       "        text-align: right;\n",
       "    }\n",
       "</style>\n",
       "<table border=\"1\" class=\"dataframe\">\n",
       "  <thead>\n",
       "    <tr style=\"text-align: right;\">\n",
       "      <th></th>\n",
       "      <th>naslov</th>\n",
       "      <th>stevilo_clenov</th>\n",
       "      <th>nova ocena</th>\n",
       "    </tr>\n",
       "  </thead>\n",
       "  <tbody>\n",
       "    <tr>\n",
       "      <th>218</th>\n",
       "      <td>Pokemon</td>\n",
       "      <td>440749</td>\n",
       "      <td>6.00</td>\n",
       "    </tr>\n",
       "    <tr>\n",
       "      <th>232</th>\n",
       "      <td>Kenpuu Denki Berserk</td>\n",
       "      <td>417276</td>\n",
       "      <td>8.16</td>\n",
       "    </tr>\n",
       "    <tr>\n",
       "      <th>628</th>\n",
       "      <td>Shoujo Kakumei Utena</td>\n",
       "      <td>150803</td>\n",
       "      <td>6.83</td>\n",
       "    </tr>\n",
       "  </tbody>\n",
       "</table>\n",
       "</div>"
      ],
      "text/plain": [
       "                   naslov  stevilo_clenov  nova ocena\n",
       "218               Pokemon          440749        6.00\n",
       "232  Kenpuu Denki Berserk          417276        8.16\n",
       "628  Shoujo Kakumei Utena          150803        6.83"
      ]
     },
     "metadata": {},
     "output_type": "display_data"
    },
    {
     "data": {
      "text/plain": [
       "1998.0"
      ]
     },
     "metadata": {},
     "output_type": "display_data"
    },
    {
     "data": {
      "text/html": [
       "<div>\n",
       "<style scoped>\n",
       "    .dataframe tbody tr th:only-of-type {\n",
       "        vertical-align: middle;\n",
       "    }\n",
       "\n",
       "    .dataframe tbody tr th {\n",
       "        vertical-align: top;\n",
       "    }\n",
       "\n",
       "    .dataframe thead th {\n",
       "        text-align: right;\n",
       "    }\n",
       "</style>\n",
       "<table border=\"1\" class=\"dataframe\">\n",
       "  <thead>\n",
       "    <tr style=\"text-align: right;\">\n",
       "      <th></th>\n",
       "      <th>naslov</th>\n",
       "      <th>stevilo_clenov</th>\n",
       "      <th>nova ocena</th>\n",
       "    </tr>\n",
       "  </thead>\n",
       "  <tbody>\n",
       "    <tr>\n",
       "      <th>30</th>\n",
       "      <td>Cowboy Bebop</td>\n",
       "      <td>1176190</td>\n",
       "      <td>8.97</td>\n",
       "    </tr>\n",
       "    <tr>\n",
       "      <th>158</th>\n",
       "      <td>Trigun</td>\n",
       "      <td>537643</td>\n",
       "      <td>7.74</td>\n",
       "    </tr>\n",
       "    <tr>\n",
       "      <th>204</th>\n",
       "      <td>Serial Experiments Lain</td>\n",
       "      <td>452912</td>\n",
       "      <td>7.67</td>\n",
       "    </tr>\n",
       "  </tbody>\n",
       "</table>\n",
       "</div>"
      ],
      "text/plain": [
       "                      naslov  stevilo_clenov  nova ocena\n",
       "30              Cowboy Bebop         1176190        8.97\n",
       "158                   Trigun          537643        7.74\n",
       "204  Serial Experiments Lain          452912        7.67"
      ]
     },
     "metadata": {},
     "output_type": "display_data"
    },
    {
     "data": {
      "text/plain": [
       "1999.0"
      ]
     },
     "metadata": {},
     "output_type": "display_data"
    },
    {
     "data": {
      "text/html": [
       "<div>\n",
       "<style scoped>\n",
       "    .dataframe tbody tr th:only-of-type {\n",
       "        vertical-align: middle;\n",
       "    }\n",
       "\n",
       "    .dataframe tbody tr th {\n",
       "        vertical-align: top;\n",
       "    }\n",
       "\n",
       "    .dataframe thead th {\n",
       "        text-align: right;\n",
       "    }\n",
       "</style>\n",
       "<table border=\"1\" class=\"dataframe\">\n",
       "  <thead>\n",
       "    <tr style=\"text-align: right;\">\n",
       "      <th></th>\n",
       "      <th>naslov</th>\n",
       "      <th>stevilo_clenov</th>\n",
       "      <th>nova ocena</th>\n",
       "    </tr>\n",
       "  </thead>\n",
       "  <tbody>\n",
       "    <tr>\n",
       "      <th>149</th>\n",
       "      <td>Great Teacher Onizuka</td>\n",
       "      <td>560177</td>\n",
       "      <td>8.47</td>\n",
       "    </tr>\n",
       "    <tr>\n",
       "      <th>252</th>\n",
       "      <td>Hunter x Hunter</td>\n",
       "      <td>390039</td>\n",
       "      <td>7.60</td>\n",
       "    </tr>\n",
       "    <tr>\n",
       "      <th>318</th>\n",
       "      <td>Digimon Adventure</td>\n",
       "      <td>314547</td>\n",
       "      <td>6.32</td>\n",
       "    </tr>\n",
       "  </tbody>\n",
       "</table>\n",
       "</div>"
      ],
      "text/plain": [
       "                    naslov  stevilo_clenov  nova ocena\n",
       "149  Great Teacher Onizuka          560177        8.47\n",
       "252        Hunter x Hunter          390039        7.60\n",
       "318      Digimon Adventure          314547        6.32"
      ]
     },
     "metadata": {},
     "output_type": "display_data"
    },
    {
     "data": {
      "text/plain": [
       "2000.0"
      ]
     },
     "metadata": {},
     "output_type": "display_data"
    },
    {
     "data": {
      "text/html": [
       "<div>\n",
       "<style scoped>\n",
       "    .dataframe tbody tr th:only-of-type {\n",
       "        vertical-align: middle;\n",
       "    }\n",
       "\n",
       "    .dataframe tbody tr th {\n",
       "        vertical-align: top;\n",
       "    }\n",
       "\n",
       "    .dataframe thead th {\n",
       "        text-align: right;\n",
       "    }\n",
       "</style>\n",
       "<table border=\"1\" class=\"dataframe\">\n",
       "  <thead>\n",
       "    <tr style=\"text-align: right;\">\n",
       "      <th></th>\n",
       "      <th>naslov</th>\n",
       "      <th>stevilo_clenov</th>\n",
       "      <th>nova ocena</th>\n",
       "    </tr>\n",
       "  </thead>\n",
       "  <tbody>\n",
       "    <tr>\n",
       "      <th>151</th>\n",
       "      <td>InuYasha</td>\n",
       "      <td>557862</td>\n",
       "      <td>7.55</td>\n",
       "    </tr>\n",
       "    <tr>\n",
       "      <th>268</th>\n",
       "      <td>Hajime no Ippo</td>\n",
       "      <td>367801</td>\n",
       "      <td>8.31</td>\n",
       "    </tr>\n",
       "    <tr>\n",
       "      <th>365</th>\n",
       "      <td>Yu☆Gi☆Oh! Duel Monsters</td>\n",
       "      <td>277640</td>\n",
       "      <td>5.69</td>\n",
       "    </tr>\n",
       "  </tbody>\n",
       "</table>\n",
       "</div>"
      ],
      "text/plain": [
       "                      naslov  stevilo_clenov  nova ocena\n",
       "151                 InuYasha          557862        7.55\n",
       "268           Hajime no Ippo          367801        8.31\n",
       "365  Yu☆Gi☆Oh! Duel Monsters          277640        5.69"
      ]
     },
     "metadata": {},
     "output_type": "display_data"
    },
    {
     "data": {
      "text/plain": [
       "2001.0"
      ]
     },
     "metadata": {},
     "output_type": "display_data"
    },
    {
     "data": {
      "text/html": [
       "<div>\n",
       "<style scoped>\n",
       "    .dataframe tbody tr th:only-of-type {\n",
       "        vertical-align: middle;\n",
       "    }\n",
       "\n",
       "    .dataframe tbody tr th {\n",
       "        vertical-align: top;\n",
       "    }\n",
       "\n",
       "    .dataframe thead th {\n",
       "        text-align: right;\n",
       "    }\n",
       "</style>\n",
       "<table border=\"1\" class=\"dataframe\">\n",
       "  <thead>\n",
       "    <tr style=\"text-align: right;\">\n",
       "      <th></th>\n",
       "      <th>naslov</th>\n",
       "      <th>stevilo_clenov</th>\n",
       "      <th>nova ocena</th>\n",
       "    </tr>\n",
       "  </thead>\n",
       "  <tbody>\n",
       "    <tr>\n",
       "      <th>162</th>\n",
       "      <td>Hellsing</td>\n",
       "      <td>530899</td>\n",
       "      <td>6.35</td>\n",
       "    </tr>\n",
       "    <tr>\n",
       "      <th>241</th>\n",
       "      <td>Fruits Basket</td>\n",
       "      <td>404237</td>\n",
       "      <td>6.97</td>\n",
       "    </tr>\n",
       "    <tr>\n",
       "      <th>350</th>\n",
       "      <td>Shaman King</td>\n",
       "      <td>286200</td>\n",
       "      <td>5.89</td>\n",
       "    </tr>\n",
       "  </tbody>\n",
       "</table>\n",
       "</div>"
      ],
      "text/plain": [
       "            naslov  stevilo_clenov  nova ocena\n",
       "162       Hellsing          530899        6.35\n",
       "241  Fruits Basket          404237        6.97\n",
       "350    Shaman King          286200        5.89"
      ]
     },
     "metadata": {},
     "output_type": "display_data"
    },
    {
     "data": {
      "text/plain": [
       "2002.0"
      ]
     },
     "metadata": {},
     "output_type": "display_data"
    },
    {
     "data": {
      "text/html": [
       "<div>\n",
       "<style scoped>\n",
       "    .dataframe tbody tr th:only-of-type {\n",
       "        vertical-align: middle;\n",
       "    }\n",
       "\n",
       "    .dataframe tbody tr th {\n",
       "        vertical-align: top;\n",
       "    }\n",
       "\n",
       "    .dataframe thead th {\n",
       "        text-align: right;\n",
       "    }\n",
       "</style>\n",
       "<table border=\"1\" class=\"dataframe\">\n",
       "  <thead>\n",
       "    <tr style=\"text-align: right;\">\n",
       "      <th></th>\n",
       "      <th>naslov</th>\n",
       "      <th>stevilo_clenov</th>\n",
       "      <th>nova ocena</th>\n",
       "    </tr>\n",
       "  </thead>\n",
       "  <tbody>\n",
       "    <tr>\n",
       "      <th>7</th>\n",
       "      <td>Naruto</td>\n",
       "      <td>1699431</td>\n",
       "      <td>8.09</td>\n",
       "    </tr>\n",
       "    <tr>\n",
       "      <th>242</th>\n",
       "      <td>Full Metal Panic!</td>\n",
       "      <td>403180</td>\n",
       "      <td>6.12</td>\n",
       "    </tr>\n",
       "    <tr>\n",
       "      <th>313</th>\n",
       "      <td>Koukaku Kidoutai: Stand Alone Complex</td>\n",
       "      <td>319684</td>\n",
       "      <td>7.48</td>\n",
       "    </tr>\n",
       "  </tbody>\n",
       "</table>\n",
       "</div>"
      ],
      "text/plain": [
       "                                    naslov  stevilo_clenov  nova ocena\n",
       "7                                   Naruto         1699431        8.09\n",
       "242                      Full Metal Panic!          403180        6.12\n",
       "313  Koukaku Kidoutai: Stand Alone Complex          319684        7.48"
      ]
     },
     "metadata": {},
     "output_type": "display_data"
    },
    {
     "data": {
      "text/plain": [
       "2003.0"
      ]
     },
     "metadata": {},
     "output_type": "display_data"
    },
    {
     "data": {
      "text/html": [
       "<div>\n",
       "<style scoped>\n",
       "    .dataframe tbody tr th:only-of-type {\n",
       "        vertical-align: middle;\n",
       "    }\n",
       "\n",
       "    .dataframe tbody tr th {\n",
       "        vertical-align: top;\n",
       "    }\n",
       "\n",
       "    .dataframe thead th {\n",
       "        text-align: right;\n",
       "    }\n",
       "</style>\n",
       "<table border=\"1\" class=\"dataframe\">\n",
       "  <thead>\n",
       "    <tr style=\"text-align: right;\">\n",
       "      <th></th>\n",
       "      <th>naslov</th>\n",
       "      <th>stevilo_clenov</th>\n",
       "      <th>nova ocena</th>\n",
       "    </tr>\n",
       "  </thead>\n",
       "  <tbody>\n",
       "    <tr>\n",
       "      <th>41</th>\n",
       "      <td>Fullmetal Alchemist</td>\n",
       "      <td>1109876</td>\n",
       "      <td>8.13</td>\n",
       "    </tr>\n",
       "    <tr>\n",
       "      <th>383</th>\n",
       "      <td>Wolf&amp;#039;s Rain</td>\n",
       "      <td>263483</td>\n",
       "      <td>6.51</td>\n",
       "    </tr>\n",
       "    <tr>\n",
       "      <th>406</th>\n",
       "      <td>Full Metal Panic? Fumoffu</td>\n",
       "      <td>250163</td>\n",
       "      <td>5.78</td>\n",
       "    </tr>\n",
       "  </tbody>\n",
       "</table>\n",
       "</div>"
      ],
      "text/plain": [
       "                        naslov  stevilo_clenov  nova ocena\n",
       "41         Fullmetal Alchemist         1109876        8.13\n",
       "383           Wolf&#039;s Rain          263483        6.51\n",
       "406  Full Metal Panic? Fumoffu          250163        5.78"
      ]
     },
     "metadata": {},
     "output_type": "display_data"
    },
    {
     "data": {
      "text/plain": [
       "2004.0"
      ]
     },
     "metadata": {},
     "output_type": "display_data"
    },
    {
     "data": {
      "text/html": [
       "<div>\n",
       "<style scoped>\n",
       "    .dataframe tbody tr th:only-of-type {\n",
       "        vertical-align: middle;\n",
       "    }\n",
       "\n",
       "    .dataframe tbody tr th {\n",
       "        vertical-align: top;\n",
       "    }\n",
       "\n",
       "    .dataframe thead th {\n",
       "        text-align: right;\n",
       "    }\n",
       "</style>\n",
       "<table border=\"1\" class=\"dataframe\">\n",
       "  <thead>\n",
       "    <tr style=\"text-align: right;\">\n",
       "      <th></th>\n",
       "      <th>naslov</th>\n",
       "      <th>stevilo_clenov</th>\n",
       "      <th>nova ocena</th>\n",
       "    </tr>\n",
       "  </thead>\n",
       "  <tbody>\n",
       "    <tr>\n",
       "      <th>26</th>\n",
       "      <td>Bleach</td>\n",
       "      <td>1222959</td>\n",
       "      <td>7.94</td>\n",
       "    </tr>\n",
       "    <tr>\n",
       "      <th>39</th>\n",
       "      <td>Elfen Lied</td>\n",
       "      <td>1147146</td>\n",
       "      <td>7.49</td>\n",
       "    </tr>\n",
       "    <tr>\n",
       "      <th>70</th>\n",
       "      <td>Samurai Champloo</td>\n",
       "      <td>848820</td>\n",
       "      <td>8.46</td>\n",
       "    </tr>\n",
       "  </tbody>\n",
       "</table>\n",
       "</div>"
      ],
      "text/plain": [
       "              naslov  stevilo_clenov  nova ocena\n",
       "26            Bleach         1222959        7.94\n",
       "39        Elfen Lied         1147146        7.49\n",
       "70  Samurai Champloo          848820        8.46"
      ]
     },
     "metadata": {},
     "output_type": "display_data"
    },
    {
     "data": {
      "text/plain": [
       "2005.0"
      ]
     },
     "metadata": {},
     "output_type": "display_data"
    },
    {
     "data": {
      "text/html": [
       "<div>\n",
       "<style scoped>\n",
       "    .dataframe tbody tr th:only-of-type {\n",
       "        vertical-align: middle;\n",
       "    }\n",
       "\n",
       "    .dataframe tbody tr th {\n",
       "        vertical-align: top;\n",
       "    }\n",
       "\n",
       "    .dataframe thead th {\n",
       "        text-align: right;\n",
       "    }\n",
       "</style>\n",
       "<table border=\"1\" class=\"dataframe\">\n",
       "  <thead>\n",
       "    <tr style=\"text-align: right;\">\n",
       "      <th></th>\n",
       "      <th>naslov</th>\n",
       "      <th>stevilo_clenov</th>\n",
       "      <th>nova ocena</th>\n",
       "    </tr>\n",
       "  </thead>\n",
       "  <tbody>\n",
       "    <tr>\n",
       "      <th>136</th>\n",
       "      <td>Mushishi</td>\n",
       "      <td>593597</td>\n",
       "      <td>8.53</td>\n",
       "    </tr>\n",
       "    <tr>\n",
       "      <th>205</th>\n",
       "      <td>Shakugan no Shana</td>\n",
       "      <td>452697</td>\n",
       "      <td>6.30</td>\n",
       "    </tr>\n",
       "    <tr>\n",
       "      <th>267</th>\n",
       "      <td>Koukyoushihen Eureka Seven</td>\n",
       "      <td>372700</td>\n",
       "      <td>7.31</td>\n",
       "    </tr>\n",
       "  </tbody>\n",
       "</table>\n",
       "</div>"
      ],
      "text/plain": [
       "                         naslov  stevilo_clenov  nova ocena\n",
       "136                    Mushishi          593597        8.53\n",
       "205           Shakugan no Shana          452697        6.30\n",
       "267  Koukyoushihen Eureka Seven          372700        7.31"
      ]
     },
     "metadata": {},
     "output_type": "display_data"
    },
    {
     "data": {
      "text/plain": [
       "2006.0"
      ]
     },
     "metadata": {},
     "output_type": "display_data"
    },
    {
     "data": {
      "text/html": [
       "<div>\n",
       "<style scoped>\n",
       "    .dataframe tbody tr th:only-of-type {\n",
       "        vertical-align: middle;\n",
       "    }\n",
       "\n",
       "    .dataframe tbody tr th {\n",
       "        vertical-align: top;\n",
       "    }\n",
       "\n",
       "    .dataframe thead th {\n",
       "        text-align: right;\n",
       "    }\n",
       "</style>\n",
       "<table border=\"1\" class=\"dataframe\">\n",
       "  <thead>\n",
       "    <tr style=\"text-align: right;\">\n",
       "      <th></th>\n",
       "      <th>naslov</th>\n",
       "      <th>stevilo_clenov</th>\n",
       "      <th>nova ocena</th>\n",
       "    </tr>\n",
       "  </thead>\n",
       "  <tbody>\n",
       "    <tr>\n",
       "      <th>0</th>\n",
       "      <td>Death Note</td>\n",
       "      <td>2410185</td>\n",
       "      <td>8.95</td>\n",
       "    </tr>\n",
       "    <tr>\n",
       "      <th>11</th>\n",
       "      <td>Code Geass: Hangyaku no Lelouch</td>\n",
       "      <td>1505432</td>\n",
       "      <td>8.98</td>\n",
       "    </tr>\n",
       "    <tr>\n",
       "      <th>87</th>\n",
       "      <td>Ouran Koukou Host Club</td>\n",
       "      <td>782336</td>\n",
       "      <td>8.17</td>\n",
       "    </tr>\n",
       "  </tbody>\n",
       "</table>\n",
       "</div>"
      ],
      "text/plain": [
       "                             naslov  stevilo_clenov  nova ocena\n",
       "0                        Death Note         2410185        8.95\n",
       "11  Code Geass: Hangyaku no Lelouch         1505432        8.98\n",
       "87           Ouran Koukou Host Club          782336        8.17"
      ]
     },
     "metadata": {},
     "output_type": "display_data"
    },
    {
     "data": {
      "text/plain": [
       "2007.0"
      ]
     },
     "metadata": {},
     "output_type": "display_data"
    },
    {
     "data": {
      "text/html": [
       "<div>\n",
       "<style scoped>\n",
       "    .dataframe tbody tr th:only-of-type {\n",
       "        vertical-align: middle;\n",
       "    }\n",
       "\n",
       "    .dataframe tbody tr th {\n",
       "        vertical-align: top;\n",
       "    }\n",
       "\n",
       "    .dataframe thead th {\n",
       "        text-align: right;\n",
       "    }\n",
       "</style>\n",
       "<table border=\"1\" class=\"dataframe\">\n",
       "  <thead>\n",
       "    <tr style=\"text-align: right;\">\n",
       "      <th></th>\n",
       "      <th>naslov</th>\n",
       "      <th>stevilo_clenov</th>\n",
       "      <th>nova ocena</th>\n",
       "    </tr>\n",
       "  </thead>\n",
       "  <tbody>\n",
       "    <tr>\n",
       "      <th>16</th>\n",
       "      <td>Naruto: Shippuuden</td>\n",
       "      <td>1419619</td>\n",
       "      <td>8.38</td>\n",
       "    </tr>\n",
       "    <tr>\n",
       "      <th>33</th>\n",
       "      <td>Tengen Toppa Gurren Lagann</td>\n",
       "      <td>1168282</td>\n",
       "      <td>8.87</td>\n",
       "    </tr>\n",
       "    <tr>\n",
       "      <th>46</th>\n",
       "      <td>Clannad</td>\n",
       "      <td>1051129</td>\n",
       "      <td>8.04</td>\n",
       "    </tr>\n",
       "  </tbody>\n",
       "</table>\n",
       "</div>"
      ],
      "text/plain": [
       "                        naslov  stevilo_clenov  nova ocena\n",
       "16          Naruto: Shippuuden         1419619        8.38\n",
       "33  Tengen Toppa Gurren Lagann         1168282        8.87\n",
       "46                     Clannad         1051129        8.04"
      ]
     },
     "metadata": {},
     "output_type": "display_data"
    },
    {
     "data": {
      "text/plain": [
       "2008.0"
      ]
     },
     "metadata": {},
     "output_type": "display_data"
    },
    {
     "data": {
      "text/html": [
       "<div>\n",
       "<style scoped>\n",
       "    .dataframe tbody tr th:only-of-type {\n",
       "        vertical-align: middle;\n",
       "    }\n",
       "\n",
       "    .dataframe tbody tr th {\n",
       "        vertical-align: top;\n",
       "    }\n",
       "\n",
       "    .dataframe thead th {\n",
       "        text-align: right;\n",
       "    }\n",
       "</style>\n",
       "<table border=\"1\" class=\"dataframe\">\n",
       "  <thead>\n",
       "    <tr style=\"text-align: right;\">\n",
       "      <th></th>\n",
       "      <th>naslov</th>\n",
       "      <th>stevilo_clenov</th>\n",
       "      <th>nova ocena</th>\n",
       "    </tr>\n",
       "  </thead>\n",
       "  <tbody>\n",
       "    <tr>\n",
       "      <th>13</th>\n",
       "      <td>Toradora!</td>\n",
       "      <td>1465022</td>\n",
       "      <td>8.40</td>\n",
       "    </tr>\n",
       "    <tr>\n",
       "      <th>28</th>\n",
       "      <td>Code Geass: Hangyaku no Lelouch R2</td>\n",
       "      <td>1206854</td>\n",
       "      <td>9.11</td>\n",
       "    </tr>\n",
       "    <tr>\n",
       "      <th>32</th>\n",
       "      <td>Soul Eater</td>\n",
       "      <td>1168461</td>\n",
       "      <td>7.79</td>\n",
       "    </tr>\n",
       "  </tbody>\n",
       "</table>\n",
       "</div>"
      ],
      "text/plain": [
       "                                naslov  stevilo_clenov  nova ocena\n",
       "13                           Toradora!         1465022        8.40\n",
       "28  Code Geass: Hangyaku no Lelouch R2         1206854        9.11\n",
       "32                          Soul Eater         1168461        7.79"
      ]
     },
     "metadata": {},
     "output_type": "display_data"
    },
    {
     "data": {
      "text/plain": [
       "2009.0"
      ]
     },
     "metadata": {},
     "output_type": "display_data"
    },
    {
     "data": {
      "text/html": [
       "<div>\n",
       "<style scoped>\n",
       "    .dataframe tbody tr th:only-of-type {\n",
       "        vertical-align: middle;\n",
       "    }\n",
       "\n",
       "    .dataframe tbody tr th {\n",
       "        vertical-align: top;\n",
       "    }\n",
       "\n",
       "    .dataframe thead th {\n",
       "        text-align: right;\n",
       "    }\n",
       "</style>\n",
       "<table border=\"1\" class=\"dataframe\">\n",
       "  <thead>\n",
       "    <tr style=\"text-align: right;\">\n",
       "      <th></th>\n",
       "      <th>naslov</th>\n",
       "      <th>stevilo_clenov</th>\n",
       "      <th>nova ocena</th>\n",
       "    </tr>\n",
       "  </thead>\n",
       "  <tbody>\n",
       "    <tr>\n",
       "      <th>2</th>\n",
       "      <td>Fullmetal Alchemist: Brotherhood</td>\n",
       "      <td>2090273</td>\n",
       "      <td>9.56</td>\n",
       "    </tr>\n",
       "    <tr>\n",
       "      <th>24</th>\n",
       "      <td>Fairy Tail</td>\n",
       "      <td>1254179</td>\n",
       "      <td>7.82</td>\n",
       "    </tr>\n",
       "    <tr>\n",
       "      <th>50</th>\n",
       "      <td>Bakemonogatari</td>\n",
       "      <td>1018288</td>\n",
       "      <td>8.44</td>\n",
       "    </tr>\n",
       "  </tbody>\n",
       "</table>\n",
       "</div>"
      ],
      "text/plain": [
       "                              naslov  stevilo_clenov  nova ocena\n",
       "2   Fullmetal Alchemist: Brotherhood         2090273        9.56\n",
       "24                        Fairy Tail         1254179        7.82\n",
       "50                    Bakemonogatari         1018288        8.44"
      ]
     },
     "metadata": {},
     "output_type": "display_data"
    },
    {
     "data": {
      "text/plain": [
       "2010.0"
      ]
     },
     "metadata": {},
     "output_type": "display_data"
    },
    {
     "data": {
      "text/html": [
       "<div>\n",
       "<style scoped>\n",
       "    .dataframe tbody tr th:only-of-type {\n",
       "        vertical-align: middle;\n",
       "    }\n",
       "\n",
       "    .dataframe tbody tr th {\n",
       "        vertical-align: top;\n",
       "    }\n",
       "\n",
       "    .dataframe thead th {\n",
       "        text-align: right;\n",
       "    }\n",
       "</style>\n",
       "<table border=\"1\" class=\"dataframe\">\n",
       "  <thead>\n",
       "    <tr style=\"text-align: right;\">\n",
       "      <th></th>\n",
       "      <th>naslov</th>\n",
       "      <th>stevilo_clenov</th>\n",
       "      <th>nova ocena</th>\n",
       "    </tr>\n",
       "  </thead>\n",
       "  <tbody>\n",
       "    <tr>\n",
       "      <th>10</th>\n",
       "      <td>Angel Beats!</td>\n",
       "      <td>1515002</td>\n",
       "      <td>8.30</td>\n",
       "    </tr>\n",
       "    <tr>\n",
       "      <th>45</th>\n",
       "      <td>Durarara!!</td>\n",
       "      <td>1067100</td>\n",
       "      <td>8.18</td>\n",
       "    </tr>\n",
       "    <tr>\n",
       "      <th>80</th>\n",
       "      <td>Kaichou wa Maid-sama!</td>\n",
       "      <td>823461</td>\n",
       "      <td>7.87</td>\n",
       "    </tr>\n",
       "  </tbody>\n",
       "</table>\n",
       "</div>"
      ],
      "text/plain": [
       "                   naslov  stevilo_clenov  nova ocena\n",
       "10           Angel Beats!         1515002        8.30\n",
       "45             Durarara!!         1067100        8.18\n",
       "80  Kaichou wa Maid-sama!          823461        7.87"
      ]
     },
     "metadata": {},
     "output_type": "display_data"
    },
    {
     "data": {
      "text/plain": [
       "2011.0"
      ]
     },
     "metadata": {},
     "output_type": "display_data"
    },
    {
     "data": {
      "text/html": [
       "<div>\n",
       "<style scoped>\n",
       "    .dataframe tbody tr th:only-of-type {\n",
       "        vertical-align: middle;\n",
       "    }\n",
       "\n",
       "    .dataframe tbody tr th {\n",
       "        vertical-align: top;\n",
       "    }\n",
       "\n",
       "    .dataframe thead th {\n",
       "        text-align: right;\n",
       "    }\n",
       "</style>\n",
       "<table border=\"1\" class=\"dataframe\">\n",
       "  <thead>\n",
       "    <tr style=\"text-align: right;\">\n",
       "      <th></th>\n",
       "      <th>naslov</th>\n",
       "      <th>stevilo_clenov</th>\n",
       "      <th>nova ocena</th>\n",
       "    </tr>\n",
       "  </thead>\n",
       "  <tbody>\n",
       "    <tr>\n",
       "      <th>8</th>\n",
       "      <td>Steins;Gate</td>\n",
       "      <td>1681837</td>\n",
       "      <td>9.45</td>\n",
       "    </tr>\n",
       "    <tr>\n",
       "      <th>9</th>\n",
       "      <td>Hunter x Hunter (2011)</td>\n",
       "      <td>1529228</td>\n",
       "      <td>9.43</td>\n",
       "    </tr>\n",
       "    <tr>\n",
       "      <th>14</th>\n",
       "      <td>Mirai Nikki</td>\n",
       "      <td>1459894</td>\n",
       "      <td>7.57</td>\n",
       "    </tr>\n",
       "  </tbody>\n",
       "</table>\n",
       "</div>"
      ],
      "text/plain": [
       "                    naslov  stevilo_clenov  nova ocena\n",
       "8              Steins;Gate         1681837        9.45\n",
       "9   Hunter x Hunter (2011)         1529228        9.43\n",
       "14             Mirai Nikki         1459894        7.57"
      ]
     },
     "metadata": {},
     "output_type": "display_data"
    },
    {
     "data": {
      "text/plain": [
       "2012.0"
      ]
     },
     "metadata": {},
     "output_type": "display_data"
    },
    {
     "data": {
      "text/html": [
       "<div>\n",
       "<style scoped>\n",
       "    .dataframe tbody tr th:only-of-type {\n",
       "        vertical-align: middle;\n",
       "    }\n",
       "\n",
       "    .dataframe tbody tr th {\n",
       "        vertical-align: top;\n",
       "    }\n",
       "\n",
       "    .dataframe thead th {\n",
       "        text-align: right;\n",
       "    }\n",
       "</style>\n",
       "<table border=\"1\" class=\"dataframe\">\n",
       "  <thead>\n",
       "    <tr style=\"text-align: right;\">\n",
       "      <th></th>\n",
       "      <th>naslov</th>\n",
       "      <th>stevilo_clenov</th>\n",
       "      <th>nova ocena</th>\n",
       "    </tr>\n",
       "  </thead>\n",
       "  <tbody>\n",
       "    <tr>\n",
       "      <th>3</th>\n",
       "      <td>Sword Art Online</td>\n",
       "      <td>2088233</td>\n",
       "      <td>7.47</td>\n",
       "    </tr>\n",
       "    <tr>\n",
       "      <th>34</th>\n",
       "      <td>Psycho-Pass</td>\n",
       "      <td>1162866</td>\n",
       "      <td>8.43</td>\n",
       "    </tr>\n",
       "    <tr>\n",
       "      <th>35</th>\n",
       "      <td>Another</td>\n",
       "      <td>1159794</td>\n",
       "      <td>7.27</td>\n",
       "    </tr>\n",
       "  </tbody>\n",
       "</table>\n",
       "</div>"
      ],
      "text/plain": [
       "              naslov  stevilo_clenov  nova ocena\n",
       "3   Sword Art Online         2088233        7.47\n",
       "34       Psycho-Pass         1162866        8.43\n",
       "35           Another         1159794        7.27"
      ]
     },
     "metadata": {},
     "output_type": "display_data"
    },
    {
     "data": {
      "text/plain": [
       "2013.0"
      ]
     },
     "metadata": {},
     "output_type": "display_data"
    },
    {
     "data": {
      "text/html": [
       "<div>\n",
       "<style scoped>\n",
       "    .dataframe tbody tr th:only-of-type {\n",
       "        vertical-align: middle;\n",
       "    }\n",
       "\n",
       "    .dataframe tbody tr th {\n",
       "        vertical-align: top;\n",
       "    }\n",
       "\n",
       "    .dataframe thead th {\n",
       "        text-align: right;\n",
       "    }\n",
       "</style>\n",
       "<table border=\"1\" class=\"dataframe\">\n",
       "  <thead>\n",
       "    <tr style=\"text-align: right;\">\n",
       "      <th></th>\n",
       "      <th>naslov</th>\n",
       "      <th>stevilo_clenov</th>\n",
       "      <th>nova ocena</th>\n",
       "    </tr>\n",
       "  </thead>\n",
       "  <tbody>\n",
       "    <tr>\n",
       "      <th>1</th>\n",
       "      <td>Shingeki no Kyojin</td>\n",
       "      <td>2316411</td>\n",
       "      <td>8.75</td>\n",
       "    </tr>\n",
       "    <tr>\n",
       "      <th>51</th>\n",
       "      <td>Hataraku Maou-sama!</td>\n",
       "      <td>1007403</td>\n",
       "      <td>7.17</td>\n",
       "    </tr>\n",
       "    <tr>\n",
       "      <th>60</th>\n",
       "      <td>Yahari Ore no Seishun Love Comedy wa Machigatt...</td>\n",
       "      <td>918643</td>\n",
       "      <td>8.04</td>\n",
       "    </tr>\n",
       "  </tbody>\n",
       "</table>\n",
       "</div>"
      ],
      "text/plain": [
       "                                               naslov  stevilo_clenov  \\\n",
       "1                                  Shingeki no Kyojin         2316411   \n",
       "51                                Hataraku Maou-sama!         1007403   \n",
       "60  Yahari Ore no Seishun Love Comedy wa Machigatt...          918643   \n",
       "\n",
       "    nova ocena  \n",
       "1         8.75  \n",
       "51        7.17  \n",
       "60        8.04  "
      ]
     },
     "metadata": {},
     "output_type": "display_data"
    },
    {
     "data": {
      "text/plain": [
       "2014.0"
      ]
     },
     "metadata": {},
     "output_type": "display_data"
    },
    {
     "data": {
      "text/html": [
       "<div>\n",
       "<style scoped>\n",
       "    .dataframe tbody tr th:only-of-type {\n",
       "        vertical-align: middle;\n",
       "    }\n",
       "\n",
       "    .dataframe tbody tr th {\n",
       "        vertical-align: top;\n",
       "    }\n",
       "\n",
       "    .dataframe thead th {\n",
       "        text-align: right;\n",
       "    }\n",
       "</style>\n",
       "<table border=\"1\" class=\"dataframe\">\n",
       "  <thead>\n",
       "    <tr style=\"text-align: right;\">\n",
       "      <th></th>\n",
       "      <th>naslov</th>\n",
       "      <th>stevilo_clenov</th>\n",
       "      <th>nova ocena</th>\n",
       "    </tr>\n",
       "  </thead>\n",
       "  <tbody>\n",
       "    <tr>\n",
       "      <th>5</th>\n",
       "      <td>Tokyo Ghoul</td>\n",
       "      <td>1765304</td>\n",
       "      <td>7.92</td>\n",
       "    </tr>\n",
       "    <tr>\n",
       "      <th>15</th>\n",
       "      <td>Noragami</td>\n",
       "      <td>1446525</td>\n",
       "      <td>8.01</td>\n",
       "    </tr>\n",
       "    <tr>\n",
       "      <th>19</th>\n",
       "      <td>Sword Art Online II</td>\n",
       "      <td>1355398</td>\n",
       "      <td>6.33</td>\n",
       "    </tr>\n",
       "  </tbody>\n",
       "</table>\n",
       "</div>"
      ],
      "text/plain": [
       "                 naslov  stevilo_clenov  nova ocena\n",
       "5           Tokyo Ghoul         1765304        7.92\n",
       "15             Noragami         1446525        8.01\n",
       "19  Sword Art Online II         1355398        6.33"
      ]
     },
     "metadata": {},
     "output_type": "display_data"
    },
    {
     "data": {
      "text/plain": [
       "2015.0"
      ]
     },
     "metadata": {},
     "output_type": "display_data"
    },
    {
     "data": {
      "text/html": [
       "<div>\n",
       "<style scoped>\n",
       "    .dataframe tbody tr th:only-of-type {\n",
       "        vertical-align: middle;\n",
       "    }\n",
       "\n",
       "    .dataframe tbody tr th {\n",
       "        vertical-align: top;\n",
       "    }\n",
       "\n",
       "    .dataframe thead th {\n",
       "        text-align: right;\n",
       "    }\n",
       "</style>\n",
       "<table border=\"1\" class=\"dataframe\">\n",
       "  <thead>\n",
       "    <tr style=\"text-align: right;\">\n",
       "      <th></th>\n",
       "      <th>naslov</th>\n",
       "      <th>stevilo_clenov</th>\n",
       "      <th>nova ocena</th>\n",
       "    </tr>\n",
       "  </thead>\n",
       "  <tbody>\n",
       "    <tr>\n",
       "      <th>4</th>\n",
       "      <td>One Punch Man</td>\n",
       "      <td>1979366</td>\n",
       "      <td>8.77</td>\n",
       "    </tr>\n",
       "    <tr>\n",
       "      <th>36</th>\n",
       "      <td>Ansatsu Kyoushitsu</td>\n",
       "      <td>1159105</td>\n",
       "      <td>7.97</td>\n",
       "    </tr>\n",
       "    <tr>\n",
       "      <th>37</th>\n",
       "      <td>Tokyo Ghoul √A</td>\n",
       "      <td>1156651</td>\n",
       "      <td>6.59</td>\n",
       "    </tr>\n",
       "  </tbody>\n",
       "</table>\n",
       "</div>"
      ],
      "text/plain": [
       "                naslov  stevilo_clenov  nova ocena\n",
       "4        One Punch Man         1979366        8.77\n",
       "36  Ansatsu Kyoushitsu         1159105        7.97\n",
       "37      Tokyo Ghoul √A         1156651        6.59"
      ]
     },
     "metadata": {},
     "output_type": "display_data"
    },
    {
     "data": {
      "text/plain": [
       "2016.0"
      ]
     },
     "metadata": {},
     "output_type": "display_data"
    },
    {
     "data": {
      "text/html": [
       "<div>\n",
       "<style scoped>\n",
       "    .dataframe tbody tr th:only-of-type {\n",
       "        vertical-align: middle;\n",
       "    }\n",
       "\n",
       "    .dataframe tbody tr th {\n",
       "        vertical-align: top;\n",
       "    }\n",
       "\n",
       "    .dataframe thead th {\n",
       "        text-align: right;\n",
       "    }\n",
       "</style>\n",
       "<table border=\"1\" class=\"dataframe\">\n",
       "  <thead>\n",
       "    <tr style=\"text-align: right;\">\n",
       "      <th></th>\n",
       "      <th>naslov</th>\n",
       "      <th>stevilo_clenov</th>\n",
       "      <th>nova ocena</th>\n",
       "    </tr>\n",
       "  </thead>\n",
       "  <tbody>\n",
       "    <tr>\n",
       "      <th>6</th>\n",
       "      <td>Boku no Hero Academia</td>\n",
       "      <td>1761362</td>\n",
       "      <td>8.28</td>\n",
       "    </tr>\n",
       "    <tr>\n",
       "      <th>18</th>\n",
       "      <td>Re:Zero kara Hajimeru Isekai Seikatsu</td>\n",
       "      <td>1387049</td>\n",
       "      <td>8.45</td>\n",
       "    </tr>\n",
       "    <tr>\n",
       "      <th>23</th>\n",
       "      <td>Boku dake ga Inai Machi</td>\n",
       "      <td>1270904</td>\n",
       "      <td>8.45</td>\n",
       "    </tr>\n",
       "  </tbody>\n",
       "</table>\n",
       "</div>"
      ],
      "text/plain": [
       "                                   naslov  stevilo_clenov  nova ocena\n",
       "6                   Boku no Hero Academia         1761362        8.28\n",
       "18  Re:Zero kara Hajimeru Isekai Seikatsu         1387049        8.45\n",
       "23                Boku dake ga Inai Machi         1270904        8.45"
      ]
     },
     "metadata": {},
     "output_type": "display_data"
    },
    {
     "data": {
      "text/plain": [
       "2017.0"
      ]
     },
     "metadata": {},
     "output_type": "display_data"
    },
    {
     "data": {
      "text/html": [
       "<div>\n",
       "<style scoped>\n",
       "    .dataframe tbody tr th:only-of-type {\n",
       "        vertical-align: middle;\n",
       "    }\n",
       "\n",
       "    .dataframe tbody tr th {\n",
       "        vertical-align: top;\n",
       "    }\n",
       "\n",
       "    .dataframe thead th {\n",
       "        text-align: right;\n",
       "    }\n",
       "</style>\n",
       "<table border=\"1\" class=\"dataframe\">\n",
       "  <thead>\n",
       "    <tr style=\"text-align: right;\">\n",
       "      <th></th>\n",
       "      <th>naslov</th>\n",
       "      <th>stevilo_clenov</th>\n",
       "      <th>nova ocena</th>\n",
       "    </tr>\n",
       "  </thead>\n",
       "  <tbody>\n",
       "    <tr>\n",
       "      <th>12</th>\n",
       "      <td>Boku no Hero Academia 2nd Season</td>\n",
       "      <td>1486707</td>\n",
       "      <td>8.17</td>\n",
       "    </tr>\n",
       "    <tr>\n",
       "      <th>17</th>\n",
       "      <td>Shingeki no Kyojin Season 2</td>\n",
       "      <td>1414760</td>\n",
       "      <td>8.11</td>\n",
       "    </tr>\n",
       "    <tr>\n",
       "      <th>58</th>\n",
       "      <td>Kono Subarashii Sekai ni Shukufuku wo! 2</td>\n",
       "      <td>926599</td>\n",
       "      <td>7.71</td>\n",
       "    </tr>\n",
       "  </tbody>\n",
       "</table>\n",
       "</div>"
      ],
      "text/plain": [
       "                                      naslov  stevilo_clenov  nova ocena\n",
       "12          Boku no Hero Academia 2nd Season         1486707        8.17\n",
       "17               Shingeki no Kyojin Season 2         1414760        8.11\n",
       "58  Kono Subarashii Sekai ni Shukufuku wo! 2          926599        7.71"
      ]
     },
     "metadata": {},
     "output_type": "display_data"
    },
    {
     "data": {
      "text/plain": [
       "2018.0"
      ]
     },
     "metadata": {},
     "output_type": "display_data"
    },
    {
     "data": {
      "text/html": [
       "<div>\n",
       "<style scoped>\n",
       "    .dataframe tbody tr th:only-of-type {\n",
       "        vertical-align: middle;\n",
       "    }\n",
       "\n",
       "    .dataframe tbody tr th {\n",
       "        vertical-align: top;\n",
       "    }\n",
       "\n",
       "    .dataframe thead th {\n",
       "        text-align: right;\n",
       "    }\n",
       "</style>\n",
       "<table border=\"1\" class=\"dataframe\">\n",
       "  <thead>\n",
       "    <tr style=\"text-align: right;\">\n",
       "      <th></th>\n",
       "      <th>naslov</th>\n",
       "      <th>stevilo_clenov</th>\n",
       "      <th>nova ocena</th>\n",
       "    </tr>\n",
       "  </thead>\n",
       "  <tbody>\n",
       "    <tr>\n",
       "      <th>27</th>\n",
       "      <td>Boku no Hero Academia 3rd Season</td>\n",
       "      <td>1220562</td>\n",
       "      <td>7.88</td>\n",
       "    </tr>\n",
       "    <tr>\n",
       "      <th>47</th>\n",
       "      <td>Shingeki no Kyojin Season 3</td>\n",
       "      <td>1044111</td>\n",
       "      <td>8.05</td>\n",
       "    </tr>\n",
       "    <tr>\n",
       "      <th>56</th>\n",
       "      <td>Violet Evergarden</td>\n",
       "      <td>953473</td>\n",
       "      <td>8.63</td>\n",
       "    </tr>\n",
       "  </tbody>\n",
       "</table>\n",
       "</div>"
      ],
      "text/plain": [
       "                              naslov  stevilo_clenov  nova ocena\n",
       "27  Boku no Hero Academia 3rd Season         1220562        7.88\n",
       "47       Shingeki no Kyojin Season 3         1044111        8.05\n",
       "56                 Violet Evergarden          953473        8.63"
      ]
     },
     "metadata": {},
     "output_type": "display_data"
    },
    {
     "data": {
      "text/plain": [
       "2019.0"
      ]
     },
     "metadata": {},
     "output_type": "display_data"
    },
    {
     "data": {
      "text/html": [
       "<div>\n",
       "<style scoped>\n",
       "    .dataframe tbody tr th:only-of-type {\n",
       "        vertical-align: middle;\n",
       "    }\n",
       "\n",
       "    .dataframe tbody tr th {\n",
       "        vertical-align: top;\n",
       "    }\n",
       "\n",
       "    .dataframe thead th {\n",
       "        text-align: right;\n",
       "    }\n",
       "</style>\n",
       "<table border=\"1\" class=\"dataframe\">\n",
       "  <thead>\n",
       "    <tr style=\"text-align: right;\">\n",
       "      <th></th>\n",
       "      <th>naslov</th>\n",
       "      <th>stevilo_clenov</th>\n",
       "      <th>nova ocena</th>\n",
       "    </tr>\n",
       "  </thead>\n",
       "  <tbody>\n",
       "    <tr>\n",
       "      <th>25</th>\n",
       "      <td>Kimetsu no Yaiba</td>\n",
       "      <td>1235666</td>\n",
       "      <td>8.77</td>\n",
       "    </tr>\n",
       "    <tr>\n",
       "      <th>55</th>\n",
       "      <td>Yakusoku no Neverland</td>\n",
       "      <td>956415</td>\n",
       "      <td>8.61</td>\n",
       "    </tr>\n",
       "    <tr>\n",
       "      <th>61</th>\n",
       "      <td>One Punch Man 2nd Season</td>\n",
       "      <td>908285</td>\n",
       "      <td>6.28</td>\n",
       "    </tr>\n",
       "  </tbody>\n",
       "</table>\n",
       "</div>"
      ],
      "text/plain": [
       "                      naslov  stevilo_clenov  nova ocena\n",
       "25          Kimetsu no Yaiba         1235666        8.77\n",
       "55     Yakusoku no Neverland          956415        8.61\n",
       "61  One Punch Man 2nd Season          908285        6.28"
      ]
     },
     "metadata": {},
     "output_type": "display_data"
    },
    {
     "data": {
      "text/plain": [
       "2020.0"
      ]
     },
     "metadata": {},
     "output_type": "display_data"
    },
    {
     "data": {
      "text/html": [
       "<div>\n",
       "<style scoped>\n",
       "    .dataframe tbody tr th:only-of-type {\n",
       "        vertical-align: middle;\n",
       "    }\n",
       "\n",
       "    .dataframe tbody tr th {\n",
       "        vertical-align: top;\n",
       "    }\n",
       "\n",
       "    .dataframe thead th {\n",
       "        text-align: right;\n",
       "    }\n",
       "</style>\n",
       "<table border=\"1\" class=\"dataframe\">\n",
       "  <thead>\n",
       "    <tr style=\"text-align: right;\">\n",
       "      <th></th>\n",
       "      <th>naslov</th>\n",
       "      <th>stevilo_clenov</th>\n",
       "      <th>nova ocena</th>\n",
       "    </tr>\n",
       "  </thead>\n",
       "  <tbody>\n",
       "    <tr>\n",
       "      <th>148</th>\n",
       "      <td>Kaguya-sama wa Kokurasetai: Tensai-tachi no Re...</td>\n",
       "      <td>560261</td>\n",
       "      <td>8.53</td>\n",
       "    </tr>\n",
       "    <tr>\n",
       "      <th>161</th>\n",
       "      <td>Re:Zero kara Hajimeru Isekai Seikatsu 2nd Season</td>\n",
       "      <td>531639</td>\n",
       "      <td>7.72</td>\n",
       "    </tr>\n",
       "    <tr>\n",
       "      <th>188</th>\n",
       "      <td>Kami no Tou</td>\n",
       "      <td>480398</td>\n",
       "      <td>6.62</td>\n",
       "    </tr>\n",
       "  </tbody>\n",
       "</table>\n",
       "</div>"
      ],
      "text/plain": [
       "                                                naslov  stevilo_clenov  \\\n",
       "148  Kaguya-sama wa Kokurasetai: Tensai-tachi no Re...          560261   \n",
       "161   Re:Zero kara Hajimeru Isekai Seikatsu 2nd Season          531639   \n",
       "188                                        Kami no Tou          480398   \n",
       "\n",
       "     nova ocena  \n",
       "148        8.53  \n",
       "161        7.72  \n",
       "188        6.62  "
      ]
     },
     "metadata": {},
     "output_type": "display_data"
    },
    {
     "data": {
      "text/plain": [
       "nan"
      ]
     },
     "metadata": {},
     "output_type": "display_data"
    },
    {
     "data": {
      "text/html": [
       "<div>\n",
       "<style scoped>\n",
       "    .dataframe tbody tr th:only-of-type {\n",
       "        vertical-align: middle;\n",
       "    }\n",
       "\n",
       "    .dataframe tbody tr th {\n",
       "        vertical-align: top;\n",
       "    }\n",
       "\n",
       "    .dataframe thead th {\n",
       "        text-align: right;\n",
       "    }\n",
       "</style>\n",
       "<table border=\"1\" class=\"dataframe\">\n",
       "  <thead>\n",
       "    <tr style=\"text-align: right;\">\n",
       "      <th></th>\n",
       "      <th>naslov</th>\n",
       "      <th>stevilo_clenov</th>\n",
       "      <th>nova ocena</th>\n",
       "    </tr>\n",
       "  </thead>\n",
       "  <tbody>\n",
       "  </tbody>\n",
       "</table>\n",
       "</div>"
      ],
      "text/plain": [
       "Empty DataFrame\n",
       "Columns: [naslov, stevilo_clenov, nova ocena]\n",
       "Index: []"
      ]
     },
     "metadata": {},
     "output_type": "display_data"
    }
   ],
   "source": [
    "for leto in animeji_in_leta:\n",
    "    display(leto)\n",
    "    display(animeji_in_leta[leto][['naslov', 'stevilo_clenov', 'nova ocena']].head(3))"
   ]
  },
  {
   "cell_type": "markdown",
   "metadata": {},
   "source": [
    "Presenetljivo je, da so animeji iz leta 2020 zelo nepopularni. Tole se zgodi, ker ljudje pogosto počakajo, da se anime konča, potem počakajo še nekaj časa, preberu nekaj kritik, potem pa gledajo animeje. "
   ]
  },
  {
   "cell_type": "code",
   "execution_count": 44,
   "metadata": {},
   "outputs": [
    {
     "data": {
      "text/plain": [
       "1960.0"
      ]
     },
     "metadata": {},
     "output_type": "display_data"
    },
    {
     "data": {
      "text/html": [
       "<div>\n",
       "<style scoped>\n",
       "    .dataframe tbody tr th:only-of-type {\n",
       "        vertical-align: middle;\n",
       "    }\n",
       "\n",
       "    .dataframe tbody tr th {\n",
       "        vertical-align: top;\n",
       "    }\n",
       "\n",
       "    .dataframe thead th {\n",
       "        text-align: right;\n",
       "    }\n",
       "</style>\n",
       "<table border=\"1\" class=\"dataframe\">\n",
       "  <thead>\n",
       "    <tr style=\"text-align: right;\">\n",
       "      <th></th>\n",
       "      <th>naslov</th>\n",
       "      <th>stevilo_clenov</th>\n",
       "      <th>nova ocena</th>\n",
       "    </tr>\n",
       "  </thead>\n",
       "  <tbody>\n",
       "    <tr>\n",
       "      <th>1994</th>\n",
       "      <td>Mach GoGoGo</td>\n",
       "      <td>11164</td>\n",
       "      <td>0.48</td>\n",
       "    </tr>\n",
       "    <tr>\n",
       "      <th>1997</th>\n",
       "      <td>Dororo to Hyakkimaru</td>\n",
       "      <td>11090</td>\n",
       "      <td>0.39</td>\n",
       "    </tr>\n",
       "    <tr>\n",
       "      <th>2098</th>\n",
       "      <td>Tetsuwan Atom</td>\n",
       "      <td>9075</td>\n",
       "      <td>0.25</td>\n",
       "    </tr>\n",
       "  </tbody>\n",
       "</table>\n",
       "</div>"
      ],
      "text/plain": [
       "                    naslov  stevilo_clenov  nova ocena\n",
       "1994           Mach GoGoGo           11164        0.48\n",
       "1997  Dororo to Hyakkimaru           11090        0.39\n",
       "2098         Tetsuwan Atom            9075        0.25"
      ]
     },
     "metadata": {},
     "output_type": "display_data"
    },
    {
     "data": {
      "text/plain": [
       "1970.0"
      ]
     },
     "metadata": {},
     "output_type": "display_data"
    },
    {
     "data": {
      "text/html": [
       "<div>\n",
       "<style scoped>\n",
       "    .dataframe tbody tr th:only-of-type {\n",
       "        vertical-align: middle;\n",
       "    }\n",
       "\n",
       "    .dataframe tbody tr th {\n",
       "        vertical-align: top;\n",
       "    }\n",
       "\n",
       "    .dataframe thead th {\n",
       "        text-align: right;\n",
       "    }\n",
       "</style>\n",
       "<table border=\"1\" class=\"dataframe\">\n",
       "  <thead>\n",
       "    <tr style=\"text-align: right;\">\n",
       "      <th></th>\n",
       "      <th>naslov</th>\n",
       "      <th>stevilo_clenov</th>\n",
       "      <th>nova ocena</th>\n",
       "    </tr>\n",
       "  </thead>\n",
       "  <tbody>\n",
       "    <tr>\n",
       "      <th>856</th>\n",
       "      <td>Mobile Suit Gundam</td>\n",
       "      <td>94229</td>\n",
       "      <td>4.48</td>\n",
       "    </tr>\n",
       "    <tr>\n",
       "      <th>1015</th>\n",
       "      <td>Lupin III</td>\n",
       "      <td>71989</td>\n",
       "      <td>2.93</td>\n",
       "    </tr>\n",
       "    <tr>\n",
       "      <th>1056</th>\n",
       "      <td>Versailles no Bara</td>\n",
       "      <td>66299</td>\n",
       "      <td>5.26</td>\n",
       "    </tr>\n",
       "  </tbody>\n",
       "</table>\n",
       "</div>"
      ],
      "text/plain": [
       "                  naslov  stevilo_clenov  nova ocena\n",
       "856   Mobile Suit Gundam           94229        4.48\n",
       "1015           Lupin III           71989        2.93\n",
       "1056  Versailles no Bara           66299        5.26"
      ]
     },
     "metadata": {},
     "output_type": "display_data"
    },
    {
     "data": {
      "text/plain": [
       "1980.0"
      ]
     },
     "metadata": {},
     "output_type": "display_data"
    },
    {
     "data": {
      "text/html": [
       "<div>\n",
       "<style scoped>\n",
       "    .dataframe tbody tr th:only-of-type {\n",
       "        vertical-align: middle;\n",
       "    }\n",
       "\n",
       "    .dataframe tbody tr th {\n",
       "        vertical-align: top;\n",
       "    }\n",
       "\n",
       "    .dataframe thead th {\n",
       "        text-align: right;\n",
       "    }\n",
       "</style>\n",
       "<table border=\"1\" class=\"dataframe\">\n",
       "  <thead>\n",
       "    <tr style=\"text-align: right;\">\n",
       "      <th></th>\n",
       "      <th>naslov</th>\n",
       "      <th>stevilo_clenov</th>\n",
       "      <th>nova ocena</th>\n",
       "    </tr>\n",
       "  </thead>\n",
       "  <tbody>\n",
       "    <tr>\n",
       "      <th>71</th>\n",
       "      <td>Dragon Ball Z</td>\n",
       "      <td>841343</td>\n",
       "      <td>8.16</td>\n",
       "    </tr>\n",
       "    <tr>\n",
       "      <th>103</th>\n",
       "      <td>Dragon Ball</td>\n",
       "      <td>695117</td>\n",
       "      <td>7.56</td>\n",
       "    </tr>\n",
       "    <tr>\n",
       "      <th>524</th>\n",
       "      <td>Ranma ½</td>\n",
       "      <td>187896</td>\n",
       "      <td>5.80</td>\n",
       "    </tr>\n",
       "  </tbody>\n",
       "</table>\n",
       "</div>"
      ],
      "text/plain": [
       "            naslov  stevilo_clenov  nova ocena\n",
       "71   Dragon Ball Z          841343        8.16\n",
       "103    Dragon Ball          695117        7.56\n",
       "524        Ranma ½          187896        5.80"
      ]
     },
     "metadata": {},
     "output_type": "display_data"
    },
    {
     "data": {
      "text/plain": [
       "1990.0"
      ]
     },
     "metadata": {},
     "output_type": "display_data"
    },
    {
     "data": {
      "text/html": [
       "<div>\n",
       "<style scoped>\n",
       "    .dataframe tbody tr th:only-of-type {\n",
       "        vertical-align: middle;\n",
       "    }\n",
       "\n",
       "    .dataframe tbody tr th {\n",
       "        vertical-align: top;\n",
       "    }\n",
       "\n",
       "    .dataframe thead th {\n",
       "        text-align: right;\n",
       "    }\n",
       "</style>\n",
       "<table border=\"1\" class=\"dataframe\">\n",
       "  <thead>\n",
       "    <tr style=\"text-align: right;\">\n",
       "      <th></th>\n",
       "      <th>naslov</th>\n",
       "      <th>stevilo_clenov</th>\n",
       "      <th>nova ocena</th>\n",
       "    </tr>\n",
       "  </thead>\n",
       "  <tbody>\n",
       "    <tr>\n",
       "      <th>30</th>\n",
       "      <td>Cowboy Bebop</td>\n",
       "      <td>1176190</td>\n",
       "      <td>8.97</td>\n",
       "    </tr>\n",
       "    <tr>\n",
       "      <th>43</th>\n",
       "      <td>Neon Genesis Evangelion</td>\n",
       "      <td>1079668</td>\n",
       "      <td>8.50</td>\n",
       "    </tr>\n",
       "    <tr>\n",
       "      <th>149</th>\n",
       "      <td>Great Teacher Onizuka</td>\n",
       "      <td>560177</td>\n",
       "      <td>8.47</td>\n",
       "    </tr>\n",
       "  </tbody>\n",
       "</table>\n",
       "</div>"
      ],
      "text/plain": [
       "                      naslov  stevilo_clenov  nova ocena\n",
       "30              Cowboy Bebop         1176190        8.97\n",
       "43   Neon Genesis Evangelion         1079668        8.50\n",
       "149    Great Teacher Onizuka          560177        8.47"
      ]
     },
     "metadata": {},
     "output_type": "display_data"
    },
    {
     "data": {
      "text/plain": [
       "2000.0"
      ]
     },
     "metadata": {},
     "output_type": "display_data"
    },
    {
     "data": {
      "text/html": [
       "<div>\n",
       "<style scoped>\n",
       "    .dataframe tbody tr th:only-of-type {\n",
       "        vertical-align: middle;\n",
       "    }\n",
       "\n",
       "    .dataframe tbody tr th {\n",
       "        vertical-align: top;\n",
       "    }\n",
       "\n",
       "    .dataframe thead th {\n",
       "        text-align: right;\n",
       "    }\n",
       "</style>\n",
       "<table border=\"1\" class=\"dataframe\">\n",
       "  <thead>\n",
       "    <tr style=\"text-align: right;\">\n",
       "      <th></th>\n",
       "      <th>naslov</th>\n",
       "      <th>stevilo_clenov</th>\n",
       "      <th>nova ocena</th>\n",
       "    </tr>\n",
       "  </thead>\n",
       "  <tbody>\n",
       "    <tr>\n",
       "      <th>0</th>\n",
       "      <td>Death Note</td>\n",
       "      <td>2410185</td>\n",
       "      <td>8.95</td>\n",
       "    </tr>\n",
       "    <tr>\n",
       "      <th>2</th>\n",
       "      <td>Fullmetal Alchemist: Brotherhood</td>\n",
       "      <td>2090273</td>\n",
       "      <td>9.56</td>\n",
       "    </tr>\n",
       "    <tr>\n",
       "      <th>7</th>\n",
       "      <td>Naruto</td>\n",
       "      <td>1699431</td>\n",
       "      <td>8.09</td>\n",
       "    </tr>\n",
       "  </tbody>\n",
       "</table>\n",
       "</div>"
      ],
      "text/plain": [
       "                             naslov  stevilo_clenov  nova ocena\n",
       "0                        Death Note         2410185        8.95\n",
       "2  Fullmetal Alchemist: Brotherhood         2090273        9.56\n",
       "7                            Naruto         1699431        8.09"
      ]
     },
     "metadata": {},
     "output_type": "display_data"
    },
    {
     "data": {
      "text/plain": [
       "2010.0"
      ]
     },
     "metadata": {},
     "output_type": "display_data"
    },
    {
     "data": {
      "text/html": [
       "<div>\n",
       "<style scoped>\n",
       "    .dataframe tbody tr th:only-of-type {\n",
       "        vertical-align: middle;\n",
       "    }\n",
       "\n",
       "    .dataframe tbody tr th {\n",
       "        vertical-align: top;\n",
       "    }\n",
       "\n",
       "    .dataframe thead th {\n",
       "        text-align: right;\n",
       "    }\n",
       "</style>\n",
       "<table border=\"1\" class=\"dataframe\">\n",
       "  <thead>\n",
       "    <tr style=\"text-align: right;\">\n",
       "      <th></th>\n",
       "      <th>naslov</th>\n",
       "      <th>stevilo_clenov</th>\n",
       "      <th>nova ocena</th>\n",
       "    </tr>\n",
       "  </thead>\n",
       "  <tbody>\n",
       "    <tr>\n",
       "      <th>1</th>\n",
       "      <td>Shingeki no Kyojin</td>\n",
       "      <td>2316411</td>\n",
       "      <td>8.75</td>\n",
       "    </tr>\n",
       "    <tr>\n",
       "      <th>3</th>\n",
       "      <td>Sword Art Online</td>\n",
       "      <td>2088233</td>\n",
       "      <td>7.47</td>\n",
       "    </tr>\n",
       "    <tr>\n",
       "      <th>4</th>\n",
       "      <td>One Punch Man</td>\n",
       "      <td>1979366</td>\n",
       "      <td>8.77</td>\n",
       "    </tr>\n",
       "  </tbody>\n",
       "</table>\n",
       "</div>"
      ],
      "text/plain": [
       "               naslov  stevilo_clenov  nova ocena\n",
       "1  Shingeki no Kyojin         2316411        8.75\n",
       "3    Sword Art Online         2088233        7.47\n",
       "4       One Punch Man         1979366        8.77"
      ]
     },
     "metadata": {},
     "output_type": "display_data"
    },
    {
     "data": {
      "text/plain": [
       "2020.0"
      ]
     },
     "metadata": {},
     "output_type": "display_data"
    },
    {
     "data": {
      "text/html": [
       "<div>\n",
       "<style scoped>\n",
       "    .dataframe tbody tr th:only-of-type {\n",
       "        vertical-align: middle;\n",
       "    }\n",
       "\n",
       "    .dataframe tbody tr th {\n",
       "        vertical-align: top;\n",
       "    }\n",
       "\n",
       "    .dataframe thead th {\n",
       "        text-align: right;\n",
       "    }\n",
       "</style>\n",
       "<table border=\"1\" class=\"dataframe\">\n",
       "  <thead>\n",
       "    <tr style=\"text-align: right;\">\n",
       "      <th></th>\n",
       "      <th>naslov</th>\n",
       "      <th>stevilo_clenov</th>\n",
       "      <th>nova ocena</th>\n",
       "    </tr>\n",
       "  </thead>\n",
       "  <tbody>\n",
       "    <tr>\n",
       "      <th>148</th>\n",
       "      <td>Kaguya-sama wa Kokurasetai: Tensai-tachi no Re...</td>\n",
       "      <td>560261</td>\n",
       "      <td>8.53</td>\n",
       "    </tr>\n",
       "    <tr>\n",
       "      <th>161</th>\n",
       "      <td>Re:Zero kara Hajimeru Isekai Seikatsu 2nd Season</td>\n",
       "      <td>531639</td>\n",
       "      <td>7.72</td>\n",
       "    </tr>\n",
       "    <tr>\n",
       "      <th>188</th>\n",
       "      <td>Kami no Tou</td>\n",
       "      <td>480398</td>\n",
       "      <td>6.62</td>\n",
       "    </tr>\n",
       "  </tbody>\n",
       "</table>\n",
       "</div>"
      ],
      "text/plain": [
       "                                                naslov  stevilo_clenov  \\\n",
       "148  Kaguya-sama wa Kokurasetai: Tensai-tachi no Re...          560261   \n",
       "161   Re:Zero kara Hajimeru Isekai Seikatsu 2nd Season          531639   \n",
       "188                                        Kami no Tou          480398   \n",
       "\n",
       "     nova ocena  \n",
       "148        8.53  \n",
       "161        7.72  \n",
       "188        6.62  "
      ]
     },
     "metadata": {},
     "output_type": "display_data"
    },
    {
     "data": {
      "text/plain": [
       "nan"
      ]
     },
     "metadata": {},
     "output_type": "display_data"
    },
    {
     "data": {
      "text/html": [
       "<div>\n",
       "<style scoped>\n",
       "    .dataframe tbody tr th:only-of-type {\n",
       "        vertical-align: middle;\n",
       "    }\n",
       "\n",
       "    .dataframe tbody tr th {\n",
       "        vertical-align: top;\n",
       "    }\n",
       "\n",
       "    .dataframe thead th {\n",
       "        text-align: right;\n",
       "    }\n",
       "</style>\n",
       "<table border=\"1\" class=\"dataframe\">\n",
       "  <thead>\n",
       "    <tr style=\"text-align: right;\">\n",
       "      <th></th>\n",
       "      <th>naslov</th>\n",
       "      <th>stevilo_clenov</th>\n",
       "      <th>nova ocena</th>\n",
       "    </tr>\n",
       "  </thead>\n",
       "  <tbody>\n",
       "  </tbody>\n",
       "</table>\n",
       "</div>"
      ],
      "text/plain": [
       "Empty DataFrame\n",
       "Columns: [naslov, stevilo_clenov, nova ocena]\n",
       "Index: []"
      ]
     },
     "metadata": {},
     "output_type": "display_data"
    }
   ],
   "source": [
    "for desetletje in animeji_dz:\n",
    "    display(desetletje)\n",
    "    display(animeji_dz[desetletje][['naslov', 'stevilo_clenov', 'nova ocena']].head(3))"
   ]
  },
  {
   "cell_type": "markdown",
   "metadata": {},
   "source": [
    "Poglejmo zdaj, kako so ocenjevani animeji po letih izida."
   ]
  },
  {
   "cell_type": "code",
   "execution_count": 45,
   "metadata": {},
   "outputs": [
    {
     "data": {
      "text/plain": [
       "<AxesSubplot:xlabel='zacetek'>"
      ]
     },
     "execution_count": 45,
     "metadata": {},
     "output_type": "execute_result"
    },
    {
     "data": {
      "image/png": "[encoded data removed]",
      "text/plain": [
       "<Figure size 432x288 with 1 Axes>"
      ]
     },
     "metadata": {
      "needs_background": "light"
     },
     "output_type": "display_data"
    }
   ],
   "source": [
    "animeji.groupby('zacetek').mean()['ocena'].plot()"
   ]
  },
  {
   "cell_type": "markdown",
   "metadata": {},
   "source": [
    "Vidimo, kako so uporabniki spletne strani ocenjevali animeje. Največje ocene imajo animeji iz 2010-ih, ampak visoke ocene imajo tudi animeji iz 1980-ih in 1990-ih.<br>\n",
    "Kako je pa z našo novo oceno?"
   ]
  },
  {
   "cell_type": "code",
   "execution_count": 46,
   "metadata": {},
   "outputs": [
    {
     "data": {
      "text/plain": [
       "<AxesSubplot:xlabel='zacetek'>"
      ]
     },
     "execution_count": 46,
     "metadata": {},
     "output_type": "execute_result"
    },
    {
     "data": {
      "image/png": "[encoded data removed]",
      "text/plain": [
       "<Figure size 432x288 with 1 Axes>"
      ]
     },
     "metadata": {
      "needs_background": "light"
     },
     "output_type": "display_data"
    }
   ],
   "source": [
    "animeji.groupby('zacetek').mean()['nova ocena'].plot()"
   ]
  },
  {
   "cell_type": "markdown",
   "metadata": {},
   "source": [
    "Tukaj pa vidimo, kako se razlikujeta ocena s spletne strani in naša ocena. Še vedno je največja ocena animejih iz 2010-ih, ampak nobeno desetletje nima podobno oceno."
   ]
  },
  {
   "cell_type": "code",
   "execution_count": 47,
   "metadata": {},
   "outputs": [
    {
     "data": {
      "text/plain": [
       "<AxesSubplot:xlabel='desetletje začetka'>"
      ]
     },
     "execution_count": 47,
     "metadata": {},
     "output_type": "execute_result"
    },
    {
     "data": {
      "image/png": "[encoded data removed]",
      "text/plain": [
       "<Figure size 432x288 with 1 Axes>"
      ]
     },
     "metadata": {
      "needs_background": "light"
     },
     "output_type": "display_data"
    }
   ],
   "source": [
    "animeji.groupby('desetletje začetka').mean()['ocena'].plot.bar()"
   ]
  },
  {
   "cell_type": "code",
   "execution_count": 48,
   "metadata": {},
   "outputs": [
    {
     "data": {
      "text/plain": [
       "<AxesSubplot:xlabel='desetletje začetka'>"
      ]
     },
     "execution_count": 48,
     "metadata": {},
     "output_type": "execute_result"
    },
    {
     "data": {
      "image/png": "[encoded data removed]",
      "text/plain": [
       "<Figure size 432x288 with 1 Axes>"
      ]
     },
     "metadata": {
      "needs_background": "light"
     },
     "output_type": "display_data"
    }
   ],
   "source": [
    "animeji.groupby('desetletje začetka').mean()['nova ocena'].plot.bar()"
   ]
  },
  {
   "cell_type": "markdown",
   "metadata": {},
   "source": [
    "Glede na novo oceno, animeji iz desetletja 2010 so najboljši, ampak glede na oceno, ki jo dajejo uporabniki, najboljši so animeji iz desetletja 2000.<br>\n",
    "Poglejmo si, kateri so animeji najboljši v katerem letu in desetletju."
   ]
  },
  {
   "cell_type": "code",
   "execution_count": 49,
   "metadata": {},
   "outputs": [
    {
     "data": {
      "text/plain": [
       "1961.0"
      ]
     },
     "metadata": {},
     "output_type": "display_data"
    },
    {
     "data": {
      "text/html": [
       "<div>\n",
       "<style scoped>\n",
       "    .dataframe tbody tr th:only-of-type {\n",
       "        vertical-align: middle;\n",
       "    }\n",
       "\n",
       "    .dataframe tbody tr th {\n",
       "        vertical-align: top;\n",
       "    }\n",
       "\n",
       "    .dataframe thead th {\n",
       "        text-align: right;\n",
       "    }\n",
       "</style>\n",
       "<table border=\"1\" class=\"dataframe\">\n",
       "  <thead>\n",
       "    <tr style=\"text-align: right;\">\n",
       "      <th></th>\n",
       "      <th>naslov</th>\n",
       "      <th>stevilo_clenov</th>\n",
       "      <th>nova ocena</th>\n",
       "    </tr>\n",
       "  </thead>\n",
       "  <tbody>\n",
       "    <tr>\n",
       "      <th>3406</th>\n",
       "      <td>Instant History</td>\n",
       "      <td>485</td>\n",
       "      <td>NaN</td>\n",
       "    </tr>\n",
       "  </tbody>\n",
       "</table>\n",
       "</div>"
      ],
      "text/plain": [
       "               naslov  stevilo_clenov  nova ocena\n",
       "3406  Instant History             485         NaN"
      ]
     },
     "metadata": {},
     "output_type": "display_data"
    },
    {
     "data": {
      "text/plain": [
       "1962.0"
      ]
     },
     "metadata": {},
     "output_type": "display_data"
    },
    {
     "data": {
      "text/html": [
       "<div>\n",
       "<style scoped>\n",
       "    .dataframe tbody tr th:only-of-type {\n",
       "        vertical-align: middle;\n",
       "    }\n",
       "\n",
       "    .dataframe tbody tr th {\n",
       "        vertical-align: top;\n",
       "    }\n",
       "\n",
       "    .dataframe thead th {\n",
       "        text-align: right;\n",
       "    }\n",
       "</style>\n",
       "<table border=\"1\" class=\"dataframe\">\n",
       "  <thead>\n",
       "    <tr style=\"text-align: right;\">\n",
       "      <th></th>\n",
       "      <th>naslov</th>\n",
       "      <th>stevilo_clenov</th>\n",
       "      <th>nova ocena</th>\n",
       "    </tr>\n",
       "  </thead>\n",
       "  <tbody>\n",
       "    <tr>\n",
       "      <th>3494</th>\n",
       "      <td>Otogi Manga Calendar</td>\n",
       "      <td>413</td>\n",
       "      <td>NaN</td>\n",
       "    </tr>\n",
       "  </tbody>\n",
       "</table>\n",
       "</div>"
      ],
      "text/plain": [
       "                    naslov  stevilo_clenov  nova ocena\n",
       "3494  Otogi Manga Calendar             413         NaN"
      ]
     },
     "metadata": {},
     "output_type": "display_data"
    },
    {
     "data": {
      "text/plain": [
       "1963.0"
      ]
     },
     "metadata": {},
     "output_type": "display_data"
    },
    {
     "data": {
      "text/html": [
       "<div>\n",
       "<style scoped>\n",
       "    .dataframe tbody tr th:only-of-type {\n",
       "        vertical-align: middle;\n",
       "    }\n",
       "\n",
       "    .dataframe tbody tr th {\n",
       "        vertical-align: top;\n",
       "    }\n",
       "\n",
       "    .dataframe thead th {\n",
       "        text-align: right;\n",
       "    }\n",
       "</style>\n",
       "<table border=\"1\" class=\"dataframe\">\n",
       "  <thead>\n",
       "    <tr style=\"text-align: right;\">\n",
       "      <th></th>\n",
       "      <th>naslov</th>\n",
       "      <th>stevilo_clenov</th>\n",
       "      <th>nova ocena</th>\n",
       "    </tr>\n",
       "  </thead>\n",
       "  <tbody>\n",
       "    <tr>\n",
       "      <th>2098</th>\n",
       "      <td>Tetsuwan Atom</td>\n",
       "      <td>9075</td>\n",
       "      <td>0.25</td>\n",
       "    </tr>\n",
       "    <tr>\n",
       "      <th>2682</th>\n",
       "      <td>Tetsujin 28-gou</td>\n",
       "      <td>2341</td>\n",
       "      <td>0.05</td>\n",
       "    </tr>\n",
       "    <tr>\n",
       "      <th>2952</th>\n",
       "      <td>Eightman</td>\n",
       "      <td>1257</td>\n",
       "      <td>0.02</td>\n",
       "    </tr>\n",
       "  </tbody>\n",
       "</table>\n",
       "</div>"
      ],
      "text/plain": [
       "               naslov  stevilo_clenov  nova ocena\n",
       "2098    Tetsuwan Atom            9075        0.25\n",
       "2682  Tetsujin 28-gou            2341        0.05\n",
       "2952         Eightman            1257        0.02"
      ]
     },
     "metadata": {},
     "output_type": "display_data"
    },
    {
     "data": {
      "text/plain": [
       "1964.0"
      ]
     },
     "metadata": {},
     "output_type": "display_data"
    },
    {
     "data": {
      "text/html": [
       "<div>\n",
       "<style scoped>\n",
       "    .dataframe tbody tr th:only-of-type {\n",
       "        vertical-align: middle;\n",
       "    }\n",
       "\n",
       "    .dataframe tbody tr th {\n",
       "        vertical-align: top;\n",
       "    }\n",
       "\n",
       "    .dataframe thead th {\n",
       "        text-align: right;\n",
       "    }\n",
       "</style>\n",
       "<table border=\"1\" class=\"dataframe\">\n",
       "  <thead>\n",
       "    <tr style=\"text-align: right;\">\n",
       "      <th></th>\n",
       "      <th>naslov</th>\n",
       "      <th>stevilo_clenov</th>\n",
       "      <th>nova ocena</th>\n",
       "    </tr>\n",
       "  </thead>\n",
       "  <tbody>\n",
       "    <tr>\n",
       "      <th>3193</th>\n",
       "      <td>Big X</td>\n",
       "      <td>711</td>\n",
       "      <td>NaN</td>\n",
       "    </tr>\n",
       "    <tr>\n",
       "      <th>3261</th>\n",
       "      <td>Shounen Ninja Kaze no Fujimaru</td>\n",
       "      <td>630</td>\n",
       "      <td>NaN</td>\n",
       "    </tr>\n",
       "    <tr>\n",
       "      <th>3307</th>\n",
       "      <td>0-sen Hayato</td>\n",
       "      <td>574</td>\n",
       "      <td>NaN</td>\n",
       "    </tr>\n",
       "  </tbody>\n",
       "</table>\n",
       "</div>"
      ],
      "text/plain": [
       "                              naslov  stevilo_clenov  nova ocena\n",
       "3193                           Big X             711         NaN\n",
       "3261  Shounen Ninja Kaze no Fujimaru             630         NaN\n",
       "3307                    0-sen Hayato             574         NaN"
      ]
     },
     "metadata": {},
     "output_type": "display_data"
    },
    {
     "data": {
      "text/plain": [
       "1965.0"
      ]
     },
     "metadata": {},
     "output_type": "display_data"
    },
    {
     "data": {
      "text/html": [
       "<div>\n",
       "<style scoped>\n",
       "    .dataframe tbody tr th:only-of-type {\n",
       "        vertical-align: middle;\n",
       "    }\n",
       "\n",
       "    .dataframe tbody tr th {\n",
       "        vertical-align: top;\n",
       "    }\n",
       "\n",
       "    .dataframe thead th {\n",
       "        text-align: right;\n",
       "    }\n",
       "</style>\n",
       "<table border=\"1\" class=\"dataframe\">\n",
       "  <thead>\n",
       "    <tr style=\"text-align: right;\">\n",
       "      <th></th>\n",
       "      <th>naslov</th>\n",
       "      <th>stevilo_clenov</th>\n",
       "      <th>nova ocena</th>\n",
       "    </tr>\n",
       "  </thead>\n",
       "  <tbody>\n",
       "    <tr>\n",
       "      <th>2305</th>\n",
       "      <td>Jungle Taitei</td>\n",
       "      <td>5878</td>\n",
       "      <td>0.10</td>\n",
       "    </tr>\n",
       "    <tr>\n",
       "      <th>3311</th>\n",
       "      <td>Yuusei Shounen Papii</td>\n",
       "      <td>564</td>\n",
       "      <td>0.01</td>\n",
       "    </tr>\n",
       "    <tr>\n",
       "      <th>3236</th>\n",
       "      <td>Wonder 3</td>\n",
       "      <td>653</td>\n",
       "      <td>NaN</td>\n",
       "    </tr>\n",
       "  </tbody>\n",
       "</table>\n",
       "</div>"
      ],
      "text/plain": [
       "                    naslov  stevilo_clenov  nova ocena\n",
       "2305         Jungle Taitei            5878        0.10\n",
       "3311  Yuusei Shounen Papii             564        0.01\n",
       "3236              Wonder 3             653         NaN"
      ]
     },
     "metadata": {},
     "output_type": "display_data"
    },
    {
     "data": {
      "text/plain": [
       "1966.0"
      ]
     },
     "metadata": {},
     "output_type": "display_data"
    },
    {
     "data": {
      "text/html": [
       "<div>\n",
       "<style scoped>\n",
       "    .dataframe tbody tr th:only-of-type {\n",
       "        vertical-align: middle;\n",
       "    }\n",
       "\n",
       "    .dataframe tbody tr th {\n",
       "        vertical-align: top;\n",
       "    }\n",
       "\n",
       "    .dataframe thead th {\n",
       "        text-align: right;\n",
       "    }\n",
       "</style>\n",
       "<table border=\"1\" class=\"dataframe\">\n",
       "  <thead>\n",
       "    <tr style=\"text-align: right;\">\n",
       "      <th></th>\n",
       "      <th>naslov</th>\n",
       "      <th>stevilo_clenov</th>\n",
       "      <th>nova ocena</th>\n",
       "    </tr>\n",
       "  </thead>\n",
       "  <tbody>\n",
       "    <tr>\n",
       "      <th>2608</th>\n",
       "      <td>Osomatsu-kun</td>\n",
       "      <td>2770</td>\n",
       "      <td>0.10</td>\n",
       "    </tr>\n",
       "    <tr>\n",
       "      <th>2600</th>\n",
       "      <td>Mahoutsukai Sally</td>\n",
       "      <td>2852</td>\n",
       "      <td>0.05</td>\n",
       "    </tr>\n",
       "    <tr>\n",
       "      <th>2757</th>\n",
       "      <td>Jungle Taitei: Susume Leo!</td>\n",
       "      <td>1951</td>\n",
       "      <td>0.05</td>\n",
       "    </tr>\n",
       "  </tbody>\n",
       "</table>\n",
       "</div>"
      ],
      "text/plain": [
       "                          naslov  stevilo_clenov  nova ocena\n",
       "2608                Osomatsu-kun            2770        0.10\n",
       "2600           Mahoutsukai Sally            2852        0.05\n",
       "2757  Jungle Taitei: Susume Leo!            1951        0.05"
      ]
     },
     "metadata": {},
     "output_type": "display_data"
    },
    {
     "data": {
      "text/plain": [
       "1967.0"
      ]
     },
     "metadata": {},
     "output_type": "display_data"
    },
    {
     "data": {
      "text/html": [
       "<div>\n",
       "<style scoped>\n",
       "    .dataframe tbody tr th:only-of-type {\n",
       "        vertical-align: middle;\n",
       "    }\n",
       "\n",
       "    .dataframe tbody tr th {\n",
       "        vertical-align: top;\n",
       "    }\n",
       "\n",
       "    .dataframe thead th {\n",
       "        text-align: right;\n",
       "    }\n",
       "</style>\n",
       "<table border=\"1\" class=\"dataframe\">\n",
       "  <thead>\n",
       "    <tr style=\"text-align: right;\">\n",
       "      <th></th>\n",
       "      <th>naslov</th>\n",
       "      <th>stevilo_clenov</th>\n",
       "      <th>nova ocena</th>\n",
       "    </tr>\n",
       "  </thead>\n",
       "  <tbody>\n",
       "    <tr>\n",
       "      <th>1994</th>\n",
       "      <td>Mach GoGoGo</td>\n",
       "      <td>11164</td>\n",
       "      <td>0.48</td>\n",
       "    </tr>\n",
       "    <tr>\n",
       "      <th>2532</th>\n",
       "      <td>Ribbon no Kishi</td>\n",
       "      <td>3418</td>\n",
       "      <td>0.08</td>\n",
       "    </tr>\n",
       "    <tr>\n",
       "      <th>2725</th>\n",
       "      <td>Perman</td>\n",
       "      <td>2093</td>\n",
       "      <td>0.08</td>\n",
       "    </tr>\n",
       "  </tbody>\n",
       "</table>\n",
       "</div>"
      ],
      "text/plain": [
       "               naslov  stevilo_clenov  nova ocena\n",
       "1994      Mach GoGoGo           11164        0.48\n",
       "2532  Ribbon no Kishi            3418        0.08\n",
       "2725           Perman            2093        0.08"
      ]
     },
     "metadata": {},
     "output_type": "display_data"
    },
    {
     "data": {
      "text/plain": [
       "1968.0"
      ]
     },
     "metadata": {},
     "output_type": "display_data"
    },
    {
     "data": {
      "text/html": [
       "<div>\n",
       "<style scoped>\n",
       "    .dataframe tbody tr th:only-of-type {\n",
       "        vertical-align: middle;\n",
       "    }\n",
       "\n",
       "    .dataframe tbody tr th {\n",
       "        vertical-align: top;\n",
       "    }\n",
       "\n",
       "    .dataframe thead th {\n",
       "        text-align: right;\n",
       "    }\n",
       "</style>\n",
       "<table border=\"1\" class=\"dataframe\">\n",
       "  <thead>\n",
       "    <tr style=\"text-align: right;\">\n",
       "      <th></th>\n",
       "      <th>naslov</th>\n",
       "      <th>stevilo_clenov</th>\n",
       "      <th>nova ocena</th>\n",
       "    </tr>\n",
       "  </thead>\n",
       "  <tbody>\n",
       "    <tr>\n",
       "      <th>2350</th>\n",
       "      <td>Cyborg 009 (TV)</td>\n",
       "      <td>5177</td>\n",
       "      <td>0.12</td>\n",
       "    </tr>\n",
       "    <tr>\n",
       "      <th>2560</th>\n",
       "      <td>Gegege no Kitarou (1968)</td>\n",
       "      <td>3195</td>\n",
       "      <td>0.11</td>\n",
       "    </tr>\n",
       "    <tr>\n",
       "      <th>2862</th>\n",
       "      <td>Sabu to Ichi Torimono Hikae</td>\n",
       "      <td>1537</td>\n",
       "      <td>0.05</td>\n",
       "    </tr>\n",
       "  </tbody>\n",
       "</table>\n",
       "</div>"
      ],
      "text/plain": [
       "                           naslov  stevilo_clenov  nova ocena\n",
       "2350              Cyborg 009 (TV)            5177        0.12\n",
       "2560     Gegege no Kitarou (1968)            3195        0.11\n",
       "2862  Sabu to Ichi Torimono Hikae            1537        0.05"
      ]
     },
     "metadata": {},
     "output_type": "display_data"
    },
    {
     "data": {
      "text/plain": [
       "1969.0"
      ]
     },
     "metadata": {},
     "output_type": "display_data"
    },
    {
     "data": {
      "text/html": [
       "<div>\n",
       "<style scoped>\n",
       "    .dataframe tbody tr th:only-of-type {\n",
       "        vertical-align: middle;\n",
       "    }\n",
       "\n",
       "    .dataframe tbody tr th {\n",
       "        vertical-align: top;\n",
       "    }\n",
       "\n",
       "    .dataframe thead th {\n",
       "        text-align: right;\n",
       "    }\n",
       "</style>\n",
       "<table border=\"1\" class=\"dataframe\">\n",
       "  <thead>\n",
       "    <tr style=\"text-align: right;\">\n",
       "      <th></th>\n",
       "      <th>naslov</th>\n",
       "      <th>stevilo_clenov</th>\n",
       "      <th>nova ocena</th>\n",
       "    </tr>\n",
       "  </thead>\n",
       "  <tbody>\n",
       "    <tr>\n",
       "      <th>1997</th>\n",
       "      <td>Dororo to Hyakkimaru</td>\n",
       "      <td>11090</td>\n",
       "      <td>0.39</td>\n",
       "    </tr>\n",
       "    <tr>\n",
       "      <th>2177</th>\n",
       "      <td>Tiger Mask</td>\n",
       "      <td>7678</td>\n",
       "      <td>0.33</td>\n",
       "    </tr>\n",
       "    <tr>\n",
       "      <th>2251</th>\n",
       "      <td>Attack No.1</td>\n",
       "      <td>6720</td>\n",
       "      <td>0.17</td>\n",
       "    </tr>\n",
       "  </tbody>\n",
       "</table>\n",
       "</div>"
      ],
      "text/plain": [
       "                    naslov  stevilo_clenov  nova ocena\n",
       "1997  Dororo to Hyakkimaru           11090        0.39\n",
       "2177            Tiger Mask            7678        0.33\n",
       "2251           Attack No.1            6720        0.17"
      ]
     },
     "metadata": {},
     "output_type": "display_data"
    },
    {
     "data": {
      "text/plain": [
       "1970.0"
      ]
     },
     "metadata": {},
     "output_type": "display_data"
    },
    {
     "data": {
      "text/html": [
       "<div>\n",
       "<style scoped>\n",
       "    .dataframe tbody tr th:only-of-type {\n",
       "        vertical-align: middle;\n",
       "    }\n",
       "\n",
       "    .dataframe tbody tr th {\n",
       "        vertical-align: top;\n",
       "    }\n",
       "\n",
       "    .dataframe thead th {\n",
       "        text-align: right;\n",
       "    }\n",
       "</style>\n",
       "<table border=\"1\" class=\"dataframe\">\n",
       "  <thead>\n",
       "    <tr style=\"text-align: right;\">\n",
       "      <th></th>\n",
       "      <th>naslov</th>\n",
       "      <th>stevilo_clenov</th>\n",
       "      <th>nova ocena</th>\n",
       "    </tr>\n",
       "  </thead>\n",
       "  <tbody>\n",
       "    <tr>\n",
       "      <th>1152</th>\n",
       "      <td>Ashita no Joe</td>\n",
       "      <td>55322</td>\n",
       "      <td>4.22</td>\n",
       "    </tr>\n",
       "    <tr>\n",
       "      <th>2703</th>\n",
       "      <td>Konchuu Monogatari Minashigo Hutch</td>\n",
       "      <td>2207</td>\n",
       "      <td>0.04</td>\n",
       "    </tr>\n",
       "    <tr>\n",
       "      <th>2843</th>\n",
       "      <td>Akakichi no Eleven</td>\n",
       "      <td>1611</td>\n",
       "      <td>0.04</td>\n",
       "    </tr>\n",
       "  </tbody>\n",
       "</table>\n",
       "</div>"
      ],
      "text/plain": [
       "                                  naslov  stevilo_clenov  nova ocena\n",
       "1152                       Ashita no Joe           55322        4.22\n",
       "2703  Konchuu Monogatari Minashigo Hutch            2207        0.04\n",
       "2843                  Akakichi no Eleven            1611        0.04"
      ]
     },
     "metadata": {},
     "output_type": "display_data"
    },
    {
     "data": {
      "text/plain": [
       "1971.0"
      ]
     },
     "metadata": {},
     "output_type": "display_data"
    },
    {
     "data": {
      "text/html": [
       "<div>\n",
       "<style scoped>\n",
       "    .dataframe tbody tr th:only-of-type {\n",
       "        vertical-align: middle;\n",
       "    }\n",
       "\n",
       "    .dataframe tbody tr th {\n",
       "        vertical-align: top;\n",
       "    }\n",
       "\n",
       "    .dataframe thead th {\n",
       "        text-align: right;\n",
       "    }\n",
       "</style>\n",
       "<table border=\"1\" class=\"dataframe\">\n",
       "  <thead>\n",
       "    <tr style=\"text-align: right;\">\n",
       "      <th></th>\n",
       "      <th>naslov</th>\n",
       "      <th>stevilo_clenov</th>\n",
       "      <th>nova ocena</th>\n",
       "    </tr>\n",
       "  </thead>\n",
       "  <tbody>\n",
       "    <tr>\n",
       "      <th>1015</th>\n",
       "      <td>Lupin III</td>\n",
       "      <td>71989</td>\n",
       "      <td>2.93</td>\n",
       "    </tr>\n",
       "    <tr>\n",
       "      <th>2838</th>\n",
       "      <td>Genshi Shounen Ryuu</td>\n",
       "      <td>1635</td>\n",
       "      <td>0.04</td>\n",
       "    </tr>\n",
       "    <tr>\n",
       "      <th>2820</th>\n",
       "      <td>Gegege no Kitarou (1971)</td>\n",
       "      <td>1699</td>\n",
       "      <td>0.03</td>\n",
       "    </tr>\n",
       "  </tbody>\n",
       "</table>\n",
       "</div>"
      ],
      "text/plain": [
       "                        naslov  stevilo_clenov  nova ocena\n",
       "1015                 Lupin III           71989        2.93\n",
       "2838       Genshi Shounen Ryuu            1635        0.04\n",
       "2820  Gegege no Kitarou (1971)            1699        0.03"
      ]
     },
     "metadata": {},
     "output_type": "display_data"
    },
    {
     "data": {
      "text/plain": [
       "1972.0"
      ]
     },
     "metadata": {},
     "output_type": "display_data"
    },
    {
     "data": {
      "text/html": [
       "<div>\n",
       "<style scoped>\n",
       "    .dataframe tbody tr th:only-of-type {\n",
       "        vertical-align: middle;\n",
       "    }\n",
       "\n",
       "    .dataframe tbody tr th {\n",
       "        vertical-align: top;\n",
       "    }\n",
       "\n",
       "    .dataframe thead th {\n",
       "        text-align: right;\n",
       "    }\n",
       "</style>\n",
       "<table border=\"1\" class=\"dataframe\">\n",
       "  <thead>\n",
       "    <tr style=\"text-align: right;\">\n",
       "      <th></th>\n",
       "      <th>naslov</th>\n",
       "      <th>stevilo_clenov</th>\n",
       "      <th>nova ocena</th>\n",
       "    </tr>\n",
       "  </thead>\n",
       "  <tbody>\n",
       "    <tr>\n",
       "      <th>1931</th>\n",
       "      <td>Mazinger Z</td>\n",
       "      <td>12526</td>\n",
       "      <td>0.54</td>\n",
       "    </tr>\n",
       "    <tr>\n",
       "      <th>1693</th>\n",
       "      <td>Devilman</td>\n",
       "      <td>20227</td>\n",
       "      <td>0.47</td>\n",
       "    </tr>\n",
       "    <tr>\n",
       "      <th>2153</th>\n",
       "      <td>Kagaku Ninja-tai Gatchaman</td>\n",
       "      <td>7969</td>\n",
       "      <td>0.31</td>\n",
       "    </tr>\n",
       "  </tbody>\n",
       "</table>\n",
       "</div>"
      ],
      "text/plain": [
       "                          naslov  stevilo_clenov  nova ocena\n",
       "1931                  Mazinger Z           12526        0.54\n",
       "1693                    Devilman           20227        0.47\n",
       "2153  Kagaku Ninja-tai Gatchaman            7969        0.31"
      ]
     },
     "metadata": {},
     "output_type": "display_data"
    },
    {
     "data": {
      "text/plain": [
       "1973.0"
      ]
     },
     "metadata": {},
     "output_type": "display_data"
    },
    {
     "data": {
      "text/html": [
       "<div>\n",
       "<style scoped>\n",
       "    .dataframe tbody tr th:only-of-type {\n",
       "        vertical-align: middle;\n",
       "    }\n",
       "\n",
       "    .dataframe tbody tr th {\n",
       "        vertical-align: top;\n",
       "    }\n",
       "\n",
       "    .dataframe thead th {\n",
       "        text-align: right;\n",
       "    }\n",
       "</style>\n",
       "<table border=\"1\" class=\"dataframe\">\n",
       "  <thead>\n",
       "    <tr style=\"text-align: right;\">\n",
       "      <th></th>\n",
       "      <th>naslov</th>\n",
       "      <th>stevilo_clenov</th>\n",
       "      <th>nova ocena</th>\n",
       "    </tr>\n",
       "  </thead>\n",
       "  <tbody>\n",
       "    <tr>\n",
       "      <th>1832</th>\n",
       "      <td>Doraemon</td>\n",
       "      <td>15487</td>\n",
       "      <td>0.82</td>\n",
       "    </tr>\n",
       "    <tr>\n",
       "      <th>2111</th>\n",
       "      <td>Ace wo Nerae!</td>\n",
       "      <td>8775</td>\n",
       "      <td>0.30</td>\n",
       "    </tr>\n",
       "    <tr>\n",
       "      <th>1918</th>\n",
       "      <td>Cutey Honey</td>\n",
       "      <td>12854</td>\n",
       "      <td>0.26</td>\n",
       "    </tr>\n",
       "  </tbody>\n",
       "</table>\n",
       "</div>"
      ],
      "text/plain": [
       "             naslov  stevilo_clenov  nova ocena\n",
       "1832       Doraemon           15487        0.82\n",
       "2111  Ace wo Nerae!            8775        0.30\n",
       "1918    Cutey Honey           12854        0.26"
      ]
     },
     "metadata": {},
     "output_type": "display_data"
    },
    {
     "data": {
      "text/plain": [
       "1974.0"
      ]
     },
     "metadata": {},
     "output_type": "display_data"
    },
    {
     "data": {
      "text/html": [
       "<div>\n",
       "<style scoped>\n",
       "    .dataframe tbody tr th:only-of-type {\n",
       "        vertical-align: middle;\n",
       "    }\n",
       "\n",
       "    .dataframe tbody tr th {\n",
       "        vertical-align: top;\n",
       "    }\n",
       "\n",
       "    .dataframe thead th {\n",
       "        text-align: right;\n",
       "    }\n",
       "</style>\n",
       "<table border=\"1\" class=\"dataframe\">\n",
       "  <thead>\n",
       "    <tr style=\"text-align: right;\">\n",
       "      <th></th>\n",
       "      <th>naslov</th>\n",
       "      <th>stevilo_clenov</th>\n",
       "      <th>nova ocena</th>\n",
       "    </tr>\n",
       "  </thead>\n",
       "  <tbody>\n",
       "    <tr>\n",
       "      <th>1572</th>\n",
       "      <td>Alps no Shoujo Heidi</td>\n",
       "      <td>24917</td>\n",
       "      <td>0.93</td>\n",
       "    </tr>\n",
       "    <tr>\n",
       "      <th>1673</th>\n",
       "      <td>Uchuu Senkan Yamato</td>\n",
       "      <td>20848</td>\n",
       "      <td>0.91</td>\n",
       "    </tr>\n",
       "    <tr>\n",
       "      <th>2312</th>\n",
       "      <td>Getter Robo</td>\n",
       "      <td>5672</td>\n",
       "      <td>0.14</td>\n",
       "    </tr>\n",
       "  </tbody>\n",
       "</table>\n",
       "</div>"
      ],
      "text/plain": [
       "                    naslov  stevilo_clenov  nova ocena\n",
       "1572  Alps no Shoujo Heidi           24917        0.93\n",
       "1673   Uchuu Senkan Yamato           20848        0.91\n",
       "2312           Getter Robo            5672        0.14"
      ]
     },
     "metadata": {},
     "output_type": "display_data"
    },
    {
     "data": {
      "text/plain": [
       "1975.0"
      ]
     },
     "metadata": {},
     "output_type": "display_data"
    },
    {
     "data": {
      "text/html": [
       "<div>\n",
       "<style scoped>\n",
       "    .dataframe tbody tr th:only-of-type {\n",
       "        vertical-align: middle;\n",
       "    }\n",
       "\n",
       "    .dataframe tbody tr th {\n",
       "        vertical-align: top;\n",
       "    }\n",
       "\n",
       "    .dataframe thead th {\n",
       "        text-align: right;\n",
       "    }\n",
       "</style>\n",
       "<table border=\"1\" class=\"dataframe\">\n",
       "  <thead>\n",
       "    <tr style=\"text-align: right;\">\n",
       "      <th></th>\n",
       "      <th>naslov</th>\n",
       "      <th>stevilo_clenov</th>\n",
       "      <th>nova ocena</th>\n",
       "    </tr>\n",
       "  </thead>\n",
       "  <tbody>\n",
       "    <tr>\n",
       "      <th>2136</th>\n",
       "      <td>UFO Robo Grendizer</td>\n",
       "      <td>8332</td>\n",
       "      <td>0.58</td>\n",
       "    </tr>\n",
       "    <tr>\n",
       "      <th>2351</th>\n",
       "      <td>Arabian Nights: Sindbad no Bouken (TV)</td>\n",
       "      <td>5161</td>\n",
       "      <td>0.14</td>\n",
       "    </tr>\n",
       "    <tr>\n",
       "      <th>2235</th>\n",
       "      <td>Mitsubachi Maya no Bouken</td>\n",
       "      <td>6996</td>\n",
       "      <td>0.12</td>\n",
       "    </tr>\n",
       "  </tbody>\n",
       "</table>\n",
       "</div>"
      ],
      "text/plain": [
       "                                      naslov  stevilo_clenov  nova ocena\n",
       "2136                      UFO Robo Grendizer            8332        0.58\n",
       "2351  Arabian Nights: Sindbad no Bouken (TV)            5161        0.14\n",
       "2235               Mitsubachi Maya no Bouken            6996        0.12"
      ]
     },
     "metadata": {},
     "output_type": "display_data"
    },
    {
     "data": {
      "text/plain": [
       "1976.0"
      ]
     },
     "metadata": {},
     "output_type": "display_data"
    },
    {
     "data": {
      "text/html": [
       "<div>\n",
       "<style scoped>\n",
       "    .dataframe tbody tr th:only-of-type {\n",
       "        vertical-align: middle;\n",
       "    }\n",
       "\n",
       "    .dataframe tbody tr th {\n",
       "        vertical-align: top;\n",
       "    }\n",
       "\n",
       "    .dataframe thead th {\n",
       "        text-align: right;\n",
       "    }\n",
       "</style>\n",
       "<table border=\"1\" class=\"dataframe\">\n",
       "  <thead>\n",
       "    <tr style=\"text-align: right;\">\n",
       "      <th></th>\n",
       "      <th>naslov</th>\n",
       "      <th>stevilo_clenov</th>\n",
       "      <th>nova ocena</th>\n",
       "    </tr>\n",
       "  </thead>\n",
       "  <tbody>\n",
       "    <tr>\n",
       "      <th>1667</th>\n",
       "      <td>Candy Candy</td>\n",
       "      <td>21166</td>\n",
       "      <td>1.51</td>\n",
       "    </tr>\n",
       "    <tr>\n",
       "      <th>2192</th>\n",
       "      <td>Haha wo Tazunete Sanzenri</td>\n",
       "      <td>7527</td>\n",
       "      <td>0.21</td>\n",
       "    </tr>\n",
       "    <tr>\n",
       "      <th>2644</th>\n",
       "      <td>Chou Denji Robo Combattler V</td>\n",
       "      <td>2520</td>\n",
       "      <td>0.07</td>\n",
       "    </tr>\n",
       "  </tbody>\n",
       "</table>\n",
       "</div>"
      ],
      "text/plain": [
       "                            naslov  stevilo_clenov  nova ocena\n",
       "1667                   Candy Candy           21166        1.51\n",
       "2192     Haha wo Tazunete Sanzenri            7527        0.21\n",
       "2644  Chou Denji Robo Combattler V            2520        0.07"
      ]
     },
     "metadata": {},
     "output_type": "display_data"
    },
    {
     "data": {
      "text/plain": [
       "1977.0"
      ]
     },
     "metadata": {},
     "output_type": "display_data"
    },
    {
     "data": {
      "text/html": [
       "<div>\n",
       "<style scoped>\n",
       "    .dataframe tbody tr th:only-of-type {\n",
       "        vertical-align: middle;\n",
       "    }\n",
       "\n",
       "    .dataframe tbody tr th {\n",
       "        vertical-align: top;\n",
       "    }\n",
       "\n",
       "    .dataframe thead th {\n",
       "        text-align: right;\n",
       "    }\n",
       "</style>\n",
       "<table border=\"1\" class=\"dataframe\">\n",
       "  <thead>\n",
       "    <tr style=\"text-align: right;\">\n",
       "      <th></th>\n",
       "      <th>naslov</th>\n",
       "      <th>stevilo_clenov</th>\n",
       "      <th>nova ocena</th>\n",
       "    </tr>\n",
       "  </thead>\n",
       "  <tbody>\n",
       "    <tr>\n",
       "      <th>1603</th>\n",
       "      <td>Lupin III: Part II</td>\n",
       "      <td>23548</td>\n",
       "      <td>1.16</td>\n",
       "    </tr>\n",
       "    <tr>\n",
       "      <th>2040</th>\n",
       "      <td>Ie Naki Ko</td>\n",
       "      <td>10167</td>\n",
       "      <td>0.84</td>\n",
       "    </tr>\n",
       "    <tr>\n",
       "      <th>2328</th>\n",
       "      <td>Chou Denji Machine Voltes V</td>\n",
       "      <td>5516</td>\n",
       "      <td>0.36</td>\n",
       "    </tr>\n",
       "  </tbody>\n",
       "</table>\n",
       "</div>"
      ],
      "text/plain": [
       "                           naslov  stevilo_clenov  nova ocena\n",
       "1603           Lupin III: Part II           23548        1.16\n",
       "2040                   Ie Naki Ko           10167        0.84\n",
       "2328  Chou Denji Machine Voltes V            5516        0.36"
      ]
     },
     "metadata": {},
     "output_type": "display_data"
    },
    {
     "data": {
      "text/plain": [
       "1978.0"
      ]
     },
     "metadata": {},
     "output_type": "display_data"
    },
    {
     "data": {
      "text/html": [
       "<div>\n",
       "<style scoped>\n",
       "    .dataframe tbody tr th:only-of-type {\n",
       "        vertical-align: middle;\n",
       "    }\n",
       "\n",
       "    .dataframe tbody tr th {\n",
       "        vertical-align: top;\n",
       "    }\n",
       "\n",
       "    .dataframe thead th {\n",
       "        text-align: right;\n",
       "    }\n",
       "</style>\n",
       "<table border=\"1\" class=\"dataframe\">\n",
       "  <thead>\n",
       "    <tr style=\"text-align: right;\">\n",
       "      <th></th>\n",
       "      <th>naslov</th>\n",
       "      <th>stevilo_clenov</th>\n",
       "      <th>nova ocena</th>\n",
       "    </tr>\n",
       "  </thead>\n",
       "  <tbody>\n",
       "    <tr>\n",
       "      <th>1383</th>\n",
       "      <td>Mirai Shounen Conan</td>\n",
       "      <td>34802</td>\n",
       "      <td>2.01</td>\n",
       "    </tr>\n",
       "    <tr>\n",
       "      <th>1571</th>\n",
       "      <td>Ginga Tetsudou 999</td>\n",
       "      <td>24945</td>\n",
       "      <td>1.65</td>\n",
       "    </tr>\n",
       "    <tr>\n",
       "      <th>1505</th>\n",
       "      <td>Uchuu Kaizoku Captain Herlock</td>\n",
       "      <td>27892</td>\n",
       "      <td>1.44</td>\n",
       "    </tr>\n",
       "  </tbody>\n",
       "</table>\n",
       "</div>"
      ],
      "text/plain": [
       "                             naslov  stevilo_clenov  nova ocena\n",
       "1383            Mirai Shounen Conan           34802        2.01\n",
       "1571             Ginga Tetsudou 999           24945        1.65\n",
       "1505  Uchuu Kaizoku Captain Herlock           27892        1.44"
      ]
     },
     "metadata": {},
     "output_type": "display_data"
    },
    {
     "data": {
      "text/plain": [
       "1979.0"
      ]
     },
     "metadata": {},
     "output_type": "display_data"
    },
    {
     "data": {
      "text/html": [
       "<div>\n",
       "<style scoped>\n",
       "    .dataframe tbody tr th:only-of-type {\n",
       "        vertical-align: middle;\n",
       "    }\n",
       "\n",
       "    .dataframe tbody tr th {\n",
       "        vertical-align: top;\n",
       "    }\n",
       "\n",
       "    .dataframe thead th {\n",
       "        text-align: right;\n",
       "    }\n",
       "</style>\n",
       "<table border=\"1\" class=\"dataframe\">\n",
       "  <thead>\n",
       "    <tr style=\"text-align: right;\">\n",
       "      <th></th>\n",
       "      <th>naslov</th>\n",
       "      <th>stevilo_clenov</th>\n",
       "      <th>nova ocena</th>\n",
       "    </tr>\n",
       "  </thead>\n",
       "  <tbody>\n",
       "    <tr>\n",
       "      <th>1056</th>\n",
       "      <td>Versailles no Bara</td>\n",
       "      <td>66299</td>\n",
       "      <td>5.26</td>\n",
       "    </tr>\n",
       "    <tr>\n",
       "      <th>856</th>\n",
       "      <td>Mobile Suit Gundam</td>\n",
       "      <td>94229</td>\n",
       "      <td>4.48</td>\n",
       "    </tr>\n",
       "    <tr>\n",
       "      <th>1665</th>\n",
       "      <td>Akage no Anne</td>\n",
       "      <td>21263</td>\n",
       "      <td>2.01</td>\n",
       "    </tr>\n",
       "  </tbody>\n",
       "</table>\n",
       "</div>"
      ],
      "text/plain": [
       "                  naslov  stevilo_clenov  nova ocena\n",
       "1056  Versailles no Bara           66299        5.26\n",
       "856   Mobile Suit Gundam           94229        4.48\n",
       "1665       Akage no Anne           21263        2.01"
      ]
     },
     "metadata": {},
     "output_type": "display_data"
    },
    {
     "data": {
      "text/plain": [
       "1980.0"
      ]
     },
     "metadata": {},
     "output_type": "display_data"
    },
    {
     "data": {
      "text/html": [
       "<div>\n",
       "<style scoped>\n",
       "    .dataframe tbody tr th:only-of-type {\n",
       "        vertical-align: middle;\n",
       "    }\n",
       "\n",
       "    .dataframe tbody tr th {\n",
       "        vertical-align: top;\n",
       "    }\n",
       "\n",
       "    .dataframe thead th {\n",
       "        text-align: right;\n",
       "    }\n",
       "</style>\n",
       "<table border=\"1\" class=\"dataframe\">\n",
       "  <thead>\n",
       "    <tr style=\"text-align: right;\">\n",
       "      <th></th>\n",
       "      <th>naslov</th>\n",
       "      <th>stevilo_clenov</th>\n",
       "      <th>nova ocena</th>\n",
       "    </tr>\n",
       "  </thead>\n",
       "  <tbody>\n",
       "    <tr>\n",
       "      <th>1488</th>\n",
       "      <td>Ashita no Joe 2</td>\n",
       "      <td>28624</td>\n",
       "      <td>4.39</td>\n",
       "    </tr>\n",
       "    <tr>\n",
       "      <th>2049</th>\n",
       "      <td>Tetsuwan Atom (1980)</td>\n",
       "      <td>9989</td>\n",
       "      <td>0.45</td>\n",
       "    </tr>\n",
       "    <tr>\n",
       "      <th>1982</th>\n",
       "      <td>Densetsu Kyojin Ideon</td>\n",
       "      <td>11450</td>\n",
       "      <td>0.41</td>\n",
       "    </tr>\n",
       "  </tbody>\n",
       "</table>\n",
       "</div>"
      ],
      "text/plain": [
       "                     naslov  stevilo_clenov  nova ocena\n",
       "1488        Ashita no Joe 2           28624        4.39\n",
       "2049   Tetsuwan Atom (1980)            9989        0.45\n",
       "1982  Densetsu Kyojin Ideon           11450        0.41"
      ]
     },
     "metadata": {},
     "output_type": "display_data"
    },
    {
     "data": {
      "text/plain": [
       "1981.0"
      ]
     },
     "metadata": {},
     "output_type": "display_data"
    },
    {
     "data": {
      "text/html": [
       "<div>\n",
       "<style scoped>\n",
       "    .dataframe tbody tr th:only-of-type {\n",
       "        vertical-align: middle;\n",
       "    }\n",
       "\n",
       "    .dataframe tbody tr th {\n",
       "        vertical-align: top;\n",
       "    }\n",
       "\n",
       "    .dataframe thead th {\n",
       "        text-align: right;\n",
       "    }\n",
       "</style>\n",
       "<table border=\"1\" class=\"dataframe\">\n",
       "  <thead>\n",
       "    <tr style=\"text-align: right;\">\n",
       "      <th></th>\n",
       "      <th>naslov</th>\n",
       "      <th>stevilo_clenov</th>\n",
       "      <th>nova ocena</th>\n",
       "    </tr>\n",
       "  </thead>\n",
       "  <tbody>\n",
       "    <tr>\n",
       "      <th>1148</th>\n",
       "      <td>Urusei Yatsura</td>\n",
       "      <td>55758</td>\n",
       "      <td>2.98</td>\n",
       "    </tr>\n",
       "    <tr>\n",
       "      <th>2059</th>\n",
       "      <td>Hyakujuu-Ou GoLion</td>\n",
       "      <td>9778</td>\n",
       "      <td>0.31</td>\n",
       "    </tr>\n",
       "    <tr>\n",
       "      <th>1999</th>\n",
       "      <td>Dr. Slump: Arale-chan</td>\n",
       "      <td>10933</td>\n",
       "      <td>0.31</td>\n",
       "    </tr>\n",
       "  </tbody>\n",
       "</table>\n",
       "</div>"
      ],
      "text/plain": [
       "                     naslov  stevilo_clenov  nova ocena\n",
       "1148         Urusei Yatsura           55758        2.98\n",
       "2059     Hyakujuu-Ou GoLion            9778        0.31\n",
       "1999  Dr. Slump: Arale-chan           10933        0.31"
      ]
     },
     "metadata": {},
     "output_type": "display_data"
    },
    {
     "data": {
      "text/plain": [
       "1982.0"
      ]
     },
     "metadata": {},
     "output_type": "display_data"
    },
    {
     "data": {
      "text/html": [
       "<div>\n",
       "<style scoped>\n",
       "    .dataframe tbody tr th:only-of-type {\n",
       "        vertical-align: middle;\n",
       "    }\n",
       "\n",
       "    .dataframe tbody tr th {\n",
       "        vertical-align: top;\n",
       "    }\n",
       "\n",
       "    .dataframe thead th {\n",
       "        text-align: right;\n",
       "    }\n",
       "</style>\n",
       "<table border=\"1\" class=\"dataframe\">\n",
       "  <thead>\n",
       "    <tr style=\"text-align: right;\">\n",
       "      <th></th>\n",
       "      <th>naslov</th>\n",
       "      <th>stevilo_clenov</th>\n",
       "      <th>nova ocena</th>\n",
       "    </tr>\n",
       "  </thead>\n",
       "  <tbody>\n",
       "    <tr>\n",
       "      <th>950</th>\n",
       "      <td>Macross</td>\n",
       "      <td>81079</td>\n",
       "      <td>4.34</td>\n",
       "    </tr>\n",
       "    <tr>\n",
       "      <th>1828</th>\n",
       "      <td>Space Cobra</td>\n",
       "      <td>15581</td>\n",
       "      <td>1.02</td>\n",
       "    </tr>\n",
       "    <tr>\n",
       "      <th>2074</th>\n",
       "      <td>Taiyou no Ko Esteban</td>\n",
       "      <td>9520</td>\n",
       "      <td>0.46</td>\n",
       "    </tr>\n",
       "  </tbody>\n",
       "</table>\n",
       "</div>"
      ],
      "text/plain": [
       "                    naslov  stevilo_clenov  nova ocena\n",
       "950                Macross           81079        4.34\n",
       "1828           Space Cobra           15581        1.02\n",
       "2074  Taiyou no Ko Esteban            9520        0.46"
      ]
     },
     "metadata": {},
     "output_type": "display_data"
    },
    {
     "data": {
      "text/plain": [
       "1983.0"
      ]
     },
     "metadata": {},
     "output_type": "display_data"
    },
    {
     "data": {
      "text/html": [
       "<div>\n",
       "<style scoped>\n",
       "    .dataframe tbody tr th:only-of-type {\n",
       "        vertical-align: middle;\n",
       "    }\n",
       "\n",
       "    .dataframe tbody tr th {\n",
       "        vertical-align: top;\n",
       "    }\n",
       "\n",
       "    .dataframe thead th {\n",
       "        text-align: right;\n",
       "    }\n",
       "</style>\n",
       "<table border=\"1\" class=\"dataframe\">\n",
       "  <thead>\n",
       "    <tr style=\"text-align: right;\">\n",
       "      <th></th>\n",
       "      <th>naslov</th>\n",
       "      <th>stevilo_clenov</th>\n",
       "      <th>nova ocena</th>\n",
       "    </tr>\n",
       "  </thead>\n",
       "  <tbody>\n",
       "    <tr>\n",
       "      <th>1082</th>\n",
       "      <td>Captain Tsubasa</td>\n",
       "      <td>63667</td>\n",
       "      <td>1.92</td>\n",
       "    </tr>\n",
       "    <tr>\n",
       "      <th>1760</th>\n",
       "      <td>Soukou Kihei Votoms</td>\n",
       "      <td>17762</td>\n",
       "      <td>1.52</td>\n",
       "    </tr>\n",
       "    <tr>\n",
       "      <th>2119</th>\n",
       "      <td>Igano Kabamaru</td>\n",
       "      <td>8602</td>\n",
       "      <td>0.65</td>\n",
       "    </tr>\n",
       "  </tbody>\n",
       "</table>\n",
       "</div>"
      ],
      "text/plain": [
       "                   naslov  stevilo_clenov  nova ocena\n",
       "1082      Captain Tsubasa           63667        1.92\n",
       "1760  Soukou Kihei Votoms           17762        1.52\n",
       "2119       Igano Kabamaru            8602        0.65"
      ]
     },
     "metadata": {},
     "output_type": "display_data"
    },
    {
     "data": {
      "text/plain": [
       "1984.0"
      ]
     },
     "metadata": {},
     "output_type": "display_data"
    },
    {
     "data": {
      "text/html": [
       "<div>\n",
       "<style scoped>\n",
       "    .dataframe tbody tr th:only-of-type {\n",
       "        vertical-align: middle;\n",
       "    }\n",
       "\n",
       "    .dataframe tbody tr th {\n",
       "        vertical-align: top;\n",
       "    }\n",
       "\n",
       "    .dataframe thead th {\n",
       "        text-align: right;\n",
       "    }\n",
       "</style>\n",
       "<table border=\"1\" class=\"dataframe\">\n",
       "  <thead>\n",
       "    <tr style=\"text-align: right;\">\n",
       "      <th></th>\n",
       "      <th>naslov</th>\n",
       "      <th>stevilo_clenov</th>\n",
       "      <th>nova ocena</th>\n",
       "    </tr>\n",
       "  </thead>\n",
       "  <tbody>\n",
       "    <tr>\n",
       "      <th>846</th>\n",
       "      <td>Hokuto no Ken</td>\n",
       "      <td>95276</td>\n",
       "      <td>4.82</td>\n",
       "    </tr>\n",
       "    <tr>\n",
       "      <th>2134</th>\n",
       "      <td>Meitantei Holmes</td>\n",
       "      <td>8342</td>\n",
       "      <td>0.32</td>\n",
       "    </tr>\n",
       "    <tr>\n",
       "      <th>2225</th>\n",
       "      <td>Glass no Kamen</td>\n",
       "      <td>7052</td>\n",
       "      <td>0.25</td>\n",
       "    </tr>\n",
       "  </tbody>\n",
       "</table>\n",
       "</div>"
      ],
      "text/plain": [
       "                naslov  stevilo_clenov  nova ocena\n",
       "846      Hokuto no Ken           95276        4.82\n",
       "2134  Meitantei Holmes            8342        0.32\n",
       "2225    Glass no Kamen            7052        0.25"
      ]
     },
     "metadata": {},
     "output_type": "display_data"
    },
    {
     "data": {
      "text/plain": [
       "1985.0"
      ]
     },
     "metadata": {},
     "output_type": "display_data"
    },
    {
     "data": {
      "text/html": [
       "<div>\n",
       "<style scoped>\n",
       "    .dataframe tbody tr th:only-of-type {\n",
       "        vertical-align: middle;\n",
       "    }\n",
       "\n",
       "    .dataframe tbody tr th {\n",
       "        vertical-align: top;\n",
       "    }\n",
       "\n",
       "    .dataframe thead th {\n",
       "        text-align: right;\n",
       "    }\n",
       "</style>\n",
       "<table border=\"1\" class=\"dataframe\">\n",
       "  <thead>\n",
       "    <tr style=\"text-align: right;\">\n",
       "      <th></th>\n",
       "      <th>naslov</th>\n",
       "      <th>stevilo_clenov</th>\n",
       "      <th>nova ocena</th>\n",
       "    </tr>\n",
       "  </thead>\n",
       "  <tbody>\n",
       "    <tr>\n",
       "      <th>1187</th>\n",
       "      <td>Mobile Suit Zeta Gundam</td>\n",
       "      <td>52349</td>\n",
       "      <td>4.37</td>\n",
       "    </tr>\n",
       "    <tr>\n",
       "      <th>1538</th>\n",
       "      <td>Touch</td>\n",
       "      <td>26403</td>\n",
       "      <td>2.09</td>\n",
       "    </tr>\n",
       "    <tr>\n",
       "      <th>1670</th>\n",
       "      <td>Dirty Pair</td>\n",
       "      <td>21122</td>\n",
       "      <td>0.80</td>\n",
       "    </tr>\n",
       "  </tbody>\n",
       "</table>\n",
       "</div>"
      ],
      "text/plain": [
       "                       naslov  stevilo_clenov  nova ocena\n",
       "1187  Mobile Suit Zeta Gundam           52349        4.37\n",
       "1538                    Touch           26403        2.09\n",
       "1670               Dirty Pair           21122        0.80"
      ]
     },
     "metadata": {},
     "output_type": "display_data"
    },
    {
     "data": {
      "text/plain": [
       "1986.0"
      ]
     },
     "metadata": {},
     "output_type": "display_data"
    },
    {
     "data": {
      "text/html": [
       "<div>\n",
       "<style scoped>\n",
       "    .dataframe tbody tr th:only-of-type {\n",
       "        vertical-align: middle;\n",
       "    }\n",
       "\n",
       "    .dataframe tbody tr th {\n",
       "        vertical-align: top;\n",
       "    }\n",
       "\n",
       "    .dataframe thead th {\n",
       "        text-align: right;\n",
       "    }\n",
       "</style>\n",
       "<table border=\"1\" class=\"dataframe\">\n",
       "  <thead>\n",
       "    <tr style=\"text-align: right;\">\n",
       "      <th></th>\n",
       "      <th>naslov</th>\n",
       "      <th>stevilo_clenov</th>\n",
       "      <th>nova ocena</th>\n",
       "    </tr>\n",
       "  </thead>\n",
       "  <tbody>\n",
       "    <tr>\n",
       "      <th>103</th>\n",
       "      <td>Dragon Ball</td>\n",
       "      <td>695117</td>\n",
       "      <td>7.56</td>\n",
       "    </tr>\n",
       "    <tr>\n",
       "      <th>669</th>\n",
       "      <td>Saint Seiya</td>\n",
       "      <td>140150</td>\n",
       "      <td>6.00</td>\n",
       "    </tr>\n",
       "    <tr>\n",
       "      <th>1224</th>\n",
       "      <td>Maison Ikkoku</td>\n",
       "      <td>49223</td>\n",
       "      <td>3.96</td>\n",
       "    </tr>\n",
       "  </tbody>\n",
       "</table>\n",
       "</div>"
      ],
      "text/plain": [
       "             naslov  stevilo_clenov  nova ocena\n",
       "103     Dragon Ball          695117        7.56\n",
       "669     Saint Seiya          140150        6.00\n",
       "1224  Maison Ikkoku           49223        3.96"
      ]
     },
     "metadata": {},
     "output_type": "display_data"
    },
    {
     "data": {
      "text/plain": [
       "1987.0"
      ]
     },
     "metadata": {},
     "output_type": "display_data"
    },
    {
     "data": {
      "text/html": [
       "<div>\n",
       "<style scoped>\n",
       "    .dataframe tbody tr th:only-of-type {\n",
       "        vertical-align: middle;\n",
       "    }\n",
       "\n",
       "    .dataframe tbody tr th {\n",
       "        vertical-align: top;\n",
       "    }\n",
       "\n",
       "    .dataframe thead th {\n",
       "        text-align: right;\n",
       "    }\n",
       "</style>\n",
       "<table border=\"1\" class=\"dataframe\">\n",
       "  <thead>\n",
       "    <tr style=\"text-align: right;\">\n",
       "      <th></th>\n",
       "      <th>naslov</th>\n",
       "      <th>stevilo_clenov</th>\n",
       "      <th>nova ocena</th>\n",
       "    </tr>\n",
       "  </thead>\n",
       "  <tbody>\n",
       "    <tr>\n",
       "      <th>1213</th>\n",
       "      <td>City Hunter</td>\n",
       "      <td>50411</td>\n",
       "      <td>2.79</td>\n",
       "    </tr>\n",
       "    <tr>\n",
       "      <th>1399</th>\n",
       "      <td>Kimagure Orange☆Road</td>\n",
       "      <td>33539</td>\n",
       "      <td>2.01</td>\n",
       "    </tr>\n",
       "    <tr>\n",
       "      <th>1616</th>\n",
       "      <td>Hokuto no Ken 2</td>\n",
       "      <td>23013</td>\n",
       "      <td>0.71</td>\n",
       "    </tr>\n",
       "  </tbody>\n",
       "</table>\n",
       "</div>"
      ],
      "text/plain": [
       "                    naslov  stevilo_clenov  nova ocena\n",
       "1213           City Hunter           50411        2.79\n",
       "1399  Kimagure Orange☆Road           33539        2.01\n",
       "1616       Hokuto no Ken 2           23013        0.71"
      ]
     },
     "metadata": {},
     "output_type": "display_data"
    },
    {
     "data": {
      "text/plain": [
       "1988.0"
      ]
     },
     "metadata": {},
     "output_type": "display_data"
    },
    {
     "data": {
      "text/html": [
       "<div>\n",
       "<style scoped>\n",
       "    .dataframe tbody tr th:only-of-type {\n",
       "        vertical-align: middle;\n",
       "    }\n",
       "\n",
       "    .dataframe tbody tr th {\n",
       "        vertical-align: top;\n",
       "    }\n",
       "\n",
       "    .dataframe thead th {\n",
       "        text-align: right;\n",
       "    }\n",
       "</style>\n",
       "<table border=\"1\" class=\"dataframe\">\n",
       "  <thead>\n",
       "    <tr style=\"text-align: right;\">\n",
       "      <th></th>\n",
       "      <th>naslov</th>\n",
       "      <th>stevilo_clenov</th>\n",
       "      <th>nova ocena</th>\n",
       "    </tr>\n",
       "  </thead>\n",
       "  <tbody>\n",
       "    <tr>\n",
       "      <th>1838</th>\n",
       "      <td>Yoroiden Samurai Troopers</td>\n",
       "      <td>15338</td>\n",
       "      <td>0.80</td>\n",
       "    </tr>\n",
       "    <tr>\n",
       "      <th>1752</th>\n",
       "      <td>City Hunter 2</td>\n",
       "      <td>17980</td>\n",
       "      <td>0.68</td>\n",
       "    </tr>\n",
       "    <tr>\n",
       "      <th>2060</th>\n",
       "      <td>Sakigake!! Otokojuku</td>\n",
       "      <td>9770</td>\n",
       "      <td>0.44</td>\n",
       "    </tr>\n",
       "  </tbody>\n",
       "</table>\n",
       "</div>"
      ],
      "text/plain": [
       "                         naslov  stevilo_clenov  nova ocena\n",
       "1838  Yoroiden Samurai Troopers           15338        0.80\n",
       "1752              City Hunter 2           17980        0.68\n",
       "2060       Sakigake!! Otokojuku            9770        0.44"
      ]
     },
     "metadata": {},
     "output_type": "display_data"
    },
    {
     "data": {
      "text/plain": [
       "1989.0"
      ]
     },
     "metadata": {},
     "output_type": "display_data"
    },
    {
     "data": {
      "text/html": [
       "<div>\n",
       "<style scoped>\n",
       "    .dataframe tbody tr th:only-of-type {\n",
       "        vertical-align: middle;\n",
       "    }\n",
       "\n",
       "    .dataframe tbody tr th {\n",
       "        vertical-align: top;\n",
       "    }\n",
       "\n",
       "    .dataframe thead th {\n",
       "        text-align: right;\n",
       "    }\n",
       "</style>\n",
       "<table border=\"1\" class=\"dataframe\">\n",
       "  <thead>\n",
       "    <tr style=\"text-align: right;\">\n",
       "      <th></th>\n",
       "      <th>naslov</th>\n",
       "      <th>stevilo_clenov</th>\n",
       "      <th>nova ocena</th>\n",
       "    </tr>\n",
       "  </thead>\n",
       "  <tbody>\n",
       "    <tr>\n",
       "      <th>71</th>\n",
       "      <td>Dragon Ball Z</td>\n",
       "      <td>841343</td>\n",
       "      <td>8.16</td>\n",
       "    </tr>\n",
       "    <tr>\n",
       "      <th>524</th>\n",
       "      <td>Ranma ½</td>\n",
       "      <td>187896</td>\n",
       "      <td>5.80</td>\n",
       "    </tr>\n",
       "    <tr>\n",
       "      <th>1498</th>\n",
       "      <td>Kidou Keisatsu Patlabor: On Television</td>\n",
       "      <td>28081</td>\n",
       "      <td>1.63</td>\n",
       "    </tr>\n",
       "  </tbody>\n",
       "</table>\n",
       "</div>"
      ],
      "text/plain": [
       "                                      naslov  stevilo_clenov  nova ocena\n",
       "71                             Dragon Ball Z          841343        8.16\n",
       "524                                  Ranma ½          187896        5.80\n",
       "1498  Kidou Keisatsu Patlabor: On Television           28081        1.63"
      ]
     },
     "metadata": {},
     "output_type": "display_data"
    },
    {
     "data": {
      "text/plain": [
       "1990.0"
      ]
     },
     "metadata": {},
     "output_type": "display_data"
    },
    {
     "data": {
      "text/html": [
       "<div>\n",
       "<style scoped>\n",
       "    .dataframe tbody tr th:only-of-type {\n",
       "        vertical-align: middle;\n",
       "    }\n",
       "\n",
       "    .dataframe tbody tr th {\n",
       "        vertical-align: top;\n",
       "    }\n",
       "\n",
       "    .dataframe thead th {\n",
       "        text-align: right;\n",
       "    }\n",
       "</style>\n",
       "<table border=\"1\" class=\"dataframe\">\n",
       "  <thead>\n",
       "    <tr style=\"text-align: right;\">\n",
       "      <th></th>\n",
       "      <th>naslov</th>\n",
       "      <th>stevilo_clenov</th>\n",
       "      <th>nova ocena</th>\n",
       "    </tr>\n",
       "  </thead>\n",
       "  <tbody>\n",
       "    <tr>\n",
       "      <th>1774</th>\n",
       "      <td>Tanoshii Muumin Ikka</td>\n",
       "      <td>17396</td>\n",
       "      <td>1.96</td>\n",
       "    </tr>\n",
       "    <tr>\n",
       "      <th>1236</th>\n",
       "      <td>Fushigi no Umi no Nadia</td>\n",
       "      <td>48414</td>\n",
       "      <td>1.88</td>\n",
       "    </tr>\n",
       "    <tr>\n",
       "      <th>1980</th>\n",
       "      <td>Watashi no Ashinaga Ojisan</td>\n",
       "      <td>11452</td>\n",
       "      <td>0.64</td>\n",
       "    </tr>\n",
       "  </tbody>\n",
       "</table>\n",
       "</div>"
      ],
      "text/plain": [
       "                          naslov  stevilo_clenov  nova ocena\n",
       "1774        Tanoshii Muumin Ikka           17396        1.96\n",
       "1236     Fushigi no Umi no Nadia           48414        1.88\n",
       "1980  Watashi no Ashinaga Ojisan           11452        0.64"
      ]
     },
     "metadata": {},
     "output_type": "display_data"
    },
    {
     "data": {
      "text/plain": [
       "1991.0"
      ]
     },
     "metadata": {},
     "output_type": "display_data"
    },
    {
     "data": {
      "text/html": [
       "<div>\n",
       "<style scoped>\n",
       "    .dataframe tbody tr th:only-of-type {\n",
       "        vertical-align: middle;\n",
       "    }\n",
       "\n",
       "    .dataframe tbody tr th {\n",
       "        vertical-align: top;\n",
       "    }\n",
       "\n",
       "    .dataframe thead th {\n",
       "        text-align: right;\n",
       "    }\n",
       "</style>\n",
       "<table border=\"1\" class=\"dataframe\">\n",
       "  <thead>\n",
       "    <tr style=\"text-align: right;\">\n",
       "      <th></th>\n",
       "      <th>naslov</th>\n",
       "      <th>stevilo_clenov</th>\n",
       "      <th>nova ocena</th>\n",
       "    </tr>\n",
       "  </thead>\n",
       "  <tbody>\n",
       "    <tr>\n",
       "      <th>1754</th>\n",
       "      <td>Dragon Quest: Dai no Daibouken (TV)</td>\n",
       "      <td>17961</td>\n",
       "      <td>0.63</td>\n",
       "    </tr>\n",
       "    <tr>\n",
       "      <th>1877</th>\n",
       "      <td>City Hunter &amp;#039;91</td>\n",
       "      <td>14082</td>\n",
       "      <td>0.29</td>\n",
       "    </tr>\n",
       "    <tr>\n",
       "      <th>2344</th>\n",
       "      <td>Future GPX Cyber Formula</td>\n",
       "      <td>5241</td>\n",
       "      <td>0.26</td>\n",
       "    </tr>\n",
       "  </tbody>\n",
       "</table>\n",
       "</div>"
      ],
      "text/plain": [
       "                                   naslov  stevilo_clenov  nova ocena\n",
       "1754  Dragon Quest: Dai no Daibouken (TV)           17961        0.63\n",
       "1877                 City Hunter &#039;91           14082        0.29\n",
       "2344             Future GPX Cyber Formula            5241        0.26"
      ]
     },
     "metadata": {},
     "output_type": "display_data"
    },
    {
     "data": {
      "text/plain": [
       "1992.0"
      ]
     },
     "metadata": {},
     "output_type": "display_data"
    },
    {
     "data": {
      "text/html": [
       "<div>\n",
       "<style scoped>\n",
       "    .dataframe tbody tr th:only-of-type {\n",
       "        vertical-align: middle;\n",
       "    }\n",
       "\n",
       "    .dataframe tbody tr th {\n",
       "        vertical-align: top;\n",
       "    }\n",
       "\n",
       "    .dataframe thead th {\n",
       "        text-align: right;\n",
       "    }\n",
       "</style>\n",
       "<table border=\"1\" class=\"dataframe\">\n",
       "  <thead>\n",
       "    <tr style=\"text-align: right;\">\n",
       "      <th></th>\n",
       "      <th>naslov</th>\n",
       "      <th>stevilo_clenov</th>\n",
       "      <th>nova ocena</th>\n",
       "    </tr>\n",
       "  </thead>\n",
       "  <tbody>\n",
       "    <tr>\n",
       "      <th>209</th>\n",
       "      <td>Yuu☆Yuu☆Hakusho</td>\n",
       "      <td>450090</td>\n",
       "      <td>8.12</td>\n",
       "    </tr>\n",
       "    <tr>\n",
       "      <th>381</th>\n",
       "      <td>Bishoujo Senshi Sailor Moon</td>\n",
       "      <td>264266</td>\n",
       "      <td>6.87</td>\n",
       "    </tr>\n",
       "    <tr>\n",
       "      <th>1906</th>\n",
       "      <td>Uchuu no Kishi Tekkaman Blade</td>\n",
       "      <td>13134</td>\n",
       "      <td>0.83</td>\n",
       "    </tr>\n",
       "  </tbody>\n",
       "</table>\n",
       "</div>"
      ],
      "text/plain": [
       "                             naslov  stevilo_clenov  nova ocena\n",
       "209                 Yuu☆Yuu☆Hakusho          450090        8.12\n",
       "381     Bishoujo Senshi Sailor Moon          264266        6.87\n",
       "1906  Uchuu no Kishi Tekkaman Blade           13134        0.83"
      ]
     },
     "metadata": {},
     "output_type": "display_data"
    },
    {
     "data": {
      "text/plain": [
       "1993.0"
      ]
     },
     "metadata": {},
     "output_type": "display_data"
    },
    {
     "data": {
      "text/html": [
       "<div>\n",
       "<style scoped>\n",
       "    .dataframe tbody tr th:only-of-type {\n",
       "        vertical-align: middle;\n",
       "    }\n",
       "\n",
       "    .dataframe tbody tr th {\n",
       "        vertical-align: top;\n",
       "    }\n",
       "\n",
       "    .dataframe thead th {\n",
       "        text-align: right;\n",
       "    }\n",
       "</style>\n",
       "<table border=\"1\" class=\"dataframe\">\n",
       "  <thead>\n",
       "    <tr style=\"text-align: right;\">\n",
       "      <th></th>\n",
       "      <th>naslov</th>\n",
       "      <th>stevilo_clenov</th>\n",
       "      <th>nova ocena</th>\n",
       "    </tr>\n",
       "  </thead>\n",
       "  <tbody>\n",
       "    <tr>\n",
       "      <th>511</th>\n",
       "      <td>Slam Dunk</td>\n",
       "      <td>190723</td>\n",
       "      <td>6.95</td>\n",
       "    </tr>\n",
       "    <tr>\n",
       "      <th>740</th>\n",
       "      <td>Bishoujo Senshi Sailor Moon R</td>\n",
       "      <td>117017</td>\n",
       "      <td>3.13</td>\n",
       "    </tr>\n",
       "    <tr>\n",
       "      <th>1350</th>\n",
       "      <td>Musekinin Kanchou Tylor</td>\n",
       "      <td>37345</td>\n",
       "      <td>2.06</td>\n",
       "    </tr>\n",
       "  </tbody>\n",
       "</table>\n",
       "</div>"
      ],
      "text/plain": [
       "                             naslov  stevilo_clenov  nova ocena\n",
       "511                       Slam Dunk          190723        6.95\n",
       "740   Bishoujo Senshi Sailor Moon R          117017        3.13\n",
       "1350        Musekinin Kanchou Tylor           37345        2.06"
      ]
     },
     "metadata": {},
     "output_type": "display_data"
    },
    {
     "data": {
      "text/plain": [
       "1994.0"
      ]
     },
     "metadata": {},
     "output_type": "display_data"
    },
    {
     "data": {
      "text/html": [
       "<div>\n",
       "<style scoped>\n",
       "    .dataframe tbody tr th:only-of-type {\n",
       "        vertical-align: middle;\n",
       "    }\n",
       "\n",
       "    .dataframe tbody tr th {\n",
       "        vertical-align: top;\n",
       "    }\n",
       "\n",
       "    .dataframe thead th {\n",
       "        text-align: right;\n",
       "    }\n",
       "</style>\n",
       "<table border=\"1\" class=\"dataframe\">\n",
       "  <thead>\n",
       "    <tr style=\"text-align: right;\">\n",
       "      <th></th>\n",
       "      <th>naslov</th>\n",
       "      <th>stevilo_clenov</th>\n",
       "      <th>nova ocena</th>\n",
       "    </tr>\n",
       "  </thead>\n",
       "  <tbody>\n",
       "    <tr>\n",
       "      <th>768</th>\n",
       "      <td>Bishoujo Senshi Sailor Moon S</td>\n",
       "      <td>108519</td>\n",
       "      <td>4.11</td>\n",
       "    </tr>\n",
       "    <tr>\n",
       "      <th>1160</th>\n",
       "      <td>Mobile Fighter G Gundam</td>\n",
       "      <td>54387</td>\n",
       "      <td>3.03</td>\n",
       "    </tr>\n",
       "    <tr>\n",
       "      <th>1308</th>\n",
       "      <td>Marmalade Boy</td>\n",
       "      <td>41035</td>\n",
       "      <td>2.27</td>\n",
       "    </tr>\n",
       "  </tbody>\n",
       "</table>\n",
       "</div>"
      ],
      "text/plain": [
       "                             naslov  stevilo_clenov  nova ocena\n",
       "768   Bishoujo Senshi Sailor Moon S          108519        4.11\n",
       "1160        Mobile Fighter G Gundam           54387        3.03\n",
       "1308                  Marmalade Boy           41035        2.27"
      ]
     },
     "metadata": {},
     "output_type": "display_data"
    },
    {
     "data": {
      "text/plain": [
       "1995.0"
      ]
     },
     "metadata": {},
     "output_type": "display_data"
    },
    {
     "data": {
      "text/html": [
       "<div>\n",
       "<style scoped>\n",
       "    .dataframe tbody tr th:only-of-type {\n",
       "        vertical-align: middle;\n",
       "    }\n",
       "\n",
       "    .dataframe tbody tr th {\n",
       "        vertical-align: top;\n",
       "    }\n",
       "\n",
       "    .dataframe thead th {\n",
       "        text-align: right;\n",
       "    }\n",
       "</style>\n",
       "<table border=\"1\" class=\"dataframe\">\n",
       "  <thead>\n",
       "    <tr style=\"text-align: right;\">\n",
       "      <th></th>\n",
       "      <th>naslov</th>\n",
       "      <th>stevilo_clenov</th>\n",
       "      <th>nova ocena</th>\n",
       "    </tr>\n",
       "  </thead>\n",
       "  <tbody>\n",
       "    <tr>\n",
       "      <th>43</th>\n",
       "      <td>Neon Genesis Evangelion</td>\n",
       "      <td>1079668</td>\n",
       "      <td>8.50</td>\n",
       "    </tr>\n",
       "    <tr>\n",
       "      <th>852</th>\n",
       "      <td>Fushigi Yuugi</td>\n",
       "      <td>94761</td>\n",
       "      <td>4.84</td>\n",
       "    </tr>\n",
       "    <tr>\n",
       "      <th>748</th>\n",
       "      <td>Slayers</td>\n",
       "      <td>114762</td>\n",
       "      <td>4.68</td>\n",
       "    </tr>\n",
       "  </tbody>\n",
       "</table>\n",
       "</div>"
      ],
      "text/plain": [
       "                      naslov  stevilo_clenov  nova ocena\n",
       "43   Neon Genesis Evangelion         1079668        8.50\n",
       "852            Fushigi Yuugi           94761        4.84\n",
       "748                  Slayers          114762        4.68"
      ]
     },
     "metadata": {},
     "output_type": "display_data"
    },
    {
     "data": {
      "text/plain": [
       "1996.0"
      ]
     },
     "metadata": {},
     "output_type": "display_data"
    },
    {
     "data": {
      "text/html": [
       "<div>\n",
       "<style scoped>\n",
       "    .dataframe tbody tr th:only-of-type {\n",
       "        vertical-align: middle;\n",
       "    }\n",
       "\n",
       "    .dataframe tbody tr th {\n",
       "        vertical-align: top;\n",
       "    }\n",
       "\n",
       "    .dataframe thead th {\n",
       "        text-align: right;\n",
       "    }\n",
       "</style>\n",
       "<table border=\"1\" class=\"dataframe\">\n",
       "  <thead>\n",
       "    <tr style=\"text-align: right;\">\n",
       "      <th></th>\n",
       "      <th>naslov</th>\n",
       "      <th>stevilo_clenov</th>\n",
       "      <th>nova ocena</th>\n",
       "    </tr>\n",
       "  </thead>\n",
       "  <tbody>\n",
       "    <tr>\n",
       "      <th>263</th>\n",
       "      <td>Rurouni Kenshin: Meiji Kenkaku Romantan</td>\n",
       "      <td>375015</td>\n",
       "      <td>7.68</td>\n",
       "    </tr>\n",
       "    <tr>\n",
       "      <th>701</th>\n",
       "      <td>Tenkuu no Escaflowne</td>\n",
       "      <td>125153</td>\n",
       "      <td>4.78</td>\n",
       "    </tr>\n",
       "    <tr>\n",
       "      <th>207</th>\n",
       "      <td>Dragon Ball GT</td>\n",
       "      <td>451652</td>\n",
       "      <td>3.96</td>\n",
       "    </tr>\n",
       "  </tbody>\n",
       "</table>\n",
       "</div>"
      ],
      "text/plain": [
       "                                      naslov  stevilo_clenov  nova ocena\n",
       "263  Rurouni Kenshin: Meiji Kenkaku Romantan          375015        7.68\n",
       "701                     Tenkuu no Escaflowne          125153        4.78\n",
       "207                           Dragon Ball GT          451652        3.96"
      ]
     },
     "metadata": {},
     "output_type": "display_data"
    },
    {
     "data": {
      "text/plain": [
       "1997.0"
      ]
     },
     "metadata": {},
     "output_type": "display_data"
    },
    {
     "data": {
      "text/html": [
       "<div>\n",
       "<style scoped>\n",
       "    .dataframe tbody tr th:only-of-type {\n",
       "        vertical-align: middle;\n",
       "    }\n",
       "\n",
       "    .dataframe tbody tr th {\n",
       "        vertical-align: top;\n",
       "    }\n",
       "\n",
       "    .dataframe thead th {\n",
       "        text-align: right;\n",
       "    }\n",
       "</style>\n",
       "<table border=\"1\" class=\"dataframe\">\n",
       "  <thead>\n",
       "    <tr style=\"text-align: right;\">\n",
       "      <th></th>\n",
       "      <th>naslov</th>\n",
       "      <th>stevilo_clenov</th>\n",
       "      <th>nova ocena</th>\n",
       "    </tr>\n",
       "  </thead>\n",
       "  <tbody>\n",
       "    <tr>\n",
       "      <th>232</th>\n",
       "      <td>Kenpuu Denki Berserk</td>\n",
       "      <td>417276</td>\n",
       "      <td>8.16</td>\n",
       "    </tr>\n",
       "    <tr>\n",
       "      <th>628</th>\n",
       "      <td>Shoujo Kakumei Utena</td>\n",
       "      <td>150803</td>\n",
       "      <td>6.83</td>\n",
       "    </tr>\n",
       "    <tr>\n",
       "      <th>218</th>\n",
       "      <td>Pokemon</td>\n",
       "      <td>440749</td>\n",
       "      <td>6.00</td>\n",
       "    </tr>\n",
       "  </tbody>\n",
       "</table>\n",
       "</div>"
      ],
      "text/plain": [
       "                   naslov  stevilo_clenov  nova ocena\n",
       "232  Kenpuu Denki Berserk          417276        8.16\n",
       "628  Shoujo Kakumei Utena          150803        6.83\n",
       "218               Pokemon          440749        6.00"
      ]
     },
     "metadata": {},
     "output_type": "display_data"
    },
    {
     "data": {
      "text/plain": [
       "1998.0"
      ]
     },
     "metadata": {},
     "output_type": "display_data"
    },
    {
     "data": {
      "text/html": [
       "<div>\n",
       "<style scoped>\n",
       "    .dataframe tbody tr th:only-of-type {\n",
       "        vertical-align: middle;\n",
       "    }\n",
       "\n",
       "    .dataframe tbody tr th {\n",
       "        vertical-align: top;\n",
       "    }\n",
       "\n",
       "    .dataframe thead th {\n",
       "        text-align: right;\n",
       "    }\n",
       "</style>\n",
       "<table border=\"1\" class=\"dataframe\">\n",
       "  <thead>\n",
       "    <tr style=\"text-align: right;\">\n",
       "      <th></th>\n",
       "      <th>naslov</th>\n",
       "      <th>stevilo_clenov</th>\n",
       "      <th>nova ocena</th>\n",
       "    </tr>\n",
       "  </thead>\n",
       "  <tbody>\n",
       "    <tr>\n",
       "      <th>30</th>\n",
       "      <td>Cowboy Bebop</td>\n",
       "      <td>1176190</td>\n",
       "      <td>8.97</td>\n",
       "    </tr>\n",
       "    <tr>\n",
       "      <th>158</th>\n",
       "      <td>Trigun</td>\n",
       "      <td>537643</td>\n",
       "      <td>7.74</td>\n",
       "    </tr>\n",
       "    <tr>\n",
       "      <th>204</th>\n",
       "      <td>Serial Experiments Lain</td>\n",
       "      <td>452912</td>\n",
       "      <td>7.67</td>\n",
       "    </tr>\n",
       "  </tbody>\n",
       "</table>\n",
       "</div>"
      ],
      "text/plain": [
       "                      naslov  stevilo_clenov  nova ocena\n",
       "30              Cowboy Bebop         1176190        8.97\n",
       "158                   Trigun          537643        7.74\n",
       "204  Serial Experiments Lain          452912        7.67"
      ]
     },
     "metadata": {},
     "output_type": "display_data"
    },
    {
     "data": {
      "text/plain": [
       "1999.0"
      ]
     },
     "metadata": {},
     "output_type": "display_data"
    },
    {
     "data": {
      "text/html": [
       "<div>\n",
       "<style scoped>\n",
       "    .dataframe tbody tr th:only-of-type {\n",
       "        vertical-align: middle;\n",
       "    }\n",
       "\n",
       "    .dataframe tbody tr th {\n",
       "        vertical-align: top;\n",
       "    }\n",
       "\n",
       "    .dataframe thead th {\n",
       "        text-align: right;\n",
       "    }\n",
       "</style>\n",
       "<table border=\"1\" class=\"dataframe\">\n",
       "  <thead>\n",
       "    <tr style=\"text-align: right;\">\n",
       "      <th></th>\n",
       "      <th>naslov</th>\n",
       "      <th>stevilo_clenov</th>\n",
       "      <th>nova ocena</th>\n",
       "    </tr>\n",
       "  </thead>\n",
       "  <tbody>\n",
       "    <tr>\n",
       "      <th>149</th>\n",
       "      <td>Great Teacher Onizuka</td>\n",
       "      <td>560177</td>\n",
       "      <td>8.47</td>\n",
       "    </tr>\n",
       "    <tr>\n",
       "      <th>252</th>\n",
       "      <td>Hunter x Hunter</td>\n",
       "      <td>390039</td>\n",
       "      <td>7.60</td>\n",
       "    </tr>\n",
       "    <tr>\n",
       "      <th>318</th>\n",
       "      <td>Digimon Adventure</td>\n",
       "      <td>314547</td>\n",
       "      <td>6.32</td>\n",
       "    </tr>\n",
       "  </tbody>\n",
       "</table>\n",
       "</div>"
      ],
      "text/plain": [
       "                    naslov  stevilo_clenov  nova ocena\n",
       "149  Great Teacher Onizuka          560177        8.47\n",
       "252        Hunter x Hunter          390039        7.60\n",
       "318      Digimon Adventure          314547        6.32"
      ]
     },
     "metadata": {},
     "output_type": "display_data"
    },
    {
     "data": {
      "text/plain": [
       "2000.0"
      ]
     },
     "metadata": {},
     "output_type": "display_data"
    },
    {
     "data": {
      "text/html": [
       "<div>\n",
       "<style scoped>\n",
       "    .dataframe tbody tr th:only-of-type {\n",
       "        vertical-align: middle;\n",
       "    }\n",
       "\n",
       "    .dataframe tbody tr th {\n",
       "        vertical-align: top;\n",
       "    }\n",
       "\n",
       "    .dataframe thead th {\n",
       "        text-align: right;\n",
       "    }\n",
       "</style>\n",
       "<table border=\"1\" class=\"dataframe\">\n",
       "  <thead>\n",
       "    <tr style=\"text-align: right;\">\n",
       "      <th></th>\n",
       "      <th>naslov</th>\n",
       "      <th>stevilo_clenov</th>\n",
       "      <th>nova ocena</th>\n",
       "    </tr>\n",
       "  </thead>\n",
       "  <tbody>\n",
       "    <tr>\n",
       "      <th>268</th>\n",
       "      <td>Hajime no Ippo</td>\n",
       "      <td>367801</td>\n",
       "      <td>8.31</td>\n",
       "    </tr>\n",
       "    <tr>\n",
       "      <th>151</th>\n",
       "      <td>InuYasha</td>\n",
       "      <td>557862</td>\n",
       "      <td>7.55</td>\n",
       "    </tr>\n",
       "    <tr>\n",
       "      <th>365</th>\n",
       "      <td>Yu☆Gi☆Oh! Duel Monsters</td>\n",
       "      <td>277640</td>\n",
       "      <td>5.69</td>\n",
       "    </tr>\n",
       "  </tbody>\n",
       "</table>\n",
       "</div>"
      ],
      "text/plain": [
       "                      naslov  stevilo_clenov  nova ocena\n",
       "268           Hajime no Ippo          367801        8.31\n",
       "151                 InuYasha          557862        7.55\n",
       "365  Yu☆Gi☆Oh! Duel Monsters          277640        5.69"
      ]
     },
     "metadata": {},
     "output_type": "display_data"
    },
    {
     "data": {
      "text/plain": [
       "2001.0"
      ]
     },
     "metadata": {},
     "output_type": "display_data"
    },
    {
     "data": {
      "text/html": [
       "<div>\n",
       "<style scoped>\n",
       "    .dataframe tbody tr th:only-of-type {\n",
       "        vertical-align: middle;\n",
       "    }\n",
       "\n",
       "    .dataframe tbody tr th {\n",
       "        vertical-align: top;\n",
       "    }\n",
       "\n",
       "    .dataframe thead th {\n",
       "        text-align: right;\n",
       "    }\n",
       "</style>\n",
       "<table border=\"1\" class=\"dataframe\">\n",
       "  <thead>\n",
       "    <tr style=\"text-align: right;\">\n",
       "      <th></th>\n",
       "      <th>naslov</th>\n",
       "      <th>stevilo_clenov</th>\n",
       "      <th>nova ocena</th>\n",
       "    </tr>\n",
       "  </thead>\n",
       "  <tbody>\n",
       "    <tr>\n",
       "      <th>241</th>\n",
       "      <td>Fruits Basket</td>\n",
       "      <td>404237</td>\n",
       "      <td>6.97</td>\n",
       "    </tr>\n",
       "    <tr>\n",
       "      <th>162</th>\n",
       "      <td>Hellsing</td>\n",
       "      <td>530899</td>\n",
       "      <td>6.35</td>\n",
       "    </tr>\n",
       "    <tr>\n",
       "      <th>350</th>\n",
       "      <td>Shaman King</td>\n",
       "      <td>286200</td>\n",
       "      <td>5.89</td>\n",
       "    </tr>\n",
       "  </tbody>\n",
       "</table>\n",
       "</div>"
      ],
      "text/plain": [
       "            naslov  stevilo_clenov  nova ocena\n",
       "241  Fruits Basket          404237        6.97\n",
       "162       Hellsing          530899        6.35\n",
       "350    Shaman King          286200        5.89"
      ]
     },
     "metadata": {},
     "output_type": "display_data"
    },
    {
     "data": {
      "text/plain": [
       "2002.0"
      ]
     },
     "metadata": {},
     "output_type": "display_data"
    },
    {
     "data": {
      "text/html": [
       "<div>\n",
       "<style scoped>\n",
       "    .dataframe tbody tr th:only-of-type {\n",
       "        vertical-align: middle;\n",
       "    }\n",
       "\n",
       "    .dataframe tbody tr th {\n",
       "        vertical-align: top;\n",
       "    }\n",
       "\n",
       "    .dataframe thead th {\n",
       "        text-align: right;\n",
       "    }\n",
       "</style>\n",
       "<table border=\"1\" class=\"dataframe\">\n",
       "  <thead>\n",
       "    <tr style=\"text-align: right;\">\n",
       "      <th></th>\n",
       "      <th>naslov</th>\n",
       "      <th>stevilo_clenov</th>\n",
       "      <th>nova ocena</th>\n",
       "    </tr>\n",
       "  </thead>\n",
       "  <tbody>\n",
       "    <tr>\n",
       "      <th>7</th>\n",
       "      <td>Naruto</td>\n",
       "      <td>1699431</td>\n",
       "      <td>8.09</td>\n",
       "    </tr>\n",
       "    <tr>\n",
       "      <th>313</th>\n",
       "      <td>Koukaku Kidoutai: Stand Alone Complex</td>\n",
       "      <td>319684</td>\n",
       "      <td>7.48</td>\n",
       "    </tr>\n",
       "    <tr>\n",
       "      <th>480</th>\n",
       "      <td>Haibane Renmei</td>\n",
       "      <td>204440</td>\n",
       "      <td>6.64</td>\n",
       "    </tr>\n",
       "  </tbody>\n",
       "</table>\n",
       "</div>"
      ],
      "text/plain": [
       "                                    naslov  stevilo_clenov  nova ocena\n",
       "7                                   Naruto         1699431        8.09\n",
       "313  Koukaku Kidoutai: Stand Alone Complex          319684        7.48\n",
       "480                         Haibane Renmei          204440        6.64"
      ]
     },
     "metadata": {},
     "output_type": "display_data"
    },
    {
     "data": {
      "text/plain": [
       "2003.0"
      ]
     },
     "metadata": {},
     "output_type": "display_data"
    },
    {
     "data": {
      "text/html": [
       "<div>\n",
       "<style scoped>\n",
       "    .dataframe tbody tr th:only-of-type {\n",
       "        vertical-align: middle;\n",
       "    }\n",
       "\n",
       "    .dataframe tbody tr th {\n",
       "        vertical-align: top;\n",
       "    }\n",
       "\n",
       "    .dataframe thead th {\n",
       "        text-align: right;\n",
       "    }\n",
       "</style>\n",
       "<table border=\"1\" class=\"dataframe\">\n",
       "  <thead>\n",
       "    <tr style=\"text-align: right;\">\n",
       "      <th></th>\n",
       "      <th>naslov</th>\n",
       "      <th>stevilo_clenov</th>\n",
       "      <th>nova ocena</th>\n",
       "    </tr>\n",
       "  </thead>\n",
       "  <tbody>\n",
       "    <tr>\n",
       "      <th>41</th>\n",
       "      <td>Fullmetal Alchemist</td>\n",
       "      <td>1109876</td>\n",
       "      <td>8.13</td>\n",
       "    </tr>\n",
       "    <tr>\n",
       "      <th>461</th>\n",
       "      <td>Kino no Tabi: The Beautiful World</td>\n",
       "      <td>216550</td>\n",
       "      <td>6.95</td>\n",
       "    </tr>\n",
       "    <tr>\n",
       "      <th>383</th>\n",
       "      <td>Wolf&amp;#039;s Rain</td>\n",
       "      <td>263483</td>\n",
       "      <td>6.51</td>\n",
       "    </tr>\n",
       "  </tbody>\n",
       "</table>\n",
       "</div>"
      ],
      "text/plain": [
       "                                naslov  stevilo_clenov  nova ocena\n",
       "41                 Fullmetal Alchemist         1109876        8.13\n",
       "461  Kino no Tabi: The Beautiful World          216550        6.95\n",
       "383                   Wolf&#039;s Rain          263483        6.51"
      ]
     },
     "metadata": {},
     "output_type": "display_data"
    },
    {
     "data": {
      "text/plain": [
       "2004.0"
      ]
     },
     "metadata": {},
     "output_type": "display_data"
    },
    {
     "data": {
      "text/html": [
       "<div>\n",
       "<style scoped>\n",
       "    .dataframe tbody tr th:only-of-type {\n",
       "        vertical-align: middle;\n",
       "    }\n",
       "\n",
       "    .dataframe tbody tr th {\n",
       "        vertical-align: top;\n",
       "    }\n",
       "\n",
       "    .dataframe thead th {\n",
       "        text-align: right;\n",
       "    }\n",
       "</style>\n",
       "<table border=\"1\" class=\"dataframe\">\n",
       "  <thead>\n",
       "    <tr style=\"text-align: right;\">\n",
       "      <th></th>\n",
       "      <th>naslov</th>\n",
       "      <th>stevilo_clenov</th>\n",
       "      <th>nova ocena</th>\n",
       "    </tr>\n",
       "  </thead>\n",
       "  <tbody>\n",
       "    <tr>\n",
       "      <th>141</th>\n",
       "      <td>Monster</td>\n",
       "      <td>576427</td>\n",
       "      <td>8.67</td>\n",
       "    </tr>\n",
       "    <tr>\n",
       "      <th>70</th>\n",
       "      <td>Samurai Champloo</td>\n",
       "      <td>848820</td>\n",
       "      <td>8.46</td>\n",
       "    </tr>\n",
       "    <tr>\n",
       "      <th>26</th>\n",
       "      <td>Bleach</td>\n",
       "      <td>1222959</td>\n",
       "      <td>7.94</td>\n",
       "    </tr>\n",
       "  </tbody>\n",
       "</table>\n",
       "</div>"
      ],
      "text/plain": [
       "               naslov  stevilo_clenov  nova ocena\n",
       "141           Monster          576427        8.67\n",
       "70   Samurai Champloo          848820        8.46\n",
       "26             Bleach         1222959        7.94"
      ]
     },
     "metadata": {},
     "output_type": "display_data"
    },
    {
     "data": {
      "text/plain": [
       "2005.0"
      ]
     },
     "metadata": {},
     "output_type": "display_data"
    },
    {
     "data": {
      "text/html": [
       "<div>\n",
       "<style scoped>\n",
       "    .dataframe tbody tr th:only-of-type {\n",
       "        vertical-align: middle;\n",
       "    }\n",
       "\n",
       "    .dataframe tbody tr th {\n",
       "        vertical-align: top;\n",
       "    }\n",
       "\n",
       "    .dataframe thead th {\n",
       "        text-align: right;\n",
       "    }\n",
       "</style>\n",
       "<table border=\"1\" class=\"dataframe\">\n",
       "  <thead>\n",
       "    <tr style=\"text-align: right;\">\n",
       "      <th></th>\n",
       "      <th>naslov</th>\n",
       "      <th>stevilo_clenov</th>\n",
       "      <th>nova ocena</th>\n",
       "    </tr>\n",
       "  </thead>\n",
       "  <tbody>\n",
       "    <tr>\n",
       "      <th>136</th>\n",
       "      <td>Mushishi</td>\n",
       "      <td>593597</td>\n",
       "      <td>8.53</td>\n",
       "    </tr>\n",
       "    <tr>\n",
       "      <th>267</th>\n",
       "      <td>Koukyoushihen Eureka Seven</td>\n",
       "      <td>372700</td>\n",
       "      <td>7.31</td>\n",
       "    </tr>\n",
       "    <tr>\n",
       "      <th>205</th>\n",
       "      <td>Shakugan no Shana</td>\n",
       "      <td>452697</td>\n",
       "      <td>6.30</td>\n",
       "    </tr>\n",
       "  </tbody>\n",
       "</table>\n",
       "</div>"
      ],
      "text/plain": [
       "                         naslov  stevilo_clenov  nova ocena\n",
       "136                    Mushishi          593597        8.53\n",
       "267  Koukyoushihen Eureka Seven          372700        7.31\n",
       "205           Shakugan no Shana          452697        6.30"
      ]
     },
     "metadata": {},
     "output_type": "display_data"
    },
    {
     "data": {
      "text/plain": [
       "2006.0"
      ]
     },
     "metadata": {},
     "output_type": "display_data"
    },
    {
     "data": {
      "text/html": [
       "<div>\n",
       "<style scoped>\n",
       "    .dataframe tbody tr th:only-of-type {\n",
       "        vertical-align: middle;\n",
       "    }\n",
       "\n",
       "    .dataframe tbody tr th {\n",
       "        vertical-align: top;\n",
       "    }\n",
       "\n",
       "    .dataframe thead th {\n",
       "        text-align: right;\n",
       "    }\n",
       "</style>\n",
       "<table border=\"1\" class=\"dataframe\">\n",
       "  <thead>\n",
       "    <tr style=\"text-align: right;\">\n",
       "      <th></th>\n",
       "      <th>naslov</th>\n",
       "      <th>stevilo_clenov</th>\n",
       "      <th>nova ocena</th>\n",
       "    </tr>\n",
       "  </thead>\n",
       "  <tbody>\n",
       "    <tr>\n",
       "      <th>100</th>\n",
       "      <td>Gintama</td>\n",
       "      <td>718045</td>\n",
       "      <td>9.07</td>\n",
       "    </tr>\n",
       "    <tr>\n",
       "      <th>11</th>\n",
       "      <td>Code Geass: Hangyaku no Lelouch</td>\n",
       "      <td>1505432</td>\n",
       "      <td>8.98</td>\n",
       "    </tr>\n",
       "    <tr>\n",
       "      <th>0</th>\n",
       "      <td>Death Note</td>\n",
       "      <td>2410185</td>\n",
       "      <td>8.95</td>\n",
       "    </tr>\n",
       "  </tbody>\n",
       "</table>\n",
       "</div>"
      ],
      "text/plain": [
       "                              naslov  stevilo_clenov  nova ocena\n",
       "100                          Gintama          718045        9.07\n",
       "11   Code Geass: Hangyaku no Lelouch         1505432        8.98\n",
       "0                         Death Note         2410185        8.95"
      ]
     },
     "metadata": {},
     "output_type": "display_data"
    },
    {
     "data": {
      "text/plain": [
       "2007.0"
      ]
     },
     "metadata": {},
     "output_type": "display_data"
    },
    {
     "data": {
      "text/html": [
       "<div>\n",
       "<style scoped>\n",
       "    .dataframe tbody tr th:only-of-type {\n",
       "        vertical-align: middle;\n",
       "    }\n",
       "\n",
       "    .dataframe tbody tr th {\n",
       "        vertical-align: top;\n",
       "    }\n",
       "\n",
       "    .dataframe thead th {\n",
       "        text-align: right;\n",
       "    }\n",
       "</style>\n",
       "<table border=\"1\" class=\"dataframe\">\n",
       "  <thead>\n",
       "    <tr style=\"text-align: right;\">\n",
       "      <th></th>\n",
       "      <th>naslov</th>\n",
       "      <th>stevilo_clenov</th>\n",
       "      <th>nova ocena</th>\n",
       "    </tr>\n",
       "  </thead>\n",
       "  <tbody>\n",
       "    <tr>\n",
       "      <th>33</th>\n",
       "      <td>Tengen Toppa Gurren Lagann</td>\n",
       "      <td>1168282</td>\n",
       "      <td>8.87</td>\n",
       "    </tr>\n",
       "    <tr>\n",
       "      <th>16</th>\n",
       "      <td>Naruto: Shippuuden</td>\n",
       "      <td>1419619</td>\n",
       "      <td>8.38</td>\n",
       "    </tr>\n",
       "    <tr>\n",
       "      <th>106</th>\n",
       "      <td>Baccano!</td>\n",
       "      <td>684961</td>\n",
       "      <td>8.25</td>\n",
       "    </tr>\n",
       "  </tbody>\n",
       "</table>\n",
       "</div>"
      ],
      "text/plain": [
       "                         naslov  stevilo_clenov  nova ocena\n",
       "33   Tengen Toppa Gurren Lagann         1168282        8.87\n",
       "16           Naruto: Shippuuden         1419619        8.38\n",
       "106                    Baccano!          684961        8.25"
      ]
     },
     "metadata": {},
     "output_type": "display_data"
    },
    {
     "data": {
      "text/plain": [
       "2008.0"
      ]
     },
     "metadata": {},
     "output_type": "display_data"
    },
    {
     "data": {
      "text/html": [
       "<div>\n",
       "<style scoped>\n",
       "    .dataframe tbody tr th:only-of-type {\n",
       "        vertical-align: middle;\n",
       "    }\n",
       "\n",
       "    .dataframe tbody tr th {\n",
       "        vertical-align: top;\n",
       "    }\n",
       "\n",
       "    .dataframe thead th {\n",
       "        text-align: right;\n",
       "    }\n",
       "</style>\n",
       "<table border=\"1\" class=\"dataframe\">\n",
       "  <thead>\n",
       "    <tr style=\"text-align: right;\">\n",
       "      <th></th>\n",
       "      <th>naslov</th>\n",
       "      <th>stevilo_clenov</th>\n",
       "      <th>nova ocena</th>\n",
       "    </tr>\n",
       "  </thead>\n",
       "  <tbody>\n",
       "    <tr>\n",
       "      <th>68</th>\n",
       "      <td>Clannad: After Story</td>\n",
       "      <td>875877</td>\n",
       "      <td>9.13</td>\n",
       "    </tr>\n",
       "    <tr>\n",
       "      <th>28</th>\n",
       "      <td>Code Geass: Hangyaku no Lelouch R2</td>\n",
       "      <td>1206854</td>\n",
       "      <td>9.11</td>\n",
       "    </tr>\n",
       "    <tr>\n",
       "      <th>13</th>\n",
       "      <td>Toradora!</td>\n",
       "      <td>1465022</td>\n",
       "      <td>8.40</td>\n",
       "    </tr>\n",
       "  </tbody>\n",
       "</table>\n",
       "</div>"
      ],
      "text/plain": [
       "                                naslov  stevilo_clenov  nova ocena\n",
       "68                Clannad: After Story          875877        9.13\n",
       "28  Code Geass: Hangyaku no Lelouch R2         1206854        9.11\n",
       "13                           Toradora!         1465022        8.40"
      ]
     },
     "metadata": {},
     "output_type": "display_data"
    },
    {
     "data": {
      "text/plain": [
       "2009.0"
      ]
     },
     "metadata": {},
     "output_type": "display_data"
    },
    {
     "data": {
      "text/html": [
       "<div>\n",
       "<style scoped>\n",
       "    .dataframe tbody tr th:only-of-type {\n",
       "        vertical-align: middle;\n",
       "    }\n",
       "\n",
       "    .dataframe tbody tr th {\n",
       "        vertical-align: top;\n",
       "    }\n",
       "\n",
       "    .dataframe thead th {\n",
       "        text-align: right;\n",
       "    }\n",
       "</style>\n",
       "<table border=\"1\" class=\"dataframe\">\n",
       "  <thead>\n",
       "    <tr style=\"text-align: right;\">\n",
       "      <th></th>\n",
       "      <th>naslov</th>\n",
       "      <th>stevilo_clenov</th>\n",
       "      <th>nova ocena</th>\n",
       "    </tr>\n",
       "  </thead>\n",
       "  <tbody>\n",
       "    <tr>\n",
       "      <th>2</th>\n",
       "      <td>Fullmetal Alchemist: Brotherhood</td>\n",
       "      <td>2090273</td>\n",
       "      <td>9.56</td>\n",
       "    </tr>\n",
       "    <tr>\n",
       "      <th>50</th>\n",
       "      <td>Bakemonogatari</td>\n",
       "      <td>1018288</td>\n",
       "      <td>8.44</td>\n",
       "    </tr>\n",
       "    <tr>\n",
       "      <th>24</th>\n",
       "      <td>Fairy Tail</td>\n",
       "      <td>1254179</td>\n",
       "      <td>7.82</td>\n",
       "    </tr>\n",
       "  </tbody>\n",
       "</table>\n",
       "</div>"
      ],
      "text/plain": [
       "                              naslov  stevilo_clenov  nova ocena\n",
       "2   Fullmetal Alchemist: Brotherhood         2090273        9.56\n",
       "50                    Bakemonogatari         1018288        8.44\n",
       "24                        Fairy Tail         1254179        7.82"
      ]
     },
     "metadata": {},
     "output_type": "display_data"
    },
    {
     "data": {
      "text/plain": [
       "2010.0"
      ]
     },
     "metadata": {},
     "output_type": "display_data"
    },
    {
     "data": {
      "text/html": [
       "<div>\n",
       "<style scoped>\n",
       "    .dataframe tbody tr th:only-of-type {\n",
       "        vertical-align: middle;\n",
       "    }\n",
       "\n",
       "    .dataframe tbody tr th {\n",
       "        vertical-align: top;\n",
       "    }\n",
       "\n",
       "    .dataframe thead th {\n",
       "        text-align: right;\n",
       "    }\n",
       "</style>\n",
       "<table border=\"1\" class=\"dataframe\">\n",
       "  <thead>\n",
       "    <tr style=\"text-align: right;\">\n",
       "      <th></th>\n",
       "      <th>naslov</th>\n",
       "      <th>stevilo_clenov</th>\n",
       "      <th>nova ocena</th>\n",
       "    </tr>\n",
       "  </thead>\n",
       "  <tbody>\n",
       "    <tr>\n",
       "      <th>10</th>\n",
       "      <td>Angel Beats!</td>\n",
       "      <td>1515002</td>\n",
       "      <td>8.30</td>\n",
       "    </tr>\n",
       "    <tr>\n",
       "      <th>45</th>\n",
       "      <td>Durarara!!</td>\n",
       "      <td>1067100</td>\n",
       "      <td>8.18</td>\n",
       "    </tr>\n",
       "    <tr>\n",
       "      <th>344</th>\n",
       "      <td>Yojouhan Shinwa Taikei</td>\n",
       "      <td>294119</td>\n",
       "      <td>8.08</td>\n",
       "    </tr>\n",
       "  </tbody>\n",
       "</table>\n",
       "</div>"
      ],
      "text/plain": [
       "                     naslov  stevilo_clenov  nova ocena\n",
       "10             Angel Beats!         1515002        8.30\n",
       "45               Durarara!!         1067100        8.18\n",
       "344  Yojouhan Shinwa Taikei          294119        8.08"
      ]
     },
     "metadata": {},
     "output_type": "display_data"
    },
    {
     "data": {
      "text/plain": [
       "2011.0"
      ]
     },
     "metadata": {},
     "output_type": "display_data"
    },
    {
     "data": {
      "text/html": [
       "<div>\n",
       "<style scoped>\n",
       "    .dataframe tbody tr th:only-of-type {\n",
       "        vertical-align: middle;\n",
       "    }\n",
       "\n",
       "    .dataframe tbody tr th {\n",
       "        vertical-align: top;\n",
       "    }\n",
       "\n",
       "    .dataframe thead th {\n",
       "        text-align: right;\n",
       "    }\n",
       "</style>\n",
       "<table border=\"1\" class=\"dataframe\">\n",
       "  <thead>\n",
       "    <tr style=\"text-align: right;\">\n",
       "      <th></th>\n",
       "      <th>naslov</th>\n",
       "      <th>stevilo_clenov</th>\n",
       "      <th>nova ocena</th>\n",
       "    </tr>\n",
       "  </thead>\n",
       "  <tbody>\n",
       "    <tr>\n",
       "      <th>8</th>\n",
       "      <td>Steins;Gate</td>\n",
       "      <td>1681837</td>\n",
       "      <td>9.45</td>\n",
       "    </tr>\n",
       "    <tr>\n",
       "      <th>9</th>\n",
       "      <td>Hunter x Hunter (2011)</td>\n",
       "      <td>1529228</td>\n",
       "      <td>9.43</td>\n",
       "    </tr>\n",
       "    <tr>\n",
       "      <th>284</th>\n",
       "      <td>Gintama</td>\n",
       "      <td>346754</td>\n",
       "      <td>9.10</td>\n",
       "    </tr>\n",
       "  </tbody>\n",
       "</table>\n",
       "</div>"
      ],
      "text/plain": [
       "                     naslov  stevilo_clenov  nova ocena\n",
       "8               Steins;Gate         1681837        9.45\n",
       "9    Hunter x Hunter (2011)         1529228        9.43\n",
       "284                 Gintama          346754        9.10"
      ]
     },
     "metadata": {},
     "output_type": "display_data"
    },
    {
     "data": {
      "text/plain": [
       "2012.0"
      ]
     },
     "metadata": {},
     "output_type": "display_data"
    },
    {
     "data": {
      "text/html": [
       "<div>\n",
       "<style scoped>\n",
       "    .dataframe tbody tr th:only-of-type {\n",
       "        vertical-align: middle;\n",
       "    }\n",
       "\n",
       "    .dataframe tbody tr th {\n",
       "        vertical-align: top;\n",
       "    }\n",
       "\n",
       "    .dataframe thead th {\n",
       "        text-align: right;\n",
       "    }\n",
       "</style>\n",
       "<table border=\"1\" class=\"dataframe\">\n",
       "  <thead>\n",
       "    <tr style=\"text-align: right;\">\n",
       "      <th></th>\n",
       "      <th>naslov</th>\n",
       "      <th>stevilo_clenov</th>\n",
       "      <th>nova ocena</th>\n",
       "    </tr>\n",
       "  </thead>\n",
       "  <tbody>\n",
       "    <tr>\n",
       "      <th>34</th>\n",
       "      <td>Psycho-Pass</td>\n",
       "      <td>1162866</td>\n",
       "      <td>8.43</td>\n",
       "    </tr>\n",
       "    <tr>\n",
       "      <th>88</th>\n",
       "      <td>Fate/Zero 2nd Season</td>\n",
       "      <td>773654</td>\n",
       "      <td>8.29</td>\n",
       "    </tr>\n",
       "    <tr>\n",
       "      <th>132</th>\n",
       "      <td>Shinsekai yori</td>\n",
       "      <td>599541</td>\n",
       "      <td>8.15</td>\n",
       "    </tr>\n",
       "  </tbody>\n",
       "</table>\n",
       "</div>"
      ],
      "text/plain": [
       "                   naslov  stevilo_clenov  nova ocena\n",
       "34            Psycho-Pass         1162866        8.43\n",
       "88   Fate/Zero 2nd Season          773654        8.29\n",
       "132        Shinsekai yori          599541        8.15"
      ]
     },
     "metadata": {},
     "output_type": "display_data"
    },
    {
     "data": {
      "text/plain": [
       "2013.0"
      ]
     },
     "metadata": {},
     "output_type": "display_data"
    },
    {
     "data": {
      "text/html": [
       "<div>\n",
       "<style scoped>\n",
       "    .dataframe tbody tr th:only-of-type {\n",
       "        vertical-align: middle;\n",
       "    }\n",
       "\n",
       "    .dataframe tbody tr th {\n",
       "        vertical-align: top;\n",
       "    }\n",
       "\n",
       "    .dataframe thead th {\n",
       "        text-align: right;\n",
       "    }\n",
       "</style>\n",
       "<table border=\"1\" class=\"dataframe\">\n",
       "  <thead>\n",
       "    <tr style=\"text-align: right;\">\n",
       "      <th></th>\n",
       "      <th>naslov</th>\n",
       "      <th>stevilo_clenov</th>\n",
       "      <th>nova ocena</th>\n",
       "    </tr>\n",
       "  </thead>\n",
       "  <tbody>\n",
       "    <tr>\n",
       "      <th>1</th>\n",
       "      <td>Shingeki no Kyojin</td>\n",
       "      <td>2316411</td>\n",
       "      <td>8.75</td>\n",
       "    </tr>\n",
       "    <tr>\n",
       "      <th>183</th>\n",
       "      <td>Monogatari Series: Second Season</td>\n",
       "      <td>487205</td>\n",
       "      <td>8.50</td>\n",
       "    </tr>\n",
       "    <tr>\n",
       "      <th>60</th>\n",
       "      <td>Yahari Ore no Seishun Love Comedy wa Machigatt...</td>\n",
       "      <td>918643</td>\n",
       "      <td>8.04</td>\n",
       "    </tr>\n",
       "  </tbody>\n",
       "</table>\n",
       "</div>"
      ],
      "text/plain": [
       "                                                naslov  stevilo_clenov  \\\n",
       "1                                   Shingeki no Kyojin         2316411   \n",
       "183                   Monogatari Series: Second Season          487205   \n",
       "60   Yahari Ore no Seishun Love Comedy wa Machigatt...          918643   \n",
       "\n",
       "     nova ocena  \n",
       "1          8.75  \n",
       "183        8.50  \n",
       "60         8.04  "
      ]
     },
     "metadata": {},
     "output_type": "display_data"
    },
    {
     "data": {
      "text/plain": [
       "2014.0"
      ]
     },
     "metadata": {},
     "output_type": "display_data"
    },
    {
     "data": {
      "text/html": [
       "<div>\n",
       "<style scoped>\n",
       "    .dataframe tbody tr th:only-of-type {\n",
       "        vertical-align: middle;\n",
       "    }\n",
       "\n",
       "    .dataframe tbody tr th {\n",
       "        vertical-align: top;\n",
       "    }\n",
       "\n",
       "    .dataframe thead th {\n",
       "        text-align: right;\n",
       "    }\n",
       "</style>\n",
       "<table border=\"1\" class=\"dataframe\">\n",
       "  <thead>\n",
       "    <tr style=\"text-align: right;\">\n",
       "      <th></th>\n",
       "      <th>naslov</th>\n",
       "      <th>stevilo_clenov</th>\n",
       "      <th>nova ocena</th>\n",
       "    </tr>\n",
       "  </thead>\n",
       "  <tbody>\n",
       "    <tr>\n",
       "      <th>21</th>\n",
       "      <td>Shigatsu wa Kimi no Uso</td>\n",
       "      <td>1342403</td>\n",
       "      <td>8.97</td>\n",
       "    </tr>\n",
       "    <tr>\n",
       "      <th>44</th>\n",
       "      <td>Haikyuu!!</td>\n",
       "      <td>1072073</td>\n",
       "      <td>8.70</td>\n",
       "    </tr>\n",
       "    <tr>\n",
       "      <th>31</th>\n",
       "      <td>Kiseijuu: Sei no Kakuritsu</td>\n",
       "      <td>1172868</td>\n",
       "      <td>8.35</td>\n",
       "    </tr>\n",
       "  </tbody>\n",
       "</table>\n",
       "</div>"
      ],
      "text/plain": [
       "                        naslov  stevilo_clenov  nova ocena\n",
       "21     Shigatsu wa Kimi no Uso         1342403        8.97\n",
       "44                   Haikyuu!!         1072073        8.70\n",
       "31  Kiseijuu: Sei no Kakuritsu         1172868        8.35"
      ]
     },
     "metadata": {},
     "output_type": "display_data"
    },
    {
     "data": {
      "text/plain": [
       "2015.0"
      ]
     },
     "metadata": {},
     "output_type": "display_data"
    },
    {
     "data": {
      "text/html": [
       "<div>\n",
       "<style scoped>\n",
       "    .dataframe tbody tr th:only-of-type {\n",
       "        vertical-align: middle;\n",
       "    }\n",
       "\n",
       "    .dataframe tbody tr th {\n",
       "        vertical-align: top;\n",
       "    }\n",
       "\n",
       "    .dataframe thead th {\n",
       "        text-align: right;\n",
       "    }\n",
       "</style>\n",
       "<table border=\"1\" class=\"dataframe\">\n",
       "  <thead>\n",
       "    <tr style=\"text-align: right;\">\n",
       "      <th></th>\n",
       "      <th>naslov</th>\n",
       "      <th>stevilo_clenov</th>\n",
       "      <th>nova ocena</th>\n",
       "    </tr>\n",
       "  </thead>\n",
       "  <tbody>\n",
       "    <tr>\n",
       "      <th>4</th>\n",
       "      <td>One Punch Man</td>\n",
       "      <td>1979366</td>\n",
       "      <td>8.77</td>\n",
       "    </tr>\n",
       "    <tr>\n",
       "      <th>260</th>\n",
       "      <td>Gintama°</td>\n",
       "      <td>378593</td>\n",
       "      <td>8.40</td>\n",
       "    </tr>\n",
       "    <tr>\n",
       "      <th>86</th>\n",
       "      <td>Haikyuu!! Second Season</td>\n",
       "      <td>785452</td>\n",
       "      <td>8.29</td>\n",
       "    </tr>\n",
       "  </tbody>\n",
       "</table>\n",
       "</div>"
      ],
      "text/plain": [
       "                      naslov  stevilo_clenov  nova ocena\n",
       "4              One Punch Man         1979366        8.77\n",
       "260                 Gintama°          378593        8.40\n",
       "86   Haikyuu!! Second Season          785452        8.29"
      ]
     },
     "metadata": {},
     "output_type": "display_data"
    },
    {
     "data": {
      "text/plain": [
       "2016.0"
      ]
     },
     "metadata": {},
     "output_type": "display_data"
    },
    {
     "data": {
      "text/html": [
       "<div>\n",
       "<style scoped>\n",
       "    .dataframe tbody tr th:only-of-type {\n",
       "        vertical-align: middle;\n",
       "    }\n",
       "\n",
       "    .dataframe tbody tr th {\n",
       "        vertical-align: top;\n",
       "    }\n",
       "\n",
       "    .dataframe thead th {\n",
       "        text-align: right;\n",
       "    }\n",
       "</style>\n",
       "<table border=\"1\" class=\"dataframe\">\n",
       "  <thead>\n",
       "    <tr style=\"text-align: right;\">\n",
       "      <th></th>\n",
       "      <th>naslov</th>\n",
       "      <th>stevilo_clenov</th>\n",
       "      <th>nova ocena</th>\n",
       "    </tr>\n",
       "  </thead>\n",
       "  <tbody>\n",
       "    <tr>\n",
       "      <th>23</th>\n",
       "      <td>Boku dake ga Inai Machi</td>\n",
       "      <td>1270904</td>\n",
       "      <td>8.45</td>\n",
       "    </tr>\n",
       "    <tr>\n",
       "      <th>18</th>\n",
       "      <td>Re:Zero kara Hajimeru Isekai Seikatsu</td>\n",
       "      <td>1387049</td>\n",
       "      <td>8.45</td>\n",
       "    </tr>\n",
       "    <tr>\n",
       "      <th>38</th>\n",
       "      <td>Mob Psycho 100</td>\n",
       "      <td>1156412</td>\n",
       "      <td>8.43</td>\n",
       "    </tr>\n",
       "  </tbody>\n",
       "</table>\n",
       "</div>"
      ],
      "text/plain": [
       "                                   naslov  stevilo_clenov  nova ocena\n",
       "23                Boku dake ga Inai Machi         1270904        8.45\n",
       "18  Re:Zero kara Hajimeru Isekai Seikatsu         1387049        8.45\n",
       "38                         Mob Psycho 100         1156412        8.43"
      ]
     },
     "metadata": {},
     "output_type": "display_data"
    },
    {
     "data": {
      "text/plain": [
       "2017.0"
      ]
     },
     "metadata": {},
     "output_type": "display_data"
    },
    {
     "data": {
      "text/html": [
       "<div>\n",
       "<style scoped>\n",
       "    .dataframe tbody tr th:only-of-type {\n",
       "        vertical-align: middle;\n",
       "    }\n",
       "\n",
       "    .dataframe tbody tr th {\n",
       "        vertical-align: top;\n",
       "    }\n",
       "\n",
       "    .dataframe thead th {\n",
       "        text-align: right;\n",
       "    }\n",
       "</style>\n",
       "<table border=\"1\" class=\"dataframe\">\n",
       "  <thead>\n",
       "    <tr style=\"text-align: right;\">\n",
       "      <th></th>\n",
       "      <th>naslov</th>\n",
       "      <th>stevilo_clenov</th>\n",
       "      <th>nova ocena</th>\n",
       "    </tr>\n",
       "  </thead>\n",
       "  <tbody>\n",
       "    <tr>\n",
       "      <th>519</th>\n",
       "      <td>Gintama</td>\n",
       "      <td>188999</td>\n",
       "      <td>8.90</td>\n",
       "    </tr>\n",
       "    <tr>\n",
       "      <th>84</th>\n",
       "      <td>Made in Abyss</td>\n",
       "      <td>807987</td>\n",
       "      <td>8.72</td>\n",
       "    </tr>\n",
       "    <tr>\n",
       "      <th>411</th>\n",
       "      <td>3-gatsu no Lion 2nd Season</td>\n",
       "      <td>247547</td>\n",
       "      <td>8.20</td>\n",
       "    </tr>\n",
       "  </tbody>\n",
       "</table>\n",
       "</div>"
      ],
      "text/plain": [
       "                         naslov  stevilo_clenov  nova ocena\n",
       "519                     Gintama          188999        8.90\n",
       "84                Made in Abyss          807987        8.72\n",
       "411  3-gatsu no Lion 2nd Season          247547        8.20"
      ]
     },
     "metadata": {},
     "output_type": "display_data"
    },
    {
     "data": {
      "text/plain": [
       "2018.0"
      ]
     },
     "metadata": {},
     "output_type": "display_data"
    },
    {
     "data": {
      "text/html": [
       "<div>\n",
       "<style scoped>\n",
       "    .dataframe tbody tr th:only-of-type {\n",
       "        vertical-align: middle;\n",
       "    }\n",
       "\n",
       "    .dataframe tbody tr th {\n",
       "        vertical-align: top;\n",
       "    }\n",
       "\n",
       "    .dataframe thead th {\n",
       "        text-align: right;\n",
       "    }\n",
       "</style>\n",
       "<table border=\"1\" class=\"dataframe\">\n",
       "  <thead>\n",
       "    <tr style=\"text-align: right;\">\n",
       "      <th></th>\n",
       "      <th>naslov</th>\n",
       "      <th>stevilo_clenov</th>\n",
       "      <th>nova ocena</th>\n",
       "    </tr>\n",
       "  </thead>\n",
       "  <tbody>\n",
       "    <tr>\n",
       "      <th>56</th>\n",
       "      <td>Violet Evergarden</td>\n",
       "      <td>953473</td>\n",
       "      <td>8.63</td>\n",
       "    </tr>\n",
       "    <tr>\n",
       "      <th>186</th>\n",
       "      <td>JoJo no Kimyou na Bouken Part 5: Ougon no Kaze</td>\n",
       "      <td>483941</td>\n",
       "      <td>8.37</td>\n",
       "    </tr>\n",
       "    <tr>\n",
       "      <th>74</th>\n",
       "      <td>Seishun Buta Yarou wa Bunny Girl Senpai no Yum...</td>\n",
       "      <td>833564</td>\n",
       "      <td>8.33</td>\n",
       "    </tr>\n",
       "  </tbody>\n",
       "</table>\n",
       "</div>"
      ],
      "text/plain": [
       "                                                naslov  stevilo_clenov  \\\n",
       "56                                   Violet Evergarden          953473   \n",
       "186     JoJo no Kimyou na Bouken Part 5: Ougon no Kaze          483941   \n",
       "74   Seishun Buta Yarou wa Bunny Girl Senpai no Yum...          833564   \n",
       "\n",
       "     nova ocena  \n",
       "56         8.63  \n",
       "186        8.37  \n",
       "74         8.33  "
      ]
     },
     "metadata": {},
     "output_type": "display_data"
    },
    {
     "data": {
      "text/plain": [
       "2019.0"
      ]
     },
     "metadata": {},
     "output_type": "display_data"
    },
    {
     "data": {
      "text/html": [
       "<div>\n",
       "<style scoped>\n",
       "    .dataframe tbody tr th:only-of-type {\n",
       "        vertical-align: middle;\n",
       "    }\n",
       "\n",
       "    .dataframe tbody tr th {\n",
       "        vertical-align: top;\n",
       "    }\n",
       "\n",
       "    .dataframe thead th {\n",
       "        text-align: right;\n",
       "    }\n",
       "</style>\n",
       "<table border=\"1\" class=\"dataframe\">\n",
       "  <thead>\n",
       "    <tr style=\"text-align: right;\">\n",
       "      <th></th>\n",
       "      <th>naslov</th>\n",
       "      <th>stevilo_clenov</th>\n",
       "      <th>nova ocena</th>\n",
       "    </tr>\n",
       "  </thead>\n",
       "  <tbody>\n",
       "    <tr>\n",
       "      <th>64</th>\n",
       "      <td>Shingeki no Kyojin Season 3 Part 2</td>\n",
       "      <td>899833</td>\n",
       "      <td>9.12</td>\n",
       "    </tr>\n",
       "    <tr>\n",
       "      <th>25</th>\n",
       "      <td>Kimetsu no Yaiba</td>\n",
       "      <td>1235666</td>\n",
       "      <td>8.77</td>\n",
       "    </tr>\n",
       "    <tr>\n",
       "      <th>91</th>\n",
       "      <td>Mob Psycho 100 II</td>\n",
       "      <td>756137</td>\n",
       "      <td>8.61</td>\n",
       "    </tr>\n",
       "  </tbody>\n",
       "</table>\n",
       "</div>"
      ],
      "text/plain": [
       "                                naslov  stevilo_clenov  nova ocena\n",
       "64  Shingeki no Kyojin Season 3 Part 2          899833        9.12\n",
       "25                    Kimetsu no Yaiba         1235666        8.77\n",
       "91                   Mob Psycho 100 II          756137        8.61"
      ]
     },
     "metadata": {},
     "output_type": "display_data"
    },
    {
     "data": {
      "text/plain": [
       "2020.0"
      ]
     },
     "metadata": {},
     "output_type": "display_data"
    },
    {
     "data": {
      "text/html": [
       "<div>\n",
       "<style scoped>\n",
       "    .dataframe tbody tr th:only-of-type {\n",
       "        vertical-align: middle;\n",
       "    }\n",
       "\n",
       "    .dataframe tbody tr th {\n",
       "        vertical-align: top;\n",
       "    }\n",
       "\n",
       "    .dataframe thead th {\n",
       "        text-align: right;\n",
       "    }\n",
       "</style>\n",
       "<table border=\"1\" class=\"dataframe\">\n",
       "  <thead>\n",
       "    <tr style=\"text-align: right;\">\n",
       "      <th></th>\n",
       "      <th>naslov</th>\n",
       "      <th>stevilo_clenov</th>\n",
       "      <th>nova ocena</th>\n",
       "    </tr>\n",
       "  </thead>\n",
       "  <tbody>\n",
       "    <tr>\n",
       "      <th>148</th>\n",
       "      <td>Kaguya-sama wa Kokurasetai: Tensai-tachi no Re...</td>\n",
       "      <td>560261</td>\n",
       "      <td>8.53</td>\n",
       "    </tr>\n",
       "    <tr>\n",
       "      <th>289</th>\n",
       "      <td>Yahari Ore no Seishun Love Comedy wa Machigatt...</td>\n",
       "      <td>339448</td>\n",
       "      <td>7.85</td>\n",
       "    </tr>\n",
       "    <tr>\n",
       "      <th>161</th>\n",
       "      <td>Re:Zero kara Hajimeru Isekai Seikatsu 2nd Season</td>\n",
       "      <td>531639</td>\n",
       "      <td>7.72</td>\n",
       "    </tr>\n",
       "  </tbody>\n",
       "</table>\n",
       "</div>"
      ],
      "text/plain": [
       "                                                naslov  stevilo_clenov  \\\n",
       "148  Kaguya-sama wa Kokurasetai: Tensai-tachi no Re...          560261   \n",
       "289  Yahari Ore no Seishun Love Comedy wa Machigatt...          339448   \n",
       "161   Re:Zero kara Hajimeru Isekai Seikatsu 2nd Season          531639   \n",
       "\n",
       "     nova ocena  \n",
       "148        8.53  \n",
       "289        7.85  \n",
       "161        7.72  "
      ]
     },
     "metadata": {},
     "output_type": "display_data"
    },
    {
     "data": {
      "text/plain": [
       "nan"
      ]
     },
     "metadata": {},
     "output_type": "display_data"
    },
    {
     "data": {
      "text/html": [
       "<div>\n",
       "<style scoped>\n",
       "    .dataframe tbody tr th:only-of-type {\n",
       "        vertical-align: middle;\n",
       "    }\n",
       "\n",
       "    .dataframe tbody tr th {\n",
       "        vertical-align: top;\n",
       "    }\n",
       "\n",
       "    .dataframe thead th {\n",
       "        text-align: right;\n",
       "    }\n",
       "</style>\n",
       "<table border=\"1\" class=\"dataframe\">\n",
       "  <thead>\n",
       "    <tr style=\"text-align: right;\">\n",
       "      <th></th>\n",
       "      <th>naslov</th>\n",
       "      <th>stevilo_clenov</th>\n",
       "      <th>nova ocena</th>\n",
       "    </tr>\n",
       "  </thead>\n",
       "  <tbody>\n",
       "  </tbody>\n",
       "</table>\n",
       "</div>"
      ],
      "text/plain": [
       "Empty DataFrame\n",
       "Columns: [naslov, stevilo_clenov, nova ocena]\n",
       "Index: []"
      ]
     },
     "metadata": {},
     "output_type": "display_data"
    }
   ],
   "source": [
    "for leto in animeji_in_leta:\n",
    "    display(leto)\n",
    "    display(animeji_in_leta[leto][['naslov', 'stevilo_clenov', 'nova ocena']].sort_values('nova ocena', ascending=False).head(3))"
   ]
  },
  {
   "cell_type": "code",
   "execution_count": 50,
   "metadata": {},
   "outputs": [
    {
     "data": {
      "text/plain": [
       "1960.0"
      ]
     },
     "metadata": {},
     "output_type": "display_data"
    },
    {
     "data": {
      "text/html": [
       "<div>\n",
       "<style scoped>\n",
       "    .dataframe tbody tr th:only-of-type {\n",
       "        vertical-align: middle;\n",
       "    }\n",
       "\n",
       "    .dataframe tbody tr th {\n",
       "        vertical-align: top;\n",
       "    }\n",
       "\n",
       "    .dataframe thead th {\n",
       "        text-align: right;\n",
       "    }\n",
       "</style>\n",
       "<table border=\"1\" class=\"dataframe\">\n",
       "  <thead>\n",
       "    <tr style=\"text-align: right;\">\n",
       "      <th></th>\n",
       "      <th>naslov</th>\n",
       "      <th>stevilo_clenov</th>\n",
       "      <th>nova ocena</th>\n",
       "    </tr>\n",
       "  </thead>\n",
       "  <tbody>\n",
       "    <tr>\n",
       "      <th>1994</th>\n",
       "      <td>Mach GoGoGo</td>\n",
       "      <td>11164</td>\n",
       "      <td>0.48</td>\n",
       "    </tr>\n",
       "    <tr>\n",
       "      <th>1997</th>\n",
       "      <td>Dororo to Hyakkimaru</td>\n",
       "      <td>11090</td>\n",
       "      <td>0.39</td>\n",
       "    </tr>\n",
       "    <tr>\n",
       "      <th>2177</th>\n",
       "      <td>Tiger Mask</td>\n",
       "      <td>7678</td>\n",
       "      <td>0.33</td>\n",
       "    </tr>\n",
       "  </tbody>\n",
       "</table>\n",
       "</div>"
      ],
      "text/plain": [
       "                    naslov  stevilo_clenov  nova ocena\n",
       "1994           Mach GoGoGo           11164        0.48\n",
       "1997  Dororo to Hyakkimaru           11090        0.39\n",
       "2177            Tiger Mask            7678        0.33"
      ]
     },
     "metadata": {},
     "output_type": "display_data"
    },
    {
     "data": {
      "text/plain": [
       "1970.0"
      ]
     },
     "metadata": {},
     "output_type": "display_data"
    },
    {
     "data": {
      "text/html": [
       "<div>\n",
       "<style scoped>\n",
       "    .dataframe tbody tr th:only-of-type {\n",
       "        vertical-align: middle;\n",
       "    }\n",
       "\n",
       "    .dataframe tbody tr th {\n",
       "        vertical-align: top;\n",
       "    }\n",
       "\n",
       "    .dataframe thead th {\n",
       "        text-align: right;\n",
       "    }\n",
       "</style>\n",
       "<table border=\"1\" class=\"dataframe\">\n",
       "  <thead>\n",
       "    <tr style=\"text-align: right;\">\n",
       "      <th></th>\n",
       "      <th>naslov</th>\n",
       "      <th>stevilo_clenov</th>\n",
       "      <th>nova ocena</th>\n",
       "    </tr>\n",
       "  </thead>\n",
       "  <tbody>\n",
       "    <tr>\n",
       "      <th>1056</th>\n",
       "      <td>Versailles no Bara</td>\n",
       "      <td>66299</td>\n",
       "      <td>5.26</td>\n",
       "    </tr>\n",
       "    <tr>\n",
       "      <th>856</th>\n",
       "      <td>Mobile Suit Gundam</td>\n",
       "      <td>94229</td>\n",
       "      <td>4.48</td>\n",
       "    </tr>\n",
       "    <tr>\n",
       "      <th>1152</th>\n",
       "      <td>Ashita no Joe</td>\n",
       "      <td>55322</td>\n",
       "      <td>4.22</td>\n",
       "    </tr>\n",
       "  </tbody>\n",
       "</table>\n",
       "</div>"
      ],
      "text/plain": [
       "                  naslov  stevilo_clenov  nova ocena\n",
       "1056  Versailles no Bara           66299        5.26\n",
       "856   Mobile Suit Gundam           94229        4.48\n",
       "1152       Ashita no Joe           55322        4.22"
      ]
     },
     "metadata": {},
     "output_type": "display_data"
    },
    {
     "data": {
      "text/plain": [
       "1980.0"
      ]
     },
     "metadata": {},
     "output_type": "display_data"
    },
    {
     "data": {
      "text/html": [
       "<div>\n",
       "<style scoped>\n",
       "    .dataframe tbody tr th:only-of-type {\n",
       "        vertical-align: middle;\n",
       "    }\n",
       "\n",
       "    .dataframe tbody tr th {\n",
       "        vertical-align: top;\n",
       "    }\n",
       "\n",
       "    .dataframe thead th {\n",
       "        text-align: right;\n",
       "    }\n",
       "</style>\n",
       "<table border=\"1\" class=\"dataframe\">\n",
       "  <thead>\n",
       "    <tr style=\"text-align: right;\">\n",
       "      <th></th>\n",
       "      <th>naslov</th>\n",
       "      <th>stevilo_clenov</th>\n",
       "      <th>nova ocena</th>\n",
       "    </tr>\n",
       "  </thead>\n",
       "  <tbody>\n",
       "    <tr>\n",
       "      <th>71</th>\n",
       "      <td>Dragon Ball Z</td>\n",
       "      <td>841343</td>\n",
       "      <td>8.16</td>\n",
       "    </tr>\n",
       "    <tr>\n",
       "      <th>103</th>\n",
       "      <td>Dragon Ball</td>\n",
       "      <td>695117</td>\n",
       "      <td>7.56</td>\n",
       "    </tr>\n",
       "    <tr>\n",
       "      <th>669</th>\n",
       "      <td>Saint Seiya</td>\n",
       "      <td>140150</td>\n",
       "      <td>6.00</td>\n",
       "    </tr>\n",
       "  </tbody>\n",
       "</table>\n",
       "</div>"
      ],
      "text/plain": [
       "            naslov  stevilo_clenov  nova ocena\n",
       "71   Dragon Ball Z          841343        8.16\n",
       "103    Dragon Ball          695117        7.56\n",
       "669    Saint Seiya          140150        6.00"
      ]
     },
     "metadata": {},
     "output_type": "display_data"
    },
    {
     "data": {
      "text/plain": [
       "1990.0"
      ]
     },
     "metadata": {},
     "output_type": "display_data"
    },
    {
     "data": {
      "text/html": [
       "<div>\n",
       "<style scoped>\n",
       "    .dataframe tbody tr th:only-of-type {\n",
       "        vertical-align: middle;\n",
       "    }\n",
       "\n",
       "    .dataframe tbody tr th {\n",
       "        vertical-align: top;\n",
       "    }\n",
       "\n",
       "    .dataframe thead th {\n",
       "        text-align: right;\n",
       "    }\n",
       "</style>\n",
       "<table border=\"1\" class=\"dataframe\">\n",
       "  <thead>\n",
       "    <tr style=\"text-align: right;\">\n",
       "      <th></th>\n",
       "      <th>naslov</th>\n",
       "      <th>stevilo_clenov</th>\n",
       "      <th>nova ocena</th>\n",
       "    </tr>\n",
       "  </thead>\n",
       "  <tbody>\n",
       "    <tr>\n",
       "      <th>30</th>\n",
       "      <td>Cowboy Bebop</td>\n",
       "      <td>1176190</td>\n",
       "      <td>8.97</td>\n",
       "    </tr>\n",
       "    <tr>\n",
       "      <th>43</th>\n",
       "      <td>Neon Genesis Evangelion</td>\n",
       "      <td>1079668</td>\n",
       "      <td>8.50</td>\n",
       "    </tr>\n",
       "    <tr>\n",
       "      <th>149</th>\n",
       "      <td>Great Teacher Onizuka</td>\n",
       "      <td>560177</td>\n",
       "      <td>8.47</td>\n",
       "    </tr>\n",
       "  </tbody>\n",
       "</table>\n",
       "</div>"
      ],
      "text/plain": [
       "                      naslov  stevilo_clenov  nova ocena\n",
       "30              Cowboy Bebop         1176190        8.97\n",
       "43   Neon Genesis Evangelion         1079668        8.50\n",
       "149    Great Teacher Onizuka          560177        8.47"
      ]
     },
     "metadata": {},
     "output_type": "display_data"
    },
    {
     "data": {
      "text/plain": [
       "2000.0"
      ]
     },
     "metadata": {},
     "output_type": "display_data"
    },
    {
     "data": {
      "text/html": [
       "<div>\n",
       "<style scoped>\n",
       "    .dataframe tbody tr th:only-of-type {\n",
       "        vertical-align: middle;\n",
       "    }\n",
       "\n",
       "    .dataframe tbody tr th {\n",
       "        vertical-align: top;\n",
       "    }\n",
       "\n",
       "    .dataframe thead th {\n",
       "        text-align: right;\n",
       "    }\n",
       "</style>\n",
       "<table border=\"1\" class=\"dataframe\">\n",
       "  <thead>\n",
       "    <tr style=\"text-align: right;\">\n",
       "      <th></th>\n",
       "      <th>naslov</th>\n",
       "      <th>stevilo_clenov</th>\n",
       "      <th>nova ocena</th>\n",
       "    </tr>\n",
       "  </thead>\n",
       "  <tbody>\n",
       "    <tr>\n",
       "      <th>2</th>\n",
       "      <td>Fullmetal Alchemist: Brotherhood</td>\n",
       "      <td>2090273</td>\n",
       "      <td>9.56</td>\n",
       "    </tr>\n",
       "    <tr>\n",
       "      <th>68</th>\n",
       "      <td>Clannad: After Story</td>\n",
       "      <td>875877</td>\n",
       "      <td>9.13</td>\n",
       "    </tr>\n",
       "    <tr>\n",
       "      <th>28</th>\n",
       "      <td>Code Geass: Hangyaku no Lelouch R2</td>\n",
       "      <td>1206854</td>\n",
       "      <td>9.11</td>\n",
       "    </tr>\n",
       "  </tbody>\n",
       "</table>\n",
       "</div>"
      ],
      "text/plain": [
       "                                naslov  stevilo_clenov  nova ocena\n",
       "2     Fullmetal Alchemist: Brotherhood         2090273        9.56\n",
       "68                Clannad: After Story          875877        9.13\n",
       "28  Code Geass: Hangyaku no Lelouch R2         1206854        9.11"
      ]
     },
     "metadata": {},
     "output_type": "display_data"
    },
    {
     "data": {
      "text/plain": [
       "2010.0"
      ]
     },
     "metadata": {},
     "output_type": "display_data"
    },
    {
     "data": {
      "text/html": [
       "<div>\n",
       "<style scoped>\n",
       "    .dataframe tbody tr th:only-of-type {\n",
       "        vertical-align: middle;\n",
       "    }\n",
       "\n",
       "    .dataframe tbody tr th {\n",
       "        vertical-align: top;\n",
       "    }\n",
       "\n",
       "    .dataframe thead th {\n",
       "        text-align: right;\n",
       "    }\n",
       "</style>\n",
       "<table border=\"1\" class=\"dataframe\">\n",
       "  <thead>\n",
       "    <tr style=\"text-align: right;\">\n",
       "      <th></th>\n",
       "      <th>naslov</th>\n",
       "      <th>stevilo_clenov</th>\n",
       "      <th>nova ocena</th>\n",
       "    </tr>\n",
       "  </thead>\n",
       "  <tbody>\n",
       "    <tr>\n",
       "      <th>8</th>\n",
       "      <td>Steins;Gate</td>\n",
       "      <td>1681837</td>\n",
       "      <td>9.45</td>\n",
       "    </tr>\n",
       "    <tr>\n",
       "      <th>9</th>\n",
       "      <td>Hunter x Hunter (2011)</td>\n",
       "      <td>1529228</td>\n",
       "      <td>9.43</td>\n",
       "    </tr>\n",
       "    <tr>\n",
       "      <th>64</th>\n",
       "      <td>Shingeki no Kyojin Season 3 Part 2</td>\n",
       "      <td>899833</td>\n",
       "      <td>9.12</td>\n",
       "    </tr>\n",
       "  </tbody>\n",
       "</table>\n",
       "</div>"
      ],
      "text/plain": [
       "                                naslov  stevilo_clenov  nova ocena\n",
       "8                          Steins;Gate         1681837        9.45\n",
       "9               Hunter x Hunter (2011)         1529228        9.43\n",
       "64  Shingeki no Kyojin Season 3 Part 2          899833        9.12"
      ]
     },
     "metadata": {},
     "output_type": "display_data"
    },
    {
     "data": {
      "text/plain": [
       "2020.0"
      ]
     },
     "metadata": {},
     "output_type": "display_data"
    },
    {
     "data": {
      "text/html": [
       "<div>\n",
       "<style scoped>\n",
       "    .dataframe tbody tr th:only-of-type {\n",
       "        vertical-align: middle;\n",
       "    }\n",
       "\n",
       "    .dataframe tbody tr th {\n",
       "        vertical-align: top;\n",
       "    }\n",
       "\n",
       "    .dataframe thead th {\n",
       "        text-align: right;\n",
       "    }\n",
       "</style>\n",
       "<table border=\"1\" class=\"dataframe\">\n",
       "  <thead>\n",
       "    <tr style=\"text-align: right;\">\n",
       "      <th></th>\n",
       "      <th>naslov</th>\n",
       "      <th>stevilo_clenov</th>\n",
       "      <th>nova ocena</th>\n",
       "    </tr>\n",
       "  </thead>\n",
       "  <tbody>\n",
       "    <tr>\n",
       "      <th>148</th>\n",
       "      <td>Kaguya-sama wa Kokurasetai: Tensai-tachi no Re...</td>\n",
       "      <td>560261</td>\n",
       "      <td>8.53</td>\n",
       "    </tr>\n",
       "    <tr>\n",
       "      <th>289</th>\n",
       "      <td>Yahari Ore no Seishun Love Comedy wa Machigatt...</td>\n",
       "      <td>339448</td>\n",
       "      <td>7.85</td>\n",
       "    </tr>\n",
       "    <tr>\n",
       "      <th>161</th>\n",
       "      <td>Re:Zero kara Hajimeru Isekai Seikatsu 2nd Season</td>\n",
       "      <td>531639</td>\n",
       "      <td>7.72</td>\n",
       "    </tr>\n",
       "  </tbody>\n",
       "</table>\n",
       "</div>"
      ],
      "text/plain": [
       "                                                naslov  stevilo_clenov  \\\n",
       "148  Kaguya-sama wa Kokurasetai: Tensai-tachi no Re...          560261   \n",
       "289  Yahari Ore no Seishun Love Comedy wa Machigatt...          339448   \n",
       "161   Re:Zero kara Hajimeru Isekai Seikatsu 2nd Season          531639   \n",
       "\n",
       "     nova ocena  \n",
       "148        8.53  \n",
       "289        7.85  \n",
       "161        7.72  "
      ]
     },
     "metadata": {},
     "output_type": "display_data"
    },
    {
     "data": {
      "text/plain": [
       "nan"
      ]
     },
     "metadata": {},
     "output_type": "display_data"
    },
    {
     "data": {
      "text/html": [
       "<div>\n",
       "<style scoped>\n",
       "    .dataframe tbody tr th:only-of-type {\n",
       "        vertical-align: middle;\n",
       "    }\n",
       "\n",
       "    .dataframe tbody tr th {\n",
       "        vertical-align: top;\n",
       "    }\n",
       "\n",
       "    .dataframe thead th {\n",
       "        text-align: right;\n",
       "    }\n",
       "</style>\n",
       "<table border=\"1\" class=\"dataframe\">\n",
       "  <thead>\n",
       "    <tr style=\"text-align: right;\">\n",
       "      <th></th>\n",
       "      <th>naslov</th>\n",
       "      <th>stevilo_clenov</th>\n",
       "      <th>nova ocena</th>\n",
       "    </tr>\n",
       "  </thead>\n",
       "  <tbody>\n",
       "  </tbody>\n",
       "</table>\n",
       "</div>"
      ],
      "text/plain": [
       "Empty DataFrame\n",
       "Columns: [naslov, stevilo_clenov, nova ocena]\n",
       "Index: []"
      ]
     },
     "metadata": {},
     "output_type": "display_data"
    }
   ],
   "source": [
    "for desetletje in animeji_dz:\n",
    "    display(desetletje)\n",
    "    display(animeji_dz[desetletje][['naslov', 'stevilo_clenov', 'nova ocena']].sort_values('nova ocena', ascending=False).head(3))"
   ]
  },
  {
   "cell_type": "markdown",
   "metadata": {},
   "source": [
    "Poglejmo, kdaj so izišli dobri in najboljši animeji."
   ]
  },
  {
   "cell_type": "code",
   "execution_count": 53,
   "metadata": {},
   "outputs": [
    {
     "data": {
      "text/plain": [
       "<AxesSubplot:xlabel='zacetek'>"
      ]
     },
     "execution_count": 53,
     "metadata": {},
     "output_type": "execute_result"
    },
    {
     "data": {
      "image/png": "[encoded data removed]",
      "text/plain": [
       "<Figure size 432x288 with 1 Axes>"
      ]
     },
     "metadata": {
      "needs_background": "light"
     },
     "output_type": "display_data"
    }
   ],
   "source": [
    "novi_dobri_animeji.groupby('zacetek').size().plot.bar()"
   ]
  },
  {
   "cell_type": "code",
   "execution_count": 54,
   "metadata": {},
   "outputs": [
    {
     "data": {
      "text/plain": [
       "<AxesSubplot:xlabel='zacetek'>"
      ]
     },
     "execution_count": 54,
     "metadata": {},
     "output_type": "execute_result"
    },
    {
     "data": {
      "image/png": "[encoded data removed]",
      "text/plain": [
       "<Figure size 432x288 with 1 Axes>"
      ]
     },
     "metadata": {
      "needs_background": "light"
     },
     "output_type": "display_data"
    }
   ],
   "source": [
    "najboljsi_animeji.groupby('zacetek').size().plot.bar()"
   ]
  },
  {
   "cell_type": "markdown",
   "metadata": {},
   "source": [
    "Po diagramih zavidimo, da je največ dobrih in najboljših animejev izišlo leta 2015. Poglejmo najboljše animeje iz leta 2015."
   ]
  },
  {
   "cell_type": "code",
   "execution_count": 55,
   "metadata": {},
   "outputs": [
    {
     "data": {
      "text/html": [
       "<div>\n",
       "<style scoped>\n",
       "    .dataframe tbody tr th:only-of-type {\n",
       "        vertical-align: middle;\n",
       "    }\n",
       "\n",
       "    .dataframe tbody tr th {\n",
       "        vertical-align: top;\n",
       "    }\n",
       "\n",
       "    .dataframe thead th {\n",
       "        text-align: right;\n",
       "    }\n",
       "</style>\n",
       "<table border=\"1\" class=\"dataframe\">\n",
       "  <thead>\n",
       "    <tr style=\"text-align: right;\">\n",
       "      <th></th>\n",
       "      <th>id</th>\n",
       "      <th>naslov</th>\n",
       "      <th>sezona</th>\n",
       "      <th>zacetek</th>\n",
       "      <th>konec</th>\n",
       "      <th>vir</th>\n",
       "      <th>epizode</th>\n",
       "      <th>dolzina</th>\n",
       "      <th>stevilo_clenov</th>\n",
       "      <th>najljubsi</th>\n",
       "      <th>ocena</th>\n",
       "      <th>opis</th>\n",
       "      <th>oznaka</th>\n",
       "      <th>nova ocena</th>\n",
       "    </tr>\n",
       "  </thead>\n",
       "  <tbody>\n",
       "    <tr>\n",
       "      <th>11</th>\n",
       "      <td>30276</td>\n",
       "      <td>One Punch Man</td>\n",
       "      <td>Fall 2015</td>\n",
       "      <td>2015.0</td>\n",
       "      <td>2015.0</td>\n",
       "      <td>Web manga</td>\n",
       "      <td>12.0</td>\n",
       "      <td>24.0</td>\n",
       "      <td>1979366</td>\n",
       "      <td>52089</td>\n",
       "      <td>8.59</td>\n",
       "      <td>The seemingly ordinary and unimpressive Saitam...</td>\n",
       "      <td>R</td>\n",
       "      <td>8.77</td>\n",
       "    </tr>\n",
       "    <tr>\n",
       "      <th>44</th>\n",
       "      <td>28223</td>\n",
       "      <td>Death Parade</td>\n",
       "      <td>Winter 2015</td>\n",
       "      <td>2015.0</td>\n",
       "      <td>2015.0</td>\n",
       "      <td>Original</td>\n",
       "      <td>12.0</td>\n",
       "      <td>23.0</td>\n",
       "      <td>1134490</td>\n",
       "      <td>21064</td>\n",
       "      <td>8.21</td>\n",
       "      <td>After death, there is no heaven or hell, only ...</td>\n",
       "      <td>R</td>\n",
       "      <td>8.07</td>\n",
       "    </tr>\n",
       "    <tr>\n",
       "      <th>52</th>\n",
       "      <td>24833</td>\n",
       "      <td>Ansatsu Kyoushitsu</td>\n",
       "      <td>Winter 2015</td>\n",
       "      <td>2015.0</td>\n",
       "      <td>2015.0</td>\n",
       "      <td>Manga</td>\n",
       "      <td>22.0</td>\n",
       "      <td>23.0</td>\n",
       "      <td>1159105</td>\n",
       "      <td>20397</td>\n",
       "      <td>8.13</td>\n",
       "      <td>When a mysterious creature chops the moon down...</td>\n",
       "      <td>PG-13</td>\n",
       "      <td>7.97</td>\n",
       "    </tr>\n",
       "    <tr>\n",
       "      <th>60</th>\n",
       "      <td>29803</td>\n",
       "      <td>Overlord</td>\n",
       "      <td>Summer 2015</td>\n",
       "      <td>2015.0</td>\n",
       "      <td>2015.0</td>\n",
       "      <td>Light novel</td>\n",
       "      <td>13.0</td>\n",
       "      <td>24.0</td>\n",
       "      <td>979624</td>\n",
       "      <td>17389</td>\n",
       "      <td>7.97</td>\n",
       "      <td>The final hour of the popular virtual reality ...</td>\n",
       "      <td>R</td>\n",
       "      <td>7.73</td>\n",
       "    </tr>\n",
       "    <tr>\n",
       "      <th>63</th>\n",
       "      <td>30503</td>\n",
       "      <td>Noragami Aragoto</td>\n",
       "      <td>Fall 2015</td>\n",
       "      <td>2015.0</td>\n",
       "      <td>2015.0</td>\n",
       "      <td>Manga</td>\n",
       "      <td>13.0</td>\n",
       "      <td>24.0</td>\n",
       "      <td>981685</td>\n",
       "      <td>10592</td>\n",
       "      <td>8.23</td>\n",
       "      <td>Yato and Yukine have finally mended their rela...</td>\n",
       "      <td>PG-13</td>\n",
       "      <td>7.65</td>\n",
       "    </tr>\n",
       "    <tr>\n",
       "      <th>66</th>\n",
       "      <td>28999</td>\n",
       "      <td>Charlotte</td>\n",
       "      <td>Summer 2015</td>\n",
       "      <td>2015.0</td>\n",
       "      <td>2015.0</td>\n",
       "      <td>Original</td>\n",
       "      <td>13.0</td>\n",
       "      <td>24.0</td>\n",
       "      <td>976332</td>\n",
       "      <td>16633</td>\n",
       "      <td>7.79</td>\n",
       "      <td>While on the surface Yuu Otosaka appears to be...</td>\n",
       "      <td>PG-13</td>\n",
       "      <td>7.53</td>\n",
       "    </tr>\n",
       "    <tr>\n",
       "      <th>79</th>\n",
       "      <td>28121</td>\n",
       "      <td>Dungeon ni Deai wo Motomeru no wa Machigatteir...</td>\n",
       "      <td>Spring 2015</td>\n",
       "      <td>2015.0</td>\n",
       "      <td>2015.0</td>\n",
       "      <td>Light novel</td>\n",
       "      <td>13.0</td>\n",
       "      <td>24.0</td>\n",
       "      <td>1020776</td>\n",
       "      <td>9947</td>\n",
       "      <td>7.66</td>\n",
       "      <td>Life in the bustling city of Orario is never d...</td>\n",
       "      <td>PG-13</td>\n",
       "      <td>7.07</td>\n",
       "    </tr>\n",
       "    <tr>\n",
       "      <th>80</th>\n",
       "      <td>26243</td>\n",
       "      <td>Owari no Seraph</td>\n",
       "      <td>Spring 2015</td>\n",
       "      <td>2015.0</td>\n",
       "      <td>2015.0</td>\n",
       "      <td>Manga</td>\n",
       "      <td>12.0</td>\n",
       "      <td>23.0</td>\n",
       "      <td>834380</td>\n",
       "      <td>10128</td>\n",
       "      <td>7.50</td>\n",
       "      <td>With the appearance of a mysterious virus that...</td>\n",
       "      <td>R</td>\n",
       "      <td>6.92</td>\n",
       "    </tr>\n",
       "    <tr>\n",
       "      <th>81</th>\n",
       "      <td>27899</td>\n",
       "      <td>Tokyo Ghoul √A</td>\n",
       "      <td>Winter 2015</td>\n",
       "      <td>2015.0</td>\n",
       "      <td>2015.0</td>\n",
       "      <td>Manga</td>\n",
       "      <td>12.0</td>\n",
       "      <td>24.0</td>\n",
       "      <td>1156651</td>\n",
       "      <td>10574</td>\n",
       "      <td>7.09</td>\n",
       "      <td>Ken Kaneki has finally come to accept the mons...</td>\n",
       "      <td>R</td>\n",
       "      <td>6.59</td>\n",
       "    </tr>\n",
       "  </tbody>\n",
       "</table>\n",
       "</div>"
      ],
      "text/plain": [
       "       id                                             naslov       sezona  \\\n",
       "11  30276                                      One Punch Man    Fall 2015   \n",
       "44  28223                                       Death Parade  Winter 2015   \n",
       "52  24833                                 Ansatsu Kyoushitsu  Winter 2015   \n",
       "60  29803                                           Overlord  Summer 2015   \n",
       "63  30503                                   Noragami Aragoto    Fall 2015   \n",
       "66  28999                                          Charlotte  Summer 2015   \n",
       "79  28121  Dungeon ni Deai wo Motomeru no wa Machigatteir...  Spring 2015   \n",
       "80  26243                                    Owari no Seraph  Spring 2015   \n",
       "81  27899                                     Tokyo Ghoul √A  Winter 2015   \n",
       "\n",
       "    zacetek   konec          vir  epizode  dolzina  stevilo_clenov  najljubsi  \\\n",
       "11   2015.0  2015.0    Web manga     12.0     24.0         1979366      52089   \n",
       "44   2015.0  2015.0     Original     12.0     23.0         1134490      21064   \n",
       "52   2015.0  2015.0        Manga     22.0     23.0         1159105      20397   \n",
       "60   2015.0  2015.0  Light novel     13.0     24.0          979624      17389   \n",
       "63   2015.0  2015.0        Manga     13.0     24.0          981685      10592   \n",
       "66   2015.0  2015.0     Original     13.0     24.0          976332      16633   \n",
       "79   2015.0  2015.0  Light novel     13.0     24.0         1020776       9947   \n",
       "80   2015.0  2015.0        Manga     12.0     23.0          834380      10128   \n",
       "81   2015.0  2015.0        Manga     12.0     24.0         1156651      10574   \n",
       "\n",
       "    ocena                                               opis oznaka  \\\n",
       "11   8.59  The seemingly ordinary and unimpressive Saitam...      R   \n",
       "44   8.21  After death, there is no heaven or hell, only ...      R   \n",
       "52   8.13  When a mysterious creature chops the moon down...  PG-13   \n",
       "60   7.97  The final hour of the popular virtual reality ...      R   \n",
       "63   8.23  Yato and Yukine have finally mended their rela...  PG-13   \n",
       "66   7.79  While on the surface Yuu Otosaka appears to be...  PG-13   \n",
       "79   7.66  Life in the bustling city of Orario is never d...  PG-13   \n",
       "80   7.50  With the appearance of a mysterious virus that...      R   \n",
       "81   7.09  Ken Kaneki has finally come to accept the mons...      R   \n",
       "\n",
       "    nova ocena  \n",
       "11        8.77  \n",
       "44        8.07  \n",
       "52        7.97  \n",
       "60        7.73  \n",
       "63        7.65  \n",
       "66        7.53  \n",
       "79        7.07  \n",
       "80        6.92  \n",
       "81        6.59  "
      ]
     },
     "execution_count": 55,
     "metadata": {},
     "output_type": "execute_result"
    }
   ],
   "source": [
    "najboljsi_animeji[najboljsi_animeji['zacetek'] == 2015]"
   ]
  },
  {
   "cell_type": "markdown",
   "metadata": {},
   "source": [
    "Kaj smo izvedeli?\n",
    "1. Največ animejev je izišlo okoli leta 2016 (248)\n",
    "2. V 20. stoletju je izišlo 1,108 animejev, največ v letu 1999 (84)\n",
    "3. V 21. stoletju je izišlo 3,134 animejev, največ v letu 2016 (248)\n",
    "4. Največ animejev je izišlo desetletja 2010\n",
    "5. Med 50 najbolj popularnih animejih, največ je izišlo v letu 2014\n",
    "6. Med 10 najbolj popularnih animejih, največ je izišlo v letu 2011 (*Steins;Gate* in *Hunter x Hunter*)\n",
    "7. "
   ]
  },
  {
   "cell_type": "markdown",
   "metadata": {},
   "source": [
    "### Konec animeja"
   ]
  },
  {
   "cell_type": "markdown",
   "metadata": {},
   "source": [
    "Videli smo kako so popularni animeji in kakva je ocena po letih in desetletjih izida. Zdaj poglejmo kako se obnašajo animeji po koncu."
   ]
  },
  {
   "cell_type": "code",
   "execution_count": null,
   "metadata": {},
   "outputs": [],
   "source": []
  }
 ],
 "metadata": {
  "kernelspec": {
   "display_name": "Python 3",
   "language": "python",
   "name": "python3"
  },
  "language_info": {
   "codemirror_mode": {
    "name": "ipython",
    "version": 3
   },
   "file_extension": ".py",
   "mimetype": "text/x-python",
   "name": "python",
   "nbconvert_exporter": "python",
   "pygments_lexer": "ipython3",
   "version": "3.8.1"
  }
 },
 "nbformat": 4,
 "nbformat_minor": 4
}

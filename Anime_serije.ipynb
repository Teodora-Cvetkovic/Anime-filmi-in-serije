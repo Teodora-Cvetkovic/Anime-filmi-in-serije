{
 "cells": [
  {
   "cell_type": "markdown",
   "metadata": {},
   "source": [
    "# Anime serije\n",
    "*Projektna naloga pri predmetu **Programiranje 1** na Fakulteti za matematiko in fiziko*"
   ]
  },
  {
   "cell_type": "markdown",
   "metadata": {},
   "source": [
    "## Priprava podatkov"
   ]
  },
  {
   "cell_type": "markdown",
   "metadata": {},
   "source": [
    "V tej datoteki bomo analizirali podatke zbrane v mapi *obdelani-podatki*. Na začetku moramo vnesti knjižnico *pandas* in tabele."
   ]
  },
  {
   "cell_type": "code",
   "execution_count": 1,
   "metadata": {},
   "outputs": [],
   "source": [
    "import pandas as pd\n",
    "\n",
    "pd.options.display.max_rows = 10\n",
    "\n",
    "%matplotlib inline\n",
    "\n",
    "animeji = pd.read_csv('obdelani-podatki/animeji.csv', index_col='id')\n",
    "osebe = pd.read_csv('obdelani-podatki/osebe.csv')\n",
    "vloge = pd.read_csv('obdelani-podatki/vloge.csv')\n",
    "zanri = pd.read_csv('obdelani-podatki/zanri.csv')\n",
    "studii = pd.read_csv('obdelani-podatki/studiji.csv')\n",
    "studii_a = pd.read_csv('obdelani-podatki/studiji_po_animejih.csv')"
   ]
  },
  {
   "cell_type": "markdown",
   "metadata": {},
   "source": [
    "Poglejmo si tabele."
   ]
  },
  {
   "cell_type": "code",
   "execution_count": 2,
   "metadata": {
    "scrolled": false
   },
   "outputs": [
    {
     "data": {
      "text/html": [
       "<div>\n",
       "<style scoped>\n",
       "    .dataframe tbody tr th:only-of-type {\n",
       "        vertical-align: middle;\n",
       "    }\n",
       "\n",
       "    .dataframe tbody tr th {\n",
       "        vertical-align: top;\n",
       "    }\n",
       "\n",
       "    .dataframe thead th {\n",
       "        text-align: right;\n",
       "    }\n",
       "</style>\n",
       "<table border=\"1\" class=\"dataframe\">\n",
       "  <thead>\n",
       "    <tr style=\"text-align: right;\">\n",
       "      <th></th>\n",
       "      <th>naslov</th>\n",
       "      <th>sezona</th>\n",
       "      <th>zacetek</th>\n",
       "      <th>konec</th>\n",
       "      <th>vir</th>\n",
       "      <th>epizode</th>\n",
       "      <th>dolzina</th>\n",
       "      <th>stevilo_clenov</th>\n",
       "      <th>najljubsi</th>\n",
       "      <th>ocena</th>\n",
       "      <th>opis</th>\n",
       "      <th>oznaka</th>\n",
       "    </tr>\n",
       "    <tr>\n",
       "      <th>id</th>\n",
       "      <th></th>\n",
       "      <th></th>\n",
       "      <th></th>\n",
       "      <th></th>\n",
       "      <th></th>\n",
       "      <th></th>\n",
       "      <th></th>\n",
       "      <th></th>\n",
       "      <th></th>\n",
       "      <th></th>\n",
       "      <th></th>\n",
       "      <th></th>\n",
       "    </tr>\n",
       "  </thead>\n",
       "  <tbody>\n",
       "    <tr>\n",
       "      <th>1535</th>\n",
       "      <td>Death Note</td>\n",
       "      <td>Fall</td>\n",
       "      <td>2006.0</td>\n",
       "      <td>2007.0</td>\n",
       "      <td>Manga</td>\n",
       "      <td>37.0</td>\n",
       "      <td>23.0</td>\n",
       "      <td>2444192</td>\n",
       "      <td>138701</td>\n",
       "      <td>8.63</td>\n",
       "      <td>A shinigami, as a god of death, can kill any p...</td>\n",
       "      <td>R</td>\n",
       "    </tr>\n",
       "    <tr>\n",
       "      <th>16498</th>\n",
       "      <td>Shingeki no Kyojin</td>\n",
       "      <td>Spring</td>\n",
       "      <td>2013.0</td>\n",
       "      <td>2013.0</td>\n",
       "      <td>Manga</td>\n",
       "      <td>25.0</td>\n",
       "      <td>24.0</td>\n",
       "      <td>2357843</td>\n",
       "      <td>117999</td>\n",
       "      <td>8.47</td>\n",
       "      <td>Centuries ago, mankind was slaughtered to near...</td>\n",
       "      <td>R</td>\n",
       "    </tr>\n",
       "    <tr>\n",
       "      <th>5114</th>\n",
       "      <td>Fullmetal Alchemist: Brotherhood</td>\n",
       "      <td>Spring</td>\n",
       "      <td>2009.0</td>\n",
       "      <td>2010.0</td>\n",
       "      <td>Manga</td>\n",
       "      <td>64.0</td>\n",
       "      <td>24.0</td>\n",
       "      <td>2116735</td>\n",
       "      <td>174937</td>\n",
       "      <td>9.21</td>\n",
       "      <td>\"In order for something to be obtained, someth...</td>\n",
       "      <td>R</td>\n",
       "    </tr>\n",
       "    <tr>\n",
       "      <th>11757</th>\n",
       "      <td>Sword Art Online</td>\n",
       "      <td>Summer</td>\n",
       "      <td>2012.0</td>\n",
       "      <td>2012.0</td>\n",
       "      <td>Light novel</td>\n",
       "      <td>25.0</td>\n",
       "      <td>23.0</td>\n",
       "      <td>2112545</td>\n",
       "      <td>65063</td>\n",
       "      <td>7.27</td>\n",
       "      <td>In the year 2022, virtual reality has progress...</td>\n",
       "      <td>PG-13</td>\n",
       "    </tr>\n",
       "    <tr>\n",
       "      <th>30276</th>\n",
       "      <td>One Punch Man</td>\n",
       "      <td>Fall</td>\n",
       "      <td>2015.0</td>\n",
       "      <td>2015.0</td>\n",
       "      <td>Web manga</td>\n",
       "      <td>12.0</td>\n",
       "      <td>24.0</td>\n",
       "      <td>2008875</td>\n",
       "      <td>52692</td>\n",
       "      <td>8.59</td>\n",
       "      <td>The seemingly ordinary and unimpressive Saitam...</td>\n",
       "      <td>R</td>\n",
       "    </tr>\n",
       "    <tr>\n",
       "      <th>...</th>\n",
       "      <td>...</td>\n",
       "      <td>...</td>\n",
       "      <td>...</td>\n",
       "      <td>...</td>\n",
       "      <td>...</td>\n",
       "      <td>...</td>\n",
       "      <td>...</td>\n",
       "      <td>...</td>\n",
       "      <td>...</td>\n",
       "      <td>...</td>\n",
       "      <td>...</td>\n",
       "      <td>...</td>\n",
       "    </tr>\n",
       "    <tr>\n",
       "      <th>42264</th>\n",
       "      <td>Konglong Baobei Zhi Longshen Yongshi 3</td>\n",
       "      <td>NaN</td>\n",
       "      <td>2011.0</td>\n",
       "      <td>NaN</td>\n",
       "      <td>Original</td>\n",
       "      <td>52.0</td>\n",
       "      <td>20.0</td>\n",
       "      <td>38</td>\n",
       "      <td>0</td>\n",
       "      <td>NaN</td>\n",
       "      <td>NaN</td>\n",
       "      <td>PG</td>\n",
       "    </tr>\n",
       "    <tr>\n",
       "      <th>42263</th>\n",
       "      <td>Konglong Baobei Zhi Longshen Yongshi 2</td>\n",
       "      <td>NaN</td>\n",
       "      <td>2011.0</td>\n",
       "      <td>NaN</td>\n",
       "      <td>Original</td>\n",
       "      <td>52.0</td>\n",
       "      <td>15.0</td>\n",
       "      <td>37</td>\n",
       "      <td>0</td>\n",
       "      <td>NaN</td>\n",
       "      <td>NaN</td>\n",
       "      <td>PG</td>\n",
       "    </tr>\n",
       "    <tr>\n",
       "      <th>42765</th>\n",
       "      <td>Ji Jia Shou Shen</td>\n",
       "      <td>NaN</td>\n",
       "      <td>2010.0</td>\n",
       "      <td>2010.0</td>\n",
       "      <td>Original</td>\n",
       "      <td>26.0</td>\n",
       "      <td>23.0</td>\n",
       "      <td>34</td>\n",
       "      <td>0</td>\n",
       "      <td>NaN</td>\n",
       "      <td>NaN</td>\n",
       "      <td>PG</td>\n",
       "    </tr>\n",
       "    <tr>\n",
       "      <th>42766</th>\n",
       "      <td>Ji Jia Shou Shen 2nd Season</td>\n",
       "      <td>NaN</td>\n",
       "      <td>2011.0</td>\n",
       "      <td>NaN</td>\n",
       "      <td>Original</td>\n",
       "      <td>26.0</td>\n",
       "      <td>23.0</td>\n",
       "      <td>30</td>\n",
       "      <td>0</td>\n",
       "      <td>NaN</td>\n",
       "      <td>NaN</td>\n",
       "      <td>PG</td>\n",
       "    </tr>\n",
       "    <tr>\n",
       "      <th>42852</th>\n",
       "      <td>Little Village People</td>\n",
       "      <td>NaN</td>\n",
       "      <td>2008.0</td>\n",
       "      <td>2008.0</td>\n",
       "      <td>Original</td>\n",
       "      <td>15.0</td>\n",
       "      <td>6.0</td>\n",
       "      <td>24</td>\n",
       "      <td>0</td>\n",
       "      <td>NaN</td>\n",
       "      <td>Set in Penguin Village Hills, one of the most ...</td>\n",
       "      <td>PG-13</td>\n",
       "    </tr>\n",
       "  </tbody>\n",
       "</table>\n",
       "<p>4298 rows × 12 columns</p>\n",
       "</div>"
      ],
      "text/plain": [
       "                                       naslov  sezona  zacetek   konec  \\\n",
       "id                                                                       \n",
       "1535                               Death Note    Fall   2006.0  2007.0   \n",
       "16498                      Shingeki no Kyojin  Spring   2013.0  2013.0   \n",
       "5114         Fullmetal Alchemist: Brotherhood  Spring   2009.0  2010.0   \n",
       "11757                        Sword Art Online  Summer   2012.0  2012.0   \n",
       "30276                           One Punch Man    Fall   2015.0  2015.0   \n",
       "...                                       ...     ...      ...     ...   \n",
       "42264  Konglong Baobei Zhi Longshen Yongshi 3     NaN   2011.0     NaN   \n",
       "42263  Konglong Baobei Zhi Longshen Yongshi 2     NaN   2011.0     NaN   \n",
       "42765                        Ji Jia Shou Shen     NaN   2010.0  2010.0   \n",
       "42766             Ji Jia Shou Shen 2nd Season     NaN   2011.0     NaN   \n",
       "42852                   Little Village People     NaN   2008.0  2008.0   \n",
       "\n",
       "               vir  epizode  dolzina  stevilo_clenov  najljubsi  ocena  \\\n",
       "id                                                                       \n",
       "1535         Manga     37.0     23.0         2444192     138701   8.63   \n",
       "16498        Manga     25.0     24.0         2357843     117999   8.47   \n",
       "5114         Manga     64.0     24.0         2116735     174937   9.21   \n",
       "11757  Light novel     25.0     23.0         2112545      65063   7.27   \n",
       "30276    Web manga     12.0     24.0         2008875      52692   8.59   \n",
       "...            ...      ...      ...             ...        ...    ...   \n",
       "42264     Original     52.0     20.0              38          0    NaN   \n",
       "42263     Original     52.0     15.0              37          0    NaN   \n",
       "42765     Original     26.0     23.0              34          0    NaN   \n",
       "42766     Original     26.0     23.0              30          0    NaN   \n",
       "42852     Original     15.0      6.0              24          0    NaN   \n",
       "\n",
       "                                                    opis oznaka  \n",
       "id                                                               \n",
       "1535   A shinigami, as a god of death, can kill any p...      R  \n",
       "16498  Centuries ago, mankind was slaughtered to near...      R  \n",
       "5114   \"In order for something to be obtained, someth...      R  \n",
       "11757  In the year 2022, virtual reality has progress...  PG-13  \n",
       "30276  The seemingly ordinary and unimpressive Saitam...      R  \n",
       "...                                                  ...    ...  \n",
       "42264                                                NaN     PG  \n",
       "42263                                                NaN     PG  \n",
       "42765                                                NaN     PG  \n",
       "42766                                                NaN     PG  \n",
       "42852  Set in Penguin Village Hills, one of the most ...  PG-13  \n",
       "\n",
       "[4298 rows x 12 columns]"
      ]
     },
     "execution_count": 2,
     "metadata": {},
     "output_type": "execute_result"
    }
   ],
   "source": [
    "animeji"
   ]
  },
  {
   "cell_type": "markdown",
   "metadata": {},
   "source": [
    "V tabeli *animeji* animeji so razvrščeni po številu členov, tj. uporabnikov spletne strani *MyAnimeList*, kateri so tisti anime pogledali. Torej je najbolj popularen anime *Death Note* z 2,410,185 členov, in je najmanj popularen anime *Kindan Joshi* z samo 9 členov. Stolpec *najljubsi* nam pove, kolikor je uporabnikov spletne strani označilo anime kot najljubši. Stolpec *dolzina* nam pove, koliko dolgo traja ena epizoda animeja v minutah. Stolpec *sezona* nam pove, v kateri se je sezoni anime začel.<br>\n"
   ]
  },
  {
   "cell_type": "code",
   "execution_count": 3,
   "metadata": {},
   "outputs": [
    {
     "data": {
      "text/html": [
       "<div>\n",
       "<style scoped>\n",
       "    .dataframe tbody tr th:only-of-type {\n",
       "        vertical-align: middle;\n",
       "    }\n",
       "\n",
       "    .dataframe tbody tr th {\n",
       "        vertical-align: top;\n",
       "    }\n",
       "\n",
       "    .dataframe thead th {\n",
       "        text-align: right;\n",
       "    }\n",
       "</style>\n",
       "<table border=\"1\" class=\"dataframe\">\n",
       "  <thead>\n",
       "    <tr style=\"text-align: right;\">\n",
       "      <th></th>\n",
       "      <th>id</th>\n",
       "      <th>ime</th>\n",
       "    </tr>\n",
       "  </thead>\n",
       "  <tbody>\n",
       "    <tr>\n",
       "      <th>0</th>\n",
       "      <td>67</td>\n",
       "      <td>Yamaguchi, Kappei</td>\n",
       "    </tr>\n",
       "    <tr>\n",
       "      <th>1</th>\n",
       "      <td>65</td>\n",
       "      <td>Miyano, Mamoru</td>\n",
       "    </tr>\n",
       "    <tr>\n",
       "      <th>2</th>\n",
       "      <td>292</td>\n",
       "      <td>Nakamura, Shidou</td>\n",
       "    </tr>\n",
       "    <tr>\n",
       "      <th>3</th>\n",
       "      <td>4</td>\n",
       "      <td>Hirano, Aya</td>\n",
       "    </tr>\n",
       "    <tr>\n",
       "      <th>4</th>\n",
       "      <td>181</td>\n",
       "      <td>Hidaka, Noriko</td>\n",
       "    </tr>\n",
       "    <tr>\n",
       "      <th>...</th>\n",
       "      <td>...</td>\n",
       "      <td>...</td>\n",
       "    </tr>\n",
       "    <tr>\n",
       "      <th>5788</th>\n",
       "      <td>49446</td>\n",
       "      <td>Miyake, Atsuko</td>\n",
       "    </tr>\n",
       "    <tr>\n",
       "      <th>5789</th>\n",
       "      <td>42212</td>\n",
       "      <td>Michiru</td>\n",
       "    </tr>\n",
       "    <tr>\n",
       "      <th>5790</th>\n",
       "      <td>52250</td>\n",
       "      <td>Sakai, Shintarou</td>\n",
       "    </tr>\n",
       "    <tr>\n",
       "      <th>5791</th>\n",
       "      <td>8545</td>\n",
       "      <td>Kuri, Yoji</td>\n",
       "    </tr>\n",
       "    <tr>\n",
       "      <th>5792</th>\n",
       "      <td>51364</td>\n",
       "      <td>Mori, Aya</td>\n",
       "    </tr>\n",
       "  </tbody>\n",
       "</table>\n",
       "<p>5793 rows × 2 columns</p>\n",
       "</div>"
      ],
      "text/plain": [
       "         id                ime\n",
       "0        67  Yamaguchi, Kappei\n",
       "1        65     Miyano, Mamoru\n",
       "2       292   Nakamura, Shidou\n",
       "3         4        Hirano, Aya\n",
       "4       181     Hidaka, Noriko\n",
       "...     ...                ...\n",
       "5788  49446     Miyake, Atsuko\n",
       "5789  42212            Michiru\n",
       "5790  52250   Sakai, Shintarou\n",
       "5791   8545         Kuri, Yoji\n",
       "5792  51364          Mori, Aya\n",
       "\n",
       "[5793 rows x 2 columns]"
      ]
     },
     "execution_count": 3,
     "metadata": {},
     "output_type": "execute_result"
    }
   ],
   "source": [
    "osebe"
   ]
  },
  {
   "cell_type": "markdown",
   "metadata": {},
   "source": [
    "Tabela *osebe* vsebuje vse osebe, katere so delale na nekaterem animeju."
   ]
  },
  {
   "cell_type": "code",
   "execution_count": 4,
   "metadata": {},
   "outputs": [
    {
     "data": {
      "text/html": [
       "<div>\n",
       "<style scoped>\n",
       "    .dataframe tbody tr th:only-of-type {\n",
       "        vertical-align: middle;\n",
       "    }\n",
       "\n",
       "    .dataframe tbody tr th {\n",
       "        vertical-align: top;\n",
       "    }\n",
       "\n",
       "    .dataframe thead th {\n",
       "        text-align: right;\n",
       "    }\n",
       "</style>\n",
       "<table border=\"1\" class=\"dataframe\">\n",
       "  <thead>\n",
       "    <tr style=\"text-align: right;\">\n",
       "      <th></th>\n",
       "      <th>anime</th>\n",
       "      <th>oseba</th>\n",
       "      <th>vloga</th>\n",
       "    </tr>\n",
       "  </thead>\n",
       "  <tbody>\n",
       "    <tr>\n",
       "      <th>0</th>\n",
       "      <td>1535</td>\n",
       "      <td>67</td>\n",
       "      <td>Main</td>\n",
       "    </tr>\n",
       "    <tr>\n",
       "      <th>1</th>\n",
       "      <td>1535</td>\n",
       "      <td>65</td>\n",
       "      <td>Main</td>\n",
       "    </tr>\n",
       "    <tr>\n",
       "      <th>2</th>\n",
       "      <td>1535</td>\n",
       "      <td>292</td>\n",
       "      <td>Main</td>\n",
       "    </tr>\n",
       "    <tr>\n",
       "      <th>3</th>\n",
       "      <td>1535</td>\n",
       "      <td>4</td>\n",
       "      <td>Supporting</td>\n",
       "    </tr>\n",
       "    <tr>\n",
       "      <th>4</th>\n",
       "      <td>1535</td>\n",
       "      <td>181</td>\n",
       "      <td>Supporting</td>\n",
       "    </tr>\n",
       "    <tr>\n",
       "      <th>...</th>\n",
       "      <td>...</td>\n",
       "      <td>...</td>\n",
       "      <td>...</td>\n",
       "    </tr>\n",
       "    <tr>\n",
       "      <th>42096</th>\n",
       "      <td>39664</td>\n",
       "      <td>39701</td>\n",
       "      <td>Theme Song Performance</td>\n",
       "    </tr>\n",
       "    <tr>\n",
       "      <th>42097</th>\n",
       "      <td>40299</td>\n",
       "      <td>8545</td>\n",
       "      <td>Original Creator</td>\n",
       "    </tr>\n",
       "    <tr>\n",
       "      <th>42098</th>\n",
       "      <td>41776</td>\n",
       "      <td>51364</td>\n",
       "      <td>Color Design</td>\n",
       "    </tr>\n",
       "    <tr>\n",
       "      <th>42099</th>\n",
       "      <td>41777</td>\n",
       "      <td>51364</td>\n",
       "      <td>Color Design</td>\n",
       "    </tr>\n",
       "    <tr>\n",
       "      <th>42100</th>\n",
       "      <td>41778</td>\n",
       "      <td>51364</td>\n",
       "      <td>Color Design</td>\n",
       "    </tr>\n",
       "  </tbody>\n",
       "</table>\n",
       "<p>42101 rows × 3 columns</p>\n",
       "</div>"
      ],
      "text/plain": [
       "       anime  oseba                   vloga\n",
       "0       1535     67                    Main\n",
       "1       1535     65                    Main\n",
       "2       1535    292                    Main\n",
       "3       1535      4              Supporting\n",
       "4       1535    181              Supporting\n",
       "...      ...    ...                     ...\n",
       "42096  39664  39701  Theme Song Performance\n",
       "42097  40299   8545        Original Creator\n",
       "42098  41776  51364            Color Design\n",
       "42099  41777  51364            Color Design\n",
       "42100  41778  51364            Color Design\n",
       "\n",
       "[42101 rows x 3 columns]"
      ]
     },
     "execution_count": 4,
     "metadata": {},
     "output_type": "execute_result"
    }
   ],
   "source": [
    "vloge"
   ]
  },
  {
   "cell_type": "markdown",
   "metadata": {},
   "source": [
    "V tabeli *vloge* so predstavljeni ljudje, ki so delali na animeju in njihove vloge v animejima. Če v stolpcu *vloge* piše **Main** ali **Supporting**, pomeni, da so posodili glasove likom animeja.<br>"
   ]
  },
  {
   "cell_type": "code",
   "execution_count": 5,
   "metadata": {},
   "outputs": [
    {
     "data": {
      "text/html": [
       "<div>\n",
       "<style scoped>\n",
       "    .dataframe tbody tr th:only-of-type {\n",
       "        vertical-align: middle;\n",
       "    }\n",
       "\n",
       "    .dataframe tbody tr th {\n",
       "        vertical-align: top;\n",
       "    }\n",
       "\n",
       "    .dataframe thead th {\n",
       "        text-align: right;\n",
       "    }\n",
       "</style>\n",
       "<table border=\"1\" class=\"dataframe\">\n",
       "  <thead>\n",
       "    <tr style=\"text-align: right;\">\n",
       "      <th></th>\n",
       "      <th>anime</th>\n",
       "      <th>zanr</th>\n",
       "    </tr>\n",
       "  </thead>\n",
       "  <tbody>\n",
       "    <tr>\n",
       "      <th>0</th>\n",
       "      <td>1535</td>\n",
       "      <td>Mystery</td>\n",
       "    </tr>\n",
       "    <tr>\n",
       "      <th>1</th>\n",
       "      <td>1535</td>\n",
       "      <td>Police</td>\n",
       "    </tr>\n",
       "    <tr>\n",
       "      <th>2</th>\n",
       "      <td>1535</td>\n",
       "      <td>Psychological</td>\n",
       "    </tr>\n",
       "    <tr>\n",
       "      <th>3</th>\n",
       "      <td>1535</td>\n",
       "      <td>Supernatural</td>\n",
       "    </tr>\n",
       "    <tr>\n",
       "      <th>4</th>\n",
       "      <td>1535</td>\n",
       "      <td>Thriller</td>\n",
       "    </tr>\n",
       "    <tr>\n",
       "      <th>...</th>\n",
       "      <td>...</td>\n",
       "      <td>...</td>\n",
       "    </tr>\n",
       "    <tr>\n",
       "      <th>14868</th>\n",
       "      <td>42765</td>\n",
       "      <td>Action</td>\n",
       "    </tr>\n",
       "    <tr>\n",
       "      <th>14869</th>\n",
       "      <td>42765</td>\n",
       "      <td>Adventure</td>\n",
       "    </tr>\n",
       "    <tr>\n",
       "      <th>14870</th>\n",
       "      <td>42766</td>\n",
       "      <td>Action</td>\n",
       "    </tr>\n",
       "    <tr>\n",
       "      <th>14871</th>\n",
       "      <td>42766</td>\n",
       "      <td>Adventure</td>\n",
       "    </tr>\n",
       "    <tr>\n",
       "      <th>14872</th>\n",
       "      <td>42852</td>\n",
       "      <td>Parody</td>\n",
       "    </tr>\n",
       "  </tbody>\n",
       "</table>\n",
       "<p>14873 rows × 2 columns</p>\n",
       "</div>"
      ],
      "text/plain": [
       "       anime           zanr\n",
       "0       1535        Mystery\n",
       "1       1535         Police\n",
       "2       1535  Psychological\n",
       "3       1535   Supernatural\n",
       "4       1535       Thriller\n",
       "...      ...            ...\n",
       "14868  42765         Action\n",
       "14869  42765      Adventure\n",
       "14870  42766         Action\n",
       "14871  42766      Adventure\n",
       "14872  42852         Parody\n",
       "\n",
       "[14873 rows x 2 columns]"
      ]
     },
     "execution_count": 5,
     "metadata": {},
     "output_type": "execute_result"
    }
   ],
   "source": [
    "zanri"
   ]
  },
  {
   "cell_type": "markdown",
   "metadata": {},
   "source": [
    "Tabela *zanri* vsebuje žanre animejev, ki so razvrščeni po idju animeja."
   ]
  },
  {
   "cell_type": "code",
   "execution_count": 6,
   "metadata": {},
   "outputs": [
    {
     "data": {
      "text/html": [
       "<div>\n",
       "<style scoped>\n",
       "    .dataframe tbody tr th:only-of-type {\n",
       "        vertical-align: middle;\n",
       "    }\n",
       "\n",
       "    .dataframe tbody tr th {\n",
       "        vertical-align: top;\n",
       "    }\n",
       "\n",
       "    .dataframe thead th {\n",
       "        text-align: right;\n",
       "    }\n",
       "</style>\n",
       "<table border=\"1\" class=\"dataframe\">\n",
       "  <thead>\n",
       "    <tr style=\"text-align: right;\">\n",
       "      <th></th>\n",
       "      <th>id_studija</th>\n",
       "      <th>studio</th>\n",
       "    </tr>\n",
       "  </thead>\n",
       "  <tbody>\n",
       "    <tr>\n",
       "      <th>0</th>\n",
       "      <td>11</td>\n",
       "      <td>Madhouse</td>\n",
       "    </tr>\n",
       "    <tr>\n",
       "      <th>1</th>\n",
       "      <td>858</td>\n",
       "      <td>Wit Studio</td>\n",
       "    </tr>\n",
       "    <tr>\n",
       "      <th>2</th>\n",
       "      <td>4</td>\n",
       "      <td>Bones</td>\n",
       "    </tr>\n",
       "    <tr>\n",
       "      <th>3</th>\n",
       "      <td>56</td>\n",
       "      <td>A-1 Pictures</td>\n",
       "    </tr>\n",
       "    <tr>\n",
       "      <th>4</th>\n",
       "      <td>1</td>\n",
       "      <td>Studio Pierrot</td>\n",
       "    </tr>\n",
       "    <tr>\n",
       "      <th>...</th>\n",
       "      <td>...</td>\n",
       "      <td>...</td>\n",
       "    </tr>\n",
       "    <tr>\n",
       "      <th>313</th>\n",
       "      <td>850</td>\n",
       "      <td>Kenji Studio</td>\n",
       "    </tr>\n",
       "    <tr>\n",
       "      <th>314</th>\n",
       "      <td>1838</td>\n",
       "      <td>33 Collective</td>\n",
       "    </tr>\n",
       "    <tr>\n",
       "      <th>315</th>\n",
       "      <td>370</td>\n",
       "      <td>Iyasakadou Film</td>\n",
       "    </tr>\n",
       "    <tr>\n",
       "      <th>316</th>\n",
       "      <td>1939</td>\n",
       "      <td>Alpha Animation</td>\n",
       "    </tr>\n",
       "    <tr>\n",
       "      <th>317</th>\n",
       "      <td>2046</td>\n",
       "      <td>Dazzling Star</td>\n",
       "    </tr>\n",
       "  </tbody>\n",
       "</table>\n",
       "<p>318 rows × 2 columns</p>\n",
       "</div>"
      ],
      "text/plain": [
       "     id_studija           studio\n",
       "0            11         Madhouse\n",
       "1           858       Wit Studio\n",
       "2             4            Bones\n",
       "3            56     A-1 Pictures\n",
       "4             1   Studio Pierrot\n",
       "..          ...              ...\n",
       "313         850     Kenji Studio\n",
       "314        1838    33 Collective\n",
       "315         370  Iyasakadou Film\n",
       "316        1939  Alpha Animation\n",
       "317        2046    Dazzling Star\n",
       "\n",
       "[318 rows x 2 columns]"
      ]
     },
     "execution_count": 6,
     "metadata": {},
     "output_type": "execute_result"
    }
   ],
   "source": [
    "studii"
   ]
  },
  {
   "cell_type": "markdown",
   "metadata": {},
   "source": [
    "V tabeli *studii* se nahajajo vsi studii, ki so naredili kakšen anime."
   ]
  },
  {
   "cell_type": "code",
   "execution_count": 7,
   "metadata": {},
   "outputs": [
    {
     "data": {
      "text/html": [
       "<div>\n",
       "<style scoped>\n",
       "    .dataframe tbody tr th:only-of-type {\n",
       "        vertical-align: middle;\n",
       "    }\n",
       "\n",
       "    .dataframe tbody tr th {\n",
       "        vertical-align: top;\n",
       "    }\n",
       "\n",
       "    .dataframe thead th {\n",
       "        text-align: right;\n",
       "    }\n",
       "</style>\n",
       "<table border=\"1\" class=\"dataframe\">\n",
       "  <thead>\n",
       "    <tr style=\"text-align: right;\">\n",
       "      <th></th>\n",
       "      <th>anime</th>\n",
       "      <th>studio</th>\n",
       "    </tr>\n",
       "  </thead>\n",
       "  <tbody>\n",
       "    <tr>\n",
       "      <th>0</th>\n",
       "      <td>1535</td>\n",
       "      <td>11</td>\n",
       "    </tr>\n",
       "    <tr>\n",
       "      <th>1</th>\n",
       "      <td>16498</td>\n",
       "      <td>858</td>\n",
       "    </tr>\n",
       "    <tr>\n",
       "      <th>2</th>\n",
       "      <td>5114</td>\n",
       "      <td>4</td>\n",
       "    </tr>\n",
       "    <tr>\n",
       "      <th>3</th>\n",
       "      <td>11757</td>\n",
       "      <td>56</td>\n",
       "    </tr>\n",
       "    <tr>\n",
       "      <th>4</th>\n",
       "      <td>30276</td>\n",
       "      <td>11</td>\n",
       "    </tr>\n",
       "    <tr>\n",
       "      <th>...</th>\n",
       "      <td>...</td>\n",
       "      <td>...</td>\n",
       "    </tr>\n",
       "    <tr>\n",
       "      <th>3555</th>\n",
       "      <td>42979</td>\n",
       "      <td>1939</td>\n",
       "    </tr>\n",
       "    <tr>\n",
       "      <th>3556</th>\n",
       "      <td>42144</td>\n",
       "      <td>2046</td>\n",
       "    </tr>\n",
       "    <tr>\n",
       "      <th>3557</th>\n",
       "      <td>33431</td>\n",
       "      <td>1292</td>\n",
       "    </tr>\n",
       "    <tr>\n",
       "      <th>3558</th>\n",
       "      <td>42765</td>\n",
       "      <td>2140</td>\n",
       "    </tr>\n",
       "    <tr>\n",
       "      <th>3559</th>\n",
       "      <td>42766</td>\n",
       "      <td>2140</td>\n",
       "    </tr>\n",
       "  </tbody>\n",
       "</table>\n",
       "<p>3560 rows × 2 columns</p>\n",
       "</div>"
      ],
      "text/plain": [
       "      anime  studio\n",
       "0      1535      11\n",
       "1     16498     858\n",
       "2      5114       4\n",
       "3     11757      56\n",
       "4     30276      11\n",
       "...     ...     ...\n",
       "3555  42979    1939\n",
       "3556  42144    2046\n",
       "3557  33431    1292\n",
       "3558  42765    2140\n",
       "3559  42766    2140\n",
       "\n",
       "[3560 rows x 2 columns]"
      ]
     },
     "execution_count": 7,
     "metadata": {},
     "output_type": "execute_result"
    }
   ],
   "source": [
    "studii_a"
   ]
  },
  {
   "cell_type": "markdown",
   "metadata": {},
   "source": [
    "Tabela *studii_a* povezuje animeje in studie. V studiu delajo animatorji, proizvajalci, direktorji; studio najame igralce, kateri bodo posodili glasove jonakom animeja, ipn. Informacija o studiu, kateri dela anime, je zelo pomembna za popularnost animeja, ker gledalci skoraj vedno vejo, kaj lahko pričakujejo, ali bo animacija v redu, ali bo zgodba zanimiva, ipn. Tabela *studii_a* ima manj vrstic kot tabela *animeji*, ker za nekatere animeje informacija o studiu ne obstaja.<br>\n",
    "Zaradi kasnejše analize, definirajmo še tabelo *najbolj_popularni*, kjer bodo animeji, s številom členov večjim kot 1,000,000."
   ]
  },
  {
   "cell_type": "code",
   "execution_count": 8,
   "metadata": {},
   "outputs": [],
   "source": [
    "najbolj_popularni = animeji[animeji['stevilo_clenov'] >= 1000000]"
   ]
  },
  {
   "cell_type": "markdown",
   "metadata": {},
   "source": [
    "***"
   ]
  },
  {
   "cell_type": "markdown",
   "metadata": {},
   "source": [
    "## Najboljši animeji"
   ]
  },
  {
   "cell_type": "markdown",
   "metadata": {},
   "source": [
    "Poglejmo zdaj 10 animejev z najvišjo oceno."
   ]
  },
  {
   "cell_type": "code",
   "execution_count": 9,
   "metadata": {},
   "outputs": [
    {
     "data": {
      "text/html": [
       "<div>\n",
       "<style scoped>\n",
       "    .dataframe tbody tr th:only-of-type {\n",
       "        vertical-align: middle;\n",
       "    }\n",
       "\n",
       "    .dataframe tbody tr th {\n",
       "        vertical-align: top;\n",
       "    }\n",
       "\n",
       "    .dataframe thead th {\n",
       "        text-align: right;\n",
       "    }\n",
       "</style>\n",
       "<table border=\"1\" class=\"dataframe\">\n",
       "  <thead>\n",
       "    <tr style=\"text-align: right;\">\n",
       "      <th></th>\n",
       "      <th>naslov</th>\n",
       "      <th>sezona</th>\n",
       "      <th>zacetek</th>\n",
       "      <th>konec</th>\n",
       "      <th>vir</th>\n",
       "      <th>epizode</th>\n",
       "      <th>dolzina</th>\n",
       "      <th>stevilo_clenov</th>\n",
       "      <th>najljubsi</th>\n",
       "      <th>ocena</th>\n",
       "      <th>opis</th>\n",
       "      <th>oznaka</th>\n",
       "    </tr>\n",
       "    <tr>\n",
       "      <th>id</th>\n",
       "      <th></th>\n",
       "      <th></th>\n",
       "      <th></th>\n",
       "      <th></th>\n",
       "      <th></th>\n",
       "      <th></th>\n",
       "      <th></th>\n",
       "      <th></th>\n",
       "      <th></th>\n",
       "      <th></th>\n",
       "      <th></th>\n",
       "      <th></th>\n",
       "    </tr>\n",
       "  </thead>\n",
       "  <tbody>\n",
       "    <tr>\n",
       "      <th>5114</th>\n",
       "      <td>Fullmetal Alchemist: Brotherhood</td>\n",
       "      <td>Spring</td>\n",
       "      <td>2009.0</td>\n",
       "      <td>2010.0</td>\n",
       "      <td>Manga</td>\n",
       "      <td>64.0</td>\n",
       "      <td>24.0</td>\n",
       "      <td>2116735</td>\n",
       "      <td>174937</td>\n",
       "      <td>9.21</td>\n",
       "      <td>\"In order for something to be obtained, someth...</td>\n",
       "      <td>R</td>\n",
       "    </tr>\n",
       "    <tr>\n",
       "      <th>9253</th>\n",
       "      <td>Steins;Gate</td>\n",
       "      <td>Spring</td>\n",
       "      <td>2011.0</td>\n",
       "      <td>2011.0</td>\n",
       "      <td>Visual novel</td>\n",
       "      <td>24.0</td>\n",
       "      <td>24.0</td>\n",
       "      <td>1700936</td>\n",
       "      <td>144986</td>\n",
       "      <td>9.12</td>\n",
       "      <td>The self-proclaimed mad scientist Rintarou Oka...</td>\n",
       "      <td>PG-13</td>\n",
       "    </tr>\n",
       "    <tr>\n",
       "      <th>28977</th>\n",
       "      <td>Gintama°</td>\n",
       "      <td>Spring</td>\n",
       "      <td>2015.0</td>\n",
       "      <td>2016.0</td>\n",
       "      <td>Manga</td>\n",
       "      <td>51.0</td>\n",
       "      <td>24.0</td>\n",
       "      <td>384248</td>\n",
       "      <td>11359</td>\n",
       "      <td>9.11</td>\n",
       "      <td>Gintoki, Shinpachi, and Kagura return as the f...</td>\n",
       "      <td>PG-13</td>\n",
       "    </tr>\n",
       "    <tr>\n",
       "      <th>11061</th>\n",
       "      <td>Hunter x Hunter (2011)</td>\n",
       "      <td>Fall</td>\n",
       "      <td>2011.0</td>\n",
       "      <td>2014.0</td>\n",
       "      <td>Manga</td>\n",
       "      <td>148.0</td>\n",
       "      <td>23.0</td>\n",
       "      <td>1559355</td>\n",
       "      <td>139802</td>\n",
       "      <td>9.11</td>\n",
       "      <td>Hunter x Hunter is set in a world where Hunter...</td>\n",
       "      <td>PG-13</td>\n",
       "    </tr>\n",
       "    <tr>\n",
       "      <th>38524</th>\n",
       "      <td>Shingeki no Kyojin Season 3 Part 2</td>\n",
       "      <td>Spring</td>\n",
       "      <td>2019.0</td>\n",
       "      <td>2019.0</td>\n",
       "      <td>Manga</td>\n",
       "      <td>10.0</td>\n",
       "      <td>23.0</td>\n",
       "      <td>938570</td>\n",
       "      <td>35987</td>\n",
       "      <td>9.09</td>\n",
       "      <td>Seeking to restore humanity’s diminishing hope...</td>\n",
       "      <td>R</td>\n",
       "    </tr>\n",
       "    <tr>\n",
       "      <th>9969</th>\n",
       "      <td>Gintama</td>\n",
       "      <td>Spring</td>\n",
       "      <td>2011.0</td>\n",
       "      <td>2012.0</td>\n",
       "      <td>Manga</td>\n",
       "      <td>51.0</td>\n",
       "      <td>24.0</td>\n",
       "      <td>350318</td>\n",
       "      <td>47122</td>\n",
       "      <td>9.08</td>\n",
       "      <td>After a one-year hiatus, Shinpachi Shimura ret...</td>\n",
       "      <td>PG-13</td>\n",
       "    </tr>\n",
       "    <tr>\n",
       "      <th>15417</th>\n",
       "      <td>Gintama': Enchousen</td>\n",
       "      <td>Fall</td>\n",
       "      <td>2012.0</td>\n",
       "      <td>2013.0</td>\n",
       "      <td>Manga</td>\n",
       "      <td>13.0</td>\n",
       "      <td>24.0</td>\n",
       "      <td>213072</td>\n",
       "      <td>2482</td>\n",
       "      <td>9.04</td>\n",
       "      <td>While Gintoki Sakata was away, the Yorozuya fo...</td>\n",
       "      <td>PG-13</td>\n",
       "    </tr>\n",
       "    <tr>\n",
       "      <th>35180</th>\n",
       "      <td>3-gatsu no Lion 2nd Season</td>\n",
       "      <td>Fall</td>\n",
       "      <td>2017.0</td>\n",
       "      <td>2018.0</td>\n",
       "      <td>Manga</td>\n",
       "      <td>22.0</td>\n",
       "      <td>25.0</td>\n",
       "      <td>251714</td>\n",
       "      <td>10626</td>\n",
       "      <td>9.01</td>\n",
       "      <td>Now in his second year of high school, Rei Kir...</td>\n",
       "      <td>PG-13</td>\n",
       "    </tr>\n",
       "    <tr>\n",
       "      <th>34096</th>\n",
       "      <td>Gintama</td>\n",
       "      <td>Spring</td>\n",
       "      <td>2017.0</td>\n",
       "      <td>2017.0</td>\n",
       "      <td>Manga</td>\n",
       "      <td>12.0</td>\n",
       "      <td>24.0</td>\n",
       "      <td>191767</td>\n",
       "      <td>47122</td>\n",
       "      <td>8.99</td>\n",
       "      <td>After joining the resistance against the bakuf...</td>\n",
       "      <td>PG-13</td>\n",
       "    </tr>\n",
       "    <tr>\n",
       "      <th>918</th>\n",
       "      <td>Gintama</td>\n",
       "      <td>Spring</td>\n",
       "      <td>2006.0</td>\n",
       "      <td>2010.0</td>\n",
       "      <td>Manga</td>\n",
       "      <td>201.0</td>\n",
       "      <td>24.0</td>\n",
       "      <td>725387</td>\n",
       "      <td>47122</td>\n",
       "      <td>8.97</td>\n",
       "      <td>The Amanto, aliens from outer space, have inva...</td>\n",
       "      <td>PG-13</td>\n",
       "    </tr>\n",
       "  </tbody>\n",
       "</table>\n",
       "</div>"
      ],
      "text/plain": [
       "                                   naslov  sezona  zacetek   konec  \\\n",
       "id                                                                   \n",
       "5114     Fullmetal Alchemist: Brotherhood  Spring   2009.0  2010.0   \n",
       "9253                          Steins;Gate  Spring   2011.0  2011.0   \n",
       "28977                            Gintama°  Spring   2015.0  2016.0   \n",
       "11061              Hunter x Hunter (2011)    Fall   2011.0  2014.0   \n",
       "38524  Shingeki no Kyojin Season 3 Part 2  Spring   2019.0  2019.0   \n",
       "9969                              Gintama  Spring   2011.0  2012.0   \n",
       "15417                 Gintama': Enchousen    Fall   2012.0  2013.0   \n",
       "35180          3-gatsu no Lion 2nd Season    Fall   2017.0  2018.0   \n",
       "34096                             Gintama  Spring   2017.0  2017.0   \n",
       "918                               Gintama  Spring   2006.0  2010.0   \n",
       "\n",
       "                vir  epizode  dolzina  stevilo_clenov  najljubsi  ocena  \\\n",
       "id                                                                        \n",
       "5114          Manga     64.0     24.0         2116735     174937   9.21   \n",
       "9253   Visual novel     24.0     24.0         1700936     144986   9.12   \n",
       "28977         Manga     51.0     24.0          384248      11359   9.11   \n",
       "11061         Manga    148.0     23.0         1559355     139802   9.11   \n",
       "38524         Manga     10.0     23.0          938570      35987   9.09   \n",
       "9969          Manga     51.0     24.0          350318      47122   9.08   \n",
       "15417         Manga     13.0     24.0          213072       2482   9.04   \n",
       "35180         Manga     22.0     25.0          251714      10626   9.01   \n",
       "34096         Manga     12.0     24.0          191767      47122   8.99   \n",
       "918           Manga    201.0     24.0          725387      47122   8.97   \n",
       "\n",
       "                                                    opis oznaka  \n",
       "id                                                               \n",
       "5114   \"In order for something to be obtained, someth...      R  \n",
       "9253   The self-proclaimed mad scientist Rintarou Oka...  PG-13  \n",
       "28977  Gintoki, Shinpachi, and Kagura return as the f...  PG-13  \n",
       "11061  Hunter x Hunter is set in a world where Hunter...  PG-13  \n",
       "38524  Seeking to restore humanity’s diminishing hope...      R  \n",
       "9969   After a one-year hiatus, Shinpachi Shimura ret...  PG-13  \n",
       "15417  While Gintoki Sakata was away, the Yorozuya fo...  PG-13  \n",
       "35180  Now in his second year of high school, Rei Kir...  PG-13  \n",
       "34096  After joining the resistance against the bakuf...  PG-13  \n",
       "918    The Amanto, aliens from outer space, have inva...  PG-13  "
      ]
     },
     "execution_count": 9,
     "metadata": {},
     "output_type": "execute_result"
    }
   ],
   "source": [
    "animeji.sort_values(\"ocena\", ascending=False).head(10)"
   ]
  },
  {
   "cell_type": "markdown",
   "metadata": {},
   "source": [
    "Kar je presenetljivo, vidimo da, najbolj popularen anime nima dovolj veliko oceno, da bi bil med 10 animejih z najvišjo oceno. Poleg tega, vidimo da le 3 od 10 najbolj popularnih animejev ima dovolj visoko oceno, da bi bil na listi 10 animejih z najvišjo oceno."
   ]
  },
  {
   "cell_type": "markdown",
   "metadata": {},
   "source": [
    "Za nas dobri animeji bodo tisti, ki imajo oceno večjo kot 8 in število členov večje kot 500,000. Poglejmo si tiste animeje."
   ]
  },
  {
   "cell_type": "code",
   "execution_count": 10,
   "metadata": {},
   "outputs": [
    {
     "data": {
      "text/plain": [
       "<AxesSubplot:xlabel='stevilo_clenov', ylabel='ocena'>"
      ]
     },
     "execution_count": 10,
     "metadata": {},
     "output_type": "execute_result"
    },
    {
     "data": {
      "image/png": "[encoded data removed]",
      "text/plain": [
       "<Figure size 432x288 with 1 Axes>"
      ]
     },
     "metadata": {
      "needs_background": "light"
     },
     "output_type": "display_data"
    }
   ],
   "source": [
    "animeji[(animeji['ocena'] > 8) & (animeji['stevilo_clenov'] > 500000)].plot.scatter(x=\"stevilo_clenov\", y=\"ocena\", color='#201ba8')"
   ]
  },
  {
   "cell_type": "markdown",
   "metadata": {},
   "source": [
    "Opazimo, da le en anime z več kot 2,000,000 členov ima oceno višjo kot 9 in da je veliko animejev z majhnim ocenami in majhnim številom členov. Zato bomo naredili našo oceno. Na spletni strani MyAnimeList uporabnik ocenjuje animeje ocenam od 1 do 10. Če je anime na seznamu najljubših animejev poljubnega uporabnika, zagotovo je upotabnik animeju dal vsaj oceno 9. Zato naša ocena bo **(Os * U / (U + Au) * 19 * N / 2 / (N + An)) / 10**, kjer je:\n",
    "* **Os** ocena na spletni strani\n",
    "* **N** število členov, ki so tisti anime označili kot najljubši\n",
    "* **U** ukupno število členov\n",
    "* **Au** povprečno število členov\n",
    "* **An** povprečno število členov, ki imajo titste animeje označene kot najljubši"
   ]
  },
  {
   "cell_type": "code",
   "execution_count": 11,
   "metadata": {},
   "outputs": [],
   "source": [
    "def nova_ocena(animeji):\n",
    "    os = animeji['ocena']\n",
    "    n = animeji['najljubsi']\n",
    "    u = animeji['stevilo_clenov']\n",
    "    au = (animeji['stevilo_clenov']).mean()\n",
    "    an = (animeji['najljubsi']).mean()\n",
    "    ocena = (os * (u / (u + au) + 19 * n / 2 / (n + an))) / 10\n",
    "    return round(ocena, 2)\n",
    "    \n",
    "animeji['nova ocena'] = nova_ocena(animeji)"
   ]
  },
  {
   "cell_type": "markdown",
   "metadata": {},
   "source": [
    "Zdaj poglejmo animeje, ki imajo novo oceno večjo kot 7.5 in število členov večje kot 500,000."
   ]
  },
  {
   "cell_type": "code",
   "execution_count": 12,
   "metadata": {},
   "outputs": [
    {
     "data": {
      "text/plain": [
       "<AxesSubplot:xlabel='stevilo_clenov', ylabel='nova ocena'>"
      ]
     },
     "execution_count": 12,
     "metadata": {},
     "output_type": "execute_result"
    },
    {
     "data": {
      "image/png": "[encoded data removed]",
      "text/plain": [
       "<Figure size 432x288 with 1 Axes>"
      ]
     },
     "metadata": {
      "needs_background": "light"
     },
     "output_type": "display_data"
    }
   ],
   "source": [
    "animeji[(animeji['nova ocena'] > 8) & (animeji['stevilo_clenov'] > 500000)].plot.scatter(x=\"stevilo_clenov\", y=\"nova ocena\", color='#201ba8')"
   ]
  },
  {
   "cell_type": "markdown",
   "metadata": {},
   "source": [
    "Zdaj imamo malo boljšo oceno. Poglejmo bolj popularne animeje z visoko novo oceno."
   ]
  },
  {
   "cell_type": "code",
   "execution_count": 13,
   "metadata": {},
   "outputs": [
    {
     "data": {
      "text/html": [
       "<div>\n",
       "<style scoped>\n",
       "    .dataframe tbody tr th:only-of-type {\n",
       "        vertical-align: middle;\n",
       "    }\n",
       "\n",
       "    .dataframe tbody tr th {\n",
       "        vertical-align: top;\n",
       "    }\n",
       "\n",
       "    .dataframe thead th {\n",
       "        text-align: right;\n",
       "    }\n",
       "</style>\n",
       "<table border=\"1\" class=\"dataframe\">\n",
       "  <thead>\n",
       "    <tr style=\"text-align: right;\">\n",
       "      <th></th>\n",
       "      <th>naslov</th>\n",
       "      <th>sezona</th>\n",
       "      <th>zacetek</th>\n",
       "      <th>konec</th>\n",
       "      <th>vir</th>\n",
       "      <th>epizode</th>\n",
       "      <th>dolzina</th>\n",
       "      <th>stevilo_clenov</th>\n",
       "      <th>najljubsi</th>\n",
       "      <th>ocena</th>\n",
       "      <th>opis</th>\n",
       "      <th>oznaka</th>\n",
       "      <th>nova ocena</th>\n",
       "    </tr>\n",
       "  </thead>\n",
       "  <tbody>\n",
       "    <tr>\n",
       "      <th>0</th>\n",
       "      <td>Fullmetal Alchemist: Brotherhood</td>\n",
       "      <td>Spring</td>\n",
       "      <td>2009.0</td>\n",
       "      <td>2010.0</td>\n",
       "      <td>Manga</td>\n",
       "      <td>64.0</td>\n",
       "      <td>24.0</td>\n",
       "      <td>2116735</td>\n",
       "      <td>174937</td>\n",
       "      <td>9.21</td>\n",
       "      <td>\"In order for something to be obtained, someth...</td>\n",
       "      <td>R</td>\n",
       "      <td>9.56</td>\n",
       "    </tr>\n",
       "    <tr>\n",
       "      <th>1</th>\n",
       "      <td>Steins;Gate</td>\n",
       "      <td>Spring</td>\n",
       "      <td>2011.0</td>\n",
       "      <td>2011.0</td>\n",
       "      <td>Visual novel</td>\n",
       "      <td>24.0</td>\n",
       "      <td>24.0</td>\n",
       "      <td>1700936</td>\n",
       "      <td>144986</td>\n",
       "      <td>9.12</td>\n",
       "      <td>The self-proclaimed mad scientist Rintarou Oka...</td>\n",
       "      <td>PG-13</td>\n",
       "      <td>9.45</td>\n",
       "    </tr>\n",
       "    <tr>\n",
       "      <th>2</th>\n",
       "      <td>Hunter x Hunter (2011)</td>\n",
       "      <td>Fall</td>\n",
       "      <td>2011.0</td>\n",
       "      <td>2014.0</td>\n",
       "      <td>Manga</td>\n",
       "      <td>148.0</td>\n",
       "      <td>23.0</td>\n",
       "      <td>1559355</td>\n",
       "      <td>139802</td>\n",
       "      <td>9.11</td>\n",
       "      <td>Hunter x Hunter is set in a world where Hunter...</td>\n",
       "      <td>PG-13</td>\n",
       "      <td>9.43</td>\n",
       "    </tr>\n",
       "    <tr>\n",
       "      <th>3</th>\n",
       "      <td>Clannad: After Story</td>\n",
       "      <td>Fall</td>\n",
       "      <td>2008.0</td>\n",
       "      <td>2009.0</td>\n",
       "      <td>Visual novel</td>\n",
       "      <td>24.0</td>\n",
       "      <td>24.0</td>\n",
       "      <td>883216</td>\n",
       "      <td>60991</td>\n",
       "      <td>8.96</td>\n",
       "      <td>Clannad: After Story, the sequel to the critic...</td>\n",
       "      <td>PG-13</td>\n",
       "      <td>9.13</td>\n",
       "    </tr>\n",
       "    <tr>\n",
       "      <th>4</th>\n",
       "      <td>Shingeki no Kyojin Season 3 Part 2</td>\n",
       "      <td>Spring</td>\n",
       "      <td>2019.0</td>\n",
       "      <td>2019.0</td>\n",
       "      <td>Manga</td>\n",
       "      <td>10.0</td>\n",
       "      <td>23.0</td>\n",
       "      <td>938570</td>\n",
       "      <td>35987</td>\n",
       "      <td>9.09</td>\n",
       "      <td>Seeking to restore humanity’s diminishing hope...</td>\n",
       "      <td>R</td>\n",
       "      <td>9.13</td>\n",
       "    </tr>\n",
       "    <tr>\n",
       "      <th>...</th>\n",
       "      <td>...</td>\n",
       "      <td>...</td>\n",
       "      <td>...</td>\n",
       "      <td>...</td>\n",
       "      <td>...</td>\n",
       "      <td>...</td>\n",
       "      <td>...</td>\n",
       "      <td>...</td>\n",
       "      <td>...</td>\n",
       "      <td>...</td>\n",
       "      <td>...</td>\n",
       "      <td>...</td>\n",
       "      <td>...</td>\n",
       "    </tr>\n",
       "    <tr>\n",
       "      <th>46</th>\n",
       "      <td>Death Parade</td>\n",
       "      <td>Winter</td>\n",
       "      <td>2015.0</td>\n",
       "      <td>2015.0</td>\n",
       "      <td>Original</td>\n",
       "      <td>12.0</td>\n",
       "      <td>23.0</td>\n",
       "      <td>1150531</td>\n",
       "      <td>21351</td>\n",
       "      <td>8.21</td>\n",
       "      <td>After death, there is no heaven or hell, only ...</td>\n",
       "      <td>R</td>\n",
       "      <td>8.07</td>\n",
       "    </tr>\n",
       "    <tr>\n",
       "      <th>47</th>\n",
       "      <td>Yahari Ore no Seishun Love Comedy wa Machigatt...</td>\n",
       "      <td>Spring</td>\n",
       "      <td>2013.0</td>\n",
       "      <td>2013.0</td>\n",
       "      <td>Light novel</td>\n",
       "      <td>13.0</td>\n",
       "      <td>24.0</td>\n",
       "      <td>931216</td>\n",
       "      <td>28818</td>\n",
       "      <td>8.07</td>\n",
       "      <td>Hachiman Hikigaya is an apathetic high school ...</td>\n",
       "      <td>PG-13</td>\n",
       "      <td>8.04</td>\n",
       "    </tr>\n",
       "    <tr>\n",
       "      <th>48</th>\n",
       "      <td>Clannad</td>\n",
       "      <td>Fall</td>\n",
       "      <td>2007.0</td>\n",
       "      <td>2008.0</td>\n",
       "      <td>Visual novel</td>\n",
       "      <td>23.0</td>\n",
       "      <td>24.0</td>\n",
       "      <td>1059963</td>\n",
       "      <td>26968</td>\n",
       "      <td>8.08</td>\n",
       "      <td>Tomoya Okazaki is a delinquent who finds life ...</td>\n",
       "      <td>PG-13</td>\n",
       "      <td>8.03</td>\n",
       "    </tr>\n",
       "    <tr>\n",
       "      <th>49</th>\n",
       "      <td>JoJo no Kimyou na Bouken (TV)</td>\n",
       "      <td>Fall</td>\n",
       "      <td>2012.0</td>\n",
       "      <td>2013.0</td>\n",
       "      <td>Manga</td>\n",
       "      <td>26.0</td>\n",
       "      <td>24.0</td>\n",
       "      <td>906017</td>\n",
       "      <td>25583</td>\n",
       "      <td>8.09</td>\n",
       "      <td>In 1868, Dario Brando saves the life of an Eng...</td>\n",
       "      <td>R</td>\n",
       "      <td>8.01</td>\n",
       "    </tr>\n",
       "    <tr>\n",
       "      <th>50</th>\n",
       "      <td>Noragami</td>\n",
       "      <td>Winter</td>\n",
       "      <td>2014.0</td>\n",
       "      <td>2014.0</td>\n",
       "      <td>Manga</td>\n",
       "      <td>12.0</td>\n",
       "      <td>24.0</td>\n",
       "      <td>1464751</td>\n",
       "      <td>28324</td>\n",
       "      <td>8.02</td>\n",
       "      <td>In times of need, if you look in the right pla...</td>\n",
       "      <td>PG-13</td>\n",
       "      <td>8.01</td>\n",
       "    </tr>\n",
       "  </tbody>\n",
       "</table>\n",
       "<p>51 rows × 13 columns</p>\n",
       "</div>"
      ],
      "text/plain": [
       "                                               naslov  sezona  zacetek  \\\n",
       "0                    Fullmetal Alchemist: Brotherhood  Spring   2009.0   \n",
       "1                                         Steins;Gate  Spring   2011.0   \n",
       "2                              Hunter x Hunter (2011)    Fall   2011.0   \n",
       "3                                Clannad: After Story    Fall   2008.0   \n",
       "4                  Shingeki no Kyojin Season 3 Part 2  Spring   2019.0   \n",
       "..                                                ...     ...      ...   \n",
       "46                                       Death Parade  Winter   2015.0   \n",
       "47  Yahari Ore no Seishun Love Comedy wa Machigatt...  Spring   2013.0   \n",
       "48                                            Clannad    Fall   2007.0   \n",
       "49                      JoJo no Kimyou na Bouken (TV)    Fall   2012.0   \n",
       "50                                           Noragami  Winter   2014.0   \n",
       "\n",
       "     konec           vir  epizode  dolzina  stevilo_clenov  najljubsi  ocena  \\\n",
       "0   2010.0         Manga     64.0     24.0         2116735     174937   9.21   \n",
       "1   2011.0  Visual novel     24.0     24.0         1700936     144986   9.12   \n",
       "2   2014.0         Manga    148.0     23.0         1559355     139802   9.11   \n",
       "3   2009.0  Visual novel     24.0     24.0          883216      60991   8.96   \n",
       "4   2019.0         Manga     10.0     23.0          938570      35987   9.09   \n",
       "..     ...           ...      ...      ...             ...        ...    ...   \n",
       "46  2015.0      Original     12.0     23.0         1150531      21351   8.21   \n",
       "47  2013.0   Light novel     13.0     24.0          931216      28818   8.07   \n",
       "48  2008.0  Visual novel     23.0     24.0         1059963      26968   8.08   \n",
       "49  2013.0         Manga     26.0     24.0          906017      25583   8.09   \n",
       "50  2014.0         Manga     12.0     24.0         1464751      28324   8.02   \n",
       "\n",
       "                                                 opis oznaka  nova ocena  \n",
       "0   \"In order for something to be obtained, someth...      R        9.56  \n",
       "1   The self-proclaimed mad scientist Rintarou Oka...  PG-13        9.45  \n",
       "2   Hunter x Hunter is set in a world where Hunter...  PG-13        9.43  \n",
       "3   Clannad: After Story, the sequel to the critic...  PG-13        9.13  \n",
       "4   Seeking to restore humanity’s diminishing hope...      R        9.13  \n",
       "..                                                ...    ...         ...  \n",
       "46  After death, there is no heaven or hell, only ...      R        8.07  \n",
       "47  Hachiman Hikigaya is an apathetic high school ...  PG-13        8.04  \n",
       "48  Tomoya Okazaki is a delinquent who finds life ...  PG-13        8.03  \n",
       "49  In 1868, Dario Brando saves the life of an Eng...      R        8.01  \n",
       "50  In times of need, if you look in the right pla...  PG-13        8.01  \n",
       "\n",
       "[51 rows x 13 columns]"
      ]
     },
     "execution_count": 13,
     "metadata": {},
     "output_type": "execute_result"
    }
   ],
   "source": [
    "najboljsi_animeji = animeji[(animeji['nova ocena'] > 8) & (animeji['stevilo_clenov'] > 800000)].sort_values('nova ocena', ascending=False)\n",
    "najboljsi_animeji.reset_index(drop=True, inplace=True)\n",
    "najboljsi_animeji"
   ]
  },
  {
   "cell_type": "markdown",
   "metadata": {},
   "source": [
    "Zdaj imamo naše najboljše animeje. Vidimo da se prva tri animeja niso spremenila, ampak je vse ostalo drugače. Našo analizo bomo delali z novimi ocenami.<br>\n",
    "Zaključili smo torej, da je najboljši anime vseh časov *Fullmetal Alchemist: Brotherhood*, potem *Steins;Gate*, in na tretjem mestu je *Hunter x Hunter (2011)*.\n",
    "***"
   ]
  },
  {
   "cell_type": "markdown",
   "metadata": {},
   "source": [
    "## Viri"
   ]
  },
  {
   "cell_type": "markdown",
   "metadata": {},
   "source": [
    "Poglejmo si zdaj kako sta popularnost in ocena animeja odvisna od vira animeja. Poglejmo si najprej kolikor je animeja nastalo od katerega vira.."
   ]
  },
  {
   "cell_type": "code",
   "execution_count": 14,
   "metadata": {},
   "outputs": [
    {
     "data": {
      "text/plain": [
       "<AxesSubplot:xlabel='vir'>"
      ]
     },
     "execution_count": 14,
     "metadata": {},
     "output_type": "execute_result"
    },
    {
     "data": {
      "image/png": "[encoded data removed]",
      "text/plain": [
       "<Figure size 432x288 with 1 Axes>"
      ]
     },
     "metadata": {
      "needs_background": "light"
     },
     "output_type": "display_data"
    }
   ],
   "source": [
    "animeji.groupby('vir').size().sort_values().plot.bar(color='#201ba8')"
   ]
  },
  {
   "cell_type": "markdown",
   "metadata": {},
   "source": [
    "Kot smo predpostavili, največ animejev je narejeno iz vira **Manga**. Manga je za animeje kot knjiga za filme, najpogostejši vir. Tudi ni presenetljivo, da je veliko animejev nastalo brez vira, tj. kot original. Ljudje pogosto imajo odlične ideje. Kar presenećuje, je veliko animejev, za katere ne znamo vir."
   ]
  },
  {
   "cell_type": "code",
   "execution_count": 15,
   "metadata": {},
   "outputs": [
    {
     "data": {
      "text/plain": [
       "<AxesSubplot:xlabel='vir'>"
      ]
     },
     "execution_count": 15,
     "metadata": {},
     "output_type": "execute_result"
    },
    {
     "data": {
      "image/png": "[encoded data removed]",
      "text/plain": [
       "<Figure size 432x288 with 1 Axes>"
      ]
     },
     "metadata": {
      "needs_background": "light"
     },
     "output_type": "display_data"
    }
   ],
   "source": [
    "animeji.groupby('vir').mean()['nova ocena'].sort_values().plot.bar(color='#201ba8')"
   ]
  },
  {
   "cell_type": "markdown",
   "metadata": {},
   "source": [
    "Zdaj vidimo povprečno oceno animejev v odvisnosti iz katerega vira so narejeni. Mislili smo da **Manga** ima največjo povprečno oceno, ampak vidimo, da največjo oceno ima vir **Light novel**, kar je kot krajša zgodba, lahko pa kot roman.<br>\n",
    "Naslednjo največjo oceno ima vir **Manga**. Na prejšnjem dijagramu smo videli, da je *Light novel* le četrti najbolj popularen vir za delanje animeja, in da je **Manga** prvi. Tista ocena je presenetljiva, ampak se lahko zgodi, ker se preveč animejev dela iz mange, kar pomeni, da lahko ima veliko slabih animejev. Nekjer animacija ni najboljša, nekjer zgodba iz mange ni lepo predstavljena v animeju, ipn."
   ]
  },
  {
   "cell_type": "code",
   "execution_count": 16,
   "metadata": {},
   "outputs": [
    {
     "data": {
      "text/plain": [
       "<AxesSubplot:xlabel='vir'>"
      ]
     },
     "execution_count": 16,
     "metadata": {},
     "output_type": "execute_result"
    },
    {
     "data": {
      "image/png": "[encoded data removed]",
      "text/plain": [
       "<Figure size 432x288 with 1 Axes>"
      ]
     },
     "metadata": {
      "needs_background": "light"
     },
     "output_type": "display_data"
    }
   ],
   "source": [
    "animeji.groupby('vir').mean()['stevilo_clenov'].sort_values().plot.bar(color='#201ba8')"
   ]
  },
  {
   "cell_type": "markdown",
   "metadata": {},
   "source": [
    "Tukaj smo tudi presenečeni, ker vidimo, da največje povprečno število členov ima **Light novel**, ne pa **Manga**, kot smo predpostavili."
   ]
  },
  {
   "cell_type": "code",
   "execution_count": 17,
   "metadata": {},
   "outputs": [
    {
     "data": {
      "text/plain": [
       "<AxesSubplot:ylabel='vir'>"
      ]
     },
     "execution_count": 17,
     "metadata": {},
     "output_type": "execute_result"
    },
    {
     "data": {
      "image/png": "[encoded data removed]",
      "text/plain": [
       "<Figure size 432x288 with 1 Axes>"
      ]
     },
     "metadata": {
      "needs_background": "light"
     },
     "output_type": "display_data"
    }
   ],
   "source": [
    "najbolj_popularni.groupby('vir').size().sort_values().plot.barh(color='#201ba8')"
   ]
  },
  {
   "cell_type": "code",
   "execution_count": 18,
   "metadata": {},
   "outputs": [
    {
     "data": {
      "text/plain": [
       "<AxesSubplot:ylabel='vir'>"
      ]
     },
     "execution_count": 18,
     "metadata": {},
     "output_type": "execute_result"
    },
    {
     "data": {
      "image/png": "[encoded data removed]",
      "text/plain": [
       "<Figure size 432x288 with 1 Axes>"
      ]
     },
     "metadata": {
      "needs_background": "light"
     },
     "output_type": "display_data"
    }
   ],
   "source": [
    "najboljsi_animeji.groupby('vir').size().sort_values().plot.barh(color='#201ba8')"
   ]
  },
  {
   "cell_type": "markdown",
   "metadata": {},
   "source": [
    "Kot smo predpostavili, največje število najbolj popularnih in najboljših animejev je izdelano iz vira **Mange**.\n",
    "***"
   ]
  },
  {
   "cell_type": "markdown",
   "metadata": {},
   "source": [
    "## Čas"
   ]
  },
  {
   "cell_type": "markdown",
   "metadata": {},
   "source": [
    "Želimo pogledati, kako sta odvisni ocena in popularnost animeja od leta izida in končanja, sezone, števila epizod in dolžine animeja."
   ]
  },
  {
   "cell_type": "markdown",
   "metadata": {},
   "source": [
    "### Začetek izida"
   ]
  },
  {
   "cell_type": "markdown",
   "metadata": {},
   "source": [
    "Poglejmo si najprej, koliko je animeja po letu izida."
   ]
  },
  {
   "cell_type": "code",
   "execution_count": 19,
   "metadata": {},
   "outputs": [
    {
     "data": {
      "text/plain": [
       "<AxesSubplot:xlabel='zacetek'>"
      ]
     },
     "execution_count": 19,
     "metadata": {},
     "output_type": "execute_result"
    },
    {
     "data": {
      "image/png": "[encoded data removed]",
      "text/plain": [
       "<Figure size 432x288 with 1 Axes>"
      ]
     },
     "metadata": {
      "needs_background": "light"
     },
     "output_type": "display_data"
    }
   ],
   "source": [
    "animeji.groupby('zacetek').size().plot(color='#201ba8')"
   ]
  },
  {
   "cell_type": "code",
   "execution_count": 20,
   "metadata": {},
   "outputs": [
    {
     "data": {
      "text/plain": [
       "zacetek\n",
       "2016.0    251\n",
       "2017.0    237\n",
       "2018.0    235\n",
       "2014.0    212\n",
       "2015.0    211\n",
       "dtype: int64"
      ]
     },
     "execution_count": 20,
     "metadata": {},
     "output_type": "execute_result"
    }
   ],
   "source": [
    "animeji.groupby('zacetek').size().sort_values(ascending=False).head(5)"
   ]
  },
  {
   "cell_type": "markdown",
   "metadata": {},
   "source": [
    "Vidimo, da se je največ animejev začelo leta **2016**."
   ]
  },
  {
   "cell_type": "code",
   "execution_count": 21,
   "metadata": {},
   "outputs": [
    {
     "data": {
      "text/plain": [
       "<AxesSubplot:ylabel='None'>"
      ]
     },
     "execution_count": 21,
     "metadata": {},
     "output_type": "execute_result"
    },
    {
     "data": {
      "image/png": "[encoded data removed]",
      "text/plain": [
       "<Figure size 432x288 with 1 Axes>"
      ]
     },
     "metadata": {},
     "output_type": "display_data"
    }
   ],
   "source": [
    "(animeji['zacetek'] > 2000).to_frame().groupby('zacetek').size().plot.pie()"
   ]
  },
  {
   "cell_type": "markdown",
   "metadata": {},
   "source": [
    "Kot smo predpostavili, največ animejev se je začelo v **21. stoletju**."
   ]
  },
  {
   "cell_type": "code",
   "execution_count": 22,
   "metadata": {},
   "outputs": [],
   "source": [
    "def najdi_desetletje(leto):\n",
    "    return (leto // 10) * 10"
   ]
  },
  {
   "cell_type": "code",
   "execution_count": 23,
   "metadata": {},
   "outputs": [
    {
     "data": {
      "text/html": [
       "<div>\n",
       "<style scoped>\n",
       "    .dataframe tbody tr th:only-of-type {\n",
       "        vertical-align: middle;\n",
       "    }\n",
       "\n",
       "    .dataframe tbody tr th {\n",
       "        vertical-align: top;\n",
       "    }\n",
       "\n",
       "    .dataframe thead th {\n",
       "        text-align: right;\n",
       "    }\n",
       "</style>\n",
       "<table border=\"1\" class=\"dataframe\">\n",
       "  <thead>\n",
       "    <tr style=\"text-align: right;\">\n",
       "      <th></th>\n",
       "      <th>naslov</th>\n",
       "      <th>sezona</th>\n",
       "      <th>zacetek</th>\n",
       "      <th>konec</th>\n",
       "      <th>vir</th>\n",
       "      <th>epizode</th>\n",
       "      <th>dolzina</th>\n",
       "      <th>stevilo_clenov</th>\n",
       "      <th>najljubsi</th>\n",
       "      <th>ocena</th>\n",
       "      <th>opis</th>\n",
       "      <th>oznaka</th>\n",
       "      <th>nova ocena</th>\n",
       "      <th>desetletje začetka</th>\n",
       "    </tr>\n",
       "    <tr>\n",
       "      <th>id</th>\n",
       "      <th></th>\n",
       "      <th></th>\n",
       "      <th></th>\n",
       "      <th></th>\n",
       "      <th></th>\n",
       "      <th></th>\n",
       "      <th></th>\n",
       "      <th></th>\n",
       "      <th></th>\n",
       "      <th></th>\n",
       "      <th></th>\n",
       "      <th></th>\n",
       "      <th></th>\n",
       "      <th></th>\n",
       "    </tr>\n",
       "  </thead>\n",
       "  <tbody>\n",
       "    <tr>\n",
       "      <th>1535</th>\n",
       "      <td>Death Note</td>\n",
       "      <td>Fall</td>\n",
       "      <td>2006.0</td>\n",
       "      <td>2007.0</td>\n",
       "      <td>Manga</td>\n",
       "      <td>37.0</td>\n",
       "      <td>23.0</td>\n",
       "      <td>2444192</td>\n",
       "      <td>138701</td>\n",
       "      <td>8.63</td>\n",
       "      <td>A shinigami, as a god of death, can kill any p...</td>\n",
       "      <td>R</td>\n",
       "      <td>8.95</td>\n",
       "      <td>2000.0</td>\n",
       "    </tr>\n",
       "    <tr>\n",
       "      <th>16498</th>\n",
       "      <td>Shingeki no Kyojin</td>\n",
       "      <td>Spring</td>\n",
       "      <td>2013.0</td>\n",
       "      <td>2013.0</td>\n",
       "      <td>Manga</td>\n",
       "      <td>25.0</td>\n",
       "      <td>24.0</td>\n",
       "      <td>2357843</td>\n",
       "      <td>117999</td>\n",
       "      <td>8.47</td>\n",
       "      <td>Centuries ago, mankind was slaughtered to near...</td>\n",
       "      <td>R</td>\n",
       "      <td>8.77</td>\n",
       "      <td>2010.0</td>\n",
       "    </tr>\n",
       "    <tr>\n",
       "      <th>5114</th>\n",
       "      <td>Fullmetal Alchemist: Brotherhood</td>\n",
       "      <td>Spring</td>\n",
       "      <td>2009.0</td>\n",
       "      <td>2010.0</td>\n",
       "      <td>Manga</td>\n",
       "      <td>64.0</td>\n",
       "      <td>24.0</td>\n",
       "      <td>2116735</td>\n",
       "      <td>174937</td>\n",
       "      <td>9.21</td>\n",
       "      <td>\"In order for something to be obtained, someth...</td>\n",
       "      <td>R</td>\n",
       "      <td>9.56</td>\n",
       "      <td>2000.0</td>\n",
       "    </tr>\n",
       "    <tr>\n",
       "      <th>11757</th>\n",
       "      <td>Sword Art Online</td>\n",
       "      <td>Summer</td>\n",
       "      <td>2012.0</td>\n",
       "      <td>2012.0</td>\n",
       "      <td>Light novel</td>\n",
       "      <td>25.0</td>\n",
       "      <td>23.0</td>\n",
       "      <td>2112545</td>\n",
       "      <td>65063</td>\n",
       "      <td>7.27</td>\n",
       "      <td>In the year 2022, virtual reality has progress...</td>\n",
       "      <td>PG-13</td>\n",
       "      <td>7.45</td>\n",
       "      <td>2010.0</td>\n",
       "    </tr>\n",
       "    <tr>\n",
       "      <th>30276</th>\n",
       "      <td>One Punch Man</td>\n",
       "      <td>Fall</td>\n",
       "      <td>2015.0</td>\n",
       "      <td>2015.0</td>\n",
       "      <td>Web manga</td>\n",
       "      <td>12.0</td>\n",
       "      <td>24.0</td>\n",
       "      <td>2008875</td>\n",
       "      <td>52692</td>\n",
       "      <td>8.59</td>\n",
       "      <td>The seemingly ordinary and unimpressive Saitam...</td>\n",
       "      <td>R</td>\n",
       "      <td>8.77</td>\n",
       "      <td>2010.0</td>\n",
       "    </tr>\n",
       "    <tr>\n",
       "      <th>31964</th>\n",
       "      <td>Boku no Hero Academia</td>\n",
       "      <td>Spring</td>\n",
       "      <td>2016.0</td>\n",
       "      <td>2016.0</td>\n",
       "      <td>Manga</td>\n",
       "      <td>13.0</td>\n",
       "      <td>24.0</td>\n",
       "      <td>1795271</td>\n",
       "      <td>47435</td>\n",
       "      <td>8.14</td>\n",
       "      <td>The appearance of \"quirks,\" newly discovered s...</td>\n",
       "      <td>PG-13</td>\n",
       "      <td>8.28</td>\n",
       "      <td>2010.0</td>\n",
       "    </tr>\n",
       "    <tr>\n",
       "      <th>22319</th>\n",
       "      <td>Tokyo Ghoul</td>\n",
       "      <td>Summer</td>\n",
       "      <td>2014.0</td>\n",
       "      <td>2014.0</td>\n",
       "      <td>Manga</td>\n",
       "      <td>12.0</td>\n",
       "      <td>24.0</td>\n",
       "      <td>1792134</td>\n",
       "      <td>43343</td>\n",
       "      <td>7.81</td>\n",
       "      <td>Tokyo has become a cruel and merciless city—a ...</td>\n",
       "      <td>R</td>\n",
       "      <td>7.93</td>\n",
       "      <td>2010.0</td>\n",
       "    </tr>\n",
       "    <tr>\n",
       "      <th>20</th>\n",
       "      <td>Naruto</td>\n",
       "      <td>Fall</td>\n",
       "      <td>2002.0</td>\n",
       "      <td>2007.0</td>\n",
       "      <td>Manga</td>\n",
       "      <td>220.0</td>\n",
       "      <td>23.0</td>\n",
       "      <td>1724839</td>\n",
       "      <td>62534</td>\n",
       "      <td>7.90</td>\n",
       "      <td>Moments prior to Naruto Uzumaki's birth, a hug...</td>\n",
       "      <td>PG-13</td>\n",
       "      <td>8.09</td>\n",
       "      <td>2000.0</td>\n",
       "    </tr>\n",
       "    <tr>\n",
       "      <th>9253</th>\n",
       "      <td>Steins;Gate</td>\n",
       "      <td>Spring</td>\n",
       "      <td>2011.0</td>\n",
       "      <td>2011.0</td>\n",
       "      <td>Visual novel</td>\n",
       "      <td>24.0</td>\n",
       "      <td>24.0</td>\n",
       "      <td>1700936</td>\n",
       "      <td>144986</td>\n",
       "      <td>9.12</td>\n",
       "      <td>The self-proclaimed mad scientist Rintarou Oka...</td>\n",
       "      <td>PG-13</td>\n",
       "      <td>9.45</td>\n",
       "      <td>2010.0</td>\n",
       "    </tr>\n",
       "    <tr>\n",
       "      <th>11061</th>\n",
       "      <td>Hunter x Hunter (2011)</td>\n",
       "      <td>Fall</td>\n",
       "      <td>2011.0</td>\n",
       "      <td>2014.0</td>\n",
       "      <td>Manga</td>\n",
       "      <td>148.0</td>\n",
       "      <td>23.0</td>\n",
       "      <td>1559355</td>\n",
       "      <td>139802</td>\n",
       "      <td>9.11</td>\n",
       "      <td>Hunter x Hunter is set in a world where Hunter...</td>\n",
       "      <td>PG-13</td>\n",
       "      <td>9.43</td>\n",
       "      <td>2010.0</td>\n",
       "    </tr>\n",
       "  </tbody>\n",
       "</table>\n",
       "</div>"
      ],
      "text/plain": [
       "                                 naslov  sezona  zacetek   konec  \\\n",
       "id                                                                 \n",
       "1535                         Death Note    Fall   2006.0  2007.0   \n",
       "16498                Shingeki no Kyojin  Spring   2013.0  2013.0   \n",
       "5114   Fullmetal Alchemist: Brotherhood  Spring   2009.0  2010.0   \n",
       "11757                  Sword Art Online  Summer   2012.0  2012.0   \n",
       "30276                     One Punch Man    Fall   2015.0  2015.0   \n",
       "31964             Boku no Hero Academia  Spring   2016.0  2016.0   \n",
       "22319                       Tokyo Ghoul  Summer   2014.0  2014.0   \n",
       "20                               Naruto    Fall   2002.0  2007.0   \n",
       "9253                        Steins;Gate  Spring   2011.0  2011.0   \n",
       "11061            Hunter x Hunter (2011)    Fall   2011.0  2014.0   \n",
       "\n",
       "                vir  epizode  dolzina  stevilo_clenov  najljubsi  ocena  \\\n",
       "id                                                                        \n",
       "1535          Manga     37.0     23.0         2444192     138701   8.63   \n",
       "16498         Manga     25.0     24.0         2357843     117999   8.47   \n",
       "5114          Manga     64.0     24.0         2116735     174937   9.21   \n",
       "11757   Light novel     25.0     23.0         2112545      65063   7.27   \n",
       "30276     Web manga     12.0     24.0         2008875      52692   8.59   \n",
       "31964         Manga     13.0     24.0         1795271      47435   8.14   \n",
       "22319         Manga     12.0     24.0         1792134      43343   7.81   \n",
       "20            Manga    220.0     23.0         1724839      62534   7.90   \n",
       "9253   Visual novel     24.0     24.0         1700936     144986   9.12   \n",
       "11061         Manga    148.0     23.0         1559355     139802   9.11   \n",
       "\n",
       "                                                    opis oznaka  nova ocena  \\\n",
       "id                                                                            \n",
       "1535   A shinigami, as a god of death, can kill any p...      R        8.95   \n",
       "16498  Centuries ago, mankind was slaughtered to near...      R        8.77   \n",
       "5114   \"In order for something to be obtained, someth...      R        9.56   \n",
       "11757  In the year 2022, virtual reality has progress...  PG-13        7.45   \n",
       "30276  The seemingly ordinary and unimpressive Saitam...      R        8.77   \n",
       "31964  The appearance of \"quirks,\" newly discovered s...  PG-13        8.28   \n",
       "22319  Tokyo has become a cruel and merciless city—a ...      R        7.93   \n",
       "20     Moments prior to Naruto Uzumaki's birth, a hug...  PG-13        8.09   \n",
       "9253   The self-proclaimed mad scientist Rintarou Oka...  PG-13        9.45   \n",
       "11061  Hunter x Hunter is set in a world where Hunter...  PG-13        9.43   \n",
       "\n",
       "       desetletje začetka  \n",
       "id                         \n",
       "1535               2000.0  \n",
       "16498              2010.0  \n",
       "5114               2000.0  \n",
       "11757              2010.0  \n",
       "30276              2010.0  \n",
       "31964              2010.0  \n",
       "22319              2010.0  \n",
       "20                 2000.0  \n",
       "9253               2010.0  \n",
       "11061              2010.0  "
      ]
     },
     "execution_count": 23,
     "metadata": {},
     "output_type": "execute_result"
    }
   ],
   "source": [
    "animeji['desetletje začetka'] = najdi_desetletje(animeji['zacetek'])\n",
    "animeji.head(10)"
   ]
  },
  {
   "cell_type": "code",
   "execution_count": 24,
   "metadata": {},
   "outputs": [
    {
     "data": {
      "text/plain": [
       "<AxesSubplot:ylabel='desetletje začetka'>"
      ]
     },
     "execution_count": 24,
     "metadata": {},
     "output_type": "execute_result"
    },
    {
     "data": {
      "image/png": "[encoded data removed]",
      "text/plain": [
       "<Figure size 432x288 with 1 Axes>"
      ]
     },
     "metadata": {
      "needs_background": "light"
     },
     "output_type": "display_data"
    }
   ],
   "source": [
    "animeji.groupby('desetletje začetka').size().plot.barh(color='#201ba8')"
   ]
  },
  {
   "cell_type": "markdown",
   "metadata": {},
   "source": [
    "Kot smo predpostavili, vidimo, da je največ animejev narejeno v **2010-ih**, najmanj pa v 1960-ih, manj kot le v letu 2020. Tisto pa ni zelo presenetljivo, ker govorimo o 1960-ima, ko ni obstajala tehnologija, katera obstaja danes in katera dovoli hitrejšo proizvodnjo animejev. Zato pričakujemo, da bo v naslednjem desetletju več animejev, kot v 2010-ima."
   ]
  },
  {
   "cell_type": "code",
   "execution_count": 25,
   "metadata": {},
   "outputs": [
    {
     "data": {
      "text/plain": [
       "<AxesSubplot:xlabel='zacetek'>"
      ]
     },
     "execution_count": 25,
     "metadata": {},
     "output_type": "execute_result"
    },
    {
     "data": {
      "image/png": "[encoded data removed]",
      "text/plain": [
       "<Figure size 432x288 with 1 Axes>"
      ]
     },
     "metadata": {
      "needs_background": "light"
     },
     "output_type": "display_data"
    }
   ],
   "source": [
    "najbolj_popularni.groupby('zacetek').size().plot.bar(color='#201ba8')"
   ]
  },
  {
   "cell_type": "markdown",
   "metadata": {},
   "source": [
    "Vidimo, da se je največ najbolj popularnih animejev začelo leta **2014**."
   ]
  },
  {
   "cell_type": "code",
   "execution_count": 26,
   "metadata": {},
   "outputs": [
    {
     "data": {
      "text/plain": [
       "<AxesSubplot:xlabel='zacetek'>"
      ]
     },
     "execution_count": 26,
     "metadata": {},
     "output_type": "execute_result"
    },
    {
     "data": {
      "image/png": "[encoded data removed]",
      "text/plain": [
       "<Figure size 432x288 with 1 Axes>"
      ]
     },
     "metadata": {
      "needs_background": "light"
     },
     "output_type": "display_data"
    }
   ],
   "source": [
    "animeji.groupby('zacetek').mean()['stevilo_clenov'].plot(color='#201ba8')"
   ]
  },
  {
   "cell_type": "markdown",
   "metadata": {},
   "source": [
    "Vidimo,da je nabolj popularno leto **okoli 2014**.<br>\n",
    "Presenetljivo je, da so animeji iz leta 2020 zelo nepopularni. Tole se zgodi, ker ljudje pogosto počakajo, da se anime konča, potem počakajo še nekaj časa, preberu nekaj kritik, potem pa gledajo animeje."
   ]
  },
  {
   "cell_type": "code",
   "execution_count": 27,
   "metadata": {},
   "outputs": [
    {
     "data": {
      "text/plain": [
       "<AxesSubplot:xlabel='desetletje začetka'>"
      ]
     },
     "execution_count": 27,
     "metadata": {},
     "output_type": "execute_result"
    },
    {
     "data": {
      "image/png": "[encoded data removed]",
      "text/plain": [
       "<Figure size 432x288 with 1 Axes>"
      ]
     },
     "metadata": {
      "needs_background": "light"
     },
     "output_type": "display_data"
    }
   ],
   "source": [
    "animeji.groupby('desetletje začetka').mean()['stevilo_clenov'].plot.bar(color='#201ba8')"
   ]
  },
  {
   "cell_type": "markdown",
   "metadata": {},
   "source": [
    "Vidimo, da je najbolj popularno desetletje **2010**, po povprečnem številu členov."
   ]
  },
  {
   "cell_type": "code",
   "execution_count": 28,
   "metadata": {},
   "outputs": [
    {
     "data": {
      "text/plain": [
       "<AxesSubplot:xlabel='zacetek'>"
      ]
     },
     "execution_count": 28,
     "metadata": {},
     "output_type": "execute_result"
    },
    {
     "data": {
      "image/png": "[encoded data removed]",
      "text/plain": [
       "<Figure size 432x288 with 1 Axes>"
      ]
     },
     "metadata": {
      "needs_background": "light"
     },
     "output_type": "display_data"
    }
   ],
   "source": [
    "animeji.groupby('zacetek').mean()['nova ocena'].plot(color='#201ba8')"
   ]
  },
  {
   "cell_type": "markdown",
   "metadata": {},
   "source": [
    "Največjo povprečno oceno ima leto **okoli 2011**."
   ]
  },
  {
   "cell_type": "code",
   "execution_count": 29,
   "metadata": {},
   "outputs": [
    {
     "data": {
      "text/plain": [
       "<AxesSubplot:ylabel='desetletje začetka'>"
      ]
     },
     "execution_count": 29,
     "metadata": {},
     "output_type": "execute_result"
    },
    {
     "data": {
      "image/png": "[encoded data removed]",
      "text/plain": [
       "<Figure size 432x288 with 1 Axes>"
      ]
     },
     "metadata": {
      "needs_background": "light"
     },
     "output_type": "display_data"
    }
   ],
   "source": [
    "animeji.groupby('desetletje začetka').mean()['nova ocena'].plot.barh(color='#201ba8')"
   ]
  },
  {
   "cell_type": "markdown",
   "metadata": {},
   "source": [
    "Glede na novo oceno, animeji iz desetletja **2010** so najboljši."
   ]
  },
  {
   "cell_type": "code",
   "execution_count": 30,
   "metadata": {},
   "outputs": [
    {
     "data": {
      "text/plain": [
       "<AxesSubplot:xlabel='zacetek'>"
      ]
     },
     "execution_count": 30,
     "metadata": {},
     "output_type": "execute_result"
    },
    {
     "data": {
      "image/png": "[encoded data removed]",
      "text/plain": [
       "<Figure size 432x288 with 1 Axes>"
      ]
     },
     "metadata": {
      "needs_background": "light"
     },
     "output_type": "display_data"
    }
   ],
   "source": [
    "najboljsi_animeji.groupby('zacetek').size().plot.bar(color='#201ba8')"
   ]
  },
  {
   "cell_type": "markdown",
   "metadata": {},
   "source": [
    "Po diagramih vidimo, da je največ najboljših animejev izišlo leta **2016**."
   ]
  },
  {
   "cell_type": "markdown",
   "metadata": {},
   "source": [
    "### Konec animeja"
   ]
  },
  {
   "cell_type": "markdown",
   "metadata": {},
   "source": [
    "Videli smo kako so popularni animeji in kakva je ocena po letih in desetletjih izida. Zdaj poglejmo kako se obnašajo animeji, združeni po koncu. Obravnavanje animeja po koncu je pomembno, ker se pogosto zgodi, da leto začetka animeja ni isto kot leto končanja."
   ]
  },
  {
   "cell_type": "code",
   "execution_count": 31,
   "metadata": {},
   "outputs": [
    {
     "data": {
      "text/plain": [
       "<AxesSubplot:xlabel='konec'>"
      ]
     },
     "execution_count": 31,
     "metadata": {},
     "output_type": "execute_result"
    },
    {
     "data": {
      "image/png": "[encoded data removed]",
      "text/plain": [
       "<Figure size 432x288 with 1 Axes>"
      ]
     },
     "metadata": {
      "needs_background": "light"
     },
     "output_type": "display_data"
    }
   ],
   "source": [
    "animeji.groupby('konec').size().plot(color='#201ba8')"
   ]
  },
  {
   "cell_type": "code",
   "execution_count": 32,
   "metadata": {},
   "outputs": [
    {
     "data": {
      "text/plain": [
       "konec\n",
       "2017.0    254\n",
       "2016.0    241\n",
       "2018.0    236\n",
       "2015.0    217\n",
       "2014.0    205\n",
       "dtype: int64"
      ]
     },
     "execution_count": 32,
     "metadata": {},
     "output_type": "execute_result"
    }
   ],
   "source": [
    "animeji.groupby('konec').size().sort_values(ascending=False).head(5)"
   ]
  },
  {
   "cell_type": "markdown",
   "metadata": {},
   "source": [
    "Največ animejev se je končalo leta **2017**."
   ]
  },
  {
   "cell_type": "code",
   "execution_count": 33,
   "metadata": {},
   "outputs": [
    {
     "data": {
      "text/plain": [
       "<AxesSubplot:ylabel='None'>"
      ]
     },
     "execution_count": 33,
     "metadata": {},
     "output_type": "execute_result"
    },
    {
     "data": {
      "image/png": "[encoded data removed]",
      "text/plain": [
       "<Figure size 432x288 with 1 Axes>"
      ]
     },
     "metadata": {},
     "output_type": "display_data"
    }
   ],
   "source": [
    "(animeji['konec'] > 2000).to_frame().groupby('konec').size().plot.pie()"
   ]
  },
  {
   "cell_type": "markdown",
   "metadata": {},
   "source": [
    "Podobno kot za leto začetka, vidimo, da se je največ animejev končalo v **21. stoletju**, kar je bila naša predpostavka.<br>\n",
    "Da ne bi bila naša analiza dolgočasna, ne bomo preverjali vse za leto končanja, kot smo preverjali za leto začetka. Bomo razdelili animeje na tiste, ki imajo ista leta končanja in začetka, in tiste, ki imajo različna leta končanja in začetka."
   ]
  },
  {
   "cell_type": "code",
   "execution_count": 34,
   "metadata": {},
   "outputs": [],
   "source": [
    "isto = animeji[animeji['zacetek'] == animeji['konec']]"
   ]
  },
  {
   "cell_type": "markdown",
   "metadata": {},
   "source": [
    "Ker se običajno emituje ena epizoda animeja v tednu (govorimo o animejih, ki imajo epizode dolge vsaj 23 minutah), obstajajo tri objašnjenja, zakaj se leto začetka in leto konca animeja razlikujeta:\n",
    "1. anime ima več kot 52 epizod\n",
    "2. anime se je začel na koncu leta\n",
    "3. leto končanja animeja ni poznano"
   ]
  },
  {
   "cell_type": "markdown",
   "metadata": {},
   "source": [
    "Poglejmo, koliko animejev, ki imajo ista leta začetka in končanja, ima več kot 52 epizod."
   ]
  },
  {
   "cell_type": "code",
   "execution_count": 35,
   "metadata": {},
   "outputs": [
    {
     "data": {
      "text/html": [
       "<div>\n",
       "<style scoped>\n",
       "    .dataframe tbody tr th:only-of-type {\n",
       "        vertical-align: middle;\n",
       "    }\n",
       "\n",
       "    .dataframe tbody tr th {\n",
       "        vertical-align: top;\n",
       "    }\n",
       "\n",
       "    .dataframe thead th {\n",
       "        text-align: right;\n",
       "    }\n",
       "</style>\n",
       "<table border=\"1\" class=\"dataframe\">\n",
       "  <thead>\n",
       "    <tr style=\"text-align: right;\">\n",
       "      <th></th>\n",
       "      <th>naslov</th>\n",
       "      <th>sezona</th>\n",
       "      <th>zacetek</th>\n",
       "      <th>konec</th>\n",
       "      <th>vir</th>\n",
       "      <th>epizode</th>\n",
       "      <th>dolzina</th>\n",
       "      <th>stevilo_clenov</th>\n",
       "      <th>najljubsi</th>\n",
       "      <th>ocena</th>\n",
       "      <th>opis</th>\n",
       "      <th>oznaka</th>\n",
       "      <th>nova ocena</th>\n",
       "      <th>desetletje začetka</th>\n",
       "    </tr>\n",
       "    <tr>\n",
       "      <th>id</th>\n",
       "      <th></th>\n",
       "      <th></th>\n",
       "      <th></th>\n",
       "      <th></th>\n",
       "      <th></th>\n",
       "      <th></th>\n",
       "      <th></th>\n",
       "      <th></th>\n",
       "      <th></th>\n",
       "      <th></th>\n",
       "      <th></th>\n",
       "      <th></th>\n",
       "      <th></th>\n",
       "      <th></th>\n",
       "    </tr>\n",
       "  </thead>\n",
       "  <tbody>\n",
       "    <tr>\n",
       "      <th>33255</th>\n",
       "      <td>Saiki Kusuo no Ψ-nan</td>\n",
       "      <td>Summer</td>\n",
       "      <td>2016.0</td>\n",
       "      <td>2016.0</td>\n",
       "      <td>Manga</td>\n",
       "      <td>120.0</td>\n",
       "      <td>5.0</td>\n",
       "      <td>540050</td>\n",
       "      <td>14109</td>\n",
       "      <td>8.46</td>\n",
       "      <td>To the average person, psychic abilities might...</td>\n",
       "      <td>PG-13</td>\n",
       "      <td>8.02</td>\n",
       "      <td>2010.0</td>\n",
       "    </tr>\n",
       "    <tr>\n",
       "      <th>3841</th>\n",
       "      <td>Chi's Sweet Home</td>\n",
       "      <td>Spring</td>\n",
       "      <td>2008.0</td>\n",
       "      <td>2008.0</td>\n",
       "      <td>Manga</td>\n",
       "      <td>104.0</td>\n",
       "      <td>3.0</td>\n",
       "      <td>53575</td>\n",
       "      <td>432</td>\n",
       "      <td>7.71</td>\n",
       "      <td>One day, a small kitten named Chi is found by ...</td>\n",
       "      <td>G</td>\n",
       "      <td>1.98</td>\n",
       "      <td>2000.0</td>\n",
       "    </tr>\n",
       "    <tr>\n",
       "      <th>6024</th>\n",
       "      <td>Chi's Sweet Home: Atarashii Ouchi</td>\n",
       "      <td>Spring</td>\n",
       "      <td>2009.0</td>\n",
       "      <td>2009.0</td>\n",
       "      <td>Manga</td>\n",
       "      <td>104.0</td>\n",
       "      <td>3.0</td>\n",
       "      <td>24328</td>\n",
       "      <td>115</td>\n",
       "      <td>7.76</td>\n",
       "      <td>NaN</td>\n",
       "      <td>G</td>\n",
       "      <td>0.71</td>\n",
       "      <td>2000.0</td>\n",
       "    </tr>\n",
       "    <tr>\n",
       "      <th>2549</th>\n",
       "      <td>Perrine Monogatari</td>\n",
       "      <td>Winter</td>\n",
       "      <td>1978.0</td>\n",
       "      <td>1978.0</td>\n",
       "      <td>Novel</td>\n",
       "      <td>53.0</td>\n",
       "      <td>25.0</td>\n",
       "      <td>4009</td>\n",
       "      <td>15</td>\n",
       "      <td>7.51</td>\n",
       "      <td>Perrine travels across Europe with her mother,...</td>\n",
       "      <td>G</td>\n",
       "      <td>0.11</td>\n",
       "      <td>1970.0</td>\n",
       "    </tr>\n",
       "    <tr>\n",
       "      <th>6383</th>\n",
       "      <td>Chargeman Ken!</td>\n",
       "      <td>Spring</td>\n",
       "      <td>1974.0</td>\n",
       "      <td>1974.0</td>\n",
       "      <td>Original</td>\n",
       "      <td>65.0</td>\n",
       "      <td>6.0</td>\n",
       "      <td>2332</td>\n",
       "      <td>14</td>\n",
       "      <td>4.77</td>\n",
       "      <td>NaN</td>\n",
       "      <td>PG</td>\n",
       "      <td>0.06</td>\n",
       "      <td>1970.0</td>\n",
       "    </tr>\n",
       "    <tr>\n",
       "      <th>...</th>\n",
       "      <td>...</td>\n",
       "      <td>...</td>\n",
       "      <td>...</td>\n",
       "      <td>...</td>\n",
       "      <td>...</td>\n",
       "      <td>...</td>\n",
       "      <td>...</td>\n",
       "      <td>...</td>\n",
       "      <td>...</td>\n",
       "      <td>...</td>\n",
       "      <td>...</td>\n",
       "      <td>...</td>\n",
       "      <td>...</td>\n",
       "      <td>...</td>\n",
       "    </tr>\n",
       "    <tr>\n",
       "      <th>38131</th>\n",
       "      <td>Zhu Zhu Xia: Chao Xing Meng Chong</td>\n",
       "      <td>Spring</td>\n",
       "      <td>2017.0</td>\n",
       "      <td>2017.0</td>\n",
       "      <td>Original</td>\n",
       "      <td>124.0</td>\n",
       "      <td>15.0</td>\n",
       "      <td>121</td>\n",
       "      <td>0</td>\n",
       "      <td>NaN</td>\n",
       "      <td>Attempting to make GG Bond the partner for Iro...</td>\n",
       "      <td>G</td>\n",
       "      <td>NaN</td>\n",
       "      <td>2010.0</td>\n",
       "    </tr>\n",
       "    <tr>\n",
       "      <th>39798</th>\n",
       "      <td>Zhu Zhu Xia: Konglong Riji</td>\n",
       "      <td>Spring</td>\n",
       "      <td>2019.0</td>\n",
       "      <td>2019.0</td>\n",
       "      <td>Original</td>\n",
       "      <td>104.0</td>\n",
       "      <td>13.0</td>\n",
       "      <td>116</td>\n",
       "      <td>0</td>\n",
       "      <td>NaN</td>\n",
       "      <td>A more educational season of GG Bond. This sea...</td>\n",
       "      <td>G</td>\n",
       "      <td>NaN</td>\n",
       "      <td>2010.0</td>\n",
       "    </tr>\n",
       "    <tr>\n",
       "      <th>38094</th>\n",
       "      <td>Kkaemo-ui Moheom</td>\n",
       "      <td>NaN</td>\n",
       "      <td>1998.0</td>\n",
       "      <td>1998.0</td>\n",
       "      <td>Original</td>\n",
       "      <td>84.0</td>\n",
       "      <td>4.0</td>\n",
       "      <td>76</td>\n",
       "      <td>0</td>\n",
       "      <td>NaN</td>\n",
       "      <td>An \"edutainment\" Korean children's anime aimed...</td>\n",
       "      <td>G</td>\n",
       "      <td>NaN</td>\n",
       "      <td>1990.0</td>\n",
       "    </tr>\n",
       "    <tr>\n",
       "      <th>41635</th>\n",
       "      <td>Zhu Zhu Xia: Jing Su Xiao Yingxiong</td>\n",
       "      <td>Fall</td>\n",
       "      <td>2019.0</td>\n",
       "      <td>2019.0</td>\n",
       "      <td>Original</td>\n",
       "      <td>104.0</td>\n",
       "      <td>15.0</td>\n",
       "      <td>69</td>\n",
       "      <td>0</td>\n",
       "      <td>NaN</td>\n",
       "      <td>GG Bond is separated from his friends and land...</td>\n",
       "      <td>G</td>\n",
       "      <td>NaN</td>\n",
       "      <td>2010.0</td>\n",
       "    </tr>\n",
       "    <tr>\n",
       "      <th>33431</th>\n",
       "      <td>Vicky and Johnny</td>\n",
       "      <td>NaN</td>\n",
       "      <td>2007.0</td>\n",
       "      <td>2007.0</td>\n",
       "      <td>Original</td>\n",
       "      <td>104.0</td>\n",
       "      <td>1.0</td>\n",
       "      <td>42</td>\n",
       "      <td>0</td>\n",
       "      <td>NaN</td>\n",
       "      <td>NaN</td>\n",
       "      <td>PG</td>\n",
       "      <td>NaN</td>\n",
       "      <td>2000.0</td>\n",
       "    </tr>\n",
       "  </tbody>\n",
       "</table>\n",
       "<p>35 rows × 14 columns</p>\n",
       "</div>"
      ],
      "text/plain": [
       "                                    naslov  sezona  zacetek   konec       vir  \\\n",
       "id                                                                              \n",
       "33255                 Saiki Kusuo no Ψ-nan  Summer   2016.0  2016.0     Manga   \n",
       "3841                      Chi's Sweet Home  Spring   2008.0  2008.0     Manga   \n",
       "6024     Chi's Sweet Home: Atarashii Ouchi  Spring   2009.0  2009.0     Manga   \n",
       "2549                    Perrine Monogatari  Winter   1978.0  1978.0     Novel   \n",
       "6383                        Chargeman Ken!  Spring   1974.0  1974.0  Original   \n",
       "...                                    ...     ...      ...     ...       ...   \n",
       "38131    Zhu Zhu Xia: Chao Xing Meng Chong  Spring   2017.0  2017.0  Original   \n",
       "39798           Zhu Zhu Xia: Konglong Riji  Spring   2019.0  2019.0  Original   \n",
       "38094                     Kkaemo-ui Moheom     NaN   1998.0  1998.0  Original   \n",
       "41635  Zhu Zhu Xia: Jing Su Xiao Yingxiong    Fall   2019.0  2019.0  Original   \n",
       "33431                     Vicky and Johnny     NaN   2007.0  2007.0  Original   \n",
       "\n",
       "       epizode  dolzina  stevilo_clenov  najljubsi  ocena  \\\n",
       "id                                                          \n",
       "33255    120.0      5.0          540050      14109   8.46   \n",
       "3841     104.0      3.0           53575        432   7.71   \n",
       "6024     104.0      3.0           24328        115   7.76   \n",
       "2549      53.0     25.0            4009         15   7.51   \n",
       "6383      65.0      6.0            2332         14   4.77   \n",
       "...        ...      ...             ...        ...    ...   \n",
       "38131    124.0     15.0             121          0    NaN   \n",
       "39798    104.0     13.0             116          0    NaN   \n",
       "38094     84.0      4.0              76          0    NaN   \n",
       "41635    104.0     15.0              69          0    NaN   \n",
       "33431    104.0      1.0              42          0    NaN   \n",
       "\n",
       "                                                    opis oznaka  nova ocena  \\\n",
       "id                                                                            \n",
       "33255  To the average person, psychic abilities might...  PG-13        8.02   \n",
       "3841   One day, a small kitten named Chi is found by ...      G        1.98   \n",
       "6024                                                 NaN      G        0.71   \n",
       "2549   Perrine travels across Europe with her mother,...      G        0.11   \n",
       "6383                                                 NaN     PG        0.06   \n",
       "...                                                  ...    ...         ...   \n",
       "38131  Attempting to make GG Bond the partner for Iro...      G         NaN   \n",
       "39798  A more educational season of GG Bond. This sea...      G         NaN   \n",
       "38094  An \"edutainment\" Korean children's anime aimed...      G         NaN   \n",
       "41635  GG Bond is separated from his friends and land...      G         NaN   \n",
       "33431                                                NaN     PG         NaN   \n",
       "\n",
       "       desetletje začetka  \n",
       "id                         \n",
       "33255              2010.0  \n",
       "3841               2000.0  \n",
       "6024               2000.0  \n",
       "2549               1970.0  \n",
       "6383               1970.0  \n",
       "...                   ...  \n",
       "38131              2010.0  \n",
       "39798              2010.0  \n",
       "38094              1990.0  \n",
       "41635              2010.0  \n",
       "33431              2000.0  \n",
       "\n",
       "[35 rows x 14 columns]"
      ]
     },
     "execution_count": 35,
     "metadata": {},
     "output_type": "execute_result"
    }
   ],
   "source": [
    "isto[isto['epizode'] > 52]"
   ]
  },
  {
   "cell_type": "markdown",
   "metadata": {},
   "source": [
    "Vidimo, da epizoda tistih animejih pogosto traja manj kot 23 minutah. Preverimo, kateri animeji imajo epizode dlje kot 23 minutah."
   ]
  },
  {
   "cell_type": "code",
   "execution_count": 36,
   "metadata": {},
   "outputs": [
    {
     "data": {
      "text/html": [
       "<div>\n",
       "<style scoped>\n",
       "    .dataframe tbody tr th:only-of-type {\n",
       "        vertical-align: middle;\n",
       "    }\n",
       "\n",
       "    .dataframe tbody tr th {\n",
       "        vertical-align: top;\n",
       "    }\n",
       "\n",
       "    .dataframe thead th {\n",
       "        text-align: right;\n",
       "    }\n",
       "</style>\n",
       "<table border=\"1\" class=\"dataframe\">\n",
       "  <thead>\n",
       "    <tr style=\"text-align: right;\">\n",
       "      <th></th>\n",
       "      <th>naslov</th>\n",
       "      <th>sezona</th>\n",
       "      <th>zacetek</th>\n",
       "      <th>konec</th>\n",
       "      <th>vir</th>\n",
       "      <th>epizode</th>\n",
       "      <th>dolzina</th>\n",
       "      <th>stevilo_clenov</th>\n",
       "      <th>najljubsi</th>\n",
       "      <th>ocena</th>\n",
       "      <th>opis</th>\n",
       "      <th>oznaka</th>\n",
       "      <th>nova ocena</th>\n",
       "      <th>desetletje začetka</th>\n",
       "    </tr>\n",
       "    <tr>\n",
       "      <th>id</th>\n",
       "      <th></th>\n",
       "      <th></th>\n",
       "      <th></th>\n",
       "      <th></th>\n",
       "      <th></th>\n",
       "      <th></th>\n",
       "      <th></th>\n",
       "      <th></th>\n",
       "      <th></th>\n",
       "      <th></th>\n",
       "      <th></th>\n",
       "      <th></th>\n",
       "      <th></th>\n",
       "      <th></th>\n",
       "    </tr>\n",
       "  </thead>\n",
       "  <tbody>\n",
       "    <tr>\n",
       "      <th>2549</th>\n",
       "      <td>Perrine Monogatari</td>\n",
       "      <td>Winter</td>\n",
       "      <td>1978.0</td>\n",
       "      <td>1978.0</td>\n",
       "      <td>Novel</td>\n",
       "      <td>53.0</td>\n",
       "      <td>25.0</td>\n",
       "      <td>4009</td>\n",
       "      <td>15</td>\n",
       "      <td>7.51</td>\n",
       "      <td>Perrine travels across Europe with her mother,...</td>\n",
       "      <td>G</td>\n",
       "      <td>0.11</td>\n",
       "      <td>1970.0</td>\n",
       "    </tr>\n",
       "    <tr>\n",
       "      <th>31698</th>\n",
       "      <td>Zhan Long Si Qu</td>\n",
       "      <td>NaN</td>\n",
       "      <td>2009.0</td>\n",
       "      <td>2009.0</td>\n",
       "      <td>Unknown</td>\n",
       "      <td>64.0</td>\n",
       "      <td>24.0</td>\n",
       "      <td>310</td>\n",
       "      <td>2</td>\n",
       "      <td>NaN</td>\n",
       "      <td>NaN</td>\n",
       "      <td>G</td>\n",
       "      <td>NaN</td>\n",
       "      <td>2000.0</td>\n",
       "    </tr>\n",
       "  </tbody>\n",
       "</table>\n",
       "</div>"
      ],
      "text/plain": [
       "                   naslov  sezona  zacetek   konec      vir  epizode  dolzina  \\\n",
       "id                                                                              \n",
       "2549   Perrine Monogatari  Winter   1978.0  1978.0    Novel     53.0     25.0   \n",
       "31698     Zhan Long Si Qu     NaN   2009.0  2009.0  Unknown     64.0     24.0   \n",
       "\n",
       "       stevilo_clenov  najljubsi  ocena  \\\n",
       "id                                        \n",
       "2549             4009         15   7.51   \n",
       "31698             310          2    NaN   \n",
       "\n",
       "                                                    opis oznaka  nova ocena  \\\n",
       "id                                                                            \n",
       "2549   Perrine travels across Europe with her mother,...      G        0.11   \n",
       "31698                                                NaN      G         NaN   \n",
       "\n",
       "       desetletje začetka  \n",
       "id                         \n",
       "2549               1970.0  \n",
       "31698              2000.0  "
      ]
     },
     "execution_count": 36,
     "metadata": {},
     "output_type": "execute_result"
    }
   ],
   "source": [
    "ep = isto['epizode'] > 52\n",
    "dl = isto['dolzina'] >= 23\n",
    "\n",
    "isto[dl & ep]"
   ]
  },
  {
   "cell_type": "markdown",
   "metadata": {},
   "source": [
    "Vidimo, da le dva animeja izpolnjujeta ta dva pogoja. Tisto sta verjetno animeja, ki sta se prikazovala več kot en krat v tednu."
   ]
  },
  {
   "cell_type": "markdown",
   "metadata": {},
   "source": [
    "Poglejmo, kateri so animeji bolj popularni, tisti z istimi leti izida in končanja, ali tisti z različnimi."
   ]
  },
  {
   "cell_type": "code",
   "execution_count": 37,
   "metadata": {},
   "outputs": [
    {
     "data": {
      "text/plain": [
       "<AxesSubplot:ylabel='None'>"
      ]
     },
     "execution_count": 37,
     "metadata": {},
     "output_type": "execute_result"
    },
    {
     "data": {
      "image/png": "[encoded data removed]",
      "text/plain": [
       "<Figure size 432x288 with 1 Axes>"
      ]
     },
     "metadata": {},
     "output_type": "display_data"
    }
   ],
   "source": [
    "# Na strani 'https://stackoverflow.com/questions/26265819/how-to-merge-a-series-and-dataframe/40762674#40762674' sem videla kako narediti 'DataFrmae' iz 'Series'\n",
    " \n",
    "(animeji['zacetek'] == animeji['konec']).to_frame().groupby(0).size().plot.pie()"
   ]
  },
  {
   "cell_type": "markdown",
   "metadata": {},
   "source": [
    "Vidimo, da je *manj animejev z različnimi leti izida in končanja*, kar je bila naša hipoteza."
   ]
  },
  {
   "cell_type": "code",
   "execution_count": 38,
   "metadata": {},
   "outputs": [
    {
     "data": {
      "text/plain": [
       "<AxesSubplot:ylabel='None'>"
      ]
     },
     "execution_count": 38,
     "metadata": {},
     "output_type": "execute_result"
    },
    {
     "data": {
      "image/png": "[encoded data removed]",
      "text/plain": [
       "<Figure size 432x288 with 1 Axes>"
      ]
     },
     "metadata": {},
     "output_type": "display_data"
    }
   ],
   "source": [
    "(najbolj_popularni['zacetek'] == najbolj_popularni['konec']).to_frame().groupby(0).size().plot.pie()"
   ]
  },
  {
   "cell_type": "markdown",
   "metadata": {},
   "source": [
    "*Več je najbolj popularnih animejev z istimi leti izida in končanja*. Lahko ugotovimo, da je popularnost animeja odvisna od tega ali sta leti izida in končanja enaki, kot smo predpostavili."
   ]
  },
  {
   "cell_type": "code",
   "execution_count": 39,
   "metadata": {},
   "outputs": [
    {
     "data": {
      "text/plain": [
       "<AxesSubplot:ylabel='None'>"
      ]
     },
     "execution_count": 39,
     "metadata": {},
     "output_type": "execute_result"
    },
    {
     "data": {
      "image/png": "[encoded data removed]",
      "text/plain": [
       "<Figure size 432x288 with 1 Axes>"
      ]
     },
     "metadata": {},
     "output_type": "display_data"
    }
   ],
   "source": [
    "(najboljsi_animeji['zacetek'] == najboljsi_animeji['konec']).to_frame().groupby(0).size().plot.pie()"
   ]
  },
  {
   "cell_type": "markdown",
   "metadata": {},
   "source": [
    "Spet vidimo, da se je *več najboljših animejev končalo v istem letu, v katerem se je začelo*. Tukaj podobno lahko ugotovimo, da je ocena animeja odvisna od tega, ali se je anime končal v istem letu, v katerem se je začel."
   ]
  },
  {
   "cell_type": "markdown",
   "metadata": {},
   "source": [
    "### Število in dolžina epizod"
   ]
  },
  {
   "cell_type": "code",
   "execution_count": 40,
   "metadata": {},
   "outputs": [
    {
     "data": {
      "text/html": [
       "<div>\n",
       "<style scoped>\n",
       "    .dataframe tbody tr th:only-of-type {\n",
       "        vertical-align: middle;\n",
       "    }\n",
       "\n",
       "    .dataframe tbody tr th {\n",
       "        vertical-align: top;\n",
       "    }\n",
       "\n",
       "    .dataframe thead th {\n",
       "        text-align: right;\n",
       "    }\n",
       "</style>\n",
       "<table border=\"1\" class=\"dataframe\">\n",
       "  <thead>\n",
       "    <tr style=\"text-align: right;\">\n",
       "      <th></th>\n",
       "      <th>naslov</th>\n",
       "      <th>sezona</th>\n",
       "      <th>zacetek</th>\n",
       "      <th>konec</th>\n",
       "      <th>vir</th>\n",
       "      <th>epizode</th>\n",
       "      <th>dolzina</th>\n",
       "      <th>stevilo_clenov</th>\n",
       "      <th>najljubsi</th>\n",
       "      <th>ocena</th>\n",
       "      <th>opis</th>\n",
       "      <th>oznaka</th>\n",
       "      <th>nova ocena</th>\n",
       "      <th>desetletje začetka</th>\n",
       "    </tr>\n",
       "    <tr>\n",
       "      <th>id</th>\n",
       "      <th></th>\n",
       "      <th></th>\n",
       "      <th></th>\n",
       "      <th></th>\n",
       "      <th></th>\n",
       "      <th></th>\n",
       "      <th></th>\n",
       "      <th></th>\n",
       "      <th></th>\n",
       "      <th></th>\n",
       "      <th></th>\n",
       "      <th></th>\n",
       "      <th></th>\n",
       "      <th></th>\n",
       "    </tr>\n",
       "  </thead>\n",
       "  <tbody>\n",
       "    <tr>\n",
       "      <th>9947</th>\n",
       "      <td>Lan Mao</td>\n",
       "      <td>Fall</td>\n",
       "      <td>1999.0</td>\n",
       "      <td>2001.0</td>\n",
       "      <td>Original</td>\n",
       "      <td>3057.0</td>\n",
       "      <td>11.0</td>\n",
       "      <td>587</td>\n",
       "      <td>0</td>\n",
       "      <td>NaN</td>\n",
       "      <td>Adventures include going into deep sea and acc...</td>\n",
       "      <td>PG</td>\n",
       "      <td>NaN</td>\n",
       "      <td>1990.0</td>\n",
       "    </tr>\n",
       "  </tbody>\n",
       "</table>\n",
       "</div>"
      ],
      "text/plain": [
       "       naslov sezona  zacetek   konec       vir  epizode  dolzina  \\\n",
       "id                                                                  \n",
       "9947  Lan Mao   Fall   1999.0  2001.0  Original   3057.0     11.0   \n",
       "\n",
       "      stevilo_clenov  najljubsi  ocena  \\\n",
       "id                                       \n",
       "9947             587          0    NaN   \n",
       "\n",
       "                                                   opis oznaka  nova ocena  \\\n",
       "id                                                                           \n",
       "9947  Adventures include going into deep sea and acc...     PG         NaN   \n",
       "\n",
       "      desetletje začetka  \n",
       "id                        \n",
       "9947              1990.0  "
      ]
     },
     "execution_count": 40,
     "metadata": {},
     "output_type": "execute_result"
    }
   ],
   "source": [
    "animeji[animeji['epizode'] == animeji['epizode'].max()]"
   ]
  },
  {
   "cell_type": "code",
   "execution_count": 41,
   "metadata": {},
   "outputs": [
    {
     "data": {
      "text/html": [
       "<div>\n",
       "<style scoped>\n",
       "    .dataframe tbody tr th:only-of-type {\n",
       "        vertical-align: middle;\n",
       "    }\n",
       "\n",
       "    .dataframe tbody tr th {\n",
       "        vertical-align: top;\n",
       "    }\n",
       "\n",
       "    .dataframe thead th {\n",
       "        text-align: right;\n",
       "    }\n",
       "</style>\n",
       "<table border=\"1\" class=\"dataframe\">\n",
       "  <thead>\n",
       "    <tr style=\"text-align: right;\">\n",
       "      <th></th>\n",
       "      <th>naslov</th>\n",
       "      <th>sezona</th>\n",
       "      <th>zacetek</th>\n",
       "      <th>konec</th>\n",
       "      <th>vir</th>\n",
       "      <th>epizode</th>\n",
       "      <th>dolzina</th>\n",
       "      <th>stevilo_clenov</th>\n",
       "      <th>najljubsi</th>\n",
       "      <th>ocena</th>\n",
       "      <th>opis</th>\n",
       "      <th>oznaka</th>\n",
       "      <th>nova ocena</th>\n",
       "      <th>desetletje začetka</th>\n",
       "    </tr>\n",
       "    <tr>\n",
       "      <th>id</th>\n",
       "      <th></th>\n",
       "      <th></th>\n",
       "      <th></th>\n",
       "      <th></th>\n",
       "      <th></th>\n",
       "      <th></th>\n",
       "      <th></th>\n",
       "      <th></th>\n",
       "      <th></th>\n",
       "      <th></th>\n",
       "      <th></th>\n",
       "      <th></th>\n",
       "      <th></th>\n",
       "      <th></th>\n",
       "    </tr>\n",
       "  </thead>\n",
       "  <tbody>\n",
       "    <tr>\n",
       "      <th>35025</th>\n",
       "      <td>\"Eikou Naki Tensai-tachi\" Kara no Monogatari</td>\n",
       "      <td>Spring</td>\n",
       "      <td>2017.0</td>\n",
       "      <td>2017.0</td>\n",
       "      <td>Manga</td>\n",
       "      <td>2.0</td>\n",
       "      <td>49.0</td>\n",
       "      <td>540</td>\n",
       "      <td>3</td>\n",
       "      <td>NaN</td>\n",
       "      <td>An anime/documentary series about athletes pre...</td>\n",
       "      <td>G</td>\n",
       "      <td>NaN</td>\n",
       "      <td>2010.0</td>\n",
       "    </tr>\n",
       "    <tr>\n",
       "      <th>35694</th>\n",
       "      <td>Kirin the Noop</td>\n",
       "      <td>Winter</td>\n",
       "      <td>2014.0</td>\n",
       "      <td>2014.0</td>\n",
       "      <td>Original</td>\n",
       "      <td>2.0</td>\n",
       "      <td>5.0</td>\n",
       "      <td>271</td>\n",
       "      <td>1</td>\n",
       "      <td>NaN</td>\n",
       "      <td>NaN</td>\n",
       "      <td>G</td>\n",
       "      <td>NaN</td>\n",
       "      <td>2010.0</td>\n",
       "    </tr>\n",
       "    <tr>\n",
       "      <th>29489</th>\n",
       "      <td>Karasu no Puuta</td>\n",
       "      <td>Summer</td>\n",
       "      <td>1995.0</td>\n",
       "      <td>1995.0</td>\n",
       "      <td>Unknown</td>\n",
       "      <td>2.0</td>\n",
       "      <td>5.0</td>\n",
       "      <td>140</td>\n",
       "      <td>0</td>\n",
       "      <td>NaN</td>\n",
       "      <td>An anime aimed at kindergarteners for the sole...</td>\n",
       "      <td>PG</td>\n",
       "      <td>NaN</td>\n",
       "      <td>1990.0</td>\n",
       "    </tr>\n",
       "  </tbody>\n",
       "</table>\n",
       "</div>"
      ],
      "text/plain": [
       "                                             naslov  sezona  zacetek   konec  \\\n",
       "id                                                                             \n",
       "35025  \"Eikou Naki Tensai-tachi\" Kara no Monogatari  Spring   2017.0  2017.0   \n",
       "35694                                Kirin the Noop  Winter   2014.0  2014.0   \n",
       "29489                               Karasu no Puuta  Summer   1995.0  1995.0   \n",
       "\n",
       "            vir  epizode  dolzina  stevilo_clenov  najljubsi  ocena  \\\n",
       "id                                                                    \n",
       "35025     Manga      2.0     49.0             540          3    NaN   \n",
       "35694  Original      2.0      5.0             271          1    NaN   \n",
       "29489   Unknown      2.0      5.0             140          0    NaN   \n",
       "\n",
       "                                                    opis oznaka  nova ocena  \\\n",
       "id                                                                            \n",
       "35025  An anime/documentary series about athletes pre...      G         NaN   \n",
       "35694                                                NaN      G         NaN   \n",
       "29489  An anime aimed at kindergarteners for the sole...     PG         NaN   \n",
       "\n",
       "       desetletje začetka  \n",
       "id                         \n",
       "35025              2010.0  \n",
       "35694              2010.0  \n",
       "29489              1990.0  "
      ]
     },
     "execution_count": 41,
     "metadata": {},
     "output_type": "execute_result"
    }
   ],
   "source": [
    "animeji[animeji['epizode'] == animeji['epizode'].min()]"
   ]
  },
  {
   "cell_type": "markdown",
   "metadata": {},
   "source": [
    "Ko pogledamo tisti tabeli zgoraj, pričakujemo, da animeji, ki niso preveč dolgi in preveč kratki, bodo več popularni in z večjo oceno."
   ]
  },
  {
   "cell_type": "code",
   "execution_count": 42,
   "metadata": {},
   "outputs": [
    {
     "data": {
      "text/plain": [
       "epizode\n",
       "12.0    970\n",
       "13.0    585\n",
       "26.0    559\n",
       "52.0    227\n",
       "24.0    198\n",
       "25.0    186\n",
       "51.0    114\n",
       "50.0    104\n",
       "39.0     86\n",
       "11.0     82\n",
       "dtype: int64"
      ]
     },
     "execution_count": 42,
     "metadata": {},
     "output_type": "execute_result"
    }
   ],
   "source": [
    "animeji.groupby('epizode').size().sort_values(ascending=False).head(10)"
   ]
  },
  {
   "cell_type": "markdown",
   "metadata": {},
   "source": [
    "Kot smo predpostavili, vidimo, da največ animejih ima **12 epizod**.<br>\n",
    "Ko pogledamo tisto lito, vidimo, da nima animejih z velikim številom epizod."
   ]
  },
  {
   "cell_type": "code",
   "execution_count": 43,
   "metadata": {},
   "outputs": [
    {
     "data": {
      "text/plain": [
       "<AxesSubplot:xlabel='epizode'>"
      ]
     },
     "execution_count": 43,
     "metadata": {},
     "output_type": "execute_result"
    },
    {
     "data": {
      "image/png": "[encoded data removed]",
      "text/plain": [
       "<Figure size 432x288 with 1 Axes>"
      ]
     },
     "metadata": {
      "needs_background": "light"
     },
     "output_type": "display_data"
    }
   ],
   "source": [
    "najbolj_popularni.groupby('epizode').size().plot.bar(color='#201ba8')"
   ]
  },
  {
   "cell_type": "code",
   "execution_count": 44,
   "metadata": {},
   "outputs": [
    {
     "data": {
      "text/plain": [
       "<AxesSubplot:xlabel='epizode'>"
      ]
     },
     "execution_count": 44,
     "metadata": {},
     "output_type": "execute_result"
    },
    {
     "data": {
      "image/png": "[encoded data removed]",
      "text/plain": [
       "<Figure size 432x288 with 1 Axes>"
      ]
     },
     "metadata": {
      "needs_background": "light"
     },
     "output_type": "display_data"
    }
   ],
   "source": [
    "najboljsi_animeji.groupby('epizode').size().plot.bar(color='#201ba8')"
   ]
  },
  {
   "cell_type": "markdown",
   "metadata": {},
   "source": [
    "Vidimo, da je situacija z ocenami podobna tisti z uporabniki.<br>\n",
    "Ko pogledamo tista zgornja grafa, lahko zaključimo, da sta ocena in popularnost animeja odvisni od števila epizod, ampak najboljši anime in najbolj popularen anime imata več kot 25 epizod:\n",
    "* *Fullmetal Alchemist: Brotherhood* - 64\n",
    "* *Death Note* - 37\n",
    "\n",
    "kar pomeni, da sta oba zelo kakvostna animeja."
   ]
  },
  {
   "cell_type": "markdown",
   "metadata": {},
   "source": [
    "Kako je sa dolžinom epizod?<br>\n",
    "Epizode animejih najpogostejše trajejo 23-25 minutah. Ampak, to ni vedno tako. Obstajajo animeji, ki imajo epizode od 30 sekundah."
   ]
  },
  {
   "cell_type": "code",
   "execution_count": 45,
   "metadata": {},
   "outputs": [
    {
     "data": {
      "text/plain": [
       "dolzina\n",
       "24.0    1400\n",
       "23.0     814\n",
       "25.0     677\n",
       "5.0      217\n",
       "3.0      172\n",
       "dtype: int64"
      ]
     },
     "execution_count": 45,
     "metadata": {},
     "output_type": "execute_result"
    }
   ],
   "source": [
    "animeji.groupby('dolzina').size().sort_values(ascending=False).head(5)"
   ]
  },
  {
   "cell_type": "markdown",
   "metadata": {},
   "source": [
    "Tukaj vidimo, da je naša predpostavka bila v redu, največ animejev ima epizode dolžine **24 minut**."
   ]
  },
  {
   "cell_type": "code",
   "execution_count": 46,
   "metadata": {},
   "outputs": [
    {
     "data": {
      "text/html": [
       "<div>\n",
       "<style scoped>\n",
       "    .dataframe tbody tr th:only-of-type {\n",
       "        vertical-align: middle;\n",
       "    }\n",
       "\n",
       "    .dataframe tbody tr th {\n",
       "        vertical-align: top;\n",
       "    }\n",
       "\n",
       "    .dataframe thead th {\n",
       "        text-align: right;\n",
       "    }\n",
       "</style>\n",
       "<table border=\"1\" class=\"dataframe\">\n",
       "  <thead>\n",
       "    <tr style=\"text-align: right;\">\n",
       "      <th></th>\n",
       "      <th>naslov</th>\n",
       "      <th>sezona</th>\n",
       "      <th>zacetek</th>\n",
       "      <th>konec</th>\n",
       "      <th>vir</th>\n",
       "      <th>epizode</th>\n",
       "      <th>dolzina</th>\n",
       "      <th>stevilo_clenov</th>\n",
       "      <th>najljubsi</th>\n",
       "      <th>ocena</th>\n",
       "      <th>opis</th>\n",
       "      <th>oznaka</th>\n",
       "      <th>nova ocena</th>\n",
       "      <th>desetletje začetka</th>\n",
       "    </tr>\n",
       "    <tr>\n",
       "      <th>id</th>\n",
       "      <th></th>\n",
       "      <th></th>\n",
       "      <th></th>\n",
       "      <th></th>\n",
       "      <th></th>\n",
       "      <th></th>\n",
       "      <th></th>\n",
       "      <th></th>\n",
       "      <th></th>\n",
       "      <th></th>\n",
       "      <th></th>\n",
       "      <th></th>\n",
       "      <th></th>\n",
       "      <th></th>\n",
       "    </tr>\n",
       "  </thead>\n",
       "  <tbody>\n",
       "    <tr>\n",
       "      <th>32237</th>\n",
       "      <td>Burutabu-chan</td>\n",
       "      <td>NaN</td>\n",
       "      <td>NaN</td>\n",
       "      <td>NaN</td>\n",
       "      <td>Original</td>\n",
       "      <td>NaN</td>\n",
       "      <td>0.17</td>\n",
       "      <td>167</td>\n",
       "      <td>0</td>\n",
       "      <td>NaN</td>\n",
       "      <td>NaN</td>\n",
       "      <td>PG-13</td>\n",
       "      <td>NaN</td>\n",
       "      <td>NaN</td>\n",
       "    </tr>\n",
       "  </tbody>\n",
       "</table>\n",
       "</div>"
      ],
      "text/plain": [
       "              naslov sezona  zacetek  konec       vir  epizode  dolzina  \\\n",
       "id                                                                        \n",
       "32237  Burutabu-chan    NaN      NaN    NaN  Original      NaN     0.17   \n",
       "\n",
       "       stevilo_clenov  najljubsi  ocena opis oznaka  nova ocena  \\\n",
       "id                                                                \n",
       "32237             167          0    NaN  NaN  PG-13         NaN   \n",
       "\n",
       "       desetletje začetka  \n",
       "id                         \n",
       "32237                 NaN  "
      ]
     },
     "execution_count": 46,
     "metadata": {},
     "output_type": "execute_result"
    }
   ],
   "source": [
    "animeji[animeji['dolzina'] == animeji['dolzina'].min()]"
   ]
  },
  {
   "cell_type": "code",
   "execution_count": 47,
   "metadata": {},
   "outputs": [
    {
     "data": {
      "text/html": [
       "<div>\n",
       "<style scoped>\n",
       "    .dataframe tbody tr th:only-of-type {\n",
       "        vertical-align: middle;\n",
       "    }\n",
       "\n",
       "    .dataframe tbody tr th {\n",
       "        vertical-align: top;\n",
       "    }\n",
       "\n",
       "    .dataframe thead th {\n",
       "        text-align: right;\n",
       "    }\n",
       "</style>\n",
       "<table border=\"1\" class=\"dataframe\">\n",
       "  <thead>\n",
       "    <tr style=\"text-align: right;\">\n",
       "      <th></th>\n",
       "      <th>naslov</th>\n",
       "      <th>sezona</th>\n",
       "      <th>zacetek</th>\n",
       "      <th>konec</th>\n",
       "      <th>vir</th>\n",
       "      <th>epizode</th>\n",
       "      <th>dolzina</th>\n",
       "      <th>stevilo_clenov</th>\n",
       "      <th>najljubsi</th>\n",
       "      <th>ocena</th>\n",
       "      <th>opis</th>\n",
       "      <th>oznaka</th>\n",
       "      <th>nova ocena</th>\n",
       "      <th>desetletje začetka</th>\n",
       "    </tr>\n",
       "    <tr>\n",
       "      <th>id</th>\n",
       "      <th></th>\n",
       "      <th></th>\n",
       "      <th></th>\n",
       "      <th></th>\n",
       "      <th></th>\n",
       "      <th></th>\n",
       "      <th></th>\n",
       "      <th></th>\n",
       "      <th></th>\n",
       "      <th></th>\n",
       "      <th></th>\n",
       "      <th></th>\n",
       "      <th></th>\n",
       "      <th></th>\n",
       "    </tr>\n",
       "  </thead>\n",
       "  <tbody>\n",
       "    <tr>\n",
       "      <th>20023</th>\n",
       "      <td>Otanoshimi Anime Gekijou</td>\n",
       "      <td>Spring</td>\n",
       "      <td>1970.0</td>\n",
       "      <td>1970.0</td>\n",
       "      <td>Unknown</td>\n",
       "      <td>26.0</td>\n",
       "      <td>54.0</td>\n",
       "      <td>219</td>\n",
       "      <td>0</td>\n",
       "      <td>NaN</td>\n",
       "      <td>NaN</td>\n",
       "      <td>G</td>\n",
       "      <td>NaN</td>\n",
       "      <td>1970.0</td>\n",
       "    </tr>\n",
       "  </tbody>\n",
       "</table>\n",
       "</div>"
      ],
      "text/plain": [
       "                         naslov  sezona  zacetek   konec      vir  epizode  \\\n",
       "id                                                                           \n",
       "20023  Otanoshimi Anime Gekijou  Spring   1970.0  1970.0  Unknown     26.0   \n",
       "\n",
       "       dolzina  stevilo_clenov  najljubsi  ocena opis oznaka  nova ocena  \\\n",
       "id                                                                         \n",
       "20023     54.0             219          0    NaN  NaN      G         NaN   \n",
       "\n",
       "       desetletje začetka  \n",
       "id                         \n",
       "20023              1970.0  "
      ]
     },
     "execution_count": 47,
     "metadata": {},
     "output_type": "execute_result"
    }
   ],
   "source": [
    "animeji[animeji['dolzina'] == animeji['dolzina'].max()]"
   ]
  },
  {
   "cell_type": "markdown",
   "metadata": {},
   "source": [
    "Vidimo, da najdlji in najkrajiši anime nimata veliko členov in nimata oceno."
   ]
  },
  {
   "cell_type": "code",
   "execution_count": 48,
   "metadata": {},
   "outputs": [
    {
     "data": {
      "text/plain": [
       "<AxesSubplot:ylabel='dolzina'>"
      ]
     },
     "execution_count": 48,
     "metadata": {},
     "output_type": "execute_result"
    },
    {
     "data": {
      "image/png": "[encoded data removed]",
      "text/plain": [
       "<Figure size 432x288 with 1 Axes>"
      ]
     },
     "metadata": {
      "needs_background": "light"
     },
     "output_type": "display_data"
    }
   ],
   "source": [
    "najbolj_popularni.groupby('dolzina').size().plot.barh(color='#201ba8')"
   ]
  },
  {
   "cell_type": "code",
   "execution_count": 49,
   "metadata": {},
   "outputs": [
    {
     "data": {
      "text/plain": [
       "<AxesSubplot:ylabel='dolzina'>"
      ]
     },
     "execution_count": 49,
     "metadata": {},
     "output_type": "execute_result"
    },
    {
     "data": {
      "image/png": "[encoded data removed]",
      "text/plain": [
       "<Figure size 432x288 with 1 Axes>"
      ]
     },
     "metadata": {
      "needs_background": "light"
     },
     "output_type": "display_data"
    }
   ],
   "source": [
    "najboljsi_animeji.groupby('dolzina').size().plot.barh(color='#201ba8')"
   ]
  },
  {
   "cell_type": "markdown",
   "metadata": {},
   "source": [
    "Vidimo, da največ najboljših in najbolj popularnih animeja ima epizode dolžine 24 minutah. Torej lahko zaključimo, da *sta ocena in popularnost odvisni od dolžine epizod*."
   ]
  },
  {
   "cell_type": "markdown",
   "metadata": {},
   "source": [
    "### Sezona animeja"
   ]
  },
  {
   "cell_type": "markdown",
   "metadata": {},
   "source": [
    "Poglejmo, v kateri sezoni so izišli najbolj popularni in najboljši animeji."
   ]
  },
  {
   "cell_type": "code",
   "execution_count": 50,
   "metadata": {},
   "outputs": [
    {
     "data": {
      "text/plain": [
       "<AxesSubplot:ylabel='sezona'>"
      ]
     },
     "execution_count": 50,
     "metadata": {},
     "output_type": "execute_result"
    },
    {
     "data": {
      "image/png": "[encoded data removed]",
      "text/plain": [
       "<Figure size 432x288 with 1 Axes>"
      ]
     },
     "metadata": {
      "needs_background": "light"
     },
     "output_type": "display_data"
    }
   ],
   "source": [
    "animeji.groupby('sezona').size().sort_values().plot.barh(color='#201ba8')"
   ]
  },
  {
   "cell_type": "markdown",
   "metadata": {},
   "source": [
    "Vidimo, da se je največ animejev začelo **pomladi**, kot smo predpostavili."
   ]
  },
  {
   "cell_type": "code",
   "execution_count": 51,
   "metadata": {},
   "outputs": [
    {
     "data": {
      "text/plain": [
       "<AxesSubplot:ylabel='sezona'>"
      ]
     },
     "execution_count": 51,
     "metadata": {},
     "output_type": "execute_result"
    },
    {
     "data": {
      "image/png": "[encoded data removed]",
      "text/plain": [
       "<Figure size 432x288 with 1 Axes>"
      ]
     },
     "metadata": {
      "needs_background": "light"
     },
     "output_type": "display_data"
    }
   ],
   "source": [
    "najbolj_popularni.groupby('sezona').size().sort_values().plot.barh(color='#201ba8')"
   ]
  },
  {
   "cell_type": "markdown",
   "metadata": {},
   "source": [
    "Vidimo, da se je največ najbolj popularnih animejev začelo **pomladi**."
   ]
  },
  {
   "cell_type": "code",
   "execution_count": 52,
   "metadata": {},
   "outputs": [
    {
     "data": {
      "text/plain": [
       "<AxesSubplot:ylabel='sezona'>"
      ]
     },
     "execution_count": 52,
     "metadata": {},
     "output_type": "execute_result"
    },
    {
     "data": {
      "image/png": "[encoded data removed]",
      "text/plain": [
       "<Figure size 432x288 with 1 Axes>"
      ]
     },
     "metadata": {
      "needs_background": "light"
     },
     "output_type": "display_data"
    }
   ],
   "source": [
    "najboljsi_animeji.groupby('sezona').size().sort_values().plot.barh(color='#201ba8')"
   ]
  },
  {
   "cell_type": "markdown",
   "metadata": {},
   "source": [
    "Tukaj je rezultat podoben. Največ najboljših animejev se je začelo **pomladi** in **jeseni**."
   ]
  },
  {
   "cell_type": "code",
   "execution_count": 53,
   "metadata": {},
   "outputs": [
    {
     "data": {
      "text/plain": [
       "<AxesSubplot:ylabel='sezona'>"
      ]
     },
     "execution_count": 53,
     "metadata": {},
     "output_type": "execute_result"
    },
    {
     "data": {
      "image/png": "[encoded data removed]",
      "text/plain": [
       "<Figure size 432x288 with 1 Axes>"
      ]
     },
     "metadata": {
      "needs_background": "light"
     },
     "output_type": "display_data"
    }
   ],
   "source": [
    "animeji.groupby('sezona').mean()['stevilo_clenov'].sort_values().plot.barh(color='#201ba8')"
   ]
  },
  {
   "cell_type": "markdown",
   "metadata": {},
   "source": [
    "Po povprečnem številu členov vidimo, da je najbolj popularna sezona **poletje**, kar se ujema z našo predpostavko."
   ]
  },
  {
   "cell_type": "code",
   "execution_count": 54,
   "metadata": {},
   "outputs": [
    {
     "data": {
      "text/plain": [
       "<AxesSubplot:ylabel='sezona'>"
      ]
     },
     "execution_count": 54,
     "metadata": {},
     "output_type": "execute_result"
    },
    {
     "data": {
      "image/png": "[encoded data removed]",
      "text/plain": [
       "<Figure size 432x288 with 1 Axes>"
      ]
     },
     "metadata": {
      "needs_background": "light"
     },
     "output_type": "display_data"
    }
   ],
   "source": [
    "animeji.groupby('sezona').mean()['nova ocena'].sort_values().plot.barh(color='#201ba8')"
   ]
  },
  {
   "cell_type": "markdown",
   "metadata": {},
   "source": [
    "Vidimo, da animeji, ki so izišli **poleti**, imajo največjo povprečno oceno, kar se ne ujema z predpostavko, da je najboljša sezona pomlad.\n",
    "***"
   ]
  },
  {
   "cell_type": "markdown",
   "metadata": {},
   "source": [
    "## Oznaka"
   ]
  },
  {
   "cell_type": "markdown",
   "metadata": {},
   "source": [
    "Zdaj želimo videti, animeji s katero oznak so najpogostejši. Najprej, pojasnimo oznake.\n",
    "* **G** - lahko gledajo ljudje vseh starosti\n",
    "* **PG** - primerno za otroke\n",
    "* **PG-13** - primerno za starejše od 13 let\n",
    "* **R** - vsebuje nasilje in grde besede\n",
    "* **R+** - vsebuje blago goloto"
   ]
  },
  {
   "cell_type": "code",
   "execution_count": 55,
   "metadata": {},
   "outputs": [
    {
     "data": {
      "text/plain": [
       "<AxesSubplot:ylabel='oznaka'>"
      ]
     },
     "execution_count": 55,
     "metadata": {},
     "output_type": "execute_result"
    },
    {
     "data": {
      "image/png": "[encoded data removed]",
      "text/plain": [
       "<Figure size 432x288 with 1 Axes>"
      ]
     },
     "metadata": {
      "needs_background": "light"
     },
     "output_type": "display_data"
    }
   ],
   "source": [
    "animeji.groupby('oznaka').size().sort_values().plot.barh(color='#201ba8')"
   ]
  },
  {
   "cell_type": "markdown",
   "metadata": {},
   "source": [
    "Tukaj vidimo, da je največ animejev ima oznako **PG-13**, kot smo predpostavili."
   ]
  },
  {
   "cell_type": "code",
   "execution_count": 56,
   "metadata": {},
   "outputs": [
    {
     "data": {
      "text/plain": [
       "<AxesSubplot:ylabel='oznaka'>"
      ]
     },
     "execution_count": 56,
     "metadata": {},
     "output_type": "execute_result"
    },
    {
     "data": {
      "image/png": "[encoded data removed]",
      "text/plain": [
       "<Figure size 432x288 with 1 Axes>"
      ]
     },
     "metadata": {
      "needs_background": "light"
     },
     "output_type": "display_data"
    }
   ],
   "source": [
    "najbolj_popularni.groupby('oznaka').size().sort_values().plot.barh(color='#201ba8')"
   ]
  },
  {
   "cell_type": "markdown",
   "metadata": {},
   "source": [
    "Vidimo, da izmed najbolj popularnjih animejev nima animejih za otroke in tistih za vse. To ni presenetljivo, ker so uporabniki spletne strani MyAnimeList v splošnem med 15 in 30 let stari."
   ]
  },
  {
   "cell_type": "code",
   "execution_count": 57,
   "metadata": {},
   "outputs": [
    {
     "data": {
      "text/plain": [
       "<AxesSubplot:ylabel='None'>"
      ]
     },
     "execution_count": 57,
     "metadata": {},
     "output_type": "execute_result"
    },
    {
     "data": {
      "image/png": "[encoded data removed]",
      "text/plain": [
       "<Figure size 432x288 with 1 Axes>"
      ]
     },
     "metadata": {},
     "output_type": "display_data"
    }
   ],
   "source": [
    "najboljsi_animeji.groupby('oznaka').size().plot.pie()"
   ]
  },
  {
   "cell_type": "markdown",
   "metadata": {},
   "source": [
    "Z ocenami je situcija podobna kot s popularnostjo. Torej, lahko ugotovimo, da *sta popularnost in ocena animeja odvisni od oznake*."
   ]
  },
  {
   "cell_type": "code",
   "execution_count": 58,
   "metadata": {},
   "outputs": [
    {
     "data": {
      "text/plain": [
       "<AxesSubplot:ylabel='oznaka'>"
      ]
     },
     "execution_count": 58,
     "metadata": {},
     "output_type": "execute_result"
    },
    {
     "data": {
      "image/png": "[encoded data removed]",
      "text/plain": [
       "<Figure size 432x288 with 1 Axes>"
      ]
     },
     "metadata": {
      "needs_background": "light"
     },
     "output_type": "display_data"
    }
   ],
   "source": [
    "animeji.groupby('oznaka').mean()['stevilo_clenov'].sort_values().plot.barh(color='#201ba8')"
   ]
  },
  {
   "cell_type": "markdown",
   "metadata": {},
   "source": [
    "Presenetljivo, največjo povprečno oceno imajo animeji z oznako **R**. Naša predpostavka je bila, da animeji z oznako PG-13 imajo največjo povprečno oceno."
   ]
  },
  {
   "cell_type": "code",
   "execution_count": 59,
   "metadata": {},
   "outputs": [
    {
     "data": {
      "text/plain": [
       "<AxesSubplot:ylabel='oznaka'>"
      ]
     },
     "execution_count": 59,
     "metadata": {},
     "output_type": "execute_result"
    },
    {
     "data": {
      "image/png": "[encoded data removed]",
      "text/plain": [
       "<Figure size 432x288 with 1 Axes>"
      ]
     },
     "metadata": {
      "needs_background": "light"
     },
     "output_type": "display_data"
    }
   ],
   "source": [
    "animeji.groupby('oznaka').mean()['nova ocena'].sort_values().plot.barh(color='#201ba8')"
   ]
  },
  {
   "cell_type": "markdown",
   "metadata": {},
   "source": [
    "Rezultat, ki se tudi ne ujema z našo predpostavko, da je oznaka z največjo povprečno oceno PG-13. Tukaj vidimo, da največjo oceno ima oznaka **R**."
   ]
  },
  {
   "cell_type": "markdown",
   "metadata": {},
   "source": [
    "Da bi razbili monotonost naše analize, lahko se malo ukvarjamo z verjetnostjo. Bomo pogledali, ali lahko povemo katere je oznake anime iz njegovega naslova in opisa.<br>\n",
    "Najprej definirajmo nekaj pomožnih funkcij."
   ]
  },
  {
   "cell_type": "code",
   "execution_count": 60,
   "metadata": {},
   "outputs": [],
   "source": [
    "# definiramo funkcijo, ki iz besede izpiše koren besede\n",
    "def koren_besede(beseda):\n",
    "    beseda = ''.join(z for z in beseda if z.isalpha())\n",
    "    if not beseda:\n",
    "        return '/'\n",
    "    return beseda.rstrip('ds').rstrip('aeiou')"
   ]
  },
  {
   "cell_type": "code",
   "execution_count": 61,
   "metadata": {},
   "outputs": [],
   "source": [
    "# definiramo funkcijo, ki iz niza besed naredi seznam korenov besed\n",
    "def koreni_besed(niz):\n",
    "    return pd.Series(sorted({koren_besede(beseda) for beseda in niz.replace('-', ' ').lower().split()}))"
   ]
  },
  {
   "cell_type": "code",
   "execution_count": 62,
   "metadata": {},
   "outputs": [],
   "source": [
    "st_po_oznaki = animeji.groupby('oznaka').size()"
   ]
  },
  {
   "cell_type": "code",
   "execution_count": 63,
   "metadata": {},
   "outputs": [],
   "source": [
    "st_po_oznaki = animeji.groupby('oznaka').size()\n",
    "st_animejih = len(animeji)\n",
    "verjetnost_oznake = st_po_oznaki / st_animejih"
   ]
  },
  {
   "cell_type": "code",
   "execution_count": 64,
   "metadata": {},
   "outputs": [
    {
     "data": {
      "text/plain": [
       "oznaka\n",
       "PG-13    0.479525\n",
       "G        0.248953\n",
       "PG       0.128897\n",
       "R        0.097953\n",
       "R+       0.021638\n",
       "dtype: float64"
      ]
     },
     "execution_count": 64,
     "metadata": {},
     "output_type": "execute_result"
    }
   ],
   "source": [
    "verjetnost_oznake.sort_values(ascending=False)"
   ]
  },
  {
   "cell_type": "code",
   "execution_count": 65,
   "metadata": {},
   "outputs": [],
   "source": [
    "# na naslovima animejev uporabimo funkcijo 'koreni_besed'\n",
    "koreni_naslova = animeji.naslov.apply(koreni_besed)\n",
    "\n",
    "# združimo korene besed glede na anime, v katerem se pojavijo\n",
    "koreni_in_animeji_n = koreni_naslova.stack().reset_index()[['id', 0]].rename(columns={'id': 'anime', 0: 'koren'})\n",
    "\n",
    "# prejšnji tabeli združimo oznake animejev\n",
    "koreni_in_oznake_n = pd.merge(koreni_in_animeji_n, animeji['oznaka'], left_on='anime', right_on='id')\n",
    "\n",
    "# preštejemo korene pri eni oznaki\n",
    "st_korenov_pri_oznaki_n = pd.crosstab(koreni_in_oznake_n.koren, koreni_in_oznake_n.oznaka)\n",
    "\n",
    "# definiramo verjetnost, da se nek koren pojavi ob neki oznaki\n",
    "verjetnost_korena_no = (st_korenov_pri_oznaki_n + 0.1) / st_animejih"
   ]
  },
  {
   "cell_type": "code",
   "execution_count": 66,
   "metadata": {},
   "outputs": [],
   "source": [
    "def verjetnost_no(niz):\n",
    "    return verjetnost_korena_no[verjetnost_korena_no.index.isin(koreni_besed(niz))].prod() * verjetnost_oznake\n",
    "\n",
    "verjetnosti_naslova_in_oznake = pd.merge(animeji.naslov.apply(verjetnost_no), animeji['naslov'], left_on='id', right_on='id')"
   ]
  },
  {
   "cell_type": "code",
   "execution_count": 67,
   "metadata": {},
   "outputs": [
    {
     "data": {
      "text/html": [
       "<div>\n",
       "<style scoped>\n",
       "    .dataframe tbody tr th:only-of-type {\n",
       "        vertical-align: middle;\n",
       "    }\n",
       "\n",
       "    .dataframe tbody tr th {\n",
       "        vertical-align: top;\n",
       "    }\n",
       "\n",
       "    .dataframe thead th {\n",
       "        text-align: right;\n",
       "    }\n",
       "</style>\n",
       "<table border=\"1\" class=\"dataframe\">\n",
       "  <thead>\n",
       "    <tr style=\"text-align: right;\">\n",
       "      <th></th>\n",
       "      <th>G</th>\n",
       "      <th>PG</th>\n",
       "      <th>PG-13</th>\n",
       "      <th>R</th>\n",
       "      <th>R+</th>\n",
       "      <th>naslov</th>\n",
       "    </tr>\n",
       "    <tr>\n",
       "      <th>id</th>\n",
       "      <th></th>\n",
       "      <th></th>\n",
       "      <th></th>\n",
       "      <th></th>\n",
       "      <th></th>\n",
       "      <th></th>\n",
       "    </tr>\n",
       "  </thead>\n",
       "  <tbody>\n",
       "    <tr>\n",
       "      <th>1535</th>\n",
       "      <td>1.347673e-10</td>\n",
       "      <td>8.442983e-09</td>\n",
       "      <td>5.996402e-08</td>\n",
       "      <td>2.338414e-08</td>\n",
       "      <td>1.171342e-11</td>\n",
       "      <td>Death Note</td>\n",
       "    </tr>\n",
       "    <tr>\n",
       "      <th>16498</th>\n",
       "      <td>3.009563e-10</td>\n",
       "      <td>1.446511e-12</td>\n",
       "      <td>9.290510e-09</td>\n",
       "      <td>3.212039e-09</td>\n",
       "      <td>5.477891e-14</td>\n",
       "      <td>Shingeki no Kyojin</td>\n",
       "    </tr>\n",
       "    <tr>\n",
       "      <th>5114</th>\n",
       "      <td>3.135582e-15</td>\n",
       "      <td>1.623469e-15</td>\n",
       "      <td>1.395161e-12</td>\n",
       "      <td>1.642081e-12</td>\n",
       "      <td>2.725319e-16</td>\n",
       "      <td>Fullmetal Alchemist: Brotherhood</td>\n",
       "    </tr>\n",
       "    <tr>\n",
       "      <th>11757</th>\n",
       "      <td>3.449140e-14</td>\n",
       "      <td>3.409286e-14</td>\n",
       "      <td>9.582582e-10</td>\n",
       "      <td>3.675374e-11</td>\n",
       "      <td>2.725319e-16</td>\n",
       "      <td>Sword Art Online</td>\n",
       "    </tr>\n",
       "    <tr>\n",
       "      <th>30276</th>\n",
       "      <td>2.245390e-11</td>\n",
       "      <td>1.537588e-11</td>\n",
       "      <td>4.457872e-11</td>\n",
       "      <td>4.355153e-11</td>\n",
       "      <td>2.725319e-16</td>\n",
       "      <td>One Punch Man</td>\n",
       "    </tr>\n",
       "    <tr>\n",
       "      <th>...</th>\n",
       "      <td>...</td>\n",
       "      <td>...</td>\n",
       "      <td>...</td>\n",
       "      <td>...</td>\n",
       "      <td>...</td>\n",
       "      <td>...</td>\n",
       "    </tr>\n",
       "    <tr>\n",
       "      <th>42264</th>\n",
       "      <td>2.723513e-22</td>\n",
       "      <td>1.473152e-18</td>\n",
       "      <td>1.189049e-24</td>\n",
       "      <td>3.589461e-27</td>\n",
       "      <td>2.437117e-28</td>\n",
       "      <td>Konglong Baobei Zhi Longshen Yongshi 3</td>\n",
       "    </tr>\n",
       "    <tr>\n",
       "      <th>42263</th>\n",
       "      <td>2.723513e-22</td>\n",
       "      <td>1.473152e-18</td>\n",
       "      <td>1.189049e-24</td>\n",
       "      <td>3.589461e-27</td>\n",
       "      <td>2.437117e-28</td>\n",
       "      <td>Konglong Baobei Zhi Longshen Yongshi 2</td>\n",
       "    </tr>\n",
       "    <tr>\n",
       "      <th>42765</th>\n",
       "      <td>6.591965e-10</td>\n",
       "      <td>2.537012e-10</td>\n",
       "      <td>1.559500e-10</td>\n",
       "      <td>3.824531e-14</td>\n",
       "      <td>2.725319e-16</td>\n",
       "      <td>Ji Jia Shou Shen</td>\n",
       "    </tr>\n",
       "    <tr>\n",
       "      <th>42766</th>\n",
       "      <td>3.266331e-13</td>\n",
       "      <td>2.826698e-14</td>\n",
       "      <td>2.974243e-13</td>\n",
       "      <td>5.625182e-18</td>\n",
       "      <td>6.227301e-22</td>\n",
       "      <td>Ji Jia Shou Shen 2nd Season</td>\n",
       "    </tr>\n",
       "    <tr>\n",
       "      <th>42852</th>\n",
       "      <td>4.675152e-12</td>\n",
       "      <td>1.785816e-14</td>\n",
       "      <td>2.265476e-11</td>\n",
       "      <td>1.233720e-15</td>\n",
       "      <td>2.725319e-16</td>\n",
       "      <td>Little Village People</td>\n",
       "    </tr>\n",
       "  </tbody>\n",
       "</table>\n",
       "<p>4298 rows × 6 columns</p>\n",
       "</div>"
      ],
      "text/plain": [
       "                  G            PG         PG-13             R            R+  \\\n",
       "id                                                                            \n",
       "1535   1.347673e-10  8.442983e-09  5.996402e-08  2.338414e-08  1.171342e-11   \n",
       "16498  3.009563e-10  1.446511e-12  9.290510e-09  3.212039e-09  5.477891e-14   \n",
       "5114   3.135582e-15  1.623469e-15  1.395161e-12  1.642081e-12  2.725319e-16   \n",
       "11757  3.449140e-14  3.409286e-14  9.582582e-10  3.675374e-11  2.725319e-16   \n",
       "30276  2.245390e-11  1.537588e-11  4.457872e-11  4.355153e-11  2.725319e-16   \n",
       "...             ...           ...           ...           ...           ...   \n",
       "42264  2.723513e-22  1.473152e-18  1.189049e-24  3.589461e-27  2.437117e-28   \n",
       "42263  2.723513e-22  1.473152e-18  1.189049e-24  3.589461e-27  2.437117e-28   \n",
       "42765  6.591965e-10  2.537012e-10  1.559500e-10  3.824531e-14  2.725319e-16   \n",
       "42766  3.266331e-13  2.826698e-14  2.974243e-13  5.625182e-18  6.227301e-22   \n",
       "42852  4.675152e-12  1.785816e-14  2.265476e-11  1.233720e-15  2.725319e-16   \n",
       "\n",
       "                                       naslov  \n",
       "id                                             \n",
       "1535                               Death Note  \n",
       "16498                      Shingeki no Kyojin  \n",
       "5114         Fullmetal Alchemist: Brotherhood  \n",
       "11757                        Sword Art Online  \n",
       "30276                           One Punch Man  \n",
       "...                                       ...  \n",
       "42264  Konglong Baobei Zhi Longshen Yongshi 3  \n",
       "42263  Konglong Baobei Zhi Longshen Yongshi 2  \n",
       "42765                        Ji Jia Shou Shen  \n",
       "42766             Ji Jia Shou Shen 2nd Season  \n",
       "42852                   Little Village People  \n",
       "\n",
       "[4298 rows x 6 columns]"
      ]
     },
     "execution_count": 67,
     "metadata": {},
     "output_type": "execute_result"
    }
   ],
   "source": [
    "verjetnosti_naslova_in_oznake"
   ]
  },
  {
   "cell_type": "markdown",
   "metadata": {},
   "source": [
    "V tabeli zgoraj vidimo, verjetnost, da je nek anime z nekatero oznako. Lahko si pogledamo tudi animeje posebej."
   ]
  },
  {
   "cell_type": "code",
   "execution_count": 68,
   "metadata": {},
   "outputs": [
    {
     "data": {
      "text/plain": [
       "id         \n",
       "5114  R        1.642081e-12\n",
       "      PG-13    1.395161e-12\n",
       "      G        3.135582e-15\n",
       "      PG       1.623469e-15\n",
       "      R+       2.725319e-16\n",
       "dtype: float64"
      ]
     },
     "execution_count": 68,
     "metadata": {},
     "output_type": "execute_result"
    }
   ],
   "source": [
    "# Uporabo funkcije 'drop()' sem videla na https://appdividend.com/2020/01/22/python-pandas-how-to-remove-rows-in-dataframe/\n",
    "\n",
    "verjetnosti_naslova_in_oznake[verjetnosti_naslova_in_oznake['naslov'] == 'Fullmetal Alchemist: Brotherhood'].drop(columns='naslov').stack().sort_values(ascending=False)"
   ]
  },
  {
   "cell_type": "code",
   "execution_count": 69,
   "metadata": {},
   "outputs": [
    {
     "data": {
      "text/plain": [
       "id\n",
       "5114    R\n",
       "Name: oznaka, dtype: object"
      ]
     },
     "execution_count": 69,
     "metadata": {},
     "output_type": "execute_result"
    }
   ],
   "source": [
    "animeji[animeji['naslov'] == 'Fullmetal Alchemist: Brotherhood']['oznaka']"
   ]
  },
  {
   "cell_type": "code",
   "execution_count": 70,
   "metadata": {},
   "outputs": [
    {
     "data": {
      "text/plain": [
       "id          \n",
       "24833  PG-13    1.689895e-07\n",
       "       G        1.347673e-10\n",
       "       PG       6.977672e-11\n",
       "       R        5.302527e-11\n",
       "       R+       1.171342e-11\n",
       "dtype: float64"
      ]
     },
     "execution_count": 70,
     "metadata": {},
     "output_type": "execute_result"
    }
   ],
   "source": [
    "verjetnosti_naslova_in_oznake[verjetnosti_naslova_in_oznake['naslov'] == 'Ansatsu Kyoushitsu'].drop(columns='naslov').stack().sort_values(ascending=False)"
   ]
  },
  {
   "cell_type": "code",
   "execution_count": 71,
   "metadata": {},
   "outputs": [
    {
     "data": {
      "text/plain": [
       "id\n",
       "24833    PG-13\n",
       "Name: oznaka, dtype: object"
      ]
     },
     "execution_count": 71,
     "metadata": {},
     "output_type": "execute_result"
    }
   ],
   "source": [
    "animeji[animeji['naslov'] == 'Ansatsu Kyoushitsu']['oznaka']"
   ]
  },
  {
   "cell_type": "markdown",
   "metadata": {},
   "source": [
    "V ta dva primera vidimo, da je verjetnost največja za oznako, katero animeja imata.<br>\n",
    "Torej lahko ugotovimo, da *iz naslova lahko napovemo oznako animeja*, kot smo predpostavili."
   ]
  },
  {
   "cell_type": "markdown",
   "metadata": {},
   "source": [
    "Poglejmo zdaj, kolikšna je verjetnost, da povemo oznako, glede na opis."
   ]
  },
  {
   "cell_type": "code",
   "execution_count": 72,
   "metadata": {},
   "outputs": [],
   "source": [
    "koreni_opisa = animeji.opis.dropna().apply(koreni_besed)\n",
    "koreni_in_animeji_o = koreni_opisa.stack().reset_index()[['id', 0]].rename(columns={'id': 'anime', 0: 'koren'})\n",
    "koreni_in_oznake_o = pd.merge(koreni_in_animeji_o, animeji['oznaka'], left_on='anime', right_on='id')\n",
    "st_korenov_pri_oznaki_o = pd.crosstab(koreni_in_oznake_o.koren, koreni_in_oznake_o.oznaka)\n",
    "verjetnost_korena_oo = (st_korenov_pri_oznaki_o + 0.1) / st_animejih"
   ]
  },
  {
   "cell_type": "code",
   "execution_count": 73,
   "metadata": {},
   "outputs": [],
   "source": [
    "def verjetnost_oo(niz):\n",
    "    return verjetnost_korena_oo[verjetnost_korena_oo.index.isin(koreni_besed(niz))].prod() * verjetnost_oznake\n",
    "\n",
    "verjetnosti_opisa_in_oznake = pd.merge(animeji.naslov.apply(verjetnost_oo), animeji['naslov'], left_on='id', right_on='id')"
   ]
  },
  {
   "cell_type": "code",
   "execution_count": 74,
   "metadata": {},
   "outputs": [
    {
     "data": {
      "text/html": [
       "<div>\n",
       "<style scoped>\n",
       "    .dataframe tbody tr th:only-of-type {\n",
       "        vertical-align: middle;\n",
       "    }\n",
       "\n",
       "    .dataframe tbody tr th {\n",
       "        vertical-align: top;\n",
       "    }\n",
       "\n",
       "    .dataframe thead th {\n",
       "        text-align: right;\n",
       "    }\n",
       "</style>\n",
       "<table border=\"1\" class=\"dataframe\">\n",
       "  <thead>\n",
       "    <tr style=\"text-align: right;\">\n",
       "      <th></th>\n",
       "      <th>G</th>\n",
       "      <th>PG</th>\n",
       "      <th>PG-13</th>\n",
       "      <th>R</th>\n",
       "      <th>R+</th>\n",
       "      <th>naslov</th>\n",
       "    </tr>\n",
       "    <tr>\n",
       "      <th>id</th>\n",
       "      <th></th>\n",
       "      <th></th>\n",
       "      <th></th>\n",
       "      <th></th>\n",
       "      <th></th>\n",
       "      <th></th>\n",
       "    </tr>\n",
       "  </thead>\n",
       "  <tbody>\n",
       "    <tr>\n",
       "      <th>1535</th>\n",
       "      <td>1.450231e-06</td>\n",
       "      <td>1.919557e-07</td>\n",
       "      <td>6.538700e-05</td>\n",
       "      <td>2.094551e-06</td>\n",
       "      <td>2.238435e-08</td>\n",
       "      <td>Death Note</td>\n",
       "    </tr>\n",
       "    <tr>\n",
       "      <th>16498</th>\n",
       "      <td>1.917251e-03</td>\n",
       "      <td>5.128296e-04</td>\n",
       "      <td>1.339949e-02</td>\n",
       "      <td>5.492453e-04</td>\n",
       "      <td>3.574444e-05</td>\n",
       "      <td>Shingeki no Kyojin</td>\n",
       "    </tr>\n",
       "    <tr>\n",
       "      <th>5114</th>\n",
       "      <td>5.792299e-06</td>\n",
       "      <td>2.999003e-06</td>\n",
       "      <td>2.342958e-04</td>\n",
       "      <td>2.279026e-06</td>\n",
       "      <td>5.034428e-07</td>\n",
       "      <td>Fullmetal Alchemist: Brotherhood</td>\n",
       "    </tr>\n",
       "    <tr>\n",
       "      <th>11757</th>\n",
       "      <td>1.555562e-11</td>\n",
       "      <td>1.785816e-14</td>\n",
       "      <td>3.880892e-08</td>\n",
       "      <td>3.394086e-11</td>\n",
       "      <td>6.295486e-14</td>\n",
       "      <td>Sword Art Online</td>\n",
       "    </tr>\n",
       "    <tr>\n",
       "      <th>30276</th>\n",
       "      <td>7.318793e-10</td>\n",
       "      <td>1.522783e-09</td>\n",
       "      <td>3.408494e-07</td>\n",
       "      <td>3.027807e-10</td>\n",
       "      <td>3.488681e-12</td>\n",
       "      <td>One Punch Man</td>\n",
       "    </tr>\n",
       "    <tr>\n",
       "      <th>...</th>\n",
       "      <td>...</td>\n",
       "      <td>...</td>\n",
       "      <td>...</td>\n",
       "      <td>...</td>\n",
       "      <td>...</td>\n",
       "      <td>...</td>\n",
       "    </tr>\n",
       "    <tr>\n",
       "      <th>42264</th>\n",
       "      <td>5.351744e-06</td>\n",
       "      <td>3.914474e-08</td>\n",
       "      <td>7.284201e-06</td>\n",
       "      <td>4.380417e-07</td>\n",
       "      <td>1.651592e-09</td>\n",
       "      <td>Konglong Baobei Zhi Longshen Yongshi 3</td>\n",
       "    </tr>\n",
       "    <tr>\n",
       "      <th>42263</th>\n",
       "      <td>5.351744e-06</td>\n",
       "      <td>3.914474e-08</td>\n",
       "      <td>7.284201e-06</td>\n",
       "      <td>4.380417e-07</td>\n",
       "      <td>1.651592e-09</td>\n",
       "      <td>Konglong Baobei Zhi Longshen Yongshi 2</td>\n",
       "    </tr>\n",
       "    <tr>\n",
       "      <th>42765</th>\n",
       "      <td>1.131115e-05</td>\n",
       "      <td>6.608553e-07</td>\n",
       "      <td>8.934405e-05</td>\n",
       "      <td>1.872322e-07</td>\n",
       "      <td>9.487870e-10</td>\n",
       "      <td>Ji Jia Shou Shen</td>\n",
       "    </tr>\n",
       "    <tr>\n",
       "      <th>42766</th>\n",
       "      <td>5.087165e-10</td>\n",
       "      <td>6.178614e-12</td>\n",
       "      <td>1.399887e-08</td>\n",
       "      <td>5.129607e-13</td>\n",
       "      <td>3.646651e-17</td>\n",
       "      <td>Ji Jia Shou Shen 2nd Season</td>\n",
       "    </tr>\n",
       "    <tr>\n",
       "      <th>42852</th>\n",
       "      <td>6.509462e-08</td>\n",
       "      <td>2.033787e-09</td>\n",
       "      <td>3.419012e-07</td>\n",
       "      <td>6.449898e-10</td>\n",
       "      <td>3.840247e-12</td>\n",
       "      <td>Little Village People</td>\n",
       "    </tr>\n",
       "  </tbody>\n",
       "</table>\n",
       "<p>4298 rows × 6 columns</p>\n",
       "</div>"
      ],
      "text/plain": [
       "                  G            PG         PG-13             R            R+  \\\n",
       "id                                                                            \n",
       "1535   1.450231e-06  1.919557e-07  6.538700e-05  2.094551e-06  2.238435e-08   \n",
       "16498  1.917251e-03  5.128296e-04  1.339949e-02  5.492453e-04  3.574444e-05   \n",
       "5114   5.792299e-06  2.999003e-06  2.342958e-04  2.279026e-06  5.034428e-07   \n",
       "11757  1.555562e-11  1.785816e-14  3.880892e-08  3.394086e-11  6.295486e-14   \n",
       "30276  7.318793e-10  1.522783e-09  3.408494e-07  3.027807e-10  3.488681e-12   \n",
       "...             ...           ...           ...           ...           ...   \n",
       "42264  5.351744e-06  3.914474e-08  7.284201e-06  4.380417e-07  1.651592e-09   \n",
       "42263  5.351744e-06  3.914474e-08  7.284201e-06  4.380417e-07  1.651592e-09   \n",
       "42765  1.131115e-05  6.608553e-07  8.934405e-05  1.872322e-07  9.487870e-10   \n",
       "42766  5.087165e-10  6.178614e-12  1.399887e-08  5.129607e-13  3.646651e-17   \n",
       "42852  6.509462e-08  2.033787e-09  3.419012e-07  6.449898e-10  3.840247e-12   \n",
       "\n",
       "                                       naslov  \n",
       "id                                             \n",
       "1535                               Death Note  \n",
       "16498                      Shingeki no Kyojin  \n",
       "5114         Fullmetal Alchemist: Brotherhood  \n",
       "11757                        Sword Art Online  \n",
       "30276                           One Punch Man  \n",
       "...                                       ...  \n",
       "42264  Konglong Baobei Zhi Longshen Yongshi 3  \n",
       "42263  Konglong Baobei Zhi Longshen Yongshi 2  \n",
       "42765                        Ji Jia Shou Shen  \n",
       "42766             Ji Jia Shou Shen 2nd Season  \n",
       "42852                   Little Village People  \n",
       "\n",
       "[4298 rows x 6 columns]"
      ]
     },
     "execution_count": 74,
     "metadata": {},
     "output_type": "execute_result"
    }
   ],
   "source": [
    "verjetnosti_opisa_in_oznake"
   ]
  },
  {
   "cell_type": "markdown",
   "metadata": {},
   "source": [
    "Zdaj imamo še tabelo verjetnosti v odvisnosti od opisa animeja. Preverimo, ali se verjetnosti ujemajo z oznakami."
   ]
  },
  {
   "cell_type": "code",
   "execution_count": 75,
   "metadata": {},
   "outputs": [
    {
     "data": {
      "text/plain": [
       "id          \n",
       "24833  PG-13    0.479525\n",
       "       G        0.248953\n",
       "       PG       0.128897\n",
       "       R        0.097953\n",
       "       R+       0.021638\n",
       "dtype: float64"
      ]
     },
     "execution_count": 75,
     "metadata": {},
     "output_type": "execute_result"
    }
   ],
   "source": [
    "verjetnosti_opisa_in_oznake[verjetnosti_naslova_in_oznake['naslov'] == 'Ansatsu Kyoushitsu'].drop(columns='naslov').stack().sort_values(ascending=False)"
   ]
  },
  {
   "cell_type": "code",
   "execution_count": 76,
   "metadata": {},
   "outputs": [
    {
     "data": {
      "text/plain": [
       "id         \n",
       "5114  R        1.642081e-12\n",
       "      PG-13    1.395161e-12\n",
       "      G        3.135582e-15\n",
       "      PG       1.623469e-15\n",
       "      R+       2.725319e-16\n",
       "dtype: float64"
      ]
     },
     "execution_count": 76,
     "metadata": {},
     "output_type": "execute_result"
    }
   ],
   "source": [
    "verjetnosti_naslova_in_oznake[verjetnosti_naslova_in_oznake['naslov'] == 'Fullmetal Alchemist: Brotherhood'].drop(columns='naslov').stack().sort_values(ascending=False)"
   ]
  },
  {
   "cell_type": "markdown",
   "metadata": {},
   "source": [
    "Vidimo, da se verjetnosti ujemata z oznakami. Torej kot smo predpostavili, *lahko napovemo oznako animeja iz njegovega opisa*.\n",
    "\n",
    "***"
   ]
  },
  {
   "cell_type": "markdown",
   "metadata": {},
   "source": [
    "## Žanri"
   ]
  },
  {
   "cell_type": "markdown",
   "metadata": {},
   "source": [
    "Poglejmo zdaj, koliko so popularni žanri. Najprej moramo povezati žanre z animeji in izločiti pomembne podatke."
   ]
  },
  {
   "cell_type": "code",
   "execution_count": 77,
   "metadata": {},
   "outputs": [],
   "source": [
    "animeji_in_zanri = pd.merge(animeji, zanri, left_on='id', right_on='anime')[['naslov', 'stevilo_clenov', 'nova ocena', 'anime', 'zanr', 'opis']]"
   ]
  },
  {
   "cell_type": "code",
   "execution_count": 78,
   "metadata": {},
   "outputs": [
    {
     "data": {
      "text/plain": [
       "zanr\n",
       "Comedy       1986\n",
       "Action       1231\n",
       "Adventure    1070\n",
       "Fantasy       881\n",
       "Sci-Fi        846\n",
       "dtype: int64"
      ]
     },
     "execution_count": 78,
     "metadata": {},
     "output_type": "execute_result"
    }
   ],
   "source": [
    "animeji_in_zanri.groupby('zanr').size().sort_values(ascending=False).head(5)"
   ]
  },
  {
   "cell_type": "markdown",
   "metadata": {},
   "source": [
    "Vidimo, da je največ **komedij**, kar se ne ujema z našo oceno, da je najpogostejši žanr akcija."
   ]
  },
  {
   "cell_type": "code",
   "execution_count": 79,
   "metadata": {},
   "outputs": [
    {
     "data": {
      "text/plain": [
       "zanr\n",
       "Action          38\n",
       "Comedy          23\n",
       "Shounen         23\n",
       "Supernatural    22\n",
       "Drama           21\n",
       "dtype: int64"
      ]
     },
     "execution_count": 79,
     "metadata": {},
     "output_type": "execute_result"
    }
   ],
   "source": [
    "animeji_in_zanri[animeji_in_zanri['stevilo_clenov'] >= 1000000].groupby('zanr').size().sort_values(ascending=False).head(5)"
   ]
  },
  {
   "cell_type": "markdown",
   "metadata": {},
   "source": [
    "Vidimo, da je med najbolj popularnih animejev največ akcijskih animejev, komedij, potem pa *shonen*, animejih za fante."
   ]
  },
  {
   "cell_type": "code",
   "execution_count": 80,
   "metadata": {},
   "outputs": [
    {
     "data": {
      "text/plain": [
       "zanr\n",
       "Action          29\n",
       "Drama           26\n",
       "Comedy          25\n",
       "Shounen         22\n",
       "Supernatural    16\n",
       "dtype: int64"
      ]
     },
     "execution_count": 80,
     "metadata": {},
     "output_type": "execute_result"
    }
   ],
   "source": [
    "animeji_in_zanri[(animeji_in_zanri['nova ocena'] > 8) & (animeji_in_zanri['stevilo_clenov'] > 800000)].groupby('zanr').size().sort_values(ascending=False).head(5)"
   ]
  },
  {
   "cell_type": "markdown",
   "metadata": {},
   "source": [
    "Ko pogledamo najboljše animeje, vidimo pa, da je največ akcijskih, potem dramskih in potem komedij. Torej ni pomembno, kateri se animeji več dela, kot je pomembno, kaj ljudje želijo gledati."
   ]
  },
  {
   "cell_type": "code",
   "execution_count": 81,
   "metadata": {},
   "outputs": [
    {
     "data": {
      "text/plain": [
       "zanr\n",
       "Thriller         435606.0\n",
       "Psychological    324964.0\n",
       "Vampire          228673.0\n",
       "Supernatural     220866.0\n",
       "Super Power      218001.0\n",
       "Name: stevilo_clenov, dtype: float64"
      ]
     },
     "execution_count": 81,
     "metadata": {},
     "output_type": "execute_result"
    }
   ],
   "source": [
    "round(animeji_in_zanri.groupby('zanr').mean(), 0)['stevilo_clenov'].sort_values(ascending=False).head(5)"
   ]
  },
  {
   "cell_type": "markdown",
   "metadata": {},
   "source": [
    "Mislili smo, da je žanr z največjim povprečnim številom členov akcija, ampak je to **triler**."
   ]
  },
  {
   "cell_type": "code",
   "execution_count": 82,
   "metadata": {},
   "outputs": [
    {
     "data": {
      "text/plain": [
       "zanr\n",
       "Thriller         4.74\n",
       "Psychological    4.09\n",
       "Vampire          3.08\n",
       "Mystery          2.97\n",
       "Dementia         2.94\n",
       "Name: nova ocena, dtype: float64"
      ]
     },
     "execution_count": 82,
     "metadata": {},
     "output_type": "execute_result"
    }
   ],
   "source": [
    "round(animeji_in_zanri.groupby('zanr').mean(), 2)['nova ocena'].sort_values(ascending=False).head(5)"
   ]
  },
  {
   "cell_type": "markdown",
   "metadata": {},
   "source": [
    "Z oceno je situacija podobna. Mislili smo, da največjo povprečno oceno imajo **akcijski animeji**, ampak jo imajo animeji z žanrom **triler**."
   ]
  },
  {
   "cell_type": "markdown",
   "metadata": {},
   "source": [
    "Lahko ugotovimo, da *sta ocena in popularnost animeja odvisni od žanra*, kot smo predpostavili."
   ]
  },
  {
   "cell_type": "code",
   "execution_count": 83,
   "metadata": {},
   "outputs": [],
   "source": [
    "st_po_zanru = zanri.groupby('zanr').size()"
   ]
  },
  {
   "cell_type": "code",
   "execution_count": 84,
   "metadata": {},
   "outputs": [
    {
     "data": {
      "text/plain": [
       "zanr\n",
       "Comedy       0.462075\n",
       "Action       0.286412\n",
       "Adventure    0.248953\n",
       "Fantasy      0.204979\n",
       "Sci-Fi       0.196836\n",
       "dtype: float64"
      ]
     },
     "execution_count": 84,
     "metadata": {},
     "output_type": "execute_result"
    }
   ],
   "source": [
    "verjetnost_zanra = st_po_zanru / st_animejih\n",
    "verjetnost_zanra.sort_values(ascending=False).head(5)"
   ]
  },
  {
   "cell_type": "code",
   "execution_count": 85,
   "metadata": {},
   "outputs": [],
   "source": [
    "koreni_in_zanri_n = pd.merge(koreni_in_animeji_n, zanri)\n",
    "st_korenov_pri_zanru_n = pd.crosstab(koreni_in_zanri_n.koren, koreni_in_zanri_n.zanr)\n",
    "verjetnost_korena_nz = (st_korenov_pri_zanru_n + 0.1) / st_animejih"
   ]
  },
  {
   "cell_type": "code",
   "execution_count": 86,
   "metadata": {},
   "outputs": [],
   "source": [
    "def verjetnost_nz(niz):\n",
    "    return verjetnost_korena_nz[verjetnost_korena_nz.index.isin(koreni_besed(niz))].prod() * verjetnost_zanra\n",
    "\n",
    "verjetnosti_naslova_in_zanra = pd.merge(animeji.naslov.apply(verjetnost_nz), animeji['naslov'], left_on='id', right_on='id')"
   ]
  },
  {
   "cell_type": "code",
   "execution_count": 87,
   "metadata": {},
   "outputs": [
    {
     "data": {
      "text/html": [
       "<div>\n",
       "<style scoped>\n",
       "    .dataframe tbody tr th:only-of-type {\n",
       "        vertical-align: middle;\n",
       "    }\n",
       "\n",
       "    .dataframe tbody tr th {\n",
       "        vertical-align: top;\n",
       "    }\n",
       "\n",
       "    .dataframe thead th {\n",
       "        text-align: right;\n",
       "    }\n",
       "</style>\n",
       "<table border=\"1\" class=\"dataframe\">\n",
       "  <thead>\n",
       "    <tr style=\"text-align: right;\">\n",
       "      <th></th>\n",
       "      <th>Action</th>\n",
       "      <th>Adventure</th>\n",
       "      <th>Cars</th>\n",
       "      <th>Comedy</th>\n",
       "      <th>Dementia</th>\n",
       "      <th>Demons</th>\n",
       "      <th>Drama</th>\n",
       "      <th>Fantasy</th>\n",
       "      <th>Game</th>\n",
       "      <th>Harem</th>\n",
       "      <th>...</th>\n",
       "      <th>Shoujo</th>\n",
       "      <th>Shounen</th>\n",
       "      <th>Slice of Life</th>\n",
       "      <th>Space</th>\n",
       "      <th>Sports</th>\n",
       "      <th>Super Power</th>\n",
       "      <th>Supernatural</th>\n",
       "      <th>Thriller</th>\n",
       "      <th>Vampire</th>\n",
       "      <th>naslov</th>\n",
       "    </tr>\n",
       "    <tr>\n",
       "      <th>id</th>\n",
       "      <th></th>\n",
       "      <th></th>\n",
       "      <th></th>\n",
       "      <th></th>\n",
       "      <th></th>\n",
       "      <th></th>\n",
       "      <th></th>\n",
       "      <th></th>\n",
       "      <th></th>\n",
       "      <th></th>\n",
       "      <th></th>\n",
       "      <th></th>\n",
       "      <th></th>\n",
       "      <th></th>\n",
       "      <th></th>\n",
       "      <th></th>\n",
       "      <th></th>\n",
       "      <th></th>\n",
       "      <th></th>\n",
       "      <th></th>\n",
       "      <th></th>\n",
       "    </tr>\n",
       "  </thead>\n",
       "  <tbody>\n",
       "    <tr>\n",
       "      <th>1535</th>\n",
       "      <td>1.876049e-08</td>\n",
       "      <td>3.113125e-08</td>\n",
       "      <td>8.564651e-12</td>\n",
       "      <td>3.026672e-08</td>\n",
       "      <td>2.015212e-12</td>\n",
       "      <td>1.775906e-11</td>\n",
       "      <td>1.100054e-09</td>\n",
       "      <td>4.893451e-08</td>\n",
       "      <td>2.286006e-10</td>\n",
       "      <td>1.399313e-10</td>\n",
       "      <td>...</td>\n",
       "      <td>3.665167e-11</td>\n",
       "      <td>2.208282e-08</td>\n",
       "      <td>1.032166e-09</td>\n",
       "      <td>1.801096e-11</td>\n",
       "      <td>3.577001e-11</td>\n",
       "      <td>2.607181e-11</td>\n",
       "      <td>1.379085e-08</td>\n",
       "      <td>1.280163e-09</td>\n",
       "      <td>6.045636e-12</td>\n",
       "      <td>Death Note</td>\n",
       "    </tr>\n",
       "    <tr>\n",
       "      <th>16498</th>\n",
       "      <td>3.155765e-08</td>\n",
       "      <td>1.615957e-09</td>\n",
       "      <td>4.184683e-15</td>\n",
       "      <td>5.190693e-09</td>\n",
       "      <td>5.157592e-16</td>\n",
       "      <td>2.611796e-12</td>\n",
       "      <td>1.409513e-08</td>\n",
       "      <td>1.569672e-08</td>\n",
       "      <td>9.718838e-14</td>\n",
       "      <td>1.009276e-13</td>\n",
       "      <td>...</td>\n",
       "      <td>6.063131e-13</td>\n",
       "      <td>1.045540e-08</td>\n",
       "      <td>3.757262e-12</td>\n",
       "      <td>1.110913e-12</td>\n",
       "      <td>1.395763e-11</td>\n",
       "      <td>6.354721e-10</td>\n",
       "      <td>3.765809e-11</td>\n",
       "      <td>1.818051e-14</td>\n",
       "      <td>9.986975e-15</td>\n",
       "      <td>Shingeki no Kyojin</td>\n",
       "    </tr>\n",
       "    <tr>\n",
       "      <th>5114</th>\n",
       "      <td>2.583248e-11</td>\n",
       "      <td>2.245390e-11</td>\n",
       "      <td>1.992706e-16</td>\n",
       "      <td>2.823221e-11</td>\n",
       "      <td>4.688720e-17</td>\n",
       "      <td>4.131935e-16</td>\n",
       "      <td>1.128720e-11</td>\n",
       "      <td>1.848774e-11</td>\n",
       "      <td>4.835243e-16</td>\n",
       "      <td>2.959755e-16</td>\n",
       "      <td>...</td>\n",
       "      <td>8.527610e-16</td>\n",
       "      <td>1.078965e-11</td>\n",
       "      <td>2.183185e-15</td>\n",
       "      <td>4.190544e-16</td>\n",
       "      <td>8.322479e-16</td>\n",
       "      <td>6.066032e-16</td>\n",
       "      <td>1.389033e-15</td>\n",
       "      <td>1.289398e-16</td>\n",
       "      <td>1.406616e-16</td>\n",
       "      <td>Fullmetal Alchemist: Brotherhood</td>\n",
       "    </tr>\n",
       "    <tr>\n",
       "      <th>11757</th>\n",
       "      <td>1.621992e-09</td>\n",
       "      <td>8.237205e-10</td>\n",
       "      <td>1.992706e-16</td>\n",
       "      <td>6.401862e-14</td>\n",
       "      <td>4.688720e-17</td>\n",
       "      <td>4.131935e-16</td>\n",
       "      <td>5.374856e-13</td>\n",
       "      <td>9.702671e-10</td>\n",
       "      <td>1.696256e-10</td>\n",
       "      <td>2.959755e-16</td>\n",
       "      <td>...</td>\n",
       "      <td>8.527610e-16</td>\n",
       "      <td>4.670845e-14</td>\n",
       "      <td>4.584689e-14</td>\n",
       "      <td>4.609598e-15</td>\n",
       "      <td>8.322479e-16</td>\n",
       "      <td>6.066032e-16</td>\n",
       "      <td>1.389033e-15</td>\n",
       "      <td>1.289398e-16</td>\n",
       "      <td>1.406616e-16</td>\n",
       "      <td>Sword Art Online</td>\n",
       "    </tr>\n",
       "    <tr>\n",
       "      <th>30276</th>\n",
       "      <td>3.137017e-10</td>\n",
       "      <td>4.016680e-12</td>\n",
       "      <td>1.992706e-16</td>\n",
       "      <td>1.594186e-09</td>\n",
       "      <td>4.688720e-17</td>\n",
       "      <td>8.677063e-15</td>\n",
       "      <td>7.213010e-14</td>\n",
       "      <td>1.280795e-11</td>\n",
       "      <td>5.850644e-14</td>\n",
       "      <td>3.255730e-15</td>\n",
       "      <td>...</td>\n",
       "      <td>9.380371e-15</td>\n",
       "      <td>4.650827e-12</td>\n",
       "      <td>1.945218e-12</td>\n",
       "      <td>4.609598e-15</td>\n",
       "      <td>2.579968e-14</td>\n",
       "      <td>1.899335e-11</td>\n",
       "      <td>3.124075e-11</td>\n",
       "      <td>1.289398e-16</td>\n",
       "      <td>1.406616e-16</td>\n",
       "      <td>One Punch Man</td>\n",
       "    </tr>\n",
       "    <tr>\n",
       "      <th>...</th>\n",
       "      <td>...</td>\n",
       "      <td>...</td>\n",
       "      <td>...</td>\n",
       "      <td>...</td>\n",
       "      <td>...</td>\n",
       "      <td>...</td>\n",
       "      <td>...</td>\n",
       "      <td>...</td>\n",
       "      <td>...</td>\n",
       "      <td>...</td>\n",
       "      <td>...</td>\n",
       "      <td>...</td>\n",
       "      <td>...</td>\n",
       "      <td>...</td>\n",
       "      <td>...</td>\n",
       "      <td>...</td>\n",
       "      <td>...</td>\n",
       "      <td>...</td>\n",
       "      <td>...</td>\n",
       "      <td>...</td>\n",
       "      <td>...</td>\n",
       "    </tr>\n",
       "    <tr>\n",
       "      <th>42264</th>\n",
       "      <td>4.777657e-18</td>\n",
       "      <td>3.711479e-18</td>\n",
       "      <td>9.012794e-27</td>\n",
       "      <td>1.953705e-17</td>\n",
       "      <td>3.602342e-29</td>\n",
       "      <td>3.694984e-28</td>\n",
       "      <td>1.526839e-26</td>\n",
       "      <td>9.257927e-25</td>\n",
       "      <td>2.095578e-26</td>\n",
       "      <td>3.019545e-28</td>\n",
       "      <td>...</td>\n",
       "      <td>7.723558e-26</td>\n",
       "      <td>6.174591e-25</td>\n",
       "      <td>1.487609e-26</td>\n",
       "      <td>7.605629e-27</td>\n",
       "      <td>1.448748e-25</td>\n",
       "      <td>2.263344e-24</td>\n",
       "      <td>5.615889e-27</td>\n",
       "      <td>3.410414e-29</td>\n",
       "      <td>1.948808e-29</td>\n",
       "      <td>Konglong Baobei Zhi Longshen Yongshi 3</td>\n",
       "    </tr>\n",
       "    <tr>\n",
       "      <th>42263</th>\n",
       "      <td>4.777657e-18</td>\n",
       "      <td>3.711479e-18</td>\n",
       "      <td>9.012794e-27</td>\n",
       "      <td>1.953705e-17</td>\n",
       "      <td>3.602342e-29</td>\n",
       "      <td>3.694984e-28</td>\n",
       "      <td>1.526839e-26</td>\n",
       "      <td>9.257927e-25</td>\n",
       "      <td>2.095578e-26</td>\n",
       "      <td>3.019545e-28</td>\n",
       "      <td>...</td>\n",
       "      <td>7.723558e-26</td>\n",
       "      <td>6.174591e-25</td>\n",
       "      <td>1.487609e-26</td>\n",
       "      <td>7.605629e-27</td>\n",
       "      <td>1.448748e-25</td>\n",
       "      <td>2.263344e-24</td>\n",
       "      <td>5.615889e-27</td>\n",
       "      <td>3.410414e-29</td>\n",
       "      <td>1.948808e-29</td>\n",
       "      <td>Konglong Baobei Zhi Longshen Yongshi 2</td>\n",
       "    </tr>\n",
       "    <tr>\n",
       "      <th>42765</th>\n",
       "      <td>2.702331e-09</td>\n",
       "      <td>1.658381e-09</td>\n",
       "      <td>2.652292e-13</td>\n",
       "      <td>2.648625e-11</td>\n",
       "      <td>4.688720e-17</td>\n",
       "      <td>1.822183e-13</td>\n",
       "      <td>1.007727e-11</td>\n",
       "      <td>2.553354e-10</td>\n",
       "      <td>1.015401e-14</td>\n",
       "      <td>9.175240e-15</td>\n",
       "      <td>...</td>\n",
       "      <td>1.083859e-12</td>\n",
       "      <td>3.316300e-12</td>\n",
       "      <td>7.250359e-12</td>\n",
       "      <td>4.190544e-16</td>\n",
       "      <td>2.579968e-14</td>\n",
       "      <td>8.292872e-12</td>\n",
       "      <td>1.402924e-13</td>\n",
       "      <td>1.418338e-15</td>\n",
       "      <td>1.406616e-16</td>\n",
       "      <td>Ji Jia Shou Shen</td>\n",
       "    </tr>\n",
       "    <tr>\n",
       "      <th>42766</th>\n",
       "      <td>1.619867e-12</td>\n",
       "      <td>6.429187e-13</td>\n",
       "      <td>6.331799e-20</td>\n",
       "      <td>4.821760e-14</td>\n",
       "      <td>2.791992e-25</td>\n",
       "      <td>2.108065e-18</td>\n",
       "      <td>4.098166e-15</td>\n",
       "      <td>1.246628e-13</td>\n",
       "      <td>5.634703e-20</td>\n",
       "      <td>5.250500e-20</td>\n",
       "      <td>...</td>\n",
       "      <td>4.213384e-17</td>\n",
       "      <td>8.436179e-16</td>\n",
       "      <td>2.438455e-15</td>\n",
       "      <td>3.881620e-21</td>\n",
       "      <td>8.386907e-19</td>\n",
       "      <td>2.946329e-16</td>\n",
       "      <td>2.558987e-17</td>\n",
       "      <td>1.190854e-21</td>\n",
       "      <td>1.135326e-22</td>\n",
       "      <td>Ji Jia Shou Shen 2nd Season</td>\n",
       "    </tr>\n",
       "    <tr>\n",
       "      <th>42852</th>\n",
       "      <td>3.607384e-15</td>\n",
       "      <td>9.720304e-14</td>\n",
       "      <td>1.992706e-16</td>\n",
       "      <td>2.968136e-13</td>\n",
       "      <td>4.688720e-17</td>\n",
       "      <td>4.131935e-16</td>\n",
       "      <td>4.886233e-14</td>\n",
       "      <td>3.123889e-13</td>\n",
       "      <td>4.835243e-16</td>\n",
       "      <td>2.959755e-16</td>\n",
       "      <td>...</td>\n",
       "      <td>8.527610e-16</td>\n",
       "      <td>2.224212e-15</td>\n",
       "      <td>1.224767e-12</td>\n",
       "      <td>4.190544e-16</td>\n",
       "      <td>8.322479e-16</td>\n",
       "      <td>6.066032e-16</td>\n",
       "      <td>2.916970e-14</td>\n",
       "      <td>1.289398e-16</td>\n",
       "      <td>1.406616e-16</td>\n",
       "      <td>Little Village People</td>\n",
       "    </tr>\n",
       "  </tbody>\n",
       "</table>\n",
       "<p>4298 rows × 38 columns</p>\n",
       "</div>"
      ],
      "text/plain": [
       "             Action     Adventure          Cars        Comedy      Dementia  \\\n",
       "id                                                                            \n",
       "1535   1.876049e-08  3.113125e-08  8.564651e-12  3.026672e-08  2.015212e-12   \n",
       "16498  3.155765e-08  1.615957e-09  4.184683e-15  5.190693e-09  5.157592e-16   \n",
       "5114   2.583248e-11  2.245390e-11  1.992706e-16  2.823221e-11  4.688720e-17   \n",
       "11757  1.621992e-09  8.237205e-10  1.992706e-16  6.401862e-14  4.688720e-17   \n",
       "30276  3.137017e-10  4.016680e-12  1.992706e-16  1.594186e-09  4.688720e-17   \n",
       "...             ...           ...           ...           ...           ...   \n",
       "42264  4.777657e-18  3.711479e-18  9.012794e-27  1.953705e-17  3.602342e-29   \n",
       "42263  4.777657e-18  3.711479e-18  9.012794e-27  1.953705e-17  3.602342e-29   \n",
       "42765  2.702331e-09  1.658381e-09  2.652292e-13  2.648625e-11  4.688720e-17   \n",
       "42766  1.619867e-12  6.429187e-13  6.331799e-20  4.821760e-14  2.791992e-25   \n",
       "42852  3.607384e-15  9.720304e-14  1.992706e-16  2.968136e-13  4.688720e-17   \n",
       "\n",
       "             Demons         Drama       Fantasy          Game         Harem  \\\n",
       "id                                                                            \n",
       "1535   1.775906e-11  1.100054e-09  4.893451e-08  2.286006e-10  1.399313e-10   \n",
       "16498  2.611796e-12  1.409513e-08  1.569672e-08  9.718838e-14  1.009276e-13   \n",
       "5114   4.131935e-16  1.128720e-11  1.848774e-11  4.835243e-16  2.959755e-16   \n",
       "11757  4.131935e-16  5.374856e-13  9.702671e-10  1.696256e-10  2.959755e-16   \n",
       "30276  8.677063e-15  7.213010e-14  1.280795e-11  5.850644e-14  3.255730e-15   \n",
       "...             ...           ...           ...           ...           ...   \n",
       "42264  3.694984e-28  1.526839e-26  9.257927e-25  2.095578e-26  3.019545e-28   \n",
       "42263  3.694984e-28  1.526839e-26  9.257927e-25  2.095578e-26  3.019545e-28   \n",
       "42765  1.822183e-13  1.007727e-11  2.553354e-10  1.015401e-14  9.175240e-15   \n",
       "42766  2.108065e-18  4.098166e-15  1.246628e-13  5.634703e-20  5.250500e-20   \n",
       "42852  4.131935e-16  4.886233e-14  3.123889e-13  4.835243e-16  2.959755e-16   \n",
       "\n",
       "       ...        Shoujo       Shounen  Slice of Life         Space  \\\n",
       "id     ...                                                            \n",
       "1535   ...  3.665167e-11  2.208282e-08   1.032166e-09  1.801096e-11   \n",
       "16498  ...  6.063131e-13  1.045540e-08   3.757262e-12  1.110913e-12   \n",
       "5114   ...  8.527610e-16  1.078965e-11   2.183185e-15  4.190544e-16   \n",
       "11757  ...  8.527610e-16  4.670845e-14   4.584689e-14  4.609598e-15   \n",
       "30276  ...  9.380371e-15  4.650827e-12   1.945218e-12  4.609598e-15   \n",
       "...    ...           ...           ...            ...           ...   \n",
       "42264  ...  7.723558e-26  6.174591e-25   1.487609e-26  7.605629e-27   \n",
       "42263  ...  7.723558e-26  6.174591e-25   1.487609e-26  7.605629e-27   \n",
       "42765  ...  1.083859e-12  3.316300e-12   7.250359e-12  4.190544e-16   \n",
       "42766  ...  4.213384e-17  8.436179e-16   2.438455e-15  3.881620e-21   \n",
       "42852  ...  8.527610e-16  2.224212e-15   1.224767e-12  4.190544e-16   \n",
       "\n",
       "             Sports   Super Power  Supernatural      Thriller       Vampire  \\\n",
       "id                                                                            \n",
       "1535   3.577001e-11  2.607181e-11  1.379085e-08  1.280163e-09  6.045636e-12   \n",
       "16498  1.395763e-11  6.354721e-10  3.765809e-11  1.818051e-14  9.986975e-15   \n",
       "5114   8.322479e-16  6.066032e-16  1.389033e-15  1.289398e-16  1.406616e-16   \n",
       "11757  8.322479e-16  6.066032e-16  1.389033e-15  1.289398e-16  1.406616e-16   \n",
       "30276  2.579968e-14  1.899335e-11  3.124075e-11  1.289398e-16  1.406616e-16   \n",
       "...             ...           ...           ...           ...           ...   \n",
       "42264  1.448748e-25  2.263344e-24  5.615889e-27  3.410414e-29  1.948808e-29   \n",
       "42263  1.448748e-25  2.263344e-24  5.615889e-27  3.410414e-29  1.948808e-29   \n",
       "42765  2.579968e-14  8.292872e-12  1.402924e-13  1.418338e-15  1.406616e-16   \n",
       "42766  8.386907e-19  2.946329e-16  2.558987e-17  1.190854e-21  1.135326e-22   \n",
       "42852  8.322479e-16  6.066032e-16  2.916970e-14  1.289398e-16  1.406616e-16   \n",
       "\n",
       "                                       naslov  \n",
       "id                                             \n",
       "1535                               Death Note  \n",
       "16498                      Shingeki no Kyojin  \n",
       "5114         Fullmetal Alchemist: Brotherhood  \n",
       "11757                        Sword Art Online  \n",
       "30276                           One Punch Man  \n",
       "...                                       ...  \n",
       "42264  Konglong Baobei Zhi Longshen Yongshi 3  \n",
       "42263  Konglong Baobei Zhi Longshen Yongshi 2  \n",
       "42765                        Ji Jia Shou Shen  \n",
       "42766             Ji Jia Shou Shen 2nd Season  \n",
       "42852                   Little Village People  \n",
       "\n",
       "[4298 rows x 38 columns]"
      ]
     },
     "execution_count": 87,
     "metadata": {},
     "output_type": "execute_result"
    }
   ],
   "source": [
    "verjetnosti_naslova_in_zanra"
   ]
  },
  {
   "cell_type": "markdown",
   "metadata": {},
   "source": [
    "V tej tabeli, imamo verjetnost žanra v odvisnosti od naslova za vse animeje. Če želimo videti verjetnost za poseben anime:"
   ]
  },
  {
   "cell_type": "code",
   "execution_count": 88,
   "metadata": {},
   "outputs": [
    {
     "data": {
      "text/plain": [
       "id             \n",
       "20  Comedy         0.000333\n",
       "    Action         0.000207\n",
       "    Adventure      0.000122\n",
       "    Shounen        0.000086\n",
       "    Super Power    0.000024\n",
       "dtype: float64"
      ]
     },
     "execution_count": 88,
     "metadata": {},
     "output_type": "execute_result"
    }
   ],
   "source": [
    "verjetnosti_naslova_in_zanra[verjetnosti_naslova_in_zanra['naslov'] == 'Naruto'].drop(columns='naslov').stack().sort_values(ascending=False).head(5)"
   ]
  },
  {
   "cell_type": "code",
   "execution_count": 89,
   "metadata": {},
   "outputs": [
    {
     "data": {
      "text/plain": [
       "44          Action\n",
       "45       Adventure\n",
       "46          Comedy\n",
       "47     Super Power\n",
       "48    Martial Arts\n",
       "49         Shounen\n",
       "Name: zanr, dtype: object"
      ]
     },
     "execution_count": 89,
     "metadata": {},
     "output_type": "execute_result"
    }
   ],
   "source": [
    "animeji_in_zanri[animeji_in_zanri['naslov'] == 'Naruto']['zanr']"
   ]
  },
  {
   "cell_type": "markdown",
   "metadata": {},
   "source": [
    "V primeru animeja *Naruto*, vidimo, da največjo verjetnost imajo žanri komedija, akcija in pustolovščina, in anime res ima tiste žanre. Tudi ostali žanri *Naruta* imajo veliko verjetnost.<br>\n",
    "Poglejmo še en primer."
   ]
  },
  {
   "cell_type": "code",
   "execution_count": 90,
   "metadata": {},
   "outputs": [
    {
     "data": {
      "text/plain": [
       "id            \n",
       "16498  Action     3.155765e-08\n",
       "       Fantasy    1.569672e-08\n",
       "       Drama      1.409513e-08\n",
       "       Shounen    1.045540e-08\n",
       "       Comedy     5.190693e-09\n",
       "dtype: float64"
      ]
     },
     "execution_count": 90,
     "metadata": {},
     "output_type": "execute_result"
    }
   ],
   "source": [
    "verjetnosti_naslova_in_zanra[verjetnosti_naslova_in_zanra['naslov'] == 'Shingeki no Kyojin'].drop(columns='naslov').stack().sort_values(ascending=False).head(5)"
   ]
  },
  {
   "cell_type": "code",
   "execution_count": 91,
   "metadata": {},
   "outputs": [
    {
     "data": {
      "text/plain": [
       "6          Action\n",
       "7        Military\n",
       "8         Mystery\n",
       "9     Super Power\n",
       "10          Drama\n",
       "11        Fantasy\n",
       "12        Shounen\n",
       "Name: zanr, dtype: object"
      ]
     },
     "execution_count": 91,
     "metadata": {},
     "output_type": "execute_result"
    }
   ],
   "source": [
    "animeji_in_zanri[animeji_in_zanri['naslov'] == 'Shingeki no Kyojin']['zanr']"
   ]
  },
  {
   "cell_type": "markdown",
   "metadata": {},
   "source": [
    "Tukaj je podobno, vidimo, da se žanri animeja *Shingeki no Kyojin* ujemajo z verjetnostima žanra.<br>\n",
    "Kot smo prepostavili, *lahko napovemo žanr animeja iz njegovega naslova*."
   ]
  },
  {
   "cell_type": "markdown",
   "metadata": {},
   "source": [
    "Zdaj bomo pogledali verjetnost, da povemo žanr iz opisa animeja."
   ]
  },
  {
   "cell_type": "code",
   "execution_count": 92,
   "metadata": {},
   "outputs": [],
   "source": [
    "koreni_in_zanri_o = pd.merge(koreni_in_animeji_o, zanri)\n",
    "st_korenov_pri_zanru_o = pd.crosstab(koreni_in_zanri_o.koren, koreni_in_zanri_o.zanr)\n",
    "verjetnost_korena_oz = (st_korenov_pri_zanru_o + 0.1) / st_animejih"
   ]
  },
  {
   "cell_type": "code",
   "execution_count": 93,
   "metadata": {},
   "outputs": [],
   "source": [
    "def verjetnost_oz(niz):\n",
    "    return verjetnost_korena_oz[verjetnost_korena_oz.index.isin(koreni_besed(niz))].prod() * verjetnost_zanra\n",
    "\n",
    "verjetnosti_opisa_in_zanra = pd.merge(animeji.naslov.apply(verjetnost_oz), animeji['naslov'], left_on='id', right_on='id')"
   ]
  },
  {
   "cell_type": "code",
   "execution_count": 94,
   "metadata": {},
   "outputs": [
    {
     "data": {
      "text/html": [
       "<div>\n",
       "<style scoped>\n",
       "    .dataframe tbody tr th:only-of-type {\n",
       "        vertical-align: middle;\n",
       "    }\n",
       "\n",
       "    .dataframe tbody tr th {\n",
       "        vertical-align: top;\n",
       "    }\n",
       "\n",
       "    .dataframe thead th {\n",
       "        text-align: right;\n",
       "    }\n",
       "</style>\n",
       "<table border=\"1\" class=\"dataframe\">\n",
       "  <thead>\n",
       "    <tr style=\"text-align: right;\">\n",
       "      <th></th>\n",
       "      <th>Action</th>\n",
       "      <th>Adventure</th>\n",
       "      <th>Cars</th>\n",
       "      <th>Comedy</th>\n",
       "      <th>Dementia</th>\n",
       "      <th>Demons</th>\n",
       "      <th>Drama</th>\n",
       "      <th>Fantasy</th>\n",
       "      <th>Game</th>\n",
       "      <th>Harem</th>\n",
       "      <th>...</th>\n",
       "      <th>Shoujo</th>\n",
       "      <th>Shounen</th>\n",
       "      <th>Slice of Life</th>\n",
       "      <th>Space</th>\n",
       "      <th>Sports</th>\n",
       "      <th>Super Power</th>\n",
       "      <th>Supernatural</th>\n",
       "      <th>Thriller</th>\n",
       "      <th>Vampire</th>\n",
       "      <th>naslov</th>\n",
       "    </tr>\n",
       "    <tr>\n",
       "      <th>id</th>\n",
       "      <th></th>\n",
       "      <th></th>\n",
       "      <th></th>\n",
       "      <th></th>\n",
       "      <th></th>\n",
       "      <th></th>\n",
       "      <th></th>\n",
       "      <th></th>\n",
       "      <th></th>\n",
       "      <th></th>\n",
       "      <th></th>\n",
       "      <th></th>\n",
       "      <th></th>\n",
       "      <th></th>\n",
       "      <th></th>\n",
       "      <th></th>\n",
       "      <th></th>\n",
       "      <th></th>\n",
       "      <th></th>\n",
       "      <th></th>\n",
       "      <th></th>\n",
       "    </tr>\n",
       "  </thead>\n",
       "  <tbody>\n",
       "    <tr>\n",
       "      <th>1535</th>\n",
       "      <td>2.095299e-05</td>\n",
       "      <td>7.586186e-06</td>\n",
       "      <td>9.421116e-11</td>\n",
       "      <td>3.253573e-05</td>\n",
       "      <td>2.015212e-12</td>\n",
       "      <td>2.257176e-08</td>\n",
       "      <td>6.778432e-06</td>\n",
       "      <td>3.948161e-06</td>\n",
       "      <td>2.662158e-08</td>\n",
       "      <td>1.362422e-08</td>\n",
       "      <td>...</td>\n",
       "      <td>1.517746e-07</td>\n",
       "      <td>4.192007e-06</td>\n",
       "      <td>1.608397e-06</td>\n",
       "      <td>1.550743e-08</td>\n",
       "      <td>4.760989e-08</td>\n",
       "      <td>5.451615e-08</td>\n",
       "      <td>1.607798e-06</td>\n",
       "      <td>5.325702e-09</td>\n",
       "      <td>2.666126e-09</td>\n",
       "      <td>Death Note</td>\n",
       "    </tr>\n",
       "    <tr>\n",
       "      <th>16498</th>\n",
       "      <td>4.004974e-03</td>\n",
       "      <td>3.249480e-03</td>\n",
       "      <td>7.730283e-06</td>\n",
       "      <td>1.022414e-02</td>\n",
       "      <td>8.661381e-08</td>\n",
       "      <td>6.945887e-05</td>\n",
       "      <td>2.110421e-03</td>\n",
       "      <td>1.960130e-03</td>\n",
       "      <td>6.341755e-05</td>\n",
       "      <td>4.428673e-05</td>\n",
       "      <td>...</td>\n",
       "      <td>2.063628e-04</td>\n",
       "      <td>2.017393e-03</td>\n",
       "      <td>1.778533e-03</td>\n",
       "      <td>6.270299e-05</td>\n",
       "      <td>2.782685e-04</td>\n",
       "      <td>9.076586e-05</td>\n",
       "      <td>8.236649e-04</td>\n",
       "      <td>9.765707e-06</td>\n",
       "      <td>2.858256e-06</td>\n",
       "      <td>Shingeki no Kyojin</td>\n",
       "    </tr>\n",
       "    <tr>\n",
       "      <th>5114</th>\n",
       "      <td>1.399409e-04</td>\n",
       "      <td>1.216383e-04</td>\n",
       "      <td>3.681087e-07</td>\n",
       "      <td>1.182603e-04</td>\n",
       "      <td>8.661381e-08</td>\n",
       "      <td>7.632842e-07</td>\n",
       "      <td>4.728032e-05</td>\n",
       "      <td>1.001526e-04</td>\n",
       "      <td>8.932050e-07</td>\n",
       "      <td>5.467497e-07</td>\n",
       "      <td>...</td>\n",
       "      <td>1.575289e-06</td>\n",
       "      <td>4.519617e-05</td>\n",
       "      <td>4.032956e-06</td>\n",
       "      <td>7.741110e-07</td>\n",
       "      <td>1.537395e-06</td>\n",
       "      <td>1.120566e-06</td>\n",
       "      <td>2.565934e-06</td>\n",
       "      <td>2.381880e-07</td>\n",
       "      <td>2.598414e-07</td>\n",
       "      <td>Fullmetal Alchemist: Brotherhood</td>\n",
       "    </tr>\n",
       "    <tr>\n",
       "      <th>11757</th>\n",
       "      <td>1.406509e-08</td>\n",
       "      <td>1.792803e-09</td>\n",
       "      <td>1.992706e-16</td>\n",
       "      <td>2.324347e-09</td>\n",
       "      <td>4.688720e-17</td>\n",
       "      <td>1.280900e-14</td>\n",
       "      <td>1.222047e-10</td>\n",
       "      <td>2.018345e-09</td>\n",
       "      <td>2.864446e-11</td>\n",
       "      <td>3.939434e-13</td>\n",
       "      <td>...</td>\n",
       "      <td>1.969878e-13</td>\n",
       "      <td>1.634595e-10</td>\n",
       "      <td>2.425519e-12</td>\n",
       "      <td>4.609598e-15</td>\n",
       "      <td>3.412216e-14</td>\n",
       "      <td>2.068517e-13</td>\n",
       "      <td>2.889328e-11</td>\n",
       "      <td>1.289398e-16</td>\n",
       "      <td>1.547278e-15</td>\n",
       "      <td>Sword Art Online</td>\n",
       "    </tr>\n",
       "    <tr>\n",
       "      <th>30276</th>\n",
       "      <td>9.155614e-08</td>\n",
       "      <td>2.984230e-09</td>\n",
       "      <td>9.945597e-13</td>\n",
       "      <td>1.905113e-07</td>\n",
       "      <td>3.146131e-14</td>\n",
       "      <td>5.264498e-12</td>\n",
       "      <td>1.505832e-08</td>\n",
       "      <td>2.924756e-08</td>\n",
       "      <td>1.890580e-13</td>\n",
       "      <td>8.823029e-13</td>\n",
       "      <td>...</td>\n",
       "      <td>4.686860e-11</td>\n",
       "      <td>1.406536e-08</td>\n",
       "      <td>6.277075e-09</td>\n",
       "      <td>8.783799e-12</td>\n",
       "      <td>1.918007e-10</td>\n",
       "      <td>1.240564e-11</td>\n",
       "      <td>2.528471e-10</td>\n",
       "      <td>3.817908e-13</td>\n",
       "      <td>2.097265e-13</td>\n",
       "      <td>One Punch Man</td>\n",
       "    </tr>\n",
       "    <tr>\n",
       "      <th>...</th>\n",
       "      <td>...</td>\n",
       "      <td>...</td>\n",
       "      <td>...</td>\n",
       "      <td>...</td>\n",
       "      <td>...</td>\n",
       "      <td>...</td>\n",
       "      <td>...</td>\n",
       "      <td>...</td>\n",
       "      <td>...</td>\n",
       "      <td>...</td>\n",
       "      <td>...</td>\n",
       "      <td>...</td>\n",
       "      <td>...</td>\n",
       "      <td>...</td>\n",
       "      <td>...</td>\n",
       "      <td>...</td>\n",
       "      <td>...</td>\n",
       "      <td>...</td>\n",
       "      <td>...</td>\n",
       "      <td>...</td>\n",
       "      <td>...</td>\n",
       "    </tr>\n",
       "    <tr>\n",
       "      <th>42264</th>\n",
       "      <td>6.938436e-06</td>\n",
       "      <td>4.559313e-06</td>\n",
       "      <td>5.224437e-10</td>\n",
       "      <td>5.255403e-07</td>\n",
       "      <td>4.231945e-11</td>\n",
       "      <td>1.582332e-08</td>\n",
       "      <td>1.371067e-07</td>\n",
       "      <td>1.866502e-06</td>\n",
       "      <td>3.680470e-08</td>\n",
       "      <td>9.031928e-10</td>\n",
       "      <td>...</td>\n",
       "      <td>1.396429e-08</td>\n",
       "      <td>9.282432e-08</td>\n",
       "      <td>7.328382e-08</td>\n",
       "      <td>9.383709e-09</td>\n",
       "      <td>1.255527e-08</td>\n",
       "      <td>1.647999e-07</td>\n",
       "      <td>3.050704e-08</td>\n",
       "      <td>4.488885e-10</td>\n",
       "      <td>3.687838e-10</td>\n",
       "      <td>Konglong Baobei Zhi Longshen Yongshi 3</td>\n",
       "    </tr>\n",
       "    <tr>\n",
       "      <th>42263</th>\n",
       "      <td>6.938436e-06</td>\n",
       "      <td>4.559313e-06</td>\n",
       "      <td>5.224437e-10</td>\n",
       "      <td>5.255403e-07</td>\n",
       "      <td>4.231945e-11</td>\n",
       "      <td>1.582332e-08</td>\n",
       "      <td>1.371067e-07</td>\n",
       "      <td>1.866502e-06</td>\n",
       "      <td>3.680470e-08</td>\n",
       "      <td>9.031928e-10</td>\n",
       "      <td>...</td>\n",
       "      <td>1.396429e-08</td>\n",
       "      <td>9.282432e-08</td>\n",
       "      <td>7.328382e-08</td>\n",
       "      <td>9.383709e-09</td>\n",
       "      <td>1.255527e-08</td>\n",
       "      <td>1.647999e-07</td>\n",
       "      <td>3.050704e-08</td>\n",
       "      <td>4.488885e-10</td>\n",
       "      <td>3.687838e-10</td>\n",
       "      <td>Konglong Baobei Zhi Longshen Yongshi 2</td>\n",
       "    </tr>\n",
       "    <tr>\n",
       "      <th>42765</th>\n",
       "      <td>1.202547e-05</td>\n",
       "      <td>7.761384e-06</td>\n",
       "      <td>9.421116e-11</td>\n",
       "      <td>6.388805e-05</td>\n",
       "      <td>2.015212e-12</td>\n",
       "      <td>1.793665e-09</td>\n",
       "      <td>7.622473e-06</td>\n",
       "      <td>2.892906e-06</td>\n",
       "      <td>3.138063e-09</td>\n",
       "      <td>2.812619e-08</td>\n",
       "      <td>...</td>\n",
       "      <td>1.182786e-06</td>\n",
       "      <td>5.679491e-06</td>\n",
       "      <td>4.928219e-06</td>\n",
       "      <td>1.406656e-08</td>\n",
       "      <td>5.866640e-07</td>\n",
       "      <td>1.874824e-07</td>\n",
       "      <td>2.752200e-08</td>\n",
       "      <td>1.717968e-10</td>\n",
       "      <td>3.083274e-10</td>\n",
       "      <td>Ji Jia Shou Shen</td>\n",
       "    </tr>\n",
       "    <tr>\n",
       "      <th>42766</th>\n",
       "      <td>4.342770e-10</td>\n",
       "      <td>5.209085e-10</td>\n",
       "      <td>4.391094e-17</td>\n",
       "      <td>1.253119e-08</td>\n",
       "      <td>1.090907e-21</td>\n",
       "      <td>1.855535e-15</td>\n",
       "      <td>1.033272e-10</td>\n",
       "      <td>7.788050e-11</td>\n",
       "      <td>7.357276e-15</td>\n",
       "      <td>2.589896e-14</td>\n",
       "      <td>...</td>\n",
       "      <td>5.955291e-12</td>\n",
       "      <td>2.279476e-10</td>\n",
       "      <td>1.070625e-10</td>\n",
       "      <td>1.295267e-14</td>\n",
       "      <td>2.931604e-12</td>\n",
       "      <td>3.370516e-13</td>\n",
       "      <td>1.482566e-13</td>\n",
       "      <td>3.812994e-18</td>\n",
       "      <td>1.835997e-18</td>\n",
       "      <td>Ji Jia Shou Shen 2nd Season</td>\n",
       "    </tr>\n",
       "    <tr>\n",
       "      <th>42852</th>\n",
       "      <td>1.632306e-08</td>\n",
       "      <td>5.621543e-08</td>\n",
       "      <td>8.987105e-14</td>\n",
       "      <td>3.484713e-07</td>\n",
       "      <td>6.240687e-14</td>\n",
       "      <td>8.594838e-12</td>\n",
       "      <td>1.788652e-08</td>\n",
       "      <td>2.698906e-08</td>\n",
       "      <td>6.193946e-13</td>\n",
       "      <td>1.081228e-11</td>\n",
       "      <td>...</td>\n",
       "      <td>3.709945e-10</td>\n",
       "      <td>5.751569e-09</td>\n",
       "      <td>1.503468e-08</td>\n",
       "      <td>2.350895e-13</td>\n",
       "      <td>4.523350e-11</td>\n",
       "      <td>3.310294e-11</td>\n",
       "      <td>3.079558e-09</td>\n",
       "      <td>1.221189e-12</td>\n",
       "      <td>1.872206e-13</td>\n",
       "      <td>Little Village People</td>\n",
       "    </tr>\n",
       "  </tbody>\n",
       "</table>\n",
       "<p>4298 rows × 38 columns</p>\n",
       "</div>"
      ],
      "text/plain": [
       "             Action     Adventure          Cars        Comedy      Dementia  \\\n",
       "id                                                                            \n",
       "1535   2.095299e-05  7.586186e-06  9.421116e-11  3.253573e-05  2.015212e-12   \n",
       "16498  4.004974e-03  3.249480e-03  7.730283e-06  1.022414e-02  8.661381e-08   \n",
       "5114   1.399409e-04  1.216383e-04  3.681087e-07  1.182603e-04  8.661381e-08   \n",
       "11757  1.406509e-08  1.792803e-09  1.992706e-16  2.324347e-09  4.688720e-17   \n",
       "30276  9.155614e-08  2.984230e-09  9.945597e-13  1.905113e-07  3.146131e-14   \n",
       "...             ...           ...           ...           ...           ...   \n",
       "42264  6.938436e-06  4.559313e-06  5.224437e-10  5.255403e-07  4.231945e-11   \n",
       "42263  6.938436e-06  4.559313e-06  5.224437e-10  5.255403e-07  4.231945e-11   \n",
       "42765  1.202547e-05  7.761384e-06  9.421116e-11  6.388805e-05  2.015212e-12   \n",
       "42766  4.342770e-10  5.209085e-10  4.391094e-17  1.253119e-08  1.090907e-21   \n",
       "42852  1.632306e-08  5.621543e-08  8.987105e-14  3.484713e-07  6.240687e-14   \n",
       "\n",
       "             Demons         Drama       Fantasy          Game         Harem  \\\n",
       "id                                                                            \n",
       "1535   2.257176e-08  6.778432e-06  3.948161e-06  2.662158e-08  1.362422e-08   \n",
       "16498  6.945887e-05  2.110421e-03  1.960130e-03  6.341755e-05  4.428673e-05   \n",
       "5114   7.632842e-07  4.728032e-05  1.001526e-04  8.932050e-07  5.467497e-07   \n",
       "11757  1.280900e-14  1.222047e-10  2.018345e-09  2.864446e-11  3.939434e-13   \n",
       "30276  5.264498e-12  1.505832e-08  2.924756e-08  1.890580e-13  8.823029e-13   \n",
       "...             ...           ...           ...           ...           ...   \n",
       "42264  1.582332e-08  1.371067e-07  1.866502e-06  3.680470e-08  9.031928e-10   \n",
       "42263  1.582332e-08  1.371067e-07  1.866502e-06  3.680470e-08  9.031928e-10   \n",
       "42765  1.793665e-09  7.622473e-06  2.892906e-06  3.138063e-09  2.812619e-08   \n",
       "42766  1.855535e-15  1.033272e-10  7.788050e-11  7.357276e-15  2.589896e-14   \n",
       "42852  8.594838e-12  1.788652e-08  2.698906e-08  6.193946e-13  1.081228e-11   \n",
       "\n",
       "       ...        Shoujo       Shounen  Slice of Life         Space  \\\n",
       "id     ...                                                            \n",
       "1535   ...  1.517746e-07  4.192007e-06   1.608397e-06  1.550743e-08   \n",
       "16498  ...  2.063628e-04  2.017393e-03   1.778533e-03  6.270299e-05   \n",
       "5114   ...  1.575289e-06  4.519617e-05   4.032956e-06  7.741110e-07   \n",
       "11757  ...  1.969878e-13  1.634595e-10   2.425519e-12  4.609598e-15   \n",
       "30276  ...  4.686860e-11  1.406536e-08   6.277075e-09  8.783799e-12   \n",
       "...    ...           ...           ...            ...           ...   \n",
       "42264  ...  1.396429e-08  9.282432e-08   7.328382e-08  9.383709e-09   \n",
       "42263  ...  1.396429e-08  9.282432e-08   7.328382e-08  9.383709e-09   \n",
       "42765  ...  1.182786e-06  5.679491e-06   4.928219e-06  1.406656e-08   \n",
       "42766  ...  5.955291e-12  2.279476e-10   1.070625e-10  1.295267e-14   \n",
       "42852  ...  3.709945e-10  5.751569e-09   1.503468e-08  2.350895e-13   \n",
       "\n",
       "             Sports   Super Power  Supernatural      Thriller       Vampire  \\\n",
       "id                                                                            \n",
       "1535   4.760989e-08  5.451615e-08  1.607798e-06  5.325702e-09  2.666126e-09   \n",
       "16498  2.782685e-04  9.076586e-05  8.236649e-04  9.765707e-06  2.858256e-06   \n",
       "5114   1.537395e-06  1.120566e-06  2.565934e-06  2.381880e-07  2.598414e-07   \n",
       "11757  3.412216e-14  2.068517e-13  2.889328e-11  1.289398e-16  1.547278e-15   \n",
       "30276  1.918007e-10  1.240564e-11  2.528471e-10  3.817908e-13  2.097265e-13   \n",
       "...             ...           ...           ...           ...           ...   \n",
       "42264  1.255527e-08  1.647999e-07  3.050704e-08  4.488885e-10  3.687838e-10   \n",
       "42263  1.255527e-08  1.647999e-07  3.050704e-08  4.488885e-10  3.687838e-10   \n",
       "42765  5.866640e-07  1.874824e-07  2.752200e-08  1.717968e-10  3.083274e-10   \n",
       "42766  2.931604e-12  3.370516e-13  1.482566e-13  3.812994e-18  1.835997e-18   \n",
       "42852  4.523350e-11  3.310294e-11  3.079558e-09  1.221189e-12  1.872206e-13   \n",
       "\n",
       "                                       naslov  \n",
       "id                                             \n",
       "1535                               Death Note  \n",
       "16498                      Shingeki no Kyojin  \n",
       "5114         Fullmetal Alchemist: Brotherhood  \n",
       "11757                        Sword Art Online  \n",
       "30276                           One Punch Man  \n",
       "...                                       ...  \n",
       "42264  Konglong Baobei Zhi Longshen Yongshi 3  \n",
       "42263  Konglong Baobei Zhi Longshen Yongshi 2  \n",
       "42765                        Ji Jia Shou Shen  \n",
       "42766             Ji Jia Shou Shen 2nd Season  \n",
       "42852                   Little Village People  \n",
       "\n",
       "[4298 rows x 38 columns]"
      ]
     },
     "execution_count": 94,
     "metadata": {},
     "output_type": "execute_result"
    }
   ],
   "source": [
    "verjetnosti_opisa_in_zanra"
   ]
  },
  {
   "cell_type": "markdown",
   "metadata": {},
   "source": [
    "V tej tabeli je verjetnost, da nek anime ima žanr, v odvisnosti od opisa. Podobno kot za naslove pogledamo animeje posebej."
   ]
  },
  {
   "cell_type": "code",
   "execution_count": 95,
   "metadata": {},
   "outputs": [
    {
     "data": {
      "text/plain": [
       "id              \n",
       "16498  Comedy       0.010224\n",
       "       Action       0.004005\n",
       "       Adventure    0.003249\n",
       "       Drama        0.002110\n",
       "       Sci-Fi       0.002065\n",
       "dtype: float64"
      ]
     },
     "execution_count": 95,
     "metadata": {},
     "output_type": "execute_result"
    }
   ],
   "source": [
    "verjetnosti_opisa_in_zanra[verjetnosti_opisa_in_zanra['naslov'] == 'Shingeki no Kyojin'].drop(columns='naslov').stack().sort_values(ascending=False).head(5)"
   ]
  },
  {
   "cell_type": "code",
   "execution_count": 96,
   "metadata": {},
   "outputs": [
    {
     "data": {
      "text/plain": [
       "id             \n",
       "20  Comedy         0.000333\n",
       "    Action         0.000207\n",
       "    Adventure      0.000122\n",
       "    Shounen        0.000086\n",
       "    Super Power    0.000024\n",
       "dtype: float64"
      ]
     },
     "execution_count": 96,
     "metadata": {},
     "output_type": "execute_result"
    }
   ],
   "source": [
    "verjetnosti_opisa_in_zanra[verjetnosti_opisa_in_zanra['naslov'] == 'Naruto'].drop(columns='naslov').stack().sort_values(ascending=False).head(5)"
   ]
  },
  {
   "cell_type": "markdown",
   "metadata": {},
   "source": [
    "Presenetljivo, vidimo da je v oba primera komedija z največjo verjetnostjo, ampak smo prej videli da *Naruto* in *Shingeki no Kyojin* nista komediji. Preverimo še en primer."
   ]
  },
  {
   "cell_type": "code",
   "execution_count": 97,
   "metadata": {},
   "outputs": [
    {
     "data": {
      "text/plain": [
       "id             \n",
       "9253  Comedy       0.462075\n",
       "      Action       0.286412\n",
       "      Adventure    0.248953\n",
       "      Fantasy      0.204979\n",
       "      Sci-Fi       0.196836\n",
       "dtype: float64"
      ]
     },
     "execution_count": 97,
     "metadata": {},
     "output_type": "execute_result"
    }
   ],
   "source": [
    "verjetnosti_opisa_in_zanra[verjetnosti_opisa_in_zanra['naslov'] == 'Steins;Gate'].drop(columns='naslov').stack().sort_values(ascending=False).head(5)"
   ]
  },
  {
   "cell_type": "code",
   "execution_count": 98,
   "metadata": {},
   "outputs": [
    {
     "data": {
      "text/plain": [
       "50    Thriller\n",
       "51      Sci-Fi\n",
       "Name: zanr, dtype: object"
      ]
     },
     "execution_count": 98,
     "metadata": {},
     "output_type": "execute_result"
    }
   ],
   "source": [
    "animeji_in_zanri[animeji_in_zanri['naslov'] == 'Steins;Gate']['zanr']"
   ]
  },
  {
   "cell_type": "markdown",
   "metadata": {},
   "source": [
    "Ljudje, ki so gledali *Steins;Gate*, vedo, da animeju lahko damo tudi žanr drame, ampak je večinoma verjetnost žanra napačna. Žanr triler ima manjšo verjetnost kot komedija ali pustolovščina, kar nista žanra tega animeja.<br>\n",
    "Lahko si potem zaključimo, da *ne moremo napovesti žanr animeja iz njegovega opisa*.\n",
    "\n",
    "***"
   ]
  },
  {
   "cell_type": "markdown",
   "metadata": {},
   "source": [
    "## Osebe"
   ]
  },
  {
   "cell_type": "markdown",
   "metadata": {},
   "source": [
    "Bomo zdaj pogledali, katere so osebe delale na katerem animeju in kaj so delale."
   ]
  },
  {
   "cell_type": "code",
   "execution_count": 99,
   "metadata": {},
   "outputs": [
    {
     "data": {
      "text/plain": [
       "oseba\n",
       "79      192\n",
       "8074    173\n",
       "185     171\n",
       "99      166\n",
       "86      161\n",
       "dtype: int64"
      ]
     },
     "execution_count": 99,
     "metadata": {},
     "output_type": "execute_result"
    }
   ],
   "source": [
    "vloge.groupby('oseba').size().sort_values(ascending=False).head(5)"
   ]
  },
  {
   "cell_type": "code",
   "execution_count": 100,
   "metadata": {},
   "outputs": [
    {
     "data": {
      "text/html": [
       "<div>\n",
       "<style scoped>\n",
       "    .dataframe tbody tr th:only-of-type {\n",
       "        vertical-align: middle;\n",
       "    }\n",
       "\n",
       "    .dataframe tbody tr th {\n",
       "        vertical-align: top;\n",
       "    }\n",
       "\n",
       "    .dataframe thead th {\n",
       "        text-align: right;\n",
       "    }\n",
       "</style>\n",
       "<table border=\"1\" class=\"dataframe\">\n",
       "  <thead>\n",
       "    <tr style=\"text-align: right;\">\n",
       "      <th></th>\n",
       "      <th>id</th>\n",
       "      <th>ime</th>\n",
       "    </tr>\n",
       "  </thead>\n",
       "  <tbody>\n",
       "    <tr>\n",
       "      <th>73</th>\n",
       "      <td>79</td>\n",
       "      <td>Sakurai, Takahiro</td>\n",
       "    </tr>\n",
       "    <tr>\n",
       "      <th>76</th>\n",
       "      <td>185</td>\n",
       "      <td>Hanazawa, Kana</td>\n",
       "    </tr>\n",
       "    <tr>\n",
       "      <th>150</th>\n",
       "      <td>8074</td>\n",
       "      <td>Aketagawa, Jin</td>\n",
       "    </tr>\n",
       "  </tbody>\n",
       "</table>\n",
       "</div>"
      ],
      "text/plain": [
       "       id                ime\n",
       "73     79  Sakurai, Takahiro\n",
       "76    185     Hanazawa, Kana\n",
       "150  8074     Aketagawa, Jin"
      ]
     },
     "execution_count": 100,
     "metadata": {},
     "output_type": "execute_result"
    }
   ],
   "source": [
    "osebe[(osebe['id'] == 79) | (osebe['id'] == 8074) | (osebe['id'] == 185)]"
   ]
  },
  {
   "cell_type": "code",
   "execution_count": 101,
   "metadata": {},
   "outputs": [],
   "source": [
    "osebe_in_vloge = pd.merge(vloge, osebe, left_on='oseba', right_on='id')[['anime', 'oseba', 'ime', 'vloga']]"
   ]
  },
  {
   "cell_type": "code",
   "execution_count": 102,
   "metadata": {},
   "outputs": [
    {
     "data": {
      "text/plain": [
       "vloga\n",
       "Main                       86\n",
       "Supporting                104\n",
       "Theme Song Performance      2\n",
       "dtype: int64"
      ]
     },
     "execution_count": 102,
     "metadata": {},
     "output_type": "execute_result"
    }
   ],
   "source": [
    "osebe_in_vloge[osebe_in_vloge['oseba'] == 79].groupby('vloga').size()"
   ]
  },
  {
   "cell_type": "code",
   "execution_count": 103,
   "metadata": {},
   "outputs": [
    {
     "data": {
      "text/plain": [
       "vloga\n",
       "Main                      99\n",
       "Supporting                64\n",
       "Theme Song Performance     8\n",
       "dtype: int64"
      ]
     },
     "execution_count": 103,
     "metadata": {},
     "output_type": "execute_result"
    }
   ],
   "source": [
    "osebe_in_vloge[osebe_in_vloge['oseba'] == 185].groupby('vloga').size()"
   ]
  },
  {
   "cell_type": "code",
   "execution_count": 104,
   "metadata": {},
   "outputs": [
    {
     "data": {
      "text/plain": [
       "vloga\n",
       "Sound Director    173\n",
       "dtype: int64"
      ]
     },
     "execution_count": 104,
     "metadata": {},
     "output_type": "execute_result"
    }
   ],
   "source": [
    "osebe_in_vloge[osebe_in_vloge['oseba'] == 8074].groupby('vloga').size()"
   ]
  },
  {
   "cell_type": "markdown",
   "metadata": {},
   "source": [
    "Vidimo, da so tri najbolj popularne osebe, ki so delale na največjemu številu animejev *Sakurai Tahakiro* (**glasovni igralec**), *Hanazava Kana* (**glasovni igralec**) in *Aketagawa Jin* (**direktor zvoka**)."
   ]
  },
  {
   "cell_type": "code",
   "execution_count": 105,
   "metadata": {},
   "outputs": [
    {
     "data": {
      "text/plain": [
       "vloga\n",
       "Supporting          15574\n",
       "Main                12309\n",
       "Director             3462\n",
       "Episode Director     3205\n",
       "Sound Director       1949\n",
       "dtype: int64"
      ]
     },
     "execution_count": 105,
     "metadata": {},
     "output_type": "execute_result"
    }
   ],
   "source": [
    "osebe_in_vloge.groupby('vloga').size().sort_values(ascending=False).head(5)"
   ]
  },
  {
   "cell_type": "markdown",
   "metadata": {},
   "source": [
    "Vidimo, da je največ oseb delalo kot **stranski lik** v animeju, kar je bila naša predpostavka. Poglejmo, kdo je največ delal kot stranski lik."
   ]
  },
  {
   "cell_type": "code",
   "execution_count": 106,
   "metadata": {},
   "outputs": [
    {
     "data": {
      "text/plain": [
       "oseba\n",
       "79     104\n",
       "17     104\n",
       "160    101\n",
       "95      82\n",
       "87      80\n",
       "dtype: int64"
      ]
     },
     "execution_count": 106,
     "metadata": {},
     "output_type": "execute_result"
    }
   ],
   "source": [
    "osebe_in_vloge[osebe_in_vloge['vloga'] == 'Supporting'].groupby('oseba').size().sort_values(ascending=False).head(5)"
   ]
  },
  {
   "cell_type": "code",
   "execution_count": 107,
   "metadata": {},
   "outputs": [],
   "source": [
    "vloge_in_animeji = pd.merge(osebe_in_vloge, animeji[['naslov', 'stevilo_clenov', 'nova ocena', 'oznaka']], left_on='anime', right_on='id')"
   ]
  },
  {
   "cell_type": "code",
   "execution_count": 108,
   "metadata": {},
   "outputs": [
    {
     "data": {
      "text/html": [
       "<div>\n",
       "<style scoped>\n",
       "    .dataframe tbody tr th:only-of-type {\n",
       "        vertical-align: middle;\n",
       "    }\n",
       "\n",
       "    .dataframe tbody tr th {\n",
       "        vertical-align: top;\n",
       "    }\n",
       "\n",
       "    .dataframe thead th {\n",
       "        text-align: right;\n",
       "    }\n",
       "</style>\n",
       "<table border=\"1\" class=\"dataframe\">\n",
       "  <thead>\n",
       "    <tr style=\"text-align: right;\">\n",
       "      <th></th>\n",
       "      <th>anime</th>\n",
       "      <th>oseba</th>\n",
       "      <th>ime</th>\n",
       "      <th>vloga</th>\n",
       "      <th>naslov</th>\n",
       "      <th>stevilo_clenov</th>\n",
       "      <th>nova ocena</th>\n",
       "      <th>oznaka</th>\n",
       "    </tr>\n",
       "  </thead>\n",
       "  <tbody>\n",
       "    <tr>\n",
       "      <th>898</th>\n",
       "      <td>22319</td>\n",
       "      <td>79</td>\n",
       "      <td>Sakurai, Takahiro</td>\n",
       "      <td>Supporting</td>\n",
       "      <td>Tokyo Ghoul</td>\n",
       "      <td>1792134</td>\n",
       "      <td>7.93</td>\n",
       "      <td>R</td>\n",
       "    </tr>\n",
       "    <tr>\n",
       "      <th>5342</th>\n",
       "      <td>20507</td>\n",
       "      <td>79</td>\n",
       "      <td>Sakurai, Takahiro</td>\n",
       "      <td>Supporting</td>\n",
       "      <td>Noragami</td>\n",
       "      <td>1464751</td>\n",
       "      <td>8.01</td>\n",
       "      <td>PG-13</td>\n",
       "    </tr>\n",
       "    <tr>\n",
       "      <th>16746</th>\n",
       "      <td>38000</td>\n",
       "      <td>79</td>\n",
       "      <td>Sakurai, Takahiro</td>\n",
       "      <td>Supporting</td>\n",
       "      <td>Kimetsu no Yaiba</td>\n",
       "      <td>1275852</td>\n",
       "      <td>8.78</td>\n",
       "      <td>R</td>\n",
       "    </tr>\n",
       "    <tr>\n",
       "      <th>947</th>\n",
       "      <td>3588</td>\n",
       "      <td>160</td>\n",
       "      <td>Koyasu, Takehito</td>\n",
       "      <td>Supporting</td>\n",
       "      <td>Soul Eater</td>\n",
       "      <td>1179109</td>\n",
       "      <td>7.79</td>\n",
       "      <td>PG-13</td>\n",
       "    </tr>\n",
       "    <tr>\n",
       "      <th>954</th>\n",
       "      <td>27899</td>\n",
       "      <td>79</td>\n",
       "      <td>Sakurai, Takahiro</td>\n",
       "      <td>Supporting</td>\n",
       "      <td>Tokyo Ghoul √A</td>\n",
       "      <td>1173022</td>\n",
       "      <td>6.60</td>\n",
       "      <td>R</td>\n",
       "    </tr>\n",
       "    <tr>\n",
       "      <th>5387</th>\n",
       "      <td>20583</td>\n",
       "      <td>88</td>\n",
       "      <td>Irino, Miyu</td>\n",
       "      <td>Supporting</td>\n",
       "      <td>Haikyuu!!</td>\n",
       "      <td>1097327</td>\n",
       "      <td>8.70</td>\n",
       "      <td>PG-13</td>\n",
       "    </tr>\n",
       "    <tr>\n",
       "      <th>7494</th>\n",
       "      <td>5081</td>\n",
       "      <td>79</td>\n",
       "      <td>Sakurai, Takahiro</td>\n",
       "      <td>Supporting</td>\n",
       "      <td>Bakemonogatari</td>\n",
       "      <td>1027009</td>\n",
       "      <td>8.44</td>\n",
       "      <td>R</td>\n",
       "    </tr>\n",
       "    <tr>\n",
       "      <th>5078</th>\n",
       "      <td>33352</td>\n",
       "      <td>160</td>\n",
       "      <td>Koyasu, Takehito</td>\n",
       "      <td>Supporting</td>\n",
       "      <td>Violet Evergarden</td>\n",
       "      <td>972318</td>\n",
       "      <td>8.64</td>\n",
       "      <td>PG-13</td>\n",
       "    </tr>\n",
       "    <tr>\n",
       "      <th>11848</th>\n",
       "      <td>26243</td>\n",
       "      <td>79</td>\n",
       "      <td>Sakurai, Takahiro</td>\n",
       "      <td>Supporting</td>\n",
       "      <td>Owari no Seraph</td>\n",
       "      <td>845584</td>\n",
       "      <td>6.93</td>\n",
       "      <td>R</td>\n",
       "    </tr>\n",
       "    <tr>\n",
       "      <th>6713</th>\n",
       "      <td>17265</td>\n",
       "      <td>79</td>\n",
       "      <td>Sakurai, Takahiro</td>\n",
       "      <td>Supporting</td>\n",
       "      <td>Log Horizon</td>\n",
       "      <td>841517</td>\n",
       "      <td>7.37</td>\n",
       "      <td>PG-13</td>\n",
       "    </tr>\n",
       "  </tbody>\n",
       "</table>\n",
       "</div>"
      ],
      "text/plain": [
       "       anime  oseba                ime       vloga             naslov  \\\n",
       "898    22319     79  Sakurai, Takahiro  Supporting        Tokyo Ghoul   \n",
       "5342   20507     79  Sakurai, Takahiro  Supporting           Noragami   \n",
       "16746  38000     79  Sakurai, Takahiro  Supporting   Kimetsu no Yaiba   \n",
       "947     3588    160   Koyasu, Takehito  Supporting         Soul Eater   \n",
       "954    27899     79  Sakurai, Takahiro  Supporting     Tokyo Ghoul √A   \n",
       "5387   20583     88        Irino, Miyu  Supporting          Haikyuu!!   \n",
       "7494    5081     79  Sakurai, Takahiro  Supporting     Bakemonogatari   \n",
       "5078   33352    160   Koyasu, Takehito  Supporting  Violet Evergarden   \n",
       "11848  26243     79  Sakurai, Takahiro  Supporting    Owari no Seraph   \n",
       "6713   17265     79  Sakurai, Takahiro  Supporting        Log Horizon   \n",
       "\n",
       "       stevilo_clenov  nova ocena oznaka  \n",
       "898           1792134        7.93      R  \n",
       "5342          1464751        8.01  PG-13  \n",
       "16746         1275852        8.78      R  \n",
       "947           1179109        7.79  PG-13  \n",
       "954           1173022        6.60      R  \n",
       "5387          1097327        8.70  PG-13  \n",
       "7494          1027009        8.44      R  \n",
       "5078           972318        8.64  PG-13  \n",
       "11848          845584        6.93      R  \n",
       "6713           841517        7.37  PG-13  "
      ]
     },
     "execution_count": 108,
     "metadata": {},
     "output_type": "execute_result"
    }
   ],
   "source": [
    "vloge_in_animeji[((vloge_in_animeji['oseba'] == 79) | (vloge_in_animeji['oseba'] == 88) | (vloge_in_animeji['oseba'] == 160)) & (vloge_in_animeji['vloga'] == 'Supporting')].sort_values('stevilo_clenov', ascending=False).head(10)"
   ]
  },
  {
   "cell_type": "markdown",
   "metadata": {},
   "source": [
    "Poglejmo zdaj glavne osebe."
   ]
  },
  {
   "cell_type": "code",
   "execution_count": 109,
   "metadata": {},
   "outputs": [
    {
     "data": {
      "text/plain": [
       "oseba\n",
       "185    99\n",
       "86     87\n",
       "79     86\n",
       "99     86\n",
       "1      78\n",
       "dtype: int64"
      ]
     },
     "execution_count": 109,
     "metadata": {},
     "output_type": "execute_result"
    }
   ],
   "source": [
    "osebe_in_vloge[osebe_in_vloge['vloga'] == 'Main'].groupby('oseba').size().sort_values(ascending=False).head(5)"
   ]
  },
  {
   "cell_type": "code",
   "execution_count": 110,
   "metadata": {},
   "outputs": [
    {
     "data": {
      "text/html": [
       "<div>\n",
       "<style scoped>\n",
       "    .dataframe tbody tr th:only-of-type {\n",
       "        vertical-align: middle;\n",
       "    }\n",
       "\n",
       "    .dataframe tbody tr th {\n",
       "        vertical-align: top;\n",
       "    }\n",
       "\n",
       "    .dataframe thead th {\n",
       "        text-align: right;\n",
       "    }\n",
       "</style>\n",
       "<table border=\"1\" class=\"dataframe\">\n",
       "  <thead>\n",
       "    <tr style=\"text-align: right;\">\n",
       "      <th></th>\n",
       "      <th>anime</th>\n",
       "      <th>oseba</th>\n",
       "      <th>ime</th>\n",
       "      <th>vloga</th>\n",
       "      <th>naslov</th>\n",
       "      <th>stevilo_clenov</th>\n",
       "      <th>nova ocena</th>\n",
       "      <th>oznaka</th>\n",
       "    </tr>\n",
       "  </thead>\n",
       "  <tbody>\n",
       "    <tr>\n",
       "      <th>909</th>\n",
       "      <td>9253</td>\n",
       "      <td>185</td>\n",
       "      <td>Hanazawa, Kana</td>\n",
       "      <td>Main</td>\n",
       "      <td>Steins;Gate</td>\n",
       "      <td>1700936</td>\n",
       "      <td>9.45</td>\n",
       "      <td>PG-13</td>\n",
       "    </tr>\n",
       "    <tr>\n",
       "      <th>7465</th>\n",
       "      <td>6547</td>\n",
       "      <td>185</td>\n",
       "      <td>Hanazawa, Kana</td>\n",
       "      <td>Main</td>\n",
       "      <td>Angel Beats!</td>\n",
       "      <td>1529396</td>\n",
       "      <td>8.29</td>\n",
       "      <td>PG-13</td>\n",
       "    </tr>\n",
       "    <tr>\n",
       "      <th>15410</th>\n",
       "      <td>1575</td>\n",
       "      <td>86</td>\n",
       "      <td>Fukuyama, Jun</td>\n",
       "      <td>Main</td>\n",
       "      <td>Code Geass: Hangyaku no Lelouch</td>\n",
       "      <td>1520964</td>\n",
       "      <td>8.98</td>\n",
       "      <td>R</td>\n",
       "    </tr>\n",
       "    <tr>\n",
       "      <th>15409</th>\n",
       "      <td>1575</td>\n",
       "      <td>79</td>\n",
       "      <td>Sakurai, Takahiro</td>\n",
       "      <td>Main</td>\n",
       "      <td>Code Geass: Hangyaku no Lelouch</td>\n",
       "      <td>1520964</td>\n",
       "      <td>8.98</td>\n",
       "      <td>R</td>\n",
       "    </tr>\n",
       "    <tr>\n",
       "      <th>7482</th>\n",
       "      <td>9919</td>\n",
       "      <td>86</td>\n",
       "      <td>Fukuyama, Jun</td>\n",
       "      <td>Main</td>\n",
       "      <td>Ao no Exorcist</td>\n",
       "      <td>1357337</td>\n",
       "      <td>7.36</td>\n",
       "      <td>PG-13</td>\n",
       "    </tr>\n",
       "    <tr>\n",
       "      <th>15424</th>\n",
       "      <td>2904</td>\n",
       "      <td>86</td>\n",
       "      <td>Fukuyama, Jun</td>\n",
       "      <td>Main</td>\n",
       "      <td>Code Geass: Hangyaku no Lelouch R2</td>\n",
       "      <td>1218594</td>\n",
       "      <td>9.12</td>\n",
       "      <td>R</td>\n",
       "    </tr>\n",
       "    <tr>\n",
       "      <th>15423</th>\n",
       "      <td>2904</td>\n",
       "      <td>79</td>\n",
       "      <td>Sakurai, Takahiro</td>\n",
       "      <td>Main</td>\n",
       "      <td>Code Geass: Hangyaku no Lelouch R2</td>\n",
       "      <td>1218594</td>\n",
       "      <td>9.12</td>\n",
       "      <td>R</td>\n",
       "    </tr>\n",
       "    <tr>\n",
       "      <th>926</th>\n",
       "      <td>24833</td>\n",
       "      <td>86</td>\n",
       "      <td>Fukuyama, Jun</td>\n",
       "      <td>Main</td>\n",
       "      <td>Ansatsu Kyoushitsu</td>\n",
       "      <td>1180142</td>\n",
       "      <td>7.98</td>\n",
       "      <td>PG-13</td>\n",
       "    </tr>\n",
       "    <tr>\n",
       "      <th>11245</th>\n",
       "      <td>32182</td>\n",
       "      <td>79</td>\n",
       "      <td>Sakurai, Takahiro</td>\n",
       "      <td>Main</td>\n",
       "      <td>Mob Psycho 100</td>\n",
       "      <td>1176050</td>\n",
       "      <td>8.43</td>\n",
       "      <td>PG-13</td>\n",
       "    </tr>\n",
       "    <tr>\n",
       "      <th>3106</th>\n",
       "      <td>13601</td>\n",
       "      <td>185</td>\n",
       "      <td>Hanazawa, Kana</td>\n",
       "      <td>Main</td>\n",
       "      <td>Psycho-Pass</td>\n",
       "      <td>1173252</td>\n",
       "      <td>8.42</td>\n",
       "      <td>R</td>\n",
       "    </tr>\n",
       "  </tbody>\n",
       "</table>\n",
       "</div>"
      ],
      "text/plain": [
       "       anime  oseba                ime vloga  \\\n",
       "909     9253    185     Hanazawa, Kana  Main   \n",
       "7465    6547    185     Hanazawa, Kana  Main   \n",
       "15410   1575     86      Fukuyama, Jun  Main   \n",
       "15409   1575     79  Sakurai, Takahiro  Main   \n",
       "7482    9919     86      Fukuyama, Jun  Main   \n",
       "15424   2904     86      Fukuyama, Jun  Main   \n",
       "15423   2904     79  Sakurai, Takahiro  Main   \n",
       "926    24833     86      Fukuyama, Jun  Main   \n",
       "11245  32182     79  Sakurai, Takahiro  Main   \n",
       "3106   13601    185     Hanazawa, Kana  Main   \n",
       "\n",
       "                                   naslov  stevilo_clenov  nova ocena oznaka  \n",
       "909                           Steins;Gate         1700936        9.45  PG-13  \n",
       "7465                         Angel Beats!         1529396        8.29  PG-13  \n",
       "15410     Code Geass: Hangyaku no Lelouch         1520964        8.98      R  \n",
       "15409     Code Geass: Hangyaku no Lelouch         1520964        8.98      R  \n",
       "7482                       Ao no Exorcist         1357337        7.36  PG-13  \n",
       "15424  Code Geass: Hangyaku no Lelouch R2         1218594        9.12      R  \n",
       "15423  Code Geass: Hangyaku no Lelouch R2         1218594        9.12      R  \n",
       "926                    Ansatsu Kyoushitsu         1180142        7.98  PG-13  \n",
       "11245                      Mob Psycho 100         1176050        8.43  PG-13  \n",
       "3106                          Psycho-Pass         1173252        8.42      R  "
      ]
     },
     "execution_count": 110,
     "metadata": {},
     "output_type": "execute_result"
    }
   ],
   "source": [
    "vloge_in_animeji[((vloge_in_animeji['oseba'] == 79) | (vloge_in_animeji['oseba'] == 185) | (vloge_in_animeji['oseba'] == 86)) & (vloge_in_animeji['vloga'] == 'Main')].sort_values('stevilo_clenov', ascending=False).head(10)"
   ]
  },
  {
   "cell_type": "markdown",
   "metadata": {},
   "source": [
    "Na koncu poglejmo še direktorje."
   ]
  },
  {
   "cell_type": "code",
   "execution_count": 111,
   "metadata": {},
   "outputs": [
    {
     "data": {
      "text/plain": [
       "oseba\n",
       "8573    37\n",
       "6909    31\n",
       "5089    31\n",
       "5640    29\n",
       "4002    27\n",
       "dtype: int64"
      ]
     },
     "execution_count": 111,
     "metadata": {},
     "output_type": "execute_result"
    }
   ],
   "source": [
    "osebe_in_vloge[osebe_in_vloge['vloga'] == 'Director'].groupby('oseba').size().sort_values(ascending=False).head(5)"
   ]
  },
  {
   "cell_type": "code",
   "execution_count": 112,
   "metadata": {},
   "outputs": [
    {
     "data": {
      "text/html": [
       "<div>\n",
       "<style scoped>\n",
       "    .dataframe tbody tr th:only-of-type {\n",
       "        vertical-align: middle;\n",
       "    }\n",
       "\n",
       "    .dataframe tbody tr th {\n",
       "        vertical-align: top;\n",
       "    }\n",
       "\n",
       "    .dataframe thead th {\n",
       "        text-align: right;\n",
       "    }\n",
       "</style>\n",
       "<table border=\"1\" class=\"dataframe\">\n",
       "  <thead>\n",
       "    <tr style=\"text-align: right;\">\n",
       "      <th></th>\n",
       "      <th>anime</th>\n",
       "      <th>oseba</th>\n",
       "      <th>ime</th>\n",
       "      <th>vloga</th>\n",
       "      <th>naslov</th>\n",
       "      <th>stevilo_clenov</th>\n",
       "      <th>nova ocena</th>\n",
       "      <th>oznaka</th>\n",
       "    </tr>\n",
       "  </thead>\n",
       "  <tbody>\n",
       "    <tr>\n",
       "      <th>7476</th>\n",
       "      <td>6547</td>\n",
       "      <td>6909</td>\n",
       "      <td>Kishi, Seiji</td>\n",
       "      <td>Director</td>\n",
       "      <td>Angel Beats!</td>\n",
       "      <td>1529396</td>\n",
       "      <td>8.29</td>\n",
       "      <td>PG-13</td>\n",
       "    </tr>\n",
       "    <tr>\n",
       "      <th>924</th>\n",
       "      <td>24833</td>\n",
       "      <td>6909</td>\n",
       "      <td>Kishi, Seiji</td>\n",
       "      <td>Director</td>\n",
       "      <td>Ansatsu Kyoushitsu</td>\n",
       "      <td>1180142</td>\n",
       "      <td>7.98</td>\n",
       "      <td>PG-13</td>\n",
       "    </tr>\n",
       "    <tr>\n",
       "      <th>7504</th>\n",
       "      <td>5081</td>\n",
       "      <td>5089</td>\n",
       "      <td>Shinbou, Akiyuki</td>\n",
       "      <td>Director</td>\n",
       "      <td>Bakemonogatari</td>\n",
       "      <td>1027009</td>\n",
       "      <td>8.44</td>\n",
       "      <td>R</td>\n",
       "    </tr>\n",
       "    <tr>\n",
       "      <th>20130</th>\n",
       "      <td>9756</td>\n",
       "      <td>5089</td>\n",
       "      <td>Shinbou, Akiyuki</td>\n",
       "      <td>Director</td>\n",
       "      <td>Mahou Shoujo Madoka★Magica</td>\n",
       "      <td>941328</td>\n",
       "      <td>8.49</td>\n",
       "      <td>PG-13</td>\n",
       "    </tr>\n",
       "    <tr>\n",
       "      <th>994</th>\n",
       "      <td>30654</td>\n",
       "      <td>6909</td>\n",
       "      <td>Kishi, Seiji</td>\n",
       "      <td>Director</td>\n",
       "      <td>Ansatsu Kyoushitsu 2nd Season</td>\n",
       "      <td>841353</td>\n",
       "      <td>8.10</td>\n",
       "      <td>PG-13</td>\n",
       "    </tr>\n",
       "    <tr>\n",
       "      <th>5472</th>\n",
       "      <td>18897</td>\n",
       "      <td>5089</td>\n",
       "      <td>Shinbou, Akiyuki</td>\n",
       "      <td>Director</td>\n",
       "      <td>Nisekoi</td>\n",
       "      <td>821753</td>\n",
       "      <td>7.22</td>\n",
       "      <td>PG-13</td>\n",
       "    </tr>\n",
       "    <tr>\n",
       "      <th>26069</th>\n",
       "      <td>16592</td>\n",
       "      <td>6909</td>\n",
       "      <td>Kishi, Seiji</td>\n",
       "      <td>Director</td>\n",
       "      <td>Danganronpa: Kibou no Gakuen to Zetsubou no Ko...</td>\n",
       "      <td>662556</td>\n",
       "      <td>6.52</td>\n",
       "      <td>R</td>\n",
       "    </tr>\n",
       "    <tr>\n",
       "      <th>17872</th>\n",
       "      <td>35507</td>\n",
       "      <td>6909</td>\n",
       "      <td>Kishi, Seiji</td>\n",
       "      <td>Director</td>\n",
       "      <td>Youkoso Jitsuryoku Shijou Shugi no Kyoushitsu ...</td>\n",
       "      <td>541471</td>\n",
       "      <td>7.04</td>\n",
       "      <td>PG-13</td>\n",
       "    </tr>\n",
       "    <tr>\n",
       "      <th>7572</th>\n",
       "      <td>17074</td>\n",
       "      <td>5089</td>\n",
       "      <td>Shinbou, Akiyuki</td>\n",
       "      <td>Director</td>\n",
       "      <td>Monogatari Series: Second Season</td>\n",
       "      <td>491559</td>\n",
       "      <td>8.50</td>\n",
       "      <td>R</td>\n",
       "    </tr>\n",
       "    <tr>\n",
       "      <th>5636</th>\n",
       "      <td>27787</td>\n",
       "      <td>5089</td>\n",
       "      <td>Shinbou, Akiyuki</td>\n",
       "      <td>Director</td>\n",
       "      <td>Nisekoi:</td>\n",
       "      <td>477638</td>\n",
       "      <td>4.92</td>\n",
       "      <td>PG-13</td>\n",
       "    </tr>\n",
       "  </tbody>\n",
       "</table>\n",
       "</div>"
      ],
      "text/plain": [
       "       anime  oseba               ime     vloga  \\\n",
       "7476    6547   6909      Kishi, Seiji  Director   \n",
       "924    24833   6909      Kishi, Seiji  Director   \n",
       "7504    5081   5089  Shinbou, Akiyuki  Director   \n",
       "20130   9756   5089  Shinbou, Akiyuki  Director   \n",
       "994    30654   6909      Kishi, Seiji  Director   \n",
       "5472   18897   5089  Shinbou, Akiyuki  Director   \n",
       "26069  16592   6909      Kishi, Seiji  Director   \n",
       "17872  35507   6909      Kishi, Seiji  Director   \n",
       "7572   17074   5089  Shinbou, Akiyuki  Director   \n",
       "5636   27787   5089  Shinbou, Akiyuki  Director   \n",
       "\n",
       "                                                  naslov  stevilo_clenov  \\\n",
       "7476                                        Angel Beats!         1529396   \n",
       "924                                   Ansatsu Kyoushitsu         1180142   \n",
       "7504                                      Bakemonogatari         1027009   \n",
       "20130                         Mahou Shoujo Madoka★Magica          941328   \n",
       "994                        Ansatsu Kyoushitsu 2nd Season          841353   \n",
       "5472                                             Nisekoi          821753   \n",
       "26069  Danganronpa: Kibou no Gakuen to Zetsubou no Ko...          662556   \n",
       "17872  Youkoso Jitsuryoku Shijou Shugi no Kyoushitsu ...          541471   \n",
       "7572                    Monogatari Series: Second Season          491559   \n",
       "5636                                            Nisekoi:          477638   \n",
       "\n",
       "       nova ocena oznaka  \n",
       "7476         8.29  PG-13  \n",
       "924          7.98  PG-13  \n",
       "7504         8.44      R  \n",
       "20130        8.49  PG-13  \n",
       "994          8.10  PG-13  \n",
       "5472         7.22  PG-13  \n",
       "26069        6.52      R  \n",
       "17872        7.04  PG-13  \n",
       "7572         8.50      R  \n",
       "5636         4.92  PG-13  "
      ]
     },
     "execution_count": 112,
     "metadata": {},
     "output_type": "execute_result"
    }
   ],
   "source": [
    "vloge_in_animeji[((vloge_in_animeji['oseba'] == 6909) | (vloge_in_animeji['oseba'] == 5089) | (vloge_in_animeji['oseba'] == 8573)) & (vloge_in_animeji['vloga'] == 'Director')].sort_values('stevilo_clenov', ascending=False).head(10)"
   ]
  },
  {
   "cell_type": "markdown",
   "metadata": {},
   "source": [
    "Ker vidimo, da *Sasagawa Hiroshi* ni v tabeli, ker očitno ni delal popularne animeje, poglejmo nekatere njegove animeje."
   ]
  },
  {
   "cell_type": "code",
   "execution_count": 113,
   "metadata": {},
   "outputs": [
    {
     "data": {
      "text/html": [
       "<div>\n",
       "<style scoped>\n",
       "    .dataframe tbody tr th:only-of-type {\n",
       "        vertical-align: middle;\n",
       "    }\n",
       "\n",
       "    .dataframe tbody tr th {\n",
       "        vertical-align: top;\n",
       "    }\n",
       "\n",
       "    .dataframe thead th {\n",
       "        text-align: right;\n",
       "    }\n",
       "</style>\n",
       "<table border=\"1\" class=\"dataframe\">\n",
       "  <thead>\n",
       "    <tr style=\"text-align: right;\">\n",
       "      <th></th>\n",
       "      <th>anime</th>\n",
       "      <th>oseba</th>\n",
       "      <th>ime</th>\n",
       "      <th>vloga</th>\n",
       "      <th>naslov</th>\n",
       "      <th>stevilo_clenov</th>\n",
       "      <th>nova ocena</th>\n",
       "      <th>oznaka</th>\n",
       "    </tr>\n",
       "  </thead>\n",
       "  <tbody>\n",
       "    <tr>\n",
       "      <th>16061</th>\n",
       "      <td>1445</td>\n",
       "      <td>8573</td>\n",
       "      <td>Sasagawa, Hiroshi</td>\n",
       "      <td>Director</td>\n",
       "      <td>Mach GoGoGo</td>\n",
       "      <td>11201</td>\n",
       "      <td>0.47</td>\n",
       "      <td>PG-13</td>\n",
       "    </tr>\n",
       "    <tr>\n",
       "      <th>34427</th>\n",
       "      <td>3125</td>\n",
       "      <td>8573</td>\n",
       "      <td>Sasagawa, Hiroshi</td>\n",
       "      <td>Director</td>\n",
       "      <td>Tokimeki Tonight</td>\n",
       "      <td>6802</td>\n",
       "      <td>0.21</td>\n",
       "      <td>PG</td>\n",
       "    </tr>\n",
       "    <tr>\n",
       "      <th>40018</th>\n",
       "      <td>4936</td>\n",
       "      <td>8573</td>\n",
       "      <td>Sasagawa, Hiroshi</td>\n",
       "      <td>Director</td>\n",
       "      <td>Ninja Hattori-kun</td>\n",
       "      <td>6219</td>\n",
       "      <td>0.16</td>\n",
       "      <td>G</td>\n",
       "    </tr>\n",
       "  </tbody>\n",
       "</table>\n",
       "</div>"
      ],
      "text/plain": [
       "       anime  oseba                ime     vloga             naslov  \\\n",
       "16061   1445   8573  Sasagawa, Hiroshi  Director        Mach GoGoGo   \n",
       "34427   3125   8573  Sasagawa, Hiroshi  Director   Tokimeki Tonight   \n",
       "40018   4936   8573  Sasagawa, Hiroshi  Director  Ninja Hattori-kun   \n",
       "\n",
       "       stevilo_clenov  nova ocena oznaka  \n",
       "16061           11201        0.47  PG-13  \n",
       "34427            6802        0.21     PG  \n",
       "40018            6219        0.16      G  "
      ]
     },
     "execution_count": 113,
     "metadata": {},
     "output_type": "execute_result"
    }
   ],
   "source": [
    "vloge_in_animeji[(vloge_in_animeji['oseba'] == 8573) & (vloge_in_animeji['vloga'] == 'Director')].sort_values('stevilo_clenov', ascending=False).head(3)"
   ]
  },
  {
   "cell_type": "markdown",
   "metadata": {},
   "source": [
    "Zdaj, ko imamo predstavo o čem govorimo, poglejmo, katere so osebe delale na najbolj popularnim in najboljšim animejima."
   ]
  },
  {
   "cell_type": "code",
   "execution_count": 114,
   "metadata": {},
   "outputs": [
    {
     "data": {
      "text/plain": [
       "oseba\n",
       "672    12\n",
       "79     10\n",
       "65      9\n",
       "185     9\n",
       "118     8\n",
       "dtype: int64"
      ]
     },
     "execution_count": 114,
     "metadata": {},
     "output_type": "execute_result"
    }
   ],
   "source": [
    "vloge_in_animeji[vloge_in_animeji['stevilo_clenov'] >= 1000000].groupby('oseba').size().sort_values(ascending=False).head(5)"
   ]
  },
  {
   "cell_type": "markdown",
   "metadata": {},
   "source": [
    "Bomo pogledali prve tri osebe na tej listi, animeje, vloge in povprečno število členov."
   ]
  },
  {
   "cell_type": "code",
   "execution_count": 115,
   "metadata": {},
   "outputs": [
    {
     "data": {
      "text/html": [
       "<div>\n",
       "<style scoped>\n",
       "    .dataframe tbody tr th:only-of-type {\n",
       "        vertical-align: middle;\n",
       "    }\n",
       "\n",
       "    .dataframe tbody tr th {\n",
       "        vertical-align: top;\n",
       "    }\n",
       "\n",
       "    .dataframe thead th {\n",
       "        text-align: right;\n",
       "    }\n",
       "</style>\n",
       "<table border=\"1\" class=\"dataframe\">\n",
       "  <thead>\n",
       "    <tr style=\"text-align: right;\">\n",
       "      <th></th>\n",
       "      <th>anime</th>\n",
       "      <th>oseba</th>\n",
       "      <th>ime</th>\n",
       "      <th>vloga</th>\n",
       "      <th>naslov</th>\n",
       "      <th>stevilo_clenov</th>\n",
       "      <th>nova ocena</th>\n",
       "      <th>oznaka</th>\n",
       "    </tr>\n",
       "  </thead>\n",
       "  <tbody>\n",
       "    <tr>\n",
       "      <th>1</th>\n",
       "      <td>1535</td>\n",
       "      <td>65</td>\n",
       "      <td>Miyano, Mamoru</td>\n",
       "      <td>Main</td>\n",
       "      <td>Death Note</td>\n",
       "      <td>2444192</td>\n",
       "      <td>8.95</td>\n",
       "      <td>R</td>\n",
       "    </tr>\n",
       "    <tr>\n",
       "      <th>4857</th>\n",
       "      <td>16498</td>\n",
       "      <td>672</td>\n",
       "      <td>Kaji, Yuki</td>\n",
       "      <td>Main</td>\n",
       "      <td>Shingeki no Kyojin</td>\n",
       "      <td>2357843</td>\n",
       "      <td>8.77</td>\n",
       "      <td>R</td>\n",
       "    </tr>\n",
       "    <tr>\n",
       "      <th>879</th>\n",
       "      <td>5114</td>\n",
       "      <td>65</td>\n",
       "      <td>Miyano, Mamoru</td>\n",
       "      <td>Supporting</td>\n",
       "      <td>Fullmetal Alchemist: Brotherhood</td>\n",
       "      <td>2116735</td>\n",
       "      <td>9.56</td>\n",
       "      <td>R</td>\n",
       "    </tr>\n",
       "    <tr>\n",
       "      <th>5295</th>\n",
       "      <td>30276</td>\n",
       "      <td>672</td>\n",
       "      <td>Kaji, Yuki</td>\n",
       "      <td>Supporting</td>\n",
       "      <td>One Punch Man</td>\n",
       "      <td>2008875</td>\n",
       "      <td>8.77</td>\n",
       "      <td>R</td>\n",
       "    </tr>\n",
       "    <tr>\n",
       "      <th>5309</th>\n",
       "      <td>31964</td>\n",
       "      <td>672</td>\n",
       "      <td>Kaji, Yuki</td>\n",
       "      <td>Supporting</td>\n",
       "      <td>Boku no Hero Academia</td>\n",
       "      <td>1795271</td>\n",
       "      <td>8.28</td>\n",
       "      <td>PG-13</td>\n",
       "    </tr>\n",
       "    <tr>\n",
       "      <th>893</th>\n",
       "      <td>22319</td>\n",
       "      <td>65</td>\n",
       "      <td>Miyano, Mamoru</td>\n",
       "      <td>Supporting</td>\n",
       "      <td>Tokyo Ghoul</td>\n",
       "      <td>1792134</td>\n",
       "      <td>7.93</td>\n",
       "      <td>R</td>\n",
       "    </tr>\n",
       "    <tr>\n",
       "      <th>894</th>\n",
       "      <td>22319</td>\n",
       "      <td>672</td>\n",
       "      <td>Kaji, Yuki</td>\n",
       "      <td>Supporting</td>\n",
       "      <td>Tokyo Ghoul</td>\n",
       "      <td>1792134</td>\n",
       "      <td>7.93</td>\n",
       "      <td>R</td>\n",
       "    </tr>\n",
       "    <tr>\n",
       "      <th>898</th>\n",
       "      <td>22319</td>\n",
       "      <td>79</td>\n",
       "      <td>Sakurai, Takahiro</td>\n",
       "      <td>Supporting</td>\n",
       "      <td>Tokyo Ghoul</td>\n",
       "      <td>1792134</td>\n",
       "      <td>7.93</td>\n",
       "      <td>R</td>\n",
       "    </tr>\n",
       "    <tr>\n",
       "      <th>907</th>\n",
       "      <td>9253</td>\n",
       "      <td>65</td>\n",
       "      <td>Miyano, Mamoru</td>\n",
       "      <td>Main</td>\n",
       "      <td>Steins;Gate</td>\n",
       "      <td>1700936</td>\n",
       "      <td>9.45</td>\n",
       "      <td>PG-13</td>\n",
       "    </tr>\n",
       "    <tr>\n",
       "      <th>15</th>\n",
       "      <td>11061</td>\n",
       "      <td>65</td>\n",
       "      <td>Miyano, Mamoru</td>\n",
       "      <td>Supporting</td>\n",
       "      <td>Hunter x Hunter (2011)</td>\n",
       "      <td>1559355</td>\n",
       "      <td>9.43</td>\n",
       "      <td>PG-13</td>\n",
       "    </tr>\n",
       "  </tbody>\n",
       "</table>\n",
       "</div>"
      ],
      "text/plain": [
       "      anime  oseba                ime       vloga  \\\n",
       "1      1535     65     Miyano, Mamoru        Main   \n",
       "4857  16498    672         Kaji, Yuki        Main   \n",
       "879    5114     65     Miyano, Mamoru  Supporting   \n",
       "5295  30276    672         Kaji, Yuki  Supporting   \n",
       "5309  31964    672         Kaji, Yuki  Supporting   \n",
       "893   22319     65     Miyano, Mamoru  Supporting   \n",
       "894   22319    672         Kaji, Yuki  Supporting   \n",
       "898   22319     79  Sakurai, Takahiro  Supporting   \n",
       "907    9253     65     Miyano, Mamoru        Main   \n",
       "15    11061     65     Miyano, Mamoru  Supporting   \n",
       "\n",
       "                                naslov  stevilo_clenov  nova ocena oznaka  \n",
       "1                           Death Note         2444192        8.95      R  \n",
       "4857                Shingeki no Kyojin         2357843        8.77      R  \n",
       "879   Fullmetal Alchemist: Brotherhood         2116735        9.56      R  \n",
       "5295                     One Punch Man         2008875        8.77      R  \n",
       "5309             Boku no Hero Academia         1795271        8.28  PG-13  \n",
       "893                        Tokyo Ghoul         1792134        7.93      R  \n",
       "894                        Tokyo Ghoul         1792134        7.93      R  \n",
       "898                        Tokyo Ghoul         1792134        7.93      R  \n",
       "907                        Steins;Gate         1700936        9.45  PG-13  \n",
       "15              Hunter x Hunter (2011)         1559355        9.43  PG-13  "
      ]
     },
     "execution_count": 115,
     "metadata": {},
     "output_type": "execute_result"
    }
   ],
   "source": [
    "vloge_in_animeji[((vloge_in_animeji['oseba'] == 672) | (vloge_in_animeji['oseba'] == 79) | (vloge_in_animeji['oseba'] == 65)) & (vloge_in_animeji['stevilo_clenov'] > 1000000)].sort_values('stevilo_clenov', ascending=False).head(10)"
   ]
  },
  {
   "cell_type": "code",
   "execution_count": 116,
   "metadata": {},
   "outputs": [
    {
     "data": {
      "text/plain": [
       "oseba\n",
       "292      2444192.0\n",
       "32079    1700936.0\n",
       "39348    1579703.0\n",
       "6564     1482578.0\n",
       "8155     1473813.0\n",
       "Name: stevilo_clenov, dtype: float64"
      ]
     },
     "execution_count": 116,
     "metadata": {},
     "output_type": "execute_result"
    }
   ],
   "source": [
    "vloge_in_animeji.groupby('oseba').mean()['stevilo_clenov'].sort_values(ascending=False).head(5)"
   ]
  },
  {
   "cell_type": "code",
   "execution_count": 117,
   "metadata": {},
   "outputs": [
    {
     "data": {
      "text/html": [
       "<div>\n",
       "<style scoped>\n",
       "    .dataframe tbody tr th:only-of-type {\n",
       "        vertical-align: middle;\n",
       "    }\n",
       "\n",
       "    .dataframe tbody tr th {\n",
       "        vertical-align: top;\n",
       "    }\n",
       "\n",
       "    .dataframe thead th {\n",
       "        text-align: right;\n",
       "    }\n",
       "</style>\n",
       "<table border=\"1\" class=\"dataframe\">\n",
       "  <thead>\n",
       "    <tr style=\"text-align: right;\">\n",
       "      <th></th>\n",
       "      <th>anime</th>\n",
       "      <th>oseba</th>\n",
       "      <th>ime</th>\n",
       "      <th>vloga</th>\n",
       "      <th>naslov</th>\n",
       "      <th>stevilo_clenov</th>\n",
       "      <th>nova ocena</th>\n",
       "      <th>oznaka</th>\n",
       "    </tr>\n",
       "  </thead>\n",
       "  <tbody>\n",
       "    <tr>\n",
       "      <th>2</th>\n",
       "      <td>1535</td>\n",
       "      <td>292</td>\n",
       "      <td>Nakamura, Shidou</td>\n",
       "      <td>Main</td>\n",
       "      <td>Death Note</td>\n",
       "      <td>2444192</td>\n",
       "      <td>8.95</td>\n",
       "      <td>R</td>\n",
       "    </tr>\n",
       "  </tbody>\n",
       "</table>\n",
       "</div>"
      ],
      "text/plain": [
       "   anime  oseba               ime vloga      naslov  stevilo_clenov  \\\n",
       "2   1535    292  Nakamura, Shidou  Main  Death Note         2444192   \n",
       "\n",
       "   nova ocena oznaka  \n",
       "2        8.95      R  "
      ]
     },
     "execution_count": 117,
     "metadata": {},
     "output_type": "execute_result"
    }
   ],
   "source": [
    "vloge_in_animeji[vloge_in_animeji['oseba'] == 292].sort_values('stevilo_clenov', ascending=False).head(1)"
   ]
  },
  {
   "cell_type": "markdown",
   "metadata": {},
   "source": [
    "Torej je najbolj popularana oseba *Nakamura Shidou* z najbolj popularnim animejem *Death Note*."
   ]
  },
  {
   "cell_type": "code",
   "execution_count": 118,
   "metadata": {},
   "outputs": [
    {
     "data": {
      "text/plain": [
       "oseba\n",
       "672     11\n",
       "79       9\n",
       "118      8\n",
       "5626     7\n",
       "185      7\n",
       "dtype: int64"
      ]
     },
     "execution_count": 118,
     "metadata": {},
     "output_type": "execute_result"
    }
   ],
   "source": [
    "vloge_in_animeji[(vloge_in_animeji['nova ocena'] > 8) & (vloge_in_animeji['stevilo_clenov'] > 800000)].groupby('oseba').size().sort_values(ascending=False).head(5)"
   ]
  },
  {
   "cell_type": "code",
   "execution_count": 119,
   "metadata": {},
   "outputs": [
    {
     "data": {
      "text/html": [
       "<div>\n",
       "<style scoped>\n",
       "    .dataframe tbody tr th:only-of-type {\n",
       "        vertical-align: middle;\n",
       "    }\n",
       "\n",
       "    .dataframe tbody tr th {\n",
       "        vertical-align: top;\n",
       "    }\n",
       "\n",
       "    .dataframe thead th {\n",
       "        text-align: right;\n",
       "    }\n",
       "</style>\n",
       "<table border=\"1\" class=\"dataframe\">\n",
       "  <thead>\n",
       "    <tr style=\"text-align: right;\">\n",
       "      <th></th>\n",
       "      <th>anime</th>\n",
       "      <th>oseba</th>\n",
       "      <th>ime</th>\n",
       "      <th>vloga</th>\n",
       "      <th>naslov</th>\n",
       "      <th>stevilo_clenov</th>\n",
       "      <th>nova ocena</th>\n",
       "      <th>oznaka</th>\n",
       "    </tr>\n",
       "  </thead>\n",
       "  <tbody>\n",
       "    <tr>\n",
       "      <th>4901</th>\n",
       "      <td>38524</td>\n",
       "      <td>118</td>\n",
       "      <td>Kamiya, Hiroshi</td>\n",
       "      <td>Main</td>\n",
       "      <td>Shingeki no Kyojin Season 3 Part 2</td>\n",
       "      <td>938570</td>\n",
       "      <td>9.13</td>\n",
       "      <td>R</td>\n",
       "    </tr>\n",
       "    <tr>\n",
       "      <th>4899</th>\n",
       "      <td>38524</td>\n",
       "      <td>672</td>\n",
       "      <td>Kaji, Yuki</td>\n",
       "      <td>Main</td>\n",
       "      <td>Shingeki no Kyojin Season 3 Part 2</td>\n",
       "      <td>938570</td>\n",
       "      <td>9.13</td>\n",
       "      <td>R</td>\n",
       "    </tr>\n",
       "    <tr>\n",
       "      <th>15423</th>\n",
       "      <td>2904</td>\n",
       "      <td>79</td>\n",
       "      <td>Sakurai, Takahiro</td>\n",
       "      <td>Main</td>\n",
       "      <td>Code Geass: Hangyaku no Lelouch R2</td>\n",
       "      <td>1218594</td>\n",
       "      <td>9.12</td>\n",
       "      <td>R</td>\n",
       "    </tr>\n",
       "    <tr>\n",
       "      <th>15409</th>\n",
       "      <td>1575</td>\n",
       "      <td>79</td>\n",
       "      <td>Sakurai, Takahiro</td>\n",
       "      <td>Main</td>\n",
       "      <td>Code Geass: Hangyaku no Lelouch</td>\n",
       "      <td>1520964</td>\n",
       "      <td>8.98</td>\n",
       "      <td>R</td>\n",
       "    </tr>\n",
       "    <tr>\n",
       "      <th>5351</th>\n",
       "      <td>23273</td>\n",
       "      <td>672</td>\n",
       "      <td>Kaji, Yuki</td>\n",
       "      <td>Supporting</td>\n",
       "      <td>Shigatsu wa Kimi no Uso</td>\n",
       "      <td>1364239</td>\n",
       "      <td>8.97</td>\n",
       "      <td>PG-13</td>\n",
       "    </tr>\n",
       "  </tbody>\n",
       "</table>\n",
       "</div>"
      ],
      "text/plain": [
       "       anime  oseba                ime       vloga  \\\n",
       "4901   38524    118    Kamiya, Hiroshi        Main   \n",
       "4899   38524    672         Kaji, Yuki        Main   \n",
       "15423   2904     79  Sakurai, Takahiro        Main   \n",
       "15409   1575     79  Sakurai, Takahiro        Main   \n",
       "5351   23273    672         Kaji, Yuki  Supporting   \n",
       "\n",
       "                                   naslov  stevilo_clenov  nova ocena oznaka  \n",
       "4901   Shingeki no Kyojin Season 3 Part 2          938570        9.13      R  \n",
       "4899   Shingeki no Kyojin Season 3 Part 2          938570        9.13      R  \n",
       "15423  Code Geass: Hangyaku no Lelouch R2         1218594        9.12      R  \n",
       "15409     Code Geass: Hangyaku no Lelouch         1520964        8.98      R  \n",
       "5351              Shigatsu wa Kimi no Uso         1364239        8.97  PG-13  "
      ]
     },
     "execution_count": 119,
     "metadata": {},
     "output_type": "execute_result"
    }
   ],
   "source": [
    "vloge_in_animeji[((vloge_in_animeji['oseba'] == 79) | (vloge_in_animeji['oseba'] == 672) | (vloge_in_animeji['oseba'] == 118)) & ((vloge_in_animeji['nova ocena'] > 8) & (vloge_in_animeji['stevilo_clenov'] > 800000))].sort_values('nova ocena', ascending=False).head(5)"
   ]
  },
  {
   "cell_type": "code",
   "execution_count": 120,
   "metadata": {},
   "outputs": [
    {
     "data": {
      "text/plain": [
       "oseba\n",
       "32079    9.45\n",
       "292      8.95\n",
       "5923     8.87\n",
       "7032     8.87\n",
       "1672     8.67\n",
       "Name: nova ocena, dtype: float64"
      ]
     },
     "execution_count": 120,
     "metadata": {},
     "output_type": "execute_result"
    }
   ],
   "source": [
    "vloge_in_animeji.groupby('oseba').mean()['nova ocena'].sort_values(ascending=False).head(5)"
   ]
  },
  {
   "cell_type": "code",
   "execution_count": 121,
   "metadata": {},
   "outputs": [
    {
     "data": {
      "text/html": [
       "<div>\n",
       "<style scoped>\n",
       "    .dataframe tbody tr th:only-of-type {\n",
       "        vertical-align: middle;\n",
       "    }\n",
       "\n",
       "    .dataframe tbody tr th {\n",
       "        vertical-align: top;\n",
       "    }\n",
       "\n",
       "    .dataframe thead th {\n",
       "        text-align: right;\n",
       "    }\n",
       "</style>\n",
       "<table border=\"1\" class=\"dataframe\">\n",
       "  <thead>\n",
       "    <tr style=\"text-align: right;\">\n",
       "      <th></th>\n",
       "      <th>anime</th>\n",
       "      <th>oseba</th>\n",
       "      <th>ime</th>\n",
       "      <th>vloga</th>\n",
       "      <th>naslov</th>\n",
       "      <th>stevilo_clenov</th>\n",
       "      <th>nova ocena</th>\n",
       "      <th>oznaka</th>\n",
       "    </tr>\n",
       "  </thead>\n",
       "  <tbody>\n",
       "    <tr>\n",
       "      <th>918</th>\n",
       "      <td>9253</td>\n",
       "      <td>32079</td>\n",
       "      <td>Yasuda, Takeshi</td>\n",
       "      <td>Producer</td>\n",
       "      <td>Steins;Gate</td>\n",
       "      <td>1700936</td>\n",
       "      <td>9.45</td>\n",
       "      <td>PG-13</td>\n",
       "    </tr>\n",
       "  </tbody>\n",
       "</table>\n",
       "</div>"
      ],
      "text/plain": [
       "     anime  oseba              ime     vloga       naslov  stevilo_clenov  \\\n",
       "918   9253  32079  Yasuda, Takeshi  Producer  Steins;Gate         1700936   \n",
       "\n",
       "     nova ocena oznaka  \n",
       "918        9.45  PG-13  "
      ]
     },
     "execution_count": 121,
     "metadata": {},
     "output_type": "execute_result"
    }
   ],
   "source": [
    "vloge_in_animeji[vloge_in_animeji['oseba'] == 32079].sort_values('nova ocena', ascending=False).head(1)"
   ]
  },
  {
   "cell_type": "markdown",
   "metadata": {},
   "source": [
    "Oseba z najvišjo oceno je *Yasuda Takeshi* z najboljšim animejem *Steins;Gate*."
   ]
  },
  {
   "cell_type": "markdown",
   "metadata": {},
   "source": [
    "Na koncu, bomo še pogledali v katerim žanrima so osebe delale in v animejima s katero oznako."
   ]
  },
  {
   "cell_type": "code",
   "execution_count": 122,
   "metadata": {},
   "outputs": [
    {
     "data": {
      "text/plain": [
       "<AxesSubplot:ylabel='oznaka'>"
      ]
     },
     "execution_count": 122,
     "metadata": {},
     "output_type": "execute_result"
    },
    {
     "data": {
      "image/png": "[encoded data removed]",
      "text/plain": [
       "<Figure size 432x288 with 1 Axes>"
      ]
     },
     "metadata": {
      "needs_background": "light"
     },
     "output_type": "display_data"
    }
   ],
   "source": [
    "vloge_in_animeji.groupby('oznaka').size().sort_values().plot.barh(color='#201ba8')"
   ]
  },
  {
   "cell_type": "markdown",
   "metadata": {},
   "source": [
    "Torej je največ oseb delalo v animejih z oznako **PG-13**, kar je bila naša predpostavka."
   ]
  },
  {
   "cell_type": "code",
   "execution_count": 123,
   "metadata": {},
   "outputs": [],
   "source": [
    "vloge_in_zanri = pd.merge(osebe_in_vloge, zanri)"
   ]
  },
  {
   "cell_type": "code",
   "execution_count": 124,
   "metadata": {},
   "outputs": [
    {
     "data": {
      "text/plain": [
       "zanr\n",
       "Comedy       19359\n",
       "Action       14399\n",
       "Adventure    10546\n",
       "Drama         9975\n",
       "Fantasy       9560\n",
       "dtype: int64"
      ]
     },
     "execution_count": 124,
     "metadata": {},
     "output_type": "execute_result"
    }
   ],
   "source": [
    "vloge_in_zanri.groupby('zanr').size().sort_values(ascending=False).head(5)"
   ]
  },
  {
   "cell_type": "markdown",
   "metadata": {},
   "source": [
    "Največje število oseb je delalo na **komedijah**, kot smo predpostavili.\n",
    "***"
   ]
  },
  {
   "cell_type": "markdown",
   "metadata": {},
   "source": [
    "## Studii"
   ]
  },
  {
   "cell_type": "markdown",
   "metadata": {},
   "source": [
    "Na koncu nam je ostalo še, da pogledamo studie."
   ]
  },
  {
   "cell_type": "code",
   "execution_count": 125,
   "metadata": {},
   "outputs": [],
   "source": [
    "s_animeji = pd.merge(animeji, studii_a, left_on='id', right_on='anime')"
   ]
  },
  {
   "cell_type": "code",
   "execution_count": 126,
   "metadata": {},
   "outputs": [
    {
     "data": {
      "text/html": [
       "<div>\n",
       "<style scoped>\n",
       "    .dataframe tbody tr th:only-of-type {\n",
       "        vertical-align: middle;\n",
       "    }\n",
       "\n",
       "    .dataframe tbody tr th {\n",
       "        vertical-align: top;\n",
       "    }\n",
       "\n",
       "    .dataframe thead th {\n",
       "        text-align: right;\n",
       "    }\n",
       "</style>\n",
       "<table border=\"1\" class=\"dataframe\">\n",
       "  <thead>\n",
       "    <tr style=\"text-align: right;\">\n",
       "      <th></th>\n",
       "      <th>naslov</th>\n",
       "      <th>zacetek</th>\n",
       "      <th>stevilo_clenov</th>\n",
       "      <th>nova ocena</th>\n",
       "      <th>oznaka</th>\n",
       "      <th>id animeja</th>\n",
       "      <th>id studia</th>\n",
       "      <th>studio</th>\n",
       "    </tr>\n",
       "  </thead>\n",
       "  <tbody>\n",
       "    <tr>\n",
       "      <th>0</th>\n",
       "      <td>Death Note</td>\n",
       "      <td>2006.0</td>\n",
       "      <td>2444192</td>\n",
       "      <td>8.95</td>\n",
       "      <td>R</td>\n",
       "      <td>1535</td>\n",
       "      <td>11</td>\n",
       "      <td>Madhouse</td>\n",
       "    </tr>\n",
       "    <tr>\n",
       "      <th>1</th>\n",
       "      <td>One Punch Man</td>\n",
       "      <td>2015.0</td>\n",
       "      <td>2008875</td>\n",
       "      <td>8.77</td>\n",
       "      <td>R</td>\n",
       "      <td>30276</td>\n",
       "      <td>11</td>\n",
       "      <td>Madhouse</td>\n",
       "    </tr>\n",
       "    <tr>\n",
       "      <th>2</th>\n",
       "      <td>Hunter x Hunter (2011)</td>\n",
       "      <td>2011.0</td>\n",
       "      <td>1559355</td>\n",
       "      <td>9.43</td>\n",
       "      <td>PG-13</td>\n",
       "      <td>11061</td>\n",
       "      <td>11</td>\n",
       "      <td>Madhouse</td>\n",
       "    </tr>\n",
       "    <tr>\n",
       "      <th>3</th>\n",
       "      <td>Kiseijuu: Sei no Kakuritsu</td>\n",
       "      <td>2014.0</td>\n",
       "      <td>1189661</td>\n",
       "      <td>8.35</td>\n",
       "      <td>R</td>\n",
       "      <td>22535</td>\n",
       "      <td>11</td>\n",
       "      <td>Madhouse</td>\n",
       "    </tr>\n",
       "    <tr>\n",
       "      <th>4</th>\n",
       "      <td>Death Parade</td>\n",
       "      <td>2015.0</td>\n",
       "      <td>1150531</td>\n",
       "      <td>8.07</td>\n",
       "      <td>R</td>\n",
       "      <td>28223</td>\n",
       "      <td>11</td>\n",
       "      <td>Madhouse</td>\n",
       "    </tr>\n",
       "    <tr>\n",
       "      <th>...</th>\n",
       "      <td>...</td>\n",
       "      <td>...</td>\n",
       "      <td>...</td>\n",
       "      <td>...</td>\n",
       "      <td>...</td>\n",
       "      <td>...</td>\n",
       "      <td>...</td>\n",
       "      <td>...</td>\n",
       "    </tr>\n",
       "    <tr>\n",
       "      <th>3555</th>\n",
       "      <td>Zhandou Wang Zhi Jufeng Zhan Hun 5</td>\n",
       "      <td>2018.0</td>\n",
       "      <td>55</td>\n",
       "      <td>NaN</td>\n",
       "      <td>PG</td>\n",
       "      <td>42468</td>\n",
       "      <td>1939</td>\n",
       "      <td>Alpha Animation</td>\n",
       "    </tr>\n",
       "    <tr>\n",
       "      <th>3556</th>\n",
       "      <td>Zhandou Wang Zhi Jufeng Zhan Hun 5: Heti Fanwa...</td>\n",
       "      <td>2019.0</td>\n",
       "      <td>49</td>\n",
       "      <td>NaN</td>\n",
       "      <td>NaN</td>\n",
       "      <td>42979</td>\n",
       "      <td>1939</td>\n",
       "      <td>Alpha Animation</td>\n",
       "    </tr>\n",
       "    <tr>\n",
       "      <th>3557</th>\n",
       "      <td>Jingju Mao Zhi Cheng Feng Polang</td>\n",
       "      <td>2018.0</td>\n",
       "      <td>55</td>\n",
       "      <td>NaN</td>\n",
       "      <td>PG</td>\n",
       "      <td>42146</td>\n",
       "      <td>2046</td>\n",
       "      <td>Dazzling Star</td>\n",
       "    </tr>\n",
       "    <tr>\n",
       "      <th>3558</th>\n",
       "      <td>Jingju Mao</td>\n",
       "      <td>2015.0</td>\n",
       "      <td>50</td>\n",
       "      <td>NaN</td>\n",
       "      <td>PG</td>\n",
       "      <td>42033</td>\n",
       "      <td>2046</td>\n",
       "      <td>Dazzling Star</td>\n",
       "    </tr>\n",
       "    <tr>\n",
       "      <th>3559</th>\n",
       "      <td>Jingju Mao Zhi Xinnian de Maoxian</td>\n",
       "      <td>2017.0</td>\n",
       "      <td>48</td>\n",
       "      <td>NaN</td>\n",
       "      <td>PG</td>\n",
       "      <td>42144</td>\n",
       "      <td>2046</td>\n",
       "      <td>Dazzling Star</td>\n",
       "    </tr>\n",
       "  </tbody>\n",
       "</table>\n",
       "<p>3560 rows × 8 columns</p>\n",
       "</div>"
      ],
      "text/plain": [
       "                                                 naslov  zacetek  \\\n",
       "0                                            Death Note   2006.0   \n",
       "1                                         One Punch Man   2015.0   \n",
       "2                                Hunter x Hunter (2011)   2011.0   \n",
       "3                            Kiseijuu: Sei no Kakuritsu   2014.0   \n",
       "4                                          Death Parade   2015.0   \n",
       "...                                                 ...      ...   \n",
       "3555                 Zhandou Wang Zhi Jufeng Zhan Hun 5   2018.0   \n",
       "3556  Zhandou Wang Zhi Jufeng Zhan Hun 5: Heti Fanwa...   2019.0   \n",
       "3557                   Jingju Mao Zhi Cheng Feng Polang   2018.0   \n",
       "3558                                         Jingju Mao   2015.0   \n",
       "3559                  Jingju Mao Zhi Xinnian de Maoxian   2017.0   \n",
       "\n",
       "      stevilo_clenov  nova ocena oznaka  id animeja  id studia  \\\n",
       "0            2444192        8.95      R        1535         11   \n",
       "1            2008875        8.77      R       30276         11   \n",
       "2            1559355        9.43  PG-13       11061         11   \n",
       "3            1189661        8.35      R       22535         11   \n",
       "4            1150531        8.07      R       28223         11   \n",
       "...              ...         ...    ...         ...        ...   \n",
       "3555              55         NaN     PG       42468       1939   \n",
       "3556              49         NaN    NaN       42979       1939   \n",
       "3557              55         NaN     PG       42146       2046   \n",
       "3558              50         NaN     PG       42033       2046   \n",
       "3559              48         NaN     PG       42144       2046   \n",
       "\n",
       "               studio  \n",
       "0            Madhouse  \n",
       "1            Madhouse  \n",
       "2            Madhouse  \n",
       "3            Madhouse  \n",
       "4            Madhouse  \n",
       "...               ...  \n",
       "3555  Alpha Animation  \n",
       "3556  Alpha Animation  \n",
       "3557    Dazzling Star  \n",
       "3558    Dazzling Star  \n",
       "3559    Dazzling Star  \n",
       "\n",
       "[3560 rows x 8 columns]"
      ]
     },
     "execution_count": 126,
     "metadata": {},
     "output_type": "execute_result"
    }
   ],
   "source": [
    "studii_in_animeji = pd.merge(s_animeji, studii, left_on='studio', right_on='id_studija').rename(columns={'studio_x': 'id studia', 'studio_y': 'studio', 'anime': 'id animeja'})[['naslov', 'zacetek', 'stevilo_clenov', 'nova ocena', 'oznaka', 'id animeja', 'id studia', 'studio']]\n",
    "studii_in_animeji"
   ]
  },
  {
   "cell_type": "code",
   "execution_count": 127,
   "metadata": {},
   "outputs": [
    {
     "data": {
      "text/plain": [
       "studio\n",
       "Toei Animation          246\n",
       "Sunrise                 172\n",
       "Madhouse                138\n",
       "Studio Deen             133\n",
       "J.C.Staff               124\n",
       "Nippon Animation        118\n",
       "TMS Entertainment       102\n",
       "Tatsunoko Production    101\n",
       "Studio Pierrot          101\n",
       "OLM                      84\n",
       "dtype: int64"
      ]
     },
     "execution_count": 127,
     "metadata": {},
     "output_type": "execute_result"
    }
   ],
   "source": [
    "studii_in_animeji.groupby('studio').size().sort_values(ascending=False).head(10)"
   ]
  },
  {
   "cell_type": "markdown",
   "metadata": {},
   "source": [
    "Vidimo, da je studio z največjim številom animejev **Toei Animation**. Poglejmo, katere je animeje delal tisti studio."
   ]
  },
  {
   "cell_type": "code",
   "execution_count": 128,
   "metadata": {},
   "outputs": [
    {
     "data": {
      "text/html": [
       "<div>\n",
       "<style scoped>\n",
       "    .dataframe tbody tr th:only-of-type {\n",
       "        vertical-align: middle;\n",
       "    }\n",
       "\n",
       "    .dataframe tbody tr th {\n",
       "        vertical-align: top;\n",
       "    }\n",
       "\n",
       "    .dataframe thead th {\n",
       "        text-align: right;\n",
       "    }\n",
       "</style>\n",
       "<table border=\"1\" class=\"dataframe\">\n",
       "  <thead>\n",
       "    <tr style=\"text-align: right;\">\n",
       "      <th></th>\n",
       "      <th>naslov</th>\n",
       "      <th>zacetek</th>\n",
       "      <th>stevilo_clenov</th>\n",
       "      <th>nova ocena</th>\n",
       "      <th>oznaka</th>\n",
       "      <th>id animeja</th>\n",
       "      <th>id studia</th>\n",
       "      <th>studio</th>\n",
       "    </tr>\n",
       "  </thead>\n",
       "  <tbody>\n",
       "    <tr>\n",
       "      <th>1306</th>\n",
       "      <td>Dragon Ball Z</td>\n",
       "      <td>1989.0</td>\n",
       "      <td>849473</td>\n",
       "      <td>8.16</td>\n",
       "      <td>PG-13</td>\n",
       "      <td>813</td>\n",
       "      <td>18</td>\n",
       "      <td>Toei Animation</td>\n",
       "    </tr>\n",
       "    <tr>\n",
       "      <th>1307</th>\n",
       "      <td>Dragon Ball</td>\n",
       "      <td>1986.0</td>\n",
       "      <td>701797</td>\n",
       "      <td>7.56</td>\n",
       "      <td>PG-13</td>\n",
       "      <td>223</td>\n",
       "      <td>18</td>\n",
       "      <td>Toei Animation</td>\n",
       "    </tr>\n",
       "    <tr>\n",
       "      <th>1308</th>\n",
       "      <td>Dragon Ball Super</td>\n",
       "      <td>2015.0</td>\n",
       "      <td>510452</td>\n",
       "      <td>6.62</td>\n",
       "      <td>PG-13</td>\n",
       "      <td>30694</td>\n",
       "      <td>18</td>\n",
       "      <td>Toei Animation</td>\n",
       "    </tr>\n",
       "    <tr>\n",
       "      <th>1309</th>\n",
       "      <td>Dragon Ball GT</td>\n",
       "      <td>1996.0</td>\n",
       "      <td>455362</td>\n",
       "      <td>3.95</td>\n",
       "      <td>PG-13</td>\n",
       "      <td>225</td>\n",
       "      <td>18</td>\n",
       "      <td>Toei Animation</td>\n",
       "    </tr>\n",
       "    <tr>\n",
       "      <th>1310</th>\n",
       "      <td>Lovely★Complex</td>\n",
       "      <td>2007.0</td>\n",
       "      <td>422034</td>\n",
       "      <td>7.20</td>\n",
       "      <td>PG-13</td>\n",
       "      <td>2034</td>\n",
       "      <td>18</td>\n",
       "      <td>Toei Animation</td>\n",
       "    </tr>\n",
       "  </tbody>\n",
       "</table>\n",
       "</div>"
      ],
      "text/plain": [
       "                 naslov  zacetek  stevilo_clenov  nova ocena oznaka  \\\n",
       "1306      Dragon Ball Z   1989.0          849473        8.16  PG-13   \n",
       "1307        Dragon Ball   1986.0          701797        7.56  PG-13   \n",
       "1308  Dragon Ball Super   2015.0          510452        6.62  PG-13   \n",
       "1309     Dragon Ball GT   1996.0          455362        3.95  PG-13   \n",
       "1310     Lovely★Complex   2007.0          422034        7.20  PG-13   \n",
       "\n",
       "      id animeja  id studia          studio  \n",
       "1306         813         18  Toei Animation  \n",
       "1307         223         18  Toei Animation  \n",
       "1308       30694         18  Toei Animation  \n",
       "1309         225         18  Toei Animation  \n",
       "1310        2034         18  Toei Animation  "
      ]
     },
     "execution_count": 128,
     "metadata": {},
     "output_type": "execute_result"
    }
   ],
   "source": [
    "studii_in_animeji[studii_in_animeji['studio'] == 'Toei Animation'].head(5)"
   ]
  },
  {
   "cell_type": "code",
   "execution_count": 129,
   "metadata": {},
   "outputs": [
    {
     "data": {
      "text/html": [
       "<div>\n",
       "<style scoped>\n",
       "    .dataframe tbody tr th:only-of-type {\n",
       "        vertical-align: middle;\n",
       "    }\n",
       "\n",
       "    .dataframe tbody tr th {\n",
       "        vertical-align: top;\n",
       "    }\n",
       "\n",
       "    .dataframe thead th {\n",
       "        text-align: right;\n",
       "    }\n",
       "</style>\n",
       "<table border=\"1\" class=\"dataframe\">\n",
       "  <thead>\n",
       "    <tr style=\"text-align: right;\">\n",
       "      <th></th>\n",
       "      <th>naslov</th>\n",
       "      <th>zacetek</th>\n",
       "      <th>stevilo_clenov</th>\n",
       "      <th>nova ocena</th>\n",
       "      <th>oznaka</th>\n",
       "      <th>id animeja</th>\n",
       "      <th>id studia</th>\n",
       "      <th>studio</th>\n",
       "    </tr>\n",
       "  </thead>\n",
       "  <tbody>\n",
       "    <tr>\n",
       "      <th>1520</th>\n",
       "      <td>Ookami Shounen Ken</td>\n",
       "      <td>1963.0</td>\n",
       "      <td>416</td>\n",
       "      <td>NaN</td>\n",
       "      <td>G</td>\n",
       "      <td>17521</td>\n",
       "      <td>18</td>\n",
       "      <td>Toei Animation</td>\n",
       "    </tr>\n",
       "    <tr>\n",
       "      <th>1506</th>\n",
       "      <td>Shounen Ninja Kaze no Fujimaru</td>\n",
       "      <td>1964.0</td>\n",
       "      <td>630</td>\n",
       "      <td>NaN</td>\n",
       "      <td>NaN</td>\n",
       "      <td>13307</td>\n",
       "      <td>18</td>\n",
       "      <td>Toei Animation</td>\n",
       "    </tr>\n",
       "    <tr>\n",
       "      <th>1519</th>\n",
       "      <td>Hustle Punch</td>\n",
       "      <td>1965.0</td>\n",
       "      <td>421</td>\n",
       "      <td>NaN</td>\n",
       "      <td>PG</td>\n",
       "      <td>19681</td>\n",
       "      <td>18</td>\n",
       "      <td>Toei Animation</td>\n",
       "    </tr>\n",
       "    <tr>\n",
       "      <th>1522</th>\n",
       "      <td>Uchuu Patrol Hopper</td>\n",
       "      <td>1965.0</td>\n",
       "      <td>404</td>\n",
       "      <td>NaN</td>\n",
       "      <td>G</td>\n",
       "      <td>12897</td>\n",
       "      <td>18</td>\n",
       "      <td>Toei Animation</td>\n",
       "    </tr>\n",
       "    <tr>\n",
       "      <th>1511</th>\n",
       "      <td>Rainbow Sentai Robin</td>\n",
       "      <td>1966.0</td>\n",
       "      <td>565</td>\n",
       "      <td>NaN</td>\n",
       "      <td>G</td>\n",
       "      <td>9438</td>\n",
       "      <td>18</td>\n",
       "      <td>Toei Animation</td>\n",
       "    </tr>\n",
       "    <tr>\n",
       "      <th>...</th>\n",
       "      <td>...</td>\n",
       "      <td>...</td>\n",
       "      <td>...</td>\n",
       "      <td>...</td>\n",
       "      <td>...</td>\n",
       "      <td>...</td>\n",
       "      <td>...</td>\n",
       "      <td>...</td>\n",
       "    </tr>\n",
       "    <tr>\n",
       "      <th>1342</th>\n",
       "      <td>Gegege no Kitarou (2018)</td>\n",
       "      <td>2018.0</td>\n",
       "      <td>39417</td>\n",
       "      <td>0.73</td>\n",
       "      <td>G</td>\n",
       "      <td>37140</td>\n",
       "      <td>18</td>\n",
       "      <td>Toei Animation</td>\n",
       "    </tr>\n",
       "    <tr>\n",
       "      <th>1408</th>\n",
       "      <td>Star☆Twinkle Precure</td>\n",
       "      <td>2019.0</td>\n",
       "      <td>6848</td>\n",
       "      <td>0.44</td>\n",
       "      <td>G</td>\n",
       "      <td>38578</td>\n",
       "      <td>18</td>\n",
       "      <td>Toei Animation</td>\n",
       "    </tr>\n",
       "    <tr>\n",
       "      <th>1550</th>\n",
       "      <td>Oshiri Tantei 3rd Season</td>\n",
       "      <td>2019.0</td>\n",
       "      <td>59</td>\n",
       "      <td>NaN</td>\n",
       "      <td>PG</td>\n",
       "      <td>41777</td>\n",
       "      <td>18</td>\n",
       "      <td>Toei Animation</td>\n",
       "    </tr>\n",
       "    <tr>\n",
       "      <th>1436</th>\n",
       "      <td>Asatir: Mirai no Mukashi Banashi</td>\n",
       "      <td>2020.0</td>\n",
       "      <td>2693</td>\n",
       "      <td>0.09</td>\n",
       "      <td>PG</td>\n",
       "      <td>41558</td>\n",
       "      <td>18</td>\n",
       "      <td>Toei Animation</td>\n",
       "    </tr>\n",
       "    <tr>\n",
       "      <th>1551</th>\n",
       "      <td>Oshiri Tantei 4th Season</td>\n",
       "      <td>2020.0</td>\n",
       "      <td>55</td>\n",
       "      <td>NaN</td>\n",
       "      <td>PG</td>\n",
       "      <td>41778</td>\n",
       "      <td>18</td>\n",
       "      <td>Toei Animation</td>\n",
       "    </tr>\n",
       "  </tbody>\n",
       "</table>\n",
       "<p>246 rows × 8 columns</p>\n",
       "</div>"
      ],
      "text/plain": [
       "                                naslov  zacetek  stevilo_clenov  nova ocena  \\\n",
       "1520                Ookami Shounen Ken   1963.0             416         NaN   \n",
       "1506    Shounen Ninja Kaze no Fujimaru   1964.0             630         NaN   \n",
       "1519                      Hustle Punch   1965.0             421         NaN   \n",
       "1522               Uchuu Patrol Hopper   1965.0             404         NaN   \n",
       "1511              Rainbow Sentai Robin   1966.0             565         NaN   \n",
       "...                                ...      ...             ...         ...   \n",
       "1342          Gegege no Kitarou (2018)   2018.0           39417        0.73   \n",
       "1408              Star☆Twinkle Precure   2019.0            6848        0.44   \n",
       "1550          Oshiri Tantei 3rd Season   2019.0              59         NaN   \n",
       "1436  Asatir: Mirai no Mukashi Banashi   2020.0            2693        0.09   \n",
       "1551          Oshiri Tantei 4th Season   2020.0              55         NaN   \n",
       "\n",
       "     oznaka  id animeja  id studia          studio  \n",
       "1520      G       17521         18  Toei Animation  \n",
       "1506    NaN       13307         18  Toei Animation  \n",
       "1519     PG       19681         18  Toei Animation  \n",
       "1522      G       12897         18  Toei Animation  \n",
       "1511      G        9438         18  Toei Animation  \n",
       "...     ...         ...        ...             ...  \n",
       "1342      G       37140         18  Toei Animation  \n",
       "1408      G       38578         18  Toei Animation  \n",
       "1550     PG       41777         18  Toei Animation  \n",
       "1436     PG       41558         18  Toei Animation  \n",
       "1551     PG       41778         18  Toei Animation  \n",
       "\n",
       "[246 rows x 8 columns]"
      ]
     },
     "execution_count": 129,
     "metadata": {},
     "output_type": "execute_result"
    }
   ],
   "source": [
    "studii_in_animeji[studii_in_animeji['studio'] == 'Toei Animation'].sort_values('zacetek')"
   ]
  },
  {
   "cell_type": "markdown",
   "metadata": {},
   "source": [
    "Vidimo, da je studio *Toei Animation* aktiven od leta 1963, torej ni presenetljivo, da ima veliko število narejenih animejev."
   ]
  },
  {
   "cell_type": "markdown",
   "metadata": {},
   "source": [
    "Poglejmo, kateri studio ima največje povprečno število členom in največjo povprečno oceno."
   ]
  },
  {
   "cell_type": "code",
   "execution_count": 130,
   "metadata": {},
   "outputs": [
    {
     "data": {
      "text/plain": [
       "studio\n",
       "Wit Studio               778371.0\n",
       "Imagin                   626896.0\n",
       "White Fox                492797.0\n",
       "Kyoto Animation          481288.0\n",
       "Bones                    425011.0\n",
       "Hoods Drifters Studio    396997.0\n",
       "Nut                      380945.0\n",
       "AIC Build                373684.0\n",
       "ufotable                 360097.0\n",
       "Asread                   355856.0\n",
       "Name: stevilo_clenov, dtype: float64"
      ]
     },
     "execution_count": 130,
     "metadata": {},
     "output_type": "execute_result"
    }
   ],
   "source": [
    "round(studii_in_animeji.groupby('studio').mean()['stevilo_clenov'], 0).sort_values(ascending=False).head(10)"
   ]
  },
  {
   "cell_type": "code",
   "execution_count": 131,
   "metadata": {},
   "outputs": [
    {
     "data": {
      "text/html": [
       "<div>\n",
       "<style scoped>\n",
       "    .dataframe tbody tr th:only-of-type {\n",
       "        vertical-align: middle;\n",
       "    }\n",
       "\n",
       "    .dataframe tbody tr th {\n",
       "        vertical-align: top;\n",
       "    }\n",
       "\n",
       "    .dataframe thead th {\n",
       "        text-align: right;\n",
       "    }\n",
       "</style>\n",
       "<table border=\"1\" class=\"dataframe\">\n",
       "  <thead>\n",
       "    <tr style=\"text-align: right;\">\n",
       "      <th></th>\n",
       "      <th>naslov</th>\n",
       "      <th>zacetek</th>\n",
       "      <th>stevilo_clenov</th>\n",
       "      <th>nova ocena</th>\n",
       "      <th>oznaka</th>\n",
       "      <th>id animeja</th>\n",
       "      <th>id studia</th>\n",
       "      <th>studio</th>\n",
       "    </tr>\n",
       "  </thead>\n",
       "  <tbody>\n",
       "    <tr>\n",
       "      <th>138</th>\n",
       "      <td>Shingeki no Kyojin</td>\n",
       "      <td>2013.0</td>\n",
       "      <td>2357843</td>\n",
       "      <td>8.77</td>\n",
       "      <td>R</td>\n",
       "      <td>16498</td>\n",
       "      <td>858</td>\n",
       "      <td>Wit Studio</td>\n",
       "    </tr>\n",
       "    <tr>\n",
       "      <th>139</th>\n",
       "      <td>Shingeki no Kyojin Season 2</td>\n",
       "      <td>2017.0</td>\n",
       "      <td>1449858</td>\n",
       "      <td>8.14</td>\n",
       "      <td>R</td>\n",
       "      <td>25777</td>\n",
       "      <td>858</td>\n",
       "      <td>Wit Studio</td>\n",
       "    </tr>\n",
       "    <tr>\n",
       "      <th>140</th>\n",
       "      <td>Shingeki no Kyojin Season 3</td>\n",
       "      <td>2018.0</td>\n",
       "      <td>1081672</td>\n",
       "      <td>8.10</td>\n",
       "      <td>R</td>\n",
       "      <td>35760</td>\n",
       "      <td>858</td>\n",
       "      <td>Wit Studio</td>\n",
       "    </tr>\n",
       "    <tr>\n",
       "      <th>141</th>\n",
       "      <td>Shingeki no Kyojin Season 3 Part 2</td>\n",
       "      <td>2019.0</td>\n",
       "      <td>938570</td>\n",
       "      <td>9.13</td>\n",
       "      <td>R</td>\n",
       "      <td>38524</td>\n",
       "      <td>858</td>\n",
       "      <td>Wit Studio</td>\n",
       "    </tr>\n",
       "    <tr>\n",
       "      <th>142</th>\n",
       "      <td>Owari no Seraph</td>\n",
       "      <td>2015.0</td>\n",
       "      <td>845584</td>\n",
       "      <td>6.93</td>\n",
       "      <td>R</td>\n",
       "      <td>26243</td>\n",
       "      <td>858</td>\n",
       "      <td>Wit Studio</td>\n",
       "    </tr>\n",
       "    <tr>\n",
       "      <th>...</th>\n",
       "      <td>...</td>\n",
       "      <td>...</td>\n",
       "      <td>...</td>\n",
       "      <td>...</td>\n",
       "      <td>...</td>\n",
       "      <td>...</td>\n",
       "      <td>...</td>\n",
       "      <td>...</td>\n",
       "    </tr>\n",
       "    <tr>\n",
       "      <th>145</th>\n",
       "      <td>Koutetsujou no Kabaneri</td>\n",
       "      <td>2016.0</td>\n",
       "      <td>577041</td>\n",
       "      <td>5.13</td>\n",
       "      <td>R</td>\n",
       "      <td>28623</td>\n",
       "      <td>858</td>\n",
       "      <td>Wit Studio</td>\n",
       "    </tr>\n",
       "    <tr>\n",
       "      <th>146</th>\n",
       "      <td>Owari no Seraph: Nagoya Kessen-hen</td>\n",
       "      <td>2015.0</td>\n",
       "      <td>512333</td>\n",
       "      <td>5.26</td>\n",
       "      <td>R</td>\n",
       "      <td>28927</td>\n",
       "      <td>858</td>\n",
       "      <td>Wit Studio</td>\n",
       "    </tr>\n",
       "    <tr>\n",
       "      <th>147</th>\n",
       "      <td>Koi wa Ameagari no You ni</td>\n",
       "      <td>2018.0</td>\n",
       "      <td>190349</td>\n",
       "      <td>3.35</td>\n",
       "      <td>PG-13</td>\n",
       "      <td>34984</td>\n",
       "      <td>858</td>\n",
       "      <td>Wit Studio</td>\n",
       "    </tr>\n",
       "    <tr>\n",
       "      <th>148</th>\n",
       "      <td>Hoozuki no Reitetsu</td>\n",
       "      <td>2014.0</td>\n",
       "      <td>102422</td>\n",
       "      <td>3.56</td>\n",
       "      <td>PG-13</td>\n",
       "      <td>20431</td>\n",
       "      <td>858</td>\n",
       "      <td>Wit Studio</td>\n",
       "    </tr>\n",
       "    <tr>\n",
       "      <th>149</th>\n",
       "      <td>Rolling☆Girls</td>\n",
       "      <td>2015.0</td>\n",
       "      <td>76262</td>\n",
       "      <td>1.06</td>\n",
       "      <td>PG-13</td>\n",
       "      <td>25867</td>\n",
       "      <td>858</td>\n",
       "      <td>Wit Studio</td>\n",
       "    </tr>\n",
       "  </tbody>\n",
       "</table>\n",
       "<p>12 rows × 8 columns</p>\n",
       "</div>"
      ],
      "text/plain": [
       "                                 naslov  zacetek  stevilo_clenov  nova ocena  \\\n",
       "138                  Shingeki no Kyojin   2013.0         2357843        8.77   \n",
       "139         Shingeki no Kyojin Season 2   2017.0         1449858        8.14   \n",
       "140         Shingeki no Kyojin Season 3   2018.0         1081672        8.10   \n",
       "141  Shingeki no Kyojin Season 3 Part 2   2019.0          938570        9.13   \n",
       "142                     Owari no Seraph   2015.0          845584        6.93   \n",
       "..                                  ...      ...             ...         ...   \n",
       "145             Koutetsujou no Kabaneri   2016.0          577041        5.13   \n",
       "146  Owari no Seraph: Nagoya Kessen-hen   2015.0          512333        5.26   \n",
       "147           Koi wa Ameagari no You ni   2018.0          190349        3.35   \n",
       "148                 Hoozuki no Reitetsu   2014.0          102422        3.56   \n",
       "149                       Rolling☆Girls   2015.0           76262        1.06   \n",
       "\n",
       "    oznaka  id animeja  id studia      studio  \n",
       "138      R       16498        858  Wit Studio  \n",
       "139      R       25777        858  Wit Studio  \n",
       "140      R       35760        858  Wit Studio  \n",
       "141      R       38524        858  Wit Studio  \n",
       "142      R       26243        858  Wit Studio  \n",
       "..     ...         ...        ...         ...  \n",
       "145      R       28623        858  Wit Studio  \n",
       "146      R       28927        858  Wit Studio  \n",
       "147  PG-13       34984        858  Wit Studio  \n",
       "148  PG-13       20431        858  Wit Studio  \n",
       "149  PG-13       25867        858  Wit Studio  \n",
       "\n",
       "[12 rows x 8 columns]"
      ]
     },
     "execution_count": 131,
     "metadata": {},
     "output_type": "execute_result"
    }
   ],
   "source": [
    "studii_in_animeji[studii_in_animeji['studio'] == 'Wit Studio']"
   ]
  },
  {
   "cell_type": "markdown",
   "metadata": {},
   "source": [
    "Ker je **Wit Studio** aktiven le 8 let, ni presenetljivo, da ima le 12 animejev narejenih. Vseeno, njihovi animeji so zelo popularni in imajo visoke ocene."
   ]
  },
  {
   "cell_type": "code",
   "execution_count": 132,
   "metadata": {},
   "outputs": [
    {
     "data": {
      "text/plain": [
       "studio\n",
       "Imagin                   7.95\n",
       "Wit Studio               6.25\n",
       "Kyoto Animation          5.78\n",
       "Orange                   5.76\n",
       "Hoods Drifters Studio    5.75\n",
       "White Fox                5.05\n",
       "Nut                      4.86\n",
       "David Production         4.44\n",
       "Trigger                  4.40\n",
       "AIC Build                4.28\n",
       "Name: nova ocena, dtype: float64"
      ]
     },
     "execution_count": 132,
     "metadata": {},
     "output_type": "execute_result"
    }
   ],
   "source": [
    "round(studii_in_animeji.groupby('studio').mean()['nova ocena'], 2).sort_values(ascending=False).head(10)"
   ]
  },
  {
   "cell_type": "code",
   "execution_count": 133,
   "metadata": {},
   "outputs": [
    {
     "data": {
      "text/html": [
       "<div>\n",
       "<style scoped>\n",
       "    .dataframe tbody tr th:only-of-type {\n",
       "        vertical-align: middle;\n",
       "    }\n",
       "\n",
       "    .dataframe tbody tr th {\n",
       "        vertical-align: top;\n",
       "    }\n",
       "\n",
       "    .dataframe thead th {\n",
       "        text-align: right;\n",
       "    }\n",
       "</style>\n",
       "<table border=\"1\" class=\"dataframe\">\n",
       "  <thead>\n",
       "    <tr style=\"text-align: right;\">\n",
       "      <th></th>\n",
       "      <th>naslov</th>\n",
       "      <th>zacetek</th>\n",
       "      <th>stevilo_clenov</th>\n",
       "      <th>nova ocena</th>\n",
       "      <th>oznaka</th>\n",
       "      <th>id animeja</th>\n",
       "      <th>id studia</th>\n",
       "      <th>studio</th>\n",
       "    </tr>\n",
       "  </thead>\n",
       "  <tbody>\n",
       "    <tr>\n",
       "      <th>1696</th>\n",
       "      <td>Ookami to Koushinryou</td>\n",
       "      <td>2008.0</td>\n",
       "      <td>626896</td>\n",
       "      <td>7.95</td>\n",
       "      <td>PG-13</td>\n",
       "      <td>2966</td>\n",
       "      <td>75</td>\n",
       "      <td>Imagin</td>\n",
       "    </tr>\n",
       "  </tbody>\n",
       "</table>\n",
       "</div>"
      ],
      "text/plain": [
       "                     naslov  zacetek  stevilo_clenov  nova ocena oznaka  \\\n",
       "1696  Ookami to Koushinryou   2008.0          626896        7.95  PG-13   \n",
       "\n",
       "      id animeja  id studia  studio  \n",
       "1696        2966         75  Imagin  "
      ]
     },
     "execution_count": 133,
     "metadata": {},
     "output_type": "execute_result"
    }
   ],
   "source": [
    "studii_in_animeji[studii_in_animeji['studio'] == 'Imagin']"
   ]
  },
  {
   "cell_type": "markdown",
   "metadata": {},
   "source": [
    "Največje povprečno število členov torej ima studio **Wit Studio**. Vidimo, da studio ni delal na velikemu številu animejev, ampak so skoraj vsi njegovi animeji zelo popularni in z dobrimi ocenami in zato ima veliko povprečno število členov in visoko povprečno oceno.<br>\n",
    "Studio z največjo povprečno oceno je **Imagin** in vidimo, da je ta studio delal le en anime, ampak vidimo, da je naslednji studio z največjo povprečno oceno **Wit Studio**."
   ]
  },
  {
   "cell_type": "markdown",
   "metadata": {},
   "source": [
    "Zdaj poglejmo, kateri studii so delali najbolj popularne in najboljše animeje."
   ]
  },
  {
   "cell_type": "code",
   "execution_count": 134,
   "metadata": {},
   "outputs": [
    {
     "data": {
      "text/plain": [
       "<AxesSubplot:xlabel='studio'>"
      ]
     },
     "execution_count": 134,
     "metadata": {},
     "output_type": "execute_result"
    },
    {
     "data": {
      "image/png": "[encoded data removed]",
      "text/plain": [
       "<Figure size 432x288 with 1 Axes>"
      ]
     },
     "metadata": {
      "needs_background": "light"
     },
     "output_type": "display_data"
    }
   ],
   "source": [
    "studii_in_animeji[studii_in_animeji['stevilo_clenov'] >= 1000000].groupby('studio').size().sort_values().plot.bar(color='#201ba8')"
   ]
  },
  {
   "cell_type": "code",
   "execution_count": 135,
   "metadata": {},
   "outputs": [
    {
     "data": {
      "text/html": [
       "<div>\n",
       "<style scoped>\n",
       "    .dataframe tbody tr th:only-of-type {\n",
       "        vertical-align: middle;\n",
       "    }\n",
       "\n",
       "    .dataframe tbody tr th {\n",
       "        vertical-align: top;\n",
       "    }\n",
       "\n",
       "    .dataframe thead th {\n",
       "        text-align: right;\n",
       "    }\n",
       "</style>\n",
       "<table border=\"1\" class=\"dataframe\">\n",
       "  <thead>\n",
       "    <tr style=\"text-align: right;\">\n",
       "      <th></th>\n",
       "      <th>naslov</th>\n",
       "      <th>zacetek</th>\n",
       "      <th>stevilo_clenov</th>\n",
       "      <th>nova ocena</th>\n",
       "      <th>oznaka</th>\n",
       "      <th>id animeja</th>\n",
       "      <th>id studia</th>\n",
       "      <th>studio</th>\n",
       "    </tr>\n",
       "  </thead>\n",
       "  <tbody>\n",
       "    <tr>\n",
       "      <th>150</th>\n",
       "      <td>Fullmetal Alchemist: Brotherhood</td>\n",
       "      <td>2009.0</td>\n",
       "      <td>2116735</td>\n",
       "      <td>9.56</td>\n",
       "      <td>R</td>\n",
       "      <td>5114</td>\n",
       "      <td>4</td>\n",
       "      <td>Bones</td>\n",
       "    </tr>\n",
       "    <tr>\n",
       "      <th>151</th>\n",
       "      <td>Boku no Hero Academia</td>\n",
       "      <td>2016.0</td>\n",
       "      <td>1795271</td>\n",
       "      <td>8.28</td>\n",
       "      <td>PG-13</td>\n",
       "      <td>31964</td>\n",
       "      <td>4</td>\n",
       "      <td>Bones</td>\n",
       "    </tr>\n",
       "    <tr>\n",
       "      <th>152</th>\n",
       "      <td>Boku no Hero Academia 2nd Season</td>\n",
       "      <td>2017.0</td>\n",
       "      <td>1515190</td>\n",
       "      <td>8.16</td>\n",
       "      <td>PG-13</td>\n",
       "      <td>33486</td>\n",
       "      <td>4</td>\n",
       "      <td>Bones</td>\n",
       "    </tr>\n",
       "    <tr>\n",
       "      <th>153</th>\n",
       "      <td>Noragami</td>\n",
       "      <td>2014.0</td>\n",
       "      <td>1464751</td>\n",
       "      <td>8.01</td>\n",
       "      <td>PG-13</td>\n",
       "      <td>20507</td>\n",
       "      <td>4</td>\n",
       "      <td>Bones</td>\n",
       "    </tr>\n",
       "    <tr>\n",
       "      <th>154</th>\n",
       "      <td>Boku no Hero Academia 3rd Season</td>\n",
       "      <td>2018.0</td>\n",
       "      <td>1247636</td>\n",
       "      <td>7.88</td>\n",
       "      <td>PG-13</td>\n",
       "      <td>36456</td>\n",
       "      <td>4</td>\n",
       "      <td>Bones</td>\n",
       "    </tr>\n",
       "    <tr>\n",
       "      <th>155</th>\n",
       "      <td>Soul Eater</td>\n",
       "      <td>2008.0</td>\n",
       "      <td>1179109</td>\n",
       "      <td>7.79</td>\n",
       "      <td>PG-13</td>\n",
       "      <td>3588</td>\n",
       "      <td>4</td>\n",
       "      <td>Bones</td>\n",
       "    </tr>\n",
       "    <tr>\n",
       "      <th>156</th>\n",
       "      <td>Mob Psycho 100</td>\n",
       "      <td>2016.0</td>\n",
       "      <td>1176050</td>\n",
       "      <td>8.43</td>\n",
       "      <td>PG-13</td>\n",
       "      <td>32182</td>\n",
       "      <td>4</td>\n",
       "      <td>Bones</td>\n",
       "    </tr>\n",
       "    <tr>\n",
       "      <th>157</th>\n",
       "      <td>Fullmetal Alchemist</td>\n",
       "      <td>2003.0</td>\n",
       "      <td>1117863</td>\n",
       "      <td>8.12</td>\n",
       "      <td>PG-13</td>\n",
       "      <td>121</td>\n",
       "      <td>4</td>\n",
       "      <td>Bones</td>\n",
       "    </tr>\n",
       "  </tbody>\n",
       "</table>\n",
       "</div>"
      ],
      "text/plain": [
       "                               naslov  zacetek  stevilo_clenov  nova ocena  \\\n",
       "150  Fullmetal Alchemist: Brotherhood   2009.0         2116735        9.56   \n",
       "151             Boku no Hero Academia   2016.0         1795271        8.28   \n",
       "152  Boku no Hero Academia 2nd Season   2017.0         1515190        8.16   \n",
       "153                          Noragami   2014.0         1464751        8.01   \n",
       "154  Boku no Hero Academia 3rd Season   2018.0         1247636        7.88   \n",
       "155                        Soul Eater   2008.0         1179109        7.79   \n",
       "156                    Mob Psycho 100   2016.0         1176050        8.43   \n",
       "157               Fullmetal Alchemist   2003.0         1117863        8.12   \n",
       "\n",
       "    oznaka  id animeja  id studia studio  \n",
       "150      R        5114          4  Bones  \n",
       "151  PG-13       31964          4  Bones  \n",
       "152  PG-13       33486          4  Bones  \n",
       "153  PG-13       20507          4  Bones  \n",
       "154  PG-13       36456          4  Bones  \n",
       "155  PG-13        3588          4  Bones  \n",
       "156  PG-13       32182          4  Bones  \n",
       "157  PG-13         121          4  Bones  "
      ]
     },
     "execution_count": 135,
     "metadata": {},
     "output_type": "execute_result"
    }
   ],
   "source": [
    "studii_in_animeji[(studii_in_animeji['stevilo_clenov'] >= 1000000) & (studii_in_animeji['studio'] == 'Bones')]"
   ]
  },
  {
   "cell_type": "markdown",
   "metadata": {},
   "source": [
    "Največ najbolj popularnih animejev je delal studio **Bones**."
   ]
  },
  {
   "cell_type": "code",
   "execution_count": 136,
   "metadata": {},
   "outputs": [
    {
     "data": {
      "text/plain": [
       "<AxesSubplot:xlabel='studio'>"
      ]
     },
     "execution_count": 136,
     "metadata": {},
     "output_type": "execute_result"
    },
    {
     "data": {
      "image/png": "[encoded data removed]",
      "text/plain": [
       "<Figure size 432x288 with 1 Axes>"
      ]
     },
     "metadata": {
      "needs_background": "light"
     },
     "output_type": "display_data"
    }
   ],
   "source": [
    "studii_in_animeji[(studii_in_animeji['stevilo_clenov'] >= 800000) & (studii_in_animeji['nova ocena'] > 8)].groupby('studio').size().sort_values().plot.bar(color='#201ba8')"
   ]
  },
  {
   "cell_type": "markdown",
   "metadata": {},
   "source": [
    "Studio, ki je delal največje število in najboljših animejev, je studio **Bones**."
   ]
  },
  {
   "cell_type": "code",
   "execution_count": 137,
   "metadata": {},
   "outputs": [],
   "source": [
    "vec_kot_50 = studii_in_animeji.groupby('id studia').size() > 50\n",
    "stevilo = vec_kot_50.to_frame()\n",
    "je_vec_kot_50 = pd.merge(studii, stevilo, left_on='id_studija', right_on='id studia').rename(columns={0: 'več kot 50'})\n",
    "studii_več_kot_50 = pd.merge(je_vec_kot_50, studii_in_animeji)"
   ]
  },
  {
   "cell_type": "code",
   "execution_count": 138,
   "metadata": {},
   "outputs": [
    {
     "data": {
      "text/plain": [
       "<AxesSubplot:xlabel='studio'>"
      ]
     },
     "execution_count": 138,
     "metadata": {},
     "output_type": "execute_result"
    },
    {
     "data": {
      "image/png": "[encoded data removed]",
      "text/plain": [
       "<Figure size 432x288 with 1 Axes>"
      ]
     },
     "metadata": {
      "needs_background": "light"
     },
     "output_type": "display_data"
    }
   ],
   "source": [
    "studii_več_kot_50[studii_več_kot_50['več kot 50'] == True].groupby('studio').mean()['stevilo_clenov'].sort_values().plot.bar(color='#201ba8')"
   ]
  },
  {
   "cell_type": "code",
   "execution_count": 139,
   "metadata": {},
   "outputs": [
    {
     "data": {
      "text/plain": [
       "<AxesSubplot:xlabel='studio'>"
      ]
     },
     "execution_count": 139,
     "metadata": {},
     "output_type": "execute_result"
    },
    {
     "data": {
      "image/png": "[encoded data removed]",
      "text/plain": [
       "<Figure size 432x288 with 1 Axes>"
      ]
     },
     "metadata": {
      "needs_background": "light"
     },
     "output_type": "display_data"
    }
   ],
   "source": [
    "studii_več_kot_50[studii_več_kot_50['več kot 50'] == True].groupby('studio').mean()['nova ocena'].sort_values().plot.bar(color='#201ba8')"
   ]
  },
  {
   "cell_type": "markdown",
   "metadata": {},
   "source": [
    "Vidimo, da *ta popularnost in ocena odvisni od studia, ki je naredil anime*, kot smo predpostavili."
   ]
  },
  {
   "cell_type": "markdown",
   "metadata": {},
   "source": [
    "Zdaj laho preverimo, katere žanre najpogostejše delajo studii."
   ]
  },
  {
   "cell_type": "code",
   "execution_count": 140,
   "metadata": {},
   "outputs": [],
   "source": [
    "stu_in_zanri = pd.merge(studii_a, zanri)\n",
    "studii_in_zanri = pd.merge(stu_in_zanri, studii, left_on='studio', right_on='id_studija').rename(columns={'studio_x': 'id studia', 'studio_y': 'studio'})[['anime', 'zanr', 'id studia', 'studio']]"
   ]
  },
  {
   "cell_type": "code",
   "execution_count": 141,
   "metadata": {},
   "outputs": [
    {
     "data": {
      "text/plain": [
       "zanr\n",
       "Comedy       1705\n",
       "Action       1126\n",
       "Adventure     878\n",
       "Fantasy       772\n",
       "Sci-Fi        767\n",
       "dtype: int64"
      ]
     },
     "execution_count": 141,
     "metadata": {},
     "output_type": "execute_result"
    }
   ],
   "source": [
    "studii_in_zanri.groupby('zanr').size().sort_values(ascending=False).head(5)"
   ]
  },
  {
   "cell_type": "markdown",
   "metadata": {},
   "source": [
    "Vidimo, da je tukaj situacija podobna kot za osebe, največ studiev je delalo **komedije**, kar se ne ujema z našo predpostavko, da studii največ delajo akcijske animeje."
   ]
  },
  {
   "cell_type": "markdown",
   "metadata": {},
   "source": [
    "Ostalo nam je še da preverimo katere so animeje, glede na oznako, delali studii."
   ]
  },
  {
   "cell_type": "code",
   "execution_count": 142,
   "metadata": {},
   "outputs": [
    {
     "data": {
      "text/plain": [
       "oznaka\n",
       "PG-13    1968\n",
       "G         650\n",
       "R         414\n",
       "PG        378\n",
       "R+         87\n",
       "dtype: int64"
      ]
     },
     "execution_count": 142,
     "metadata": {},
     "output_type": "execute_result"
    }
   ],
   "source": [
    "studii_in_animeji.groupby('oznaka').size().sort_values(ascending=False)"
   ]
  },
  {
   "cell_type": "markdown",
   "metadata": {},
   "source": [
    "Tukaj vidimo, da je največ studiev delalo animeje z oznako **PG-13**, kot smo predpostavili.\n",
    "***"
   ]
  },
  {
   "cell_type": "code",
   "execution_count": null,
   "metadata": {},
   "outputs": [],
   "source": []
  }
 ],
 "metadata": {
  "kernelspec": {
   "display_name": "Python 3",
   "language": "python",
   "name": "python3"
  },
  "language_info": {
   "codemirror_mode": {
    "name": "ipython",
    "version": 3
   },
   "file_extension": ".py",
   "mimetype": "text/x-python",
   "name": "python",
   "nbconvert_exporter": "python",
   "pygments_lexer": "ipython3",
   "version": "3.8.1"
  }
 },
 "nbformat": 4,
 "nbformat_minor": 4
}
